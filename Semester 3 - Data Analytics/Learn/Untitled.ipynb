{
 "cells": [
  {
   "cell_type": "markdown",
   "id": "5a7766df",
   "metadata": {
    "direction": "rtl"
   },
   "source": [
    "<span dir=\"rtl\" style=\"font-family:B Nazanin\" align=\"right\">\n",
    "    <h1>فصل سوم: تجزیه و تحلیل داده‌ها</h1>\n",
    "    <h2>بخش اول: مفاهیم اولیه تجزیه و تحلیل داده‌ها</h2>\n",
    "</span>"
   ]
  },
  {
   "cell_type": "markdown",
   "id": "5c1b9afe",
   "metadata": {
    "direction": "rtl"
   },
   "source": [
    "<p style = \"font-family:B Nazanin;\">\n",
    "   تجزیه و تحلیل داده‌ها فرایندی است که می‌تواند به کمک روش‌های کمی و کیفی به استخراج اطلاعات ارزشمند از داده‌ها بپردازد. مزایای استفاده از تجزیه و تحلیل داده‌ها عبارتند از: <br>\n",
    "    &nbsp; &nbsp; * بهبود تصمیم‌گیری<br>\n",
    "    &nbsp; &nbsp; * خدمات بهتر به مشتریان<br>\n",
    "    &nbsp; &nbsp; * بازاریابی موثرتر<br>\n",
    "    &nbsp; &nbsp; * عملیات کارآمدتر و صرفه‌جویی در هزینه‌ها <br>\n",
    "    <br>\n",
    "    <br>\n",
    "    انواع روش‌های تجزیه و تحلیل داده‌ها عبارتند از:<br>\n",
    "    &nbsp; &nbsp; * <b>تجزیه و تحلیل توصیفی:</b> در این روش داده‌های گذشته و حال بررسی می‌شود تا وضعیت فعلی توصیف شود و از روی آن بتوان روندها و الگوهای کاری را تشخیص داد. <br>\n",
    "    &nbsp; &nbsp; * <b>تجزیه و تحلیل تشخیصی:</b> از روی داده‌ها تشخیص می‌دهیم که چه عوامل و دلایلی باعث ایجاد شرایط امروز شده‌است.<br>\n",
    "    &nbsp; &nbsp; * <b>تجزیه و تحلیل پیش‌بینی‌کننده:</b> اگر بتوانیم تجزیه و تحلیل را به‌گونه‌ای انجام دهیم که از طریق آن بتوان پیش‌بینی انجام دهیم و یادگیری ماشین را از طریق این پیش‌بینی‌ها رقم بزنیم، به آن تجزیه و تحلیل پیش‌بینی‌کننده می‌گویند. معمولا در این روش مدلسازی آماری اتفاق می‌افتد. <br>\n",
    "    &nbsp; &nbsp; * <b>تجزیه و تحلیل تجویزی:</b> اگر داده‌ها را تجزیه و تحلیل کرده و بررسی و آزمایش انجام دادیم و در نهایت توانستیم یک سری راه‌حل خاص را برای به‌دست‌آوردن نتایج مطلوب‌تر پیشنهاد بدهیم، می‌گوییم تجزیه و تحلیل تجویزی اتفاق افتاده‌است. <br>\n",
    "    <br>\n",
    "    در واقع این روش‌ها در ادامه یکدیگر هستند. یعنی ابتدا وضع گذشته و حال را توصیف می‌کنیم. سپس وضعیت کنونی را تشخیص می‌دهیم. از طریق این موارد آینده را پیش‌بینی می‌کنیم و بر اساس آن برای آینده راه‌حل‌های مناسب تجویز می‌کنیم. \n",
    "</p>"
   ]
  },
  {
   "cell_type": "markdown",
   "id": "a73a9b53",
   "metadata": {
    "direction": "rtl"
   },
   "source": [
    "<p style = \"font-family:B Nazanin;\">\n",
    "    <b>معیارهای کیفیت داده‌ها:</b><br>\n",
    "    * دقت و صحت داده‌ها (Accuracy): داده‌ها باید صحیح باشند. اوپراتور یا سنسوری که داده‌ها را ثبت می‌کند، باید داده‌های صحیح را ثبت کند. <br>\n",
    "    * کامل بودن داده‌ها (Completeness): تا حد امکان داده‌ها باید کامل و جامع باشد و نقصی در آن وجود نداشته باشد. <br>\n",
    "    * قابل اطمینان بودن (Reliability): داده‌ها باید از مراجع و منابع قابل اطمینان و معتبر به دست‌آمده باشند. <br>\n",
    "    * مرتبط بودن داده‌ها (Relevance): داده‌ها باید به هدف ما مرتبط باشد. جمع‌آوری داده‌های بی‌ربط سودی ندارد و کمکی نمی‌کند. <br>\n",
    "    * قابل استفاده بودن (Usability): جمع‌بندی تمام موارد قبل قابل استفاده بودن را مشخص می‌کند. <br>\n",
    "    * ثبات و سازگاری داده (Consistency): داده‌ها در تمام قسمت‌ها باید با هم سازگاری داشته باشند و تناقضی در آن‌ها دیده نشود. <br>\n",
    "    * تفسیرپذیری داده‌ها (Interpretability): داده‌ها باید آنقدر شفاف و واضح باشد تا بتوان آن را تفسیر کرد. <br>\n",
    "    * باورپذیری داده‌ها (Believability): داده‌ها باید منطقی و متناسب با واقعیت باشد. <br>\n",
    "    * به موقع بودن داده‌ها (Timeliness): داده‌ها باید کاملا به‌روز باشد و به صورت بهینه آپدیت شده‌باشد. \n",
    "</p>"
   ]
  },
  {
   "cell_type": "markdown",
   "id": "91660fe8",
   "metadata": {
    "direction": "rtl"
   },
   "source": [
    "<p style = \"font-family:B Nazanin;\">\n",
    "    <b>چهار عمل اصلی پیش‌پردازش داده‌ها:</b><br>\n",
    "    پیش‌پردازش داده‌ها فرایندی است که روی داده‌های اولیه انجام می‌شود تا داده‌ها برای تجزیه و تحلیل آماده شود. این مراحل عباتند از:<br>\n",
    "    * <b>پاکسازی داده‌ها (Data Cleaning):</b> مجموعه فرایندی که باعث می‌شود یک داده اصلاح شود یا اگر داده‌ای نادرست است از سیستم حذف گردد. <br>\n",
    "    * <b>یکپارچه‌سازی داده‌ها (Data Integration):</b> به مجموعه فرایندهایی که باعث می‌شود داده‌ها از منابع مختلف گردآوری شده، تجمیع شوند و یکپارجه گردند، گفته می‌شود. <br>\n",
    "    * <b>کاهش داده‌ها (Data Reduction):</b> فرایندی است که بدون این که به داده‌ها آسیبی وارد شود، تا حد امکان داده‌ها را کاهش دهیم تا فرایند پردازش آن‌ها در زمان کمتر با کیفیت بیشتری انجام شود. <br>\n",
    "    * <b>تبدیل داده‌ها (Data Transformation) و گسسته‌سازی داده‌ها (Data Discretization):</b> به تبدیل فرمت و قالب داده‌ها گفته می‌شود به صورتی که به قالبی تبدیل شود که مناسب برای تجزیه و تحلیل باشد و همچنین تبدیل داده‌های پیوسته (که معمولا از سنسورها گرفته می‌شود) به داده‌های گسسته در این مرحله خواهد بود.  \n",
    "</p>"
   ]
  },
  {
   "cell_type": "markdown",
   "id": "1125990b",
   "metadata": {
    "direction": "rtl"
   },
   "source": [
    "<p style = \"font-family:B Nazanin;\">\n",
    "    <b>فرایند پاکسازی داده‌ها:</b><br>\n",
    "    داده‌هایی که نیاز به پاکسازی دارند:<br>\n",
    "    * سلول خالی (Empty Cell)<br>\n",
    "    * داده با فرمت اشتباه (Data in wrong format)<br>\n",
    "    * داده اشتباهی (Wrong data)<br>\n",
    "    * داده (رکورد) تکراری (Duplicated data)<br>\n",
    "    <br>\n",
    "    <b>فعالیت‌های بخش پاکسازی داده:</b><br>\n",
    "    <b>1. حذف داده‌های تکراری (Remove duplicated data):</b> در این قسمت هدف حذف رکوردهایی است که تمام فیلدهایش یکسان است. ممکن است رکوردهایی وجود داشته باشد که تعدادی از فیلدهای آن با سایر رکوردها یکسان باشد ولی بعضی از فیلدهای آن متفاوت است. این رکوردها را حذف نمی‌کنیم. در اینجا راه تشخیص داده‌های تکراری با استفاده از pandas را بررسی می‌کنیم. فرض می‌کنیم دیتافریم زیر را داشته باشیم:\n",
    "</p>"
   ]
  },
  {
   "cell_type": "code",
   "execution_count": 1,
   "id": "171752d0",
   "metadata": {},
   "outputs": [
    {
     "data": {
      "text/html": [
       "<div>\n",
       "<style scoped>\n",
       "    .dataframe tbody tr th:only-of-type {\n",
       "        vertical-align: middle;\n",
       "    }\n",
       "\n",
       "    .dataframe tbody tr th {\n",
       "        vertical-align: top;\n",
       "    }\n",
       "\n",
       "    .dataframe thead th {\n",
       "        text-align: right;\n",
       "    }\n",
       "</style>\n",
       "<table border=\"1\" class=\"dataframe\">\n",
       "  <thead>\n",
       "    <tr style=\"text-align: right;\">\n",
       "      <th></th>\n",
       "      <th>Name</th>\n",
       "      <th>Family</th>\n",
       "      <th>Age</th>\n",
       "    </tr>\n",
       "  </thead>\n",
       "  <tbody>\n",
       "    <tr>\n",
       "      <th>0</th>\n",
       "      <td>mehdi</td>\n",
       "      <td>abbasi</td>\n",
       "      <td>43</td>\n",
       "    </tr>\n",
       "    <tr>\n",
       "      <th>1</th>\n",
       "      <td>ali</td>\n",
       "      <td>rezaei</td>\n",
       "      <td>14</td>\n",
       "    </tr>\n",
       "    <tr>\n",
       "      <th>2</th>\n",
       "      <td>negin</td>\n",
       "      <td>zandi</td>\n",
       "      <td>37</td>\n",
       "    </tr>\n",
       "    <tr>\n",
       "      <th>3</th>\n",
       "      <td>sara</td>\n",
       "      <td>safari</td>\n",
       "      <td>18</td>\n",
       "    </tr>\n",
       "    <tr>\n",
       "      <th>4</th>\n",
       "      <td>ahmad</td>\n",
       "      <td>tavakoli</td>\n",
       "      <td>370</td>\n",
       "    </tr>\n",
       "    <tr>\n",
       "      <th>5</th>\n",
       "      <td>mehdi</td>\n",
       "      <td>abbasi</td>\n",
       "      <td>43</td>\n",
       "    </tr>\n",
       "    <tr>\n",
       "      <th>6</th>\n",
       "      <td>saeed</td>\n",
       "      <td>sadegi</td>\n",
       "      <td>51</td>\n",
       "    </tr>\n",
       "    <tr>\n",
       "      <th>7</th>\n",
       "      <td>sara</td>\n",
       "      <td>safari</td>\n",
       "      <td>18</td>\n",
       "    </tr>\n",
       "    <tr>\n",
       "      <th>8</th>\n",
       "      <td>negin</td>\n",
       "      <td>safari</td>\n",
       "      <td>37</td>\n",
       "    </tr>\n",
       "    <tr>\n",
       "      <th>9</th>\n",
       "      <td>reza</td>\n",
       "      <td>mousavi</td>\n",
       "      <td>45</td>\n",
       "    </tr>\n",
       "  </tbody>\n",
       "</table>\n",
       "</div>"
      ],
      "text/plain": [
       "    Name    Family  Age\n",
       "0  mehdi    abbasi   43\n",
       "1    ali    rezaei   14\n",
       "2  negin     zandi   37\n",
       "3   sara    safari   18\n",
       "4  ahmad  tavakoli  370\n",
       "5  mehdi    abbasi   43\n",
       "6  saeed    sadegi   51\n",
       "7   sara    safari   18\n",
       "8  negin    safari   37\n",
       "9   reza   mousavi   45"
      ]
     },
     "execution_count": 1,
     "metadata": {},
     "output_type": "execute_result"
    }
   ],
   "source": [
    "import pandas as pd\n",
    "df = pd.DataFrame({\n",
    "    'Name': ['mehdi', 'ali', 'negin', 'sara', 'ahmad', 'mehdi', 'saeed', 'sara', 'negin', 'reza'],\n",
    "    'Family': ['abbasi', 'rezaei', 'zandi', 'safari', 'tavakoli', 'abbasi', 'sadegi', 'safari', 'safari', 'mousavi'],\n",
    "    'Age': [43,14,37,18,370,43,51,18,37,45]\n",
    "})\n",
    "df"
   ]
  },
  {
   "cell_type": "markdown",
   "id": "a2d4ea70",
   "metadata": {
    "direction": "rtl"
   },
   "source": [
    "<p style = \"font-family:B Nazanin;\">\n",
    "     همانطور که مشخص است رکوردهای تکراری در این دیتافریم سطرهای 0 و 5 و همچنین سطرهای 3 و 7 هستند. با استفاده از تابع duplicated می‌توانیم سطرهای تکراری را تشخیص بدهیم:\n",
    "</p>"
   ]
  },
  {
   "cell_type": "code",
   "execution_count": 2,
   "id": "af97a87c",
   "metadata": {},
   "outputs": [
    {
     "data": {
      "text/plain": [
       "0    False\n",
       "1    False\n",
       "2    False\n",
       "3    False\n",
       "4    False\n",
       "5     True\n",
       "6    False\n",
       "7     True\n",
       "8    False\n",
       "9    False\n",
       "dtype: bool"
      ]
     },
     "execution_count": 2,
     "metadata": {},
     "output_type": "execute_result"
    }
   ],
   "source": [
    "df = pd.DataFrame({\n",
    "    'Name': ['mehdi', 'ali', 'negin', 'sara', 'ahmad', 'mehdi', 'saeed', 'sara', 'negin', 'reza'],\n",
    "    'Family': ['abbasi', 'rezaei', 'zandi', 'safari', 'tavakoli', 'abbasi', 'sadegi', 'safari', 'safari', 'mousavi'],\n",
    "    'Age': [43,14,37,18,370,43,51,18,37,45]\n",
    "})\n",
    "df.duplicated()"
   ]
  },
  {
   "cell_type": "markdown",
   "id": "88d30b0d",
   "metadata": {
    "direction": "rtl"
   },
   "source": [
    "<p style = \"font-family:B Nazanin;\">\n",
    "     این تابع یک پارامتر ورودی دلخواه به نام keep دارد. این پارامتر مشخص می‌کند کدام یک از سطرها را به عنوان تکراری محسوب کند. این پارامتر سه مقدار می‌تواند بگیرد: <br>\n",
    "    - 'first': در این حالت اولین مورد از داده‌های تکراری را به عنوان داده اصلی حساب می‌کند و سایر سطرها را به عنوان سطر تکراری در نظر می‌گیرد. <br>\n",
    "    - 'last': در این حالت آخرین مورد از داده‌های تکراری را به عنوان داده اصلی حساب می‌کند و سایر سطرها را به عنوان سطر تکراری در نظر می‌گیرد. <br>\n",
    "    - False: در این حالت تمام سطرها را به عنوان تکراری در نظر می‌گیرد.\n",
    "</p>"
   ]
  },
  {
   "cell_type": "code",
   "execution_count": 3,
   "id": "59e9d827",
   "metadata": {},
   "outputs": [
    {
     "name": "stdout",
     "output_type": "stream",
     "text": [
      "0    False\n",
      "1    False\n",
      "2    False\n",
      "3    False\n",
      "4    False\n",
      "5     True\n",
      "6    False\n",
      "7     True\n",
      "8    False\n",
      "9    False\n",
      "dtype: bool\n",
      "****************************************************************************************************\n",
      "0     True\n",
      "1    False\n",
      "2    False\n",
      "3     True\n",
      "4    False\n",
      "5    False\n",
      "6    False\n",
      "7    False\n",
      "8    False\n",
      "9    False\n",
      "dtype: bool\n",
      "****************************************************************************************************\n",
      "0     True\n",
      "1    False\n",
      "2    False\n",
      "3     True\n",
      "4    False\n",
      "5     True\n",
      "6    False\n",
      "7     True\n",
      "8    False\n",
      "9    False\n",
      "dtype: bool\n"
     ]
    }
   ],
   "source": [
    "df = pd.DataFrame({\n",
    "    'Name': ['mehdi', 'ali', 'negin', 'sara', 'ahmad', 'mehdi', 'saeed', 'sara', 'negin', 'reza'],\n",
    "    'Family': ['abbasi', 'rezaei', 'zandi', 'safari', 'tavakoli', 'abbasi', 'sadegi', 'safari', 'safari', 'mousavi'],\n",
    "    'Age': [43,14,37,18,370,43,51,18,37,45]\n",
    "})\n",
    "print(df.duplicated(keep = 'first'))\n",
    "print('*'*100)\n",
    "print(df.duplicated(keep = 'last'))\n",
    "print('*'*100)\n",
    "print(df.duplicated(keep = False))"
   ]
  },
  {
   "cell_type": "markdown",
   "id": "44e7a4f7",
   "metadata": {
    "direction": "rtl"
   },
   "source": [
    "<p style = \"font-family:B Nazanin;\">\n",
    "     در صورتی که بخواهیم معیار تشخیص تکراری بودن داده‌ها را ستون‌های خاصی قرار دهیم، دو راه مختلف داریم: یکی این که فقط ستون‌های مورد نظر را از دیتافریم انتخاب کنیم و تابع duplicated را روی آن اعمال کنیم: \n",
    "</p>"
   ]
  },
  {
   "cell_type": "code",
   "execution_count": 4,
   "id": "05f3d770",
   "metadata": {},
   "outputs": [
    {
     "data": {
      "text/html": [
       "<div>\n",
       "<style scoped>\n",
       "    .dataframe tbody tr th:only-of-type {\n",
       "        vertical-align: middle;\n",
       "    }\n",
       "\n",
       "    .dataframe tbody tr th {\n",
       "        vertical-align: top;\n",
       "    }\n",
       "\n",
       "    .dataframe thead th {\n",
       "        text-align: right;\n",
       "    }\n",
       "</style>\n",
       "<table border=\"1\" class=\"dataframe\">\n",
       "  <thead>\n",
       "    <tr style=\"text-align: right;\">\n",
       "      <th></th>\n",
       "      <th>Name</th>\n",
       "      <th>Family</th>\n",
       "      <th>Age</th>\n",
       "    </tr>\n",
       "  </thead>\n",
       "  <tbody>\n",
       "    <tr>\n",
       "      <th>0</th>\n",
       "      <td>mehdi</td>\n",
       "      <td>abbasi</td>\n",
       "      <td>43</td>\n",
       "    </tr>\n",
       "    <tr>\n",
       "      <th>1</th>\n",
       "      <td>ali</td>\n",
       "      <td>rezaei</td>\n",
       "      <td>14</td>\n",
       "    </tr>\n",
       "    <tr>\n",
       "      <th>2</th>\n",
       "      <td>negin</td>\n",
       "      <td>zandi</td>\n",
       "      <td>37</td>\n",
       "    </tr>\n",
       "    <tr>\n",
       "      <th>3</th>\n",
       "      <td>sara</td>\n",
       "      <td>safari</td>\n",
       "      <td>18</td>\n",
       "    </tr>\n",
       "    <tr>\n",
       "      <th>4</th>\n",
       "      <td>ahmad</td>\n",
       "      <td>tavakoli</td>\n",
       "      <td>370</td>\n",
       "    </tr>\n",
       "    <tr>\n",
       "      <th>5</th>\n",
       "      <td>mehdi</td>\n",
       "      <td>abbasi</td>\n",
       "      <td>43</td>\n",
       "    </tr>\n",
       "    <tr>\n",
       "      <th>6</th>\n",
       "      <td>saeed</td>\n",
       "      <td>sadegi</td>\n",
       "      <td>51</td>\n",
       "    </tr>\n",
       "    <tr>\n",
       "      <th>7</th>\n",
       "      <td>sara</td>\n",
       "      <td>safari</td>\n",
       "      <td>18</td>\n",
       "    </tr>\n",
       "    <tr>\n",
       "      <th>8</th>\n",
       "      <td>negin</td>\n",
       "      <td>safari</td>\n",
       "      <td>37</td>\n",
       "    </tr>\n",
       "    <tr>\n",
       "      <th>9</th>\n",
       "      <td>reza</td>\n",
       "      <td>mousavi</td>\n",
       "      <td>45</td>\n",
       "    </tr>\n",
       "  </tbody>\n",
       "</table>\n",
       "</div>"
      ],
      "text/plain": [
       "    Name    Family  Age\n",
       "0  mehdi    abbasi   43\n",
       "1    ali    rezaei   14\n",
       "2  negin     zandi   37\n",
       "3   sara    safari   18\n",
       "4  ahmad  tavakoli  370\n",
       "5  mehdi    abbasi   43\n",
       "6  saeed    sadegi   51\n",
       "7   sara    safari   18\n",
       "8  negin    safari   37\n",
       "9   reza   mousavi   45"
      ]
     },
     "metadata": {},
     "output_type": "display_data"
    },
    {
     "name": "stdout",
     "output_type": "stream",
     "text": [
      "0    False\n",
      "1    False\n",
      "2    False\n",
      "3    False\n",
      "4    False\n",
      "5     True\n",
      "6    False\n",
      "7     True\n",
      "8     True\n",
      "9    False\n",
      "Name: Name, dtype: bool\n"
     ]
    }
   ],
   "source": [
    "df = pd.DataFrame({\n",
    "    'Name': ['mehdi', 'ali', 'negin', 'sara', 'ahmad', 'mehdi', 'saeed', 'sara', 'negin', 'reza'],\n",
    "    'Family': ['abbasi', 'rezaei', 'zandi', 'safari', 'tavakoli', 'abbasi', 'sadegi', 'safari', 'safari', 'mousavi'],\n",
    "    'Age': [43,14,37,18,370,43,51,18,37,45]\n",
    "})\n",
    "display(df)\n",
    "print(df['Name'].duplicated())"
   ]
  },
  {
   "cell_type": "markdown",
   "id": "431695b1",
   "metadata": {
    "direction": "rtl"
   },
   "source": [
    "<p style = \"font-family:B Nazanin;\">\n",
    "     دوم این که نام ستون‌های مورد نظر را به پارامتر subset از تابع duplicated بدهیم:\n",
    "</p>"
   ]
  },
  {
   "cell_type": "code",
   "execution_count": 5,
   "id": "a5c1a2c9",
   "metadata": {},
   "outputs": [
    {
     "data": {
      "text/html": [
       "<div>\n",
       "<style scoped>\n",
       "    .dataframe tbody tr th:only-of-type {\n",
       "        vertical-align: middle;\n",
       "    }\n",
       "\n",
       "    .dataframe tbody tr th {\n",
       "        vertical-align: top;\n",
       "    }\n",
       "\n",
       "    .dataframe thead th {\n",
       "        text-align: right;\n",
       "    }\n",
       "</style>\n",
       "<table border=\"1\" class=\"dataframe\">\n",
       "  <thead>\n",
       "    <tr style=\"text-align: right;\">\n",
       "      <th></th>\n",
       "      <th>Name</th>\n",
       "      <th>Family</th>\n",
       "      <th>Age</th>\n",
       "    </tr>\n",
       "  </thead>\n",
       "  <tbody>\n",
       "    <tr>\n",
       "      <th>0</th>\n",
       "      <td>mehdi</td>\n",
       "      <td>abbasi</td>\n",
       "      <td>43</td>\n",
       "    </tr>\n",
       "    <tr>\n",
       "      <th>1</th>\n",
       "      <td>ali</td>\n",
       "      <td>rezaei</td>\n",
       "      <td>14</td>\n",
       "    </tr>\n",
       "    <tr>\n",
       "      <th>2</th>\n",
       "      <td>negin</td>\n",
       "      <td>zandi</td>\n",
       "      <td>37</td>\n",
       "    </tr>\n",
       "    <tr>\n",
       "      <th>3</th>\n",
       "      <td>sara</td>\n",
       "      <td>safari</td>\n",
       "      <td>18</td>\n",
       "    </tr>\n",
       "    <tr>\n",
       "      <th>4</th>\n",
       "      <td>ahmad</td>\n",
       "      <td>tavakoli</td>\n",
       "      <td>370</td>\n",
       "    </tr>\n",
       "    <tr>\n",
       "      <th>5</th>\n",
       "      <td>mehdi</td>\n",
       "      <td>abbasi</td>\n",
       "      <td>43</td>\n",
       "    </tr>\n",
       "    <tr>\n",
       "      <th>6</th>\n",
       "      <td>saeed</td>\n",
       "      <td>sadegi</td>\n",
       "      <td>51</td>\n",
       "    </tr>\n",
       "    <tr>\n",
       "      <th>7</th>\n",
       "      <td>sara</td>\n",
       "      <td>safari</td>\n",
       "      <td>18</td>\n",
       "    </tr>\n",
       "    <tr>\n",
       "      <th>8</th>\n",
       "      <td>negin</td>\n",
       "      <td>safari</td>\n",
       "      <td>37</td>\n",
       "    </tr>\n",
       "    <tr>\n",
       "      <th>9</th>\n",
       "      <td>reza</td>\n",
       "      <td>mousavi</td>\n",
       "      <td>45</td>\n",
       "    </tr>\n",
       "  </tbody>\n",
       "</table>\n",
       "</div>"
      ],
      "text/plain": [
       "    Name    Family  Age\n",
       "0  mehdi    abbasi   43\n",
       "1    ali    rezaei   14\n",
       "2  negin     zandi   37\n",
       "3   sara    safari   18\n",
       "4  ahmad  tavakoli  370\n",
       "5  mehdi    abbasi   43\n",
       "6  saeed    sadegi   51\n",
       "7   sara    safari   18\n",
       "8  negin    safari   37\n",
       "9   reza   mousavi   45"
      ]
     },
     "metadata": {},
     "output_type": "display_data"
    },
    {
     "name": "stdout",
     "output_type": "stream",
     "text": [
      "0    False\n",
      "1    False\n",
      "2    False\n",
      "3    False\n",
      "4    False\n",
      "5     True\n",
      "6    False\n",
      "7     True\n",
      "8     True\n",
      "9    False\n",
      "dtype: bool\n"
     ]
    }
   ],
   "source": [
    "df = pd.DataFrame({\n",
    "    'Name': ['mehdi', 'ali', 'negin', 'sara', 'ahmad', 'mehdi', 'saeed', 'sara', 'negin', 'reza'],\n",
    "    'Family': ['abbasi', 'rezaei', 'zandi', 'safari', 'tavakoli', 'abbasi', 'sadegi', 'safari', 'safari', 'mousavi'],\n",
    "    'Age': [43,14,37,18,370,43,51,18,37,45]\n",
    "})\n",
    "display(df)\n",
    "print(df.duplicated(subset = ['Name', 'Age']))"
   ]
  },
  {
   "cell_type": "markdown",
   "id": "63ed297e",
   "metadata": {
    "direction": "rtl"
   },
   "source": [
    "<p style = \"font-family:B Nazanin;\">\n",
    "    برای حذف داده‌های تکراری از تابع drop_duplicated() در ماژول pandas می‌توانیم استفاده کنیم. پارامتر inplace این تابع اگر برابر False باشد، حذف داده‌های تکراری روی همان دیتافریم اثر نمی‌کند، بلکه یک کپی از این دیتافریم ایجاد شده و تغییرات روی آن اعمال می‌شود و در نهایت دیتافریم پاکسازی‌شده خروجی داده می‌شود: \n",
    "</p>"
   ]
  },
  {
   "cell_type": "code",
   "execution_count": 6,
   "id": "0db18e87",
   "metadata": {},
   "outputs": [
    {
     "data": {
      "text/html": [
       "<div>\n",
       "<style scoped>\n",
       "    .dataframe tbody tr th:only-of-type {\n",
       "        vertical-align: middle;\n",
       "    }\n",
       "\n",
       "    .dataframe tbody tr th {\n",
       "        vertical-align: top;\n",
       "    }\n",
       "\n",
       "    .dataframe thead th {\n",
       "        text-align: right;\n",
       "    }\n",
       "</style>\n",
       "<table border=\"1\" class=\"dataframe\">\n",
       "  <thead>\n",
       "    <tr style=\"text-align: right;\">\n",
       "      <th></th>\n",
       "      <th>Name</th>\n",
       "      <th>Family</th>\n",
       "      <th>Age</th>\n",
       "    </tr>\n",
       "  </thead>\n",
       "  <tbody>\n",
       "    <tr>\n",
       "      <th>0</th>\n",
       "      <td>mehdi</td>\n",
       "      <td>abbasi</td>\n",
       "      <td>43</td>\n",
       "    </tr>\n",
       "    <tr>\n",
       "      <th>1</th>\n",
       "      <td>ali</td>\n",
       "      <td>rezaei</td>\n",
       "      <td>14</td>\n",
       "    </tr>\n",
       "    <tr>\n",
       "      <th>2</th>\n",
       "      <td>negin</td>\n",
       "      <td>zandi</td>\n",
       "      <td>37</td>\n",
       "    </tr>\n",
       "    <tr>\n",
       "      <th>3</th>\n",
       "      <td>sara</td>\n",
       "      <td>safari</td>\n",
       "      <td>18</td>\n",
       "    </tr>\n",
       "    <tr>\n",
       "      <th>4</th>\n",
       "      <td>ahmad</td>\n",
       "      <td>tavakoli</td>\n",
       "      <td>370</td>\n",
       "    </tr>\n",
       "    <tr>\n",
       "      <th>5</th>\n",
       "      <td>mehdi</td>\n",
       "      <td>abbasi</td>\n",
       "      <td>43</td>\n",
       "    </tr>\n",
       "    <tr>\n",
       "      <th>6</th>\n",
       "      <td>saeed</td>\n",
       "      <td>sadegi</td>\n",
       "      <td>51</td>\n",
       "    </tr>\n",
       "    <tr>\n",
       "      <th>7</th>\n",
       "      <td>sara</td>\n",
       "      <td>safari</td>\n",
       "      <td>18</td>\n",
       "    </tr>\n",
       "    <tr>\n",
       "      <th>8</th>\n",
       "      <td>negin</td>\n",
       "      <td>safari</td>\n",
       "      <td>37</td>\n",
       "    </tr>\n",
       "    <tr>\n",
       "      <th>9</th>\n",
       "      <td>reza</td>\n",
       "      <td>mousavi</td>\n",
       "      <td>45</td>\n",
       "    </tr>\n",
       "  </tbody>\n",
       "</table>\n",
       "</div>"
      ],
      "text/plain": [
       "    Name    Family  Age\n",
       "0  mehdi    abbasi   43\n",
       "1    ali    rezaei   14\n",
       "2  negin     zandi   37\n",
       "3   sara    safari   18\n",
       "4  ahmad  tavakoli  370\n",
       "5  mehdi    abbasi   43\n",
       "6  saeed    sadegi   51\n",
       "7   sara    safari   18\n",
       "8  negin    safari   37\n",
       "9   reza   mousavi   45"
      ]
     },
     "metadata": {},
     "output_type": "display_data"
    },
    {
     "data": {
      "text/html": [
       "<div>\n",
       "<style scoped>\n",
       "    .dataframe tbody tr th:only-of-type {\n",
       "        vertical-align: middle;\n",
       "    }\n",
       "\n",
       "    .dataframe tbody tr th {\n",
       "        vertical-align: top;\n",
       "    }\n",
       "\n",
       "    .dataframe thead th {\n",
       "        text-align: right;\n",
       "    }\n",
       "</style>\n",
       "<table border=\"1\" class=\"dataframe\">\n",
       "  <thead>\n",
       "    <tr style=\"text-align: right;\">\n",
       "      <th></th>\n",
       "      <th>Name</th>\n",
       "      <th>Family</th>\n",
       "      <th>Age</th>\n",
       "    </tr>\n",
       "  </thead>\n",
       "  <tbody>\n",
       "    <tr>\n",
       "      <th>0</th>\n",
       "      <td>mehdi</td>\n",
       "      <td>abbasi</td>\n",
       "      <td>43</td>\n",
       "    </tr>\n",
       "    <tr>\n",
       "      <th>1</th>\n",
       "      <td>ali</td>\n",
       "      <td>rezaei</td>\n",
       "      <td>14</td>\n",
       "    </tr>\n",
       "    <tr>\n",
       "      <th>2</th>\n",
       "      <td>negin</td>\n",
       "      <td>zandi</td>\n",
       "      <td>37</td>\n",
       "    </tr>\n",
       "    <tr>\n",
       "      <th>3</th>\n",
       "      <td>sara</td>\n",
       "      <td>safari</td>\n",
       "      <td>18</td>\n",
       "    </tr>\n",
       "    <tr>\n",
       "      <th>4</th>\n",
       "      <td>ahmad</td>\n",
       "      <td>tavakoli</td>\n",
       "      <td>370</td>\n",
       "    </tr>\n",
       "    <tr>\n",
       "      <th>6</th>\n",
       "      <td>saeed</td>\n",
       "      <td>sadegi</td>\n",
       "      <td>51</td>\n",
       "    </tr>\n",
       "    <tr>\n",
       "      <th>8</th>\n",
       "      <td>negin</td>\n",
       "      <td>safari</td>\n",
       "      <td>37</td>\n",
       "    </tr>\n",
       "    <tr>\n",
       "      <th>9</th>\n",
       "      <td>reza</td>\n",
       "      <td>mousavi</td>\n",
       "      <td>45</td>\n",
       "    </tr>\n",
       "  </tbody>\n",
       "</table>\n",
       "</div>"
      ],
      "text/plain": [
       "    Name    Family  Age\n",
       "0  mehdi    abbasi   43\n",
       "1    ali    rezaei   14\n",
       "2  negin     zandi   37\n",
       "3   sara    safari   18\n",
       "4  ahmad  tavakoli  370\n",
       "6  saeed    sadegi   51\n",
       "8  negin    safari   37\n",
       "9   reza   mousavi   45"
      ]
     },
     "metadata": {},
     "output_type": "display_data"
    }
   ],
   "source": [
    "df = pd.DataFrame({\n",
    "    'Name': ['mehdi', 'ali', 'negin', 'sara', 'ahmad', 'mehdi', 'saeed', 'sara', 'negin', 'reza'],\n",
    "    'Family': ['abbasi', 'rezaei', 'zandi', 'safari', 'tavakoli', 'abbasi', 'sadegi', 'safari', 'safari', 'mousavi'],\n",
    "    'Age': [43,14,37,18,370,43,51,18,37,45]\n",
    "})\n",
    "display(df)\n",
    "df2 = df.drop_duplicates(inplace = False)\n",
    "display(df2)"
   ]
  },
  {
   "cell_type": "markdown",
   "id": "3cd16eef",
   "metadata": {
    "direction": "rtl"
   },
   "source": [
    "<p style = \"font-family:B Nazanin;\">\n",
    "     تابع drop_duplicates نیز پارامتر subset دارد که مشخص می‌کند معیار تشخیص داده‌های تکراری کدام ستون‌های دیتافریم باشد:\n",
    "</p>"
   ]
  },
  {
   "cell_type": "code",
   "execution_count": 7,
   "id": "721b194b",
   "metadata": {},
   "outputs": [
    {
     "data": {
      "text/html": [
       "<div>\n",
       "<style scoped>\n",
       "    .dataframe tbody tr th:only-of-type {\n",
       "        vertical-align: middle;\n",
       "    }\n",
       "\n",
       "    .dataframe tbody tr th {\n",
       "        vertical-align: top;\n",
       "    }\n",
       "\n",
       "    .dataframe thead th {\n",
       "        text-align: right;\n",
       "    }\n",
       "</style>\n",
       "<table border=\"1\" class=\"dataframe\">\n",
       "  <thead>\n",
       "    <tr style=\"text-align: right;\">\n",
       "      <th></th>\n",
       "      <th>Name</th>\n",
       "      <th>Family</th>\n",
       "      <th>Age</th>\n",
       "    </tr>\n",
       "  </thead>\n",
       "  <tbody>\n",
       "    <tr>\n",
       "      <th>0</th>\n",
       "      <td>mehdi</td>\n",
       "      <td>abbasi</td>\n",
       "      <td>43</td>\n",
       "    </tr>\n",
       "    <tr>\n",
       "      <th>1</th>\n",
       "      <td>ali</td>\n",
       "      <td>rezaei</td>\n",
       "      <td>14</td>\n",
       "    </tr>\n",
       "    <tr>\n",
       "      <th>2</th>\n",
       "      <td>negin</td>\n",
       "      <td>zandi</td>\n",
       "      <td>37</td>\n",
       "    </tr>\n",
       "    <tr>\n",
       "      <th>3</th>\n",
       "      <td>sara</td>\n",
       "      <td>safari</td>\n",
       "      <td>18</td>\n",
       "    </tr>\n",
       "    <tr>\n",
       "      <th>4</th>\n",
       "      <td>ahmad</td>\n",
       "      <td>tavakoli</td>\n",
       "      <td>370</td>\n",
       "    </tr>\n",
       "    <tr>\n",
       "      <th>5</th>\n",
       "      <td>mehdi</td>\n",
       "      <td>abbasi</td>\n",
       "      <td>43</td>\n",
       "    </tr>\n",
       "    <tr>\n",
       "      <th>6</th>\n",
       "      <td>saeed</td>\n",
       "      <td>sadegi</td>\n",
       "      <td>51</td>\n",
       "    </tr>\n",
       "    <tr>\n",
       "      <th>7</th>\n",
       "      <td>sara</td>\n",
       "      <td>safari</td>\n",
       "      <td>18</td>\n",
       "    </tr>\n",
       "    <tr>\n",
       "      <th>8</th>\n",
       "      <td>negin</td>\n",
       "      <td>safari</td>\n",
       "      <td>37</td>\n",
       "    </tr>\n",
       "    <tr>\n",
       "      <th>9</th>\n",
       "      <td>reza</td>\n",
       "      <td>mousavi</td>\n",
       "      <td>45</td>\n",
       "    </tr>\n",
       "  </tbody>\n",
       "</table>\n",
       "</div>"
      ],
      "text/plain": [
       "    Name    Family  Age\n",
       "0  mehdi    abbasi   43\n",
       "1    ali    rezaei   14\n",
       "2  negin     zandi   37\n",
       "3   sara    safari   18\n",
       "4  ahmad  tavakoli  370\n",
       "5  mehdi    abbasi   43\n",
       "6  saeed    sadegi   51\n",
       "7   sara    safari   18\n",
       "8  negin    safari   37\n",
       "9   reza   mousavi   45"
      ]
     },
     "metadata": {},
     "output_type": "display_data"
    },
    {
     "data": {
      "text/html": [
       "<div>\n",
       "<style scoped>\n",
       "    .dataframe tbody tr th:only-of-type {\n",
       "        vertical-align: middle;\n",
       "    }\n",
       "\n",
       "    .dataframe tbody tr th {\n",
       "        vertical-align: top;\n",
       "    }\n",
       "\n",
       "    .dataframe thead th {\n",
       "        text-align: right;\n",
       "    }\n",
       "</style>\n",
       "<table border=\"1\" class=\"dataframe\">\n",
       "  <thead>\n",
       "    <tr style=\"text-align: right;\">\n",
       "      <th></th>\n",
       "      <th>Name</th>\n",
       "      <th>Family</th>\n",
       "      <th>Age</th>\n",
       "    </tr>\n",
       "  </thead>\n",
       "  <tbody>\n",
       "    <tr>\n",
       "      <th>0</th>\n",
       "      <td>mehdi</td>\n",
       "      <td>abbasi</td>\n",
       "      <td>43</td>\n",
       "    </tr>\n",
       "    <tr>\n",
       "      <th>1</th>\n",
       "      <td>ali</td>\n",
       "      <td>rezaei</td>\n",
       "      <td>14</td>\n",
       "    </tr>\n",
       "    <tr>\n",
       "      <th>2</th>\n",
       "      <td>negin</td>\n",
       "      <td>zandi</td>\n",
       "      <td>37</td>\n",
       "    </tr>\n",
       "    <tr>\n",
       "      <th>3</th>\n",
       "      <td>sara</td>\n",
       "      <td>safari</td>\n",
       "      <td>18</td>\n",
       "    </tr>\n",
       "    <tr>\n",
       "      <th>4</th>\n",
       "      <td>ahmad</td>\n",
       "      <td>tavakoli</td>\n",
       "      <td>370</td>\n",
       "    </tr>\n",
       "    <tr>\n",
       "      <th>6</th>\n",
       "      <td>saeed</td>\n",
       "      <td>sadegi</td>\n",
       "      <td>51</td>\n",
       "    </tr>\n",
       "    <tr>\n",
       "      <th>9</th>\n",
       "      <td>reza</td>\n",
       "      <td>mousavi</td>\n",
       "      <td>45</td>\n",
       "    </tr>\n",
       "  </tbody>\n",
       "</table>\n",
       "</div>"
      ],
      "text/plain": [
       "    Name    Family  Age\n",
       "0  mehdi    abbasi   43\n",
       "1    ali    rezaei   14\n",
       "2  negin     zandi   37\n",
       "3   sara    safari   18\n",
       "4  ahmad  tavakoli  370\n",
       "6  saeed    sadegi   51\n",
       "9   reza   mousavi   45"
      ]
     },
     "metadata": {},
     "output_type": "display_data"
    }
   ],
   "source": [
    "df = pd.DataFrame({\n",
    "    'Name': ['mehdi', 'ali', 'negin', 'sara', 'ahmad', 'mehdi', 'saeed', 'sara', 'negin', 'reza'],\n",
    "    'Family': ['abbasi', 'rezaei', 'zandi', 'safari', 'tavakoli', 'abbasi', 'sadegi', 'safari', 'safari', 'mousavi'],\n",
    "    'Age': [43,14,37,18,370,43,51,18,37,45]\n",
    "})\n",
    "display(df)\n",
    "df2 = df.drop_duplicates(subset = ['Name'], inplace = False)\n",
    "display(df2)"
   ]
  },
  {
   "cell_type": "markdown",
   "id": "1b49d863",
   "metadata": {
    "direction": "rtl"
   },
   "source": [
    "<p style = \"font-family:B Nazanin;\">\n",
    "     تابع drop_duplicates نیز پارامتر ورودی keep را دارد که مشخص می‌کند از بین داده‌های تکراری کدام حفظ شده و کدام حذف شود. 'first' اولین مورد از داده‌های تکراری را نگه می‌دارد، 'last' آخرین مورد را نگه می‌دارد و False همه داده‌های تکراری را حذف می‌کند:\n",
    "</p>"
   ]
  },
  {
   "cell_type": "code",
   "execution_count": 8,
   "id": "ec57f696",
   "metadata": {},
   "outputs": [
    {
     "data": {
      "text/html": [
       "<div>\n",
       "<style scoped>\n",
       "    .dataframe tbody tr th:only-of-type {\n",
       "        vertical-align: middle;\n",
       "    }\n",
       "\n",
       "    .dataframe tbody tr th {\n",
       "        vertical-align: top;\n",
       "    }\n",
       "\n",
       "    .dataframe thead th {\n",
       "        text-align: right;\n",
       "    }\n",
       "</style>\n",
       "<table border=\"1\" class=\"dataframe\">\n",
       "  <thead>\n",
       "    <tr style=\"text-align: right;\">\n",
       "      <th></th>\n",
       "      <th>Name</th>\n",
       "      <th>Family</th>\n",
       "      <th>Age</th>\n",
       "    </tr>\n",
       "  </thead>\n",
       "  <tbody>\n",
       "    <tr>\n",
       "      <th>0</th>\n",
       "      <td>mehdi</td>\n",
       "      <td>abbasi</td>\n",
       "      <td>43</td>\n",
       "    </tr>\n",
       "    <tr>\n",
       "      <th>1</th>\n",
       "      <td>ali</td>\n",
       "      <td>rezaei</td>\n",
       "      <td>14</td>\n",
       "    </tr>\n",
       "    <tr>\n",
       "      <th>2</th>\n",
       "      <td>negin</td>\n",
       "      <td>zandi</td>\n",
       "      <td>37</td>\n",
       "    </tr>\n",
       "    <tr>\n",
       "      <th>3</th>\n",
       "      <td>sara</td>\n",
       "      <td>safari</td>\n",
       "      <td>18</td>\n",
       "    </tr>\n",
       "    <tr>\n",
       "      <th>4</th>\n",
       "      <td>ahmad</td>\n",
       "      <td>tavakoli</td>\n",
       "      <td>370</td>\n",
       "    </tr>\n",
       "    <tr>\n",
       "      <th>5</th>\n",
       "      <td>mehdi</td>\n",
       "      <td>abbasi</td>\n",
       "      <td>43</td>\n",
       "    </tr>\n",
       "    <tr>\n",
       "      <th>6</th>\n",
       "      <td>saeed</td>\n",
       "      <td>sadegi</td>\n",
       "      <td>51</td>\n",
       "    </tr>\n",
       "    <tr>\n",
       "      <th>7</th>\n",
       "      <td>sara</td>\n",
       "      <td>safari</td>\n",
       "      <td>18</td>\n",
       "    </tr>\n",
       "    <tr>\n",
       "      <th>8</th>\n",
       "      <td>negin</td>\n",
       "      <td>safari</td>\n",
       "      <td>37</td>\n",
       "    </tr>\n",
       "    <tr>\n",
       "      <th>9</th>\n",
       "      <td>reza</td>\n",
       "      <td>mousavi</td>\n",
       "      <td>45</td>\n",
       "    </tr>\n",
       "  </tbody>\n",
       "</table>\n",
       "</div>"
      ],
      "text/plain": [
       "    Name    Family  Age\n",
       "0  mehdi    abbasi   43\n",
       "1    ali    rezaei   14\n",
       "2  negin     zandi   37\n",
       "3   sara    safari   18\n",
       "4  ahmad  tavakoli  370\n",
       "5  mehdi    abbasi   43\n",
       "6  saeed    sadegi   51\n",
       "7   sara    safari   18\n",
       "8  negin    safari   37\n",
       "9   reza   mousavi   45"
      ]
     },
     "metadata": {},
     "output_type": "display_data"
    },
    {
     "data": {
      "text/html": [
       "<div>\n",
       "<style scoped>\n",
       "    .dataframe tbody tr th:only-of-type {\n",
       "        vertical-align: middle;\n",
       "    }\n",
       "\n",
       "    .dataframe tbody tr th {\n",
       "        vertical-align: top;\n",
       "    }\n",
       "\n",
       "    .dataframe thead th {\n",
       "        text-align: right;\n",
       "    }\n",
       "</style>\n",
       "<table border=\"1\" class=\"dataframe\">\n",
       "  <thead>\n",
       "    <tr style=\"text-align: right;\">\n",
       "      <th></th>\n",
       "      <th>Name</th>\n",
       "      <th>Family</th>\n",
       "      <th>Age</th>\n",
       "    </tr>\n",
       "  </thead>\n",
       "  <tbody>\n",
       "    <tr>\n",
       "      <th>0</th>\n",
       "      <td>mehdi</td>\n",
       "      <td>abbasi</td>\n",
       "      <td>43</td>\n",
       "    </tr>\n",
       "    <tr>\n",
       "      <th>1</th>\n",
       "      <td>ali</td>\n",
       "      <td>rezaei</td>\n",
       "      <td>14</td>\n",
       "    </tr>\n",
       "    <tr>\n",
       "      <th>2</th>\n",
       "      <td>negin</td>\n",
       "      <td>zandi</td>\n",
       "      <td>37</td>\n",
       "    </tr>\n",
       "    <tr>\n",
       "      <th>3</th>\n",
       "      <td>sara</td>\n",
       "      <td>safari</td>\n",
       "      <td>18</td>\n",
       "    </tr>\n",
       "    <tr>\n",
       "      <th>4</th>\n",
       "      <td>ahmad</td>\n",
       "      <td>tavakoli</td>\n",
       "      <td>370</td>\n",
       "    </tr>\n",
       "    <tr>\n",
       "      <th>6</th>\n",
       "      <td>saeed</td>\n",
       "      <td>sadegi</td>\n",
       "      <td>51</td>\n",
       "    </tr>\n",
       "    <tr>\n",
       "      <th>8</th>\n",
       "      <td>negin</td>\n",
       "      <td>safari</td>\n",
       "      <td>37</td>\n",
       "    </tr>\n",
       "    <tr>\n",
       "      <th>9</th>\n",
       "      <td>reza</td>\n",
       "      <td>mousavi</td>\n",
       "      <td>45</td>\n",
       "    </tr>\n",
       "  </tbody>\n",
       "</table>\n",
       "</div>"
      ],
      "text/plain": [
       "    Name    Family  Age\n",
       "0  mehdi    abbasi   43\n",
       "1    ali    rezaei   14\n",
       "2  negin     zandi   37\n",
       "3   sara    safari   18\n",
       "4  ahmad  tavakoli  370\n",
       "6  saeed    sadegi   51\n",
       "8  negin    safari   37\n",
       "9   reza   mousavi   45"
      ]
     },
     "metadata": {},
     "output_type": "display_data"
    },
    {
     "data": {
      "text/html": [
       "<div>\n",
       "<style scoped>\n",
       "    .dataframe tbody tr th:only-of-type {\n",
       "        vertical-align: middle;\n",
       "    }\n",
       "\n",
       "    .dataframe tbody tr th {\n",
       "        vertical-align: top;\n",
       "    }\n",
       "\n",
       "    .dataframe thead th {\n",
       "        text-align: right;\n",
       "    }\n",
       "</style>\n",
       "<table border=\"1\" class=\"dataframe\">\n",
       "  <thead>\n",
       "    <tr style=\"text-align: right;\">\n",
       "      <th></th>\n",
       "      <th>Name</th>\n",
       "      <th>Family</th>\n",
       "      <th>Age</th>\n",
       "    </tr>\n",
       "  </thead>\n",
       "  <tbody>\n",
       "    <tr>\n",
       "      <th>1</th>\n",
       "      <td>ali</td>\n",
       "      <td>rezaei</td>\n",
       "      <td>14</td>\n",
       "    </tr>\n",
       "    <tr>\n",
       "      <th>2</th>\n",
       "      <td>negin</td>\n",
       "      <td>zandi</td>\n",
       "      <td>37</td>\n",
       "    </tr>\n",
       "    <tr>\n",
       "      <th>4</th>\n",
       "      <td>ahmad</td>\n",
       "      <td>tavakoli</td>\n",
       "      <td>370</td>\n",
       "    </tr>\n",
       "    <tr>\n",
       "      <th>5</th>\n",
       "      <td>mehdi</td>\n",
       "      <td>abbasi</td>\n",
       "      <td>43</td>\n",
       "    </tr>\n",
       "    <tr>\n",
       "      <th>6</th>\n",
       "      <td>saeed</td>\n",
       "      <td>sadegi</td>\n",
       "      <td>51</td>\n",
       "    </tr>\n",
       "    <tr>\n",
       "      <th>7</th>\n",
       "      <td>sara</td>\n",
       "      <td>safari</td>\n",
       "      <td>18</td>\n",
       "    </tr>\n",
       "    <tr>\n",
       "      <th>8</th>\n",
       "      <td>negin</td>\n",
       "      <td>safari</td>\n",
       "      <td>37</td>\n",
       "    </tr>\n",
       "    <tr>\n",
       "      <th>9</th>\n",
       "      <td>reza</td>\n",
       "      <td>mousavi</td>\n",
       "      <td>45</td>\n",
       "    </tr>\n",
       "  </tbody>\n",
       "</table>\n",
       "</div>"
      ],
      "text/plain": [
       "    Name    Family  Age\n",
       "1    ali    rezaei   14\n",
       "2  negin     zandi   37\n",
       "4  ahmad  tavakoli  370\n",
       "5  mehdi    abbasi   43\n",
       "6  saeed    sadegi   51\n",
       "7   sara    safari   18\n",
       "8  negin    safari   37\n",
       "9   reza   mousavi   45"
      ]
     },
     "metadata": {},
     "output_type": "display_data"
    },
    {
     "data": {
      "text/html": [
       "<div>\n",
       "<style scoped>\n",
       "    .dataframe tbody tr th:only-of-type {\n",
       "        vertical-align: middle;\n",
       "    }\n",
       "\n",
       "    .dataframe tbody tr th {\n",
       "        vertical-align: top;\n",
       "    }\n",
       "\n",
       "    .dataframe thead th {\n",
       "        text-align: right;\n",
       "    }\n",
       "</style>\n",
       "<table border=\"1\" class=\"dataframe\">\n",
       "  <thead>\n",
       "    <tr style=\"text-align: right;\">\n",
       "      <th></th>\n",
       "      <th>Name</th>\n",
       "      <th>Family</th>\n",
       "      <th>Age</th>\n",
       "    </tr>\n",
       "  </thead>\n",
       "  <tbody>\n",
       "    <tr>\n",
       "      <th>1</th>\n",
       "      <td>ali</td>\n",
       "      <td>rezaei</td>\n",
       "      <td>14</td>\n",
       "    </tr>\n",
       "    <tr>\n",
       "      <th>2</th>\n",
       "      <td>negin</td>\n",
       "      <td>zandi</td>\n",
       "      <td>37</td>\n",
       "    </tr>\n",
       "    <tr>\n",
       "      <th>4</th>\n",
       "      <td>ahmad</td>\n",
       "      <td>tavakoli</td>\n",
       "      <td>370</td>\n",
       "    </tr>\n",
       "    <tr>\n",
       "      <th>6</th>\n",
       "      <td>saeed</td>\n",
       "      <td>sadegi</td>\n",
       "      <td>51</td>\n",
       "    </tr>\n",
       "    <tr>\n",
       "      <th>8</th>\n",
       "      <td>negin</td>\n",
       "      <td>safari</td>\n",
       "      <td>37</td>\n",
       "    </tr>\n",
       "    <tr>\n",
       "      <th>9</th>\n",
       "      <td>reza</td>\n",
       "      <td>mousavi</td>\n",
       "      <td>45</td>\n",
       "    </tr>\n",
       "  </tbody>\n",
       "</table>\n",
       "</div>"
      ],
      "text/plain": [
       "    Name    Family  Age\n",
       "1    ali    rezaei   14\n",
       "2  negin     zandi   37\n",
       "4  ahmad  tavakoli  370\n",
       "6  saeed    sadegi   51\n",
       "8  negin    safari   37\n",
       "9   reza   mousavi   45"
      ]
     },
     "metadata": {},
     "output_type": "display_data"
    }
   ],
   "source": [
    "df = pd.DataFrame({\n",
    "    'Name': ['mehdi', 'ali', 'negin', 'sara', 'ahmad', 'mehdi', 'saeed', 'sara', 'negin', 'reza'],\n",
    "    'Family': ['abbasi', 'rezaei', 'zandi', 'safari', 'tavakoli', 'abbasi', 'sadegi', 'safari', 'safari', 'mousavi'],\n",
    "    'Age': [43,14,37,18,370,43,51,18,37,45]\n",
    "})\n",
    "display(df)\n",
    "df2 = df.drop_duplicates(keep = 'first', inplace = False)\n",
    "display(df2)\n",
    "df3 = df.drop_duplicates(keep = 'last', inplace = False)\n",
    "display(df3)\n",
    "df4 = df.drop_duplicates(keep = False, inplace = False)\n",
    "display(df4)"
   ]
  },
  {
   "cell_type": "markdown",
   "id": "2ef18f62",
   "metadata": {
    "direction": "rtl"
   },
   "source": [
    "<p style = \"font-family:B Nazanin;\">\n",
    "     با استفاده از تابع to_excel می‌توان یک دیتافریم را درون یک فایل اکسل ذخیره کرد:\n",
    "</p>"
   ]
  },
  {
   "cell_type": "code",
   "execution_count": 9,
   "id": "ee3490b7",
   "metadata": {},
   "outputs": [
    {
     "name": "stdout",
     "output_type": "stream",
     "text": [
      "Requirement already satisfied: openpyxl in c:\\users\\alireza\\appdata\\local\\programs\\python\\python311\\lib\\site-packages (3.1.2)\n",
      "Requirement already satisfied: et-xmlfile in c:\\users\\alireza\\appdata\\local\\programs\\python\\python311\\lib\\site-packages (from openpyxl) (1.1.0)\n"
     ]
    }
   ],
   "source": [
    "!pip install openpyxl"
   ]
  },
  {
   "cell_type": "code",
   "execution_count": 10,
   "id": "bbf76673",
   "metadata": {},
   "outputs": [],
   "source": [
    "df = pd.DataFrame({\n",
    "    'Name': ['mehdi', 'ali', 'negin', 'sara', 'ahmad', 'mehdi', 'saeed', 'sara', 'negin', 'reza'],\n",
    "    'Family': ['abbasi', 'rezaei', 'zandi', 'safari', 'tavakoli', 'abbasi', 'sadegi', 'safari', 'safari', 'mousavi'],\n",
    "    'Age': [43,14,37,18,370,43,51,18,37,45]\n",
    "})\n",
    "df.to_excel(r'data.xlsx', index = False)"
   ]
  },
  {
   "cell_type": "markdown",
   "id": "aefc6c76",
   "metadata": {
    "direction": "rtl"
   },
   "source": [
    "<p style = \"font-family:B Nazanin;\">\n",
    "     در فایل اکسل با استفاده از منوی Conditional Formatting، بخش Highlight Cells Rules، گزینه Duplicate Values، داده‌های تکراری را تشخیص داد. برای حذف داده‌های تکراری نیز از منوی Data گزینه Remove Duplicates را استفاده می‌کنیم.\n",
    "</p>"
   ]
  },
  {
   "cell_type": "markdown",
   "id": "f8211e5e",
   "metadata": {
    "direction": "rtl"
   },
   "source": [
    "<p style = \"font-family:B Nazanin;\">\n",
    "    <b>2. پر کردن فیلدهای بدون مقدار (Fill in missing values):</b> خالی ماندن بعضی از سلول‌ها در فرایند پردازش داده‌ها اختلال ایجاد می‌کند. برای رفع این اختلال چند راهکار داریم:<br>\n",
    "    یکی از راه‌ها این است که کل آن سطر را حذف کنیم. اگر آن سلول خالی به قدری مهم باشد که نبود آن کل ارزش داده آن سطر را از بین ببرد، باید کل آن سطر را حذف کرد. <br>\n",
    "    روش دوم پر کردن دستی داده‌ها است. برای دیتاست‌های کوچک این روش قابل استفاده است که یکی یکی سلول‌های خالی را بررسی کنیم و برای هر کدام مقدار مناسب را وارد کنیم. اما برای دیتاست‌های بزرگ این روش مناسب نیست.<br>\n",
    "    روش سوم پر کردن با یک مقدار ثابت است. در این روش تمام سلول‌های خالی مربوط به یک ستون با یک مقدار ثابت پر می‌شود که باز هم ممکن است در بعضی موارد مناسب نباشد. <br>\n",
    "    روش چهارم پر کردن با مقدار میانگین یا میانه است. در این روش میانگین یا میانه داده‌های موجود را محاسبه می‌کنیم و تمام سلول‌های خالی مربوط به آن ستون را با آن مقدار پر می‌کنیم. <br>\n",
    "    روش پنجم پر کردن با محتمل‌ترین مقدار است. در این روش با استفاده از روش‌های آماری و تحلیل‌هایی حدس می‌زنیم احتمال اینکه داده‌های سلول‌های خالی چه مقداری باشد، بییشتر است و همان مقدار را برایش در نظر می‌گیریم. این روش یکی از بهترین و دقیق‌ترین روش‌هاست ولی هزینه عملیاتی بالایی دارد. \n",
    "</p>"
   ]
  },
  {
   "cell_type": "code",
   "execution_count": 22,
   "id": "dc346969",
   "metadata": {},
   "outputs": [
    {
     "data": {
      "text/html": [
       "<div>\n",
       "<style scoped>\n",
       "    .dataframe tbody tr th:only-of-type {\n",
       "        vertical-align: middle;\n",
       "    }\n",
       "\n",
       "    .dataframe tbody tr th {\n",
       "        vertical-align: top;\n",
       "    }\n",
       "\n",
       "    .dataframe thead th {\n",
       "        text-align: right;\n",
       "    }\n",
       "</style>\n",
       "<table border=\"1\" class=\"dataframe\">\n",
       "  <thead>\n",
       "    <tr style=\"text-align: right;\">\n",
       "      <th></th>\n",
       "      <th>name</th>\n",
       "      <th>family</th>\n",
       "      <th>age</th>\n",
       "    </tr>\n",
       "  </thead>\n",
       "  <tbody>\n",
       "    <tr>\n",
       "      <th>0</th>\n",
       "      <td>mehdi</td>\n",
       "      <td>abbasi</td>\n",
       "      <td>43.0</td>\n",
       "    </tr>\n",
       "    <tr>\n",
       "      <th>1</th>\n",
       "      <td>ali</td>\n",
       "      <td>rezaei</td>\n",
       "      <td>NaN</td>\n",
       "    </tr>\n",
       "    <tr>\n",
       "      <th>2</th>\n",
       "      <td>NaN</td>\n",
       "      <td>NaN</td>\n",
       "      <td>NaN</td>\n",
       "    </tr>\n",
       "    <tr>\n",
       "      <th>3</th>\n",
       "      <td>NaN</td>\n",
       "      <td>ahmadi</td>\n",
       "      <td>NaN</td>\n",
       "    </tr>\n",
       "    <tr>\n",
       "      <th>4</th>\n",
       "      <td>reza</td>\n",
       "      <td>NaN</td>\n",
       "      <td>31.0</td>\n",
       "    </tr>\n",
       "    <tr>\n",
       "      <th>5</th>\n",
       "      <td>negin</td>\n",
       "      <td>abbasi</td>\n",
       "      <td>18.0</td>\n",
       "    </tr>\n",
       "    <tr>\n",
       "      <th>6</th>\n",
       "      <td>NaN</td>\n",
       "      <td>NaN</td>\n",
       "      <td>NaN</td>\n",
       "    </tr>\n",
       "    <tr>\n",
       "      <th>7</th>\n",
       "      <td>sara</td>\n",
       "      <td>rahmati</td>\n",
       "      <td>NaN</td>\n",
       "    </tr>\n",
       "    <tr>\n",
       "      <th>8</th>\n",
       "      <td>NaN</td>\n",
       "      <td>NaN</td>\n",
       "      <td>20.0</td>\n",
       "    </tr>\n",
       "    <tr>\n",
       "      <th>9</th>\n",
       "      <td>mehdi</td>\n",
       "      <td>akbary</td>\n",
       "      <td>31.0</td>\n",
       "    </tr>\n",
       "  </tbody>\n",
       "</table>\n",
       "</div>"
      ],
      "text/plain": [
       "    name   family   age\n",
       "0  mehdi   abbasi  43.0\n",
       "1    ali   rezaei   NaN\n",
       "2    NaN      NaN   NaN\n",
       "3    NaN   ahmadi   NaN\n",
       "4   reza      NaN  31.0\n",
       "5  negin   abbasi  18.0\n",
       "6    NaN      NaN   NaN\n",
       "7   sara  rahmati   NaN\n",
       "8    NaN      NaN  20.0\n",
       "9  mehdi   akbary  31.0"
      ]
     },
     "metadata": {},
     "output_type": "display_data"
    }
   ],
   "source": [
    "import pandas as pd\n",
    "import numpy as np\n",
    "df = pd.DataFrame({\n",
    "    'name': ['mehdi', 'ali', np.nan, np.nan, 'reza', 'negin', np.nan, 'sara', np.nan, 'mehdi'],\n",
    "    'family': ['abbasi', 'rezaei', np.nan, 'ahmadi', np.nan, 'abbasi', np.nan, 'rahmati', np.nan, 'akbary'],\n",
    "    'age': [43, np.nan, np.nan, np.nan, 31, 18, np.nan, np.nan, 20, 31]\n",
    "})\n",
    "display(df)"
   ]
  },
  {
   "cell_type": "markdown",
   "id": "9e973de5",
   "metadata": {
    "direction": "rtl"
   },
   "source": [
    "<p style = \"font-family:B Nazanin;\">\n",
    "     تابع isnull نشان می‌دهد که کدام سلول‌ها مقدار ندارند یا به عبارتی null یا NaN هستند:\n",
    "</p>"
   ]
  },
  {
   "cell_type": "code",
   "execution_count": 23,
   "id": "f24ec69e",
   "metadata": {},
   "outputs": [
    {
     "name": "stdout",
     "output_type": "stream",
     "text": [
      "    name  family    age\n",
      "0  False   False  False\n",
      "1  False   False   True\n",
      "2   True    True   True\n",
      "3   True   False   True\n",
      "4  False    True  False\n",
      "5  False   False  False\n",
      "6   True    True   True\n",
      "7  False   False   True\n",
      "8   True    True  False\n",
      "9  False   False  False\n"
     ]
    }
   ],
   "source": [
    "print(df.isnull())"
   ]
  },
  {
   "cell_type": "markdown",
   "id": "eaaaef0d",
   "metadata": {
    "direction": "rtl"
   },
   "source": [
    "<p style = \"font-family:B Nazanin;\">\n",
    "     تابع isna نشان می‌دهد کدام سلول‌ها مقدار NaN دارند:\n",
    "</p>"
   ]
  },
  {
   "cell_type": "code",
   "execution_count": 32,
   "id": "1e400cad",
   "metadata": {},
   "outputs": [
    {
     "name": "stdout",
     "output_type": "stream",
     "text": [
      "    name  family    age\n",
      "0  False   False  False\n",
      "1  False   False   True\n",
      "2   True    True   True\n",
      "3   True   False   True\n",
      "4  False    True  False\n",
      "5  False   False  False\n",
      "6   True    True   True\n",
      "7  False   False   True\n",
      "8   True    True  False\n",
      "9  False   False  False\n"
     ]
    }
   ],
   "source": [
    "print(df.isna())"
   ]
  },
  {
   "cell_type": "markdown",
   "id": "8b445579",
   "metadata": {
    "direction": "rtl"
   },
   "source": [
    "<p style = \"font-family:B Nazanin;\">\n",
    "     تابع notnull برعکس تابع isnull عمل می‌کند و هر جا داده‌ای مقدار داشته‌باشد مقدار True را برمی‌گرداند:\n",
    "</p>"
   ]
  },
  {
   "cell_type": "code",
   "execution_count": 24,
   "id": "5ca2be4e",
   "metadata": {},
   "outputs": [
    {
     "name": "stdout",
     "output_type": "stream",
     "text": [
      "    name  family    age\n",
      "0   True    True   True\n",
      "1   True    True  False\n",
      "2  False   False  False\n",
      "3  False    True  False\n",
      "4   True   False   True\n",
      "5   True    True   True\n",
      "6  False   False  False\n",
      "7   True    True  False\n",
      "8  False   False   True\n",
      "9   True    True   True\n"
     ]
    }
   ],
   "source": [
    "print(df.notnull())"
   ]
  },
  {
   "cell_type": "markdown",
   "id": "c5dd9c07",
   "metadata": {
    "direction": "rtl"
   },
   "source": [
    "<p style = \"font-family:B Nazanin;\">\n",
    "     توابع معرفی‌شده در بالا می‌توانند روی چند ستون خاص یک دیتافریم هم اعمال شود:\n",
    "</p>"
   ]
  },
  {
   "cell_type": "code",
   "execution_count": 25,
   "id": "2d99b5fa",
   "metadata": {},
   "outputs": [
    {
     "name": "stdout",
     "output_type": "stream",
     "text": [
      "0    False\n",
      "1     True\n",
      "2     True\n",
      "3     True\n",
      "4    False\n",
      "5    False\n",
      "6     True\n",
      "7     True\n",
      "8    False\n",
      "9    False\n",
      "Name: age, dtype: bool\n"
     ]
    }
   ],
   "source": [
    "print(df['age'].isnull())"
   ]
  },
  {
   "cell_type": "code",
   "execution_count": 26,
   "id": "2d738c8b",
   "metadata": {},
   "outputs": [
    {
     "name": "stdout",
     "output_type": "stream",
     "text": [
      "0     True\n",
      "1    False\n",
      "2    False\n",
      "3    False\n",
      "4     True\n",
      "5     True\n",
      "6    False\n",
      "7    False\n",
      "8     True\n",
      "9     True\n",
      "Name: age, dtype: bool\n"
     ]
    }
   ],
   "source": [
    "print(df['age'].notnull())"
   ]
  },
  {
   "cell_type": "markdown",
   "id": "d61b8923",
   "metadata": {
    "direction": "rtl"
   },
   "source": [
    "<p style = \"font-family:B Nazanin;\">\n",
    "     این توابع را می‌توانیم روی ماژول pandas نیز مستقیما اعمال کنیم و نام دیتافریم را به عنوان پارامتر ورودی به آن بدهیم:\n",
    "</p>"
   ]
  },
  {
   "cell_type": "code",
   "execution_count": 27,
   "id": "3e1cf80f",
   "metadata": {},
   "outputs": [
    {
     "name": "stdout",
     "output_type": "stream",
     "text": [
      "0    False\n",
      "1     True\n",
      "2     True\n",
      "3     True\n",
      "4    False\n",
      "5    False\n",
      "6     True\n",
      "7     True\n",
      "8    False\n",
      "9    False\n",
      "Name: age, dtype: bool\n"
     ]
    }
   ],
   "source": [
    "print(pd.isnull(df['age']))"
   ]
  },
  {
   "cell_type": "code",
   "execution_count": 28,
   "id": "689e52f7",
   "metadata": {},
   "outputs": [
    {
     "name": "stdout",
     "output_type": "stream",
     "text": [
      "0     True\n",
      "1    False\n",
      "2    False\n",
      "3    False\n",
      "4     True\n",
      "5     True\n",
      "6    False\n",
      "7    False\n",
      "8     True\n",
      "9     True\n",
      "Name: age, dtype: bool\n"
     ]
    }
   ],
   "source": [
    "print(pd.notnull(df['age']))"
   ]
  },
  {
   "cell_type": "markdown",
   "id": "748de07f",
   "metadata": {
    "direction": "rtl"
   },
   "source": [
    "<p style = \"font-family:B Nazanin;\">\n",
    "     با استفاده از تابع sum می‌توانیم تعداد داده‌های NaN یا Null را بشماریم:\n",
    "</p>"
   ]
  },
  {
   "cell_type": "code",
   "execution_count": 29,
   "id": "c2fbd0ce",
   "metadata": {},
   "outputs": [
    {
     "name": "stdout",
     "output_type": "stream",
     "text": [
      "name      4\n",
      "family    4\n",
      "age       5\n",
      "dtype: int64\n"
     ]
    }
   ],
   "source": [
    "print(df.isnull().sum())"
   ]
  },
  {
   "cell_type": "code",
   "execution_count": 31,
   "id": "d82d03eb",
   "metadata": {},
   "outputs": [
    {
     "name": "stdout",
     "output_type": "stream",
     "text": [
      "name      6\n",
      "family    6\n",
      "age       5\n",
      "dtype: int64\n"
     ]
    }
   ],
   "source": [
    "print(df.notnull().sum())"
   ]
  }
 ],
 "metadata": {
  "kernelspec": {
   "display_name": "Python 3 (ipykernel)",
   "language": "python",
   "name": "python3"
  },
  "language_info": {
   "codemirror_mode": {
    "name": "ipython",
    "version": 3
   },
   "file_extension": ".py",
   "mimetype": "text/x-python",
   "name": "python",
   "nbconvert_exporter": "python",
   "pygments_lexer": "ipython3",
   "version": "3.11.2"
  }
 },
 "nbformat": 4,
 "nbformat_minor": 5
}
