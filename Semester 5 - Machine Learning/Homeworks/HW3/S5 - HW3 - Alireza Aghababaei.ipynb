{
 "cells": [
  {
   "cell_type": "markdown",
   "metadata": {
    "id": "5Co1TJn706hq"
   },
   "source": [
    "<div dir=\"rtl\">\n",
    "    <h2>مقدمه</h2>\n",
    "    <font size=\"4\">\n",
    "        در این تمرین، شما با یک مسئله رگرسیون روبرو هستید که هدف آن پیش‌بینی یک ویژگی خاص از یک دیتاست است. برای حل این مشکل، شما باید از روش‌های مختلف پیش‌پردازش داده‌ها، انتخاب ویژگی‌ها، و مدل‌سازی استفاده کنید. این تمرین شامل مراحل زیر خواهد بود:\n",
    "    </font>\n",
    "</div>\n",
    "\n",
    "<div dir=\"rtl\">\n",
    "    <h3>قدم اول: ارزیابی و شناخت دیتاست</h3>\n",
    "</div>\n",
    "\n",
    "<div dir=\"rtl\">\n",
    "    <h3>قدم دوم: پیش‌پردازش داده‌ها</h3>\n",
    "</div>\n",
    "\n",
    "<div dir=\"rtl\">\n",
    "    <h3>قدم سوم: مصورسازی و بررسی داده‌ها و متغیرها</h3>\n",
    "</div>\n",
    "\n",
    "<div dir=\"rtl\">\n",
    "    <h3>قدم چهارم: مهندسی ویژگی / انتخاب ویژگی</h3>\n",
    "</div>\n",
    "\n",
    "<div dir=\"rtl\">\n",
    "    <h3>قدم پنجم: مدل‌سازی اولیه</h3>\n",
    "</div>\n",
    "\n",
    "<div dir=\"rtl\">\n",
    "    <h3>قدم ششم: بهینه‌سازی مدل(های) منتخب</h3>\n",
    "</div>\n",
    "<br>\n",
    "\n",
    "<div dir=\"rtl\">\n",
    "    <h2>توضیح دیتاست</h2>\n",
    "    <p>این مجموعه داده شامل اطلاعاتی درباره کیفیت هوا است. ویژگی‌های مختلف در این دیتاست عبارت‌اند از:</p>\n",
    "</div>\n",
    "<div dir=\"rtl\">\n",
    "    <font size=4>\n",
    "        <li><strong>0 - تاریخ (DD/MM/YYYY):</strong> تاریخ ثبت داده‌ها</li>\n",
    "        <li><strong>1 - زمان (HH.MM.SS):</strong> زمان ثبت داده‌ها</li>\n",
    "        <li><strong>2 - غلظت CO (مقدار mg/m³):</strong> غلظت دی‌اکسید کربن به صورت میانگین ساعتی</li>\n",
    "        <li><strong>3 - PT08.S1 (سنسور اکسید قلع):</strong> پاسخ سنسور برای شناسایی CO</li>\n",
    "        <li><strong>4 - غلظت Non Metanic HydroCarbons (µg/m³):</strong> غلظت کل هیدروکربن‌های غیر متان</li>\n",
    "        <li><strong>5 - غلظت بنزن (µg/m³):</strong> غلظت بنزن</li>\n",
    "        <li><strong>6 - PT08.S2 (سنسور تیتانیا):</strong> پاسخ سنسور برای شناسایی Non Metanic HydroCarbons</li>\n",
    "        <li><strong>7 - غلظت NOx (ppb):</strong> غلظت نیتروژن اکسیدها</li>\n",
    "        <li><strong>8 - PT08.S3 (سنسور اکسید تنگستن):</strong> پاسخ سنسور برای شناسایی NOx</li>\n",
    "        <li><strong>9 - غلظت NO2 (µg/m³):</strong> غلظت دی‌اکسید نیتروژن</li>\n",
    "        <li><strong>10 - PT08.S4 (سنسور اکسید تنگستن):</strong> پاسخ سنسور برای شناسایی NO2</li>\n",
    "        <li><strong>11 - PT08.S5 (سنسور اکسید ایندیوم):</strong> پاسخ سنسور برای شناسایی O3</li>\n",
    "        <li><strong>12 - دما (درجه سانتی‌گراد):</strong> دمای محیط</li>\n",
    "        <li><strong>13 - رطوبت نسبی (%):</strong> میزان رطوبت محیط</li>\n",
    "        <li><strong>14 - رطوبت مطلق (AH):</strong> مقدار رطوبت مطلق</li>\n",
    "    </font>\n",
    "</div>"
   ]
  },
  {
   "cell_type": "markdown",
   "metadata": {
    "id": "GlDsSc5JzI8h"
   },
   "source": [
    "<div dir=\"rtl\">\n",
    "    <font size=5 color=\"red\"> راهنمای تمرین:</font>\n",
    "    <br>\n",
    "    <p>\n",
    "        <font size=4>\n",
    "        این تمرین به گونه‌ای طراحی شده که شما باید کدهای خود را در قالب خاصی که از قبل مشخص شده، بنویسید. به این معنی که ممکن است بخشی از کد برای شما آماده باشد و شما باید فقط ادامه کد را بنویسید بدون اینکه آن قسمت از کد را تغییر دهید. این نوع تمرین برای کمک به شما طراحی شده تا در مراحل بعدی با چالش‌های پیچیده‌تری روبرو شوید که نیاز به مهارت‌های بیشتری دارند.\n",
    "        <br>\n",
    "        در این تمرین، در هر مرحله شما باید برداشت‌ها و تحلیل‌های خود را بنویسید. مثلاً اگر در کد شما نمودار یا جدولی از داده‌ها یا نتایج مدل‌ها به نمایش در می‌آید، شما باید توضیح دهید که آن‌ها چه معنی و کاربردی دارند. این تحلیل‌ها می‌تواند شامل بررسی تغییرات در داده‌ها، ارزیابی مدل‌ها، یا نتایج بهینه‌سازی‌ها باشد.\n",
    "        <br>\n",
    "        برای هر بخش، حداقل پنج نکته یا برداشت از نتایج یا داده‌ها باید بنویسید.\n",
    "        <br>\n",
    "            <li>\n",
    "            در قسمت ارزیابی , باید یافته ها و نکاتی که از تحلیل داده متوجه شده و دریافت کرده اید در قالب یک خلاصه گزارش , بنویسید.\n",
    "            </li>\n",
    "            <li>\n",
    "            برای هر نمودار یا جدول، تحلیل کنید که چه روندی را نشان می‌دهند یا آیا نکته خاصی برای بهبود مدل یا داده‌ها از آن‌ها قابل استخراج است.\n",
    "            </li>\n",
    "            <br>\n",
    "        مهم است که توجه داشته باشید شما باید فقط کدهای خود را اضافه کنید و قسمت‌هایی که از پیش نوشته شده‌اند، نباید تغییر کنند. هدف این است که شما بتوانید با استفاده از قالب و راهنمایی‌های داده شده، تمرین را به درستی تکمیل کنید.\n",
    "        </font>\n",
    "    </p>\n",
    "</div>\n",
    "<br>\n",
    "<br>"
   ]
  },
  {
   "cell_type": "markdown",
   "metadata": {
    "id": "2lmtieU22Wuv"
   },
   "source": [
    "<div dir=\"rtl\">\n",
    "    <font size=5 color=\"red\">\n",
    "    اهداف تمرین:\n",
    "    </font>\n",
    "    <font size=4>\n",
    "        <li>مقدار MSE باید کمتر از 0.20 باشد</li>\n",
    "        <li>مقدار R2 باید بیشتر از 0.85 باشد</li>\n",
    "        <li>مدل نهایی نباید Overfit/Underfit شده باشد.</li>\n",
    "    </font>\n",
    "\n",
    "</div>\n",
    "<br>\n",
    "<br>"
   ]
  },
  {
   "cell_type": "markdown",
   "metadata": {
    "id": "nNktlFS5o_I3"
   },
   "source": [
    "__________________"
   ]
  },
  {
   "cell_type": "markdown",
   "metadata": {
    "id": "VWNXp4Ay4t57"
   },
   "source": [
    "<div dir=\"rtl\">\n",
    "<font size=\"6\">\n",
    "    <li>\n",
    "    <strong>قدم اول: ارزیابی و شناخت دیتاست</strong>\n",
    "    </li>\n",
    "</font>\n",
    "<font size=\"4\">\n",
    "    در این قدم، شما باید دیتاست را بررسی کرده و ساختار آن را درک کنید. بررسی کنید که چه متغیرهایی در دیتاست وجود دارند، نوع داده‌ها چیست و آیا داده‌ها گمشده یا نادرست هستند یا خیر. این مرحله به شما کمک می‌کند که به‌طور کامل با داده‌ها آشنا شوید و مشکلات احتمالی را شناسایی کنید.\n",
    "</font>\n",
    "</div>\n",
    "<br>"
   ]
  },
  {
   "cell_type": "markdown",
   "metadata": {
    "id": "ZHzkOBn91txT"
   },
   "source": [
    "<div dir=\"rtl\">\n",
    "    <p>\n",
    "        <font size=4>\n",
    "            <li>\n",
    "            کتابخانه و ماژول های مورد نیاز برای قدم اول این تمرین را در محیط برنامه نویسی لود کنید:\n",
    "            </li>\n",
    "        </font>\n",
    "    </p>\n",
    "</div>"
   ]
  },
  {
   "cell_type": "code",
   "execution_count": 33,
   "metadata": {
    "id": "22UVRWRH2Nbd"
   },
   "outputs": [],
   "source": [
    "# TODO: کتابخانه ها را ایمپورت کنید\n",
    "import numpy as np\n",
    "import pandas as pd\n",
    "import seaborn as sns\n",
    "import matplotlib.pyplot as plt"
   ]
  },
  {
   "cell_type": "code",
   "execution_count": 2,
   "metadata": {
    "id": "rcHzjRE3Hfvj"
   },
   "outputs": [],
   "source": [
    "# TODO: دیتافریم را لود کنید\n",
    "with open('./dataset.csv', 'r') as f:\n",
    "    df = pd.read_csv(f, sep=';')"
   ]
  },
  {
   "cell_type": "markdown",
   "metadata": {
    "id": "sOsTt5l60yqy"
   },
   "source": [
    "<div dir=\"rtl\">\n",
    "    <p>\n",
    "        <font size=4>\n",
    "            <li>\n",
    "            دیتافریم را ارزیابی کنید مثلا:\n",
    "            </li>\n",
    "            1. ابعاد دیتافریم\n",
    "            <br>\n",
    "            2. نوع دیتاتایپ و تعداد ویژگی های\n",
    "            <br>\n",
    "            3. داده های تکراری و NaN\n",
    "            <br>\n",
    "            4. ...\n",
    "        </font>\n",
    "    </p>\n",
    "</div>"
   ]
  },
  {
   "cell_type": "code",
   "execution_count": 3,
   "metadata": {
    "id": "JP6esntgqrEU"
   },
   "outputs": [
    {
     "data": {
      "text/html": [
       "<div>\n",
       "<style scoped>\n",
       "    .dataframe tbody tr th:only-of-type {\n",
       "        vertical-align: middle;\n",
       "    }\n",
       "\n",
       "    .dataframe tbody tr th {\n",
       "        vertical-align: top;\n",
       "    }\n",
       "\n",
       "    .dataframe thead th {\n",
       "        text-align: right;\n",
       "    }\n",
       "</style>\n",
       "<table border=\"1\" class=\"dataframe\">\n",
       "  <thead>\n",
       "    <tr style=\"text-align: right;\">\n",
       "      <th></th>\n",
       "      <th>Date</th>\n",
       "      <th>Time</th>\n",
       "      <th>CO(GT)</th>\n",
       "      <th>PT08.S1(CO)</th>\n",
       "      <th>NMHC(GT)</th>\n",
       "      <th>C6H6(GT)</th>\n",
       "      <th>PT08.S2(NMHC)</th>\n",
       "      <th>NOx(GT)</th>\n",
       "      <th>PT08.S3(NOx)</th>\n",
       "      <th>NO2(GT)</th>\n",
       "      <th>PT08.S4(NO2)</th>\n",
       "      <th>PT08.S5(O3)</th>\n",
       "      <th>T</th>\n",
       "      <th>RH</th>\n",
       "      <th>AH</th>\n",
       "      <th>Unnamed: 15</th>\n",
       "      <th>Unnamed: 16</th>\n",
       "    </tr>\n",
       "  </thead>\n",
       "  <tbody>\n",
       "    <tr>\n",
       "      <th>0</th>\n",
       "      <td>10/03/2004</td>\n",
       "      <td>18.00.00</td>\n",
       "      <td>2,6</td>\n",
       "      <td>1360.0</td>\n",
       "      <td>150.0</td>\n",
       "      <td>11,9</td>\n",
       "      <td>1046.0</td>\n",
       "      <td>166.0</td>\n",
       "      <td>1056.0</td>\n",
       "      <td>113.0</td>\n",
       "      <td>1692.0</td>\n",
       "      <td>1268.0</td>\n",
       "      <td>13,6</td>\n",
       "      <td>48,9</td>\n",
       "      <td>0,7578</td>\n",
       "      <td>NaN</td>\n",
       "      <td>NaN</td>\n",
       "    </tr>\n",
       "    <tr>\n",
       "      <th>1</th>\n",
       "      <td>10/03/2004</td>\n",
       "      <td>19.00.00</td>\n",
       "      <td>2</td>\n",
       "      <td>1292.0</td>\n",
       "      <td>112.0</td>\n",
       "      <td>9,4</td>\n",
       "      <td>955.0</td>\n",
       "      <td>103.0</td>\n",
       "      <td>1174.0</td>\n",
       "      <td>92.0</td>\n",
       "      <td>1559.0</td>\n",
       "      <td>972.0</td>\n",
       "      <td>13,3</td>\n",
       "      <td>47,7</td>\n",
       "      <td>0,7255</td>\n",
       "      <td>NaN</td>\n",
       "      <td>NaN</td>\n",
       "    </tr>\n",
       "    <tr>\n",
       "      <th>2</th>\n",
       "      <td>10/03/2004</td>\n",
       "      <td>20.00.00</td>\n",
       "      <td>2,2</td>\n",
       "      <td>1402.0</td>\n",
       "      <td>88.0</td>\n",
       "      <td>9,0</td>\n",
       "      <td>939.0</td>\n",
       "      <td>131.0</td>\n",
       "      <td>1140.0</td>\n",
       "      <td>114.0</td>\n",
       "      <td>1555.0</td>\n",
       "      <td>1074.0</td>\n",
       "      <td>11,9</td>\n",
       "      <td>54,0</td>\n",
       "      <td>0,7502</td>\n",
       "      <td>NaN</td>\n",
       "      <td>NaN</td>\n",
       "    </tr>\n",
       "    <tr>\n",
       "      <th>3</th>\n",
       "      <td>10/03/2004</td>\n",
       "      <td>21.00.00</td>\n",
       "      <td>2,2</td>\n",
       "      <td>1376.0</td>\n",
       "      <td>80.0</td>\n",
       "      <td>9,2</td>\n",
       "      <td>948.0</td>\n",
       "      <td>172.0</td>\n",
       "      <td>1092.0</td>\n",
       "      <td>122.0</td>\n",
       "      <td>1584.0</td>\n",
       "      <td>1203.0</td>\n",
       "      <td>11,0</td>\n",
       "      <td>60,0</td>\n",
       "      <td>0,7867</td>\n",
       "      <td>NaN</td>\n",
       "      <td>NaN</td>\n",
       "    </tr>\n",
       "    <tr>\n",
       "      <th>4</th>\n",
       "      <td>10/03/2004</td>\n",
       "      <td>22.00.00</td>\n",
       "      <td>1,6</td>\n",
       "      <td>1272.0</td>\n",
       "      <td>51.0</td>\n",
       "      <td>6,5</td>\n",
       "      <td>836.0</td>\n",
       "      <td>131.0</td>\n",
       "      <td>1205.0</td>\n",
       "      <td>116.0</td>\n",
       "      <td>1490.0</td>\n",
       "      <td>1110.0</td>\n",
       "      <td>11,2</td>\n",
       "      <td>59,6</td>\n",
       "      <td>0,7888</td>\n",
       "      <td>NaN</td>\n",
       "      <td>NaN</td>\n",
       "    </tr>\n",
       "  </tbody>\n",
       "</table>\n",
       "</div>"
      ],
      "text/plain": [
       "         Date      Time CO(GT)  PT08.S1(CO)  NMHC(GT) C6H6(GT)  PT08.S2(NMHC)  \\\n",
       "0  10/03/2004  18.00.00    2,6       1360.0     150.0     11,9         1046.0   \n",
       "1  10/03/2004  19.00.00      2       1292.0     112.0      9,4          955.0   \n",
       "2  10/03/2004  20.00.00    2,2       1402.0      88.0      9,0          939.0   \n",
       "3  10/03/2004  21.00.00    2,2       1376.0      80.0      9,2          948.0   \n",
       "4  10/03/2004  22.00.00    1,6       1272.0      51.0      6,5          836.0   \n",
       "\n",
       "   NOx(GT)  PT08.S3(NOx)  NO2(GT)  PT08.S4(NO2)  PT08.S5(O3)     T    RH  \\\n",
       "0    166.0        1056.0    113.0        1692.0       1268.0  13,6  48,9   \n",
       "1    103.0        1174.0     92.0        1559.0        972.0  13,3  47,7   \n",
       "2    131.0        1140.0    114.0        1555.0       1074.0  11,9  54,0   \n",
       "3    172.0        1092.0    122.0        1584.0       1203.0  11,0  60,0   \n",
       "4    131.0        1205.0    116.0        1490.0       1110.0  11,2  59,6   \n",
       "\n",
       "       AH  Unnamed: 15  Unnamed: 16  \n",
       "0  0,7578          NaN          NaN  \n",
       "1  0,7255          NaN          NaN  \n",
       "2  0,7502          NaN          NaN  \n",
       "3  0,7867          NaN          NaN  \n",
       "4  0,7888          NaN          NaN  "
      ]
     },
     "execution_count": 3,
     "metadata": {},
     "output_type": "execute_result"
    }
   ],
   "source": [
    "# TODO : بررسی چند ردیف اول دیتافریم\n",
    "df.head()"
   ]
  },
  {
   "cell_type": "code",
   "execution_count": 4,
   "metadata": {
    "id": "8jpIR2CkWMIw"
   },
   "outputs": [
    {
     "data": {
      "text/plain": [
       "(9471, 17)"
      ]
     },
     "execution_count": 4,
     "metadata": {},
     "output_type": "execute_result"
    }
   ],
   "source": [
    "# TODO: بررسی ابعاد دیتافریم\n",
    "df.shape"
   ]
  },
  {
   "cell_type": "code",
   "execution_count": 5,
   "metadata": {
    "id": "in1LP0wG5lUN"
   },
   "outputs": [
    {
     "data": {
      "text/plain": [
       "Index(['Date', 'Time', 'CO(GT)', 'PT08.S1(CO)', 'NMHC(GT)', 'C6H6(GT)',\n",
       "       'PT08.S2(NMHC)', 'NOx(GT)', 'PT08.S3(NOx)', 'NO2(GT)', 'PT08.S4(NO2)',\n",
       "       'PT08.S5(O3)', 'T', 'RH', 'AH', 'Unnamed: 15', 'Unnamed: 16'],\n",
       "      dtype='object')"
      ]
     },
     "execution_count": 5,
     "metadata": {},
     "output_type": "execute_result"
    }
   ],
   "source": [
    "# TODO: بررسی اطلاعات کلی دیتافریم\n",
    "df.columns"
   ]
  },
  {
   "cell_type": "code",
   "execution_count": 6,
   "metadata": {},
   "outputs": [
    {
     "name": "stdout",
     "output_type": "stream",
     "text": [
      "<class 'pandas.core.frame.DataFrame'>\n",
      "RangeIndex: 9471 entries, 0 to 9470\n",
      "Data columns (total 17 columns):\n",
      " #   Column         Non-Null Count  Dtype  \n",
      "---  ------         --------------  -----  \n",
      " 0   Date           9357 non-null   object \n",
      " 1   Time           9357 non-null   object \n",
      " 2   CO(GT)         9357 non-null   object \n",
      " 3   PT08.S1(CO)    9357 non-null   float64\n",
      " 4   NMHC(GT)       9357 non-null   float64\n",
      " 5   C6H6(GT)       9357 non-null   object \n",
      " 6   PT08.S2(NMHC)  9357 non-null   float64\n",
      " 7   NOx(GT)        9357 non-null   float64\n",
      " 8   PT08.S3(NOx)   9357 non-null   float64\n",
      " 9   NO2(GT)        9357 non-null   float64\n",
      " 10  PT08.S4(NO2)   9357 non-null   float64\n",
      " 11  PT08.S5(O3)    9357 non-null   float64\n",
      " 12  T              9357 non-null   object \n",
      " 13  RH             9357 non-null   object \n",
      " 14  AH             9357 non-null   object \n",
      " 15  Unnamed: 15    0 non-null      float64\n",
      " 16  Unnamed: 16    0 non-null      float64\n",
      "dtypes: float64(10), object(7)\n",
      "memory usage: 1.2+ MB\n"
     ]
    }
   ],
   "source": [
    "df.info()"
   ]
  },
  {
   "cell_type": "code",
   "execution_count": 7,
   "metadata": {},
   "outputs": [
    {
     "data": {
      "text/plain": [
       "Date              114\n",
       "Time              114\n",
       "CO(GT)            114\n",
       "PT08.S1(CO)       114\n",
       "NMHC(GT)          114\n",
       "C6H6(GT)          114\n",
       "PT08.S2(NMHC)     114\n",
       "NOx(GT)           114\n",
       "PT08.S3(NOx)      114\n",
       "NO2(GT)           114\n",
       "PT08.S4(NO2)      114\n",
       "PT08.S5(O3)       114\n",
       "T                 114\n",
       "RH                114\n",
       "AH                114\n",
       "Unnamed: 15      9471\n",
       "Unnamed: 16      9471\n",
       "dtype: int64"
      ]
     },
     "execution_count": 7,
     "metadata": {},
     "output_type": "execute_result"
    }
   ],
   "source": [
    "df.isnull().sum()"
   ]
  },
  {
   "cell_type": "code",
   "execution_count": 8,
   "metadata": {},
   "outputs": [
    {
     "data": {
      "text/plain": [
       "True"
      ]
     },
     "execution_count": 8,
     "metadata": {},
     "output_type": "execute_result"
    }
   ],
   "source": [
    "df.duplicated().any()"
   ]
  },
  {
   "cell_type": "code",
   "execution_count": 9,
   "metadata": {},
   "outputs": [
    {
     "data": {
      "text/plain": [
       "0       False\n",
       "1       False\n",
       "2       False\n",
       "3       False\n",
       "4       False\n",
       "        ...  \n",
       "9466     True\n",
       "9467     True\n",
       "9468     True\n",
       "9469     True\n",
       "9470     True\n",
       "Length: 9471, dtype: bool"
      ]
     },
     "execution_count": 9,
     "metadata": {},
     "output_type": "execute_result"
    }
   ],
   "source": [
    "df.isna().all(axis=1)"
   ]
  },
  {
   "cell_type": "code",
   "execution_count": 10,
   "metadata": {},
   "outputs": [
    {
     "data": {
      "text/plain": [
       "114"
      ]
     },
     "execution_count": 10,
     "metadata": {},
     "output_type": "execute_result"
    }
   ],
   "source": [
    "df.isna().all(axis=1).sum()"
   ]
  },
  {
   "cell_type": "markdown",
   "metadata": {
    "id": "9G2qpt7j1rNq"
   },
   "source": [
    "### ارزیابی:\n",
    "1. در اولین تلاش برای خواندن دیتافریم این نکته مشخص شد که داده‌های فایل csv به جای اینکه با کاراکتر `,` از هم جدا شوند با کاراکتر `;` جداشده بودند. به همین دلیل در هنگام خواندن فایل پارامتر`sep = ';'` تعیین شد.\n",
    "2. ضمنا در برخی از ستون‌ها اعداد اعشاری با کاراکتر `,` به عنوان ممیز نوشته شده اند که این کاراکتر کار تبدیل متن به عدد را دچار مشکل می‌سازد. به همین دلیل در ادامه باید این کاراکتر را به کاراکتر `.` تبدیل کنیم.\n",
    "3. تعداد ستون‌های دیتافریم 17 عدد مشخص شده است که با بررسی مشخص شد دو ستون آخر حاوی هیچ اطلاعاتی نیست و تمام داده‌های آن دو ستون NaN است. دلیل وجود این دو ستون نیز وجود دو کاراکتر `;` اضافی در انتهای همه سطرهای فایل دیتاست است. این دو ستون در ادامه باید حذف شوند تا تعداد ستون‌ها به 15 عدد کاهش یابد.\n",
    "4. دیتافریم 9471 سطر دارد ولی با بررسی مقادیر ستون‌ها می‌بینیم که هر ستون فقط 9357 داده غیرNaN دارد. بنابراین در تمام ستون‌ها  $9471-9357=114$ داده NaN وجود دارد. از طرفی با بررسی سطرهایی که تمام مقادیرشان NaN است می‌فهمیم که تعداد آن‌ها نیز 114 تاست. پس متوجه می‌شویم که 114 سطر آخر دیتاست کاملا خالی است که باید حذف شوند. \n",
    "5. تمام داده‌های این دیتاست از نوع عددی است اما نوع داده‌ای بسیاری از ستون‌ها object است. دلیل این امر نیز همان کاراکتر ممیز در اعداد اعشاری است که کار تبدیل داده‌ها به عدد را با خطا مواجه کرده است. "
   ]
  },
  {
   "cell_type": "markdown",
   "metadata": {
    "id": "3AvnbnBf2ImN"
   },
   "source": [
    "<div dir=\"rtl\">\n",
    "    <p>\n",
    "        <font size=4>\n",
    "            <li>\n",
    "                داده های تکراری (Duplicates) و داده های گم شده (Missing Values) را بررسی و ارزیابی کنید.\n",
    "                <strong>سپس مقادیر تکراری را حذف کنید.</strong>\n",
    "            </li>\n",
    "        </font>\n",
    "    </p>\n",
    "</div>"
   ]
  },
  {
   "cell_type": "code",
   "execution_count": 11,
   "metadata": {
    "id": "bbOoKKT57cfI"
   },
   "outputs": [
    {
     "data": {
      "text/plain": [
       "Date              114\n",
       "Time              114\n",
       "CO(GT)            114\n",
       "PT08.S1(CO)       114\n",
       "NMHC(GT)          114\n",
       "C6H6(GT)          114\n",
       "PT08.S2(NMHC)     114\n",
       "NOx(GT)           114\n",
       "PT08.S3(NOx)      114\n",
       "NO2(GT)           114\n",
       "PT08.S4(NO2)      114\n",
       "PT08.S5(O3)       114\n",
       "T                 114\n",
       "RH                114\n",
       "AH                114\n",
       "Unnamed: 15      9471\n",
       "Unnamed: 16      9471\n",
       "dtype: int64"
      ]
     },
     "execution_count": 11,
     "metadata": {},
     "output_type": "execute_result"
    }
   ],
   "source": [
    "# TODO: بررسی مقادیر گم شده\n",
    "df.isnull().sum()"
   ]
  },
  {
   "cell_type": "code",
   "execution_count": 12,
   "metadata": {
    "id": "PL5PDc8n-z6q"
   },
   "outputs": [
    {
     "data": {
      "text/plain": [
       "113"
      ]
     },
     "execution_count": 12,
     "metadata": {},
     "output_type": "execute_result"
    }
   ],
   "source": [
    "# TODO: بررسی داده های تکراری\n",
    "df.duplicated().sum()"
   ]
  },
  {
   "cell_type": "code",
   "execution_count": 13,
   "metadata": {},
   "outputs": [
    {
     "data": {
      "text/plain": [
       "113"
      ]
     },
     "execution_count": 13,
     "metadata": {},
     "output_type": "execute_result"
    }
   ],
   "source": [
    "df.duplicated([\"Date\", \"Time\"]).sum()"
   ]
  },
  {
   "cell_type": "code",
   "execution_count": 14,
   "metadata": {},
   "outputs": [
    {
     "data": {
      "text/html": [
       "<div>\n",
       "<style scoped>\n",
       "    .dataframe tbody tr th:only-of-type {\n",
       "        vertical-align: middle;\n",
       "    }\n",
       "\n",
       "    .dataframe tbody tr th {\n",
       "        vertical-align: top;\n",
       "    }\n",
       "\n",
       "    .dataframe thead th {\n",
       "        text-align: right;\n",
       "    }\n",
       "</style>\n",
       "<table border=\"1\" class=\"dataframe\">\n",
       "  <thead>\n",
       "    <tr style=\"text-align: right;\">\n",
       "      <th></th>\n",
       "      <th>Date</th>\n",
       "      <th>Time</th>\n",
       "      <th>CO(GT)</th>\n",
       "      <th>PT08.S1(CO)</th>\n",
       "      <th>NMHC(GT)</th>\n",
       "      <th>C6H6(GT)</th>\n",
       "      <th>PT08.S2(NMHC)</th>\n",
       "      <th>NOx(GT)</th>\n",
       "      <th>PT08.S3(NOx)</th>\n",
       "      <th>NO2(GT)</th>\n",
       "      <th>PT08.S4(NO2)</th>\n",
       "      <th>PT08.S5(O3)</th>\n",
       "      <th>T</th>\n",
       "      <th>RH</th>\n",
       "      <th>AH</th>\n",
       "      <th>Unnamed: 15</th>\n",
       "      <th>Unnamed: 16</th>\n",
       "    </tr>\n",
       "  </thead>\n",
       "  <tbody>\n",
       "    <tr>\n",
       "      <th>9358</th>\n",
       "      <td>NaN</td>\n",
       "      <td>NaN</td>\n",
       "      <td>NaN</td>\n",
       "      <td>NaN</td>\n",
       "      <td>NaN</td>\n",
       "      <td>NaN</td>\n",
       "      <td>NaN</td>\n",
       "      <td>NaN</td>\n",
       "      <td>NaN</td>\n",
       "      <td>NaN</td>\n",
       "      <td>NaN</td>\n",
       "      <td>NaN</td>\n",
       "      <td>NaN</td>\n",
       "      <td>NaN</td>\n",
       "      <td>NaN</td>\n",
       "      <td>NaN</td>\n",
       "      <td>NaN</td>\n",
       "    </tr>\n",
       "    <tr>\n",
       "      <th>9359</th>\n",
       "      <td>NaN</td>\n",
       "      <td>NaN</td>\n",
       "      <td>NaN</td>\n",
       "      <td>NaN</td>\n",
       "      <td>NaN</td>\n",
       "      <td>NaN</td>\n",
       "      <td>NaN</td>\n",
       "      <td>NaN</td>\n",
       "      <td>NaN</td>\n",
       "      <td>NaN</td>\n",
       "      <td>NaN</td>\n",
       "      <td>NaN</td>\n",
       "      <td>NaN</td>\n",
       "      <td>NaN</td>\n",
       "      <td>NaN</td>\n",
       "      <td>NaN</td>\n",
       "      <td>NaN</td>\n",
       "    </tr>\n",
       "    <tr>\n",
       "      <th>9360</th>\n",
       "      <td>NaN</td>\n",
       "      <td>NaN</td>\n",
       "      <td>NaN</td>\n",
       "      <td>NaN</td>\n",
       "      <td>NaN</td>\n",
       "      <td>NaN</td>\n",
       "      <td>NaN</td>\n",
       "      <td>NaN</td>\n",
       "      <td>NaN</td>\n",
       "      <td>NaN</td>\n",
       "      <td>NaN</td>\n",
       "      <td>NaN</td>\n",
       "      <td>NaN</td>\n",
       "      <td>NaN</td>\n",
       "      <td>NaN</td>\n",
       "      <td>NaN</td>\n",
       "      <td>NaN</td>\n",
       "    </tr>\n",
       "    <tr>\n",
       "      <th>9361</th>\n",
       "      <td>NaN</td>\n",
       "      <td>NaN</td>\n",
       "      <td>NaN</td>\n",
       "      <td>NaN</td>\n",
       "      <td>NaN</td>\n",
       "      <td>NaN</td>\n",
       "      <td>NaN</td>\n",
       "      <td>NaN</td>\n",
       "      <td>NaN</td>\n",
       "      <td>NaN</td>\n",
       "      <td>NaN</td>\n",
       "      <td>NaN</td>\n",
       "      <td>NaN</td>\n",
       "      <td>NaN</td>\n",
       "      <td>NaN</td>\n",
       "      <td>NaN</td>\n",
       "      <td>NaN</td>\n",
       "    </tr>\n",
       "    <tr>\n",
       "      <th>9362</th>\n",
       "      <td>NaN</td>\n",
       "      <td>NaN</td>\n",
       "      <td>NaN</td>\n",
       "      <td>NaN</td>\n",
       "      <td>NaN</td>\n",
       "      <td>NaN</td>\n",
       "      <td>NaN</td>\n",
       "      <td>NaN</td>\n",
       "      <td>NaN</td>\n",
       "      <td>NaN</td>\n",
       "      <td>NaN</td>\n",
       "      <td>NaN</td>\n",
       "      <td>NaN</td>\n",
       "      <td>NaN</td>\n",
       "      <td>NaN</td>\n",
       "      <td>NaN</td>\n",
       "      <td>NaN</td>\n",
       "    </tr>\n",
       "    <tr>\n",
       "      <th>...</th>\n",
       "      <td>...</td>\n",
       "      <td>...</td>\n",
       "      <td>...</td>\n",
       "      <td>...</td>\n",
       "      <td>...</td>\n",
       "      <td>...</td>\n",
       "      <td>...</td>\n",
       "      <td>...</td>\n",
       "      <td>...</td>\n",
       "      <td>...</td>\n",
       "      <td>...</td>\n",
       "      <td>...</td>\n",
       "      <td>...</td>\n",
       "      <td>...</td>\n",
       "      <td>...</td>\n",
       "      <td>...</td>\n",
       "      <td>...</td>\n",
       "    </tr>\n",
       "    <tr>\n",
       "      <th>9466</th>\n",
       "      <td>NaN</td>\n",
       "      <td>NaN</td>\n",
       "      <td>NaN</td>\n",
       "      <td>NaN</td>\n",
       "      <td>NaN</td>\n",
       "      <td>NaN</td>\n",
       "      <td>NaN</td>\n",
       "      <td>NaN</td>\n",
       "      <td>NaN</td>\n",
       "      <td>NaN</td>\n",
       "      <td>NaN</td>\n",
       "      <td>NaN</td>\n",
       "      <td>NaN</td>\n",
       "      <td>NaN</td>\n",
       "      <td>NaN</td>\n",
       "      <td>NaN</td>\n",
       "      <td>NaN</td>\n",
       "    </tr>\n",
       "    <tr>\n",
       "      <th>9467</th>\n",
       "      <td>NaN</td>\n",
       "      <td>NaN</td>\n",
       "      <td>NaN</td>\n",
       "      <td>NaN</td>\n",
       "      <td>NaN</td>\n",
       "      <td>NaN</td>\n",
       "      <td>NaN</td>\n",
       "      <td>NaN</td>\n",
       "      <td>NaN</td>\n",
       "      <td>NaN</td>\n",
       "      <td>NaN</td>\n",
       "      <td>NaN</td>\n",
       "      <td>NaN</td>\n",
       "      <td>NaN</td>\n",
       "      <td>NaN</td>\n",
       "      <td>NaN</td>\n",
       "      <td>NaN</td>\n",
       "    </tr>\n",
       "    <tr>\n",
       "      <th>9468</th>\n",
       "      <td>NaN</td>\n",
       "      <td>NaN</td>\n",
       "      <td>NaN</td>\n",
       "      <td>NaN</td>\n",
       "      <td>NaN</td>\n",
       "      <td>NaN</td>\n",
       "      <td>NaN</td>\n",
       "      <td>NaN</td>\n",
       "      <td>NaN</td>\n",
       "      <td>NaN</td>\n",
       "      <td>NaN</td>\n",
       "      <td>NaN</td>\n",
       "      <td>NaN</td>\n",
       "      <td>NaN</td>\n",
       "      <td>NaN</td>\n",
       "      <td>NaN</td>\n",
       "      <td>NaN</td>\n",
       "    </tr>\n",
       "    <tr>\n",
       "      <th>9469</th>\n",
       "      <td>NaN</td>\n",
       "      <td>NaN</td>\n",
       "      <td>NaN</td>\n",
       "      <td>NaN</td>\n",
       "      <td>NaN</td>\n",
       "      <td>NaN</td>\n",
       "      <td>NaN</td>\n",
       "      <td>NaN</td>\n",
       "      <td>NaN</td>\n",
       "      <td>NaN</td>\n",
       "      <td>NaN</td>\n",
       "      <td>NaN</td>\n",
       "      <td>NaN</td>\n",
       "      <td>NaN</td>\n",
       "      <td>NaN</td>\n",
       "      <td>NaN</td>\n",
       "      <td>NaN</td>\n",
       "    </tr>\n",
       "    <tr>\n",
       "      <th>9470</th>\n",
       "      <td>NaN</td>\n",
       "      <td>NaN</td>\n",
       "      <td>NaN</td>\n",
       "      <td>NaN</td>\n",
       "      <td>NaN</td>\n",
       "      <td>NaN</td>\n",
       "      <td>NaN</td>\n",
       "      <td>NaN</td>\n",
       "      <td>NaN</td>\n",
       "      <td>NaN</td>\n",
       "      <td>NaN</td>\n",
       "      <td>NaN</td>\n",
       "      <td>NaN</td>\n",
       "      <td>NaN</td>\n",
       "      <td>NaN</td>\n",
       "      <td>NaN</td>\n",
       "      <td>NaN</td>\n",
       "    </tr>\n",
       "  </tbody>\n",
       "</table>\n",
       "<p>113 rows × 17 columns</p>\n",
       "</div>"
      ],
      "text/plain": [
       "     Date Time CO(GT)  PT08.S1(CO)  NMHC(GT) C6H6(GT)  PT08.S2(NMHC)  NOx(GT)  \\\n",
       "9358  NaN  NaN    NaN          NaN       NaN      NaN            NaN      NaN   \n",
       "9359  NaN  NaN    NaN          NaN       NaN      NaN            NaN      NaN   \n",
       "9360  NaN  NaN    NaN          NaN       NaN      NaN            NaN      NaN   \n",
       "9361  NaN  NaN    NaN          NaN       NaN      NaN            NaN      NaN   \n",
       "9362  NaN  NaN    NaN          NaN       NaN      NaN            NaN      NaN   \n",
       "...   ...  ...    ...          ...       ...      ...            ...      ...   \n",
       "9466  NaN  NaN    NaN          NaN       NaN      NaN            NaN      NaN   \n",
       "9467  NaN  NaN    NaN          NaN       NaN      NaN            NaN      NaN   \n",
       "9468  NaN  NaN    NaN          NaN       NaN      NaN            NaN      NaN   \n",
       "9469  NaN  NaN    NaN          NaN       NaN      NaN            NaN      NaN   \n",
       "9470  NaN  NaN    NaN          NaN       NaN      NaN            NaN      NaN   \n",
       "\n",
       "      PT08.S3(NOx)  NO2(GT)  PT08.S4(NO2)  PT08.S5(O3)    T   RH   AH  \\\n",
       "9358           NaN      NaN           NaN          NaN  NaN  NaN  NaN   \n",
       "9359           NaN      NaN           NaN          NaN  NaN  NaN  NaN   \n",
       "9360           NaN      NaN           NaN          NaN  NaN  NaN  NaN   \n",
       "9361           NaN      NaN           NaN          NaN  NaN  NaN  NaN   \n",
       "9362           NaN      NaN           NaN          NaN  NaN  NaN  NaN   \n",
       "...            ...      ...           ...          ...  ...  ...  ...   \n",
       "9466           NaN      NaN           NaN          NaN  NaN  NaN  NaN   \n",
       "9467           NaN      NaN           NaN          NaN  NaN  NaN  NaN   \n",
       "9468           NaN      NaN           NaN          NaN  NaN  NaN  NaN   \n",
       "9469           NaN      NaN           NaN          NaN  NaN  NaN  NaN   \n",
       "9470           NaN      NaN           NaN          NaN  NaN  NaN  NaN   \n",
       "\n",
       "      Unnamed: 15  Unnamed: 16  \n",
       "9358          NaN          NaN  \n",
       "9359          NaN          NaN  \n",
       "9360          NaN          NaN  \n",
       "9361          NaN          NaN  \n",
       "9362          NaN          NaN  \n",
       "...           ...          ...  \n",
       "9466          NaN          NaN  \n",
       "9467          NaN          NaN  \n",
       "9468          NaN          NaN  \n",
       "9469          NaN          NaN  \n",
       "9470          NaN          NaN  \n",
       "\n",
       "[113 rows x 17 columns]"
      ]
     },
     "execution_count": 14,
     "metadata": {},
     "output_type": "execute_result"
    }
   ],
   "source": [
    "df[df.duplicated()]"
   ]
  },
  {
   "cell_type": "code",
   "execution_count": 15,
   "metadata": {
    "id": "1Mfcyya0wDlG"
   },
   "outputs": [
    {
     "data": {
      "text/plain": [
       "(9357, 17)"
      ]
     },
     "execution_count": 15,
     "metadata": {},
     "output_type": "execute_result"
    }
   ],
   "source": [
    "# TODO: حذف داده های تکراری\n",
    "df.drop_duplicates(keep=False, inplace=True)\n",
    "df.shape"
   ]
  },
  {
   "cell_type": "markdown",
   "metadata": {
    "id": "Iqpxdzf12eVs"
   },
   "source": [
    "<div dir=\"rtl\">\n",
    "    <p>\n",
    "        <font size=4>\n",
    "            <li>\n",
    "                با کمک کتابخانه <code>missingno</code> مقادیر گم شده را مصورسازی کنید.\n",
    "            </li>\n",
    "        </font>\n",
    "    </p>\n",
    "</div>"
   ]
  },
  {
   "cell_type": "code",
   "execution_count": 16,
   "metadata": {},
   "outputs": [
    {
     "name": "stdout",
     "output_type": "stream",
     "text": [
      "Requirement already satisfied: missingno in c:\\users\\alireza\\appdata\\local\\programs\\python\\python311\\lib\\site-packages (0.5.2)\n",
      "Requirement already satisfied: numpy in c:\\users\\alireza\\appdata\\local\\programs\\python\\python311\\lib\\site-packages (from missingno) (1.24.2)\n",
      "Requirement already satisfied: matplotlib in c:\\users\\alireza\\appdata\\local\\programs\\python\\python311\\lib\\site-packages (from missingno) (3.7.1)\n",
      "Requirement already satisfied: scipy in c:\\users\\alireza\\appdata\\local\\programs\\python\\python311\\lib\\site-packages (from missingno) (1.11.1)\n",
      "Requirement already satisfied: seaborn in c:\\users\\alireza\\appdata\\local\\programs\\python\\python311\\lib\\site-packages (from missingno) (0.12.2)\n",
      "Requirement already satisfied: contourpy>=1.0.1 in c:\\users\\alireza\\appdata\\local\\programs\\python\\python311\\lib\\site-packages (from matplotlib->missingno) (1.0.7)\n",
      "Requirement already satisfied: cycler>=0.10 in c:\\users\\alireza\\appdata\\local\\programs\\python\\python311\\lib\\site-packages (from matplotlib->missingno) (0.11.0)\n",
      "Requirement already satisfied: fonttools>=4.22.0 in c:\\users\\alireza\\appdata\\local\\programs\\python\\python311\\lib\\site-packages (from matplotlib->missingno) (4.39.2)\n",
      "Requirement already satisfied: kiwisolver>=1.0.1 in c:\\users\\alireza\\appdata\\local\\programs\\python\\python311\\lib\\site-packages (from matplotlib->missingno) (1.4.4)\n",
      "Requirement already satisfied: packaging>=20.0 in c:\\users\\alireza\\appdata\\local\\programs\\python\\python311\\lib\\site-packages (from matplotlib->missingno) (23.0)\n",
      "Requirement already satisfied: pillow>=6.2.0 in c:\\users\\alireza\\appdata\\local\\programs\\python\\python311\\lib\\site-packages (from matplotlib->missingno) (9.4.0)\n",
      "Requirement already satisfied: pyparsing>=2.3.1 in c:\\users\\alireza\\appdata\\local\\programs\\python\\python311\\lib\\site-packages (from matplotlib->missingno) (3.0.9)\n",
      "Requirement already satisfied: python-dateutil>=2.7 in c:\\users\\alireza\\appdata\\local\\programs\\python\\python311\\lib\\site-packages (from matplotlib->missingno) (2.8.2)\n",
      "Requirement already satisfied: pandas>=0.25 in c:\\users\\alireza\\appdata\\local\\programs\\python\\python311\\lib\\site-packages (from seaborn->missingno) (1.5.3)\n",
      "Requirement already satisfied: pytz>=2020.1 in c:\\users\\alireza\\appdata\\local\\programs\\python\\python311\\lib\\site-packages (from pandas>=0.25->seaborn->missingno) (2022.7.1)\n",
      "Requirement already satisfied: six>=1.5 in c:\\users\\alireza\\appdata\\local\\programs\\python\\python311\\lib\\site-packages (from python-dateutil>=2.7->matplotlib->missingno) (1.16.0)\n"
     ]
    },
    {
     "name": "stderr",
     "output_type": "stream",
     "text": [
      "WARNING: Ignoring invalid distribution ~ip (C:\\Users\\Alireza\\AppData\\Local\\Programs\\Python\\Python311\\Lib\\site-packages)\n",
      "WARNING: Ignoring invalid distribution ~ip (C:\\Users\\Alireza\\AppData\\Local\\Programs\\Python\\Python311\\Lib\\site-packages)\n",
      "WARNING: Ignoring invalid distribution ~ip (C:\\Users\\Alireza\\AppData\\Local\\Programs\\Python\\Python311\\Lib\\site-packages)\n",
      "\n",
      "[notice] A new release of pip is available: 24.3.1 -> 25.0.1\n",
      "[notice] To update, run: python.exe -m pip install --upgrade pip\n"
     ]
    }
   ],
   "source": [
    "!pip install missingno"
   ]
  },
  {
   "cell_type": "code",
   "execution_count": 17,
   "metadata": {
    "id": "WVcJYT0h_rpE"
   },
   "outputs": [
    {
     "data": {
      "text/plain": [
       "<Axes: >"
      ]
     },
     "execution_count": 17,
     "metadata": {},
     "output_type": "execute_result"
    },
    {
     "data": {
      "image/png": "[encoded data removed]",
      "text/plain": [
       "<Figure size 2500x1000 with 2 Axes>"
      ]
     },
     "metadata": {},
     "output_type": "display_data"
    }
   ],
   "source": [
    "# TODO:  مصور سازی داده های گم شده\n",
    "import missingno\n",
    "missingno.matrix(df)"
   ]
  },
  {
   "cell_type": "code",
   "execution_count": 18,
   "metadata": {},
   "outputs": [
    {
     "data": {
      "text/plain": [
       "<Axes: >"
      ]
     },
     "execution_count": 18,
     "metadata": {},
     "output_type": "execute_result"
    },
    {
     "data": {
      "image/png": "[encoded data removed]",
      "text/plain": [
       "<Figure size 2500x1000 with 3 Axes>"
      ]
     },
     "metadata": {},
     "output_type": "display_data"
    }
   ],
   "source": [
    "missingno.bar(df)"
   ]
  },
  {
   "cell_type": "markdown",
   "metadata": {
    "id": "eQNB8eNK23Rm"
   },
   "source": [
    "<div dir=\"rtl\">\n",
    "    <p>\n",
    "        <font size=4>\n",
    "            <li>\n",
    "                تعداد مقادیر یکتا (Unique) در هر ویژگی را بررسی کنید.\n",
    "            </li>\n",
    "        </font>\n",
    "    </p>\n",
    "</div>"
   ]
  },
  {
   "cell_type": "code",
   "execution_count": 19,
   "metadata": {
    "id": "bXlcoNUvC0Gy"
   },
   "outputs": [
    {
     "data": {
      "text/plain": [
       "Date              391\n",
       "Time               24\n",
       "CO(GT)            104\n",
       "PT08.S1(CO)      1042\n",
       "NMHC(GT)          430\n",
       "C6H6(GT)          408\n",
       "PT08.S2(NMHC)    1246\n",
       "NOx(GT)           926\n",
       "PT08.S3(NOx)     1222\n",
       "NO2(GT)           284\n",
       "PT08.S4(NO2)     1604\n",
       "PT08.S5(O3)      1744\n",
       "T                 437\n",
       "RH                754\n",
       "AH               6684\n",
       "Unnamed: 15         0\n",
       "Unnamed: 16         0\n",
       "dtype: int64"
      ]
     },
     "execution_count": 19,
     "metadata": {},
     "output_type": "execute_result"
    }
   ],
   "source": [
    "# TODO: بررسی تعداد داده های منحصر بفرد و یکتا در هر ویژگی\n",
    "df.nunique()"
   ]
  },
  {
   "cell_type": "markdown",
   "metadata": {
    "id": "PTaLd0GW3A_p"
   },
   "source": [
    "<div dir=\"rtl\">\n",
    "    <p>\n",
    "        <font size=4>\n",
    "            <li>\n",
    "                جدول Describe را برای این دیتافریم بررسی کنیدو ارزیابی اولیه خودتان را در مورد این دیتافریم بنویسید.\n",
    "                در ادامه که نمونه از ارزیابی اولیه برای شما نوشته شده است که لازم است با آن توجه داشته باشید\n",
    "            </li>\n",
    "        </font>\n",
    "    </p>\n",
    "</div>"
   ]
  },
  {
   "cell_type": "code",
   "execution_count": 20,
   "metadata": {
    "id": "z2NrOlX7FbeA"
   },
   "outputs": [
    {
     "data": {
      "text/html": [
       "<div>\n",
       "<style scoped>\n",
       "    .dataframe tbody tr th:only-of-type {\n",
       "        vertical-align: middle;\n",
       "    }\n",
       "\n",
       "    .dataframe tbody tr th {\n",
       "        vertical-align: top;\n",
       "    }\n",
       "\n",
       "    .dataframe thead th {\n",
       "        text-align: right;\n",
       "    }\n",
       "</style>\n",
       "<table border=\"1\" class=\"dataframe\">\n",
       "  <thead>\n",
       "    <tr style=\"text-align: right;\">\n",
       "      <th></th>\n",
       "      <th>Date</th>\n",
       "      <th>Time</th>\n",
       "      <th>CO(GT)</th>\n",
       "      <th>PT08.S1(CO)</th>\n",
       "      <th>NMHC(GT)</th>\n",
       "      <th>C6H6(GT)</th>\n",
       "      <th>PT08.S2(NMHC)</th>\n",
       "      <th>NOx(GT)</th>\n",
       "      <th>PT08.S3(NOx)</th>\n",
       "      <th>NO2(GT)</th>\n",
       "      <th>PT08.S4(NO2)</th>\n",
       "      <th>PT08.S5(O3)</th>\n",
       "      <th>T</th>\n",
       "      <th>RH</th>\n",
       "      <th>AH</th>\n",
       "      <th>Unnamed: 15</th>\n",
       "      <th>Unnamed: 16</th>\n",
       "    </tr>\n",
       "  </thead>\n",
       "  <tbody>\n",
       "    <tr>\n",
       "      <th>count</th>\n",
       "      <td>9357</td>\n",
       "      <td>9357</td>\n",
       "      <td>9357</td>\n",
       "      <td>9357.000000</td>\n",
       "      <td>9357.000000</td>\n",
       "      <td>9357</td>\n",
       "      <td>9357.000000</td>\n",
       "      <td>9357.000000</td>\n",
       "      <td>9357.000000</td>\n",
       "      <td>9357.000000</td>\n",
       "      <td>9357.000000</td>\n",
       "      <td>9357.000000</td>\n",
       "      <td>9357</td>\n",
       "      <td>9357</td>\n",
       "      <td>9357</td>\n",
       "      <td>0.0</td>\n",
       "      <td>0.0</td>\n",
       "    </tr>\n",
       "    <tr>\n",
       "      <th>unique</th>\n",
       "      <td>391</td>\n",
       "      <td>24</td>\n",
       "      <td>104</td>\n",
       "      <td>NaN</td>\n",
       "      <td>NaN</td>\n",
       "      <td>408</td>\n",
       "      <td>NaN</td>\n",
       "      <td>NaN</td>\n",
       "      <td>NaN</td>\n",
       "      <td>NaN</td>\n",
       "      <td>NaN</td>\n",
       "      <td>NaN</td>\n",
       "      <td>437</td>\n",
       "      <td>754</td>\n",
       "      <td>6684</td>\n",
       "      <td>NaN</td>\n",
       "      <td>NaN</td>\n",
       "    </tr>\n",
       "    <tr>\n",
       "      <th>top</th>\n",
       "      <td>21/09/2004</td>\n",
       "      <td>18.00.00</td>\n",
       "      <td>-200</td>\n",
       "      <td>NaN</td>\n",
       "      <td>NaN</td>\n",
       "      <td>-200,0</td>\n",
       "      <td>NaN</td>\n",
       "      <td>NaN</td>\n",
       "      <td>NaN</td>\n",
       "      <td>NaN</td>\n",
       "      <td>NaN</td>\n",
       "      <td>NaN</td>\n",
       "      <td>-200</td>\n",
       "      <td>-200</td>\n",
       "      <td>-200</td>\n",
       "      <td>NaN</td>\n",
       "      <td>NaN</td>\n",
       "    </tr>\n",
       "    <tr>\n",
       "      <th>freq</th>\n",
       "      <td>24</td>\n",
       "      <td>390</td>\n",
       "      <td>1592</td>\n",
       "      <td>NaN</td>\n",
       "      <td>NaN</td>\n",
       "      <td>366</td>\n",
       "      <td>NaN</td>\n",
       "      <td>NaN</td>\n",
       "      <td>NaN</td>\n",
       "      <td>NaN</td>\n",
       "      <td>NaN</td>\n",
       "      <td>NaN</td>\n",
       "      <td>366</td>\n",
       "      <td>366</td>\n",
       "      <td>366</td>\n",
       "      <td>NaN</td>\n",
       "      <td>NaN</td>\n",
       "    </tr>\n",
       "    <tr>\n",
       "      <th>mean</th>\n",
       "      <td>NaN</td>\n",
       "      <td>NaN</td>\n",
       "      <td>NaN</td>\n",
       "      <td>1048.990061</td>\n",
       "      <td>-159.090093</td>\n",
       "      <td>NaN</td>\n",
       "      <td>894.595276</td>\n",
       "      <td>168.616971</td>\n",
       "      <td>794.990168</td>\n",
       "      <td>58.148873</td>\n",
       "      <td>1391.479641</td>\n",
       "      <td>975.072032</td>\n",
       "      <td>NaN</td>\n",
       "      <td>NaN</td>\n",
       "      <td>NaN</td>\n",
       "      <td>NaN</td>\n",
       "      <td>NaN</td>\n",
       "    </tr>\n",
       "    <tr>\n",
       "      <th>std</th>\n",
       "      <td>NaN</td>\n",
       "      <td>NaN</td>\n",
       "      <td>NaN</td>\n",
       "      <td>329.832710</td>\n",
       "      <td>139.789093</td>\n",
       "      <td>NaN</td>\n",
       "      <td>342.333252</td>\n",
       "      <td>257.433866</td>\n",
       "      <td>321.993552</td>\n",
       "      <td>126.940455</td>\n",
       "      <td>467.210125</td>\n",
       "      <td>456.938184</td>\n",
       "      <td>NaN</td>\n",
       "      <td>NaN</td>\n",
       "      <td>NaN</td>\n",
       "      <td>NaN</td>\n",
       "      <td>NaN</td>\n",
       "    </tr>\n",
       "    <tr>\n",
       "      <th>min</th>\n",
       "      <td>NaN</td>\n",
       "      <td>NaN</td>\n",
       "      <td>NaN</td>\n",
       "      <td>-200.000000</td>\n",
       "      <td>-200.000000</td>\n",
       "      <td>NaN</td>\n",
       "      <td>-200.000000</td>\n",
       "      <td>-200.000000</td>\n",
       "      <td>-200.000000</td>\n",
       "      <td>-200.000000</td>\n",
       "      <td>-200.000000</td>\n",
       "      <td>-200.000000</td>\n",
       "      <td>NaN</td>\n",
       "      <td>NaN</td>\n",
       "      <td>NaN</td>\n",
       "      <td>NaN</td>\n",
       "      <td>NaN</td>\n",
       "    </tr>\n",
       "    <tr>\n",
       "      <th>25%</th>\n",
       "      <td>NaN</td>\n",
       "      <td>NaN</td>\n",
       "      <td>NaN</td>\n",
       "      <td>921.000000</td>\n",
       "      <td>-200.000000</td>\n",
       "      <td>NaN</td>\n",
       "      <td>711.000000</td>\n",
       "      <td>50.000000</td>\n",
       "      <td>637.000000</td>\n",
       "      <td>53.000000</td>\n",
       "      <td>1185.000000</td>\n",
       "      <td>700.000000</td>\n",
       "      <td>NaN</td>\n",
       "      <td>NaN</td>\n",
       "      <td>NaN</td>\n",
       "      <td>NaN</td>\n",
       "      <td>NaN</td>\n",
       "    </tr>\n",
       "    <tr>\n",
       "      <th>50%</th>\n",
       "      <td>NaN</td>\n",
       "      <td>NaN</td>\n",
       "      <td>NaN</td>\n",
       "      <td>1053.000000</td>\n",
       "      <td>-200.000000</td>\n",
       "      <td>NaN</td>\n",
       "      <td>895.000000</td>\n",
       "      <td>141.000000</td>\n",
       "      <td>794.000000</td>\n",
       "      <td>96.000000</td>\n",
       "      <td>1446.000000</td>\n",
       "      <td>942.000000</td>\n",
       "      <td>NaN</td>\n",
       "      <td>NaN</td>\n",
       "      <td>NaN</td>\n",
       "      <td>NaN</td>\n",
       "      <td>NaN</td>\n",
       "    </tr>\n",
       "    <tr>\n",
       "      <th>75%</th>\n",
       "      <td>NaN</td>\n",
       "      <td>NaN</td>\n",
       "      <td>NaN</td>\n",
       "      <td>1221.000000</td>\n",
       "      <td>-200.000000</td>\n",
       "      <td>NaN</td>\n",
       "      <td>1105.000000</td>\n",
       "      <td>284.000000</td>\n",
       "      <td>960.000000</td>\n",
       "      <td>133.000000</td>\n",
       "      <td>1662.000000</td>\n",
       "      <td>1255.000000</td>\n",
       "      <td>NaN</td>\n",
       "      <td>NaN</td>\n",
       "      <td>NaN</td>\n",
       "      <td>NaN</td>\n",
       "      <td>NaN</td>\n",
       "    </tr>\n",
       "    <tr>\n",
       "      <th>max</th>\n",
       "      <td>NaN</td>\n",
       "      <td>NaN</td>\n",
       "      <td>NaN</td>\n",
       "      <td>2040.000000</td>\n",
       "      <td>1189.000000</td>\n",
       "      <td>NaN</td>\n",
       "      <td>2214.000000</td>\n",
       "      <td>1479.000000</td>\n",
       "      <td>2683.000000</td>\n",
       "      <td>340.000000</td>\n",
       "      <td>2775.000000</td>\n",
       "      <td>2523.000000</td>\n",
       "      <td>NaN</td>\n",
       "      <td>NaN</td>\n",
       "      <td>NaN</td>\n",
       "      <td>NaN</td>\n",
       "      <td>NaN</td>\n",
       "    </tr>\n",
       "  </tbody>\n",
       "</table>\n",
       "</div>"
      ],
      "text/plain": [
       "              Date      Time CO(GT)  PT08.S1(CO)     NMHC(GT) C6H6(GT)  \\\n",
       "count         9357      9357   9357  9357.000000  9357.000000     9357   \n",
       "unique         391        24    104          NaN          NaN      408   \n",
       "top     21/09/2004  18.00.00   -200          NaN          NaN   -200,0   \n",
       "freq            24       390   1592          NaN          NaN      366   \n",
       "mean           NaN       NaN    NaN  1048.990061  -159.090093      NaN   \n",
       "std            NaN       NaN    NaN   329.832710   139.789093      NaN   \n",
       "min            NaN       NaN    NaN  -200.000000  -200.000000      NaN   \n",
       "25%            NaN       NaN    NaN   921.000000  -200.000000      NaN   \n",
       "50%            NaN       NaN    NaN  1053.000000  -200.000000      NaN   \n",
       "75%            NaN       NaN    NaN  1221.000000  -200.000000      NaN   \n",
       "max            NaN       NaN    NaN  2040.000000  1189.000000      NaN   \n",
       "\n",
       "        PT08.S2(NMHC)      NOx(GT)  PT08.S3(NOx)      NO2(GT)  PT08.S4(NO2)  \\\n",
       "count     9357.000000  9357.000000   9357.000000  9357.000000   9357.000000   \n",
       "unique            NaN          NaN           NaN          NaN           NaN   \n",
       "top               NaN          NaN           NaN          NaN           NaN   \n",
       "freq              NaN          NaN           NaN          NaN           NaN   \n",
       "mean       894.595276   168.616971    794.990168    58.148873   1391.479641   \n",
       "std        342.333252   257.433866    321.993552   126.940455    467.210125   \n",
       "min       -200.000000  -200.000000   -200.000000  -200.000000   -200.000000   \n",
       "25%        711.000000    50.000000    637.000000    53.000000   1185.000000   \n",
       "50%        895.000000   141.000000    794.000000    96.000000   1446.000000   \n",
       "75%       1105.000000   284.000000    960.000000   133.000000   1662.000000   \n",
       "max       2214.000000  1479.000000   2683.000000   340.000000   2775.000000   \n",
       "\n",
       "        PT08.S5(O3)     T    RH    AH  Unnamed: 15  Unnamed: 16  \n",
       "count   9357.000000  9357  9357  9357          0.0          0.0  \n",
       "unique          NaN   437   754  6684          NaN          NaN  \n",
       "top             NaN  -200  -200  -200          NaN          NaN  \n",
       "freq            NaN   366   366   366          NaN          NaN  \n",
       "mean     975.072032   NaN   NaN   NaN          NaN          NaN  \n",
       "std      456.938184   NaN   NaN   NaN          NaN          NaN  \n",
       "min     -200.000000   NaN   NaN   NaN          NaN          NaN  \n",
       "25%      700.000000   NaN   NaN   NaN          NaN          NaN  \n",
       "50%      942.000000   NaN   NaN   NaN          NaN          NaN  \n",
       "75%     1255.000000   NaN   NaN   NaN          NaN          NaN  \n",
       "max     2523.000000   NaN   NaN   NaN          NaN          NaN  "
      ]
     },
     "execution_count": 20,
     "metadata": {},
     "output_type": "execute_result"
    }
   ],
   "source": [
    "# TODO: بررسی اطلاعات آمار و احتمالاتی دیتاست\n",
    "df.describe(include='all')"
   ]
  },
  {
   "cell_type": "markdown",
   "metadata": {
    "id": "FE23x8g63q8i"
   },
   "source": [
    "### ارزیابی:\n",
    "1. اکثر ستون‌ها 9357 مقدار معتبر دارند، اما برخی شامل مقدار -200 هستند که احتمالاً نشان‌دهنده داده‌های نامعتبر یا مقادیر گمشده است.\n",
    "2. با توجه به اینکه در تمامی ستون‌ها مقادیر نامعتبر یا گمشده با مقدار -200 نشان داده شده اند، بنابراین این مقادیر محاسبه شده برای میانگین و انحراف معیار و صدک‌ها قطعا با اشتباه همراه هستند.\n",
    "3. با توجه به اینکه در تعدادی از ستون‌ها در اعداد اعشاری از کاراکتر `,` به عنوان ممیز استفاده شده است، این ستون‌ها به عدد تبدیل نشده‌اند و به همین دلیل  این ستون‌ها به عنوان `object` فرض شده اند و به صورت ستون عددی با آن‌ها رفتار نشده است.\n",
    "4. \n",
    "5. ..."
   ]
  },
  {
   "cell_type": "markdown",
   "metadata": {
    "id": "h8vFbe4M33oH"
   },
   "source": [
    "<div dir=\"rtl\">\n",
    "    <p>\n",
    "        <font size=4>\n",
    "            <li>\n",
    "            با توجه به توضیحات که ما برای شما در ارزیابی جدول آمار احتمالاتی نوشته ایم , تعداد مقادیر نویزی و نامعتبر در هر ویژگی را اندازه  گیری کنید.\n",
    "            خروجی مورد انتظار به صورت زیر است اما توجه داشته باشید مقادیری که شما به دست میاورید متفاوت خواهد بود.\n",
    "            </li>\n",
    "        </font>\n",
    "    </p>\n",
    "</div>"
   ]
  },
  {
   "cell_type": "markdown",
   "metadata": {
    "id": "NXu_7FJu5-Mi"
   },
   "source": [
    "```code\n",
    "تعداد مقادیر غیرواقعی (کمتر از0 ) در هر ستون:\n",
    "PT08.S1(CO)       100\n",
    "NMHC(GT)         33\n",
    "PT08.S2(NMHC)     67\n",
    ".\n",
    ".\n",
    ".\n",
    "```"
   ]
  },
  {
   "cell_type": "code",
   "execution_count": 21,
   "metadata": {
    "id": "JcdjNsqQIZGg"
   },
   "outputs": [
    {
     "name": "stdout",
     "output_type": "stream",
     "text": [
      "CO(GT)          1683\n",
      "PT08.S1(CO)     366\n",
      "NMHC(GT)        8443\n",
      "C6H6(GT)        366\n",
      "PT08.S2(NMHC)   366\n",
      "NOx(GT)         1639\n",
      "PT08.S3(NOx)    366\n",
      "NO2(GT)         1642\n",
      "PT08.S4(NO2)    366\n",
      "PT08.S5(O3)     366\n",
      "T               366\n",
      "RH              366\n",
      "AH              366\n",
      "Unnamed: 15     0\n",
      "Unnamed: 16     0\n"
     ]
    }
   ],
   "source": [
    "# TODO: بررسی تعداد مقادیر نامعتبر در ستون‌های عددی\n",
    "for col_name in df.columns[2:]:\n",
    "    col = df[col_name]\n",
    "    col_type = df[col_name].dtype\n",
    "    if col_type == 'float64':\n",
    "        print(f'{col_name:16}{(col==-200).sum()}')\n",
    "    else:\n",
    "        print(f'{col_name:16}{((col.str.replace(\",\", \".\").astype(float))==-200).sum()}')"
   ]
  },
  {
   "cell_type": "markdown",
   "metadata": {
    "id": "TTnZtk3y4HEE"
   },
   "source": [
    "<div dir=\"rtl\">\n",
    "    <p>\n",
    "        <font size=4, color=\"red\">\n",
    "            <li>\n",
    "                <strong>\n",
    "                    در خصوص عدد <code>-200</code> که به کرات در این دیتافریم دیده می شود تحقیق کنید و نتیجه تحقیق خود را در قسمت پایین بنویسید:\n",
    "                </strong>\n",
    "            </li>\n",
    "        </font>\n",
    "    </p>\n",
    "</div>"
   ]
  },
  {
   "cell_type": "markdown",
   "metadata": {
    "id": "qfRlTp9EcIuR"
   },
   "source": [
    "###  نتیحه ارزیابی در خصوص اعداد -200:\n",
    "1. ...\n",
    "2. ...\n",
    "3. ..."
   ]
  },
  {
   "cell_type": "markdown",
   "metadata": {
    "id": "U6QmcUzfkSGA"
   },
   "source": [
    "\n",
    "<div dir=\"rtl\">\n",
    "<font size=\"6\">\n",
    "    <li>\n",
    "    <strong>قدم دوم: پیش‌پردازش داده‌ها</strong>\n",
    "    </li>\n",
    "</font>\n",
    "<font size=\"4\">\n",
    "    در این مرحله، شما باید داده‌ها را با استفاده از نمودارها و آمار توصیفی تحلیل کنید. بررسی توزیع متغیرها، همبستگی بین ویژگی‌ها و شناسایی داده‌های پرت به درک بهتر الگوهای موجود در دیتاست کمک می‌کند.\n",
    "</font>\n",
    "</div>\n",
    "<br>"
   ]
  },
  {
   "cell_type": "code",
   "execution_count": 22,
   "metadata": {
    "id": "Rl2o2RkUlWmM"
   },
   "outputs": [],
   "source": [
    "# در ابتدا یک کپی از دیتافریم اصلی میگیریم.\n",
    "df_copy = df.copy()"
   ]
  },
  {
   "cell_type": "markdown",
   "metadata": {
    "id": "KgWXYbny1JRb"
   },
   "source": [
    "<div dir=\"rtl\">\n",
    "    <font size=4>\n",
    "        <li>\n",
    "            Datatype هارو اصلاح کنید.\n",
    "        </li>\n",
    "    </font>\n",
    "\n",
    "\n",
    "</div>\n",
    "<br>"
   ]
  },
  {
   "cell_type": "code",
   "execution_count": 23,
   "metadata": {
    "id": "HgWpR8gtmfSw"
   },
   "outputs": [],
   "source": [
    "def clean_and_convert(df):\n",
    "    \"\"\"\n",
    "    این متد را تکمیل کنید تا داده‌های ورودی را پاک‌سازی و تبدیل کند.\n",
    "\n",
    "    وظایف مورد انتظار:\n",
    "    1. تبدیل ستون 'Date' به فرمت datetime\n",
    "       - ستون 'Date' را به فرمت `datetime` تبدیل کنید.\n",
    "       - در صورت وجود خطا، مقدار نامعتبر را `NaT` قرار دهید.\n",
    "\n",
    "    2. استخراج ساعت از ستون 'Time'\n",
    "       - فرض کنید مقادیر این ستون به‌صورت 'hh.mm.ss' هستند.\n",
    "       - مقدار ساعت را از این رشته استخراج کرده و به فرمت `float` تبدیل کنید.\n",
    "       - نام ستون جدید را 'Hour' بگذارید.\n",
    "\n",
    "    3. تبدیل مقادیر عددی در ستون‌های متنی\n",
    "       - ابتدا، ستون‌هایی را که نوع داده آن‌ها `object` است شناسایی کنید.\n",
    "       - بررسی کنید که آیا این ستون‌ها دارای مقدار عددی با کاما به‌جای نقطه هستند.\n",
    "       - در صورت وجود، کاما را به نقطه تبدیل کنید و مقدار نهایی را به `float` تغییر دهید.\n",
    "\n",
    "    در نهایت، دیتافریم اصلاح‌شده را بازگردانید.\n",
    "    \"\"\"\n",
    "    df['Date'] = pd.to_datetime(df['Date'], format=\"%d/%m/%Y\", errors='coerce')\n",
    "    df['Hour'] = df['Time'].apply(lambda s: float(s.split(\".\")[0]))\n",
    "    df.drop('Time', axis=1, inplace=True)\n",
    "\n",
    "    for col in df.columns:\n",
    "        if df[col].dtype == 'object':\n",
    "            df[col] = df[col].str.replace(',', '.').astype(float)\n",
    "\n",
    "    return df\n",
    "\n",
    "# اعمال متد روی دیتاست\n",
    "df_copy = clean_and_convert(df_copy)"
   ]
  },
  {
   "cell_type": "code",
   "execution_count": 24,
   "metadata": {
    "id": "j_h8ZBfqn6jM"
   },
   "outputs": [
    {
     "name": "stdout",
     "output_type": "stream",
     "text": [
      "<class 'pandas.core.frame.DataFrame'>\n",
      "Int64Index: 9357 entries, 0 to 9356\n",
      "Data columns (total 17 columns):\n",
      " #   Column         Non-Null Count  Dtype         \n",
      "---  ------         --------------  -----         \n",
      " 0   Date           9357 non-null   datetime64[ns]\n",
      " 1   CO(GT)         9357 non-null   float64       \n",
      " 2   PT08.S1(CO)    9357 non-null   float64       \n",
      " 3   NMHC(GT)       9357 non-null   float64       \n",
      " 4   C6H6(GT)       9357 non-null   float64       \n",
      " 5   PT08.S2(NMHC)  9357 non-null   float64       \n",
      " 6   NOx(GT)        9357 non-null   float64       \n",
      " 7   PT08.S3(NOx)   9357 non-null   float64       \n",
      " 8   NO2(GT)        9357 non-null   float64       \n",
      " 9   PT08.S4(NO2)   9357 non-null   float64       \n",
      " 10  PT08.S5(O3)    9357 non-null   float64       \n",
      " 11  T              9357 non-null   float64       \n",
      " 12  RH             9357 non-null   float64       \n",
      " 13  AH             9357 non-null   float64       \n",
      " 14  Unnamed: 15    0 non-null      float64       \n",
      " 15  Unnamed: 16    0 non-null      float64       \n",
      " 16  Hour           9357 non-null   float64       \n",
      "dtypes: datetime64[ns](1), float64(16)\n",
      "memory usage: 1.3 MB\n"
     ]
    }
   ],
   "source": [
    "# TODO: مجددا نوع داده هارو بررسی کنید تا از تغییرات مد نظر مطمئن شوید.\n",
    "df_copy.info()"
   ]
  },
  {
   "cell_type": "markdown",
   "metadata": {
    "id": "-XlALRAe03LU"
   },
   "source": [
    "<div dir=\"rtl\">\n",
    "    <font size=4>\n",
    "        <li>\n",
    "            اگر دیتافریم شامل ستونی است که برای تحلیل و مدل سازی ما مناسب نیست آن را حذف کنید.\n",
    "        </li>\n",
    "    </font>\n",
    "</div>"
   ]
  },
  {
   "cell_type": "code",
   "execution_count": 29,
   "metadata": {
    "id": "YEE9jvfCfJ9r"
   },
   "outputs": [
    {
     "data": {
      "text/plain": [
       "(9357, 15)"
      ]
     },
     "execution_count": 29,
     "metadata": {},
     "output_type": "execute_result"
    }
   ],
   "source": [
    "# TODO: حذف ستون نامعتبر\n",
    "df_copy.dropna(how='all', axis=1, inplace=True)\n",
    "df_copy.shape"
   ]
  },
  {
   "cell_type": "markdown",
   "metadata": {
    "id": "PBjWAw25yp-F"
   },
   "source": [
    "<div dir=\"rtl\">\n",
    "    <font size=4>\n",
    "        حالا که متوجه شدیم دیتافریم ما دارای نویز است\n",
    "        بهترین راه حل را برای مواجه با این مشکل پیدا کنید و آن را پیاده سازی کنید    \n",
    "        <br>\n",
    "        منظور اعداد -200 است. در این قسمت شما باید تصیمیم بگیرید بهترین روش برخورد با این مقدار چیه.\n",
    "        <br>\n",
    "        قبل از انجام هر کاری مطمئن شوید که تحقیقات کامل درمورد دلیل وجود این عداد کرده باشید.\n",
    "    </font>\n",
    "</div>"
   ]
  },
  {
   "cell_type": "code",
   "execution_count": 31,
   "metadata": {
    "id": "GIVfFSL4yacw"
   },
   "outputs": [
    {
     "data": {
      "text/html": [
       "<div>\n",
       "<style scoped>\n",
       "    .dataframe tbody tr th:only-of-type {\n",
       "        vertical-align: middle;\n",
       "    }\n",
       "\n",
       "    .dataframe tbody tr th {\n",
       "        vertical-align: top;\n",
       "    }\n",
       "\n",
       "    .dataframe thead th {\n",
       "        text-align: right;\n",
       "    }\n",
       "</style>\n",
       "<table border=\"1\" class=\"dataframe\">\n",
       "  <thead>\n",
       "    <tr style=\"text-align: right;\">\n",
       "      <th></th>\n",
       "      <th>Date</th>\n",
       "      <th>CO(GT)</th>\n",
       "      <th>PT08.S1(CO)</th>\n",
       "      <th>NMHC(GT)</th>\n",
       "      <th>C6H6(GT)</th>\n",
       "      <th>PT08.S2(NMHC)</th>\n",
       "      <th>NOx(GT)</th>\n",
       "      <th>PT08.S3(NOx)</th>\n",
       "      <th>NO2(GT)</th>\n",
       "      <th>PT08.S4(NO2)</th>\n",
       "      <th>PT08.S5(O3)</th>\n",
       "      <th>T</th>\n",
       "      <th>RH</th>\n",
       "      <th>AH</th>\n",
       "      <th>Hour</th>\n",
       "    </tr>\n",
       "  </thead>\n",
       "  <tbody>\n",
       "    <tr>\n",
       "      <th>0</th>\n",
       "      <td>2004-03-10</td>\n",
       "      <td>2.6</td>\n",
       "      <td>1360.0</td>\n",
       "      <td>150.0</td>\n",
       "      <td>11.9</td>\n",
       "      <td>1046.0</td>\n",
       "      <td>166.0</td>\n",
       "      <td>1056.0</td>\n",
       "      <td>113.0</td>\n",
       "      <td>1692.0</td>\n",
       "      <td>1268.0</td>\n",
       "      <td>13.6</td>\n",
       "      <td>48.9</td>\n",
       "      <td>0.7578</td>\n",
       "      <td>18.0</td>\n",
       "    </tr>\n",
       "    <tr>\n",
       "      <th>1</th>\n",
       "      <td>2004-03-10</td>\n",
       "      <td>2.0</td>\n",
       "      <td>1292.0</td>\n",
       "      <td>112.0</td>\n",
       "      <td>9.4</td>\n",
       "      <td>955.0</td>\n",
       "      <td>103.0</td>\n",
       "      <td>1174.0</td>\n",
       "      <td>92.0</td>\n",
       "      <td>1559.0</td>\n",
       "      <td>972.0</td>\n",
       "      <td>13.3</td>\n",
       "      <td>47.7</td>\n",
       "      <td>0.7255</td>\n",
       "      <td>19.0</td>\n",
       "    </tr>\n",
       "    <tr>\n",
       "      <th>2</th>\n",
       "      <td>2004-03-10</td>\n",
       "      <td>2.2</td>\n",
       "      <td>1402.0</td>\n",
       "      <td>88.0</td>\n",
       "      <td>9.0</td>\n",
       "      <td>939.0</td>\n",
       "      <td>131.0</td>\n",
       "      <td>1140.0</td>\n",
       "      <td>114.0</td>\n",
       "      <td>1555.0</td>\n",
       "      <td>1074.0</td>\n",
       "      <td>11.9</td>\n",
       "      <td>54.0</td>\n",
       "      <td>0.7502</td>\n",
       "      <td>20.0</td>\n",
       "    </tr>\n",
       "    <tr>\n",
       "      <th>3</th>\n",
       "      <td>2004-03-10</td>\n",
       "      <td>2.2</td>\n",
       "      <td>1376.0</td>\n",
       "      <td>80.0</td>\n",
       "      <td>9.2</td>\n",
       "      <td>948.0</td>\n",
       "      <td>172.0</td>\n",
       "      <td>1092.0</td>\n",
       "      <td>122.0</td>\n",
       "      <td>1584.0</td>\n",
       "      <td>1203.0</td>\n",
       "      <td>11.0</td>\n",
       "      <td>60.0</td>\n",
       "      <td>0.7867</td>\n",
       "      <td>21.0</td>\n",
       "    </tr>\n",
       "    <tr>\n",
       "      <th>4</th>\n",
       "      <td>2004-03-10</td>\n",
       "      <td>1.6</td>\n",
       "      <td>1272.0</td>\n",
       "      <td>51.0</td>\n",
       "      <td>6.5</td>\n",
       "      <td>836.0</td>\n",
       "      <td>131.0</td>\n",
       "      <td>1205.0</td>\n",
       "      <td>116.0</td>\n",
       "      <td>1490.0</td>\n",
       "      <td>1110.0</td>\n",
       "      <td>11.2</td>\n",
       "      <td>59.6</td>\n",
       "      <td>0.7888</td>\n",
       "      <td>22.0</td>\n",
       "    </tr>\n",
       "    <tr>\n",
       "      <th>...</th>\n",
       "      <td>...</td>\n",
       "      <td>...</td>\n",
       "      <td>...</td>\n",
       "      <td>...</td>\n",
       "      <td>...</td>\n",
       "      <td>...</td>\n",
       "      <td>...</td>\n",
       "      <td>...</td>\n",
       "      <td>...</td>\n",
       "      <td>...</td>\n",
       "      <td>...</td>\n",
       "      <td>...</td>\n",
       "      <td>...</td>\n",
       "      <td>...</td>\n",
       "      <td>...</td>\n",
       "    </tr>\n",
       "    <tr>\n",
       "      <th>9352</th>\n",
       "      <td>2005-04-04</td>\n",
       "      <td>3.1</td>\n",
       "      <td>1314.0</td>\n",
       "      <td>NaN</td>\n",
       "      <td>13.5</td>\n",
       "      <td>1101.0</td>\n",
       "      <td>472.0</td>\n",
       "      <td>539.0</td>\n",
       "      <td>190.0</td>\n",
       "      <td>1374.0</td>\n",
       "      <td>1729.0</td>\n",
       "      <td>21.9</td>\n",
       "      <td>29.3</td>\n",
       "      <td>0.7568</td>\n",
       "      <td>10.0</td>\n",
       "    </tr>\n",
       "    <tr>\n",
       "      <th>9353</th>\n",
       "      <td>2005-04-04</td>\n",
       "      <td>2.4</td>\n",
       "      <td>1163.0</td>\n",
       "      <td>NaN</td>\n",
       "      <td>11.4</td>\n",
       "      <td>1027.0</td>\n",
       "      <td>353.0</td>\n",
       "      <td>604.0</td>\n",
       "      <td>179.0</td>\n",
       "      <td>1264.0</td>\n",
       "      <td>1269.0</td>\n",
       "      <td>24.3</td>\n",
       "      <td>23.7</td>\n",
       "      <td>0.7119</td>\n",
       "      <td>11.0</td>\n",
       "    </tr>\n",
       "    <tr>\n",
       "      <th>9354</th>\n",
       "      <td>2005-04-04</td>\n",
       "      <td>2.4</td>\n",
       "      <td>1142.0</td>\n",
       "      <td>NaN</td>\n",
       "      <td>12.4</td>\n",
       "      <td>1063.0</td>\n",
       "      <td>293.0</td>\n",
       "      <td>603.0</td>\n",
       "      <td>175.0</td>\n",
       "      <td>1241.0</td>\n",
       "      <td>1092.0</td>\n",
       "      <td>26.9</td>\n",
       "      <td>18.3</td>\n",
       "      <td>0.6406</td>\n",
       "      <td>12.0</td>\n",
       "    </tr>\n",
       "    <tr>\n",
       "      <th>9355</th>\n",
       "      <td>2005-04-04</td>\n",
       "      <td>2.1</td>\n",
       "      <td>1003.0</td>\n",
       "      <td>NaN</td>\n",
       "      <td>9.5</td>\n",
       "      <td>961.0</td>\n",
       "      <td>235.0</td>\n",
       "      <td>702.0</td>\n",
       "      <td>156.0</td>\n",
       "      <td>1041.0</td>\n",
       "      <td>770.0</td>\n",
       "      <td>28.3</td>\n",
       "      <td>13.5</td>\n",
       "      <td>0.5139</td>\n",
       "      <td>13.0</td>\n",
       "    </tr>\n",
       "    <tr>\n",
       "      <th>9356</th>\n",
       "      <td>2005-04-04</td>\n",
       "      <td>2.2</td>\n",
       "      <td>1071.0</td>\n",
       "      <td>NaN</td>\n",
       "      <td>11.9</td>\n",
       "      <td>1047.0</td>\n",
       "      <td>265.0</td>\n",
       "      <td>654.0</td>\n",
       "      <td>168.0</td>\n",
       "      <td>1129.0</td>\n",
       "      <td>816.0</td>\n",
       "      <td>28.5</td>\n",
       "      <td>13.1</td>\n",
       "      <td>0.5028</td>\n",
       "      <td>14.0</td>\n",
       "    </tr>\n",
       "  </tbody>\n",
       "</table>\n",
       "<p>9357 rows × 15 columns</p>\n",
       "</div>"
      ],
      "text/plain": [
       "           Date  CO(GT)  PT08.S1(CO)  NMHC(GT)  C6H6(GT)  PT08.S2(NMHC)  \\\n",
       "0    2004-03-10     2.6       1360.0     150.0      11.9         1046.0   \n",
       "1    2004-03-10     2.0       1292.0     112.0       9.4          955.0   \n",
       "2    2004-03-10     2.2       1402.0      88.0       9.0          939.0   \n",
       "3    2004-03-10     2.2       1376.0      80.0       9.2          948.0   \n",
       "4    2004-03-10     1.6       1272.0      51.0       6.5          836.0   \n",
       "...         ...     ...          ...       ...       ...            ...   \n",
       "9352 2005-04-04     3.1       1314.0       NaN      13.5         1101.0   \n",
       "9353 2005-04-04     2.4       1163.0       NaN      11.4         1027.0   \n",
       "9354 2005-04-04     2.4       1142.0       NaN      12.4         1063.0   \n",
       "9355 2005-04-04     2.1       1003.0       NaN       9.5          961.0   \n",
       "9356 2005-04-04     2.2       1071.0       NaN      11.9         1047.0   \n",
       "\n",
       "      NOx(GT)  PT08.S3(NOx)  NO2(GT)  PT08.S4(NO2)  PT08.S5(O3)     T    RH  \\\n",
       "0       166.0        1056.0    113.0        1692.0       1268.0  13.6  48.9   \n",
       "1       103.0        1174.0     92.0        1559.0        972.0  13.3  47.7   \n",
       "2       131.0        1140.0    114.0        1555.0       1074.0  11.9  54.0   \n",
       "3       172.0        1092.0    122.0        1584.0       1203.0  11.0  60.0   \n",
       "4       131.0        1205.0    116.0        1490.0       1110.0  11.2  59.6   \n",
       "...       ...           ...      ...           ...          ...   ...   ...   \n",
       "9352    472.0         539.0    190.0        1374.0       1729.0  21.9  29.3   \n",
       "9353    353.0         604.0    179.0        1264.0       1269.0  24.3  23.7   \n",
       "9354    293.0         603.0    175.0        1241.0       1092.0  26.9  18.3   \n",
       "9355    235.0         702.0    156.0        1041.0        770.0  28.3  13.5   \n",
       "9356    265.0         654.0    168.0        1129.0        816.0  28.5  13.1   \n",
       "\n",
       "          AH  Hour  \n",
       "0     0.7578  18.0  \n",
       "1     0.7255  19.0  \n",
       "2     0.7502  20.0  \n",
       "3     0.7867  21.0  \n",
       "4     0.7888  22.0  \n",
       "...      ...   ...  \n",
       "9352  0.7568  10.0  \n",
       "9353  0.7119  11.0  \n",
       "9354  0.6406  12.0  \n",
       "9355  0.5139  13.0  \n",
       "9356  0.5028  14.0  \n",
       "\n",
       "[9357 rows x 15 columns]"
      ]
     },
     "execution_count": 31,
     "metadata": {},
     "output_type": "execute_result"
    }
   ],
   "source": [
    "# TODO : مشکل اعداد -200 را برطرف کنید.\n",
    "df_copy.replace(-200, np.nan, inplace=True)\n",
    "df_copy"
   ]
  },
  {
   "cell_type": "markdown",
   "metadata": {
    "id": "AZJphU6B7taw"
   },
   "source": [
    "<div dir=\"rtl\">\n",
    "    <font size=4>\n",
    "        <li>\n",
    "        نمودار هیت مپ داده های گم شده (Missing Values) را به کمک ماژول Seaborn رسم کنید و ارزیابی خودتان را بنویسید\n",
    "        </li>\n",
    "        <br>\n",
    "        راهنمایی: از نمودار Heatmap استفاده کنید.\n",
    "    </font>\n",
    "</div>\n",
    "<br>"
   ]
  },
  {
   "cell_type": "code",
   "execution_count": 41,
   "metadata": {
    "id": "ZIxj6xyU3xX4"
   },
   "outputs": [
    {
     "data": {
      "image/png": "[encoded data removed]",
      "text/plain": [
       "<Figure size 2000x1000 with 1 Axes>"
      ]
     },
     "metadata": {},
     "output_type": "display_data"
    }
   ],
   "source": [
    "# TODO: نمودار پراکندگی داده های گمشده را رسم کنید.\n",
    "plt.figure(figsize=(20,10))\n",
    "sns.heatmap(df_copy.isna().transpose(), cbar=False)\n",
    "\n",
    "plt.xlabel('Index')\n",
    "plt.ylabel('Features')\n",
    "plt.title('Heatmap of NaN values in dataframe')\n",
    "\n",
    "plt.show()"
   ]
  },
  {
   "cell_type": "markdown",
   "metadata": {
    "id": "IofRLMS284Ye"
   },
   "source": [
    "### ارزیابی:\n",
    "1. با توجه به تعداد مقادیر گمشده در ستون NMHC(GT) می‌توان گفت عملا این ستون داده قابل قبولی که در انجام تحلیل قابل استفاده باشد، در اختیار ما نمی‌گذارد. پس می‌توان این ستون را حذف کرد.\n",
    "2. با توجه به  نمودار، می‌توان متوجه شد مقادیر NaN در دیتافریم با الگوهای مشابهی تکرار شده است. یعنی به احتمال زیاد در زمان‌هایی اندازه‌گیری انجام نشده یا سنسورها دارای خرابی بوده که اندازه‌گیری درست انجام نداده است. \n",
    "3. با توجه به اینکه داده‌های این دیتافریم در طول زمان انجام شده است، می‌توان از میانگین داده‌های موجود در هر ساعت در طول زمان به عنوان جایگزین داده‌های گمشده استفاده کرد. مثلا اگر در ساعت 12 یک روز مقدار داده یک سنسور موجود نباشد، می‌توان مقادیر موجود سنسور را در ساعت 12 روزهای مختلف میانگین گرفت و به جای آن قرار داد.به این صورت هم میانگین داده‌ها به جای داده گمشده قرار می‌گیرد و هم تغییرات زمانی در طول یک روز حفظ می‌شود."
   ]
  },
  {
   "cell_type": "markdown",
   "metadata": {
    "id": "L1EsmqIy1YOx"
   },
   "source": [
    "<div dir=\"rtl\">\n",
    "    <font size=4>\n",
    "    <li>\n",
    "        .حل مشکل داده های گم شده\n",
    "        راه حلی برای برخورد با مقادیر گم شده پیدا و آن را پیاده سازی کنید\n",
    "    </li>\n",
    "    </font>\n",
    "</div>"
   ]
  },
  {
   "cell_type": "code",
   "execution_count": 42,
   "metadata": {
    "id": "axCge4C4ZCnc"
   },
   "outputs": [],
   "source": [
    "# TODO : مقادیر گم شده را مدیریت کنید\n",
    "# dropping NMHC(GT) Column\n",
    "\n",
    "df_copy.drop('NMHC(GT)', axis=1, inplace=True)"
   ]
  },
  {
   "cell_type": "code",
   "execution_count": 46,
   "metadata": {
    "id": "Pv8GaFE-cd20"
   },
   "outputs": [],
   "source": [
    "# TODO : مقادیر گم شده را مدیریت کنید\n",
    "# Fill NaN values with hourly-averaged values of each column data\n",
    "\n",
    "for col in df_copy.columns:\n",
    "    if df_copy[col].dtype == float:\n",
    "        df_copy[col].fillna(df_copy.groupby('Hour')[col].transform('mean'), inplace=True)"
   ]
  },
  {
   "cell_type": "code",
   "execution_count": 48,
   "metadata": {
    "id": "8owgyYiIdrcF"
   },
   "outputs": [
    {
     "data": {
      "text/plain": [
       "Date             0\n",
       "CO(GT)           0\n",
       "PT08.S1(CO)      0\n",
       "C6H6(GT)         0\n",
       "PT08.S2(NMHC)    0\n",
       "NOx(GT)          0\n",
       "PT08.S3(NOx)     0\n",
       "NO2(GT)          0\n",
       "PT08.S4(NO2)     0\n",
       "PT08.S5(O3)      0\n",
       "T                0\n",
       "RH               0\n",
       "AH               0\n",
       "Hour             0\n",
       "dtype: int64"
      ]
     },
     "execution_count": 48,
     "metadata": {},
     "output_type": "execute_result"
    }
   ],
   "source": [
    "# TODO : مقادیر گم شده را مدیریت کنید\n",
    "df_copy.isna().sum()"
   ]
  },
  {
   "cell_type": "code",
   "execution_count": 49,
   "metadata": {},
   "outputs": [
    {
     "data": {
      "image/png": "[encoded data removed]",
      "text/plain": [
       "<Figure size 2000x1000 with 1 Axes>"
      ]
     },
     "metadata": {},
     "output_type": "display_data"
    }
   ],
   "source": [
    "plt.figure(figsize=(20,10))\n",
    "sns.heatmap(df_copy.isna().transpose(), cbar=False)\n",
    "\n",
    "plt.xlabel('Index')\n",
    "plt.ylabel('Features')\n",
    "plt.title('Heatmap of NaN values in dataframe')\n",
    "\n",
    "plt.show()"
   ]
  },
  {
   "cell_type": "markdown",
   "metadata": {
    "id": "GxkKZ7ZOt3pd"
   },
   "source": [
    "<div dir=\"rtl\">\n",
    "<font size=\"6\">\n",
    "    <li>\n",
    "    <strong>قدم سوم: مصورسازی و بررسی متغیرها</strong>\n",
    "    </li>\n",
    "</font>\n",
    "<font size=\"4\">\n",
    "                    در این قدم، شما باید با استفاده از ابزارهای مصورسازی مانند نمودارهای پراکندگی (Scatter plots)، هیستوگرام‌ها و نمودارهای جعبه‌ای (Box plots)، روابط بین ویژگی‌ها و هدف را بررسی کنید. این مرحله به شما کمک می‌کند که روابط پنهان میان متغیرها را شناسایی کنید و درک بهتری از داده‌ها پیدا کنید.\n",
    "                    شما میتوانید هرگونه مصورسازی که فکر می کنید در این مرحله اطلاعاتی به شما میدهد را انجام دهید. <br>\n",
    "                    <font color=\"red\">ولی پیاده سازی پلات های خواسته شده الزامی می باشد.</font>\n",
    "</font>\n",
    "</div>\n",
    "<br>"
   ]
  },
  {
   "cell_type": "markdown",
   "metadata": {
    "id": "ibN3hOtS7wBX"
   },
   "source": [
    "<div dir=\"rtl\">\n",
    "    <font size=4>\n",
    "        <li>\n",
    "        توزیع (Distribution) تمامی داده های عددی را بررسی کنید و موارد و نکات مهمی که از این توزیع ها دریافت کرده ایید را در قسمت ارزیابی بنویسید.\n",
    "    </font>\n",
    "</div>\n",
    "<br>"
   ]
  },
  {
   "cell_type": "code",
   "execution_count": null,
   "metadata": {
    "id": "hZhKnnRnXhXp"
   },
   "outputs": [],
   "source": [
    "# TODO : توزیع ویژگی های عددی را بررسی کنید\n",
    "\n"
   ]
  },
  {
   "cell_type": "markdown",
   "metadata": {
    "id": "4QV1cKj3-drN"
   },
   "source": [
    "###  ارزیابی:\n",
    "1. .....\n",
    "2. .....\n",
    "3. ....\n",
    "4. ....\n",
    "5. ...."
   ]
  },
  {
   "cell_type": "markdown",
   "metadata": {
    "id": "KRNARIg_uzh6"
   },
   "source": [
    "<div dir=\"rtl\">\n",
    "    <font size=4>\n",
    "        <li>\n",
    "            نمودار پراکندگی داده ایی (Scatter Plot) عدد به نسبت داده های ویژگی هدف را بررسی کنید و نکات مهمی را که از این نمودار ها متوجه شده ایید را در قسمت ارزیابی بنویسید.\n",
    "        </li>\n",
    "        <font color=\"red\">\n",
    "        توجه داشته باشید که باید متد زیر را کامل کنید. به توضیحات Docstring تابع توجه کنید.\n",
    "        </font>\n",
    "    </font>\n",
    "</div>\n",
    "<br>"
   ]
  },
  {
   "cell_type": "code",
   "execution_count": null,
   "metadata": {
    "id": "mH-f39rDskh6"
   },
   "outputs": [],
   "source": [
    "# TODO: نمودار Scatter را برای داده های عددی رسم کنید\n",
    "def plot_scatter_separately(df, target_variable):\n",
    "    \"\"\"\n",
    "    این متد را تکمیل کنید تا نمودارهای پراکندگی برای هر ویژگی عددی با متغیر هدف رسم کند.\n",
    "\n",
    "    وظایف مورد انتظار:\n",
    "    1. بررسی وجود متغیر هدف:\n",
    "       - ابتدا بررسی کنید که متغیر هدف در دیتافریم موجود باشد.\n",
    "       - اگر متغیر هدف وجود نداشته باشد، باید یک خطا با پیامی مناسب صادر کنید.\n",
    "\n",
    "    2. انتخاب ویژگی‌های عددی:\n",
    "       - ویژگی‌های عددی (بر اساس نوع داده `number`) را از دیتافریم استخراج کنید.\n",
    "       - متغیر هدف را از لیست ویژگی‌های عددی حذف کنید.\n",
    "\n",
    "    3. رسم نمودار پراکندگی برای هر ویژگی:\n",
    "       - برای هر ویژگی عددی باقی‌مانده، یک نمودار پراکندگی با استفاده از کتابخانه‌های `matplotlib` و `seaborn` رسم کنید.\n",
    "       - در این نمودار، محور x ویژگی عددی و محور y متغیر هدف باشد.\n",
    "       - برای هر نمودار، عنوان مناسب و برچسب‌های محور x و y را تنظیم کنید.\n",
    "       - نمودارها باید به‌صورت جداگانه نمایش داده شوند.\n",
    "\n",
    "    پس از تکمیل این متد، می‌توانید آن را برای رسم نمودارهای پراکندگی برای ویژگی‌های مختلف در دیتافریم استفاده کنید.\n",
    "    \"\"\"\n",
    "    pass  # TODO\n",
    "\n",
    "plot_scatter_separately(df_copy, 'CO(GT)')"
   ]
  },
  {
   "cell_type": "markdown",
   "metadata": {
    "id": "t0p3sadv8HEe"
   },
   "source": [
    "###  ارزیابی:\n",
    "1. .....\n",
    "2. .....\n",
    "3. ....\n",
    "4. ....\n",
    "5. ...."
   ]
  },
  {
   "cell_type": "markdown",
   "metadata": {
    "id": "qhggKrwp_JVU"
   },
   "source": [
    "<div dir=\"rtl\">\n",
    "    <font size=4>\n",
    "        <li>\n",
    "               Boxplotیکی از روش های بررسی برای وجود داده های پرت است. البته Boxplot کاربردی های بسیاری دارد مانند بررسی نسبت داده های عددی با داده های دسته ایی.\n",
    "        </li>\n",
    "    </font>\n",
    "</div>\n",
    "<br>"
   ]
  },
  {
   "cell_type": "code",
   "execution_count": null,
   "metadata": {
    "id": "vySRepwYryHg"
   },
   "outputs": [],
   "source": [
    "# TODO: نمودار های Boxplot را رسم کنید\n",
    "\n"
   ]
  },
  {
   "cell_type": "markdown",
   "metadata": {
    "id": "wNyvnvqU2F9y"
   },
   "source": [
    "###  ارزیابی:\n",
    "1. .....\n",
    "2. .....\n",
    "3. ....\n",
    "4. ....\n",
    "5. ...."
   ]
  },
  {
   "cell_type": "markdown",
   "metadata": {
    "id": "DiInzmTOxZdB"
   },
   "source": [
    "<div dir=\"rtl\">\n",
    "    <font size=5>\n",
    "    <li>مدیریت مقادیر های پرت (Outliers)</li>\n",
    "    </font>\n",
    "</div>"
   ]
  },
  {
   "cell_type": "markdown",
   "metadata": {
    "id": "pTWVn3ePB4u7"
   },
   "source": [
    "<div dir=\"rtl\">\n",
    "    <font size=4>\n",
    "        تا به امروز از روش های مختلفی برای مدیریت داده های پرت مانند IQR و Z-Score استفاده کرده ایم. در این جا میخواهیم از روشی به نام Winsorize برای مدیریت این نوع از داده ها استفاده کنیم. به توضیحات داده شده در Docstring تابع زیر توجه کنید و تابع را کامل کنید.  برای مطالعه درباره ی Winsorization به لینک های زیر مراجعه نمایید.\n",
    "    </font>\n",
    "</div>\n",
    "<br>"
   ]
  },
  {
   "cell_type": "markdown",
   "metadata": {
    "id": "MyAtZ-9YB7Y2"
   },
   "source": [
    "[Winsorized Mean - DataCamp](https://www.datacamp.com/tutorial/winsorized-mean)\n",
    "\n",
    "[scipy.stats.mstats.winsorize - SciPy Documentation](https://docs.scipy.org/doc/scipy/reference/generated/scipy.stats.mstats.winsorize.html)"
   ]
  },
  {
   "cell_type": "code",
   "execution_count": null,
   "metadata": {
    "id": "2ZkFV_YhsLSA"
   },
   "outputs": [],
   "source": [
    "from ..... import .....\n",
    "\n",
    "# TODO: مدیریت داده های پرت\n",
    "def winsorize_and_handle_missing(df, cols, limits=[0.05, 0.05]):\n",
    "    \"\"\"\n",
    "    این متد را تکمیل کنید تا برای هر ستون خاص از دیتافریم، داده‌های گمشده را شناسایی و آن‌ها را با مقادیر Winsorized جایگزین کنید.\n",
    "\n",
    "    وظایف مورد انتظار:\n",
    "    1. کپی‌برداری از دیتافریم:\n",
    "       - یک کپی از دیتافریم ورودی ایجاد کنید تا تغییرات در دیتافریم اصلی ایجاد نشود.\n",
    "    2. اعمال Winsorization:\n",
    "       - برای هر ستون، از روش `winsorize` استفاده کنید تا داده‌ها را با مقادیر Winsorized در بازه‌های مشخص‌شده (با استفاده از آرگومان `limits`) جایگزین کنید.\n",
    "\n",
    "    پس از تکمیل این متد، می‌توانید آن را برای اعمال Winsorization و مدیریت داده‌های گمشده در دیتافریم خود استفاده کنید.\n",
    "    \"\"\"\n",
    "    pass  # TODO"
   ]
  },
  {
   "cell_type": "code",
   "execution_count": null,
   "metadata": {
    "id": "dwvAJV3tsLOs"
   },
   "outputs": [],
   "source": [
    "# TODO: مدیریت داده های پرت\n",
    "\n"
   ]
  },
  {
   "cell_type": "markdown",
   "metadata": {
    "id": "oYe2svvh-4cp"
   },
   "source": [
    "<br>\n",
    "<div dir=\"rtl\">\n",
    "<font size=\"4\">\n",
    "    <li>\n",
    "    <strong>نمودار Heatmap را برای این دیتافریم رسم کنید </strong>\n",
    "    </li>\n",
    "</font>\n",
    "</div>\n",
    "<br>"
   ]
  },
  {
   "cell_type": "code",
   "execution_count": null,
   "metadata": {
    "id": "aHbg7B19_HUW"
   },
   "outputs": [],
   "source": [
    "# TODO: نمودار هیت مپ را بررسی کنید\n",
    "\n"
   ]
  },
  {
   "cell_type": "markdown",
   "metadata": {
    "id": "asn72qmP8k8J"
   },
   "source": [
    "###  ارزیابی:\n",
    "1. ....\n",
    "2. ....\n",
    "3. ...."
   ]
  },
  {
   "cell_type": "markdown",
   "metadata": {
    "id": "ov6F4eo7-VFg"
   },
   "source": [
    "<br>\n",
    "<div dir=\"rtl\">\n",
    "<font size=\"6\">\n",
    "    <li>\n",
    "    <strong>قدم چهارم: مهندسی و انتخاب ویژگی</strong>\n",
    "    </li>\n",
    "</font>\n",
    "<font size=4>\n",
    "    در این مرحله، ویژگی‌های مناسب برای مدل‌سازی انتخاب شده و ویژگی‌های غیرضروری حذف یا اصلاح می‌شوند. مهندسی ویژگی شامل ایجاد ویژگی‌های جدید، تبدیل داده‌های دسته‌ای به عددی و ... است. هدف این مرحله بهبود عملکرد مدل با انتخاب ویژگی‌های تأثیرگذار و کاهش پیچیدگی داده‌ها است.\n",
    "</font>\n",
    "</div>\n",
    "<br>"
   ]
  },
  {
   "cell_type": "markdown",
   "metadata": {
    "id": "dfrlRDBaB0IL"
   },
   "source": [
    "<div dir=\"rtl\">\n",
    "    <font size=\"4\">\n",
    "        هدف این بخش، تحلیل همبستگی چندجمله‌ای و انتخاب ویژگی در این مرحله شما باید:\n",
    "    </font><br>\n",
    "    <font size=\"5\">\n",
    "        1. تحلیل همبستگی چندجمله‌ای:\n",
    "    </font><br>\n",
    "    <font size=\"4\">\n",
    "            <li>متدی بنویسید که ویژگی‌هایی که چند همبستگی (Multicollinearity) دارند را پیدا کرده و فقط یکی از آن‌ها را انتخاب کند.</li>\n",
    "            <font color=\"red\">نکته : از تحلیل واریانس برای این قسمت نیز استفاده کنید.</font>\n",
    "    </font>\n",
    "    <br>\n",
    "    <br>\n",
    "    <font size=\"5\">\n",
    "        2. انتخاب ویژگی با Mutual Information:\n",
    "    </font><br>\n",
    "    <font size=\"4\">\n",
    "            <li>ویژگی‌هایی را با کمک روش Mutual Information انتخاب کنید.</li>\n",
    "    </font>\n",
    "        <br>\n",
    "    <font size=\"5\">\n",
    "        3.مهندسی ویژگی یا Feature Engineering\n",
    "    </font><br>\n",
    "    <font size=\"4\">\n",
    "            <li>سعی کنید از ویژگی ها موجود , تعدای ویژگی جدید ایجاد کنید یا آنها را ترکیب کنید.</li>\n",
    "    </font>\n",
    "</div>\n"
   ]
  },
  {
   "cell_type": "code",
   "execution_count": null,
   "metadata": {
    "id": "ODJ6O9FlS2hm"
   },
   "outputs": [],
   "source": [
    "# TODO: کتابخانه های مورد نیاز را ایمپورت کنید\n",
    "\n"
   ]
  },
  {
   "cell_type": "code",
   "execution_count": null,
   "metadata": {
    "id": "SYcJamzsl7pC"
   },
   "outputs": [],
   "source": [
    "# TODO : متدی بتویسید که همبستگی چند جمله ایی را بررسی و مدیریت کند (Multicolinearity)\n",
    "\n"
   ]
  },
  {
   "cell_type": "code",
   "execution_count": null,
   "metadata": {
    "id": "XocnV7110nmp"
   },
   "outputs": [],
   "source": [
    "# TODO : ویژگی هایی را به کمک روش Mutual Info انتخاب کنید.\n",
    "\n"
   ]
  },
  {
   "cell_type": "markdown",
   "metadata": {
    "id": "v_Qru_a54io6"
   },
   "source": [
    "<br>\n",
    "<div dir=\"rtl\">\n",
    "<font size=\"6\">\n",
    "    <li>\n",
    "    <strong>قدم پنجم: مدل‌سازی اولیه</strong>\n",
    "    </li>\n",
    "</font>\n",
    "<font size=\"4\">\n",
    "    در این مرحله چند مدل را به‌صورت ساده آموزش می‌دهیم و در نهایت از بین آن‌ها ۱ الی ۲ مدل که بهترین عملکرد را دارند انتخاب می‌کنیم.\n",
    "</font>\n",
    "</div>\n",
    "<br>"
   ]
  },
  {
   "cell_type": "markdown",
   "metadata": {
    "id": "2DNAX9vQ-2Zl"
   },
   "source": [
    "<div dir=\"rtl\">\n",
    "    <font size=4>\n",
    "        <li>\n",
    "            <strong>ارزیابی اولیه عملکرد</strong> چند مدل پایه (به انتخاب شما) با معیارهای\n",
    "            <strong>MAE، MSE و R²</strong>.\n",
    "            <br>\n",
    "            در این مرحله چندین مدل مختلف را انتخاب کنید و آنها را روی داده‌های آموزشی و آزمایشی اجرا کنید. سپس عملکرد هر مدل را بر اساس معیارهای Mean Absolute Error (MAE)، Mean Squared Error (MSE) و ضریب تعیین (R²) بررسی کنید تا مشخص شود کدام مدل‌ها خطای کمتری دارند.\n",
    "        </li>\n",
    "        <br>\n",
    "        <li>\n",
    "            <strong>مقایسه تعمیم‌پذیری مدل‌ها</strong> با استفاده از نمودارهای\n",
    "            <strong>Learning Curve</strong>.\n",
    "            <br>\n",
    "            برای بررسی میزان تعمیم‌پذیری هر مدل، از نمودارهای Learning Curve استفاده کنید. این نمودار نشان می‌دهد که مدل شما چگونه با افزایش داده‌های آموزشی بهبود پیدا می‌کند و آیا دچار overfitting یا underfitting شده است. این تحلیل به شما کمک می‌کند تا مدل‌هایی را که عملکرد پایدارتری دارند شناسایی کنید.\n",
    "        </li>\n",
    "        <br>\n",
    "        <li>\n",
    "            <strong>شناسایی یک یا دو مدل برتر</strong> بر اساس کمترین خطای تست و بهترین تعمیم‌پذیری.\n",
    "            <br>\n",
    "            پس از ارزیابی مدل‌ها و مقایسه آنها با معیارهای ذکرشده، یک یا دو مدل که کمترین خطای تست را دارند و بهترین تعمیم‌پذیری را نشان می‌دهند انتخاب کنید. این مدل‌ها باید هم روی داده‌های آموزش و هم روی داده‌های آزمایش عملکرد مناسبی داشته باشند.\n",
    "        </li>\n",
    "        <br>\n",
    "        <li>\n",
    "            <strong>انتخاب مدل‌های مناسب</strong> برای بهینه‌سازی و تنظیم‌های بعدی بر اساس نتایج اولیه.\n",
    "            <br>\n",
    "            در نهایت، مدل‌هایی که در مراحل قبل عملکرد خوبی داشته‌اند را برای مرحله بهینه‌سازی انتخاب کنید. این مدل‌ها در مراحل بعدی با استفاده از روش‌هایی مانند تنظیم هایپرپارامترها (Hyperparameter Tuning) بهبود داده می‌شوند تا به بالاترین دقت ممکن برسند.\n",
    "        </li>\n",
    "        <br>\n",
    "        در ادامه منابعی برای مطالعه بیشتر در مورد منحنی یادگیری Learning Curve:\n",
    "    </font>\n",
    "</div>\n"
   ]
  },
  {
   "cell_type": "markdown",
   "metadata": {
    "id": "79DQQMsN3RgC"
   },
   "source": [
    "[Learning Curves Tutorial](https://www.datacamp.com/tutorial/tutorial-learning-curves)"
   ]
  },
  {
   "cell_type": "markdown",
   "metadata": {
    "id": "UcmbO2eR9KaA"
   },
   "source": [
    "<div dir=\"rtl\">\n",
    "    <font size=5 color=\"red\">\n",
    "        اهداف اصلی:\n",
    "    </font>\n",
    "    <br>\n",
    "    <font size=4>\n",
    "        <li>\n",
    "            در نهایت مدل های اولیه را بررسی کنید و در قسمت ارزیابی بنویسید.\n",
    "        </li>\n",
    "        <li>\n",
    "            از Pipeline استفاده کنید و سعی کنید کد های خودتان را در قالب توابع بنویسید.\n",
    "        </li>\n",
    "        <li>\n",
    "            حتما منحنی یادگیری (Learning Curve) را برای هر مدل بررسی کنید.\n",
    "        </li>\n",
    "    </font>\n",
    "</div>\n",
    "<br>\n",
    "    \n"
   ]
  },
  {
   "cell_type": "code",
   "execution_count": null,
   "metadata": {
    "id": "0TQhvl0TzITB"
   },
   "outputs": [],
   "source": [
    "# TODO : کتابخانه های مورد نیاز را ایمپورت کنید\n",
    "\n"
   ]
  },
  {
   "cell_type": "code",
   "execution_count": null,
   "metadata": {
    "id": "DB67unQKzIIi"
   },
   "outputs": [],
   "source": [
    "# TODO: چهار مدل اولیه را آموزش دهید و آنها را ارزیابی کنید\n",
    "\n"
   ]
  },
  {
   "cell_type": "code",
   "execution_count": null,
   "metadata": {
    "id": "3aPQKHN4zIE5"
   },
   "outputs": [],
   "source": [
    "# TODO : نمودار Learning Curve هر مدل را رسم کنید\n",
    "\n"
   ]
  },
  {
   "cell_type": "markdown",
   "metadata": {
    "id": "n-iFU0EATo49"
   },
   "source": [
    "### بررسی نمودار های یادگیری (Learning Curve)\n",
    "1. ...\n",
    "2. ...\n",
    "3. ...\n",
    "4. ..."
   ]
  },
  {
   "cell_type": "markdown",
   "metadata": {
    "id": "f4qKOHhaqTNH"
   },
   "source": [
    "<br>\n",
    "<div dir=\"rtl\">\n",
    "<font size=\"6\">\n",
    "    <li>\n",
    "    <strong>قدم ششم: بهینه‌سازی مدل(های) منتخب</strong>\n",
    "    </li>\n",
    "</font>\n",
    "<font size=\"4\">\n",
    "    در این مرحله مدل‌های برتر انتخاب‌شده را با استفاده از تنظیمات پیشرفته‌تر، بهینه‌سازی هایپرپارامترها و روش‌های بهبود عملکرد، دقیق‌تر آموزش می‌دهیم تا بهترین نتیجه را از داده‌ها استخراج کنیم.\n",
    "</font>\n",
    "</div>\n",
    "<br>\n"
   ]
  },
  {
   "cell_type": "markdown",
   "metadata": {
    "id": "UH5Qr5g0PGt2"
   },
   "source": [
    "<div dir=\"rtl\">\n",
    "<font size=\"4\">\n",
    "    <li>پس فضای جستجوی پارامتر را تعریف کنید.</li>\n",
    "    <li>یکی از روش های GridSearch یا RandomSearch یا هر روش دیگه ایی که فکر می کنید مناسب بهینه سازی پارامتر ها است را پیاده سازی کنید.</li>\n",
    "    <li>سپس مدل بهینه شده را مجدد آموزش دهید.</li>\n",
    "</div>\n"
   ]
  },
  {
   "cell_type": "code",
   "execution_count": null,
   "metadata": {
    "id": "x0n3Y6qSmDjw"
   },
   "outputs": [],
   "source": [
    "# TODO: مدل منتخب در مرحله قبل را به کمک روش های بهینه سازی هایپر پارامتر بهبود دهید.\n",
    "\n"
   ]
  },
  {
   "cell_type": "code",
   "execution_count": null,
   "metadata": {
    "id": "nVA4j8TFLGca"
   },
   "outputs": [],
   "source": [
    "# TODO: مدل بهینه شده را آموزش دهید.\n",
    "\n"
   ]
  },
  {
   "cell_type": "markdown",
   "metadata": {
    "id": "n6P8DJBwPu5F"
   },
   "source": [
    "<div dir=\"rtl\">\n",
    "    <font size=4>\n",
    "        <li>منحنی یادگیری را برای مدل بهینه شده را رسم کنید و این نمودار را در قسمت ارزیابی بررسی کنید.</li>\n",
    "    </font>\n",
    "</div>\n",
    "<br>"
   ]
  },
  {
   "cell_type": "code",
   "execution_count": null,
   "metadata": {
    "id": "LB9y0-3nLGXm"
   },
   "outputs": [],
   "source": [
    "# TODO: نمودار منحنی یادگیری را برای مدل\n",
    "\n"
   ]
  },
  {
   "cell_type": "markdown",
   "metadata": {
    "id": "gsqHB_6g0ChD"
   },
   "source": [
    "### ارزیابی نهایی:\n",
    "\n",
    "**حتما در این بخش ارزیابی و نتیجه گیری نهایی از این تمرین اعم از پیش پردازش و مهندسی ویژگی و در نهایت کیفیت و عملکرد مدل یادگیری ماشین را بنویسید**"
   ]
  },
  {
   "cell_type": "code",
   "execution_count": null,
   "metadata": {
    "id": "TGO7CZQcyNbH"
   },
   "outputs": [],
   "source": []
  },
  {
   "cell_type": "code",
   "execution_count": null,
   "metadata": {
    "id": "G5MuY5NByPbD"
   },
   "outputs": [],
   "source": []
  }
 ],
 "metadata": {
  "colab": {
   "provenance": [
    {
     "file_id": "1JjEDI1JQWQan57O-TrMrVVeI8XFaFlSs",
     "timestamp": 1741188070847
    }
   ]
  },
  "kernelspec": {
   "display_name": "Python 3 (ipykernel)",
   "language": "python",
   "name": "python3"
  },
  "language_info": {
   "codemirror_mode": {
    "name": "ipython",
    "version": 3
   },
   "file_extension": ".py",
   "mimetype": "text/x-python",
   "name": "python",
   "nbconvert_exporter": "python",
   "pygments_lexer": "ipython3",
   "version": "3.11.2"
  }
 },
 "nbformat": 4,
 "nbformat_minor": 1
}
