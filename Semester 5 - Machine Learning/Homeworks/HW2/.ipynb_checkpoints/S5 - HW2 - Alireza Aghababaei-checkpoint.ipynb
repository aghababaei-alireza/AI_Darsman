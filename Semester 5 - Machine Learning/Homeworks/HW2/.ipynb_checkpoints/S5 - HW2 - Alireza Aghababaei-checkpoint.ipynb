{
 "cells": [
  {
   "cell_type": "markdown",
   "id": "97cfcf8f",
   "metadata": {},
   "source": [
    "<p dir=\"rtl\" style=\"font-family:B Nazanin;\">\n",
    "    <b>\n",
    "    علیرضا آقابابایی<br>\n",
    "    تمرین دوم ترم پنجم - دوره اول استادی هوش مصنوعی\n",
    "    </b>\n",
    "</p>"
   ]
  }
 ],
 "metadata": {
  "kernelspec": {
   "display_name": "Python 3 (ipykernel)",
   "language": "python",
   "name": "python3"
  },
  "language_info": {
   "codemirror_mode": {
    "name": "ipython",
    "version": 3
   },
   "file_extension": ".py",
   "mimetype": "text/x-python",
   "name": "python",
   "nbconvert_exporter": "python",
   "pygments_lexer": "ipython3",
   "version": "3.11.2"
  }
 },
 "nbformat": 4,
 "nbformat_minor": 5
}
