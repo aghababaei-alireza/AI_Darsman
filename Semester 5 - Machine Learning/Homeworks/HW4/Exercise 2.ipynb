{
 "cells": [
  {
   "cell_type": "markdown",
   "metadata": {
    "id": "Pdf32601jYo4"
   },
   "source": [
    "<div dir=\"rtl\">\n",
    "    <font size=\"6\">\n",
    "        <h1>تمرین پیش‌بینی قیمت لپ‌تاپ با یادگیری ماشین</h1>\n",
    "    </font>\n",
    "</div>\n",
    "<br>\n",
    "\n",
    "<div dir=\"rtl\">\n",
    "    <font size=\"4\">\n",
    "        <h2><strong>مقدمه</strong></h2>\n",
    "        در این تمرین، شما با استفاده از مجموعه داده‌ای شامل مشخصات سخت‌افزاری و قیمت لپ‌تاپ‌ها، یک مدل یادگیری ماشین برای پیش‌بینی قیمت لپ‌تاپ توسعه خواهید داد. این تمرین به شما کمک می‌کند تا مهارت‌های خود را در تحلیل داده، پیش‌پردازش، مدل‌سازی و ارزیابی مدل‌های رگرسیونی تقویت کنید.\n",
    "    </font>\n",
    "</div>\n",
    "<br>\n",
    "<br>\n",
    "<div dir=\"rtl\">\n",
    "    <font size=\"4\">\n",
    "        <h2><strong>وظیفه شما در این تمرین</strong></h2>\n",
    "        شما باید یک مدل <strong>رگرسیون</strong> طراحی کنید که بتواند بر اساس ویژگی‌های سخت‌افزاری و سایر اطلاعات موجود در دیتاست، قیمت لپ‌تاپ‌ها را پیش‌بینی کند. مراحل کلی تمرین به شرح زیر است:\n",
    "            <li>✅ <strong>کاوش و تحلیل داده‌ها:</strong> بررسی ویژگی‌های مختلف، مقادیر پرت، توزیع داده‌ها، و همبستگی بین متغیرها.</li>\n",
    "            <li>✅ <strong>پیش‌پردازش داده‌ها:</strong> تبدیل متغیرهای متنی به عددی، بررسی داده‌های پرت، مدیریت داده‌های گمشده (در صورت وجود)، و نرمال‌سازی داده‌ها.</li>\n",
    "            <li>✅ پیاده سازی مدل های Random Forest و XGBoost</li>\n",
    "            <li>✅ <strong>ارزیابی مدل:</strong> استفاده از معیارهایی مانند <strong>RMSE، MAE، R2</strong> برای اندازه‌گیری دقت پیش‌بینی مدل.\n",
    "            </li>\n",
    "            <li>✅ ذخیره سازی مدل\n",
    "            </li>\n",
    "    </font>\n",
    "</div>\n",
    "<br>"
   ]
  },
  {
   "cell_type": "markdown",
   "metadata": {
    "id": "lhWL25VswBvP"
   },
   "source": [
    "<div dir=\"rtl\">\n",
    "<font size=\"4\">\n",
    "    <h2><strong>متغیر هدف (Target Variable)</strong></h2>\n",
    "    متغیر هدف در این تمرین <strong>\"Price ($)\"</strong> است که نشان می‌دهد مقدار قیمت مورد نظر برای پیش‌بینی چقدر است.\n",
    "    <li><strong>قیمت بالا:</strong> مقدار قیمت در سطح بالایی قرار دارد.</li>\n",
    "    <li><strong>قیمت پایین:</strong> مقدار قیمت در سطح پایینی قرار دارد.</li>\n",
    "</font>\n",
    "<h2><strong>نحوه ارسال تمرین</strong></h2>\n",
    "<font size=\"4\">\n",
    "    <li>📌 فایل تمرین خود را در یک <strong>مخزن (Repository) در اکانت GitHub</strong> خود آپلود کنید.</li>\n",
    "    <li>📌 لینک مخزن را کپی کرده و در <strong>پنل لنمیس</strong> ارسال کنید.</li>\n",
    "    🔴 <strong>اطمینان حاصل کنید که مخزن شما به‌صورت عمومی قابل‌دسترسی باشد تا تمرین شما بررسی شود.</strong>\n",
    "</font>\n",
    "\n",
    "</div>\n",
    "<br>\n",
    "<br>\n",
    "<br>"
   ]
  },
  {
   "cell_type": "markdown",
   "metadata": {
    "id": "v05s84sPMY2P"
   },
   "source": [
    "<div dir=\"rtl\">\n",
    "    <h2>راهنمای تمرین:<h2>\n",
    "    <p>\n",
    "        <font size=4>\n",
    "        این تمرین به گونه‌ای طراحی شده که شما باید کدهای خود را در قالب خاصی که از قبل مشخص شده، بنویسید. به این معنی که ممکن است بخشی از کد برای شما آماده باشد و شما باید فقط ادامه کد را بنویسید بدون اینکه آن قسمت از کد را تغییر دهید. این نوع تمرین برای کمک به شما طراحی شده تا در مراحل بعدی با چالش‌های پیچیده‌تری روبرو شوید که نیاز به مهارت‌های بیشتری دارند.\n",
    "        <br>\n",
    "        در این تمرین، در هر مرحله شما باید برداشت‌ها و تحلیل‌های خود را بنویسید. مثلاً اگر در کد شما نمودار یا جدولی از داده‌ها یا نتایج مدل‌ها به نمایش در می‌آید، شما باید توضیح دهید که آن‌ها چه معنی و کاربردی دارند. این تحلیل‌ها می‌تواند شامل بررسی تغییرات در داده‌ها، ارزیابی مدل‌ها، یا نتایج بهینه‌سازی‌ها باشد.\n",
    "        <br>\n",
    "        برای هر بخش، حداقل پنج نکته یا برداشت از نتایج یا داده‌ها باید بنویسید.\n",
    "        <br>\n",
    "            <li>\n",
    "            در قسمت ارزیابی , باید یافته ها و نکاتی که از تحلیل داده متوجه شده و دریافت کرده اید در قالب یک خلاصه گزارش , بنویسید.\n",
    "            </li>\n",
    "            <li>\n",
    "            برای هر نمودار یا جدول، تحلیل کنید که چه روندی را نشان می‌دهند یا آیا نکته خاصی برای بهبود مدل یا داده‌ها از آن‌ها قابل استخراج است.\n",
    "            </li>\n",
    "            <br>\n",
    "        مهم است که توجه داشته باشید شما باید فقط کدهای خود را اضافه کنید و قسمت‌هایی که از پیش نوشته شده‌اند، نباید تغییر کنند. هدف این است که شما بتوانید با استفاده از قالب و راهنمایی‌های داده شده، تمرین را به درستی تکمیل کنید.\n",
    "        </font>\n",
    "    </p>\n",
    "</div>\n",
    "<br>\n",
    "<br>\n",
    "<br>"
   ]
  },
  {
   "cell_type": "markdown",
   "metadata": {
    "id": "W8BnAT_3Nmyh"
   },
   "source": [
    "<div dir=\"rtl\">\n",
    "    <h2>توضیح متغیرهای دیتاست لپ‌تاپ</h2>\n",
    "    <table border=\"1\" cellpadding=\"8\" cellspacing=\"0\">\n",
    "        <tr>\n",
    "            <th>ستون</th>\n",
    "            <th>توضیح کوتاه</th>\n",
    "            <th>نوع داده</th>\n",
    "        </tr>\n",
    "        <tr>\n",
    "            <td><b>Brand</b></td>\n",
    "            <td>برند لپ‌تاپ (Dell, HP, Apple, …)</td>\n",
    "            <td>object</td>\n",
    "        </tr>\n",
    "        <tr>\n",
    "            <td><b>Processor</b></td>\n",
    "            <td>نوع پردازنده (Intel, AMD, …)</td>\n",
    "            <td>object</td>\n",
    "        </tr>\n",
    "        <tr>\n",
    "            <td><b>RAM (GB)</b></td>\n",
    "            <td>مقدار رم (به گیگابایت)</td>\n",
    "            <td>int64</td>\n",
    "        </tr>\n",
    "        <tr>\n",
    "            <td><b>Storage</b></td>\n",
    "            <td>نوع و ظرفیت حافظه (SSD, HDD, …)</td>\n",
    "            <td>object</td>\n",
    "        </tr>\n",
    "        <tr>\n",
    "            <td><b>GPU</b></td>\n",
    "            <td>مدل کارت گرافیک</td>\n",
    "            <td>object</td>\n",
    "        </tr>\n",
    "        <tr>\n",
    "            <td><b>Screen Size (inch)</b></td>\n",
    "            <td>اندازه صفحه‌نمایش (اینچ)</td>\n",
    "            <td>float64</td>\n",
    "        </tr>\n",
    "        <tr>\n",
    "            <td><b>Resolution</b></td>\n",
    "            <td>رزولوشن صفحه‌نمایش (Full HD, 4K, …)</td>\n",
    "            <td>object</td>\n",
    "        </tr>\n",
    "        <tr>\n",
    "            <td><b>Battery Life (hours)</b></td>\n",
    "            <td>عمر باتری (ساعت)</td>\n",
    "            <td>float64</td>\n",
    "        </tr>\n",
    "        <tr>\n",
    "            <td><b>Weight (kg)</b></td>\n",
    "            <td>وزن دستگاه (کیلوگرم)</td>\n",
    "            <td>float64</td>\n",
    "        </tr>\n",
    "        <tr>\n",
    "            <td><b>Operating System</b></td>\n",
    "            <td>سیستم‌عامل (Windows, macOS, Linux, …)</td>\n",
    "            <td>object</td>\n",
    "        </tr>\n",
    "        <tr>\n",
    "            <td><b>Price ($)</b></td>\n",
    "            <td>قیمت لپ‌تاپ (دلار)</td>\n",
    "            <td>float64</td>\n",
    "        </tr>\n",
    "    </table>\n",
    "</div>\n",
    "<br><br>"
   ]
  },
  {
   "cell_type": "code",
   "execution_count": null,
   "metadata": {
    "id": "fPjfYQSaXXn1"
   },
   "outputs": [],
   "source": []
  },
  {
   "cell_type": "markdown",
   "metadata": {
    "id": "S0qGbJqczmHA"
   },
   "source": [
    "<br>\n",
    "<br>\n",
    "<div dir=\"rtl\">\n",
    "<font size=\"6\">\n",
    "    <li>\n",
    "    <strong>ارزیابی و شناخت دیتاست</strong>\n",
    "    </li>\n",
    "</font>\n",
    "<font size=4>\n",
    "    در این قدم، شما باید دیتاست را بررسی کرده و ساختار آن را درک کنید. بررسی کنید که چه متغیرهایی در دیتاست وجود دارند، نوع داده‌ها چیست و آیا داده‌ها گمشده یا نادرست هستند یا خیر. این مرحله به شما کمک می‌کند که به‌طور کامل با داده‌ها آشنا شوید و مشکلات احتمالی را شناسایی کنید.\n",
    "</font>"
   ]
  },
  {
   "cell_type": "code",
   "execution_count": null,
   "metadata": {
    "id": "22UVRWRH2Nbd"
   },
   "outputs": [],
   "source": [
    "# TODO: کتابخانه ها را ایمپورت کنید\n",
    "\n"
   ]
  },
  {
   "cell_type": "code",
   "execution_count": null,
   "metadata": {
    "id": "rcHzjRE3Hfvj"
   },
   "outputs": [],
   "source": [
    "# TODO: دیتافریم را لود کنید\n"
   ]
  },
  {
   "cell_type": "code",
   "execution_count": null,
   "metadata": {
    "id": "JP6esntgqrEU"
   },
   "outputs": [],
   "source": [
    "# TODO : بررسی چند ردیف اول دیتافریم\n",
    "\n"
   ]
  },
  {
   "cell_type": "code",
   "execution_count": null,
   "metadata": {
    "id": "8jpIR2CkWMIw"
   },
   "outputs": [],
   "source": [
    "# TODO: بررسی ابعاد دیتافریم\n"
   ]
  },
  {
   "cell_type": "code",
   "execution_count": null,
   "metadata": {
    "id": "in1LP0wG5lUN"
   },
   "outputs": [],
   "source": [
    "# TODO: بررسی اطلاعات کلی دیتافریم\n"
   ]
  },
  {
   "cell_type": "markdown",
   "metadata": {
    "id": "3AvnbnBf2ImN"
   },
   "source": [
    "<div dir=\"rtl\" style=\"text-align: center;\">\n",
    "    <p>\n",
    "        <font size=4>\n",
    "            <li>\n",
    "                داده های تکراری (Duplicates) و داده های گم شده (Missing Values) را بررسی و ارزیابی کنید.\n",
    "                <strong>سپس مقادیر تکراری را حذف کنید.</strong>\n",
    "            </li>\n",
    "        </font>\n",
    "    </p>\n",
    "</div>"
   ]
  },
  {
   "cell_type": "code",
   "execution_count": null,
   "metadata": {
    "id": "bbOoKKT57cfI"
   },
   "outputs": [],
   "source": [
    "# TODO: بررسی مقادیر گم شده\n",
    "\n"
   ]
  },
  {
   "cell_type": "code",
   "execution_count": null,
   "metadata": {
    "id": "PL5PDc8n-z6q"
   },
   "outputs": [],
   "source": [
    "# TODO: بررسی داده های تکراری\n",
    "\n"
   ]
  },
  {
   "cell_type": "markdown",
   "metadata": {
    "id": "eQNB8eNK23Rm"
   },
   "source": [
    "<div dir=\"rtl\" style=\"text-align: center;\">\n",
    "    <p>\n",
    "        <font size=4>\n",
    "            <li>\n",
    "                تعداد مقادیر یکتا (Unique) در هر ویژگی را بررسی کنید.\n",
    "            </li>\n",
    "        </font>\n",
    "    </p>\n",
    "</div>"
   ]
  },
  {
   "cell_type": "code",
   "execution_count": null,
   "metadata": {
    "id": "bXlcoNUvC0Gy"
   },
   "outputs": [],
   "source": [
    "# TODO: بررسی تعداد داده های منحصر بفرد و یکتا در هر ویژگی\n",
    "\n"
   ]
  },
  {
   "cell_type": "markdown",
   "metadata": {
    "id": "PTaLd0GW3A_p"
   },
   "source": [
    "<div dir=\"rtl\">\n",
    "    <p>\n",
    "        <font size=4>\n",
    "            <li>\n",
    "                جدول Describe را برای این دیتافریم بررسی کنیدو ارزیابی اولیه خودتان را در مورد این دیتافریم بنویسید.\n",
    "                در ادامه که نمونه از ارزیابی اولیه برای شما نوشته شده است که لازم است با آن توجه داشته باشید\n",
    "            </li>\n",
    "        </font>\n",
    "    </p>\n",
    "</div>"
   ]
  },
  {
   "cell_type": "code",
   "execution_count": null,
   "metadata": {
    "id": "z2NrOlX7FbeA"
   },
   "outputs": [],
   "source": [
    "# TODO: بررسی اطلاعات آمار و احتمالاتی دیتاست\n",
    "\n"
   ]
  },
  {
   "cell_type": "markdown",
   "metadata": {
    "id": "MH92_aMny8B0"
   },
   "source": [
    "## ارزیابی:\n",
    "*ارزیابی خودتان از کد و خروجی حاصل از آن را بنویسید*\n",
    "1. ....\n",
    "2. ....\n",
    "3. ....\n"
   ]
  },
  {
   "cell_type": "code",
   "execution_count": null,
   "metadata": {
    "id": "1qhFY8L9XV1O"
   },
   "outputs": [],
   "source": []
  },
  {
   "cell_type": "markdown",
   "metadata": {
    "id": "3ned43_OiLYd"
   },
   "source": [
    "<div dir=\"rtl\">\n",
    "<font size=\"6\">\n",
    "    <li>\n",
    "    <strong>مصورسازی</strong>\n",
    "    </li>\n",
    "</font>\n",
    "<div dir=\"rtl\">\n",
    "    <font size=\"4\">\n",
    "        در این مرحله، با استفاده از نمودارهای مناسب مانند پراکندگی (Scatter plot)، هیستوگرام و جعبه‌ای (Box plot)، روابط بین ویژگی‌ها و متغیر هدف را بررسی کنید.  \n",
    "        این تحلیل به درک بهتر الگوهای داده و شناسایی روابط پنهان کمک می‌کند.  \n",
    "        <br><font>پیاده‌سازی پلات‌های مشخص‌شده ضروری است. همچنین، برای هر پلات، یک خط تحلیل ارائه دهید و در بخش ارزیابی بنویسید.</font>\n",
    "    </font>\n",
    "</div>\n",
    "<br>\n"
   ]
  },
  {
   "cell_type": "markdown",
   "metadata": {
    "id": "LJ9x-8_cjwpO"
   },
   "source": [
    "<br>\n",
    "<div dir=\"rtl\">\n",
    "    <p>\n",
    "        <font size=4>\n",
    "            <li>\n",
    "                نمودار توزیع قیمت (Price) رو به کمک Histogram رسم و بررسی کنید.\n",
    "            </li>\n",
    "        </font>\n",
    "    </p>\n",
    "</div>\n",
    "<br>\n",
    "<br>"
   ]
  },
  {
   "cell_type": "code",
   "execution_count": null,
   "metadata": {
    "id": "LH6geW5l1Zqe"
   },
   "outputs": [],
   "source": [
    "# TODO : رسم هیستوگرام قیمت\n",
    "\n"
   ]
  },
  {
   "cell_type": "markdown",
   "metadata": {
    "id": "qZ08vwpSk8DY"
   },
   "source": [
    "## ارزیابی:\n",
    "*ارزیابی خودتان از کد و خروجی حاصل از آن را بنویسید*\n",
    "1. ....\n",
    "2. ....\n",
    "3. ....\n"
   ]
  },
  {
   "cell_type": "markdown",
   "metadata": {
    "id": "qx46TSU1mfD3"
   },
   "source": [
    "<div dir=\"rtl\">\n",
    "    <p>\n",
    "        <font size=4>\n",
    "            <li>\n",
    "                تعداد لپتاپ های در برند را با نمودار Barplot نشان دهید.\n",
    "            </li>\n",
    "        </font>\n",
    "    </p>\n",
    "</div>\n",
    "<br>"
   ]
  },
  {
   "cell_type": "code",
   "execution_count": null,
   "metadata": {
    "id": "OSe8CxYchy_6"
   },
   "outputs": [],
   "source": [
    "# TODO تعداد لپتاپ ها موجود در دیتاست را بر اساس نام برند نشان دهید.\n",
    "\n"
   ]
  },
  {
   "cell_type": "markdown",
   "metadata": {
    "id": "4We0uoxEmzJ0"
   },
   "source": [
    "## ارزیابی:\n",
    "*ارزیابی خودتان از کد و خروجی حاصل از آن را بنویسید*\n",
    "1. ....\n",
    "2. ....\n",
    "3. ....\n"
   ]
  },
  {
   "cell_type": "markdown",
   "metadata": {
    "id": "9Ujiy-hm1EFe"
   },
   "source": [
    "<div dir=\"rtl\">\n",
    "    <p>\n",
    "        <font size=4>\n",
    "            <li>\n",
    "                میانگین قیمت برای هر برند را با Bar Plot نشان دهید.\n",
    "            </li>\n",
    "        </font>\n",
    "    </p>\n",
    "</div>\n",
    "<br>"
   ]
  },
  {
   "cell_type": "code",
   "execution_count": null,
   "metadata": {
    "id": "6imhX6G2hy63"
   },
   "outputs": [],
   "source": [
    "# TODO: میانگین قیمت برندهای مختلف\n",
    "\n"
   ]
  },
  {
   "cell_type": "markdown",
   "metadata": {
    "id": "i_ztvb1uoKUF"
   },
   "source": [
    "## ارزیابی:\n",
    "*ارزیابی خودتان از کد و خروجی حاصل از آن را بنویسید*\n",
    "1. ....\n",
    "2. ....\n",
    "3. ....\n"
   ]
  },
  {
   "cell_type": "markdown",
   "metadata": {
    "id": "RkJW273C10Fk"
   },
   "source": [
    "<br>\n",
    "<div dir=\"rtl\">\n",
    "    <p>\n",
    "        <font size=4>\n",
    "            <li>\n",
    "                قیمت لپتاپ های هر برند را با Boxplot رسم کنید و توزیع قیمت برای هر برند را بررسی کنید\n",
    "            </li>\n",
    "        </font>\n",
    "    </p>\n",
    "</div>\n",
    "<br>"
   ]
  },
  {
   "cell_type": "code",
   "execution_count": null,
   "metadata": {
    "id": "cNrpXgUFhz7z"
   },
   "outputs": [],
   "source": [
    "# TODO: جعبه‌ای قیمت لپ‌تاپ‌های هر برند\n",
    "\n"
   ]
  },
  {
   "cell_type": "markdown",
   "metadata": {
    "id": "fgGmfy7NpRsB"
   },
   "source": [
    "## ارزیابی:\n",
    "*ارزیابی خودتان از کد و خروجی حاصل از آن را بنویسید*\n",
    "1. ....\n",
    "2. ....\n",
    "3. ....\n",
    "4. ....\n",
    "5. ...."
   ]
  },
  {
   "cell_type": "markdown",
   "metadata": {
    "id": "VMQKPHU2VUqS"
   },
   "source": [
    "<br>\n",
    "<div dir=\"rtl\">\n",
    "    <p>\n",
    "        <font size=4>\n",
    "            <li>\n",
    "                    داده های پرت (Outliers) ها در این دیتاست بررسی کنید و به کمک نمودار Boxplot وضیعت آنها را نمایش دهید\n",
    "            </li>\n",
    "        </font>\n",
    "    </p>\n",
    "</div>\n",
    "<br>"
   ]
  },
  {
   "cell_type": "code",
   "execution_count": null,
   "metadata": {
    "id": "aze6E18NVE-D"
   },
   "outputs": [],
   "source": [
    "# TODO: داده های پرت را توسط نمودار Boxplot انالیز کنید\n",
    "\n"
   ]
  },
  {
   "cell_type": "markdown",
   "metadata": {
    "id": "VTBVItb0oL4n"
   },
   "source": [
    "## ارزیابی:\n",
    "*ارزیابی خودتان از کد و خروجی حاصل از آن را بنویسید*\n",
    "1. ....\n",
    "2. ....\n",
    "3. ....\n"
   ]
  },
  {
   "cell_type": "markdown",
   "metadata": {
    "id": "4fHR5ubr2V_Z"
   },
   "source": [
    "<br>\n",
    "<br>\n",
    "<div dir=\"rtl\">\n",
    "    <p>\n",
    "        <font size=4>\n",
    "            <li>\n",
    "                میانگین قیمت لپتاپ ها بر اساس نوع Processor بررسی کنید و از نمودار Barplot برای مصورسازی استفاده کنید.\n",
    "            </li>\n",
    "        </font>\n",
    "    </p>\n",
    "</div>\n",
    "<br>"
   ]
  },
  {
   "cell_type": "code",
   "execution_count": null,
   "metadata": {
    "id": "Sq_tOVOyhz5G"
   },
   "outputs": [],
   "source": [
    "# TODO: میانگین قیمت بر اساس Processor\n",
    "\n"
   ]
  },
  {
   "cell_type": "markdown",
   "metadata": {
    "id": "9Xj2vDiaox35"
   },
   "source": [
    "## ارزیابی:\n",
    "*ارزیابی خودتان از کد و خروجی حاصل از آن را بنویسید*\n",
    "1. ....\n",
    "2. ....\n",
    "3. ....\n"
   ]
  },
  {
   "cell_type": "markdown",
   "metadata": {
    "id": "Q-bpVc5i2oC6"
   },
   "source": [
    "<br>\n",
    "<br>\n",
    "<div dir=\"rtl\">\n",
    "    <p>\n",
    "        <font size=4>\n",
    "            <li>\n",
    "                میانگین قیمت لپتاپ ها بر اساس نوع RAM بررسی کنید و از نمودار Barplot برای مصورسازی استفاده کنید.\n",
    "            </li>\n",
    "        </font>\n",
    "    </p>\n",
    "</div>\n",
    "<br>"
   ]
  },
  {
   "cell_type": "code",
   "execution_count": null,
   "metadata": {
    "id": "7AqE1N-xhzz8"
   },
   "outputs": [],
   "source": [
    "# TODO: میانگین قیمت بر اساس RAM\n",
    "\n"
   ]
  },
  {
   "cell_type": "markdown",
   "metadata": {
    "id": "hipAzsaspBUF"
   },
   "source": [
    "## ارزیابی:\n",
    "*ارزیابی خودتان از کد و خروجی حاصل از آن را بنویسید*\n",
    "1. ....\n",
    "2. ....\n",
    "3. ....\n"
   ]
  },
  {
   "cell_type": "markdown",
   "metadata": {
    "id": "8caeDzSl3B3k"
   },
   "source": [
    "<br>\n",
    "<br>\n",
    "<div dir=\"rtl\">\n",
    "    <p>\n",
    "        <font size=4>\n",
    "            <li>\n",
    "                از نمودار Pie برای بررسی سهم سیستم عامل لپ تاپ ها استفاده کنید.\n",
    "            </li>\n",
    "        </font>\n",
    "    </p>\n",
    "</div>"
   ]
  },
  {
   "cell_type": "markdown",
   "metadata": {
    "id": "cQGXwJQZKhjF"
   },
   "source": [
    "<br>\n",
    "<div dir=\"rtl\">\n",
    "    <font size=5 color=\"red\">راهنمایی</font>\n",
    "    <br>\n",
    "    <font size=\"4\">\n",
    "        این پلات یک <strong>دونات چارت تعاملی (interactive donut chart)</strong> است که با ابزارهایی مثل <strong>Plotly</strong> در پایتون قابل پیاده‌سازی است. ویژگی تعاملی بودن آن باعث می‌شود که کاربران بتوانند با حرکت ماوس روی هر بخش، اطلاعات دقیق‌تر را مشاهده کنند.\n",
    "        <br><br>\n",
    "        <strong>کاربردها:</strong>\n",
    "        <br> - نمایش توزیع دسته‌بندی‌شده داده‌ها (مثلاً سهم سیستم‌عامل‌های مختلف)\n",
    "        <br> - امکان تحلیل بهتر از طریق تعامل با داده‌ها\n",
    "        <br> - بصری‌سازی جذاب برای گزارش‌ها و داشبوردهای تحلیلی\n",
    "        <br><br>\n",
    "        شما باید کدی بنویسید که چنین نموداری را ایجاد کند و قابلیت تعامل داشته باشد.\n",
    "        <br><br>\n",
    "        <a href=\"https://imgbb.com/\">\n",
    "            <img src=\"https://i.ibb.co/XZqncb6y/Screenshot-2025-03-10-115421.png\" alt=\"دونات چارت تعاملی\" border=\"0\">\n",
    "        </a>\n",
    "    </font>\n",
    "</div>\n",
    "<br>"
   ]
  },
  {
   "cell_type": "code",
   "execution_count": null,
   "metadata": {
    "id": "SlF2INT0sAEi"
   },
   "outputs": [],
   "source": [
    "# TODO: کتابحانه plotly را ایمپورت کنید\n",
    "\n",
    "\n"
   ]
  },
  {
   "cell_type": "code",
   "execution_count": null,
   "metadata": {
    "id": "1ITUN5ofJ01I"
   },
   "outputs": [],
   "source": [
    "# TODO:کد نمودار Pie را بنویسید\n",
    "\n",
    "\n"
   ]
  },
  {
   "cell_type": "markdown",
   "metadata": {
    "id": "FDaMWZG0uuPW"
   },
   "source": [
    "## ارزیابی:\n",
    "*ارزیابی خودتان از کد و خروجی حاصل از آن را بنویسید*\n",
    "1. ....\n",
    "2. ....\n",
    "3. ....\n"
   ]
  },
  {
   "cell_type": "markdown",
   "metadata": {
    "id": "BPMtULaaKD4w"
   },
   "source": [
    "<br>\n",
    "<br>\n",
    "<div dir=\"rtl\">\n",
    "    <p>\n",
    "        <font size=4>\n",
    "            <li>\n",
    "                میانگین قیمت لپتاپ ها را بر اساس GPU و RAM محاسبه کنید و به کمک نمودار Heatmap آنرا نمایش دهید و بررسی و آنالیز کنید.\n",
    "            </li>\n",
    "        </font>\n",
    "    </p>\n",
    "</div>\n",
    "<br>"
   ]
  },
  {
   "cell_type": "code",
   "execution_count": null,
   "metadata": {
    "id": "mz-at41Y0XsA"
   },
   "outputs": [],
   "source": [
    "# مقایسه RAM و GPU در برندهای مختلف\n",
    "\n",
    "\n"
   ]
  },
  {
   "cell_type": "markdown",
   "metadata": {
    "id": "CZ0Dr-Sqiwmf"
   },
   "source": [
    "<div dir=\"rtl\">\n",
    "<font size=\"6\">\n",
    "    <li>\n",
    "    <strong>پیش پردازش داده ها</strong>\n",
    "    </li>\n",
    "</font>\n",
    "<div dir=\"rtl\">\n",
    "    <p>\n",
    "        <font size=4>\n",
    "            <li>\n",
    "                پیش‌پردازش داده‌ها شامل آماده‌سازی داده خام برای تحلیل و مدل‌سازی است. این مرحله شامل پاک‌سازی داده‌ها، مدیریت مقادیر گمشده، تبدیل انواع داده، نرمال‌سازی و استخراج ویژگی‌های مهم برای بهبود عملکرد مدل‌های یادگیری ماشین می‌شود.\n",
    "            </li>\n",
    "        </font>\n",
    "    </p>\n",
    "</div>\n",
    "<br>\n",
    "<br>"
   ]
  },
  {
   "cell_type": "code",
   "execution_count": null,
   "metadata": {
    "id": "pRPeGwNsgaHL"
   },
   "outputs": [],
   "source": [
    "# TODO : یک کپی از دیتافریم اصلی بگیرید و ادامه کد هارا با دیتافریم جدید انجام دهید\n",
    "\n"
   ]
  },
  {
   "cell_type": "code",
   "execution_count": null,
   "metadata": {
    "id": "_WyLX0_lgUnP"
   },
   "outputs": [],
   "source": [
    "# TODO: اگی نیاز به کتابخانه خاصی دارید , آنها را ایمپورت کنید\n",
    "\n"
   ]
  },
  {
   "cell_type": "markdown",
   "metadata": {
    "id": "kM-RB8kPhdu1"
   },
   "source": [
    "<br>\n",
    "<br>\n",
    "<div dir=\"rtl\">\n",
    "    <font size=4>\n",
    "        <li>پردازش Storage</li>\n",
    "    </font>\n",
    "    <font size=4>\n",
    "        <li>\n",
    "            ویژگی Storage دارای واحد های GB و TB است. بهتر است آنها را به یک واحد اندازه گیری تبدیل کنید.\n",
    "        </li>\n",
    "        <li>\n",
    "            یک ویژگی عددی جدید با نام <code>Storage_Capacity_GB</code> ایجاد کنید.\n",
    "        </li>\n",
    "        <li>\n",
    "            نوع هارد دیسک (<strong>SSD</strong> یا <strong>HDD</strong>) را هم جدا کرده و در ستون <code>Storage_Type</code> ذخیره کنید.\n",
    "        </li>\n",
    "    </font>\n",
    "</div>\n"
   ]
  },
  {
   "cell_type": "code",
   "execution_count": null,
   "metadata": {
    "id": "G_UV5NWBUc2I"
   },
   "outputs": [],
   "source": [
    "# TODO: متدی برای پیش پردازش  فضای ذخیره سازی طبق توضیحات ارائه شده بنویسید.\n",
    "def parse_storage(storage_str):\n",
    "    pass\n"
   ]
  },
  {
   "cell_type": "markdown",
   "metadata": {
    "id": "iiv9rS9wjPIF"
   },
   "source": [
    "<br>\n",
    "<br>\n",
    "<div dir=\"rtl\">\n",
    "    <font size=4>\n",
    "        <li>پردازش Resolution</li>\n",
    "    </font>\n",
    "    <font size=4>\n",
    "        <li>\n",
    "            یک ویژگی عددی جدید \"Resolution_Pixels\" ایجاد کنید\n",
    "        </li>\n",
    "        <li>\n",
    "            <font size=3 color=\"red\"> راهنمایی: </font>رزولوشن را به دو مقدار جداگانه تبدیل کنید و از آن برای استخراج یک ویژگی عددی که میزان کلی پیکسل‌ها را نشان می‌دهد، استفاده کنید.\n",
    "        </li>\n",
    "    </font>\n",
    "</div>\n",
    "<br>"
   ]
  },
  {
   "cell_type": "code",
   "execution_count": null,
   "metadata": {
    "id": "ez0jUsheUgUt"
   },
   "outputs": [],
   "source": [
    "# TODO: متدی برای هندل کردن رزولوشن تصویر بنویسید\n",
    "def parse_resolution(resolution_str):\n",
    "    pass\n"
   ]
  },
  {
   "cell_type": "markdown",
   "metadata": {
    "id": "UlTMsnE4uR8q"
   },
   "source": [
    "<br>\n",
    "<br>\n",
    "<div dir=\"rtl\">\n",
    "    <font size=4>\n",
    "        <li>پردازش GPU و Processor</li>\n",
    "    </font>\n",
    "    <font size=4>\n",
    "        <li>\n",
    "            بهترین روش برای پردازش این دو ویژگی پیدا کنید. از آنجایی که این دو ویژگی دسته ایی (Categorical) هستند باید بهترین روش برای پردازش و استخراج ویژگی از انها را پیدا کنید. در مراحل بعدی ما نیاز داریم که به این دو ویژگی را به ویژگی های عددی تبدیل کنیم و اکر تعداد ویژگی های استخراج شده از آنها زیاد باشد ممکن است باعث افزایش بیش از حد پیچیدگی در داده های آموزش و تست و در نهایت Overfit شدن مدل شود.\n",
    "        </li>\n",
    "        <li>\n",
    "            <font size=4 color=\"red\"> راهنمایی: </font>برند و مدل ها در مقادیر ها را به‌عنوان دو ویژگی جداگانه در نظر بگیرید.\n",
    "        </li>\n",
    "    </font>\n",
    "</div>\n",
    "<br>"
   ]
  },
  {
   "cell_type": "code",
   "execution_count": null,
   "metadata": {
    "id": "LOnm4JcD-x0B"
   },
   "outputs": [],
   "source": [
    "# TODO متدی برای مدیریت ویژگی های GPU و Processor بنویسید.\n",
    "\n"
   ]
  },
  {
   "cell_type": "code",
   "execution_count": null,
   "metadata": {
    "id": "8Ntmgc9y-xxO"
   },
   "outputs": [],
   "source": []
  },
  {
   "cell_type": "markdown",
   "metadata": {
    "id": "zlV4q0yRY52F"
   },
   "source": [
    "<br>\n",
    "<br>\n",
    "<div dir=\"rtl\">\n",
    "    <font size=4>\n",
    "        <li>پردازش Price($)</li>\n",
    "    </font>\n",
    "    <font size=4>\n",
    "        <li>\n",
    "            این ویژگی را کامل بررسی کنید و توضیح دهید که به چه دلیل به چه پیش پردازش هایی نیاز دارد. از انجایی که این ویژگی هدف است , باید دقت زیادی داشته باشید.\n",
    "        </li>\n",
    "    </font>\n",
    "</div>\n",
    "<br>"
   ]
  },
  {
   "cell_type": "code",
   "execution_count": null,
   "metadata": {
    "id": "qbv096hnHzin"
   },
   "outputs": [],
   "source": [
    "# TODO: ویژگی هدف را بررسی و پیش پردازش های مورد نیاز را روی آن اعمال کنید.\n",
    "\n"
   ]
  },
  {
   "cell_type": "markdown",
   "metadata": {
    "id": "-F7zn6WC-yL8"
   },
   "source": [
    "<br>\n",
    "<br>\n",
    "<div dir=\"rtl\">\n",
    "    <font size=4>\n",
    "        <li>Encoding ویژگی های دسته ایی (Categorical)</li>\n",
    "    </font>\n",
    "    <font size=4>\n",
    "        <li>\n",
    "            ویژگی‌های دسته‌ای را به مقادیر عددی تبدیل کنید. روش‌های مختلفی برای این کار وجود دارد، از جمله One-Hot Encoding, Ordinal Encoding, Target Encoding, Binary Encoding, Hashing Encoding و ... . انتخاب روش مناسب اهمیت زیادی دارد، زیرا برخی روش‌ها ممکن است تعداد ویژگی‌ها را به‌شدت افزایش داده و منجر به پیچیدگی مدل یا Overfitting شوند. بهترین روش را بر اساس تعداد دسته‌ها و تأثیر آن‌ها بر مدل انتخاب کنید.\n",
    "        </li>\n",
    "    </font>\n",
    "</div>\n",
    "<br>"
   ]
  },
  {
   "cell_type": "code",
   "execution_count": null,
   "metadata": {
    "id": "5TCWBYAvwm-Z"
   },
   "outputs": [],
   "source": [
    "# TODO: اگی نیاز به کتابخانه خاصی دارید , آنها را ایمپورت کنید\n"
   ]
  },
  {
   "cell_type": "code",
   "execution_count": null,
   "metadata": {
    "id": "stKrehmrkoZw"
   },
   "outputs": [],
   "source": [
    "# TODO : ویژگی های دسته ایی را هندل کنید\n",
    "\n"
   ]
  },
  {
   "cell_type": "code",
   "execution_count": null,
   "metadata": {
    "id": "YWM4xZlImHXk"
   },
   "outputs": [],
   "source": []
  },
  {
   "cell_type": "markdown",
   "metadata": {
    "id": "dM5EieV-1Hba"
   },
   "source": [
    "<div dir=\"rtl\">\n",
    "<font size=\"6\">\n",
    "    <li>\n",
    "    <strong> ساخت و آموزش مدل</strong>\n",
    "    </li>\n",
    "</font>"
   ]
  },
  {
   "cell_type": "markdown",
   "metadata": {
    "id": "RJezLZvh1WWP"
   },
   "source": [
    "<div dir=\"rtl\">\n",
    "    <font size=5> اهداف: </font>\n",
    "    <font size=4>\n",
    "        <li>\n",
    "        آموزش دو مدل RandomForest Regressor و XGBoostRegressor    \n",
    "        </li>\n",
    "        <li>\n",
    "        بررسی منحنی یادگیری هر دو مدل و بررسی عملکرد مدل ها با کمی جزئیات بیشتر\n",
    "        </li>\n",
    "        <li>\n",
    "        تحقیق, بررسی و انتخاب هایپرپارامتر ها به صورت دستی\n",
    "        </li>\n",
    "        <li>\n",
    "        ایجاد و ساخت Pipeline\n",
    "        </li>\n",
    "    </font>\n",
    "</div>\n",
    "<br>"
   ]
  },
  {
   "cell_type": "code",
   "execution_count": null,
   "metadata": {
    "id": "iJzKVfzC9OTn"
   },
   "outputs": [],
   "source": [
    "# TODO: در صورت نیاز کتابحانه XGBoost را نصب کنید.\n",
    "\n"
   ]
  },
  {
   "cell_type": "code",
   "execution_count": null,
   "metadata": {
    "id": "BTz0SIQ_0F7_"
   },
   "outputs": [],
   "source": [
    "# TODO: اگی نیاز به کتابخانه خاصی دارید , آنها را ایمپورت کنید\n",
    "\n"
   ]
  },
  {
   "cell_type": "markdown",
   "metadata": {
    "id": "vFmg7iEiW3Jf"
   },
   "source": [
    "<br>\n",
    "<div dir=\"rtl\">\n",
    "    <font size=4>پیش از آموزش مدل ها به 3 تابع زیر نیاز داریم:</font>\n",
    "    <font size=4>\n",
    "        <li>\n",
    "        تابعی که منحنی یادگیری را رسم کند.   \n",
    "        </li>\n",
    "        <li>\n",
    "        تابعی که مقادیر mse, rmse, r2 و mae را بر اساس مدل آموزش داده شده و مجموعه داده ها محاسبه کند.\n",
    "        </li>\n",
    "        <li>\n",
    "        تابعی که نمودار پراکندگی بین مقادیر پیش بینی شده و مقادیر واقعی را برای هر مجموعه داده ایی نشان دهد\n",
    "        </li>\n",
    "    </font>\n",
    "</div>\n",
    "<br>\n",
    "<br>"
   ]
  },
  {
   "cell_type": "markdown",
   "metadata": {
    "id": "zcJEl4SdXkAM"
   },
   "source": [
    "<br>\n",
    "<br>\n",
    "<div dir=\"rtl\">\n",
    "    <font size=4>\n",
    "        <li>تابع زیر را که برای منحنی یادگیری است کامل کنید.</li>\n",
    "    </font>\n",
    "    <font size=4 color=\"red\"> راهنمایی: </font>\n",
    "    <font size=4>     صورتی که با نوشتن این تابع مشکل دارید به پاسخ تمرین قبلی و منابع مطالعه داده شده مراجعه کنید.</font>\n",
    "</div>"
   ]
  },
  {
   "cell_type": "code",
   "execution_count": null,
   "metadata": {
    "id": "OfyQ9bTQ1ZTC"
   },
   "outputs": [],
   "source": [
    "# TODO: متد منحنی یادگیری را بنویسید\n",
    "def plot_learning_curve(model, X, y, model_name):\n",
    "    pass\n"
   ]
  },
  {
   "cell_type": "markdown",
   "metadata": {
    "id": "zZRK7HopX24y"
   },
   "source": [
    "<br>\n",
    "<br>\n",
    "<div dir=\"rtl\">\n",
    "    <font size=4>\n",
    "        <li>\n",
    "        تابع زیر که برای محاسبه مقادیر mse, rmse و ...است را کامل کنید.\n",
    "        </li>\n",
    "            این تابع برای محاسبه و نمایش معیارهای ارزیابی عملکرد مدل (MSE، RMSE، MAE و R²) با استفاده از مقادیر واقعی و پیش‌بینی شده طراحی شده است. خروجی‌های محاسبه شده را نمایش داده و همچنین آنها را برای استفاده‌های بعدی برمی‌گرداند. یعنی این تابع با دریافت مدل (Pipeline) و X, y و نوع مجموعه داده ایی (dataset_name) معیار های ارزیابی ذکر شده را محاسبه و بر می گرداند.\n",
    "    </font>\n",
    "</div>\n"
   ]
  },
  {
   "cell_type": "markdown",
   "metadata": {
    "id": "jWK5-0ZRsOcY"
   },
   "source": [
    "<div dir=\"rtl\">\n",
    "    <font size=\"4\">\n",
    "        <strong>توضیحات پارامترها برای تابع <code>evaluate_model</code>:</strong>\n",
    "    </font>\n",
    "    <br><br>\n",
    "    <font size=\"4\">\n",
    "        <strong>pipeline:</strong> مدل یا پایپلاینی که می‌خواهیم ارزیابی کنیم و باید متد <code>predict</code> داشته باشد.\n",
    "    </font>\n",
    "    <br>\n",
    "    <font size=\"4\">\n",
    "        <strong>X:</strong> داده‌های ویژگی یا متغیرهای مستقل که به مدل ارسال می‌شوند تا پیش‌بینی انجام شود.\n",
    "    </font>\n",
    "    <br>\n",
    "    <font size=\"4\">\n",
    "        <strong>y:</strong> مقادیر واقعی یا متغیر هدف که برای محاسبه خطای پیش‌بینی با خروجی مدل مقایسه می‌شوند.\n",
    "    </font>\n",
    "    <br>\n",
    "    <font size=\"4\">\n",
    "        <strong>dataset_name:</strong> نام مجموعه داده (مثل \"train\"، \"validation\" یا \"test\") که در خروجی نمایش داده می‌شود تا مشخص شود معیارهای ارزیابی مربوط به کدام بخش داده است. مثل استفاده از این تابع:\n",
    "    </font>\n",
    "</div>\n",
    "\n",
    "```python\n",
    "evaluate_model(pipeline, X_train, y_train, \"Train\")\n",
    "evaluate_model(pipeline, X_test, y_test, \"Test\")\n",
    "```\n",
    "\n",
    "<div dir=\"rtl\">\n",
    "    <font size=\"4\">\n",
    "        و خروجی نمونه از این تابع:\n",
    "    </font>\n",
    "</div>\n",
    "\n",
    "```python\n",
    "Model Evaluation On Sets: Train:\n",
    "Mean Squared Error (MSE): 0.226\n",
    "Root Mean Squared Error (RMSE): 0.1149\n",
    "Mean Absolute Error (MAE): 0.1381\n",
    "R-squared (R²): 0.9999\n",
    "```\n",
    "\n",
    "\n",
    "<br>\n",
    "<br>"
   ]
  },
  {
   "cell_type": "code",
   "execution_count": null,
   "metadata": {
    "id": "SvPy3L-0NIIK"
   },
   "outputs": [],
   "source": [
    "# TODO: تابع برای محاسبه و نمایش معیارهای ارزیابی\n",
    "def evaluate_model(pipeline, X, y, dataset_name):\n",
    "    pass\n",
    "\n"
   ]
  },
  {
   "cell_type": "markdown",
   "metadata": {
    "id": "wZ0l8njbVEs0"
   },
   "source": [
    "<br>\n",
    "<br>\n",
    "<div dir=\"rtl\">\n",
    "    <font size=4>\n",
    "        <li>\n",
    "            تابع زیر را برای نمایش نمودار پراکندگی (Scatter) بین مقادیر واقعی (Actual) و پیش‌بینی‌شده (Predicted) کامل کنید.\n",
    "        </li>\n",
    "        <font size=4 color=\"red\">راهنمایی:</font>  \n",
    "        <br>\n",
    "        - ابتدا سه نمودار پراکندگی برای هر مجموعه داده (Train، Validation و Test) رسم کنید.\n",
    "        <br>\n",
    "        - در هر نمودار، مقادیر واقعی را در محور X و مقادیر پیش‌بینی‌شده را در محور Y قرار دهید.\n",
    "        <br>\n",
    "        - یک خط قرمز عمودی (خطی که پیش‌بینی‌های درست را نشان دهد) رسم کنید که از پایین تا بالا کشیده شده و مقادیر واقعی را با پیش‌بینی‌ها مقایسه کند.\n",
    "        <br>\n",
    "        - پس از رسم نمودارهای پراکندگی، یک نمودار دیگر رسم کنید که توزیع خطاها (اختلاف بین مقادیر واقعی و پیش‌بینی‌شده) برای مجموعه داده‌ی Test را نشان دهد.\n",
    "        <br>\n",
    "        - از رنگ‌ها و عنوان‌های مناسب برای هر نمودار استفاده کنید تا نتایج به وضوح قابل درک باشند.\n",
    "    </font>\n",
    "</div>\n"
   ]
  },
  {
   "cell_type": "code",
   "execution_count": null,
   "metadata": {
    "id": "PYb0CM5HT0V2"
   },
   "outputs": [],
   "source": [
    "# TODO: نمایش نمودار پراکندگی بین مقادیر واقعی و پیش‌بینی شده\n",
    "def plot_prediction_scatter():\n",
    "    pass\n",
    "\n"
   ]
  },
  {
   "cell_type": "markdown",
   "metadata": {
    "id": "1vL2W4NZ-r7z"
   },
   "source": [
    "<br>\n",
    "<br>\n",
    "<div dir=\"rtl\">\n",
    "    <h1>آموزش مدل RandomForest:<h1>\n",
    "        <font size=4>\n",
    "            <li>\n",
    "                    مدل RandomForest را آموزش دهید و به نکات زیر توجه داشته باشید:\n",
    "                        <br>\n",
    "                        1. از داده های Test, Train و Validation برای آموزش و\n",
    "                        ارزیابی مدل استفاده کنید.  \n",
    "                        <br>\n",
    "                        2. منحنی یادگیری مدل را بررسی و ارزیابی کنید.\n",
    "                        <br>\n",
    "                        3. مدل را از نظر Overfit/Underfit بررسی کنید.\n",
    "                        <br>\n",
    "                        4. سعی کنید ماهیت داده ها را بشناسید و بر اساس آن هایپر پارامتر ها را انتخاب کنید. در صورتی که به مشکلی مواجه شدید از روش های انتخاب و بهینه سازی ویژگی استفاده کنید.\n",
    "            </li>\n",
    "        </font>\n",
    "\n",
    "</div>\n",
    "<br>"
   ]
  },
  {
   "cell_type": "code",
   "execution_count": null,
   "metadata": {
    "id": "wCKEOtNTIF7g"
   },
   "outputs": [],
   "source": [
    "# TODO: آماده‌سازی داده‌ها با جدا کردن متغییر های وابسته و مستقل\n",
    "\n"
   ]
  },
  {
   "cell_type": "code",
   "execution_count": null,
   "metadata": {
    "id": "sTJ4acpJ3Cue"
   },
   "outputs": [],
   "source": [
    "# TODO تقسیم داده‌ها به سه بخش: train، validation و test\n",
    "\n"
   ]
  },
  {
   "cell_type": "code",
   "execution_count": null,
   "metadata": {
    "id": "ndnxkx0q3D8-"
   },
   "outputs": [],
   "source": [
    "# TODO: تغریف و آموزش پایپ لاین\n",
    "\n"
   ]
  },
  {
   "cell_type": "markdown",
   "metadata": {
    "id": "vgDBExnb3UP_"
   },
   "source": [
    "<br>\n",
    "<br>\n",
    "<div dir=\"rtl\">\n",
    "    <font size=4>\n",
    "        <li>\n",
    "            از تابع evaluate_model مدل استفاده کنید و عملکرد مدل بر روی داده های Train, Test و Validation را ارزیابی کنید\n",
    "        </li>\n",
    "    </font>\n",
    "</div>"
   ]
  },
  {
   "cell_type": "code",
   "execution_count": null,
   "metadata": {
    "id": "ZZepQdIv3LWO"
   },
   "outputs": [],
   "source": [
    "# TODO: ارزیابی مدل روی مجموعه‌های مختلف با استفاده از متد evaluate_model\n",
    "\n"
   ]
  },
  {
   "cell_type": "code",
   "execution_count": null,
   "metadata": {
    "id": "5rMoCFv-N8jg"
   },
   "outputs": [],
   "source": [
    "# TODO: منحنی یادگیری این مدل را بررسی کنید\n",
    "\n"
   ]
  },
  {
   "cell_type": "code",
   "execution_count": null,
   "metadata": {
    "id": "pmZCIiglOFYJ"
   },
   "outputs": [],
   "source": [
    "# TODO:  نمودار پراکندگی بین مقادیر پیش بینی شده و مقادیر واقعی\n",
    "\n"
   ]
  },
  {
   "cell_type": "markdown",
   "metadata": {
    "id": "FDiZVxUg4ti6"
   },
   "source": [
    "<br>\n",
    "<br>\n",
    "<div dir=\"rtl\">\n",
    "    <font size=4>\n",
    "        <li>\n",
    "        نتایج ارزیابی مدل را با استفاده از مقادیر MSE، RMSE، MAE و R² برای\n",
    "         داده‌های آموزشی، اعتبارسنجی و آزمایشی در قالب یک جدول نمایش دهید.خروجی نمونه به شکل زیر است:\n",
    "        </li>\n",
    "    </font>\n",
    "</div>"
   ]
  },
  {
   "cell_type": "markdown",
   "metadata": {
    "id": "fD04nxp05dLz"
   },
   "source": [
    "<a href=\"https://imgbb.com/\"><img src=\"https://i.ibb.co/yFdgRMxs/Screenshot-2025-03-12-183530.png\" alt=\"Screenshot-2025-03-12-183530\" border=\"0\"></a>"
   ]
  },
  {
   "cell_type": "code",
   "execution_count": null,
   "metadata": {
    "id": "LSQbvdvbOFVP"
   },
   "outputs": [],
   "source": [
    "\n"
   ]
  },
  {
   "cell_type": "markdown",
   "metadata": {
    "id": "AdDXUahZubnv"
   },
   "source": [
    "## ارزیابی:\n",
    "*ارزیابی خودتان از عملکرد مدل جنگل تصادفی و خروجی حاصل از آن را بنویسید*\n",
    "1. ....\n",
    "2. ....\n",
    "3. ....\n"
   ]
  },
  {
   "cell_type": "markdown",
   "metadata": {
    "id": "W4jglFGp_qFG"
   },
   "source": [
    "<br>\n",
    "<br>\n",
    "<div dir=\"rtl\">\n",
    "    <h1>آموزش مدل XGBoost:<h1>\n",
    "        <font size=4>\n",
    "            <li>\n",
    "                    مدل XGBoost را آموزش دهید و به نکات زیر توجه داشته باشید:\n",
    "                        <br>\n",
    "                        1. از داده های Test, Train و Validation برای آموزش و\n",
    "                        ارزیابی مدل استفاده کنید.  \n",
    "                        <br>\n",
    "                        2. منحنی یادگیری مدل را بررسی و ارزیابی کنید.\n",
    "                        <br>\n",
    "                        3. مدل را از نظر Overfit/Underfit بررسی کنید.\n",
    "                        <br>\n",
    "                        4. سعی کنید ماهیت داده ها را بشناسید و بر اساس آن هایپر پارامتر ها را انتخاب کنید. در صورتی که به مشکلی مواجه شدید از روش های انتخاب و بهینه سازی ویژگی استفاده کنید.\n",
    "            </li>\n",
    "        </font>\n",
    "\n",
    "</div>\n",
    "<br>"
   ]
  },
  {
   "cell_type": "code",
   "execution_count": null,
   "metadata": {
    "id": "UyZpXER96ApI"
   },
   "outputs": [],
   "source": [
    "# TODO: آماده‌سازی داده‌ها با جدا کردن متغییر های وابسته و مستقل\n",
    "\n"
   ]
  },
  {
   "cell_type": "code",
   "execution_count": null,
   "metadata": {
    "id": "s2cFz4eq6ApJ"
   },
   "outputs": [],
   "source": [
    "# TODO تقسیم داده‌ها به سه بخش: train، validation و test\n",
    "\n"
   ]
  },
  {
   "cell_type": "code",
   "execution_count": null,
   "metadata": {
    "id": "fdqQF4oH6ApJ"
   },
   "outputs": [],
   "source": [
    "# TODO: تغریف و آموزش پایپ لاین\n",
    "\n"
   ]
  },
  {
   "cell_type": "markdown",
   "metadata": {
    "id": "bMB5BHP36ApJ"
   },
   "source": [
    "<br>\n",
    "<br>\n",
    "<div dir=\"rtl\">\n",
    "    <font size=4>\n",
    "        <li>\n",
    "            از تابع evaluate_model مدل استفاده کنید و عملکرد مدل بر روی داده های Train, Test و Validation را ارزیابی کنید\n",
    "        </li>\n",
    "    </font>\n",
    "</div>"
   ]
  },
  {
   "cell_type": "code",
   "execution_count": null,
   "metadata": {
    "id": "DBdeWqVU6ApJ"
   },
   "outputs": [],
   "source": [
    "# TODO: ارزیابی مدل روی مجموعه‌های مختلف با استفاده از متد evaluate_model\n",
    "\n"
   ]
  },
  {
   "cell_type": "code",
   "execution_count": null,
   "metadata": {
    "id": "hICO1P6s6ApJ"
   },
   "outputs": [],
   "source": [
    "# TODO: منحنی یادگیری این مدل را بررسی کنید\n",
    "\n"
   ]
  },
  {
   "cell_type": "code",
   "execution_count": null,
   "metadata": {
    "id": "EV9nYUXj6ApJ"
   },
   "outputs": [],
   "source": [
    "# TODO:  نمودار پراکندگی بین مقادیر پیش بینی شده و مقادیر واقعی\n",
    "\n"
   ]
  },
  {
   "cell_type": "markdown",
   "metadata": {
    "id": "HZVEXysp6ApJ"
   },
   "source": [
    "<br>\n",
    "<br>\n",
    "<div dir=\"rtl\">\n",
    "    <font size=4>\n",
    "        <li>\n",
    "        نتایج ارزیابی مدل را با استفاده از مقادیر MSE، RMSE، MAE و R² برای\n",
    "         داده‌های آموزشی، اعتبارسنجی و آزمایشی در قالب یک جدول نمایش دهید.خروجی نمونه به شکل زیر است:\n",
    "        </li>\n",
    "    </font>\n",
    "</div>"
   ]
  },
  {
   "cell_type": "markdown",
   "metadata": {
    "id": "-sL0Azz96ApK"
   },
   "source": [
    "<a href=\"https://imgbb.com/\"><img src=\"https://i.ibb.co/yFdgRMxs/Screenshot-2025-03-12-183530.png\" alt=\"Screenshot-2025-03-12-183530\" border=\"0\"></a>"
   ]
  },
  {
   "cell_type": "code",
   "execution_count": null,
   "metadata": {
    "id": "tviKZ4Qo6ApK"
   },
   "outputs": [],
   "source": [
    "\n"
   ]
  },
  {
   "cell_type": "code",
   "execution_count": null,
   "metadata": {
    "id": "q3UUaKxS5zuV"
   },
   "outputs": [],
   "source": []
  },
  {
   "cell_type": "markdown",
   "metadata": {
    "id": "EWKxUEETvExi"
   },
   "source": [
    "## ارزیابی:\n",
    "*ارزیابی خودتان از عملکرد مدل و خروجی حاصل از آن را بنویسید*\n",
    "1. ....\n",
    "2. ....\n",
    "3. ....\n"
   ]
  },
  {
   "cell_type": "markdown",
   "metadata": {
    "id": "zN9KWOHchDSM"
   },
   "source": [
    "<div dir=\"rtl\">\n",
    "<font size=\"6\">\n",
    "    <li>\n",
    "        <strong>ذخیره سازی مدل</strong>\n",
    "    </li>\n",
    "    <font size=4>\n",
    "        <li>\n",
    "        از بین دو مدلی Random Forest و XGBoost آن مدلی که عملکرد بهتری دارد را ذخیره کنید\n",
    "        </li>\n",
    "    </font>\n",
    "</font>"
   ]
  },
  {
   "cell_type": "code",
   "execution_count": null,
   "metadata": {
    "id": "U-Iu9Devg_c5"
   },
   "outputs": [],
   "source": [
    "# TODO: مدل را ذخیره کنید\n",
    "\n"
   ]
  },
  {
   "cell_type": "code",
   "execution_count": null,
   "metadata": {
    "id": "S4f_lMCynUxz"
   },
   "outputs": [],
   "source": []
  }
 ],
 "metadata": {
  "colab": {
   "provenance": []
  },
  "kernelspec": {
   "display_name": "Python 3 (ipykernel)",
   "language": "python",
   "name": "python3"
  },
  "language_info": {
   "codemirror_mode": {
    "name": "ipython",
    "version": 3
   },
   "file_extension": ".py",
   "mimetype": "text/x-python",
   "name": "python",
   "nbconvert_exporter": "python",
   "pygments_lexer": "ipython3",
   "version": "3.11.2"
  }
 },
 "nbformat": 4,
 "nbformat_minor": 1
}
