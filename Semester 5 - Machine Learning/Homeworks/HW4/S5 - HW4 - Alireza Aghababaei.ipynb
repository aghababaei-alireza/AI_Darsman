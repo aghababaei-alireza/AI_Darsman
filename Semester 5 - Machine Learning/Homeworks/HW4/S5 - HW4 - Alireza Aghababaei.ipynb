{
 "cells": [
  {
   "cell_type": "markdown",
   "metadata": {
    "id": "Pdf32601jYo4"
   },
   "source": [
    "<div dir=\"rtl\">\n",
    "    <font size=\"6\">\n",
    "        <h1>تمرین پیش‌بینی قیمت لپ‌تاپ با یادگیری ماشین</h1>\n",
    "    </font>\n",
    "</div>\n",
    "<br>\n",
    "\n",
    "<div dir=\"rtl\">\n",
    "    <font size=\"4\">\n",
    "        <h2><strong>مقدمه</strong></h2>\n",
    "        در این تمرین، شما با استفاده از مجموعه داده‌ای شامل مشخصات سخت‌افزاری و قیمت لپ‌تاپ‌ها، یک مدل یادگیری ماشین برای پیش‌بینی قیمت لپ‌تاپ توسعه خواهید داد. این تمرین به شما کمک می‌کند تا مهارت‌های خود را در تحلیل داده، پیش‌پردازش، مدل‌سازی و ارزیابی مدل‌های رگرسیونی تقویت کنید.\n",
    "    </font>\n",
    "</div>\n",
    "<br>\n",
    "<br>\n",
    "<div dir=\"rtl\">\n",
    "    <font size=\"4\">\n",
    "        <h2><strong>وظیفه شما در این تمرین</strong></h2>\n",
    "        شما باید یک مدل <strong>رگرسیون</strong> طراحی کنید که بتواند بر اساس ویژگی‌های سخت‌افزاری و سایر اطلاعات موجود در دیتاست، قیمت لپ‌تاپ‌ها را پیش‌بینی کند. مراحل کلی تمرین به شرح زیر است:\n",
    "            <li>✅ <strong>کاوش و تحلیل داده‌ها:</strong> بررسی ویژگی‌های مختلف، مقادیر پرت، توزیع داده‌ها، و همبستگی بین متغیرها.</li>\n",
    "            <li>✅ <strong>پیش‌پردازش داده‌ها:</strong> تبدیل متغیرهای متنی به عددی، بررسی داده‌های پرت، مدیریت داده‌های گمشده (در صورت وجود)، و نرمال‌سازی داده‌ها.</li>\n",
    "            <li>✅ پیاده سازی مدل های Random Forest و XGBoost</li>\n",
    "            <li>✅ <strong>ارزیابی مدل:</strong> استفاده از معیارهایی مانند <strong>RMSE، MAE، R2</strong> برای اندازه‌گیری دقت پیش‌بینی مدل.\n",
    "            </li>\n",
    "            <li>✅ ذخیره سازی مدل\n",
    "            </li>\n",
    "    </font>\n",
    "</div>\n",
    "<br>"
   ]
  },
  {
   "cell_type": "markdown",
   "metadata": {
    "id": "lhWL25VswBvP"
   },
   "source": [
    "<div dir=\"rtl\">\n",
    "<font size=\"4\">\n",
    "    <h2><strong>متغیر هدف (Target Variable)</strong></h2>\n",
    "    متغیر هدف در این تمرین <strong>\"Price ($)\"</strong> است که نشان می‌دهد مقدار قیمت مورد نظر برای پیش‌بینی چقدر است.\n",
    "    <li><strong>قیمت بالا:</strong> مقدار قیمت در سطح بالایی قرار دارد.</li>\n",
    "    <li><strong>قیمت پایین:</strong> مقدار قیمت در سطح پایینی قرار دارد.</li>\n",
    "</font>\n",
    "<h2><strong>نحوه ارسال تمرین</strong></h2>\n",
    "<font size=\"4\">\n",
    "    <li>📌 فایل تمرین خود را در یک <strong>مخزن (Repository) در اکانت GitHub</strong> خود آپلود کنید.</li>\n",
    "    <li>📌 لینک مخزن را کپی کرده و در <strong>پنل لنمیس</strong> ارسال کنید.</li>\n",
    "    🔴 <strong>اطمینان حاصل کنید که مخزن شما به‌صورت عمومی قابل‌دسترسی باشد تا تمرین شما بررسی شود.</strong>\n",
    "</font>\n",
    "\n",
    "</div>\n",
    "<br>\n",
    "<br>\n",
    "<br>"
   ]
  },
  {
   "cell_type": "markdown",
   "metadata": {
    "id": "v05s84sPMY2P"
   },
   "source": [
    "<div dir=\"rtl\">\n",
    "    <h2>راهنمای تمرین:<h2>\n",
    "    <p>\n",
    "        <font size=4>\n",
    "        این تمرین به گونه‌ای طراحی شده که شما باید کدهای خود را در قالب خاصی که از قبل مشخص شده، بنویسید. به این معنی که ممکن است بخشی از کد برای شما آماده باشد و شما باید فقط ادامه کد را بنویسید بدون اینکه آن قسمت از کد را تغییر دهید. این نوع تمرین برای کمک به شما طراحی شده تا در مراحل بعدی با چالش‌های پیچیده‌تری روبرو شوید که نیاز به مهارت‌های بیشتری دارند.\n",
    "        <br>\n",
    "        در این تمرین، در هر مرحله شما باید برداشت‌ها و تحلیل‌های خود را بنویسید. مثلاً اگر در کد شما نمودار یا جدولی از داده‌ها یا نتایج مدل‌ها به نمایش در می‌آید، شما باید توضیح دهید که آن‌ها چه معنی و کاربردی دارند. این تحلیل‌ها می‌تواند شامل بررسی تغییرات در داده‌ها، ارزیابی مدل‌ها، یا نتایج بهینه‌سازی‌ها باشد.\n",
    "        <br>\n",
    "        برای هر بخش، حداقل پنج نکته یا برداشت از نتایج یا داده‌ها باید بنویسید.\n",
    "        <br>\n",
    "            <li>\n",
    "            در قسمت ارزیابی , باید یافته ها و نکاتی که از تحلیل داده متوجه شده و دریافت کرده اید در قالب یک خلاصه گزارش , بنویسید.\n",
    "            </li>\n",
    "            <li>\n",
    "            برای هر نمودار یا جدول، تحلیل کنید که چه روندی را نشان می‌دهند یا آیا نکته خاصی برای بهبود مدل یا داده‌ها از آن‌ها قابل استخراج است.\n",
    "            </li>\n",
    "            <br>\n",
    "        مهم است که توجه داشته باشید شما باید فقط کدهای خود را اضافه کنید و قسمت‌هایی که از پیش نوشته شده‌اند، نباید تغییر کنند. هدف این است که شما بتوانید با استفاده از قالب و راهنمایی‌های داده شده، تمرین را به درستی تکمیل کنید.\n",
    "        </font>\n",
    "    </p>\n",
    "</div>\n",
    "<br>\n",
    "<br>\n",
    "<br>"
   ]
  },
  {
   "cell_type": "markdown",
   "metadata": {
    "id": "W8BnAT_3Nmyh"
   },
   "source": [
    "<div dir=\"rtl\">\n",
    "    <h2>توضیح متغیرهای دیتاست لپ‌تاپ</h2>\n",
    "    <table border=\"1\" cellpadding=\"8\" cellspacing=\"0\">\n",
    "        <tr>\n",
    "            <th>ستون</th>\n",
    "            <th>توضیح کوتاه</th>\n",
    "            <th>نوع داده</th>\n",
    "        </tr>\n",
    "        <tr>\n",
    "            <td><b>Brand</b></td>\n",
    "            <td>برند لپ‌تاپ (Dell, HP, Apple, …)</td>\n",
    "            <td>object</td>\n",
    "        </tr>\n",
    "        <tr>\n",
    "            <td><b>Processor</b></td>\n",
    "            <td>نوع پردازنده (Intel, AMD, …)</td>\n",
    "            <td>object</td>\n",
    "        </tr>\n",
    "        <tr>\n",
    "            <td><b>RAM (GB)</b></td>\n",
    "            <td>مقدار رم (به گیگابایت)</td>\n",
    "            <td>int64</td>\n",
    "        </tr>\n",
    "        <tr>\n",
    "            <td><b>Storage</b></td>\n",
    "            <td>نوع و ظرفیت حافظه (SSD, HDD, …)</td>\n",
    "            <td>object</td>\n",
    "        </tr>\n",
    "        <tr>\n",
    "            <td><b>GPU</b></td>\n",
    "            <td>مدل کارت گرافیک</td>\n",
    "            <td>object</td>\n",
    "        </tr>\n",
    "        <tr>\n",
    "            <td><b>Screen Size (inch)</b></td>\n",
    "            <td>اندازه صفحه‌نمایش (اینچ)</td>\n",
    "            <td>float64</td>\n",
    "        </tr>\n",
    "        <tr>\n",
    "            <td><b>Resolution</b></td>\n",
    "            <td>رزولوشن صفحه‌نمایش (Full HD, 4K, …)</td>\n",
    "            <td>object</td>\n",
    "        </tr>\n",
    "        <tr>\n",
    "            <td><b>Battery Life (hours)</b></td>\n",
    "            <td>عمر باتری (ساعت)</td>\n",
    "            <td>float64</td>\n",
    "        </tr>\n",
    "        <tr>\n",
    "            <td><b>Weight (kg)</b></td>\n",
    "            <td>وزن دستگاه (کیلوگرم)</td>\n",
    "            <td>float64</td>\n",
    "        </tr>\n",
    "        <tr>\n",
    "            <td><b>Operating System</b></td>\n",
    "            <td>سیستم‌عامل (Windows, macOS, Linux, …)</td>\n",
    "            <td>object</td>\n",
    "        </tr>\n",
    "        <tr>\n",
    "            <td><b>Price ($)</b></td>\n",
    "            <td>قیمت لپ‌تاپ (دلار)</td>\n",
    "            <td>float64</td>\n",
    "        </tr>\n",
    "    </table>\n",
    "</div>\n",
    "<br><br>"
   ]
  },
  {
   "cell_type": "code",
   "execution_count": 230,
   "metadata": {
    "id": "fPjfYQSaXXn1"
   },
   "outputs": [],
   "source": [
    "import warnings\n",
    "warnings.filterwarnings('ignore')"
   ]
  },
  {
   "cell_type": "markdown",
   "metadata": {
    "id": "S0qGbJqczmHA"
   },
   "source": [
    "<br>\n",
    "<br>\n",
    "<div dir=\"rtl\">\n",
    "<font size=\"6\">\n",
    "    <li>\n",
    "    <strong>ارزیابی و شناخت دیتاست</strong>\n",
    "    </li>\n",
    "</font>\n",
    "<font size=4>\n",
    "    در این قدم، شما باید دیتاست را بررسی کرده و ساختار آن را درک کنید. بررسی کنید که چه متغیرهایی در دیتاست وجود دارند، نوع داده‌ها چیست و آیا داده‌ها گمشده یا نادرست هستند یا خیر. این مرحله به شما کمک می‌کند که به‌طور کامل با داده‌ها آشنا شوید و مشکلات احتمالی را شناسایی کنید.\n",
    "</font>"
   ]
  },
  {
   "cell_type": "code",
   "execution_count": 231,
   "metadata": {
    "id": "22UVRWRH2Nbd"
   },
   "outputs": [],
   "source": [
    "# TODO: کتابخانه ها را ایمپورت کنید\n",
    "import pandas as pd\n",
    "import numpy as np\n",
    "import matplotlib.pyplot as plt\n",
    "import seaborn as sns"
   ]
  },
  {
   "cell_type": "code",
   "execution_count": 232,
   "metadata": {
    "id": "rcHzjRE3Hfvj"
   },
   "outputs": [],
   "source": [
    "# TODO: دیتافریم را لود کنید\n",
    "with open('./dataset.csv', 'r') as f:\n",
    "    df = pd.read_csv(f)"
   ]
  },
  {
   "cell_type": "code",
   "execution_count": 233,
   "metadata": {
    "id": "JP6esntgqrEU"
   },
   "outputs": [
    {
     "data": {
      "text/html": [
       "<div>\n",
       "<style scoped>\n",
       "    .dataframe tbody tr th:only-of-type {\n",
       "        vertical-align: middle;\n",
       "    }\n",
       "\n",
       "    .dataframe tbody tr th {\n",
       "        vertical-align: top;\n",
       "    }\n",
       "\n",
       "    .dataframe thead th {\n",
       "        text-align: right;\n",
       "    }\n",
       "</style>\n",
       "<table border=\"1\" class=\"dataframe\">\n",
       "  <thead>\n",
       "    <tr style=\"text-align: right;\">\n",
       "      <th></th>\n",
       "      <th>Brand</th>\n",
       "      <th>Processor</th>\n",
       "      <th>RAM (GB)</th>\n",
       "      <th>Storage</th>\n",
       "      <th>GPU</th>\n",
       "      <th>Screen Size (inch)</th>\n",
       "      <th>Resolution</th>\n",
       "      <th>Battery Life (hours)</th>\n",
       "      <th>Weight (kg)</th>\n",
       "      <th>Operating System</th>\n",
       "      <th>Price ($)</th>\n",
       "    </tr>\n",
       "  </thead>\n",
       "  <tbody>\n",
       "    <tr>\n",
       "      <th>0</th>\n",
       "      <td>Apple</td>\n",
       "      <td>AMD Ryzen 3</td>\n",
       "      <td>64</td>\n",
       "      <td>512GB SSD</td>\n",
       "      <td>Nvidia GTX 1650</td>\n",
       "      <td>17.3</td>\n",
       "      <td>2560x1440</td>\n",
       "      <td>8.9</td>\n",
       "      <td>1.42</td>\n",
       "      <td>FreeDOS</td>\n",
       "      <td>3997.07</td>\n",
       "    </tr>\n",
       "    <tr>\n",
       "      <th>1</th>\n",
       "      <td>Razer</td>\n",
       "      <td>AMD Ryzen 7</td>\n",
       "      <td>4</td>\n",
       "      <td>1TB SSD</td>\n",
       "      <td>Nvidia RTX 3080</td>\n",
       "      <td>14.0</td>\n",
       "      <td>1366x768</td>\n",
       "      <td>9.4</td>\n",
       "      <td>2.57</td>\n",
       "      <td>Linux</td>\n",
       "      <td>1355.78</td>\n",
       "    </tr>\n",
       "    <tr>\n",
       "      <th>2</th>\n",
       "      <td>Asus</td>\n",
       "      <td>Intel i5</td>\n",
       "      <td>32</td>\n",
       "      <td>2TB SSD</td>\n",
       "      <td>Nvidia RTX 3060</td>\n",
       "      <td>13.3</td>\n",
       "      <td>3840x2160</td>\n",
       "      <td>8.5</td>\n",
       "      <td>1.74</td>\n",
       "      <td>FreeDOS</td>\n",
       "      <td>2673.07</td>\n",
       "    </tr>\n",
       "    <tr>\n",
       "      <th>3</th>\n",
       "      <td>Lenovo</td>\n",
       "      <td>Intel i5</td>\n",
       "      <td>4</td>\n",
       "      <td>256GB SSD</td>\n",
       "      <td>Nvidia RTX 3080</td>\n",
       "      <td>13.3</td>\n",
       "      <td>1366x768</td>\n",
       "      <td>10.5</td>\n",
       "      <td>3.10</td>\n",
       "      <td>Windows</td>\n",
       "      <td>751.17</td>\n",
       "    </tr>\n",
       "    <tr>\n",
       "      <th>4</th>\n",
       "      <td>Razer</td>\n",
       "      <td>Intel i3</td>\n",
       "      <td>4</td>\n",
       "      <td>256GB SSD</td>\n",
       "      <td>AMD Radeon RX 6600</td>\n",
       "      <td>16.0</td>\n",
       "      <td>3840x2160</td>\n",
       "      <td>5.7</td>\n",
       "      <td>3.38</td>\n",
       "      <td>Linux</td>\n",
       "      <td>2059.83</td>\n",
       "    </tr>\n",
       "  </tbody>\n",
       "</table>\n",
       "</div>"
      ],
      "text/plain": [
       "    Brand    Processor  RAM (GB)    Storage                 GPU  \\\n",
       "0   Apple  AMD Ryzen 3        64  512GB SSD     Nvidia GTX 1650   \n",
       "1   Razer  AMD Ryzen 7         4    1TB SSD     Nvidia RTX 3080   \n",
       "2    Asus     Intel i5        32    2TB SSD     Nvidia RTX 3060   \n",
       "3  Lenovo     Intel i5         4  256GB SSD     Nvidia RTX 3080   \n",
       "4   Razer     Intel i3         4  256GB SSD  AMD Radeon RX 6600   \n",
       "\n",
       "   Screen Size (inch) Resolution  Battery Life (hours)  Weight (kg)  \\\n",
       "0                17.3  2560x1440                   8.9         1.42   \n",
       "1                14.0   1366x768                   9.4         2.57   \n",
       "2                13.3  3840x2160                   8.5         1.74   \n",
       "3                13.3   1366x768                  10.5         3.10   \n",
       "4                16.0  3840x2160                   5.7         3.38   \n",
       "\n",
       "  Operating System  Price ($)  \n",
       "0          FreeDOS    3997.07  \n",
       "1            Linux    1355.78  \n",
       "2          FreeDOS    2673.07  \n",
       "3          Windows     751.17  \n",
       "4            Linux    2059.83  "
      ]
     },
     "execution_count": 233,
     "metadata": {},
     "output_type": "execute_result"
    }
   ],
   "source": [
    "# TODO : بررسی چند ردیف اول دیتافریم\n",
    "df.head()"
   ]
  },
  {
   "cell_type": "code",
   "execution_count": 234,
   "metadata": {
    "id": "8jpIR2CkWMIw"
   },
   "outputs": [
    {
     "data": {
      "text/plain": [
       "(11768, 11)"
      ]
     },
     "execution_count": 234,
     "metadata": {},
     "output_type": "execute_result"
    }
   ],
   "source": [
    "# TODO: بررسی ابعاد دیتافریم\n",
    "df.shape"
   ]
  },
  {
   "cell_type": "code",
   "execution_count": 235,
   "metadata": {
    "id": "in1LP0wG5lUN"
   },
   "outputs": [
    {
     "name": "stdout",
     "output_type": "stream",
     "text": [
      "<class 'pandas.core.frame.DataFrame'>\n",
      "RangeIndex: 11768 entries, 0 to 11767\n",
      "Data columns (total 11 columns):\n",
      " #   Column                Non-Null Count  Dtype  \n",
      "---  ------                --------------  -----  \n",
      " 0   Brand                 11768 non-null  object \n",
      " 1   Processor             11768 non-null  object \n",
      " 2   RAM (GB)              11768 non-null  int64  \n",
      " 3   Storage               11768 non-null  object \n",
      " 4   GPU                   11768 non-null  object \n",
      " 5   Screen Size (inch)    11768 non-null  float64\n",
      " 6   Resolution            11768 non-null  object \n",
      " 7   Battery Life (hours)  11768 non-null  float64\n",
      " 8   Weight (kg)           11768 non-null  float64\n",
      " 9   Operating System      11768 non-null  object \n",
      " 10  Price ($)             11768 non-null  float64\n",
      "dtypes: float64(4), int64(1), object(6)\n",
      "memory usage: 1011.4+ KB\n"
     ]
    }
   ],
   "source": [
    "# TODO: بررسی اطلاعات کلی دیتافریم\n",
    "df.info()"
   ]
  },
  {
   "cell_type": "markdown",
   "metadata": {
    "id": "3AvnbnBf2ImN"
   },
   "source": [
    "<div dir=\"rtl\" style=\"text-align: center;\">\n",
    "    <p>\n",
    "        <font size=4>\n",
    "            <li>\n",
    "                داده های تکراری (Duplicates) و داده های گم شده (Missing Values) را بررسی و ارزیابی کنید.\n",
    "                <strong>سپس مقادیر تکراری را حذف کنید.</strong>\n",
    "            </li>\n",
    "        </font>\n",
    "    </p>\n",
    "</div>"
   ]
  },
  {
   "cell_type": "code",
   "execution_count": 236,
   "metadata": {
    "id": "bbOoKKT57cfI"
   },
   "outputs": [
    {
     "data": {
      "text/plain": [
       "Brand                   0\n",
       "Processor               0\n",
       "RAM (GB)                0\n",
       "Storage                 0\n",
       "GPU                     0\n",
       "Screen Size (inch)      0\n",
       "Resolution              0\n",
       "Battery Life (hours)    0\n",
       "Weight (kg)             0\n",
       "Operating System        0\n",
       "Price ($)               0\n",
       "dtype: int64"
      ]
     },
     "execution_count": 236,
     "metadata": {},
     "output_type": "execute_result"
    }
   ],
   "source": [
    "# TODO: بررسی مقادیر گم شده\n",
    "df.isna().sum()"
   ]
  },
  {
   "cell_type": "code",
   "execution_count": 237,
   "metadata": {
    "id": "PL5PDc8n-z6q"
   },
   "outputs": [
    {
     "data": {
      "text/plain": [
       "0"
      ]
     },
     "execution_count": 237,
     "metadata": {},
     "output_type": "execute_result"
    }
   ],
   "source": [
    "# TODO: بررسی داده های تکراری\n",
    "df.duplicated().sum()"
   ]
  },
  {
   "cell_type": "markdown",
   "metadata": {},
   "source": [
    "<div dir=\"rtl\">\n",
    "    هیچ داده تکراری وجود ندارد که همه ستون‌های آن مشابه باشد.\n",
    "</div>"
   ]
  },
  {
   "cell_type": "code",
   "execution_count": 238,
   "metadata": {},
   "outputs": [
    {
     "data": {
      "text/plain": [
       "0"
      ]
     },
     "execution_count": 238,
     "metadata": {},
     "output_type": "execute_result"
    }
   ],
   "source": [
    "df.duplicated(subset=df.columns.drop('Price ($)')).sum()"
   ]
  },
  {
   "cell_type": "markdown",
   "metadata": {},
   "source": [
    "<div dir=\"rtl\">\n",
    "    هیچ دو سطری وجود ندارد که همه ستون‌های آن‌ها به جز قیمت مشابه باشد ولی قیمت متفاوتی داشته باشد. بنابراین در مجموع این دو حالت می‌توان گفت هیچ داده تکراری در دیتابیس وجود ندارد.\n",
    "</div>"
   ]
  },
  {
   "cell_type": "markdown",
   "metadata": {
    "id": "eQNB8eNK23Rm"
   },
   "source": [
    "<div dir=\"rtl\" style=\"text-align: center;\">\n",
    "    <p>\n",
    "        <font size=4>\n",
    "            <li>\n",
    "                تعداد مقادیر یکتا (Unique) در هر ویژگی را بررسی کنید.\n",
    "            </li>\n",
    "        </font>\n",
    "    </p>\n",
    "</div>"
   ]
  },
  {
   "cell_type": "code",
   "execution_count": 239,
   "metadata": {},
   "outputs": [
    {
     "data": {
      "text/plain": [
       "Brand                      10\n",
       "Processor                   8\n",
       "RAM (GB)                    5\n",
       "Storage                     5\n",
       "GPU                         7\n",
       "Screen Size (inch)          5\n",
       "Resolution                  4\n",
       "Battery Life (hours)       81\n",
       "Weight (kg)               231\n",
       "Operating System            4\n",
       "Price ($)               11558\n",
       "dtype: int64"
      ]
     },
     "execution_count": 239,
     "metadata": {},
     "output_type": "execute_result"
    }
   ],
   "source": [
    "df.nunique()"
   ]
  },
  {
   "cell_type": "code",
   "execution_count": 240,
   "metadata": {
    "id": "bXlcoNUvC0Gy"
   },
   "outputs": [
    {
     "name": "stdout",
     "output_type": "stream",
     "text": [
      "Apple        1262\n",
      "HP           1208\n",
      "MSI          1190\n",
      "Microsoft    1175\n",
      "Dell         1170\n",
      "Asus         1165\n",
      "Acer         1165\n",
      "Samsung      1163\n",
      "Lenovo       1145\n",
      "Razer        1125\n",
      "Name: Brand, dtype: int64\n",
      "****************************************************************************************************\n",
      "Intel i3       1570\n",
      "Intel i7       1509\n",
      "AMD Ryzen 3    1500\n",
      "AMD Ryzen 9    1472\n",
      "Intel i9       1456\n",
      "Intel i5       1429\n",
      "AMD Ryzen 5    1422\n",
      "AMD Ryzen 7    1410\n",
      "Name: Processor, dtype: int64\n",
      "****************************************************************************************************\n",
      "32    2410\n",
      "4     2361\n",
      "16    2361\n",
      "64    2340\n",
      "8     2296\n",
      "Name: RAM (GB), dtype: int64\n",
      "****************************************************************************************************\n",
      "512GB SSD    2420\n",
      "2TB SSD      2415\n",
      "256GB SSD    2318\n",
      "1TB SSD      2313\n",
      "1TB HDD      2302\n",
      "Name: Storage, dtype: int64\n",
      "****************************************************************************************************\n",
      "Nvidia RTX 2060       1746\n",
      "Nvidia GTX 1650       1698\n",
      "Nvidia RTX 3060       1679\n",
      "AMD Radeon RX 6600    1676\n",
      "AMD Radeon RX 6800    1669\n",
      "Integrated            1653\n",
      "Nvidia RTX 3080       1647\n",
      "Name: GPU, dtype: int64\n",
      "****************************************************************************************************\n",
      "14.0    2443\n",
      "13.3    2402\n",
      "17.3    2334\n",
      "15.6    2331\n",
      "16.0    2258\n",
      "Name: Screen Size (inch), dtype: int64\n",
      "****************************************************************************************************\n",
      "3840x2160    2977\n",
      "1366x768     2932\n",
      "1920x1080    2930\n",
      "2560x1440    2929\n",
      "Name: Resolution, dtype: int64\n",
      "****************************************************************************************************\n",
      "11.3    175\n",
      "7.5     174\n",
      "10.7    173\n",
      "8.9     170\n",
      "10.9    169\n",
      "       ... \n",
      "4.4     127\n",
      "9.1     120\n",
      "4.8     110\n",
      "12.0     71\n",
      "4.0      71\n",
      "Name: Battery Life (hours), Length: 81, dtype: int64\n",
      "****************************************************************************************************\n",
      "3.40    74\n",
      "2.55    72\n",
      "1.85    72\n",
      "3.43    69\n",
      "1.67    68\n",
      "        ..\n",
      "1.88    37\n",
      "2.18    34\n",
      "1.20    27\n",
      "3.00    25\n",
      "3.50    24\n",
      "Name: Weight (kg), Length: 231, dtype: int64\n",
      "****************************************************************************************************\n",
      "Windows    2954\n",
      "FreeDOS    2952\n",
      "Linux      2946\n",
      "macOS      2916\n",
      "Name: Operating System, dtype: int64\n",
      "****************************************************************************************************\n",
      "1278.94    3\n",
      "2136.00    3\n",
      "1835.42    2\n",
      "1508.42    2\n",
      "3899.89    2\n",
      "          ..\n",
      "1239.76    1\n",
      "1603.76    1\n",
      "573.43     1\n",
      "3407.93    1\n",
      "1579.55    1\n",
      "Name: Price ($), Length: 11558, dtype: int64\n",
      "****************************************************************************************************\n"
     ]
    }
   ],
   "source": [
    "# TODO: بررسی تعداد داده های منحصر بفرد و یکتا در هر ویژگی\n",
    "for col in df.columns:\n",
    "    print(df[col].value_counts())\n",
    "    print('*'*100)"
   ]
  },
  {
   "cell_type": "markdown",
   "metadata": {
    "id": "PTaLd0GW3A_p"
   },
   "source": [
    "<div dir=\"rtl\">\n",
    "    <p>\n",
    "        <font size=4>\n",
    "            <li>\n",
    "                جدول Describe را برای این دیتافریم بررسی کنیدو ارزیابی اولیه خودتان را در مورد این دیتافریم بنویسید.\n",
    "                در ادامه که نمونه از ارزیابی اولیه برای شما نوشته شده است که لازم است با آن توجه داشته باشید\n",
    "            </li>\n",
    "        </font>\n",
    "    </p>\n",
    "</div>"
   ]
  },
  {
   "cell_type": "code",
   "execution_count": 241,
   "metadata": {
    "id": "z2NrOlX7FbeA"
   },
   "outputs": [
    {
     "data": {
      "text/html": [
       "<div>\n",
       "<style scoped>\n",
       "    .dataframe tbody tr th:only-of-type {\n",
       "        vertical-align: middle;\n",
       "    }\n",
       "\n",
       "    .dataframe tbody tr th {\n",
       "        vertical-align: top;\n",
       "    }\n",
       "\n",
       "    .dataframe thead th {\n",
       "        text-align: right;\n",
       "    }\n",
       "</style>\n",
       "<table border=\"1\" class=\"dataframe\">\n",
       "  <thead>\n",
       "    <tr style=\"text-align: right;\">\n",
       "      <th></th>\n",
       "      <th>RAM (GB)</th>\n",
       "      <th>Screen Size (inch)</th>\n",
       "      <th>Battery Life (hours)</th>\n",
       "      <th>Weight (kg)</th>\n",
       "      <th>Price ($)</th>\n",
       "    </tr>\n",
       "  </thead>\n",
       "  <tbody>\n",
       "    <tr>\n",
       "      <th>count</th>\n",
       "      <td>11768.000000</td>\n",
       "      <td>11768.000000</td>\n",
       "      <td>11768.000000</td>\n",
       "      <td>11768.000000</td>\n",
       "      <td>11768.000000</td>\n",
       "    </tr>\n",
       "    <tr>\n",
       "      <th>mean</th>\n",
       "      <td>24.852821</td>\n",
       "      <td>15.212305</td>\n",
       "      <td>8.027855</td>\n",
       "      <td>2.341117</td>\n",
       "      <td>2183.571608</td>\n",
       "    </tr>\n",
       "    <tr>\n",
       "      <th>std</th>\n",
       "      <td>21.762567</td>\n",
       "      <td>1.436997</td>\n",
       "      <td>2.305400</td>\n",
       "      <td>0.667921</td>\n",
       "      <td>1316.886132</td>\n",
       "    </tr>\n",
       "    <tr>\n",
       "      <th>min</th>\n",
       "      <td>4.000000</td>\n",
       "      <td>13.300000</td>\n",
       "      <td>4.000000</td>\n",
       "      <td>1.200000</td>\n",
       "      <td>279.570000</td>\n",
       "    </tr>\n",
       "    <tr>\n",
       "      <th>25%</th>\n",
       "      <td>8.000000</td>\n",
       "      <td>14.000000</td>\n",
       "      <td>6.000000</td>\n",
       "      <td>1.760000</td>\n",
       "      <td>1272.045000</td>\n",
       "    </tr>\n",
       "    <tr>\n",
       "      <th>50%</th>\n",
       "      <td>16.000000</td>\n",
       "      <td>15.600000</td>\n",
       "      <td>8.000000</td>\n",
       "      <td>2.340000</td>\n",
       "      <td>1840.865000</td>\n",
       "    </tr>\n",
       "    <tr>\n",
       "      <th>75%</th>\n",
       "      <td>32.000000</td>\n",
       "      <td>16.000000</td>\n",
       "      <td>10.000000</td>\n",
       "      <td>2.910000</td>\n",
       "      <td>2698.370000</td>\n",
       "    </tr>\n",
       "    <tr>\n",
       "      <th>max</th>\n",
       "      <td>64.000000</td>\n",
       "      <td>17.300000</td>\n",
       "      <td>12.000000</td>\n",
       "      <td>3.500000</td>\n",
       "      <td>10807.880000</td>\n",
       "    </tr>\n",
       "  </tbody>\n",
       "</table>\n",
       "</div>"
      ],
      "text/plain": [
       "           RAM (GB)  Screen Size (inch)  Battery Life (hours)   Weight (kg)  \\\n",
       "count  11768.000000        11768.000000          11768.000000  11768.000000   \n",
       "mean      24.852821           15.212305              8.027855      2.341117   \n",
       "std       21.762567            1.436997              2.305400      0.667921   \n",
       "min        4.000000           13.300000              4.000000      1.200000   \n",
       "25%        8.000000           14.000000              6.000000      1.760000   \n",
       "50%       16.000000           15.600000              8.000000      2.340000   \n",
       "75%       32.000000           16.000000             10.000000      2.910000   \n",
       "max       64.000000           17.300000             12.000000      3.500000   \n",
       "\n",
       "          Price ($)  \n",
       "count  11768.000000  \n",
       "mean    2183.571608  \n",
       "std     1316.886132  \n",
       "min      279.570000  \n",
       "25%     1272.045000  \n",
       "50%     1840.865000  \n",
       "75%     2698.370000  \n",
       "max    10807.880000  "
      ]
     },
     "execution_count": 241,
     "metadata": {},
     "output_type": "execute_result"
    }
   ],
   "source": [
    "# TODO: بررسی اطلاعات آمار و احتمالاتی دیتاست\n",
    "df.describe(include=['number'])"
   ]
  },
  {
   "cell_type": "code",
   "execution_count": 242,
   "metadata": {},
   "outputs": [
    {
     "data": {
      "text/html": [
       "<div>\n",
       "<style scoped>\n",
       "    .dataframe tbody tr th:only-of-type {\n",
       "        vertical-align: middle;\n",
       "    }\n",
       "\n",
       "    .dataframe tbody tr th {\n",
       "        vertical-align: top;\n",
       "    }\n",
       "\n",
       "    .dataframe thead th {\n",
       "        text-align: right;\n",
       "    }\n",
       "</style>\n",
       "<table border=\"1\" class=\"dataframe\">\n",
       "  <thead>\n",
       "    <tr style=\"text-align: right;\">\n",
       "      <th></th>\n",
       "      <th>Brand</th>\n",
       "      <th>Processor</th>\n",
       "      <th>Storage</th>\n",
       "      <th>GPU</th>\n",
       "      <th>Resolution</th>\n",
       "      <th>Operating System</th>\n",
       "    </tr>\n",
       "  </thead>\n",
       "  <tbody>\n",
       "    <tr>\n",
       "      <th>count</th>\n",
       "      <td>11768</td>\n",
       "      <td>11768</td>\n",
       "      <td>11768</td>\n",
       "      <td>11768</td>\n",
       "      <td>11768</td>\n",
       "      <td>11768</td>\n",
       "    </tr>\n",
       "    <tr>\n",
       "      <th>unique</th>\n",
       "      <td>10</td>\n",
       "      <td>8</td>\n",
       "      <td>5</td>\n",
       "      <td>7</td>\n",
       "      <td>4</td>\n",
       "      <td>4</td>\n",
       "    </tr>\n",
       "    <tr>\n",
       "      <th>top</th>\n",
       "      <td>Apple</td>\n",
       "      <td>Intel i3</td>\n",
       "      <td>512GB SSD</td>\n",
       "      <td>Nvidia RTX 2060</td>\n",
       "      <td>3840x2160</td>\n",
       "      <td>Windows</td>\n",
       "    </tr>\n",
       "    <tr>\n",
       "      <th>freq</th>\n",
       "      <td>1262</td>\n",
       "      <td>1570</td>\n",
       "      <td>2420</td>\n",
       "      <td>1746</td>\n",
       "      <td>2977</td>\n",
       "      <td>2954</td>\n",
       "    </tr>\n",
       "  </tbody>\n",
       "</table>\n",
       "</div>"
      ],
      "text/plain": [
       "        Brand Processor    Storage              GPU Resolution  \\\n",
       "count   11768     11768      11768            11768      11768   \n",
       "unique     10         8          5                7          4   \n",
       "top     Apple  Intel i3  512GB SSD  Nvidia RTX 2060  3840x2160   \n",
       "freq     1262      1570       2420             1746       2977   \n",
       "\n",
       "       Operating System  \n",
       "count             11768  \n",
       "unique                4  \n",
       "top             Windows  \n",
       "freq               2954  "
      ]
     },
     "execution_count": 242,
     "metadata": {},
     "output_type": "execute_result"
    }
   ],
   "source": [
    "df.describe(include=['object'])"
   ]
  },
  {
   "cell_type": "markdown",
   "metadata": {
    "id": "MH92_aMny8B0"
   },
   "source": [
    "## ارزیابی:\n",
    "*ارزیابی خودتان از کد و خروجی حاصل از آن را بنویسید*\n",
    "1. هیچ داده گمشده‌ای در دیتاست وجود ندارد و تمامی داده‌ها مقدار دارند.\n",
    "2. وقتی داده‌های عددی را بررسی می‌کنیم، با توجه به مینیمم و ماکزیمم داده‌ها متوجه می‌شویم که تمامی داده‌ها، مقادیر منطقی دارند و هیچ داده غیرمنطقی در دیتاست وجود ندارد.\n",
    "3. داده‌های غیرعددی نیز همه از نوع دسته‌ای هستند که تعداد مقادیر منحصر به فرد محدودی دارند که می‌توان آن‌ها را کدگذاری کرد.\n"
   ]
  },
  {
   "cell_type": "code",
   "execution_count": null,
   "metadata": {
    "id": "1qhFY8L9XV1O"
   },
   "outputs": [],
   "source": []
  },
  {
   "cell_type": "markdown",
   "metadata": {
    "id": "3ned43_OiLYd"
   },
   "source": [
    "<div dir=\"rtl\">\n",
    "<font size=\"6\">\n",
    "    <li>\n",
    "    <strong>مصورسازی</strong>\n",
    "    </li>\n",
    "</font>\n",
    "<div dir=\"rtl\">\n",
    "    <font size=\"4\">\n",
    "        در این مرحله، با استفاده از نمودارهای مناسب مانند پراکندگی (Scatter plot)، هیستوگرام و جعبه‌ای (Box plot)، روابط بین ویژگی‌ها و متغیر هدف را بررسی کنید.  \n",
    "        این تحلیل به درک بهتر الگوهای داده و شناسایی روابط پنهان کمک می‌کند.  \n",
    "        <br><font>پیاده‌سازی پلات‌های مشخص‌شده ضروری است. همچنین، برای هر پلات، یک خط تحلیل ارائه دهید و در بخش ارزیابی بنویسید.</font>\n",
    "    </font>\n",
    "</div>\n",
    "<br>\n"
   ]
  },
  {
   "cell_type": "markdown",
   "metadata": {
    "id": "LJ9x-8_cjwpO"
   },
   "source": [
    "<br>\n",
    "<div dir=\"rtl\">\n",
    "    <p>\n",
    "        <font size=4>\n",
    "            <li>\n",
    "                نمودار توزیع قیمت (Price) رو به کمک Histogram رسم و بررسی کنید.\n",
    "            </li>\n",
    "        </font>\n",
    "    </p>\n",
    "</div>\n",
    "<br>\n",
    "<br>"
   ]
  },
  {
   "cell_type": "code",
   "execution_count": 243,
   "metadata": {
    "id": "LH6geW5l1Zqe"
   },
   "outputs": [
    {
     "data": {
      "image/png": "[encoded data removed]",
      "text/plain": [
       "<Figure size 2000x1000 with 1 Axes>"
      ]
     },
     "metadata": {},
     "output_type": "display_data"
    }
   ],
   "source": [
    "# TODO : رسم هیستوگرام قیمت\n",
    "plt.subplots(figsize=(20,10))\n",
    "sns.histplot(df['Price ($)'], bins=100, kde=True)\n",
    "plt.show()"
   ]
  },
  {
   "cell_type": "markdown",
   "metadata": {
    "id": "qZ08vwpSk8DY"
   },
   "source": [
    "## ارزیابی:\n",
    "*ارزیابی خودتان از کد و خروجی حاصل از آن را بنویسید*\n",
    "1. با توجه به نمودار مشخص است که توزیع قیمت بیشتر در محدوده قیمت‌های پایین است و تعداد کمی از لپ‌تاپ‌ها در قیمت‌های بالا موجود است.\n",
    "2. توزیع قیمت‌ها شبیه به توزیع نرمال است ولی با چولگی مثبت. برای رفع این مشکل می‌توانیم از تبدیل لگاریتمی یا box_cox استفاده کنیم.\n",
    "3. ....\n"
   ]
  },
  {
   "cell_type": "markdown",
   "metadata": {
    "id": "qx46TSU1mfD3"
   },
   "source": [
    "<div dir=\"rtl\">\n",
    "    <p>\n",
    "        <font size=4>\n",
    "            <li>\n",
    "                تعداد لپتاپ های در برند را با نمودار Barplot نشان دهید.\n",
    "            </li>\n",
    "        </font>\n",
    "    </p>\n",
    "</div>\n",
    "<br>"
   ]
  },
  {
   "cell_type": "code",
   "execution_count": 244,
   "metadata": {
    "id": "OSe8CxYchy_6"
   },
   "outputs": [
    {
     "data": {
      "image/png": "[encoded data removed]",
      "text/plain": [
       "<Figure size 2000x1000 with 1 Axes>"
      ]
     },
     "metadata": {},
     "output_type": "display_data"
    }
   ],
   "source": [
    "# TODO تعداد لپتاپ ها موجود در دیتاست را بر اساس نام برند نشان دهید.\n",
    "brand_counts = df['Brand'].value_counts()\n",
    "\n",
    "plt.subplots(figsize=(20,10))\n",
    "sns.barplot(x = brand_counts.index, y = brand_counts.values)\n",
    "plt.xlabel('Brand')\n",
    "plt.ylabel('Count')\n",
    "plt.xticks(rotation=45)\n",
    "plt.show()"
   ]
  },
  {
   "cell_type": "markdown",
   "metadata": {
    "id": "4We0uoxEmzJ0"
   },
   "source": [
    "## ارزیابی:\n",
    "*ارزیابی خودتان از کد و خروجی حاصل از آن را بنویسید*\n",
    "1. تعداد لپ‌تاپ‌های موجود در هر برند تقریبا یکسان است و تغییرات زیادی ندارد. \n",
    "2. از روی این نمودار نمی‌توان متوجه شد که آیا نوع برند روی قیمت نهایی تاثیری دارد یا خیر.\n",
    "3. ....\n"
   ]
  },
  {
   "cell_type": "markdown",
   "metadata": {
    "id": "9Ujiy-hm1EFe"
   },
   "source": [
    "<div dir=\"rtl\">\n",
    "    <p>\n",
    "        <font size=4>\n",
    "            <li>\n",
    "                میانگین قیمت برای هر برند را با Bar Plot نشان دهید.\n",
    "            </li>\n",
    "        </font>\n",
    "    </p>\n",
    "</div>\n",
    "<br>"
   ]
  },
  {
   "cell_type": "code",
   "execution_count": 245,
   "metadata": {
    "id": "6imhX6G2hy63"
   },
   "outputs": [
    {
     "data": {
      "image/png": "[encoded data removed]",
      "text/plain": [
       "<Figure size 2000x1000 with 1 Axes>"
      ]
     },
     "metadata": {},
     "output_type": "display_data"
    }
   ],
   "source": [
    "# TODO: میانگین قیمت برندهای مختلف\n",
    "avg_brand_price = df.groupby('Brand')['Price ($)'].mean()\n",
    "plt.subplots(figsize=(20,10))\n",
    "sns.barplot(x=avg_brand_price.index, y=avg_brand_price.values)\n",
    "plt.xlabel('Brand')\n",
    "plt.ylabel('Average Price ($)')\n",
    "plt.xticks(rotation=45)\n",
    "plt.show()"
   ]
  },
  {
   "cell_type": "markdown",
   "metadata": {
    "id": "i_ztvb1uoKUF"
   },
   "source": [
    "## ارزیابی:\n",
    "*ارزیابی خودتان از کد و خروجی حاصل از آن را بنویسید*\n",
    "1. تعدادی از برندها مانند Apple و MSI و Razer همانطور که مشخص بود میانگین قیمت بالاتری دارند.\n",
    "2. میانگین قیمت مابقی برندها تقریبا یکسان است که نشان‌دهنده این است که همه این برندها رنج گسترده‌ای از ل‌تاپ‌های مختلف در بازه‌های قیمتی متفاوتی دارند.\n",
    "3. ....\n"
   ]
  },
  {
   "cell_type": "markdown",
   "metadata": {
    "id": "RkJW273C10Fk"
   },
   "source": [
    "<br>\n",
    "<div dir=\"rtl\">\n",
    "    <p>\n",
    "        <font size=4>\n",
    "            <li>\n",
    "                قیمت لپتاپ های هر برند را با Boxplot رسم کنید و توزیع قیمت برای هر برند را بررسی کنید\n",
    "            </li>\n",
    "        </font>\n",
    "    </p>\n",
    "</div>\n",
    "<br>"
   ]
  },
  {
   "cell_type": "code",
   "execution_count": 246,
   "metadata": {
    "id": "cNrpXgUFhz7z",
    "scrolled": false
   },
   "outputs": [
    {
     "data": {
      "image/png": "[encoded data removed]",
      "text/plain": [
       "<Figure size 2000x1000 with 1 Axes>"
      ]
     },
     "metadata": {},
     "output_type": "display_data"
    }
   ],
   "source": [
    "# TODO: جعبه‌ای قیمت لپ‌تاپ‌های هر برند\n",
    "plt.subplots(figsize=(20,10))\n",
    "sns.boxplot(data=df, x=\"Brand\", y=\"Price ($)\", palette=\"viridis\")\n",
    "plt.xticks(rotation=45)\n",
    "plt.xlabel('Brand')\n",
    "plt.ylabel('Price ($)')\n",
    "\n",
    "plt.show()"
   ]
  },
  {
   "cell_type": "markdown",
   "metadata": {
    "id": "fgGmfy7NpRsB"
   },
   "source": [
    "## ارزیابی:\n",
    "*ارزیابی خودتان از کد و خروجی حاصل از آن را بنویسید*\n",
    "1. مشابه با نمودارهای قبل مشخص است که برندهای Apple و MSI و Razer میانگین قیمتی بالاتری دارند.\n",
    "2. تمامی برندها نمونه‌هایی دارند که قیمت آن‌ها بسیار بالاتر از سایر لپ‌تاپ‌ها است و می‌تواند به عنوان داده پرت محسوب شود.\n",
    "3. تقریبا در تمامی برندها مشخص است که خط میانه بیشتر به چارک اول نزدیک است که نشان می‌دهد تعداد لپ‌تاپ‌های با قیمت پایین بیشتر است یا به عبارتی داده‌ها چولگی مثبت دارند.\n",
    "4. ....\n",
    "5. ...."
   ]
  },
  {
   "cell_type": "markdown",
   "metadata": {
    "id": "VMQKPHU2VUqS"
   },
   "source": [
    "<br>\n",
    "<div dir=\"rtl\">\n",
    "    <p>\n",
    "        <font size=4>\n",
    "            <li>\n",
    "                    داده های پرت (Outliers) ها در این دیتاست بررسی کنید و به کمک نمودار Boxplot وضیعت آنها را نمایش دهید\n",
    "            </li>\n",
    "        </font>\n",
    "    </p>\n",
    "</div>\n",
    "<br>"
   ]
  },
  {
   "cell_type": "code",
   "execution_count": 247,
   "metadata": {
    "id": "aze6E18NVE-D"
   },
   "outputs": [],
   "source": [
    "# TODO: داده های پرت را توسط نمودار Boxplot انالیز کنید\n",
    "\n"
   ]
  },
  {
   "cell_type": "markdown",
   "metadata": {
    "id": "VTBVItb0oL4n"
   },
   "source": [
    "## ارزیابی:\n",
    "*ارزیابی خودتان از کد و خروجی حاصل از آن را بنویسید*\n",
    "1. ....\n",
    "2. ....\n",
    "3. ....\n"
   ]
  },
  {
   "cell_type": "markdown",
   "metadata": {
    "id": "4fHR5ubr2V_Z"
   },
   "source": [
    "<br>\n",
    "<br>\n",
    "<div dir=\"rtl\">\n",
    "    <p>\n",
    "        <font size=4>\n",
    "            <li>\n",
    "                میانگین قیمت لپتاپ ها بر اساس نوع Processor بررسی کنید و از نمودار Barplot برای مصورسازی استفاده کنید.\n",
    "            </li>\n",
    "        </font>\n",
    "    </p>\n",
    "</div>\n",
    "<br>"
   ]
  },
  {
   "cell_type": "code",
   "execution_count": 248,
   "metadata": {
    "id": "Sq_tOVOyhz5G"
   },
   "outputs": [
    {
     "data": {
      "image/png": "[encoded data removed]",
      "text/plain": [
       "<Figure size 2000x1000 with 1 Axes>"
      ]
     },
     "metadata": {},
     "output_type": "display_data"
    }
   ],
   "source": [
    "# TODO: میانگین قیمت بر اساس Processor\n",
    "\n",
    "avg_processor_price = df.groupby('Processor')['Price ($)'].mean()\n",
    "plt.subplots(figsize=(20,10))\n",
    "sns.barplot(x=avg_processor_price.index, y=avg_processor_price.values)\n",
    "plt.xlabel('Processor')\n",
    "plt.ylabel('Average Price ($)')\n",
    "plt.xticks(rotation=45)\n",
    "plt.show()"
   ]
  },
  {
   "cell_type": "markdown",
   "metadata": {
    "id": "9Xj2vDiaox35"
   },
   "source": [
    "## ارزیابی:\n",
    "*ارزیابی خودتان از کد و خروجی حاصل از آن را بنویسید*\n",
    "1. با بالاتر رفتن نسل پردازنده، قیمت نیز افزایش پیدا می‌کند که رابطه مستقیمی دارد.\n",
    "2. میانگین قیمتی پردازنده‌های مدل AMD Ryzen  و مدل Intel در نسل‌های یکسان تقریبا برابر است و می‌توان گفت قیمت لپ‌تاپ بیشتر به نسل پردازنده مربوط است تا مدل آن.\n",
    "3. ....\n"
   ]
  },
  {
   "cell_type": "markdown",
   "metadata": {
    "id": "Q-bpVc5i2oC6"
   },
   "source": [
    "<br>\n",
    "<br>\n",
    "<div dir=\"rtl\">\n",
    "    <p>\n",
    "        <font size=4>\n",
    "            <li>\n",
    "                میانگین قیمت لپتاپ ها بر اساس نوع RAM بررسی کنید و از نمودار Barplot برای مصورسازی استفاده کنید.\n",
    "            </li>\n",
    "        </font>\n",
    "    </p>\n",
    "</div>\n",
    "<br>"
   ]
  },
  {
   "cell_type": "code",
   "execution_count": 249,
   "metadata": {
    "id": "7AqE1N-xhzz8"
   },
   "outputs": [
    {
     "data": {
      "image/png": "[encoded data removed]",
      "text/plain": [
       "<Figure size 2000x1000 with 1 Axes>"
      ]
     },
     "metadata": {},
     "output_type": "display_data"
    }
   ],
   "source": [
    "# TODO: میانگین قیمت بر اساس RAM\n",
    "\n",
    "avg_ram_price = df.groupby('RAM (GB)')['Price ($)'].mean()\n",
    "plt.subplots(figsize=(20,10))\n",
    "sns.barplot(x=avg_ram_price.index, y=avg_ram_price.values)\n",
    "plt.xlabel('RAM')\n",
    "plt.ylabel('Average Price ($)')\n",
    "plt.xticks(rotation=45)\n",
    "plt.show()"
   ]
  },
  {
   "cell_type": "markdown",
   "metadata": {
    "id": "hipAzsaspBUF"
   },
   "source": [
    "## ارزیابی:\n",
    "*ارزیابی خودتان از کد و خروجی حاصل از آن را بنویسید*\n",
    "1. قیمت لپ‌تاپ با میزان RAM آن رابطه مستقیمی دارد و هرچه ظرفیت RAM افزایش یابد، قیمت لپ‌تاپ نیز افزایش می‌یابد.\n",
    "2. افزایش قیمت لپ‌تاپ تقریبا  به صورت نمایی  افزایش می‌یابد.\n",
    "3. ....\n"
   ]
  },
  {
   "cell_type": "markdown",
   "metadata": {
    "id": "8caeDzSl3B3k"
   },
   "source": [
    "<br>\n",
    "<br>\n",
    "<div dir=\"rtl\">\n",
    "    <p>\n",
    "        <font size=4>\n",
    "            <li>\n",
    "                از نمودار Pie برای بررسی سهم سیستم عامل لپ تاپ ها استفاده کنید.\n",
    "            </li>\n",
    "        </font>\n",
    "    </p>\n",
    "</div>"
   ]
  },
  {
   "cell_type": "markdown",
   "metadata": {
    "id": "cQGXwJQZKhjF"
   },
   "source": [
    "<br>\n",
    "<div dir=\"rtl\">\n",
    "    <font size=5 color=\"red\">راهنمایی</font>\n",
    "    <br>\n",
    "    <font size=\"4\">\n",
    "        این پلات یک <strong>دونات چارت تعاملی (interactive donut chart)</strong> است که با ابزارهایی مثل <strong>Plotly</strong> در پایتون قابل پیاده‌سازی است. ویژگی تعاملی بودن آن باعث می‌شود که کاربران بتوانند با حرکت ماوس روی هر بخش، اطلاعات دقیق‌تر را مشاهده کنند.\n",
    "        <br><br>\n",
    "        <strong>کاربردها:</strong>\n",
    "        <br> - نمایش توزیع دسته‌بندی‌شده داده‌ها (مثلاً سهم سیستم‌عامل‌های مختلف)\n",
    "        <br> - امکان تحلیل بهتر از طریق تعامل با داده‌ها\n",
    "        <br> - بصری‌سازی جذاب برای گزارش‌ها و داشبوردهای تحلیلی\n",
    "        <br><br>\n",
    "        شما باید کدی بنویسید که چنین نموداری را ایجاد کند و قابلیت تعامل داشته باشد.\n",
    "        <br><br>\n",
    "        <a href=\"https://imgbb.com/\">\n",
    "            <img src=\"https://i.ibb.co/XZqncb6y/Screenshot-2025-03-10-115421.png\" alt=\"دونات چارت تعاملی\" border=\"0\">\n",
    "        </a>\n",
    "    </font>\n",
    "</div>\n",
    "<br>"
   ]
  },
  {
   "cell_type": "code",
   "execution_count": 250,
   "metadata": {
    "id": "SlF2INT0sAEi"
   },
   "outputs": [],
   "source": [
    "# TODO: کتابحانه plotly را ایمپورت کنید\n",
    "import plotly.express as px"
   ]
  },
  {
   "cell_type": "code",
   "execution_count": 251,
   "metadata": {
    "id": "1ITUN5ofJ01I",
    "scrolled": false
   },
   "outputs": [
    {
     "data": {
      "application/vnd.plotly.v1+json": {
       "config": {
        "plotlyServerURL": "https://plot.ly"
       },
       "data": [
        {
         "domain": {
          "x": [
           0,
           1
          ],
          "y": [
           0,
           1
          ]
         },
         "hole": 0.3,
         "hovertemplate": "index=%{label}<br>value=%{value}<extra></extra>",
         "labels": [
          "Windows",
          "FreeDOS",
          "Linux",
          "macOS"
         ],
         "legendgroup": "",
         "name": "",
         "showlegend": true,
         "textinfo": "label+percent",
         "type": "pie",
         "values": [
          2954,
          2952,
          2946,
          2916
         ]
        }
       ],
       "layout": {
        "legend": {
         "orientation": "h",
         "tracegroupgap": 0,
         "x": 0.5,
         "xanchor": "center",
         "y": 1.08,
         "yanchor": "top"
        },
        "margin": {
         "t": 60
        },
        "template": {
         "data": {
          "bar": [
           {
            "error_x": {
             "color": "#f2f5fa"
            },
            "error_y": {
             "color": "#f2f5fa"
            },
            "marker": {
             "line": {
              "color": "rgb(17,17,17)",
              "width": 0.5
             },
             "pattern": {
              "fillmode": "overlay",
              "size": 10,
              "solidity": 0.2
             }
            },
            "type": "bar"
           }
          ],
          "barpolar": [
           {
            "marker": {
             "line": {
              "color": "rgb(17,17,17)",
              "width": 0.5
             },
             "pattern": {
              "fillmode": "overlay",
              "size": 10,
              "solidity": 0.2
             }
            },
            "type": "barpolar"
           }
          ],
          "carpet": [
           {
            "aaxis": {
             "endlinecolor": "#A2B1C6",
             "gridcolor": "#506784",
             "linecolor": "#506784",
             "minorgridcolor": "#506784",
             "startlinecolor": "#A2B1C6"
            },
            "baxis": {
             "endlinecolor": "#A2B1C6",
             "gridcolor": "#506784",
             "linecolor": "#506784",
             "minorgridcolor": "#506784",
             "startlinecolor": "#A2B1C6"
            },
            "type": "carpet"
           }
          ],
          "choropleth": [
           {
            "colorbar": {
             "outlinewidth": 0,
             "ticks": ""
            },
            "type": "choropleth"
           }
          ],
          "contour": [
           {
            "colorbar": {
             "outlinewidth": 0,
             "ticks": ""
            },
            "colorscale": [
             [
              0,
              "#0d0887"
             ],
             [
              0.1111111111111111,
              "#46039f"
             ],
             [
              0.2222222222222222,
              "#7201a8"
             ],
             [
              0.3333333333333333,
              "#9c179e"
             ],
             [
              0.4444444444444444,
              "#bd3786"
             ],
             [
              0.5555555555555556,
              "#d8576b"
             ],
             [
              0.6666666666666666,
              "#ed7953"
             ],
             [
              0.7777777777777778,
              "#fb9f3a"
             ],
             [
              0.8888888888888888,
              "#fdca26"
             ],
             [
              1,
              "#f0f921"
             ]
            ],
            "type": "contour"
           }
          ],
          "contourcarpet": [
           {
            "colorbar": {
             "outlinewidth": 0,
             "ticks": ""
            },
            "type": "contourcarpet"
           }
          ],
          "heatmap": [
           {
            "colorbar": {
             "outlinewidth": 0,
             "ticks": ""
            },
            "colorscale": [
             [
              0,
              "#0d0887"
             ],
             [
              0.1111111111111111,
              "#46039f"
             ],
             [
              0.2222222222222222,
              "#7201a8"
             ],
             [
              0.3333333333333333,
              "#9c179e"
             ],
             [
              0.4444444444444444,
              "#bd3786"
             ],
             [
              0.5555555555555556,
              "#d8576b"
             ],
             [
              0.6666666666666666,
              "#ed7953"
             ],
             [
              0.7777777777777778,
              "#fb9f3a"
             ],
             [
              0.8888888888888888,
              "#fdca26"
             ],
             [
              1,
              "#f0f921"
             ]
            ],
            "type": "heatmap"
           }
          ],
          "heatmapgl": [
           {
            "colorbar": {
             "outlinewidth": 0,
             "ticks": ""
            },
            "colorscale": [
             [
              0,
              "#0d0887"
             ],
             [
              0.1111111111111111,
              "#46039f"
             ],
             [
              0.2222222222222222,
              "#7201a8"
             ],
             [
              0.3333333333333333,
              "#9c179e"
             ],
             [
              0.4444444444444444,
              "#bd3786"
             ],
             [
              0.5555555555555556,
              "#d8576b"
             ],
             [
              0.6666666666666666,
              "#ed7953"
             ],
             [
              0.7777777777777778,
              "#fb9f3a"
             ],
             [
              0.8888888888888888,
              "#fdca26"
             ],
             [
              1,
              "#f0f921"
             ]
            ],
            "type": "heatmapgl"
           }
          ],
          "histogram": [
           {
            "marker": {
             "pattern": {
              "fillmode": "overlay",
              "size": 10,
              "solidity": 0.2
             }
            },
            "type": "histogram"
           }
          ],
          "histogram2d": [
           {
            "colorbar": {
             "outlinewidth": 0,
             "ticks": ""
            },
            "colorscale": [
             [
              0,
              "#0d0887"
             ],
             [
              0.1111111111111111,
              "#46039f"
             ],
             [
              0.2222222222222222,
              "#7201a8"
             ],
             [
              0.3333333333333333,
              "#9c179e"
             ],
             [
              0.4444444444444444,
              "#bd3786"
             ],
             [
              0.5555555555555556,
              "#d8576b"
             ],
             [
              0.6666666666666666,
              "#ed7953"
             ],
             [
              0.7777777777777778,
              "#fb9f3a"
             ],
             [
              0.8888888888888888,
              "#fdca26"
             ],
             [
              1,
              "#f0f921"
             ]
            ],
            "type": "histogram2d"
           }
          ],
          "histogram2dcontour": [
           {
            "colorbar": {
             "outlinewidth": 0,
             "ticks": ""
            },
            "colorscale": [
             [
              0,
              "#0d0887"
             ],
             [
              0.1111111111111111,
              "#46039f"
             ],
             [
              0.2222222222222222,
              "#7201a8"
             ],
             [
              0.3333333333333333,
              "#9c179e"
             ],
             [
              0.4444444444444444,
              "#bd3786"
             ],
             [
              0.5555555555555556,
              "#d8576b"
             ],
             [
              0.6666666666666666,
              "#ed7953"
             ],
             [
              0.7777777777777778,
              "#fb9f3a"
             ],
             [
              0.8888888888888888,
              "#fdca26"
             ],
             [
              1,
              "#f0f921"
             ]
            ],
            "type": "histogram2dcontour"
           }
          ],
          "mesh3d": [
           {
            "colorbar": {
             "outlinewidth": 0,
             "ticks": ""
            },
            "type": "mesh3d"
           }
          ],
          "parcoords": [
           {
            "line": {
             "colorbar": {
              "outlinewidth": 0,
              "ticks": ""
             }
            },
            "type": "parcoords"
           }
          ],
          "pie": [
           {
            "automargin": true,
            "type": "pie"
           }
          ],
          "scatter": [
           {
            "marker": {
             "line": {
              "color": "#283442"
             }
            },
            "type": "scatter"
           }
          ],
          "scatter3d": [
           {
            "line": {
             "colorbar": {
              "outlinewidth": 0,
              "ticks": ""
             }
            },
            "marker": {
             "colorbar": {
              "outlinewidth": 0,
              "ticks": ""
             }
            },
            "type": "scatter3d"
           }
          ],
          "scattercarpet": [
           {
            "marker": {
             "colorbar": {
              "outlinewidth": 0,
              "ticks": ""
             }
            },
            "type": "scattercarpet"
           }
          ],
          "scattergeo": [
           {
            "marker": {
             "colorbar": {
              "outlinewidth": 0,
              "ticks": ""
             }
            },
            "type": "scattergeo"
           }
          ],
          "scattergl": [
           {
            "marker": {
             "line": {
              "color": "#283442"
             }
            },
            "type": "scattergl"
           }
          ],
          "scattermapbox": [
           {
            "marker": {
             "colorbar": {
              "outlinewidth": 0,
              "ticks": ""
             }
            },
            "type": "scattermapbox"
           }
          ],
          "scatterpolar": [
           {
            "marker": {
             "colorbar": {
              "outlinewidth": 0,
              "ticks": ""
             }
            },
            "type": "scatterpolar"
           }
          ],
          "scatterpolargl": [
           {
            "marker": {
             "colorbar": {
              "outlinewidth": 0,
              "ticks": ""
             }
            },
            "type": "scatterpolargl"
           }
          ],
          "scatterternary": [
           {
            "marker": {
             "colorbar": {
              "outlinewidth": 0,
              "ticks": ""
             }
            },
            "type": "scatterternary"
           }
          ],
          "surface": [
           {
            "colorbar": {
             "outlinewidth": 0,
             "ticks": ""
            },
            "colorscale": [
             [
              0,
              "#0d0887"
             ],
             [
              0.1111111111111111,
              "#46039f"
             ],
             [
              0.2222222222222222,
              "#7201a8"
             ],
             [
              0.3333333333333333,
              "#9c179e"
             ],
             [
              0.4444444444444444,
              "#bd3786"
             ],
             [
              0.5555555555555556,
              "#d8576b"
             ],
             [
              0.6666666666666666,
              "#ed7953"
             ],
             [
              0.7777777777777778,
              "#fb9f3a"
             ],
             [
              0.8888888888888888,
              "#fdca26"
             ],
             [
              1,
              "#f0f921"
             ]
            ],
            "type": "surface"
           }
          ],
          "table": [
           {
            "cells": {
             "fill": {
              "color": "#506784"
             },
             "line": {
              "color": "rgb(17,17,17)"
             }
            },
            "header": {
             "fill": {
              "color": "#2a3f5f"
             },
             "line": {
              "color": "rgb(17,17,17)"
             }
            },
            "type": "table"
           }
          ]
         },
         "layout": {
          "annotationdefaults": {
           "arrowcolor": "#f2f5fa",
           "arrowhead": 0,
           "arrowwidth": 1
          },
          "autotypenumbers": "strict",
          "coloraxis": {
           "colorbar": {
            "outlinewidth": 0,
            "ticks": ""
           }
          },
          "colorscale": {
           "diverging": [
            [
             0,
             "#8e0152"
            ],
            [
             0.1,
             "#c51b7d"
            ],
            [
             0.2,
             "#de77ae"
            ],
            [
             0.3,
             "#f1b6da"
            ],
            [
             0.4,
             "#fde0ef"
            ],
            [
             0.5,
             "#f7f7f7"
            ],
            [
             0.6,
             "#e6f5d0"
            ],
            [
             0.7,
             "#b8e186"
            ],
            [
             0.8,
             "#7fbc41"
            ],
            [
             0.9,
             "#4d9221"
            ],
            [
             1,
             "#276419"
            ]
           ],
           "sequential": [
            [
             0,
             "#0d0887"
            ],
            [
             0.1111111111111111,
             "#46039f"
            ],
            [
             0.2222222222222222,
             "#7201a8"
            ],
            [
             0.3333333333333333,
             "#9c179e"
            ],
            [
             0.4444444444444444,
             "#bd3786"
            ],
            [
             0.5555555555555556,
             "#d8576b"
            ],
            [
             0.6666666666666666,
             "#ed7953"
            ],
            [
             0.7777777777777778,
             "#fb9f3a"
            ],
            [
             0.8888888888888888,
             "#fdca26"
            ],
            [
             1,
             "#f0f921"
            ]
           ],
           "sequentialminus": [
            [
             0,
             "#0d0887"
            ],
            [
             0.1111111111111111,
             "#46039f"
            ],
            [
             0.2222222222222222,
             "#7201a8"
            ],
            [
             0.3333333333333333,
             "#9c179e"
            ],
            [
             0.4444444444444444,
             "#bd3786"
            ],
            [
             0.5555555555555556,
             "#d8576b"
            ],
            [
             0.6666666666666666,
             "#ed7953"
            ],
            [
             0.7777777777777778,
             "#fb9f3a"
            ],
            [
             0.8888888888888888,
             "#fdca26"
            ],
            [
             1,
             "#f0f921"
            ]
           ]
          },
          "colorway": [
           "#636efa",
           "#EF553B",
           "#00cc96",
           "#ab63fa",
           "#FFA15A",
           "#19d3f3",
           "#FF6692",
           "#B6E880",
           "#FF97FF",
           "#FECB52"
          ],
          "font": {
           "color": "#f2f5fa"
          },
          "geo": {
           "bgcolor": "rgb(17,17,17)",
           "lakecolor": "rgb(17,17,17)",
           "landcolor": "rgb(17,17,17)",
           "showlakes": true,
           "showland": true,
           "subunitcolor": "#506784"
          },
          "hoverlabel": {
           "align": "left"
          },
          "hovermode": "closest",
          "mapbox": {
           "style": "dark"
          },
          "paper_bgcolor": "rgb(17,17,17)",
          "plot_bgcolor": "rgb(17,17,17)",
          "polar": {
           "angularaxis": {
            "gridcolor": "#506784",
            "linecolor": "#506784",
            "ticks": ""
           },
           "bgcolor": "rgb(17,17,17)",
           "radialaxis": {
            "gridcolor": "#506784",
            "linecolor": "#506784",
            "ticks": ""
           }
          },
          "scene": {
           "xaxis": {
            "backgroundcolor": "rgb(17,17,17)",
            "gridcolor": "#506784",
            "gridwidth": 2,
            "linecolor": "#506784",
            "showbackground": true,
            "ticks": "",
            "zerolinecolor": "#C8D4E3"
           },
           "yaxis": {
            "backgroundcolor": "rgb(17,17,17)",
            "gridcolor": "#506784",
            "gridwidth": 2,
            "linecolor": "#506784",
            "showbackground": true,
            "ticks": "",
            "zerolinecolor": "#C8D4E3"
           },
           "zaxis": {
            "backgroundcolor": "rgb(17,17,17)",
            "gridcolor": "#506784",
            "gridwidth": 2,
            "linecolor": "#506784",
            "showbackground": true,
            "ticks": "",
            "zerolinecolor": "#C8D4E3"
           }
          },
          "shapedefaults": {
           "line": {
            "color": "#f2f5fa"
           }
          },
          "sliderdefaults": {
           "bgcolor": "#C8D4E3",
           "bordercolor": "rgb(17,17,17)",
           "borderwidth": 1,
           "tickwidth": 0
          },
          "ternary": {
           "aaxis": {
            "gridcolor": "#506784",
            "linecolor": "#506784",
            "ticks": ""
           },
           "baxis": {
            "gridcolor": "#506784",
            "linecolor": "#506784",
            "ticks": ""
           },
           "bgcolor": "rgb(17,17,17)",
           "caxis": {
            "gridcolor": "#506784",
            "linecolor": "#506784",
            "ticks": ""
           }
          },
          "title": {
           "x": 0.05
          },
          "updatemenudefaults": {
           "bgcolor": "#506784",
           "borderwidth": 0
          },
          "xaxis": {
           "automargin": true,
           "gridcolor": "#283442",
           "linecolor": "#506784",
           "ticks": "",
           "title": {
            "standoff": 15
           },
           "zerolinecolor": "#283442",
           "zerolinewidth": 2
          },
          "yaxis": {
           "automargin": true,
           "gridcolor": "#283442",
           "linecolor": "#506784",
           "ticks": "",
           "title": {
            "standoff": 15
           },
           "zerolinecolor": "#283442",
           "zerolinewidth": 2
          }
         }
        },
        "title": {
         "text": "Distribution of Operating Systems",
         "x": 0.5,
         "y": 0.98
        }
       }
      },
      "text/html": [
       "<div>                            <div id=\"c4bc94d9-858b-4ce3-9561-0404841fd3ca\" class=\"plotly-graph-div\" style=\"height:525px; width:100%;\"></div>            <script type=\"text/javascript\">                require([\"plotly\"], function(Plotly) {                    window.PLOTLYENV=window.PLOTLYENV || {};                                    if (document.getElementById(\"c4bc94d9-858b-4ce3-9561-0404841fd3ca\")) {                    Plotly.newPlot(                        \"c4bc94d9-858b-4ce3-9561-0404841fd3ca\",                        [{\"domain\":{\"x\":[0.0,1.0],\"y\":[0.0,1.0]},\"hole\":0.3,\"hovertemplate\":\"index=%{label}\\u003cbr\\u003evalue=%{value}\\u003cextra\\u003e\\u003c\\u002fextra\\u003e\",\"labels\":[\"Windows\",\"FreeDOS\",\"Linux\",\"macOS\"],\"legendgroup\":\"\",\"name\":\"\",\"showlegend\":true,\"values\":[2954,2952,2946,2916],\"type\":\"pie\",\"textinfo\":\"label+percent\"}],                        {\"template\":{\"data\":{\"barpolar\":[{\"marker\":{\"line\":{\"color\":\"rgb(17,17,17)\",\"width\":0.5},\"pattern\":{\"fillmode\":\"overlay\",\"size\":10,\"solidity\":0.2}},\"type\":\"barpolar\"}],\"bar\":[{\"error_x\":{\"color\":\"#f2f5fa\"},\"error_y\":{\"color\":\"#f2f5fa\"},\"marker\":{\"line\":{\"color\":\"rgb(17,17,17)\",\"width\":0.5},\"pattern\":{\"fillmode\":\"overlay\",\"size\":10,\"solidity\":0.2}},\"type\":\"bar\"}],\"carpet\":[{\"aaxis\":{\"endlinecolor\":\"#A2B1C6\",\"gridcolor\":\"#506784\",\"linecolor\":\"#506784\",\"minorgridcolor\":\"#506784\",\"startlinecolor\":\"#A2B1C6\"},\"baxis\":{\"endlinecolor\":\"#A2B1C6\",\"gridcolor\":\"#506784\",\"linecolor\":\"#506784\",\"minorgridcolor\":\"#506784\",\"startlinecolor\":\"#A2B1C6\"},\"type\":\"carpet\"}],\"choropleth\":[{\"colorbar\":{\"outlinewidth\":0,\"ticks\":\"\"},\"type\":\"choropleth\"}],\"contourcarpet\":[{\"colorbar\":{\"outlinewidth\":0,\"ticks\":\"\"},\"type\":\"contourcarpet\"}],\"contour\":[{\"colorbar\":{\"outlinewidth\":0,\"ticks\":\"\"},\"colorscale\":[[0.0,\"#0d0887\"],[0.1111111111111111,\"#46039f\"],[0.2222222222222222,\"#7201a8\"],[0.3333333333333333,\"#9c179e\"],[0.4444444444444444,\"#bd3786\"],[0.5555555555555556,\"#d8576b\"],[0.6666666666666666,\"#ed7953\"],[0.7777777777777778,\"#fb9f3a\"],[0.8888888888888888,\"#fdca26\"],[1.0,\"#f0f921\"]],\"type\":\"contour\"}],\"heatmapgl\":[{\"colorbar\":{\"outlinewidth\":0,\"ticks\":\"\"},\"colorscale\":[[0.0,\"#0d0887\"],[0.1111111111111111,\"#46039f\"],[0.2222222222222222,\"#7201a8\"],[0.3333333333333333,\"#9c179e\"],[0.4444444444444444,\"#bd3786\"],[0.5555555555555556,\"#d8576b\"],[0.6666666666666666,\"#ed7953\"],[0.7777777777777778,\"#fb9f3a\"],[0.8888888888888888,\"#fdca26\"],[1.0,\"#f0f921\"]],\"type\":\"heatmapgl\"}],\"heatmap\":[{\"colorbar\":{\"outlinewidth\":0,\"ticks\":\"\"},\"colorscale\":[[0.0,\"#0d0887\"],[0.1111111111111111,\"#46039f\"],[0.2222222222222222,\"#7201a8\"],[0.3333333333333333,\"#9c179e\"],[0.4444444444444444,\"#bd3786\"],[0.5555555555555556,\"#d8576b\"],[0.6666666666666666,\"#ed7953\"],[0.7777777777777778,\"#fb9f3a\"],[0.8888888888888888,\"#fdca26\"],[1.0,\"#f0f921\"]],\"type\":\"heatmap\"}],\"histogram2dcontour\":[{\"colorbar\":{\"outlinewidth\":0,\"ticks\":\"\"},\"colorscale\":[[0.0,\"#0d0887\"],[0.1111111111111111,\"#46039f\"],[0.2222222222222222,\"#7201a8\"],[0.3333333333333333,\"#9c179e\"],[0.4444444444444444,\"#bd3786\"],[0.5555555555555556,\"#d8576b\"],[0.6666666666666666,\"#ed7953\"],[0.7777777777777778,\"#fb9f3a\"],[0.8888888888888888,\"#fdca26\"],[1.0,\"#f0f921\"]],\"type\":\"histogram2dcontour\"}],\"histogram2d\":[{\"colorbar\":{\"outlinewidth\":0,\"ticks\":\"\"},\"colorscale\":[[0.0,\"#0d0887\"],[0.1111111111111111,\"#46039f\"],[0.2222222222222222,\"#7201a8\"],[0.3333333333333333,\"#9c179e\"],[0.4444444444444444,\"#bd3786\"],[0.5555555555555556,\"#d8576b\"],[0.6666666666666666,\"#ed7953\"],[0.7777777777777778,\"#fb9f3a\"],[0.8888888888888888,\"#fdca26\"],[1.0,\"#f0f921\"]],\"type\":\"histogram2d\"}],\"histogram\":[{\"marker\":{\"pattern\":{\"fillmode\":\"overlay\",\"size\":10,\"solidity\":0.2}},\"type\":\"histogram\"}],\"mesh3d\":[{\"colorbar\":{\"outlinewidth\":0,\"ticks\":\"\"},\"type\":\"mesh3d\"}],\"parcoords\":[{\"line\":{\"colorbar\":{\"outlinewidth\":0,\"ticks\":\"\"}},\"type\":\"parcoords\"}],\"pie\":[{\"automargin\":true,\"type\":\"pie\"}],\"scatter3d\":[{\"line\":{\"colorbar\":{\"outlinewidth\":0,\"ticks\":\"\"}},\"marker\":{\"colorbar\":{\"outlinewidth\":0,\"ticks\":\"\"}},\"type\":\"scatter3d\"}],\"scattercarpet\":[{\"marker\":{\"colorbar\":{\"outlinewidth\":0,\"ticks\":\"\"}},\"type\":\"scattercarpet\"}],\"scattergeo\":[{\"marker\":{\"colorbar\":{\"outlinewidth\":0,\"ticks\":\"\"}},\"type\":\"scattergeo\"}],\"scattergl\":[{\"marker\":{\"line\":{\"color\":\"#283442\"}},\"type\":\"scattergl\"}],\"scattermapbox\":[{\"marker\":{\"colorbar\":{\"outlinewidth\":0,\"ticks\":\"\"}},\"type\":\"scattermapbox\"}],\"scatterpolargl\":[{\"marker\":{\"colorbar\":{\"outlinewidth\":0,\"ticks\":\"\"}},\"type\":\"scatterpolargl\"}],\"scatterpolar\":[{\"marker\":{\"colorbar\":{\"outlinewidth\":0,\"ticks\":\"\"}},\"type\":\"scatterpolar\"}],\"scatter\":[{\"marker\":{\"line\":{\"color\":\"#283442\"}},\"type\":\"scatter\"}],\"scatterternary\":[{\"marker\":{\"colorbar\":{\"outlinewidth\":0,\"ticks\":\"\"}},\"type\":\"scatterternary\"}],\"surface\":[{\"colorbar\":{\"outlinewidth\":0,\"ticks\":\"\"},\"colorscale\":[[0.0,\"#0d0887\"],[0.1111111111111111,\"#46039f\"],[0.2222222222222222,\"#7201a8\"],[0.3333333333333333,\"#9c179e\"],[0.4444444444444444,\"#bd3786\"],[0.5555555555555556,\"#d8576b\"],[0.6666666666666666,\"#ed7953\"],[0.7777777777777778,\"#fb9f3a\"],[0.8888888888888888,\"#fdca26\"],[1.0,\"#f0f921\"]],\"type\":\"surface\"}],\"table\":[{\"cells\":{\"fill\":{\"color\":\"#506784\"},\"line\":{\"color\":\"rgb(17,17,17)\"}},\"header\":{\"fill\":{\"color\":\"#2a3f5f\"},\"line\":{\"color\":\"rgb(17,17,17)\"}},\"type\":\"table\"}]},\"layout\":{\"annotationdefaults\":{\"arrowcolor\":\"#f2f5fa\",\"arrowhead\":0,\"arrowwidth\":1},\"autotypenumbers\":\"strict\",\"coloraxis\":{\"colorbar\":{\"outlinewidth\":0,\"ticks\":\"\"}},\"colorscale\":{\"diverging\":[[0,\"#8e0152\"],[0.1,\"#c51b7d\"],[0.2,\"#de77ae\"],[0.3,\"#f1b6da\"],[0.4,\"#fde0ef\"],[0.5,\"#f7f7f7\"],[0.6,\"#e6f5d0\"],[0.7,\"#b8e186\"],[0.8,\"#7fbc41\"],[0.9,\"#4d9221\"],[1,\"#276419\"]],\"sequential\":[[0.0,\"#0d0887\"],[0.1111111111111111,\"#46039f\"],[0.2222222222222222,\"#7201a8\"],[0.3333333333333333,\"#9c179e\"],[0.4444444444444444,\"#bd3786\"],[0.5555555555555556,\"#d8576b\"],[0.6666666666666666,\"#ed7953\"],[0.7777777777777778,\"#fb9f3a\"],[0.8888888888888888,\"#fdca26\"],[1.0,\"#f0f921\"]],\"sequentialminus\":[[0.0,\"#0d0887\"],[0.1111111111111111,\"#46039f\"],[0.2222222222222222,\"#7201a8\"],[0.3333333333333333,\"#9c179e\"],[0.4444444444444444,\"#bd3786\"],[0.5555555555555556,\"#d8576b\"],[0.6666666666666666,\"#ed7953\"],[0.7777777777777778,\"#fb9f3a\"],[0.8888888888888888,\"#fdca26\"],[1.0,\"#f0f921\"]]},\"colorway\":[\"#636efa\",\"#EF553B\",\"#00cc96\",\"#ab63fa\",\"#FFA15A\",\"#19d3f3\",\"#FF6692\",\"#B6E880\",\"#FF97FF\",\"#FECB52\"],\"font\":{\"color\":\"#f2f5fa\"},\"geo\":{\"bgcolor\":\"rgb(17,17,17)\",\"lakecolor\":\"rgb(17,17,17)\",\"landcolor\":\"rgb(17,17,17)\",\"showlakes\":true,\"showland\":true,\"subunitcolor\":\"#506784\"},\"hoverlabel\":{\"align\":\"left\"},\"hovermode\":\"closest\",\"mapbox\":{\"style\":\"dark\"},\"paper_bgcolor\":\"rgb(17,17,17)\",\"plot_bgcolor\":\"rgb(17,17,17)\",\"polar\":{\"angularaxis\":{\"gridcolor\":\"#506784\",\"linecolor\":\"#506784\",\"ticks\":\"\"},\"bgcolor\":\"rgb(17,17,17)\",\"radialaxis\":{\"gridcolor\":\"#506784\",\"linecolor\":\"#506784\",\"ticks\":\"\"}},\"scene\":{\"xaxis\":{\"backgroundcolor\":\"rgb(17,17,17)\",\"gridcolor\":\"#506784\",\"gridwidth\":2,\"linecolor\":\"#506784\",\"showbackground\":true,\"ticks\":\"\",\"zerolinecolor\":\"#C8D4E3\"},\"yaxis\":{\"backgroundcolor\":\"rgb(17,17,17)\",\"gridcolor\":\"#506784\",\"gridwidth\":2,\"linecolor\":\"#506784\",\"showbackground\":true,\"ticks\":\"\",\"zerolinecolor\":\"#C8D4E3\"},\"zaxis\":{\"backgroundcolor\":\"rgb(17,17,17)\",\"gridcolor\":\"#506784\",\"gridwidth\":2,\"linecolor\":\"#506784\",\"showbackground\":true,\"ticks\":\"\",\"zerolinecolor\":\"#C8D4E3\"}},\"shapedefaults\":{\"line\":{\"color\":\"#f2f5fa\"}},\"sliderdefaults\":{\"bgcolor\":\"#C8D4E3\",\"bordercolor\":\"rgb(17,17,17)\",\"borderwidth\":1,\"tickwidth\":0},\"ternary\":{\"aaxis\":{\"gridcolor\":\"#506784\",\"linecolor\":\"#506784\",\"ticks\":\"\"},\"baxis\":{\"gridcolor\":\"#506784\",\"linecolor\":\"#506784\",\"ticks\":\"\"},\"bgcolor\":\"rgb(17,17,17)\",\"caxis\":{\"gridcolor\":\"#506784\",\"linecolor\":\"#506784\",\"ticks\":\"\"}},\"title\":{\"x\":0.05},\"updatemenudefaults\":{\"bgcolor\":\"#506784\",\"borderwidth\":0},\"xaxis\":{\"automargin\":true,\"gridcolor\":\"#283442\",\"linecolor\":\"#506784\",\"ticks\":\"\",\"title\":{\"standoff\":15},\"zerolinecolor\":\"#283442\",\"zerolinewidth\":2},\"yaxis\":{\"automargin\":true,\"gridcolor\":\"#283442\",\"linecolor\":\"#506784\",\"ticks\":\"\",\"title\":{\"standoff\":15},\"zerolinecolor\":\"#283442\",\"zerolinewidth\":2}}},\"legend\":{\"tracegroupgap\":0,\"orientation\":\"h\",\"xanchor\":\"center\",\"yanchor\":\"top\",\"y\":1.08,\"x\":0.5},\"margin\":{\"t\":60},\"title\":{\"text\":\"Distribution of Operating Systems\",\"x\":0.5,\"y\":0.98}},                        {\"responsive\": true}                    ).then(function(){\n",
       "                            \n",
       "var gd = document.getElementById('c4bc94d9-858b-4ce3-9561-0404841fd3ca');\n",
       "var x = new MutationObserver(function (mutations, observer) {{\n",
       "        var display = window.getComputedStyle(gd).display;\n",
       "        if (!display || display === 'none') {{\n",
       "            console.log([gd, 'removed!']);\n",
       "            Plotly.purge(gd);\n",
       "            observer.disconnect();\n",
       "        }}\n",
       "}});\n",
       "\n",
       "// Listen for the removal of the full notebook cells\n",
       "var notebookContainer = gd.closest('#notebook-container');\n",
       "if (notebookContainer) {{\n",
       "    x.observe(notebookContainer, {childList: true});\n",
       "}}\n",
       "\n",
       "// Listen for the clearing of the current output cell\n",
       "var outputEl = gd.closest('.output');\n",
       "if (outputEl) {{\n",
       "    x.observe(outputEl, {childList: true});\n",
       "}}\n",
       "\n",
       "                        })                };                });            </script>        </div>"
      ]
     },
     "metadata": {},
     "output_type": "display_data"
    }
   ],
   "source": [
    "# TODO:کد نمودار Pie را بنویسید\n",
    "os_counts = df['Operating System'].value_counts()\n",
    "fig = px.pie(os_counts, names=os_counts.index, values=os_counts.values, hole=0.3, template='plotly_dark')\n",
    "fig.update_traces(textinfo='label+percent')\n",
    "fig.update_layout(legend=dict(\n",
    "    orientation='h',\n",
    "    xanchor='center',\n",
    "    yanchor='top',\n",
    "    y=1.08,\n",
    "    x=0.5\n",
    "))\n",
    "fig.update_layout(title_text='Distribution of Operating Systems', title_x=0.5, title_y=0.98)\n",
    "fig.show()"
   ]
  },
  {
   "cell_type": "markdown",
   "metadata": {
    "id": "FDaMWZG0uuPW"
   },
   "source": [
    "## ارزیابی:\n",
    "*ارزیابی خودتان از کد و خروجی حاصل از آن را بنویسید*\n",
    "1. سهم سیستم‌های عامل در کل لپ‌تاپ‌ها تقریبا برابر است.\n",
    "2. ....\n",
    "3. ....\n"
   ]
  },
  {
   "cell_type": "markdown",
   "metadata": {
    "id": "BPMtULaaKD4w"
   },
   "source": [
    "<br>\n",
    "<br>\n",
    "<div dir=\"rtl\">\n",
    "    <p>\n",
    "        <font size=4>\n",
    "            <li>\n",
    "                میانگین قیمت لپتاپ ها را بر اساس GPU و RAM محاسبه کنید و به کمک نمودار Heatmap آنرا نمایش دهید و بررسی و آنالیز کنید.\n",
    "            </li>\n",
    "        </font>\n",
    "    </p>\n",
    "</div>\n",
    "<br>"
   ]
  },
  {
   "cell_type": "code",
   "execution_count": 252,
   "metadata": {
    "id": "mz-at41Y0XsA"
   },
   "outputs": [
    {
     "data": {
      "image/png": "[encoded data removed]",
      "text/plain": [
       "<Figure size 1500x700 with 2 Axes>"
      ]
     },
     "metadata": {},
     "output_type": "display_data"
    }
   ],
   "source": [
    "#s مقایسه RAM و GPU در برندهای مختلف\n",
    "pivot_table = df.pivot_table(values='Price ($)', index='RAM (GB)', columns='GPU', aggfunc='mean')\n",
    "\n",
    "plt.figure(figsize=(15,7))\n",
    "heatmap = sns.heatmap(pivot_table, annot=True, fmt=\".2f\", cmap=\"coolwarm\", cbar_kws={'label': 'Average Price ($)'})\n",
    "\n",
    "plt.title('Average Price of Laptops by RAM and GPU')\n",
    "plt.xlabel('GPU')\n",
    "plt.ylabel('RAM (GB)')\n",
    "plt.xticks(rotation=45)\n",
    "\n",
    "plt.show()"
   ]
  },
  {
   "cell_type": "markdown",
   "metadata": {
    "id": "CZ0Dr-Sqiwmf"
   },
   "source": [
    "<div dir=\"rtl\">\n",
    "<font size=\"6\">\n",
    "    <li>\n",
    "    <strong>پیش پردازش داده ها</strong>\n",
    "    </li>\n",
    "</font>\n",
    "<div dir=\"rtl\">\n",
    "    <p>\n",
    "        <font size=4>\n",
    "            <li>\n",
    "                پیش‌پردازش داده‌ها شامل آماده‌سازی داده خام برای تحلیل و مدل‌سازی است. این مرحله شامل پاک‌سازی داده‌ها، مدیریت مقادیر گمشده، تبدیل انواع داده، نرمال‌سازی و استخراج ویژگی‌های مهم برای بهبود عملکرد مدل‌های یادگیری ماشین می‌شود.\n",
    "            </li>\n",
    "        </font>\n",
    "    </p>\n",
    "</div>\n",
    "<br>\n",
    "<br>"
   ]
  },
  {
   "cell_type": "code",
   "execution_count": 253,
   "metadata": {
    "id": "pRPeGwNsgaHL"
   },
   "outputs": [],
   "source": [
    "# TODO : یک کپی از دیتافریم اصلی بگیرید و ادامه کد هارا با دیتافریم جدید انجام دهید\n",
    "df_copy = df.copy()"
   ]
  },
  {
   "cell_type": "code",
   "execution_count": 254,
   "metadata": {
    "id": "_WyLX0_lgUnP"
   },
   "outputs": [],
   "source": [
    "# TODO: اگی نیاز به کتابخانه خاصی دارید , آنها را ایمپورت کنید\n",
    "import re\n"
   ]
  },
  {
   "cell_type": "markdown",
   "metadata": {
    "id": "kM-RB8kPhdu1"
   },
   "source": [
    "<br>\n",
    "<br>\n",
    "<div dir=\"rtl\">\n",
    "    <font size=4>\n",
    "        <li>پردازش Storage</li>\n",
    "    </font>\n",
    "    <font size=4>\n",
    "        <li>\n",
    "            ویژگی Storage دارای واحد های GB و TB است. بهتر است آنها را به یک واحد اندازه گیری تبدیل کنید.\n",
    "        </li>\n",
    "        <li>\n",
    "            یک ویژگی عددی جدید با نام <code>Storage_Capacity_GB</code> ایجاد کنید.\n",
    "        </li>\n",
    "        <li>\n",
    "            نوع هارد دیسک (<strong>SSD</strong> یا <strong>HDD</strong>) را هم جدا کرده و در ستون <code>Storage_Type</code> ذخیره کنید.\n",
    "        </li>\n",
    "    </font>\n",
    "</div>\n"
   ]
  },
  {
   "cell_type": "code",
   "execution_count": 258,
   "metadata": {
    "id": "G_UV5NWBUc2I"
   },
   "outputs": [],
   "source": [
    "# TODO: متدی برای پیش پردازش  فضای ذخیره سازی طبق توضیحات ارائه شده بنویسید.\n",
    "def parse_storage(storage_str):\n",
    "    m = re.match(r'^(\\d+)(GB|TB)\\s(SSD|HDD)$', storage_str)\n",
    "    capacity, unit, storage_type = m.group(1,2,3)\n",
    "    capacity = int(capacity) if unit=='GB' else int(capacity)*1024\n",
    "    return capacity,storage_type\n",
    "\n",
    "df_copy['Storage_Capacity_GB'], df_copy['Storage_Type'] = zip(*df_copy['Storage'].apply(parse_storage))\n",
    "df_copy.drop(columns=['Storage'], inplace=True)"
   ]
  },
  {
   "cell_type": "code",
   "execution_count": 260,
   "metadata": {},
   "outputs": [
    {
     "data": {
      "text/html": [
       "<div>\n",
       "<style scoped>\n",
       "    .dataframe tbody tr th:only-of-type {\n",
       "        vertical-align: middle;\n",
       "    }\n",
       "\n",
       "    .dataframe tbody tr th {\n",
       "        vertical-align: top;\n",
       "    }\n",
       "\n",
       "    .dataframe thead th {\n",
       "        text-align: right;\n",
       "    }\n",
       "</style>\n",
       "<table border=\"1\" class=\"dataframe\">\n",
       "  <thead>\n",
       "    <tr style=\"text-align: right;\">\n",
       "      <th></th>\n",
       "      <th>Brand</th>\n",
       "      <th>Processor</th>\n",
       "      <th>RAM (GB)</th>\n",
       "      <th>GPU</th>\n",
       "      <th>Screen Size (inch)</th>\n",
       "      <th>Resolution</th>\n",
       "      <th>Battery Life (hours)</th>\n",
       "      <th>Weight (kg)</th>\n",
       "      <th>Operating System</th>\n",
       "      <th>Price ($)</th>\n",
       "      <th>Storage_Capacity_GB</th>\n",
       "      <th>Storage_Type</th>\n",
       "    </tr>\n",
       "  </thead>\n",
       "  <tbody>\n",
       "    <tr>\n",
       "      <th>0</th>\n",
       "      <td>Apple</td>\n",
       "      <td>AMD Ryzen 3</td>\n",
       "      <td>64</td>\n",
       "      <td>Nvidia GTX 1650</td>\n",
       "      <td>17.3</td>\n",
       "      <td>2560x1440</td>\n",
       "      <td>8.9</td>\n",
       "      <td>1.42</td>\n",
       "      <td>FreeDOS</td>\n",
       "      <td>3997.07</td>\n",
       "      <td>512</td>\n",
       "      <td>SSD</td>\n",
       "    </tr>\n",
       "    <tr>\n",
       "      <th>1</th>\n",
       "      <td>Razer</td>\n",
       "      <td>AMD Ryzen 7</td>\n",
       "      <td>4</td>\n",
       "      <td>Nvidia RTX 3080</td>\n",
       "      <td>14.0</td>\n",
       "      <td>1366x768</td>\n",
       "      <td>9.4</td>\n",
       "      <td>2.57</td>\n",
       "      <td>Linux</td>\n",
       "      <td>1355.78</td>\n",
       "      <td>1024</td>\n",
       "      <td>SSD</td>\n",
       "    </tr>\n",
       "    <tr>\n",
       "      <th>2</th>\n",
       "      <td>Asus</td>\n",
       "      <td>Intel i5</td>\n",
       "      <td>32</td>\n",
       "      <td>Nvidia RTX 3060</td>\n",
       "      <td>13.3</td>\n",
       "      <td>3840x2160</td>\n",
       "      <td>8.5</td>\n",
       "      <td>1.74</td>\n",
       "      <td>FreeDOS</td>\n",
       "      <td>2673.07</td>\n",
       "      <td>2048</td>\n",
       "      <td>SSD</td>\n",
       "    </tr>\n",
       "    <tr>\n",
       "      <th>3</th>\n",
       "      <td>Lenovo</td>\n",
       "      <td>Intel i5</td>\n",
       "      <td>4</td>\n",
       "      <td>Nvidia RTX 3080</td>\n",
       "      <td>13.3</td>\n",
       "      <td>1366x768</td>\n",
       "      <td>10.5</td>\n",
       "      <td>3.10</td>\n",
       "      <td>Windows</td>\n",
       "      <td>751.17</td>\n",
       "      <td>256</td>\n",
       "      <td>SSD</td>\n",
       "    </tr>\n",
       "    <tr>\n",
       "      <th>4</th>\n",
       "      <td>Razer</td>\n",
       "      <td>Intel i3</td>\n",
       "      <td>4</td>\n",
       "      <td>AMD Radeon RX 6600</td>\n",
       "      <td>16.0</td>\n",
       "      <td>3840x2160</td>\n",
       "      <td>5.7</td>\n",
       "      <td>3.38</td>\n",
       "      <td>Linux</td>\n",
       "      <td>2059.83</td>\n",
       "      <td>256</td>\n",
       "      <td>SSD</td>\n",
       "    </tr>\n",
       "  </tbody>\n",
       "</table>\n",
       "</div>"
      ],
      "text/plain": [
       "    Brand    Processor  RAM (GB)                 GPU  Screen Size (inch)  \\\n",
       "0   Apple  AMD Ryzen 3        64     Nvidia GTX 1650                17.3   \n",
       "1   Razer  AMD Ryzen 7         4     Nvidia RTX 3080                14.0   \n",
       "2    Asus     Intel i5        32     Nvidia RTX 3060                13.3   \n",
       "3  Lenovo     Intel i5         4     Nvidia RTX 3080                13.3   \n",
       "4   Razer     Intel i3         4  AMD Radeon RX 6600                16.0   \n",
       "\n",
       "  Resolution  Battery Life (hours)  Weight (kg) Operating System  Price ($)  \\\n",
       "0  2560x1440                   8.9         1.42          FreeDOS    3997.07   \n",
       "1   1366x768                   9.4         2.57            Linux    1355.78   \n",
       "2  3840x2160                   8.5         1.74          FreeDOS    2673.07   \n",
       "3   1366x768                  10.5         3.10          Windows     751.17   \n",
       "4  3840x2160                   5.7         3.38            Linux    2059.83   \n",
       "\n",
       "   Storage_Capacity_GB Storage_Type  \n",
       "0                  512          SSD  \n",
       "1                 1024          SSD  \n",
       "2                 2048          SSD  \n",
       "3                  256          SSD  \n",
       "4                  256          SSD  "
      ]
     },
     "execution_count": 260,
     "metadata": {},
     "output_type": "execute_result"
    }
   ],
   "source": [
    "df_copy.head()"
   ]
  },
  {
   "cell_type": "markdown",
   "metadata": {
    "id": "iiv9rS9wjPIF"
   },
   "source": [
    "<br>\n",
    "<br>\n",
    "<div dir=\"rtl\">\n",
    "    <font size=4>\n",
    "        <li>پردازش Resolution</li>\n",
    "    </font>\n",
    "    <font size=4>\n",
    "        <li>\n",
    "            یک ویژگی عددی جدید \"Resolution_Pixels\" ایجاد کنید\n",
    "        </li>\n",
    "        <li>\n",
    "            <font size=3 color=\"red\"> راهنمایی: </font>رزولوشن را به دو مقدار جداگانه تبدیل کنید و از آن برای استخراج یک ویژگی عددی که میزان کلی پیکسل‌ها را نشان می‌دهد، استفاده کنید.\n",
    "        </li>\n",
    "    </font>\n",
    "</div>\n",
    "<br>"
   ]
  },
  {
   "cell_type": "code",
   "execution_count": 264,
   "metadata": {
    "id": "ez0jUsheUgUt"
   },
   "outputs": [],
   "source": [
    "# TODO: متدی برای هندل کردن رزولوشن تصویر بنویسید\n",
    "def parse_resolution(resolution_str):\n",
    "    m = re.match(r'^(\\d+)x(\\d+)$', resolution_str)\n",
    "    w,h = map(int, m.group(1,2))\n",
    "    return w*h\n",
    "\n",
    "df_copy['Resolution_Pixels'] = df_copy['Resolution'].apply(parse_resolution)\n",
    "df_copy.drop(columns=['Resolution'], inplace=True)"
   ]
  },
  {
   "cell_type": "code",
   "execution_count": 265,
   "metadata": {},
   "outputs": [
    {
     "data": {
      "text/html": [
       "<div>\n",
       "<style scoped>\n",
       "    .dataframe tbody tr th:only-of-type {\n",
       "        vertical-align: middle;\n",
       "    }\n",
       "\n",
       "    .dataframe tbody tr th {\n",
       "        vertical-align: top;\n",
       "    }\n",
       "\n",
       "    .dataframe thead th {\n",
       "        text-align: right;\n",
       "    }\n",
       "</style>\n",
       "<table border=\"1\" class=\"dataframe\">\n",
       "  <thead>\n",
       "    <tr style=\"text-align: right;\">\n",
       "      <th></th>\n",
       "      <th>Brand</th>\n",
       "      <th>Processor</th>\n",
       "      <th>RAM (GB)</th>\n",
       "      <th>GPU</th>\n",
       "      <th>Screen Size (inch)</th>\n",
       "      <th>Battery Life (hours)</th>\n",
       "      <th>Weight (kg)</th>\n",
       "      <th>Operating System</th>\n",
       "      <th>Price ($)</th>\n",
       "      <th>Storage_Capacity_GB</th>\n",
       "      <th>Storage_Type</th>\n",
       "      <th>Resolution_Pixels</th>\n",
       "    </tr>\n",
       "  </thead>\n",
       "  <tbody>\n",
       "    <tr>\n",
       "      <th>0</th>\n",
       "      <td>Apple</td>\n",
       "      <td>AMD Ryzen 3</td>\n",
       "      <td>64</td>\n",
       "      <td>Nvidia GTX 1650</td>\n",
       "      <td>17.3</td>\n",
       "      <td>8.9</td>\n",
       "      <td>1.42</td>\n",
       "      <td>FreeDOS</td>\n",
       "      <td>3997.07</td>\n",
       "      <td>512</td>\n",
       "      <td>SSD</td>\n",
       "      <td>3686400</td>\n",
       "    </tr>\n",
       "    <tr>\n",
       "      <th>1</th>\n",
       "      <td>Razer</td>\n",
       "      <td>AMD Ryzen 7</td>\n",
       "      <td>4</td>\n",
       "      <td>Nvidia RTX 3080</td>\n",
       "      <td>14.0</td>\n",
       "      <td>9.4</td>\n",
       "      <td>2.57</td>\n",
       "      <td>Linux</td>\n",
       "      <td>1355.78</td>\n",
       "      <td>1024</td>\n",
       "      <td>SSD</td>\n",
       "      <td>1049088</td>\n",
       "    </tr>\n",
       "    <tr>\n",
       "      <th>2</th>\n",
       "      <td>Asus</td>\n",
       "      <td>Intel i5</td>\n",
       "      <td>32</td>\n",
       "      <td>Nvidia RTX 3060</td>\n",
       "      <td>13.3</td>\n",
       "      <td>8.5</td>\n",
       "      <td>1.74</td>\n",
       "      <td>FreeDOS</td>\n",
       "      <td>2673.07</td>\n",
       "      <td>2048</td>\n",
       "      <td>SSD</td>\n",
       "      <td>8294400</td>\n",
       "    </tr>\n",
       "    <tr>\n",
       "      <th>3</th>\n",
       "      <td>Lenovo</td>\n",
       "      <td>Intel i5</td>\n",
       "      <td>4</td>\n",
       "      <td>Nvidia RTX 3080</td>\n",
       "      <td>13.3</td>\n",
       "      <td>10.5</td>\n",
       "      <td>3.10</td>\n",
       "      <td>Windows</td>\n",
       "      <td>751.17</td>\n",
       "      <td>256</td>\n",
       "      <td>SSD</td>\n",
       "      <td>1049088</td>\n",
       "    </tr>\n",
       "    <tr>\n",
       "      <th>4</th>\n",
       "      <td>Razer</td>\n",
       "      <td>Intel i3</td>\n",
       "      <td>4</td>\n",
       "      <td>AMD Radeon RX 6600</td>\n",
       "      <td>16.0</td>\n",
       "      <td>5.7</td>\n",
       "      <td>3.38</td>\n",
       "      <td>Linux</td>\n",
       "      <td>2059.83</td>\n",
       "      <td>256</td>\n",
       "      <td>SSD</td>\n",
       "      <td>8294400</td>\n",
       "    </tr>\n",
       "  </tbody>\n",
       "</table>\n",
       "</div>"
      ],
      "text/plain": [
       "    Brand    Processor  RAM (GB)                 GPU  Screen Size (inch)  \\\n",
       "0   Apple  AMD Ryzen 3        64     Nvidia GTX 1650                17.3   \n",
       "1   Razer  AMD Ryzen 7         4     Nvidia RTX 3080                14.0   \n",
       "2    Asus     Intel i5        32     Nvidia RTX 3060                13.3   \n",
       "3  Lenovo     Intel i5         4     Nvidia RTX 3080                13.3   \n",
       "4   Razer     Intel i3         4  AMD Radeon RX 6600                16.0   \n",
       "\n",
       "   Battery Life (hours)  Weight (kg) Operating System  Price ($)  \\\n",
       "0                   8.9         1.42          FreeDOS    3997.07   \n",
       "1                   9.4         2.57            Linux    1355.78   \n",
       "2                   8.5         1.74          FreeDOS    2673.07   \n",
       "3                  10.5         3.10          Windows     751.17   \n",
       "4                   5.7         3.38            Linux    2059.83   \n",
       "\n",
       "   Storage_Capacity_GB Storage_Type  Resolution_Pixels  \n",
       "0                  512          SSD            3686400  \n",
       "1                 1024          SSD            1049088  \n",
       "2                 2048          SSD            8294400  \n",
       "3                  256          SSD            1049088  \n",
       "4                  256          SSD            8294400  "
      ]
     },
     "execution_count": 265,
     "metadata": {},
     "output_type": "execute_result"
    }
   ],
   "source": [
    "df_copy.head()"
   ]
  },
  {
   "cell_type": "markdown",
   "metadata": {
    "id": "UlTMsnE4uR8q"
   },
   "source": [
    "<br>\n",
    "<br>\n",
    "<div dir=\"rtl\">\n",
    "    <font size=4>\n",
    "        <li>پردازش GPU و Processor</li>\n",
    "    </font>\n",
    "    <font size=4>\n",
    "        <li>\n",
    "            بهترین روش برای پردازش این دو ویژگی پیدا کنید. از آنجایی که این دو ویژگی دسته ایی (Categorical) هستند باید بهترین روش برای پردازش و استخراج ویژگی از انها را پیدا کنید. در مراحل بعدی ما نیاز داریم که به این دو ویژگی را به ویژگی های عددی تبدیل کنیم و اکر تعداد ویژگی های استخراج شده از آنها زیاد باشد ممکن است باعث افزایش بیش از حد پیچیدگی در داده های آموزش و تست و در نهایت Overfit شدن مدل شود.\n",
    "        </li>\n",
    "        <li>\n",
    "            <font size=4 color=\"red\"> راهنمایی: </font>برند و مدل ها در مقادیر ها را به‌عنوان دو ویژگی جداگانه در نظر بگیرید.\n",
    "        </li>\n",
    "    </font>\n",
    "</div>\n",
    "<br>"
   ]
  },
  {
   "cell_type": "code",
   "execution_count": 270,
   "metadata": {
    "id": "LOnm4JcD-x0B"
   },
   "outputs": [],
   "source": [
    "# TODO متدی برای مدیریت ویژگی های GPU و Processor بنویسید.\n",
    "def parse_processor(processor_str):\n",
    "    m = re.match(r'^([\\w\\W]+)\\si?(\\d)$', processor_str)\n",
    "    brand, gen = m.group(1,2)\n",
    "    return brand, int(gen)\n",
    "\n",
    "df_copy['Processor_Brand'], df_copy['Processor_Generation'] = zip(*df_copy['Processor'].apply(parse_processor))\n",
    "df_copy.drop(columns=['Processor'], inplace=True)"
   ]
  },
  {
   "cell_type": "code",
   "execution_count": 275,
   "metadata": {},
   "outputs": [],
   "source": [
    "def parse_gpu(gpu_str):\n",
    "    m = re.match(r'^([\\w\\W]+?)\\s?(\\d*)$', gpu_str)\n",
    "    brand, model = m.group(1,2)\n",
    "    return brand, int(model) if model else 0\n",
    "\n",
    "df_copy['GPU_Brand'], df_copy['GPU_Model'] = zip(*df_copy['GPU'].apply(parse_gpu))\n",
    "df_copy.drop(columns=['GPU'], inplace=True)"
   ]
  },
  {
   "cell_type": "code",
   "execution_count": 276,
   "metadata": {
    "id": "8Ntmgc9y-xxO"
   },
   "outputs": [
    {
     "data": {
      "text/html": [
       "<div>\n",
       "<style scoped>\n",
       "    .dataframe tbody tr th:only-of-type {\n",
       "        vertical-align: middle;\n",
       "    }\n",
       "\n",
       "    .dataframe tbody tr th {\n",
       "        vertical-align: top;\n",
       "    }\n",
       "\n",
       "    .dataframe thead th {\n",
       "        text-align: right;\n",
       "    }\n",
       "</style>\n",
       "<table border=\"1\" class=\"dataframe\">\n",
       "  <thead>\n",
       "    <tr style=\"text-align: right;\">\n",
       "      <th></th>\n",
       "      <th>Brand</th>\n",
       "      <th>RAM (GB)</th>\n",
       "      <th>Screen Size (inch)</th>\n",
       "      <th>Battery Life (hours)</th>\n",
       "      <th>Weight (kg)</th>\n",
       "      <th>Operating System</th>\n",
       "      <th>Price ($)</th>\n",
       "      <th>Storage_Capacity_GB</th>\n",
       "      <th>Storage_Type</th>\n",
       "      <th>Resolution_Pixels</th>\n",
       "      <th>Processor_Brand</th>\n",
       "      <th>Processor_Generation</th>\n",
       "      <th>GPU_Brand</th>\n",
       "      <th>GPU_Model</th>\n",
       "    </tr>\n",
       "  </thead>\n",
       "  <tbody>\n",
       "    <tr>\n",
       "      <th>0</th>\n",
       "      <td>Apple</td>\n",
       "      <td>64</td>\n",
       "      <td>17.3</td>\n",
       "      <td>8.9</td>\n",
       "      <td>1.42</td>\n",
       "      <td>FreeDOS</td>\n",
       "      <td>3997.07</td>\n",
       "      <td>512</td>\n",
       "      <td>SSD</td>\n",
       "      <td>3686400</td>\n",
       "      <td>AMD Ryzen</td>\n",
       "      <td>3</td>\n",
       "      <td>Nvidia GTX</td>\n",
       "      <td>1650</td>\n",
       "    </tr>\n",
       "    <tr>\n",
       "      <th>1</th>\n",
       "      <td>Razer</td>\n",
       "      <td>4</td>\n",
       "      <td>14.0</td>\n",
       "      <td>9.4</td>\n",
       "      <td>2.57</td>\n",
       "      <td>Linux</td>\n",
       "      <td>1355.78</td>\n",
       "      <td>1024</td>\n",
       "      <td>SSD</td>\n",
       "      <td>1049088</td>\n",
       "      <td>AMD Ryzen</td>\n",
       "      <td>7</td>\n",
       "      <td>Nvidia RTX</td>\n",
       "      <td>3080</td>\n",
       "    </tr>\n",
       "    <tr>\n",
       "      <th>2</th>\n",
       "      <td>Asus</td>\n",
       "      <td>32</td>\n",
       "      <td>13.3</td>\n",
       "      <td>8.5</td>\n",
       "      <td>1.74</td>\n",
       "      <td>FreeDOS</td>\n",
       "      <td>2673.07</td>\n",
       "      <td>2048</td>\n",
       "      <td>SSD</td>\n",
       "      <td>8294400</td>\n",
       "      <td>Intel</td>\n",
       "      <td>5</td>\n",
       "      <td>Nvidia RTX</td>\n",
       "      <td>3060</td>\n",
       "    </tr>\n",
       "    <tr>\n",
       "      <th>3</th>\n",
       "      <td>Lenovo</td>\n",
       "      <td>4</td>\n",
       "      <td>13.3</td>\n",
       "      <td>10.5</td>\n",
       "      <td>3.10</td>\n",
       "      <td>Windows</td>\n",
       "      <td>751.17</td>\n",
       "      <td>256</td>\n",
       "      <td>SSD</td>\n",
       "      <td>1049088</td>\n",
       "      <td>Intel</td>\n",
       "      <td>5</td>\n",
       "      <td>Nvidia RTX</td>\n",
       "      <td>3080</td>\n",
       "    </tr>\n",
       "    <tr>\n",
       "      <th>4</th>\n",
       "      <td>Razer</td>\n",
       "      <td>4</td>\n",
       "      <td>16.0</td>\n",
       "      <td>5.7</td>\n",
       "      <td>3.38</td>\n",
       "      <td>Linux</td>\n",
       "      <td>2059.83</td>\n",
       "      <td>256</td>\n",
       "      <td>SSD</td>\n",
       "      <td>8294400</td>\n",
       "      <td>Intel</td>\n",
       "      <td>3</td>\n",
       "      <td>AMD Radeon RX</td>\n",
       "      <td>6600</td>\n",
       "    </tr>\n",
       "  </tbody>\n",
       "</table>\n",
       "</div>"
      ],
      "text/plain": [
       "    Brand  RAM (GB)  Screen Size (inch)  Battery Life (hours)  Weight (kg)  \\\n",
       "0   Apple        64                17.3                   8.9         1.42   \n",
       "1   Razer         4                14.0                   9.4         2.57   \n",
       "2    Asus        32                13.3                   8.5         1.74   \n",
       "3  Lenovo         4                13.3                  10.5         3.10   \n",
       "4   Razer         4                16.0                   5.7         3.38   \n",
       "\n",
       "  Operating System  Price ($)  Storage_Capacity_GB Storage_Type  \\\n",
       "0          FreeDOS    3997.07                  512          SSD   \n",
       "1            Linux    1355.78                 1024          SSD   \n",
       "2          FreeDOS    2673.07                 2048          SSD   \n",
       "3          Windows     751.17                  256          SSD   \n",
       "4            Linux    2059.83                  256          SSD   \n",
       "\n",
       "   Resolution_Pixels Processor_Brand  Processor_Generation      GPU_Brand  \\\n",
       "0            3686400       AMD Ryzen                     3     Nvidia GTX   \n",
       "1            1049088       AMD Ryzen                     7     Nvidia RTX   \n",
       "2            8294400           Intel                     5     Nvidia RTX   \n",
       "3            1049088           Intel                     5     Nvidia RTX   \n",
       "4            8294400           Intel                     3  AMD Radeon RX   \n",
       "\n",
       "   GPU_Model  \n",
       "0       1650  \n",
       "1       3080  \n",
       "2       3060  \n",
       "3       3080  \n",
       "4       6600  "
      ]
     },
     "execution_count": 276,
     "metadata": {},
     "output_type": "execute_result"
    }
   ],
   "source": [
    "df_copy.head()"
   ]
  },
  {
   "cell_type": "code",
   "execution_count": 277,
   "metadata": {
    "scrolled": false
   },
   "outputs": [
    {
     "name": "stdout",
     "output_type": "stream",
     "text": [
      "<class 'pandas.core.frame.DataFrame'>\n",
      "RangeIndex: 11768 entries, 0 to 11767\n",
      "Data columns (total 14 columns):\n",
      " #   Column                Non-Null Count  Dtype  \n",
      "---  ------                --------------  -----  \n",
      " 0   Brand                 11768 non-null  object \n",
      " 1   RAM (GB)              11768 non-null  int64  \n",
      " 2   Screen Size (inch)    11768 non-null  float64\n",
      " 3   Battery Life (hours)  11768 non-null  float64\n",
      " 4   Weight (kg)           11768 non-null  float64\n",
      " 5   Operating System      11768 non-null  object \n",
      " 6   Price ($)             11768 non-null  float64\n",
      " 7   Storage_Capacity_GB   11768 non-null  int64  \n",
      " 8   Storage_Type          11768 non-null  object \n",
      " 9   Resolution_Pixels     11768 non-null  int64  \n",
      " 10  Processor_Brand       11768 non-null  object \n",
      " 11  Processor_Generation  11768 non-null  int64  \n",
      " 12  GPU_Brand             11768 non-null  object \n",
      " 13  GPU_Model             11768 non-null  int64  \n",
      "dtypes: float64(4), int64(5), object(5)\n",
      "memory usage: 1.3+ MB\n"
     ]
    }
   ],
   "source": [
    "df_copy.info()"
   ]
  },
  {
   "cell_type": "markdown",
   "metadata": {
    "id": "zlV4q0yRY52F"
   },
   "source": [
    "<br>\n",
    "<br>\n",
    "<div dir=\"rtl\">\n",
    "    <font size=4>\n",
    "        <li>پردازش Price($)</li>\n",
    "    </font>\n",
    "    <font size=4>\n",
    "        <li>\n",
    "            این ویژگی را کامل بررسی کنید و توضیح دهید که به چه دلیل به چه پیش پردازش هایی نیاز دارد. از انجایی که این ویژگی هدف است , باید دقت زیادی داشته باشید.\n",
    "        </li>\n",
    "    </font>\n",
    "</div>\n",
    "<br>"
   ]
  },
  {
   "cell_type": "code",
   "execution_count": 278,
   "metadata": {
    "id": "qbv096hnHzin"
   },
   "outputs": [
    {
     "data": {
      "text/plain": [
       "1.763708171525977"
      ]
     },
     "execution_count": 278,
     "metadata": {},
     "output_type": "execute_result"
    }
   ],
   "source": [
    "# TODO: ویژگی هدف را بررسی و پیش پردازش های مورد نیاز را روی آن اعمال کنید.\n",
    "df_copy['Price ($)'].skew()"
   ]
  },
  {
   "cell_type": "markdown",
   "metadata": {},
   "source": [
    "<div dir=\"rtl\">\n",
    "    همان طور که قبلا گفته شد، با توجه به اینکه میزان چولگی داده‌ها زیاد است، می‌توان با تبدیل لگاریتمی یا boxcox این مورد را برطرف کرد. در اینجا از تبدیل boxcox استفاده می‌کنیم.\n",
    "</div>"
   ]
  },
  {
   "cell_type": "code",
   "execution_count": 281,
   "metadata": {},
   "outputs": [
    {
     "data": {
      "text/plain": [
       "0.0040799108166475525"
      ]
     },
     "execution_count": 281,
     "metadata": {},
     "output_type": "execute_result"
    }
   ],
   "source": [
    "from scipy.stats import boxcox\n",
    "df_copy['Price ($)'] = boxcox(df_copy['Price ($)'])[0]\n",
    "df_copy['Price ($)'].skew()"
   ]
  },
  {
   "cell_type": "markdown",
   "metadata": {},
   "source": [
    "<div dir=\"rtl\">\n",
    "    همان طور که مشاهده می‌شود میزان چولگی داده‌ها بسیار کمتر و نزدیک به صفر شد.\n",
    "</div>"
   ]
  },
  {
   "cell_type": "markdown",
   "metadata": {
    "id": "-F7zn6WC-yL8"
   },
   "source": [
    "<br>\n",
    "<br>\n",
    "<div dir=\"rtl\">\n",
    "    <font size=4>\n",
    "        <li>Encoding ویژگی های دسته ایی (Categorical)</li>\n",
    "    </font>\n",
    "    <font size=4>\n",
    "        <li>\n",
    "            ویژگی‌های دسته‌ای را به مقادیر عددی تبدیل کنید. روش‌های مختلفی برای این کار وجود دارد، از جمله One-Hot Encoding, Ordinal Encoding, Target Encoding, Binary Encoding, Hashing Encoding و ... . انتخاب روش مناسب اهمیت زیادی دارد، زیرا برخی روش‌ها ممکن است تعداد ویژگی‌ها را به‌شدت افزایش داده و منجر به پیچیدگی مدل یا Overfitting شوند. بهترین روش را بر اساس تعداد دسته‌ها و تأثیر آن‌ها بر مدل انتخاب کنید.\n",
    "        </li>\n",
    "    </font>\n",
    "</div>\n",
    "<br>"
   ]
  },
  {
   "cell_type": "code",
   "execution_count": 284,
   "metadata": {},
   "outputs": [
    {
     "data": {
      "text/plain": [
       "Brand                      10\n",
       "RAM (GB)                    5\n",
       "Screen Size (inch)          5\n",
       "Battery Life (hours)       81\n",
       "Weight (kg)               231\n",
       "Operating System            4\n",
       "Price ($)               11558\n",
       "Storage_Capacity_GB         4\n",
       "Storage_Type                2\n",
       "Resolution_Pixels           4\n",
       "Processor_Brand             2\n",
       "Processor_Generation        4\n",
       "GPU_Brand                   4\n",
       "GPU_Model                   7\n",
       "dtype: int64"
      ]
     },
     "execution_count": 284,
     "metadata": {},
     "output_type": "execute_result"
    }
   ],
   "source": [
    "df_copy.nunique()"
   ]
  },
  {
   "cell_type": "code",
   "execution_count": null,
   "metadata": {
    "id": "5TCWBYAvwm-Z"
   },
   "outputs": [],
   "source": [
    "# TODO: اگی نیاز به کتابخانه خاصی دارید , آنها را ایمپورت کنید\n"
   ]
  },
  {
   "cell_type": "code",
   "execution_count": null,
   "metadata": {
    "id": "stKrehmrkoZw"
   },
   "outputs": [],
   "source": [
    "# TODO : ویژگی های دسته ایی را هندل کنید\n",
    "\n"
   ]
  },
  {
   "cell_type": "code",
   "execution_count": null,
   "metadata": {
    "id": "YWM4xZlImHXk"
   },
   "outputs": [],
   "source": []
  },
  {
   "cell_type": "markdown",
   "metadata": {
    "id": "dM5EieV-1Hba"
   },
   "source": [
    "<div dir=\"rtl\">\n",
    "<font size=\"6\">\n",
    "    <li>\n",
    "    <strong> ساخت و آموزش مدل</strong>\n",
    "    </li>\n",
    "</font>"
   ]
  },
  {
   "cell_type": "markdown",
   "metadata": {
    "id": "RJezLZvh1WWP"
   },
   "source": [
    "<div dir=\"rtl\">\n",
    "    <font size=5> اهداف: </font>\n",
    "    <font size=4>\n",
    "        <li>\n",
    "        آموزش دو مدل RandomForest Regressor و XGBoostRegressor    \n",
    "        </li>\n",
    "        <li>\n",
    "        بررسی منحنی یادگیری هر دو مدل و بررسی عملکرد مدل ها با کمی جزئیات بیشتر\n",
    "        </li>\n",
    "        <li>\n",
    "        تحقیق, بررسی و انتخاب هایپرپارامتر ها به صورت دستی\n",
    "        </li>\n",
    "        <li>\n",
    "        ایجاد و ساخت Pipeline\n",
    "        </li>\n",
    "    </font>\n",
    "</div>\n",
    "<br>"
   ]
  },
  {
   "cell_type": "code",
   "execution_count": null,
   "metadata": {
    "id": "iJzKVfzC9OTn"
   },
   "outputs": [],
   "source": [
    "# TODO: در صورت نیاز کتابحانه XGBoost را نصب کنید.\n",
    "\n"
   ]
  },
  {
   "cell_type": "code",
   "execution_count": null,
   "metadata": {
    "id": "BTz0SIQ_0F7_"
   },
   "outputs": [],
   "source": [
    "# TODO: اگی نیاز به کتابخانه خاصی دارید , آنها را ایمپورت کنید\n",
    "\n"
   ]
  },
  {
   "cell_type": "markdown",
   "metadata": {
    "id": "vFmg7iEiW3Jf"
   },
   "source": [
    "<br>\n",
    "<div dir=\"rtl\">\n",
    "    <font size=4>پیش از آموزش مدل ها به 3 تابع زیر نیاز داریم:</font>\n",
    "    <font size=4>\n",
    "        <li>\n",
    "        تابعی که منحنی یادگیری را رسم کند.   \n",
    "        </li>\n",
    "        <li>\n",
    "        تابعی که مقادیر mse, rmse, r2 و mae را بر اساس مدل آموزش داده شده و مجموعه داده ها محاسبه کند.\n",
    "        </li>\n",
    "        <li>\n",
    "        تابعی که نمودار پراکندگی بین مقادیر پیش بینی شده و مقادیر واقعی را برای هر مجموعه داده ایی نشان دهد\n",
    "        </li>\n",
    "    </font>\n",
    "</div>\n",
    "<br>\n",
    "<br>"
   ]
  },
  {
   "cell_type": "markdown",
   "metadata": {
    "id": "zcJEl4SdXkAM"
   },
   "source": [
    "<br>\n",
    "<br>\n",
    "<div dir=\"rtl\">\n",
    "    <font size=4>\n",
    "        <li>تابع زیر را که برای منحنی یادگیری است کامل کنید.</li>\n",
    "    </font>\n",
    "    <font size=4 color=\"red\"> راهنمایی: </font>\n",
    "    <font size=4>     صورتی که با نوشتن این تابع مشکل دارید به پاسخ تمرین قبلی و منابع مطالعه داده شده مراجعه کنید.</font>\n",
    "</div>"
   ]
  },
  {
   "cell_type": "code",
   "execution_count": null,
   "metadata": {
    "id": "OfyQ9bTQ1ZTC"
   },
   "outputs": [],
   "source": [
    "# TODO: متد منحنی یادگیری را بنویسید\n",
    "def plot_learning_curve(model, X, y, model_name):\n",
    "    pass\n"
   ]
  },
  {
   "cell_type": "markdown",
   "metadata": {
    "id": "zZRK7HopX24y"
   },
   "source": [
    "<br>\n",
    "<br>\n",
    "<div dir=\"rtl\">\n",
    "    <font size=4>\n",
    "        <li>\n",
    "        تابع زیر که برای محاسبه مقادیر mse, rmse و ...است را کامل کنید.\n",
    "        </li>\n",
    "            این تابع برای محاسبه و نمایش معیارهای ارزیابی عملکرد مدل (MSE، RMSE، MAE و R²) با استفاده از مقادیر واقعی و پیش‌بینی شده طراحی شده است. خروجی‌های محاسبه شده را نمایش داده و همچنین آنها را برای استفاده‌های بعدی برمی‌گرداند. یعنی این تابع با دریافت مدل (Pipeline) و X, y و نوع مجموعه داده ایی (dataset_name) معیار های ارزیابی ذکر شده را محاسبه و بر می گرداند.\n",
    "    </font>\n",
    "</div>\n"
   ]
  },
  {
   "cell_type": "markdown",
   "metadata": {
    "id": "jWK5-0ZRsOcY"
   },
   "source": [
    "<div dir=\"rtl\">\n",
    "    <font size=\"4\">\n",
    "        <strong>توضیحات پارامترها برای تابع <code>evaluate_model</code>:</strong>\n",
    "    </font>\n",
    "    <br><br>\n",
    "    <font size=\"4\">\n",
    "        <strong>pipeline:</strong> مدل یا پایپلاینی که می‌خواهیم ارزیابی کنیم و باید متد <code>predict</code> داشته باشد.\n",
    "    </font>\n",
    "    <br>\n",
    "    <font size=\"4\">\n",
    "        <strong>X:</strong> داده‌های ویژگی یا متغیرهای مستقل که به مدل ارسال می‌شوند تا پیش‌بینی انجام شود.\n",
    "    </font>\n",
    "    <br>\n",
    "    <font size=\"4\">\n",
    "        <strong>y:</strong> مقادیر واقعی یا متغیر هدف که برای محاسبه خطای پیش‌بینی با خروجی مدل مقایسه می‌شوند.\n",
    "    </font>\n",
    "    <br>\n",
    "    <font size=\"4\">\n",
    "        <strong>dataset_name:</strong> نام مجموعه داده (مثل \"train\"، \"validation\" یا \"test\") که در خروجی نمایش داده می‌شود تا مشخص شود معیارهای ارزیابی مربوط به کدام بخش داده است. مثل استفاده از این تابع:\n",
    "    </font>\n",
    "</div>\n",
    "\n",
    "```python\n",
    "evaluate_model(pipeline, X_train, y_train, \"Train\")\n",
    "evaluate_model(pipeline, X_test, y_test, \"Test\")\n",
    "```\n",
    "\n",
    "<div dir=\"rtl\">\n",
    "    <font size=\"4\">\n",
    "        و خروجی نمونه از این تابع:\n",
    "    </font>\n",
    "</div>\n",
    "\n",
    "```python\n",
    "Model Evaluation On Sets: Train:\n",
    "Mean Squared Error (MSE): 0.226\n",
    "Root Mean Squared Error (RMSE): 0.1149\n",
    "Mean Absolute Error (MAE): 0.1381\n",
    "R-squared (R²): 0.9999\n",
    "```\n",
    "\n",
    "\n",
    "<br>\n",
    "<br>"
   ]
  },
  {
   "cell_type": "code",
   "execution_count": null,
   "metadata": {
    "id": "SvPy3L-0NIIK"
   },
   "outputs": [],
   "source": [
    "# TODO: تابع برای محاسبه و نمایش معیارهای ارزیابی\n",
    "def evaluate_model(pipeline, X, y, dataset_name):\n",
    "    pass\n",
    "\n"
   ]
  },
  {
   "cell_type": "markdown",
   "metadata": {
    "id": "wZ0l8njbVEs0"
   },
   "source": [
    "<br>\n",
    "<br>\n",
    "<div dir=\"rtl\">\n",
    "    <font size=4>\n",
    "        <li>\n",
    "            تابع زیر را برای نمایش نمودار پراکندگی (Scatter) بین مقادیر واقعی (Actual) و پیش‌بینی‌شده (Predicted) کامل کنید.\n",
    "        </li>\n",
    "        <font size=4 color=\"red\">راهنمایی:</font>  \n",
    "        <br>\n",
    "        - ابتدا سه نمودار پراکندگی برای هر مجموعه داده (Train، Validation و Test) رسم کنید.\n",
    "        <br>\n",
    "        - در هر نمودار، مقادیر واقعی را در محور X و مقادیر پیش‌بینی‌شده را در محور Y قرار دهید.\n",
    "        <br>\n",
    "        - یک خط قرمز عمودی (خطی که پیش‌بینی‌های درست را نشان دهد) رسم کنید که از پایین تا بالا کشیده شده و مقادیر واقعی را با پیش‌بینی‌ها مقایسه کند.\n",
    "        <br>\n",
    "        - پس از رسم نمودارهای پراکندگی، یک نمودار دیگر رسم کنید که توزیع خطاها (اختلاف بین مقادیر واقعی و پیش‌بینی‌شده) برای مجموعه داده‌ی Test را نشان دهد.\n",
    "        <br>\n",
    "        - از رنگ‌ها و عنوان‌های مناسب برای هر نمودار استفاده کنید تا نتایج به وضوح قابل درک باشند.\n",
    "    </font>\n",
    "</div>\n"
   ]
  },
  {
   "cell_type": "code",
   "execution_count": null,
   "metadata": {
    "id": "PYb0CM5HT0V2"
   },
   "outputs": [],
   "source": [
    "# TODO: نمایش نمودار پراکندگی بین مقادیر واقعی و پیش‌بینی شده\n",
    "def plot_prediction_scatter():\n",
    "    pass\n",
    "\n"
   ]
  },
  {
   "cell_type": "markdown",
   "metadata": {
    "id": "1vL2W4NZ-r7z"
   },
   "source": [
    "<br>\n",
    "<br>\n",
    "<div dir=\"rtl\">\n",
    "    <h1>آموزش مدل RandomForest:<h1>\n",
    "        <font size=4>\n",
    "            <li>\n",
    "                    مدل RandomForest را آموزش دهید و به نکات زیر توجه داشته باشید:\n",
    "                        <br>\n",
    "                        1. از داده های Test, Train و Validation برای آموزش و\n",
    "                        ارزیابی مدل استفاده کنید.  \n",
    "                        <br>\n",
    "                        2. منحنی یادگیری مدل را بررسی و ارزیابی کنید.\n",
    "                        <br>\n",
    "                        3. مدل را از نظر Overfit/Underfit بررسی کنید.\n",
    "                        <br>\n",
    "                        4. سعی کنید ماهیت داده ها را بشناسید و بر اساس آن هایپر پارامتر ها را انتخاب کنید. در صورتی که به مشکلی مواجه شدید از روش های انتخاب و بهینه سازی ویژگی استفاده کنید.\n",
    "            </li>\n",
    "        </font>\n",
    "\n",
    "</div>\n",
    "<br>"
   ]
  },
  {
   "cell_type": "code",
   "execution_count": null,
   "metadata": {
    "id": "wCKEOtNTIF7g"
   },
   "outputs": [],
   "source": [
    "# TODO: آماده‌سازی داده‌ها با جدا کردن متغییر های وابسته و مستقل\n",
    "\n"
   ]
  },
  {
   "cell_type": "code",
   "execution_count": null,
   "metadata": {
    "id": "sTJ4acpJ3Cue"
   },
   "outputs": [],
   "source": [
    "# TODO تقسیم داده‌ها به سه بخش: train، validation و test\n",
    "\n"
   ]
  },
  {
   "cell_type": "code",
   "execution_count": null,
   "metadata": {
    "id": "ndnxkx0q3D8-"
   },
   "outputs": [],
   "source": [
    "# TODO: تغریف و آموزش پایپ لاین\n",
    "\n"
   ]
  },
  {
   "cell_type": "markdown",
   "metadata": {
    "id": "vgDBExnb3UP_"
   },
   "source": [
    "<br>\n",
    "<br>\n",
    "<div dir=\"rtl\">\n",
    "    <font size=4>\n",
    "        <li>\n",
    "            از تابع evaluate_model مدل استفاده کنید و عملکرد مدل بر روی داده های Train, Test و Validation را ارزیابی کنید\n",
    "        </li>\n",
    "    </font>\n",
    "</div>"
   ]
  },
  {
   "cell_type": "code",
   "execution_count": null,
   "metadata": {
    "id": "ZZepQdIv3LWO"
   },
   "outputs": [],
   "source": [
    "# TODO: ارزیابی مدل روی مجموعه‌های مختلف با استفاده از متد evaluate_model\n",
    "\n"
   ]
  },
  {
   "cell_type": "code",
   "execution_count": null,
   "metadata": {
    "id": "5rMoCFv-N8jg"
   },
   "outputs": [],
   "source": [
    "# TODO: منحنی یادگیری این مدل را بررسی کنید\n",
    "\n"
   ]
  },
  {
   "cell_type": "code",
   "execution_count": null,
   "metadata": {
    "id": "pmZCIiglOFYJ"
   },
   "outputs": [],
   "source": [
    "# TODO:  نمودار پراکندگی بین مقادیر پیش بینی شده و مقادیر واقعی\n",
    "\n"
   ]
  },
  {
   "cell_type": "markdown",
   "metadata": {
    "id": "FDiZVxUg4ti6"
   },
   "source": [
    "<br>\n",
    "<br>\n",
    "<div dir=\"rtl\">\n",
    "    <font size=4>\n",
    "        <li>\n",
    "        نتایج ارزیابی مدل را با استفاده از مقادیر MSE، RMSE، MAE و R² برای\n",
    "         داده‌های آموزشی، اعتبارسنجی و آزمایشی در قالب یک جدول نمایش دهید.خروجی نمونه به شکل زیر است:\n",
    "        </li>\n",
    "    </font>\n",
    "</div>"
   ]
  },
  {
   "cell_type": "markdown",
   "metadata": {
    "id": "fD04nxp05dLz"
   },
   "source": [
    "<a href=\"https://imgbb.com/\"><img src=\"https://i.ibb.co/yFdgRMxs/Screenshot-2025-03-12-183530.png\" alt=\"Screenshot-2025-03-12-183530\" border=\"0\"></a>"
   ]
  },
  {
   "cell_type": "code",
   "execution_count": null,
   "metadata": {
    "id": "LSQbvdvbOFVP"
   },
   "outputs": [],
   "source": [
    "\n"
   ]
  },
  {
   "cell_type": "markdown",
   "metadata": {
    "id": "AdDXUahZubnv"
   },
   "source": [
    "## ارزیابی:\n",
    "*ارزیابی خودتان از عملکرد مدل جنگل تصادفی و خروجی حاصل از آن را بنویسید*\n",
    "1. ....\n",
    "2. ....\n",
    "3. ....\n"
   ]
  },
  {
   "cell_type": "markdown",
   "metadata": {
    "id": "W4jglFGp_qFG"
   },
   "source": [
    "<br>\n",
    "<br>\n",
    "<div dir=\"rtl\">\n",
    "    <h1>آموزش مدل XGBoost:<h1>\n",
    "        <font size=4>\n",
    "            <li>\n",
    "                    مدل XGBoost را آموزش دهید و به نکات زیر توجه داشته باشید:\n",
    "                        <br>\n",
    "                        1. از داده های Test, Train و Validation برای آموزش و\n",
    "                        ارزیابی مدل استفاده کنید.  \n",
    "                        <br>\n",
    "                        2. منحنی یادگیری مدل را بررسی و ارزیابی کنید.\n",
    "                        <br>\n",
    "                        3. مدل را از نظر Overfit/Underfit بررسی کنید.\n",
    "                        <br>\n",
    "                        4. سعی کنید ماهیت داده ها را بشناسید و بر اساس آن هایپر پارامتر ها را انتخاب کنید. در صورتی که به مشکلی مواجه شدید از روش های انتخاب و بهینه سازی ویژگی استفاده کنید.\n",
    "            </li>\n",
    "        </font>\n",
    "\n",
    "</div>\n",
    "<br>"
   ]
  },
  {
   "cell_type": "code",
   "execution_count": null,
   "metadata": {
    "id": "UyZpXER96ApI"
   },
   "outputs": [],
   "source": [
    "# TODO: آماده‌سازی داده‌ها با جدا کردن متغییر های وابسته و مستقل\n",
    "\n"
   ]
  },
  {
   "cell_type": "code",
   "execution_count": null,
   "metadata": {
    "id": "s2cFz4eq6ApJ"
   },
   "outputs": [],
   "source": [
    "# TODO تقسیم داده‌ها به سه بخش: train، validation و test\n",
    "\n"
   ]
  },
  {
   "cell_type": "code",
   "execution_count": null,
   "metadata": {
    "id": "fdqQF4oH6ApJ"
   },
   "outputs": [],
   "source": [
    "# TODO: تغریف و آموزش پایپ لاین\n",
    "\n"
   ]
  },
  {
   "cell_type": "markdown",
   "metadata": {
    "id": "bMB5BHP36ApJ"
   },
   "source": [
    "<br>\n",
    "<br>\n",
    "<div dir=\"rtl\">\n",
    "    <font size=4>\n",
    "        <li>\n",
    "            از تابع evaluate_model مدل استفاده کنید و عملکرد مدل بر روی داده های Train, Test و Validation را ارزیابی کنید\n",
    "        </li>\n",
    "    </font>\n",
    "</div>"
   ]
  },
  {
   "cell_type": "code",
   "execution_count": null,
   "metadata": {
    "id": "DBdeWqVU6ApJ"
   },
   "outputs": [],
   "source": [
    "# TODO: ارزیابی مدل روی مجموعه‌های مختلف با استفاده از متد evaluate_model\n",
    "\n"
   ]
  },
  {
   "cell_type": "code",
   "execution_count": null,
   "metadata": {
    "id": "hICO1P6s6ApJ"
   },
   "outputs": [],
   "source": [
    "# TODO: منحنی یادگیری این مدل را بررسی کنید\n",
    "\n"
   ]
  },
  {
   "cell_type": "code",
   "execution_count": null,
   "metadata": {
    "id": "EV9nYUXj6ApJ"
   },
   "outputs": [],
   "source": [
    "# TODO:  نمودار پراکندگی بین مقادیر پیش بینی شده و مقادیر واقعی\n",
    "\n"
   ]
  },
  {
   "cell_type": "markdown",
   "metadata": {
    "id": "HZVEXysp6ApJ"
   },
   "source": [
    "<br>\n",
    "<br>\n",
    "<div dir=\"rtl\">\n",
    "    <font size=4>\n",
    "        <li>\n",
    "        نتایج ارزیابی مدل را با استفاده از مقادیر MSE، RMSE، MAE و R² برای\n",
    "         داده‌های آموزشی، اعتبارسنجی و آزمایشی در قالب یک جدول نمایش دهید.خروجی نمونه به شکل زیر است:\n",
    "        </li>\n",
    "    </font>\n",
    "</div>"
   ]
  },
  {
   "cell_type": "markdown",
   "metadata": {
    "id": "-sL0Azz96ApK"
   },
   "source": [
    "<a href=\"https://imgbb.com/\"><img src=\"https://i.ibb.co/yFdgRMxs/Screenshot-2025-03-12-183530.png\" alt=\"Screenshot-2025-03-12-183530\" border=\"0\"></a>"
   ]
  },
  {
   "cell_type": "code",
   "execution_count": null,
   "metadata": {
    "id": "tviKZ4Qo6ApK"
   },
   "outputs": [],
   "source": [
    "\n"
   ]
  },
  {
   "cell_type": "code",
   "execution_count": null,
   "metadata": {
    "id": "q3UUaKxS5zuV"
   },
   "outputs": [],
   "source": []
  },
  {
   "cell_type": "markdown",
   "metadata": {
    "id": "EWKxUEETvExi"
   },
   "source": [
    "## ارزیابی:\n",
    "*ارزیابی خودتان از عملکرد مدل و خروجی حاصل از آن را بنویسید*\n",
    "1. ....\n",
    "2. ....\n",
    "3. ....\n"
   ]
  },
  {
   "cell_type": "markdown",
   "metadata": {
    "id": "zN9KWOHchDSM"
   },
   "source": [
    "<div dir=\"rtl\">\n",
    "<font size=\"6\">\n",
    "    <li>\n",
    "        <strong>ذخیره سازی مدل</strong>\n",
    "    </li>\n",
    "    <font size=4>\n",
    "        <li>\n",
    "        از بین دو مدلی Random Forest و XGBoost آن مدلی که عملکرد بهتری دارد را ذخیره کنید\n",
    "        </li>\n",
    "    </font>\n",
    "</font>"
   ]
  },
  {
   "cell_type": "code",
   "execution_count": null,
   "metadata": {
    "id": "U-Iu9Devg_c5"
   },
   "outputs": [],
   "source": [
    "# TODO: مدل را ذخیره کنید\n",
    "\n"
   ]
  },
  {
   "cell_type": "code",
   "execution_count": null,
   "metadata": {
    "id": "S4f_lMCynUxz"
   },
   "outputs": [],
   "source": []
  }
 ],
 "metadata": {
  "colab": {
   "provenance": []
  },
  "kernelspec": {
   "display_name": "Python 3 (ipykernel)",
   "language": "python",
   "name": "python3"
  },
  "language_info": {
   "codemirror_mode": {
    "name": "ipython",
    "version": 3
   },
   "file_extension": ".py",
   "mimetype": "text/x-python",
   "name": "python",
   "nbconvert_exporter": "python",
   "pygments_lexer": "ipython3",
   "version": "3.11.2"
  }
 },
 "nbformat": 4,
 "nbformat_minor": 1
}
