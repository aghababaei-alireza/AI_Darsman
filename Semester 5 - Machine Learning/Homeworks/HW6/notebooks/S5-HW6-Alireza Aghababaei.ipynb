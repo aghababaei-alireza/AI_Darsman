{
 "cells": [
  {
   "cell_type": "markdown",
   "metadata": {
    "id": "mjgiMdY6O30T"
   },
   "source": [
    "<div dir=\"rtl\">\n",
    "    <font size=\"4\">\n",
    "        <h1><strong>پروژه تشخیص تقلب در تراکنش‌های بانکی با یادگیری ماشین</strong></h1>\n",
    "        <h2><strong>مقدمه</strong></h2>\n",
    "            در این پروژه، یک مدل یادگیری ماشین برای <strong>شناسایی تراکنش‌های جعلی</strong> توسعه داده می‌شود. سیستم‌های مالی امروزی نیاز به مدل‌هایی دارند که بتوانند تراکنش‌های مشکوک را در لحظه شناسایی کنند و از وقوع تقلب جلوگیری نمایند. هدف این پروژه، استفاده از الگوریتم‌های یادگیری ماشین برای ایجاد یک مدل قابل‌اتکا جهت شناسایی تراکنش‌های جعلی در بانکداری است.\n",
    "        <h2><strong>توضیح دیتاست</strong></h2>\n",
    "            مجموعه داده مورد استفاده شامل 20 ویژگی مختلف از تراکنش‌های بانکی است که شامل مشخصات حساب، نوع تراکنش، اطلاعات دستگاه، موقعیت جغرافیایی و سابقه تقلب می‌شود.\n",
    "            <br>\n",
    "            <h2><strong>وظیفه شما در این تمرین:</strong></h2>\n",
    "            <li>✅ <strong>پیش‌پردازش داده‌ها:</strong> شامل تبدیل مقادیر دسته‌ای به عددی با استفاده از <code>LabelEncoder</code>، حذف مقادیر نامعتبر و نرمال‌سازی داده‌ها.</li>\n",
    "            <li>✅ <strong>آموزش مدل:</strong> استفاده از مدل‌های یادگیری ماشین مانند <strong>GradientBoosting, LightGBM, AdaBoost، XGBoost</strong> برای تشخیص تقلب.</li>\n",
    "            <li>✅ <strong>ارزیابی مدل:</strong> استفاده از معیارهایی مانند <strong>Accuracy، Precision، Recall، F1-score و AUC-ROC</strong> برای بررسی عملکرد مدل.</li>\n",
    "            <li>✅ <strong>پیاده‌سازی رابط کاربری با Streamlit:</strong> کاربران می‌توانند اطلاعات تراکنش را وارد کنند و سیستم، جعلی یا معتبر بودن آن را پیش‌بینی کند.</li>\n",
    "            <li>✅ <strong>ذخیره و بارگذاری مدل:</strong> مدل آموزش‌دیده با فرمت <code>joblib</code> ذخیره و در برنامه Streamlit بارگذاری می‌شود.</li>\n",
    "            <br>\n",
    "            <h2><strong>متغیر هدف (Target Variable)</strong></h2>\n",
    "            متغیر هدف (<strong>Fraud_Label</strong>) مشخص می‌کند که آیا یک تراکنش جعلی است یا خیر:\n",
    "            <li><strong>Fraud_Label = 1:</strong> تراکنش جعلی است.</li>\n",
    "            <li><strong>Fraud_Label = 0:</strong> تراکنش معتبر است.</li>\n",
    "        <h2><strong>نحوه ارسال تمرین</strong></h2>\n",
    "            <li>📌 فایل‌های پروژه را در یک <strong>مخزن GitHub</strong> قرار دهید.</li>\n",
    "            <li>📌 لینک مخزن را ارسال کنید.</li>\n",
    "            🔴 <strong>اطمینان حاصل کنید که مخزن شما عمومی است تا امکان بررسی وجود داشته باشد.</strong>\n",
    "        <h2>ساختار پروژه</h2>\n",
    "        <p>این پروژه شامل پوشه‌ها و فایل‌های زیر است:</p>\n",
    "        <li><strong>فولدر <code>data/</code>:</strong> محل ذخیره سازی دیتاست</li>\n",
    "        <li><strong>فولدر <code>model/</code>:</strong> محل ذخیره سازی مدل آموزش داده شده و دیگر فایل‌های مربوط به مدل آموزش داده شده</li>\n",
    "        <li><strong>فولدر <code>notebook/</code>:</strong> محل ذخیره سازی فایل Jupyter</li>\n",
    "        <li><strong>فولدر <code>ui/</code>:</strong> محل ذخیره سازی کد Streamlit</li>\n",
    "        <li><strong>فایل <code>main.py</code>:</strong> اجرا برنامه اصلی</li>\n",
    "        <h3>توضیحات دقیق‌تر:</h3>\n",
    "        1. <strong>فولدر <code>data/</code>:</strong> در این فولدر شما باید دیتاست پروژه را قرار دهید. دیتاست شامل اطلاعات تراکنش‌های بانکی است که برای آموزش و ارزیابی مدل استفاده خواهد شد.\n",
    "        <br>\n",
    "        2. <strong>فولدر <code>model/</code>:</strong> این فولدر برای ذخیره مدل‌های آموزش دیده شما و دیگر فایل‌های مرتبط به مدل (مانند فایل‌های وزن یا پارامترهای مدل) است. مدل‌های مختلفی مثل <code>Logistic Regression</code>، <code>Random Forest</code> یا <code>XGBoost</code> می‌توانند در این فولدر ذخیره شوند.\n",
    "        <br>\n",
    "        3. <strong>فولدر <code>notebook/</code>:</strong> این فولدر برای نگهداری فایل‌های Jupyter Notebook است که می‌توانید در آن‌ها فرآیندهای مختلف مانند پیش‌پردازش داده‌ها، آموزش مدل‌ها و ارزیابی‌ها را انجام دهید. شما باید تمام مراحل تحلیل و آزمایش‌ها را در این فایل‌ها پیاده‌سازی کنید.\n",
    "        <br>\n",
    "        4. <strong>فولدر <code>ui/</code>:</strong> در این فولدر باید کدهای مربوط به رابط کاربری (UI) پروژه را که با استفاده از Streamlit ساخته می‌شود، ذخیره کنید. این کد به کاربران امکان می‌دهد تا داده‌های تراکنش را وارد کنند و مدل بتواند پیش‌بینی کند که آیا تراکنش جعلی است یا خیر.\n",
    "        <br>\n",
    "        5. <strong>فایل <code>main.py</code>:</strong> این فایل وظیفه اجرای برنامه اصلی را بر عهده دارد. زمانی که همه فایل‌ها و کدها آماده شدند، با اجرای این فایل باید برنامه به درستی شروع به کار کند و رابط کاربری Streamlit بارگذاری شود.\n",
    "        <br>\n",
    "        <h3>هدف:</h3>\n",
    "        هدف این است که پروژه‌تان به صورت منظم و سازماندهی شده باشد. این ساختار به شما کمک می‌کند تا پروژه را در یک چارچوب مرتب و قابل مدیریت پیش ببرید و هر بخش از پروژه را در جای مناسب خود قرار دهید. با رعایت این ساختار، هم خودتان می‌توانید به راحتی کدها و فایل‌ها را مدیریت کنید و هم برای همکاران یا داوران، پروژه شما قابل فهم و ارزیابی خواهد بود.\n",
    "        </font>\n",
    "</div>"
   ]
  },
  {
   "cell_type": "markdown",
   "metadata": {
    "id": "SpJij_LFy5g_"
   },
   "source": [
    "<div dir=\"rtl\">\n",
    "    <h2>راهنمای تمرین:<h2>\n",
    "    <p>\n",
    "        <font size=4>\n",
    "        این تمرین به گونه‌ای طراحی شده که شما باید کدهای خود را در قالب خاصی که از قبل مشخص شده، بنویسید. به این معنی که ممکن است بخشی از کد برای شما آماده باشد و شما باید فقط ادامه کد را بنویسید بدون اینکه آن قسمت از کد را تغییر دهید. این نوع تمرین برای کمک به شما طراحی شده تا در مراحل بعدی با چالش‌های پیچیده‌تری روبرو شوید که نیاز به مهارت‌های بیشتری دارند.\n",
    "        <br>\n",
    "        در این تمرین، در هر مرحله شما باید برداشت‌ها و تحلیل‌های خود را بنویسید. مثلاً اگر در کد شما نمودار یا جدولی از داده‌ها یا نتایج مدل‌ها به نمایش در می‌آید، شما باید توضیح دهید که آن‌ها چه معنی و کاربردی دارند. این تحلیل‌ها می‌تواند شامل بررسی تغییرات در داده‌ها، ارزیابی مدل‌ها، یا نتایج بهینه‌سازی‌ها باشد.\n",
    "        <br>\n",
    "        برای هر بخش، حداقل پنج نکته یا برداشت از نتایج یا داده‌ها باید بنویسید.\n",
    "        <br>\n",
    "            <li>\n",
    "            در قسمت ارزیابی , باید یافته ها و نکاتی که از تحلیل داده متوجه شده و دریافت کرده اید در قالب یک خلاصه گزارش , بنویسید.\n",
    "            </li>\n",
    "            <li>\n",
    "            برای هر نمودار یا جدول، تحلیل کنید که چه روندی را نشان می‌دهند یا آیا نکته خاصی برای بهبود مدل یا داده‌ها از آن‌ها قابل استخراج است.\n",
    "            </li>\n",
    "            <br>\n",
    "        مهم است که توجه داشته باشید شما باید فقط کدهای خود را اضافه کنید و قسمت‌هایی که از پیش نوشته شده‌اند، نباید تغییر کنند. هدف این است که شما بتوانید با استفاده از قالب و راهنمایی‌های داده شده، تمرین را به درستی تکمیل کنید. <font color='green'>در صورتی که اصلا نتوانستید متد های خواسته شده را پیاده سازی کنید , سعی کنید به روش خودتان به خروجی مورد نظر برسید.</font>\n",
    "        </font>\n",
    "    </p>\n",
    "</div>\n",
    "<br>\n",
    "<br>"
   ]
  },
  {
   "cell_type": "markdown",
   "metadata": {
    "id": "EcxBZ_donLNc"
   },
   "source": [
    "<div dir=\"rtl\">\n",
    "    <h2>توضیح متغیرهای دیتاست</h2>\n",
    "    <table border=\"1\" cellpadding=\"8\" cellspacing=\"0\">\n",
    "        <tr>\n",
    "            <th>ستون</th>\n",
    "            <th>توضیح کوتاه</th>\n",
    "            <th>نوع داده</th>\n",
    "        </tr>\n",
    "        <tr>\n",
    "            <td><b>Transaction_ID</b></td>\n",
    "            <td>شناسه تراکنش</td>\n",
    "            <td>object</td>\n",
    "        </tr>\n",
    "        <tr>\n",
    "            <td><b>User_ID</b></td>\n",
    "            <td>شناسه کاربر</td>\n",
    "            <td>object</td>\n",
    "        </tr>\n",
    "        <tr>\n",
    "            <td><b>Transaction_Amount</b></td>\n",
    "            <td>مقدار تراکنش</td>\n",
    "            <td>float64</td>\n",
    "        </tr>\n",
    "        <tr>\n",
    "            <td><b>Transaction_Type</b></td>\n",
    "            <td>نوع تراکنش (خرید، برداشت و …)</td>\n",
    "            <td>object</td>\n",
    "        </tr>\n",
    "        <tr>\n",
    "            <td><b>Timestamp</b></td>\n",
    "            <td>زمان تراکنش</td>\n",
    "            <td>object</td>\n",
    "        </tr>\n",
    "        <tr>\n",
    "            <td><b>Account_Balance</b></td>\n",
    "            <td>موجودی حساب کاربر در زمان تراکنش</td>\n",
    "            <td>float64</td>\n",
    "        </tr>\n",
    "        <tr>\n",
    "            <td><b>Device_Type</b></td>\n",
    "            <td>نوع دستگاهی که تراکنش از آن انجام شده است</td>\n",
    "            <td>object</td>\n",
    "        </tr>\n",
    "        <tr>\n",
    "            <td><b>Location</b></td>\n",
    "            <td>محل انجام تراکنش</td>\n",
    "            <td>object</td>\n",
    "        </tr>\n",
    "        <tr>\n",
    "            <td><b>Merchant_Category</b></td>\n",
    "            <td>دسته‌بندی فروشنده (خرید آنلاین، سوپرمارکت و …)</td>\n",
    "            <td>object</td>\n",
    "        </tr>\n",
    "        <tr>\n",
    "            <td><b>IP_Address_Flag</b></td>\n",
    "            <td>آیا آی‌پی آدرس مشابهی برای تراکنش‌ها وجود دارد؟</td>\n",
    "            <td>float64</td>\n",
    "        </tr>\n",
    "        <tr>\n",
    "            <td><b>Previous_Fraudulent_Activity</b></td>\n",
    "            <td>فعالیت تقلبی قبلی مرتبط با حساب</td>\n",
    "            <td>float64</td>\n",
    "        </tr>\n",
    "        <tr>\n",
    "            <td><b>Daily_Transaction_Count</b></td>\n",
    "            <td>تعداد تراکنش‌های انجام‌شده در روز</td>\n",
    "            <td>float64</td>\n",
    "        </tr>\n",
    "        <tr>\n",
    "            <td><b>Avg_Transaction_Amount_7d</b></td>\n",
    "            <td>مقدار میانگین تراکنش در ۷ روز گذشته</td>\n",
    "            <td>float64</td>\n",
    "        </tr>\n",
    "        <tr>\n",
    "            <td><b>Failed_Transaction_Count_7d</b></td>\n",
    "            <td>تعداد تراکنش‌های ناموفق در ۷ روز گذشته</td>\n",
    "            <td>float64</td>\n",
    "        </tr>\n",
    "        <tr>\n",
    "            <td><b>Card_Type</b></td>\n",
    "            <td>نوع کارت (ویزا، مستر کارت و …)</td>\n",
    "            <td>object</td>\n",
    "        </tr>\n",
    "        <tr>\n",
    "            <td><b>Card_Age</b></td>\n",
    "            <td>سن کارت (مدت زمان از صادر شدن کارت)</td>\n",
    "            <td>float64</td>\n",
    "        </tr>\n",
    "        <tr>\n",
    "            <td><b>Transaction_Distance</b></td>\n",
    "            <td>مسافت تراکنش از محل کاربر</td>\n",
    "            <td>float64</td>\n",
    "        </tr>\n",
    "        <tr>\n",
    "            <td><b>Authentication_Method</b></td>\n",
    "            <td>روش تایید هویت (کد ارسال شده، اثر انگشت و …)</td>\n",
    "            <td>object</td>\n",
    "        </tr>\n",
    "        <tr>\n",
    "            <td><b>Risk_Score</b></td>\n",
    "            <td>امتیاز ریسک تراکنش</td>\n",
    "            <td>float64</td>\n",
    "        </tr>\n",
    "        <tr>\n",
    "            <td><b>Is_Weekend</b></td>\n",
    "            <td>آیا تراکنش در روزهای تعطیل انجام شده است؟</td>\n",
    "            <td>float64</td>\n",
    "        </tr>\n",
    "        <tr>\n",
    "            <td><b>Fraud_Label</b></td>\n",
    "            <td>آیا تراکنش جعلی است؟ (1 برای جعلی، 0 برای غیرجعلی)</td>\n",
    "            <td>float64</td>\n",
    "        </tr>\n",
    "    </table>\n",
    "</div>\n",
    "<br><br><br>"
   ]
  },
  {
   "cell_type": "markdown",
   "metadata": {
    "id": "R4Cu4TwOO_Me"
   },
   "source": [
    "<br>\n",
    "<br>\n",
    "<div dir=\"rtl\">\n",
    "<font size=\"6\">\n",
    "    <li>\n",
    "    <strong>ارزیابی و شناخت دیتاست</strong>\n",
    "    </li>\n",
    "</font>\n",
    "<font size=4>\n",
    "    در این قدم، شما باید دیتاست را بررسی کرده و ساختار آن را درک کنید. بررسی کنید که چه متغیرهایی در دیتاست وجود دارند، نوع داده‌ها چیست و آیا داده‌ها گمشده یا نادرست هستند یا خیر. این مرحله به شما کمک می‌کند که به‌طور کامل با داده‌ها آشنا شوید و مشکلات احتمالی را شناسایی کنید.\n",
    "</font>"
   ]
  },
  {
   "cell_type": "code",
   "execution_count": 2,
   "metadata": {
    "id": "bZ1QvO2TN1mH"
   },
   "outputs": [],
   "source": [
    "# TODO: کتابخانه ها را ایمپورت کنید\n",
    "import numpy as np\n",
    "import pandas as pd\n",
    "import seaborn as sns\n",
    "import matplotlib.pyplot as plt"
   ]
  },
  {
   "cell_type": "code",
   "execution_count": 3,
   "metadata": {
    "id": "GavWUGGwM96u"
   },
   "outputs": [],
   "source": [
    "# TODO: دیتافریم را لود کنید\n",
    "with open(\"Semester 5 - Machine Learning/Homeworks/HW6/data/fraud_dataset_mod.csv\", \"r\") as f:\n",
    "    df = pd.read_csv(f)"
   ]
  },
  {
   "cell_type": "code",
   "execution_count": 4,
   "metadata": {
    "id": "V9wVi4FZOaH7"
   },
   "outputs": [
    {
     "data": {
      "text/html": [
       "<div>\n",
       "<style scoped>\n",
       "    .dataframe tbody tr th:only-of-type {\n",
       "        vertical-align: middle;\n",
       "    }\n",
       "\n",
       "    .dataframe tbody tr th {\n",
       "        vertical-align: top;\n",
       "    }\n",
       "\n",
       "    .dataframe thead th {\n",
       "        text-align: right;\n",
       "    }\n",
       "</style>\n",
       "<table border=\"1\" class=\"dataframe\">\n",
       "  <thead>\n",
       "    <tr style=\"text-align: right;\">\n",
       "      <th></th>\n",
       "      <th>Transaction_ID</th>\n",
       "      <th>User_ID</th>\n",
       "      <th>Transaction_Amount</th>\n",
       "      <th>Transaction_Type</th>\n",
       "      <th>Timestamp</th>\n",
       "      <th>Account_Balance</th>\n",
       "      <th>Device_Type</th>\n",
       "      <th>Location</th>\n",
       "      <th>Merchant_Category</th>\n",
       "      <th>IP_Address_Flag</th>\n",
       "      <th>...</th>\n",
       "      <th>Daily_Transaction_Count</th>\n",
       "      <th>Avg_Transaction_Amount_7d</th>\n",
       "      <th>Failed_Transaction_Count_7d</th>\n",
       "      <th>Card_Type</th>\n",
       "      <th>Card_Age</th>\n",
       "      <th>Transaction_Distance</th>\n",
       "      <th>Authentication_Method</th>\n",
       "      <th>Risk_Score</th>\n",
       "      <th>Is_Weekend</th>\n",
       "      <th>Fraud_Label</th>\n",
       "    </tr>\n",
       "  </thead>\n",
       "  <tbody>\n",
       "    <tr>\n",
       "      <th>0</th>\n",
       "      <td>TXN_33553</td>\n",
       "      <td>USER_1834</td>\n",
       "      <td>39.79</td>\n",
       "      <td>POS</td>\n",
       "      <td>2023-08-14 19:30:00</td>\n",
       "      <td>93213.17</td>\n",
       "      <td>Laptop</td>\n",
       "      <td>Sydney</td>\n",
       "      <td>NaN</td>\n",
       "      <td>0.0</td>\n",
       "      <td>...</td>\n",
       "      <td>7.0</td>\n",
       "      <td>437.63</td>\n",
       "      <td>3.0</td>\n",
       "      <td>Amex</td>\n",
       "      <td>65.0</td>\n",
       "      <td>883.17</td>\n",
       "      <td>Biometric</td>\n",
       "      <td>0.8494</td>\n",
       "      <td>0.0</td>\n",
       "      <td>0.0</td>\n",
       "    </tr>\n",
       "    <tr>\n",
       "      <th>1</th>\n",
       "      <td>TXN_9427</td>\n",
       "      <td>USER_7875</td>\n",
       "      <td>1.19</td>\n",
       "      <td>Bank Transfer</td>\n",
       "      <td>2023-06-07 04:01:00</td>\n",
       "      <td>75725.25</td>\n",
       "      <td>Mobile</td>\n",
       "      <td>New York</td>\n",
       "      <td>Clothing</td>\n",
       "      <td>0.0</td>\n",
       "      <td>...</td>\n",
       "      <td>13.0</td>\n",
       "      <td>478.76</td>\n",
       "      <td>4.0</td>\n",
       "      <td>Mastercard</td>\n",
       "      <td>186.0</td>\n",
       "      <td>2203.36</td>\n",
       "      <td>Password</td>\n",
       "      <td>0.0959</td>\n",
       "      <td>0.0</td>\n",
       "      <td>1.0</td>\n",
       "    </tr>\n",
       "    <tr>\n",
       "      <th>2</th>\n",
       "      <td>TXN_199</td>\n",
       "      <td>USER_2734</td>\n",
       "      <td>28.96</td>\n",
       "      <td>Online</td>\n",
       "      <td>2023-06-20 15:25:00</td>\n",
       "      <td>1588.96</td>\n",
       "      <td>Tablet</td>\n",
       "      <td>Mumbai</td>\n",
       "      <td>Restaurants</td>\n",
       "      <td>0.0</td>\n",
       "      <td>...</td>\n",
       "      <td>14.0</td>\n",
       "      <td>50.01</td>\n",
       "      <td>4.0</td>\n",
       "      <td>Visa</td>\n",
       "      <td>226.0</td>\n",
       "      <td>1909.29</td>\n",
       "      <td>Biometric</td>\n",
       "      <td>0.8400</td>\n",
       "      <td>NaN</td>\n",
       "      <td>1.0</td>\n",
       "    </tr>\n",
       "    <tr>\n",
       "      <th>3</th>\n",
       "      <td>TXN_12447</td>\n",
       "      <td>USER_2617</td>\n",
       "      <td>254.32</td>\n",
       "      <td>ATM Withdrawal</td>\n",
       "      <td>2023-12-07 00:31:00</td>\n",
       "      <td>76807.20</td>\n",
       "      <td>Tablet</td>\n",
       "      <td>New York</td>\n",
       "      <td>Clothing</td>\n",
       "      <td>0.0</td>\n",
       "      <td>...</td>\n",
       "      <td>8.0</td>\n",
       "      <td>182.48</td>\n",
       "      <td>4.0</td>\n",
       "      <td>Visa</td>\n",
       "      <td>NaN</td>\n",
       "      <td>1311.86</td>\n",
       "      <td>OTP</td>\n",
       "      <td>0.7935</td>\n",
       "      <td>0.0</td>\n",
       "      <td>1.0</td>\n",
       "    </tr>\n",
       "    <tr>\n",
       "      <th>4</th>\n",
       "      <td>TXN_39489</td>\n",
       "      <td>USER_2014</td>\n",
       "      <td>31.28</td>\n",
       "      <td>POS</td>\n",
       "      <td>2023-11-11 23:44:00</td>\n",
       "      <td>92354.66</td>\n",
       "      <td>Mobile</td>\n",
       "      <td>Mumbai</td>\n",
       "      <td>Electronics</td>\n",
       "      <td>0.0</td>\n",
       "      <td>...</td>\n",
       "      <td>14.0</td>\n",
       "      <td>328.69</td>\n",
       "      <td>4.0</td>\n",
       "      <td>Mastercard</td>\n",
       "      <td>140.0</td>\n",
       "      <td>966.98</td>\n",
       "      <td>Password</td>\n",
       "      <td>0.3819</td>\n",
       "      <td>1.0</td>\n",
       "      <td>1.0</td>\n",
       "    </tr>\n",
       "  </tbody>\n",
       "</table>\n",
       "<p>5 rows × 21 columns</p>\n",
       "</div>"
      ],
      "text/plain": [
       "  Transaction_ID    User_ID  Transaction_Amount Transaction_Type  \\\n",
       "0      TXN_33553  USER_1834               39.79              POS   \n",
       "1       TXN_9427  USER_7875                1.19    Bank Transfer   \n",
       "2        TXN_199  USER_2734               28.96           Online   \n",
       "3      TXN_12447  USER_2617              254.32   ATM Withdrawal   \n",
       "4      TXN_39489  USER_2014               31.28              POS   \n",
       "\n",
       "             Timestamp  Account_Balance Device_Type  Location  \\\n",
       "0  2023-08-14 19:30:00         93213.17      Laptop    Sydney   \n",
       "1  2023-06-07 04:01:00         75725.25      Mobile  New York   \n",
       "2  2023-06-20 15:25:00          1588.96      Tablet    Mumbai   \n",
       "3  2023-12-07 00:31:00         76807.20      Tablet  New York   \n",
       "4  2023-11-11 23:44:00         92354.66      Mobile    Mumbai   \n",
       "\n",
       "  Merchant_Category  IP_Address_Flag  ...  Daily_Transaction_Count  \\\n",
       "0               NaN              0.0  ...                      7.0   \n",
       "1          Clothing              0.0  ...                     13.0   \n",
       "2       Restaurants              0.0  ...                     14.0   \n",
       "3          Clothing              0.0  ...                      8.0   \n",
       "4       Electronics              0.0  ...                     14.0   \n",
       "\n",
       "   Avg_Transaction_Amount_7d  Failed_Transaction_Count_7d   Card_Type  \\\n",
       "0                     437.63                          3.0        Amex   \n",
       "1                     478.76                          4.0  Mastercard   \n",
       "2                      50.01                          4.0        Visa   \n",
       "3                     182.48                          4.0        Visa   \n",
       "4                     328.69                          4.0  Mastercard   \n",
       "\n",
       "  Card_Age  Transaction_Distance  Authentication_Method Risk_Score  \\\n",
       "0     65.0                883.17              Biometric     0.8494   \n",
       "1    186.0               2203.36               Password     0.0959   \n",
       "2    226.0               1909.29              Biometric     0.8400   \n",
       "3      NaN               1311.86                    OTP     0.7935   \n",
       "4    140.0                966.98               Password     0.3819   \n",
       "\n",
       "   Is_Weekend  Fraud_Label  \n",
       "0         0.0          0.0  \n",
       "1         0.0          1.0  \n",
       "2         NaN          1.0  \n",
       "3         0.0          1.0  \n",
       "4         1.0          1.0  \n",
       "\n",
       "[5 rows x 21 columns]"
      ]
     },
     "execution_count": 4,
     "metadata": {},
     "output_type": "execute_result"
    }
   ],
   "source": [
    "# TODO : بررسی چند ردیف اول دیتافریم\n",
    "df.head(5)"
   ]
  },
  {
   "cell_type": "code",
   "execution_count": 5,
   "metadata": {
    "id": "aUhl8XI709WX"
   },
   "outputs": [
    {
     "name": "stdout",
     "output_type": "stream",
     "text": [
      "<class 'pandas.core.frame.DataFrame'>\n",
      "RangeIndex: 50000 entries, 0 to 49999\n",
      "Data columns (total 21 columns):\n",
      " #   Column                        Non-Null Count  Dtype  \n",
      "---  ------                        --------------  -----  \n",
      " 0   Transaction_ID                48896 non-null  object \n",
      " 1   User_ID                       49052 non-null  object \n",
      " 2   Transaction_Amount            49018 non-null  float64\n",
      " 3   Transaction_Type              49018 non-null  object \n",
      " 4   Timestamp                     49008 non-null  object \n",
      " 5   Account_Balance               48984 non-null  float64\n",
      " 6   Device_Type                   48977 non-null  object \n",
      " 7   Location                      49000 non-null  object \n",
      " 8   Merchant_Category             49025 non-null  object \n",
      " 9   IP_Address_Flag               49076 non-null  float64\n",
      " 10  Previous_Fraudulent_Activity  48969 non-null  float64\n",
      " 11  Daily_Transaction_Count       48971 non-null  float64\n",
      " 12  Avg_Transaction_Amount_7d     49004 non-null  float64\n",
      " 13  Failed_Transaction_Count_7d   49017 non-null  float64\n",
      " 14  Card_Type                     48988 non-null  object \n",
      " 15  Card_Age                      49040 non-null  float64\n",
      " 16  Transaction_Distance          48975 non-null  float64\n",
      " 17  Authentication_Method         48975 non-null  object \n",
      " 18  Risk_Score                    49018 non-null  float64\n",
      " 19  Is_Weekend                    49020 non-null  float64\n",
      " 20  Fraud_Label                   48969 non-null  float64\n",
      "dtypes: float64(12), object(9)\n",
      "memory usage: 8.0+ MB\n"
     ]
    }
   ],
   "source": [
    "# TODO: info دیتافریم را بررسی کنید\n",
    "df.info()"
   ]
  },
  {
   "cell_type": "code",
   "execution_count": 6,
   "metadata": {
    "id": "3Jr2cXamufZU"
   },
   "outputs": [
    {
     "data": {
      "text/plain": [
       "Transaction_ID                  1104\n",
       "User_ID                          948\n",
       "Transaction_Amount               982\n",
       "Transaction_Type                 982\n",
       "Timestamp                        992\n",
       "Account_Balance                 1016\n",
       "Device_Type                     1023\n",
       "Location                        1000\n",
       "Merchant_Category                975\n",
       "IP_Address_Flag                  924\n",
       "Previous_Fraudulent_Activity    1031\n",
       "Daily_Transaction_Count         1029\n",
       "Avg_Transaction_Amount_7d        996\n",
       "Failed_Transaction_Count_7d      983\n",
       "Card_Type                       1012\n",
       "Card_Age                         960\n",
       "Transaction_Distance            1025\n",
       "Authentication_Method           1025\n",
       "Risk_Score                       982\n",
       "Is_Weekend                       980\n",
       "Fraud_Label                     1031\n",
       "dtype: int64"
      ]
     },
     "execution_count": 6,
     "metadata": {},
     "output_type": "execute_result"
    }
   ],
   "source": [
    "# TODO: بررسی مقادیر گم شده\n",
    "df.isna().sum()"
   ]
  },
  {
   "cell_type": "code",
   "execution_count": 7,
   "metadata": {
    "id": "NKY9TFw7kKd4"
   },
   "outputs": [
    {
     "data": {
      "text/html": [
       "<div>\n",
       "<style scoped>\n",
       "    .dataframe tbody tr th:only-of-type {\n",
       "        vertical-align: middle;\n",
       "    }\n",
       "\n",
       "    .dataframe tbody tr th {\n",
       "        vertical-align: top;\n",
       "    }\n",
       "\n",
       "    .dataframe thead th {\n",
       "        text-align: right;\n",
       "    }\n",
       "</style>\n",
       "<table border=\"1\" class=\"dataframe\">\n",
       "  <thead>\n",
       "    <tr style=\"text-align: right;\">\n",
       "      <th></th>\n",
       "      <th>Transaction_ID</th>\n",
       "      <th>User_ID</th>\n",
       "      <th>Transaction_Amount</th>\n",
       "      <th>Transaction_Type</th>\n",
       "      <th>Timestamp</th>\n",
       "      <th>Account_Balance</th>\n",
       "      <th>Device_Type</th>\n",
       "      <th>Location</th>\n",
       "      <th>Merchant_Category</th>\n",
       "      <th>IP_Address_Flag</th>\n",
       "      <th>...</th>\n",
       "      <th>Daily_Transaction_Count</th>\n",
       "      <th>Avg_Transaction_Amount_7d</th>\n",
       "      <th>Failed_Transaction_Count_7d</th>\n",
       "      <th>Card_Type</th>\n",
       "      <th>Card_Age</th>\n",
       "      <th>Transaction_Distance</th>\n",
       "      <th>Authentication_Method</th>\n",
       "      <th>Risk_Score</th>\n",
       "      <th>Is_Weekend</th>\n",
       "      <th>Fraud_Label</th>\n",
       "    </tr>\n",
       "  </thead>\n",
       "  <tbody>\n",
       "  </tbody>\n",
       "</table>\n",
       "<p>0 rows × 21 columns</p>\n",
       "</div>"
      ],
      "text/plain": [
       "Empty DataFrame\n",
       "Columns: [Transaction_ID, User_ID, Transaction_Amount, Transaction_Type, Timestamp, Account_Balance, Device_Type, Location, Merchant_Category, IP_Address_Flag, Previous_Fraudulent_Activity, Daily_Transaction_Count, Avg_Transaction_Amount_7d, Failed_Transaction_Count_7d, Card_Type, Card_Age, Transaction_Distance, Authentication_Method, Risk_Score, Is_Weekend, Fraud_Label]\n",
       "Index: []\n",
       "\n",
       "[0 rows x 21 columns]"
      ]
     },
     "execution_count": 7,
     "metadata": {},
     "output_type": "execute_result"
    }
   ],
   "source": [
    "# TODO: بررسی داده های تکراری\n",
    "df[df.duplicated()]"
   ]
  },
  {
   "cell_type": "markdown",
   "metadata": {
    "id": "Tdlh6Ns_uldj"
   },
   "source": [
    "<div dir=\"rtl\" style=\"text-align: center;\">\n",
    "    <p>\n",
    "        <font size=4>\n",
    "            <li>\n",
    "                تعداد مقادیر یکتا (Unique) در هر ویژگی را بررسی کنید.\n",
    "            </li>\n",
    "        </font>\n",
    "    </p>\n",
    "</div>"
   ]
  },
  {
   "cell_type": "code",
   "execution_count": 8,
   "metadata": {
    "id": "h8MU4L0xums6"
   },
   "outputs": [
    {
     "data": {
      "text/plain": [
       "Transaction_ID                  48896\n",
       "User_ID                          8956\n",
       "Transaction_Amount              21570\n",
       "Transaction_Type                    4\n",
       "Timestamp                       46812\n",
       "Account_Balance                 48857\n",
       "Device_Type                         3\n",
       "Location                            5\n",
       "Merchant_Category                   5\n",
       "IP_Address_Flag                     2\n",
       "Previous_Fraudulent_Activity        2\n",
       "Daily_Transaction_Count            14\n",
       "Avg_Transaction_Amount_7d       31080\n",
       "Failed_Transaction_Count_7d         5\n",
       "Card_Type                           4\n",
       "Card_Age                          239\n",
       "Transaction_Distance            46614\n",
       "Authentication_Method               4\n",
       "Risk_Score                       9926\n",
       "Is_Weekend                          2\n",
       "Fraud_Label                         2\n",
       "dtype: int64"
      ]
     },
     "execution_count": 8,
     "metadata": {},
     "output_type": "execute_result"
    }
   ],
   "source": [
    "# TODO: بررسی تعداد داده های منحصر بفرد و یکتا در هر ویژگی\n",
    "nunique = df.nunique()\n",
    "nunique"
   ]
  },
  {
   "cell_type": "code",
   "execution_count": 9,
   "metadata": {},
   "outputs": [
    {
     "name": "stdout",
     "output_type": "stream",
     "text": [
      "Transaction_Type\n",
      "['POS' 'Bank Transfer' 'Online' 'ATM Withdrawal' nan]\n",
      "****************************************************************************************************\n",
      "Device_Type\n",
      "['Laptop' 'Mobile' 'Tablet' nan]\n",
      "****************************************************************************************************\n",
      "Location\n",
      "['Sydney' 'New York' 'Mumbai' 'Tokyo' 'London' nan]\n",
      "****************************************************************************************************\n",
      "Merchant_Category\n",
      "[nan 'Clothing' 'Restaurants' 'Electronics' 'Travel' 'Groceries']\n",
      "****************************************************************************************************\n",
      "IP_Address_Flag\n",
      "[ 0.  1. nan]\n",
      "****************************************************************************************************\n",
      "Previous_Fraudulent_Activity\n",
      "[ 0.  1. nan]\n",
      "****************************************************************************************************\n",
      "Failed_Transaction_Count_7d\n",
      "[ 3.  4.  2.  1.  0. nan]\n",
      "****************************************************************************************************\n",
      "Card_Type\n",
      "['Amex' 'Mastercard' 'Visa' 'Discover' nan]\n",
      "****************************************************************************************************\n",
      "Authentication_Method\n",
      "['Biometric' 'Password' 'OTP' 'PIN' nan]\n",
      "****************************************************************************************************\n",
      "Is_Weekend\n",
      "[ 0. nan  1.]\n",
      "****************************************************************************************************\n",
      "Fraud_Label\n",
      "[ 0.  1. nan]\n",
      "****************************************************************************************************\n"
     ]
    }
   ],
   "source": [
    "category_columns = []\n",
    "for col in df.columns:\n",
    "    if nunique[col] <= 5:\n",
    "        category_columns.append(col)\n",
    "        print(col)\n",
    "        print(df[col].unique())\n",
    "        print(100*\"*\")"
   ]
  },
  {
   "cell_type": "markdown",
   "metadata": {
    "id": "1q3FgMyiuy34"
   },
   "source": [
    "<div dir=\"rtl\">\n",
    "    <p>\n",
    "        <font size=4>\n",
    "            <li>\n",
    "                جدول Describe را برای این دیتافریم بررسی کنید\n",
    "            </li>\n",
    "        </font>\n",
    "    </p>\n",
    "</div>"
   ]
  },
  {
   "cell_type": "code",
   "execution_count": 11,
   "metadata": {
    "id": "xvdsbYt0umke"
   },
   "outputs": [
    {
     "data": {
      "text/html": [
       "<div>\n",
       "<style scoped>\n",
       "    .dataframe tbody tr th:only-of-type {\n",
       "        vertical-align: middle;\n",
       "    }\n",
       "\n",
       "    .dataframe tbody tr th {\n",
       "        vertical-align: top;\n",
       "    }\n",
       "\n",
       "    .dataframe thead th {\n",
       "        text-align: right;\n",
       "    }\n",
       "</style>\n",
       "<table border=\"1\" class=\"dataframe\">\n",
       "  <thead>\n",
       "    <tr style=\"text-align: right;\">\n",
       "      <th></th>\n",
       "      <th>Transaction_Amount</th>\n",
       "      <th>Account_Balance</th>\n",
       "      <th>IP_Address_Flag</th>\n",
       "      <th>Previous_Fraudulent_Activity</th>\n",
       "      <th>Daily_Transaction_Count</th>\n",
       "      <th>Avg_Transaction_Amount_7d</th>\n",
       "      <th>Failed_Transaction_Count_7d</th>\n",
       "      <th>Card_Age</th>\n",
       "      <th>Transaction_Distance</th>\n",
       "      <th>Risk_Score</th>\n",
       "      <th>Is_Weekend</th>\n",
       "      <th>Fraud_Label</th>\n",
       "    </tr>\n",
       "  </thead>\n",
       "  <tbody>\n",
       "    <tr>\n",
       "      <th>count</th>\n",
       "      <td>49018.000000</td>\n",
       "      <td>48984.000000</td>\n",
       "      <td>49076.000000</td>\n",
       "      <td>48969.000000</td>\n",
       "      <td>48971.000000</td>\n",
       "      <td>49004.000000</td>\n",
       "      <td>49017.000000</td>\n",
       "      <td>49040.000000</td>\n",
       "      <td>48975.000000</td>\n",
       "      <td>49018.000000</td>\n",
       "      <td>49020.000000</td>\n",
       "      <td>48969.000000</td>\n",
       "    </tr>\n",
       "    <tr>\n",
       "      <th>mean</th>\n",
       "      <td>99.471679</td>\n",
       "      <td>50290.524430</td>\n",
       "      <td>0.050350</td>\n",
       "      <td>0.098287</td>\n",
       "      <td>7.487697</td>\n",
       "      <td>255.260458</td>\n",
       "      <td>2.003754</td>\n",
       "      <td>120.081505</td>\n",
       "      <td>2500.407736</td>\n",
       "      <td>0.501831</td>\n",
       "      <td>0.299714</td>\n",
       "      <td>0.320795</td>\n",
       "    </tr>\n",
       "    <tr>\n",
       "      <th>std</th>\n",
       "      <td>98.813840</td>\n",
       "      <td>28771.001107</td>\n",
       "      <td>0.218669</td>\n",
       "      <td>0.297705</td>\n",
       "      <td>4.039885</td>\n",
       "      <td>141.365894</td>\n",
       "      <td>1.414411</td>\n",
       "      <td>68.926331</td>\n",
       "      <td>1441.692009</td>\n",
       "      <td>0.287815</td>\n",
       "      <td>0.458137</td>\n",
       "      <td>0.466787</td>\n",
       "    </tr>\n",
       "    <tr>\n",
       "      <th>min</th>\n",
       "      <td>0.000000</td>\n",
       "      <td>500.480000</td>\n",
       "      <td>0.000000</td>\n",
       "      <td>0.000000</td>\n",
       "      <td>1.000000</td>\n",
       "      <td>10.000000</td>\n",
       "      <td>0.000000</td>\n",
       "      <td>1.000000</td>\n",
       "      <td>0.250000</td>\n",
       "      <td>0.000100</td>\n",
       "      <td>0.000000</td>\n",
       "      <td>0.000000</td>\n",
       "    </tr>\n",
       "    <tr>\n",
       "      <th>25%</th>\n",
       "      <td>28.670000</td>\n",
       "      <td>25329.650000</td>\n",
       "      <td>0.000000</td>\n",
       "      <td>0.000000</td>\n",
       "      <td>4.000000</td>\n",
       "      <td>132.142500</td>\n",
       "      <td>1.000000</td>\n",
       "      <td>60.000000</td>\n",
       "      <td>1259.535000</td>\n",
       "      <td>0.254200</td>\n",
       "      <td>0.000000</td>\n",
       "      <td>0.000000</td>\n",
       "    </tr>\n",
       "    <tr>\n",
       "      <th>50%</th>\n",
       "      <td>69.680000</td>\n",
       "      <td>50378.440000</td>\n",
       "      <td>0.000000</td>\n",
       "      <td>0.000000</td>\n",
       "      <td>7.000000</td>\n",
       "      <td>256.065000</td>\n",
       "      <td>2.000000</td>\n",
       "      <td>120.000000</td>\n",
       "      <td>2492.190000</td>\n",
       "      <td>0.502850</td>\n",
       "      <td>0.000000</td>\n",
       "      <td>0.000000</td>\n",
       "    </tr>\n",
       "    <tr>\n",
       "      <th>75%</th>\n",
       "      <td>138.970000</td>\n",
       "      <td>75147.580000</td>\n",
       "      <td>0.000000</td>\n",
       "      <td>0.000000</td>\n",
       "      <td>11.000000</td>\n",
       "      <td>377.962500</td>\n",
       "      <td>3.000000</td>\n",
       "      <td>179.000000</td>\n",
       "      <td>3746.725000</td>\n",
       "      <td>0.749900</td>\n",
       "      <td>1.000000</td>\n",
       "      <td>1.000000</td>\n",
       "    </tr>\n",
       "    <tr>\n",
       "      <th>max</th>\n",
       "      <td>1174.140000</td>\n",
       "      <td>99998.310000</td>\n",
       "      <td>1.000000</td>\n",
       "      <td>1.000000</td>\n",
       "      <td>14.000000</td>\n",
       "      <td>500.000000</td>\n",
       "      <td>4.000000</td>\n",
       "      <td>239.000000</td>\n",
       "      <td>4999.930000</td>\n",
       "      <td>1.000000</td>\n",
       "      <td>1.000000</td>\n",
       "      <td>1.000000</td>\n",
       "    </tr>\n",
       "  </tbody>\n",
       "</table>\n",
       "</div>"
      ],
      "text/plain": [
       "       Transaction_Amount  Account_Balance  IP_Address_Flag  \\\n",
       "count        49018.000000     48984.000000     49076.000000   \n",
       "mean            99.471679     50290.524430         0.050350   \n",
       "std             98.813840     28771.001107         0.218669   \n",
       "min              0.000000       500.480000         0.000000   \n",
       "25%             28.670000     25329.650000         0.000000   \n",
       "50%             69.680000     50378.440000         0.000000   \n",
       "75%            138.970000     75147.580000         0.000000   \n",
       "max           1174.140000     99998.310000         1.000000   \n",
       "\n",
       "       Previous_Fraudulent_Activity  Daily_Transaction_Count  \\\n",
       "count                  48969.000000             48971.000000   \n",
       "mean                       0.098287                 7.487697   \n",
       "std                        0.297705                 4.039885   \n",
       "min                        0.000000                 1.000000   \n",
       "25%                        0.000000                 4.000000   \n",
       "50%                        0.000000                 7.000000   \n",
       "75%                        0.000000                11.000000   \n",
       "max                        1.000000                14.000000   \n",
       "\n",
       "       Avg_Transaction_Amount_7d  Failed_Transaction_Count_7d      Card_Age  \\\n",
       "count               49004.000000                 49017.000000  49040.000000   \n",
       "mean                  255.260458                     2.003754    120.081505   \n",
       "std                   141.365894                     1.414411     68.926331   \n",
       "min                    10.000000                     0.000000      1.000000   \n",
       "25%                   132.142500                     1.000000     60.000000   \n",
       "50%                   256.065000                     2.000000    120.000000   \n",
       "75%                   377.962500                     3.000000    179.000000   \n",
       "max                   500.000000                     4.000000    239.000000   \n",
       "\n",
       "       Transaction_Distance    Risk_Score    Is_Weekend   Fraud_Label  \n",
       "count          48975.000000  49018.000000  49020.000000  48969.000000  \n",
       "mean            2500.407736      0.501831      0.299714      0.320795  \n",
       "std             1441.692009      0.287815      0.458137      0.466787  \n",
       "min                0.250000      0.000100      0.000000      0.000000  \n",
       "25%             1259.535000      0.254200      0.000000      0.000000  \n",
       "50%             2492.190000      0.502850      0.000000      0.000000  \n",
       "75%             3746.725000      0.749900      1.000000      1.000000  \n",
       "max             4999.930000      1.000000      1.000000      1.000000  "
      ]
     },
     "execution_count": 11,
     "metadata": {},
     "output_type": "execute_result"
    }
   ],
   "source": [
    "# TODO: بررسی اطلاعات آمار و احتمالاتی دیتاست\n",
    "df.describe(include=['number'])"
   ]
  },
  {
   "cell_type": "code",
   "execution_count": 12,
   "metadata": {},
   "outputs": [
    {
     "data": {
      "text/html": [
       "<div>\n",
       "<style scoped>\n",
       "    .dataframe tbody tr th:only-of-type {\n",
       "        vertical-align: middle;\n",
       "    }\n",
       "\n",
       "    .dataframe tbody tr th {\n",
       "        vertical-align: top;\n",
       "    }\n",
       "\n",
       "    .dataframe thead th {\n",
       "        text-align: right;\n",
       "    }\n",
       "</style>\n",
       "<table border=\"1\" class=\"dataframe\">\n",
       "  <thead>\n",
       "    <tr style=\"text-align: right;\">\n",
       "      <th></th>\n",
       "      <th>Transaction_ID</th>\n",
       "      <th>User_ID</th>\n",
       "      <th>Transaction_Type</th>\n",
       "      <th>Timestamp</th>\n",
       "      <th>Device_Type</th>\n",
       "      <th>Location</th>\n",
       "      <th>Merchant_Category</th>\n",
       "      <th>Card_Type</th>\n",
       "      <th>Authentication_Method</th>\n",
       "    </tr>\n",
       "  </thead>\n",
       "  <tbody>\n",
       "    <tr>\n",
       "      <th>count</th>\n",
       "      <td>48896</td>\n",
       "      <td>49052</td>\n",
       "      <td>49018</td>\n",
       "      <td>49008</td>\n",
       "      <td>48977</td>\n",
       "      <td>49000</td>\n",
       "      <td>49025</td>\n",
       "      <td>48988</td>\n",
       "      <td>48975</td>\n",
       "    </tr>\n",
       "    <tr>\n",
       "      <th>unique</th>\n",
       "      <td>48896</td>\n",
       "      <td>8956</td>\n",
       "      <td>4</td>\n",
       "      <td>46812</td>\n",
       "      <td>3</td>\n",
       "      <td>5</td>\n",
       "      <td>5</td>\n",
       "      <td>4</td>\n",
       "      <td>4</td>\n",
       "    </tr>\n",
       "    <tr>\n",
       "      <th>top</th>\n",
       "      <td>TXN_5311</td>\n",
       "      <td>USER_6599</td>\n",
       "      <td>POS</td>\n",
       "      <td>2023-06-04 06:35:00</td>\n",
       "      <td>Tablet</td>\n",
       "      <td>Tokyo</td>\n",
       "      <td>Clothing</td>\n",
       "      <td>Mastercard</td>\n",
       "      <td>Biometric</td>\n",
       "    </tr>\n",
       "    <tr>\n",
       "      <th>freq</th>\n",
       "      <td>1</td>\n",
       "      <td>16</td>\n",
       "      <td>12303</td>\n",
       "      <td>4</td>\n",
       "      <td>16436</td>\n",
       "      <td>9990</td>\n",
       "      <td>9835</td>\n",
       "      <td>12458</td>\n",
       "      <td>12356</td>\n",
       "    </tr>\n",
       "  </tbody>\n",
       "</table>\n",
       "</div>"
      ],
      "text/plain": [
       "       Transaction_ID    User_ID Transaction_Type            Timestamp  \\\n",
       "count           48896      49052            49018                49008   \n",
       "unique          48896       8956                4                46812   \n",
       "top          TXN_5311  USER_6599              POS  2023-06-04 06:35:00   \n",
       "freq                1         16            12303                    4   \n",
       "\n",
       "       Device_Type Location Merchant_Category   Card_Type  \\\n",
       "count        48977    49000             49025       48988   \n",
       "unique           3        5                 5           4   \n",
       "top         Tablet    Tokyo          Clothing  Mastercard   \n",
       "freq         16436     9990              9835       12458   \n",
       "\n",
       "       Authentication_Method  \n",
       "count                  48975  \n",
       "unique                     4  \n",
       "top                Biometric  \n",
       "freq                   12356  "
      ]
     },
     "execution_count": 12,
     "metadata": {},
     "output_type": "execute_result"
    }
   ],
   "source": [
    "df.describe(include=['object'])"
   ]
  },
  {
   "cell_type": "markdown",
   "metadata": {
    "id": "ZobwuGPGwi96"
   },
   "source": [
    "## ارزیابی:\n",
    "*ارزیابی خودتان از کد و خروجی حاصل از آن را بنویسید*\n",
    "1. ....\n",
    "2. ....\n",
    "3. ....\n"
   ]
  },
  {
   "cell_type": "markdown",
   "metadata": {
    "id": "K0FwaLzFRBJr"
   },
   "source": [
    "<br><br>\n",
    "<div dir=\"rtl\">\n",
    "    <p>\n",
    "        <font size=4>\n",
    "            <li>\n",
    "                توزیع کلاس ها در متغیر هدف را بررسی کنید.\n",
    "            </li>\n",
    "        </font>\n",
    "    </p>\n",
    "</div>"
   ]
  },
  {
   "cell_type": "code",
   "execution_count": null,
   "metadata": {
    "id": "7hhFKF1ExSdP"
   },
   "outputs": [],
   "source": [
    "# TODO\n"
   ]
  },
  {
   "cell_type": "markdown",
   "metadata": {
    "id": "Qf-Iz1zEyl3n"
   },
   "source": [
    "<br>\n",
    "<br>\n",
    "<div dir=\"rtl\">\n",
    "<font size=\"6\">\n",
    "    <li>\n",
    "    <strong>مصورسازی</strong>\n",
    "    </li>\n",
    "</font>\n",
    "<font size=4>\n",
    "    در این قدم، شما باید با استفاده از ابزارهای مصورسازی مانند نمودارهای پراکندگی (Scatter plots)، هیستوگرام‌ها و نمودارهای جعبه‌ای (Box plots)، روابط بین ویژگی‌ها و هدف را بررسی کنید. این مرحله به شما کمک می‌کند که روابط پنهان میان متغیرها را شناسایی کنید و درک بهتری از داده‌ها پیدا کنید. شما میتوانید هرگونه مصورسازی که فکر می کنید در این مرحله اطلاعاتی به شما میدهد را انجام دهید.\n",
    "    ولی پیاده سازی پلات های خواسته شده الزامی می باشد.\n",
    "</font>\n",
    "<br>\n",
    "<br>"
   ]
  },
  {
   "cell_type": "markdown",
   "metadata": {
    "id": "cFnXfbLz7lh3"
   },
   "source": [
    "<div dir=\"rtl\">\n",
    "    <font size=\"4\">\n",
    "        <li>\n",
    "            <strong>توزیع داده های عددی را بررسی کنید.(Histogram)</strong>\n",
    "        </li>\n",
    "</div>\n",
    "<br>"
   ]
  },
  {
   "cell_type": "code",
   "execution_count": null,
   "metadata": {
    "id": "n_Tv0Wurumcm"
   },
   "outputs": [],
   "source": [
    "# TODO: متد زیر را برای رسم توزیع داده ها کامل کنید.\n",
    "def plot_numeric_distributions(df):\n",
    "    pass"
   ]
  },
  {
   "cell_type": "code",
   "execution_count": null,
   "metadata": {
    "id": "koy6yuc2FKMn"
   },
   "outputs": [],
   "source": [
    "# TODO: بررسی هیستوگرام\n",
    "plot_numeric_distributions(df)"
   ]
  },
  {
   "cell_type": "markdown",
   "metadata": {
    "id": "MkWLCOBz95Vz"
   },
   "source": [
    "## ارزیابی:\n",
    "*ارزیابی خودتان از کد و خروجی حاصل از آن را بنویسید*\n",
    "1. ....\n",
    "2. ....\n",
    "3. ....\n"
   ]
  },
  {
   "cell_type": "markdown",
   "metadata": {
    "id": "3Ek-jCm-Gp-t"
   },
   "source": [
    "<br><br>\n",
    "<div dir=\"rtl\">\n",
    "    <font size=\"4\">\n",
    "        <li>\n",
    "            <strong>داده های پرت را با باکس پلات بررسی کنید.(Boxplot)</strong>\n",
    "        </li>\n",
    "</div>\n",
    "<br>"
   ]
  },
  {
   "cell_type": "code",
   "execution_count": null,
   "metadata": {
    "id": "mO9kWEhQCt1l"
   },
   "outputs": [],
   "source": [
    "# TODO: داده های عددی و پرت را با باکس پلات بررسی کنید\n",
    "def plot_numeric_boxplots(df):\n",
    "    pass"
   ]
  },
  {
   "cell_type": "code",
   "execution_count": null,
   "metadata": {
    "id": "MM9spvc8cfAs"
   },
   "outputs": [],
   "source": [
    "plot_numeric_boxplots(df)"
   ]
  },
  {
   "cell_type": "code",
   "execution_count": null,
   "metadata": {
    "id": "MSVMwYgByz2F"
   },
   "outputs": [],
   "source": []
  },
  {
   "cell_type": "markdown",
   "metadata": {
    "id": "cqjA12VebXsu"
   },
   "source": [
    "<br><br>\n",
    "<div dir=\"rtl\">\n",
    "    <font size=\"4\">\n",
    "        <li>\n",
    "            <strong>توزیع کلاس ها در ویژگی های Categorical را بررسی کنید.(Countplot)</strong>\n",
    "        </li>\n",
    "</div>\n",
    "<br>"
   ]
  },
  {
   "cell_type": "code",
   "execution_count": null,
   "metadata": {
    "id": "8uaQgzPTSoXN"
   },
   "outputs": [],
   "source": [
    "# داده های دسته ایی\n",
    "categorical_columns = [\n",
    "    \"Transaction_Type\", \"Device_Type\", \"Location\", \"Merchant_Category\",\n",
    "    \"Card_Type\", \"Authentication_Method\", \"Is_Weekend\", \"Fraud_Label\"]"
   ]
  },
  {
   "cell_type": "code",
   "execution_count": null,
   "metadata": {
    "id": "GN_KjLdq1M5X"
   },
   "outputs": [],
   "source": [
    "# TODO: بررسی ویژگی های دسته ایی با Countplot\n"
   ]
  },
  {
   "cell_type": "markdown",
   "metadata": {
    "id": "wcX0QO0lTcTP"
   },
   "source": [
    "<br><br>\n",
    "<div dir=\"rtl\">\n",
    "    <font size=\"4\">\n",
    "        <li>\n",
    "            <strong>توزیع تراکنش‌های تقلبی بر اساس دسته‌بندی‌های مختلف بررسی کنید. این نمودار باید نشان دهد که چگونه تراکنش‌های تقلبی و غیرتقلبی در دسته‌های مختلف از ویژگی‌های داده توزیع شده‌اند. باید از Countplot و پارامتر های این متد استفاده کنید.</strong>\n",
    "        </li>\n",
    "</div>\n",
    "<br>"
   ]
  },
  {
   "cell_type": "code",
   "execution_count": null,
   "metadata": {
    "id": "_fjFI5CcUXZv"
   },
   "outputs": [],
   "source": [
    "# داده های دسته ایی\n",
    "categorical_columns = [\n",
    "    \"Transaction_Type\", \"Device_Type\", \"Location\", \"Merchant_Category\",\n",
    "    \"Card_Type\", \"Authentication_Method\", \"Is_Weekend\", \"Fraud_Label\"]"
   ]
  },
  {
   "cell_type": "code",
   "execution_count": null,
   "metadata": {
    "id": "ZDoq85M61FAe"
   },
   "outputs": [],
   "source": [
    "# TODO: توزیع تراکنش‌های تقلبی بر اساس دسته‌بندی‌های مختلف بررسی کنید.\n",
    "\n"
   ]
  },
  {
   "cell_type": "markdown",
   "metadata": {
    "id": "cWsHJn1cjcdP"
   },
   "source": [
    "## ارزیابی:\n",
    "*ارزیابی خودتان از کد و خروجی حاصل از آن را بنویسید*\n",
    "1. ....\n",
    "2. ....\n",
    "3. ....\n"
   ]
  },
  {
   "cell_type": "code",
   "execution_count": null,
   "metadata": {
    "id": "QGv-pr9g1JdR"
   },
   "outputs": [],
   "source": []
  },
  {
   "cell_type": "markdown",
   "metadata": {
    "id": "48cMHhDDpO9A"
   },
   "source": [
    "<br>\n",
    "<div dir=\"rtl\">\n",
    "<font size=\"6\">\n",
    "    <li>\n",
    "    <strong>پیش پردازش و مهندسی ویژگی‌ها (Preprocessing & Feature Engineering)</strong>\n",
    "    </li>\n",
    "</font>\n",
    "    <font size=4>\n",
    "    پیش پردازش داده‌ها مرحله‌ای است که در آن داده‌ها برای استفاده در مدل‌های یادگیری ماشین آماده می‌شوند. این مرحله شامل پاک‌سازی داده‌ها، پر کردن یا حذف داده‌های گمشده، تبدیل داده‌های دسته‌ای به داده‌های عددی (مثل تبدیل کلمات به اعداد)، و استانداردسازی مقادیر مختلف است. هدف از پیش پردازش، بهبود کیفیت داده‌ها و کمک به مدل برای یادگیری بهتر است.\n",
    "    <br><br>\n",
    "    علاوه بر پیش پردازش، <strong>مهندسی ویژگی‌ها (Feature Engineering)</strong> نیز در این مرحله انجام می‌شود. این فرآیند شامل انتخاب ویژگی‌های تأثیرگذار، ایجاد ویژگی‌های جدید از داده‌های موجود، و تبدیل داده‌ها به شکلی است که بتوانند اطلاعات بیشتری برای مدل فراهم کنند. به عنوان مثال، ترکیب چند ویژگی برای ایجاد یک ویژگی جدید یا استخراج اطلاعات مفید از داده‌های متنی یا زمانی.\n",
    "    <br><br>\n",
    "    ترکیب پیش پردازش و مهندسی ویژگی‌ها باعث می‌شود داده‌ها نه‌تنها پاک و استاندارد شوند، بلکه بتوانند حداکثر اطلاعات ممکن را برای مدل فراهم کنند، که در نتیجه به بهبود عملکرد مدل کمک می‌کند.\n",
    "    </font>\n",
    "</div>\n",
    "<br><br>\n"
   ]
  },
  {
   "cell_type": "markdown",
   "metadata": {
    "id": "C1geM3_upkKJ"
   },
   "source": [
    "<br>\n",
    "<br>\n",
    "<div dir=\"rtl\">\n",
    "    <font size=4>\n",
    "        <li>\n",
    "            در ابتدا یک کپی از دیتافریم اصلی بگیرید و ادامه تمرین را روی دیتافریم کپی شده انجام دهید.\n",
    "        </li>\n",
    "    </font>\n",
    "</div>"
   ]
  },
  {
   "cell_type": "code",
   "execution_count": null,
   "metadata": {
    "id": "5dDI18yRiIDU"
   },
   "outputs": [],
   "source": [
    "# TODO: از دیتافریم کپی بگیرید\n"
   ]
  },
  {
   "cell_type": "markdown",
   "metadata": {
    "id": "GCfgBEPS125K"
   },
   "source": [
    "<br>\n",
    "<br>\n",
    "<div dir=\"rtl\">\n",
    "    <font size=4>\n",
    "        <li>\n",
    "            ویژگی هایی که در قدم اول به نظر میان که غیر ضروری هستند را حذف کنید.\n",
    "        </li>\n",
    "    </font>\n",
    "</div>"
   ]
  },
  {
   "cell_type": "code",
   "execution_count": null,
   "metadata": {
    "id": "vWN_cYtpyo9f"
   },
   "outputs": [],
   "source": [
    "# TODO: حذف ویژگی های غیر ضروری"
   ]
  },
  {
   "cell_type": "markdown",
   "metadata": {
    "id": "MlPLKSpx2MhO"
   },
   "source": [
    "<br>\n",
    "<br>\n",
    "<div dir=\"rtl\">\n",
    "    <font size=4>\n",
    "        <li>\n",
    "            داده های پرت (Outlier) به کمک هر دو روش IQR و Z-Score شناسایی کنید. و تعداد داده های پرت در هر ویژگی را در خورجی کد نشان دهید.\n",
    "        </li>\n",
    "    </font>\n",
    "</div>"
   ]
  },
  {
   "cell_type": "code",
   "execution_count": null,
   "metadata": {
    "id": "IfmOzxHGyo6s"
   },
   "outputs": [],
   "source": [
    "# TODO: شناسایی داده های پرت به کمک IQR\n",
    "\n"
   ]
  },
  {
   "cell_type": "code",
   "execution_count": null,
   "metadata": {
    "id": "0qHtWg7c2ssf"
   },
   "outputs": [],
   "source": [
    "# TODO: شناسایی داده های پرت به کمک Z-Score\n",
    "\n"
   ]
  },
  {
   "cell_type": "markdown",
   "metadata": {
    "id": "uXgjr7tV3hAE"
   },
   "source": [
    "<br>\n",
    "<br>\n",
    "<div dir=\"rtl\">\n",
    "    <font size=4>\n",
    "        <li>\n",
    "            در ادامه از یکی از این دو روش (IQR - Z-Score) استفاده کنید تا داده های پرت رو حذف کنید و دلیل خودتون برای انتخاب اون روش توضیح دهید.\n",
    "        </li>\n",
    "    </font>\n",
    "</div>"
   ]
  },
  {
   "cell_type": "code",
   "execution_count": null,
   "metadata": {
    "id": "OZFGFrzZzoIR"
   },
   "outputs": [],
   "source": [
    "# TODO: حذف داده های پرت\n"
   ]
  },
  {
   "cell_type": "markdown",
   "metadata": {
    "id": "IVccZ-Iv4X7I"
   },
   "source": [
    "## ارزیابی:\n",
    "*ارزیابی خودتان از کد و خروجی حاصل از آن را بنویسید*\n",
    "1. ....\n",
    "2. ....\n",
    "3. ....\n"
   ]
  },
  {
   "cell_type": "markdown",
   "metadata": {
    "id": "5C9gxM7A5GGt"
   },
   "source": [
    "<br><br>\n",
    "<div dir=\"rtl\">\n",
    "    <font size=4>\n",
    "        <li> سپس باید ستون Timestamp را به فرمت datetime تبدیل کنید تا بتوانید ویژگی‌های زمانی مفیدی از آن استخراج کنید. سپس باید ویژگی هایی جدیدی با استخراج اطلاعات مفید از این ویژگی , ایجاد کنید. اینکه چه اطلاعاتی باید استخراج کنید , با شما.</li>\n",
    "    </font>\n",
    "</div>\n",
    "<br>"
   ]
  },
  {
   "cell_type": "code",
   "execution_count": null,
   "metadata": {
    "id": "fXDeyGfe5rQU"
   },
   "outputs": [],
   "source": [
    "# TODO: تبدیل فرمت\n",
    "\n"
   ]
  },
  {
   "cell_type": "code",
   "execution_count": null,
   "metadata": {
    "id": "I1aMxqkozyVC"
   },
   "outputs": [],
   "source": [
    "# TODO: استخراج ویژگی\n",
    "\n"
   ]
  },
  {
   "cell_type": "code",
   "execution_count": null,
   "metadata": {
    "id": "0RxzNDDc59Pn"
   },
   "outputs": [],
   "source": []
  },
  {
   "cell_type": "markdown",
   "metadata": {
    "id": "LyhjXOUr6nzY"
   },
   "source": [
    "<br><br>\n",
    "<div dir=\"rtl\">\n",
    "    <font size=4>\n",
    "        <li> شما باید نسبت‌های معناداری را از ویژگی‌های موجود محاسبه کنید تا اطلاعات بهتری درباره رفتار تراکنش‌ها به دست آورید. برای این کار، مقادیر Daily_Transaction_Count، Avg_Transaction_Amount_7d، Failed_Transaction_Count_7d و سایر ویژگی‌های مرتبط را ترکیب کرده و نسبت‌های جدیدی ایجاد کنید، مانند Transaction_Ratio و Failed_Transaction_Rate. در نهایت، پس از محاسبه این ویژگی‌ها، ستون‌های اولیه که اطلاعات آن‌ها در نسبت‌ها لحاظ شده است را حذف کنید تا از افزونگی داده جلوگیری شود.</li>\n",
    "    </font>\n",
    "</div>\n",
    "<br>"
   ]
  },
  {
   "cell_type": "code",
   "execution_count": null,
   "metadata": {
    "id": "A2bu8Ehr0GD4"
   },
   "outputs": [],
   "source": [
    "#TODO: ایجاد و ساخت ویژگی جدید\n",
    "\n"
   ]
  },
  {
   "cell_type": "code",
   "execution_count": null,
   "metadata": {
    "id": "4tMshLsp69y3"
   },
   "outputs": [],
   "source": []
  },
  {
   "cell_type": "markdown",
   "metadata": {
    "id": "VqrB60l552HG"
   },
   "source": [
    "<br><br>\n",
    "<div dir=\"rtl\">\n",
    "    <font size=\"5\">\n",
    "        <li>\n",
    "            <strong>پر کردن مقادیر از دست رفته(Handling Missing Values)</strong>\n",
    "        </li>\n",
    "    </font>\n",
    "    <font size=\"4\">\n",
    "        این متد برای پر کردن داده‌های گمشده در یک دیتافریم طراحی شده است و دو روش برای انجام این کار دارد: <strong>پر کردن خودکار داده‌ها یا استفاده از استراتژی‌های مشخص. در اینجا نحوه نوشتن این متد توضیح داده شده است:</strong>\n",
    "        <br><br>\n",
    "        درک و نوشتن این تابع به صورت گام به گام کمک می‌کند تا با روش‌های مختلف پر کردن داده‌های گمشده آشنا شوید و بتوانید آن‌ها را به صورت بهینه پیاده‌سازی کنید.\n",
    "        <br><br>\n",
    "        1. <strong>ورودی‌ها:</strong>\n",
    "            <li><strong>df:</strong> دیتافریم ورودی که شامل داده‌های اصلی شما است و ممکن است برخی مقادیر گمشده داشته باشد.</li>\n",
    "            <li><strong>strategy_dict:</strong> دیکشنری که برای هر ستون یک استراتژی پر کردن (مثل میانگین، میانه، مد و غیره) را مشخص می‌کند. این ورودی فقط در صورتی استفاده می‌شود که بخواهید استراتژی‌های خاصی برای هر ستون انتخاب کنید.</li>\n",
    "            <li><strong>auto_impute:</strong> یک پارامتر بولی که اگر مقدار آن <code>True</code> باشد، داده‌ها به طور خودکار پر می‌شوند. برای ستون‌های عددی با میانگین و برای ستون‌های رشته‌ای با مد پر می‌شود. در غیر این صورت، از <code>strategy_dict</code> استفاده می‌شود.</li>\n",
    "        <br>\n",
    "        2. <strong>پر کردن خودکار (اگر <code>auto_impute=True</code>):</strong>\n",
    "            <li>در این بخش، اگر شما <code>auto_impute</code> را <code>True</code> قرار دهید، تمامی ستون‌های عددی به صورت خودکار با میانگین پر می‌شوند و ستون‌های رشته‌ای با مد پر خواهند شد. این روش سریع و راحت است اما ممکن است برای همه داده‌ها مناسب نباشد.</li>\n",
    "        <br>\n",
    "        3. <strong>پر کردن با استراتژی مشخص (اگر <code>strategy_dict</code> داده شده):</strong>\n",
    "            <li>در صورتی که بخواهید کنترل بیشتری بر روی پر کردن مقادیر گمشده داشته باشید، می‌توانید از <code>strategy_dict</code> استفاده کنید. به این صورت که برای هر ستون، یک استراتژی خاص انتخاب می‌کنید. این استراتژی‌ها می‌توانند شامل مواردی مانند <code>mean</code> (میانگین)، <code>median</code> (میانه)، <code>mode</code> (مد)، یا حتی استفاده از الگوریتم‌هایی مانند <code>knn</code> (کوتاه‌ترین همسایگی) برای پر کردن داده‌ها باشد.</li>\n",
    "        <br>\n",
    "        4. <strong>برگشت دیتافریم تمیز شده:</strong> پس از انجام عملیات پر کردن داده‌های گمشده، دیتافریم اصلاح شده به عنوان خروجی باز می‌گردد. این دیتافریم آماده استفاده در مراحل بعدی تحلیل یا مدل‌سازی خواهد بود.\n",
    "        <br><br>\n",
    "        این متد کمک می‌کند تا داده‌های گمشده به صورت کارآمد و با استفاده از استراتژی‌های مختلف پر شوند. می‌توانید بسته به نوع داده و نیازهای پروژه، از هر یک از این روش‌ها استفاده کنید تا کیفیت داده‌های خود را بهبود ببخشید.<br><br>\n",
    "        <font color=\"red\">نکته</font>: در صورتی که در پیاده سازی این کد مشکلی داشتی , سعی کنید به روش خودتان متدی شبیه به توضیحات داده شده بنویسید.\n",
    "    </font>\n",
    "</div>\n",
    "<br><br>"
   ]
  },
  {
   "cell_type": "markdown",
   "metadata": {
    "id": "AuWrzBp8m9WQ"
   },
   "source": [
    "<br><br>\n",
    "<div dir=\"rtl\">\n",
    "    <font size=\"4\">\n",
    "        <li>نمونه استفاده از متد و داده های ورودی به تابع</li>\n",
    "    </font>\n",
    "</div>\n",
    "<br>\n",
    "\n",
    "```python\n",
    "custom_strategies = {\n",
    "    'age': 'mean',\n",
    "    'job': 'mode',\n",
    "    'balance': 'knn',\n",
    "    'marital': 'mode',\n",
    "    'education': 'unknown'\n",
    "    .\n",
    "    .\n",
    "    .\n",
    "}\n",
    "df_processed = impute_missing_data(df, strategy_dict=custom_strategies, auto_impute=False)\n",
    "```\n",
    "<br><br>\n"
   ]
  },
  {
   "cell_type": "code",
   "execution_count": null,
   "metadata": {
    "id": "pap5axpwjIVY"
   },
   "outputs": [],
   "source": [
    "# TODO: ایمپورت کتابخانه های مورد نیاز\n"
   ]
  },
  {
   "cell_type": "code",
   "execution_count": null,
   "metadata": {
    "id": "bjDll0Ys59Vk"
   },
   "outputs": [],
   "source": [
    "# TODO: متد زیر را کامل کنید.\n",
    "def impute_missing_data(df,\n",
    "                        strategy_dict = None,\n",
    "                        auto_impute = True):\n",
    "    \"\"\"\n",
    "    داده‌های گمشده رو با استراتژی‌های مشخص یا به صورت خودکار پر می‌کنه.\n",
    "    پارامترها:\n",
    "        df: دیتافریم ورودی\n",
    "        strategy_dict: دیکشنری از ستون‌ها و استراتژی‌ها (مثلاً {'age': 'mean', 'job': 'mode'})\n",
    "        auto_impute: اگه True باشه، به صورت خودکار بر اساس نوع داده پر می‌کنه\n",
    "    \"\"\"\n",
    "    pass"
   ]
  },
  {
   "cell_type": "code",
   "execution_count": null,
   "metadata": {
    "id": "5BEzxSwYH0EZ"
   },
   "outputs": [],
   "source": [
    "# TODO: اعمال متد روی دیتاست\n",
    "\n"
   ]
  },
  {
   "cell_type": "markdown",
   "metadata": {
    "id": "DcOybpm67Rb3"
   },
   "source": [
    "<br><br>\n",
    "<div dir=\"rtl\">\n",
    "    <font size=\"4\">\n",
    "        <li>\n",
    "            متغیر های Categorical را با روش مورد نظر خودتان Encode کنید.\n",
    "        </li>\n",
    "    </font>\n",
    "</div>\n",
    "<br>\n"
   ]
  },
  {
   "cell_type": "code",
   "execution_count": null,
   "metadata": {
    "id": "MGBptFYF7VV1"
   },
   "outputs": [],
   "source": [
    "# TODO: کتابخانه های مورد نیاز را ایمپورت کنید.\n",
    "\n"
   ]
  },
  {
   "cell_type": "code",
   "execution_count": null,
   "metadata": {
    "id": "KPuZFMbL0GBU"
   },
   "outputs": [],
   "source": [
    "# TODO: رمزنگاری ویژگی ها\n",
    "\n"
   ]
  },
  {
   "cell_type": "code",
   "execution_count": null,
   "metadata": {
    "id": "frEX14hchry8"
   },
   "outputs": [],
   "source": []
  },
  {
   "cell_type": "markdown",
   "metadata": {
    "id": "aRfINhWeoMtj"
   },
   "source": [
    "<br>\n",
    "<div dir=\"rtl\">\n",
    "<font size=\"6\">\n",
    "    <li>\n",
    "    <strong>مدل‌سازی اولیه</strong>\n",
    "    </li>\n",
    "</font>\n",
    "<font size=\"4\">\n",
    "    در این مرحله چند مدل را به‌صورت ساده آموزش می‌دهیم و در نهایت از بین آن‌ها ۱ الی ۲ مدل که بهترین عملکرد را دارند انتخاب می‌کنیم.\n",
    "</font>\n",
    "</div>\n",
    "<br>"
   ]
  },
  {
   "cell_type": "code",
   "execution_count": null,
   "metadata": {
    "id": "Pk1qTT-bfgOW"
   },
   "outputs": [],
   "source": [
    "# TODO: اکر نیاز به نصب کتابخانه ایی دارید آن هارا نصب کنید\n",
    "\n"
   ]
  },
  {
   "cell_type": "code",
   "execution_count": null,
   "metadata": {
    "id": "2Bbuat02mCxM"
   },
   "outputs": [],
   "source": [
    "# TODO: کتابخانه های مورد نیاز را ایمپورت کنید\n",
    "\n"
   ]
  },
  {
   "cell_type": "markdown",
   "metadata": {
    "id": "tCjkIL-wDvq7"
   },
   "source": [
    "<br><br>\n",
    "<div dir=\"rtl\">\n",
    "    <font size=\"4\">\n",
    "        <li>ویژگی های مستقل و وابسته را جدا کنید.</li>\n",
    "    </font>\n",
    "</div>\n",
    "<br>"
   ]
  },
  {
   "cell_type": "code",
   "execution_count": null,
   "metadata": {
    "id": "51VDiCIi-10B"
   },
   "outputs": [],
   "source": [
    "# TODO:  متغیر های وابسه و مستقل را به X, y تقسیم\n",
    "X =   # Features\n",
    "y =   # Target variable"
   ]
  },
  {
   "cell_type": "code",
   "execution_count": null,
   "metadata": {
    "id": "jqESBij6Rk5f"
   },
   "outputs": [],
   "source": [
    "# TODO: داده ها به مجموعه آموزش و تست تقسیم کنید\n"
   ]
  },
  {
   "cell_type": "markdown",
   "metadata": {
    "id": "VClf6yFf9AR2"
   },
   "source": [
    "<br><br>\n",
    "<div dir=\"rtl\">\n",
    "    <font size=\"4\">\n",
    "        <li>داده ها را Scale کنید</li>\n",
    "    </font>\n",
    "</div>\n",
    "<br>"
   ]
  },
  {
   "cell_type": "code",
   "execution_count": null,
   "metadata": {
    "id": "yJcEaVYs8gHP"
   },
   "outputs": [],
   "source": [
    "# TODO: داده ها را استاندارسازی کنید.\n",
    "\n"
   ]
  },
  {
   "cell_type": "markdown",
   "metadata": {
    "id": "e8zKygVaEu7l"
   },
   "source": [
    "<br><br>\n",
    "<div dir=\"rtl\">\n",
    "    <font size=\"4\">\n",
    "        <li> از روش‌های <strong>Oversampling</strong> و <strong>Undersampling</strong> برای متوازن‌سازی داده‌ها استفاده کنید. از روش های زیر بهترین روش را انتخاب کنید. </li><br>\n",
    "        <li>SMOTE</li>\n",
    "        <li>SMOTETomek</li>\n",
    "        <li>SMOTEENN</li>\n",
    "        <li>ADASYN</li>\n",
    "        <li>RandomUnderSampler</li>\n",
    "    </font>\n",
    "</div>\n",
    "<br>"
   ]
  },
  {
   "cell_type": "markdown",
   "metadata": {
    "id": "s70gQilC8i13"
   },
   "source": [
    "<br><br>\n",
    "<div dir=\"rtl\">\n",
    "    <font size=\"4\">\n",
    "        <li><font color=\"red\">نکته</font>: متد مورد نظر را فقط روی داده های آموزشی باید اعمال کنید. در غیر این صورت مشکل Data Leakage رخ می دهد. در خصوص این مشکل, منابعی برای مطالعه بیشتر در تمرین قبلی ارائه شد. </Li>\n",
    "    </font>\n",
    "</div>\n",
    "<br>"
   ]
  },
  {
   "cell_type": "code",
   "execution_count": null,
   "metadata": {
    "id": "VY8bCLwjDgW1"
   },
   "outputs": [],
   "source": [
    "# TODO: متوازن سازی کلاس هدف\n",
    "\n"
   ]
  },
  {
   "cell_type": "markdown",
   "metadata": {
    "id": "KBJV5zuRG-IP"
   },
   "source": [
    "<br><br>\n",
    "<div dir=\"rtl\">\n",
    "    <font size=\"4\">\n",
    "        <li> مدل های زیر را آموزش دهید: </li>\n",
    "        1. XGBoost  \n",
    "        <br>\n",
    "        2. AdaBoost  \n",
    "        <br>\n",
    "        3. GradientBoosting\n",
    "        <br>  \n",
    "        4. LightGBM\n",
    "        <br>\n",
    "        همچنین عملکرد مدل ها را بررسی کنید و بهترین را برای مرحله بعدی یعنی بهینه سازی هایپرپارامتر ها انتخاب کنید.\n",
    "    </font>\n",
    "</div>\n",
    "<br>\n"
   ]
  },
  {
   "cell_type": "code",
   "execution_count": null,
   "metadata": {
    "id": "9m8iw_E7h5hN"
   },
   "outputs": [],
   "source": [
    "# TODO :  تعریف مدل‌هاو آموزش مدل ها\n",
    "\n"
   ]
  },
  {
   "cell_type": "markdown",
   "metadata": {
    "id": "kRsTR62mQIK5"
   },
   "source": [
    "<br><br>\n",
    "<div dir=\"rtl\">\n",
    "    <font size=\"4\">\n",
    "        <li> از مدل های آموزش داده شده بهترین مدل را انتخاب کنید تا ارزیابی های بیشتری انجام دهیم. </li>\n",
    "    </font>\n",
    "</div>\n",
    "<br>"
   ]
  },
  {
   "cell_type": "code",
   "execution_count": null,
   "metadata": {
    "id": "dX3eb1JSGVVe"
   },
   "outputs": [],
   "source": [
    "# TODO: انتخاب بهترین مدل\n",
    "best_model = ....\n"
   ]
  },
  {
   "cell_type": "markdown",
   "metadata": {
    "id": "t3r50bq4QYHD"
   },
   "source": [
    "<br><br>\n",
    "<div dir=\"rtl\">\n",
    "    <font size=\"4\">\n",
    "        <li> عملکرد مدل انتخاب شده با کمک Confusion Matrix , Corss Validation و Classificaion Report روی مجموعه داده های آموزشی و آزمایشی بررسی کنید.</li>\n",
    "    </font>\n",
    "</div>\n",
    "<br>"
   ]
  },
  {
   "cell_type": "code",
   "execution_count": null,
   "metadata": {
    "id": "XZGiu9ZBf95K"
   },
   "outputs": [],
   "source": [
    "# TODO: بررسی عملکرد مدل با Cross Validation\n",
    "\n"
   ]
  },
  {
   "cell_type": "code",
   "execution_count": null,
   "metadata": {
    "id": "PNNXAOl5QmZo"
   },
   "outputs": [],
   "source": [
    "# TODO :  بررسی  عملکرد مدل روی داده های آموزش و تستس\n",
    "\n"
   ]
  },
  {
   "cell_type": "markdown",
   "metadata": {
    "id": "XISuJuRlImzr"
   },
   "source": [
    "<br><br>\n",
    "<div dir=\"rtl\">\n",
    "    <font size=\"4\">\n",
    "        <li> منحنی ROC را برای مدل منتخب را  رسم کنید.</li>\n",
    "    </font>\n",
    "</div>\n",
    "<br>"
   ]
  },
  {
   "cell_type": "code",
   "execution_count": null,
   "metadata": {
    "id": "0HCjWMbJHzVZ"
   },
   "outputs": [],
   "source": [
    "# TODO: رسم نمودار ROC\n",
    "\n"
   ]
  },
  {
   "cell_type": "markdown",
   "metadata": {
    "id": "GGZAkHadKS9C"
   },
   "source": [
    "## ارزیابی:\n",
    "*ارزیابی خودتان از کد و خروجی حاصل از آن را بنویسید*\n",
    "1. ....\n",
    "2. ....\n",
    "3. ...."
   ]
  },
  {
   "cell_type": "markdown",
   "metadata": {
    "id": "0VyzOIxILArM"
   },
   "source": [
    "<br><br>\n",
    "<div dir=\"rtl\">\n",
    "    <font size=\"4\">\n",
    "        <li>مدل را ذخیره کنید تا به کمک Streamlit آن را Deploy کنیم</li>\n",
    "    </font>\n",
    "</div>\n",
    "<br>"
   ]
  },
  {
   "cell_type": "code",
   "execution_count": null,
   "metadata": {
    "id": "xBEQgzk5IJWw"
   },
   "outputs": [],
   "source": [
    "# ذخیره سازی مدل و داده های مورد نیاز\n",
    "\n"
   ]
  },
  {
   "cell_type": "code",
   "execution_count": null,
   "metadata": {
    "id": "txGg7hNRn2N1"
   },
   "outputs": [],
   "source": []
  }
 ],
 "metadata": {
  "colab": {
   "provenance": []
  },
  "kernelspec": {
   "display_name": "Python 3 (ipykernel)",
   "language": "python",
   "name": "python3"
  },
  "language_info": {
   "codemirror_mode": {
    "name": "ipython",
    "version": 3
   },
   "file_extension": ".py",
   "mimetype": "text/x-python",
   "name": "python",
   "nbconvert_exporter": "python",
   "pygments_lexer": "ipython3",
   "version": "3.12.1"
  }
 },
 "nbformat": 4,
 "nbformat_minor": 0
}
