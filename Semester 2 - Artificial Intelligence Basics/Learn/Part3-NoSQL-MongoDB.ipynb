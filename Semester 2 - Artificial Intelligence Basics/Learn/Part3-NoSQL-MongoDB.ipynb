{
 "cells": [
  {
   "cell_type": "markdown",
   "id": "c72a38f4",
   "metadata": {
    "direction": "rtl"
   },
   "source": [
    "<span dir=\"rtl\" style=\"font-family:B Nazanin\" align=\"right\">\n",
    "    <h2>بخش سوم: آموزش مفاهیم NoSQL و سیستم مدیریت پایگاه داده MongoDB</h2> \n",
    "</span>"
   ]
  },
  {
   "cell_type": "markdown",
   "id": "79b5ecdc",
   "metadata": {
    "direction": "rtl"
   },
   "source": [
    "<p style=\"font-family:B Nazanin\">\n",
    "   تا اینجا با مفاهیم پایگاه‌های داده ساختارمند یا مبتنی بر SQL آشنا شدیم. این پایگاه‌های داده‌ای ساختاری مشخص دارند و تمام داده‌ها با نظم و ترتیبی معین در جداولی که دارای ستون‌ها و سطرها هستند، ذخیره می‌شوند. اما نوع دیگری از پایگاه‌های داده‌ای وجود دارند که برای ذخیره داده‌ها از جدول استفاده نمی‌کنند که به آن‌ها پایگاه‌های داده NoSQL می‌گویند. پس اولین تفاوت این دو نوع پایگاه داده این است که نوع دوم یک نوع پایگاه داده‌ای غیر جدولی است. به عنوان دیگر پایگاه‌های داده‌ای NoSQL نیازی به مدل داده‌ای ندارند و با یک Master Class کار می‌کنند. به این صورت داده‌ها دیگر لازم نیست همیشه از یک قاعده مشخص پیروی کنند و یک مدل مشخص و از پیش تعریف‌شده داشته باشند. بنابراین پایگاه‌های NoSQL مقیاس‌پذیری بالاتری دارند. توزیع‌پذیری بیشتری دارند. احتمال خرابی داده‌ها در آن‌ها تقریبا صفر است و توانایی بسیار زیادی در کار با داده‌های بسیار بزرگ دارند. <br> <br> \n",
    "    به طور کلی پایگاه‌های داده NoSQL چند مدل مختلف می‌توانند داشته باشند: <br> \n",
    "    * Key-Value: داده‌ها به صورت کلید-مقدار ذخیره می‌شوند. برای هر داده یک عنوان به نام کلید و یک مقدار ذخیره می‌شود. مانند HYPERTABLE، accumulo، Casandra، APACHE HBASE، Amazon SimpleDB<br>\n",
    "    * Graph DB: پایگاه داده‌ای که بر پایه گراف ساخته می‌شود و داده‌ها تشکیل یک شبکه گراف مانند می‌دهند. مانند Neo4j و Infinite Graph<br>\n",
    "    * Column Family: داده‌ها مشابه با SQL در ستون‌های مختلف ذخیره می‌شوند با این تفاوت که برای هر داده ممکن است تعداد ستون‌ها متفاوت باشد. مانند redis، Amazon DynamoDB و riak<br>\n",
    "    * Document: پس از معرفی نوع داده Json و XML این نوع پایگاه داده معرفی شد که داده‌ها در قالب Json یا XML در این نوع پایگاه داده ذخیره می‌شوند. مانند MongoDB، MarkLogic و CouchBase\n",
    "</p>"
   ]
  },
  {
   "cell_type": "markdown",
   "id": "9839eed4",
   "metadata": {
    "direction": "rtl"
   },
   "source": [
    "<p style=\"font-family:B Nazanin\">\n",
    "   در این آموزش نحوه کار با پایگاه داده MongoDB را یاد می‌گیریم. پس از نصب MongoDB و MongoDB Shell در محیط cmd با دستور mongosh می‌توانیم محیط کار با این پایگاه داده را باز کنیم. (در این آموزش دستورات در محیط Shell مربوط به MongoDB اجرا شده و نتایج در اینجا آورده می‌شود):\n",
    "</p>"
   ]
  },
  {
   "cell_type": "markdown",
   "id": "de165a09",
   "metadata": {},
   "source": [
    "`mongosh`"
   ]
  },
  {
   "cell_type": "markdown",
   "id": "3fbf4987",
   "metadata": {},
   "source": [
    "`C:\\Users\\Alireza>mongosh`  \n",
    "`Current Mongosh Log ID: 648defdb8cadac0e6bbcff9c`  \n",
    "`Connecting to:          mongodb://127.0.0.1:27017/?directConnection=true&serverSelectionTimeoutMS=2000&appName=mongosh+1.10.0`  \n",
    "`Using MongoDB:          6.0.6`  \n",
    "`Using Mongosh:          1.10.0`  \n",
    "\n",
    "`For mongosh info see: https://docs.mongodb.com/mongodb-shell/`  \n",
    "\n",
    "\n",
    "`To help improve our products, anonymous usage data is collected and sent to MongoDB periodically (https://www.mongodb.com/legal/privacy-policy).\n",
    "You can opt-out by running the disableTelemetry() command.`  \n",
    "\n",
    "`------`  \n",
    "`   The server generated these startup warnings when booting\n",
    "   2023-06-06T18:41:00.580+04:30: Access control is not enabled for the database. Read and write access to data and configuration is unrestricted\n",
    "------`  \n",
    "\n",
    "`test>`"
   ]
  },
  {
   "cell_type": "markdown",
   "id": "761dce5b",
   "metadata": {
    "direction": "rtl"
   },
   "source": [
    "<p style=\"font-family:B Nazanin\">\n",
    "   با دستور زیر می‌توانیم نام تمام دیتابیس‌ها را ببینیم (نام دیتابیس درحال استفاده در ابتدای خط فرمان مشاهده می‌شود):\n",
    "</p>"
   ]
  },
  {
   "cell_type": "markdown",
   "id": "4d6ced5a",
   "metadata": {},
   "source": [
    "`test> show dbs`"
   ]
  },
  {
   "cell_type": "markdown",
   "id": "e48e1268",
   "metadata": {},
   "source": [
    "admin   40.00 KiB  \n",
    "config  72.00 KiB  \n",
    "local   40.00 KiB"
   ]
  },
  {
   "cell_type": "markdown",
   "id": "70b2953f",
   "metadata": {
    "direction": "rtl"
   },
   "source": [
    "<p style=\"font-family:B Nazanin\">\n",
    "   با دستور use می‌توان دیتابیس مورد نظر را انتخاب کرد. (در صورتی که این دیتابیس وجود نداشته باشد، یک دیتابیس جدید ساخته می‌شود)\n",
    "</p>"
   ]
  },
  {
   "cell_type": "markdown",
   "id": "954dd099",
   "metadata": {},
   "source": [
    "`test> use dbTest`"
   ]
  },
  {
   "cell_type": "markdown",
   "id": "5ecb5302",
   "metadata": {},
   "source": [
    "switched to db dbTest"
   ]
  },
  {
   "cell_type": "markdown",
   "id": "e856f7d7",
   "metadata": {
    "direction": "rtl"
   },
   "source": [
    "<p style=\"font-family:B Nazanin\">\n",
    "    مفاهیم موجود در پایگاه داده MongoDB: <br>\n",
    "* Database: مجموعه کل داده‌های یک محیط عملیاتی را پایگاه داده یا دیتابیس می‌گویند. <br>\n",
    "* Collection: به مجموعه‌ای از داده‌های مرتبط به هم که ویژگی‌های تقریبا مشابهی دارند، گفته می‌شود. کالکشن شبیه به جداول در پایگاه داده‌های SQL است. <br>\n",
    "* Document: به هر داده درون یک دیتابیس که می‌تواند ویژگی‌های مختلف داشته باشد، داکیومنت گفته می‌شود. داکیومنت‌ها در MongoDB با فرمت Json ذخیره می‌شوند. یعنی به صورت Key-Value. مثلا داده‌های زیر یک داکیومنت است:\n",
    "</p>"
   ]
  },
  {
   "cell_type": "markdown",
   "id": "d3442450",
   "metadata": {},
   "source": [
    "```\n",
    "{\n",
    "    \"id\": 1,\n",
    "    \"name\": \"mehdi\",\n",
    "    \"family\": \"abbasi\"\n",
    "}\n",
    "```"
   ]
  },
  {
   "cell_type": "markdown",
   "id": "2a020537",
   "metadata": {
    "direction": "rtl"
   },
   "source": [
    "<p style=\"font-family:B Nazanin\">\n",
    "   مجموعه‌ای از داکیومنت‌ها تشکیل یک کالکشن را می‌دهند. در واقع کالکشن آرایه یا لیستی از داکیومنت‌هاست.\n",
    "</p>"
   ]
  },
  {
   "cell_type": "markdown",
   "id": "e41ee0c9",
   "metadata": {},
   "source": [
    "```\n",
    "[\n",
    "    {\n",
    "        \"id\": 1,\n",
    "        \"name\": \"mehdi\",\n",
    "        \"family\": \"abbasi\"\n",
    "    },\n",
    "    {\n",
    "        \"id\": 2,\n",
    "        \"name\": \"ali\",\n",
    "        \"family\": \"rezaei\"\n",
    "    }\n",
    "]\n",
    "```"
   ]
  },
  {
   "cell_type": "markdown",
   "id": "d9d43cde",
   "metadata": {
    "direction": "rtl"
   },
   "source": [
    "<p style=\"font-family:B Nazanin\">\n",
    "   در حقیقت MongoDB درون خود از یک نوع داده به نام BSON استفاده می‌کند که همان JSON است که به صورت باینری (binary) ذخیره شده‌است.<br>\n",
    "    نکته دیگر این است که در محیط Mongo Shell می‌توانیم دستورات جاوا اسکریپت را اجرا کنیم و این دستورات شناسایی می‌شوند. <br>\n",
    "    برای ایجاد یک دیتابیس جدید از دستور use استفاده می‌کنیم. این دستور دیتابیس جدید را در یک حافظه موقت ایجاد می‌کند. این دیتابیس در حافظه موقت باقی می‌ماند تا زمانی که اولین کالکشن را به این دیتابیس اضافه کنیم. سپس به صورت دائمی ذخیره می‌شود. \n",
    "</p>"
   ]
  },
  {
   "cell_type": "markdown",
   "id": "cbd2c7b6",
   "metadata": {},
   "source": [
    "```\n",
    "test> use dbTest\n",
    "```"
   ]
  },
  {
   "cell_type": "markdown",
   "id": "3726268a",
   "metadata": {},
   "source": [
    "```\n",
    "switched to db dbTest\n",
    "```"
   ]
  },
  {
   "cell_type": "markdown",
   "id": "817b54e0",
   "metadata": {},
   "source": [
    "```\n",
    "dbTest> show dbs\n",
    "```"
   ]
  },
  {
   "cell_type": "markdown",
   "id": "f1bd28be",
   "metadata": {},
   "source": [
    "```\n",
    "admin    40.00 KiB\n",
    "config  108.00 KiB\n",
    "local    40.00 KiB\n",
    "```"
   ]
  },
  {
   "cell_type": "markdown",
   "id": "053e871f",
   "metadata": {
    "direction": "rtl"
   },
   "source": [
    "<p style=\"font-family:B Nazanin\">\n",
    "   با دستور createCollection می‌توانیم یک کالکشن جدید بسازیم. این دستور باید روی نام دیتابیس اجرا شود. در تمام دستورات MongoDB، کلمه کلیدی db نمایانگر دیتابیس جاری است.\n",
    "</p>"
   ]
  },
  {
   "cell_type": "markdown",
   "id": "4914e1f0",
   "metadata": {},
   "source": [
    "```\n",
    "dbTest> db.createCollection('products')\n",
    "```"
   ]
  },
  {
   "cell_type": "markdown",
   "id": "e1987def",
   "metadata": {},
   "source": [
    "```\n",
    "{ ok: 1 }\n",
    "```"
   ]
  },
  {
   "cell_type": "markdown",
   "id": "1b5a8fc2",
   "metadata": {
    "direction": "rtl"
   },
   "source": [
    "<p style=\"font-family:B Nazanin\">\n",
    "   خروجی این دستور نتیجه {ok: 1} را نشان می‌دهد که بیانگر موفقیت‌آمیز بودن اجرای دستور است. اکنون اگر لیست دیتابیس‌ها را ببینیم، مشاهده می‌کنیم که نام dbTest به آن‌ها اضافه شده‌است:\n",
    "</p>"
   ]
  },
  {
   "cell_type": "markdown",
   "id": "35dd0253",
   "metadata": {},
   "source": [
    "```\n",
    "dbTest> show dbs\n",
    "```"
   ]
  },
  {
   "cell_type": "markdown",
   "id": "cc6969b4",
   "metadata": {},
   "source": [
    "```\n",
    "admin    40.00 KiB\n",
    "config  108.00 KiB\n",
    "dbTest    8.00 KiB\n",
    "local    40.00 KiB\n",
    "```"
   ]
  },
  {
   "cell_type": "markdown",
   "id": "570316b6",
   "metadata": {},
   "source": [
    "```\n",
    "dbTest> db.createCollection('productGroups')\n",
    "```"
   ]
  },
  {
   "cell_type": "markdown",
   "id": "5f563f0e",
   "metadata": {},
   "source": [
    "```\n",
    "{ ok: 1 }\n",
    "```"
   ]
  },
  {
   "cell_type": "markdown",
   "id": "00c5f8f4",
   "metadata": {
    "direction": "rtl"
   },
   "source": [
    "<p style=\"font-family:B Nazanin\">\n",
    "   با دستور show collections می‌توانیم لیست تمام کالکشن‌های موجود در دیتابیس جاری را ببینیم.\n",
    "</p>"
   ]
  },
  {
   "cell_type": "markdown",
   "id": "5cd6e3b8",
   "metadata": {},
   "source": [
    "```\n",
    "dbTest> show collections\n",
    "```"
   ]
  },
  {
   "cell_type": "markdown",
   "id": "b2b66c1b",
   "metadata": {},
   "source": [
    "```\n",
    "productGroups\n",
    "products\n",
    "```"
   ]
  },
  {
   "cell_type": "markdown",
   "id": "d062aba7",
   "metadata": {},
   "source": [
    "```\n",
    "dbTest> db.createCollection('users')\n",
    "```"
   ]
  },
  {
   "cell_type": "markdown",
   "id": "25a5bab0",
   "metadata": {},
   "source": [
    "```\n",
    "{ ok: 1 }\n",
    "```"
   ]
  },
  {
   "cell_type": "markdown",
   "id": "fa75bda9",
   "metadata": {},
   "source": [
    "```\n",
    "dbTest> show collections\n",
    "```"
   ]
  },
  {
   "cell_type": "markdown",
   "id": "f8df16ae",
   "metadata": {},
   "source": [
    "```\n",
    "productGroups\n",
    "products\n",
    "users\n",
    "```"
   ]
  },
  {
   "cell_type": "markdown",
   "id": "a60e8baa",
   "metadata": {
    "direction": "rtl"
   },
   "source": [
    "<p style=\"font-family:B Nazanin\">\n",
    "   برای درج یک داکیومنت جدید در یک کالکشن باید از تابع insertOne استفاده کنیم. برای این تابع باید نام دیتابیس و نام کالکشن را نیز مشخص کنیم. داکیومنت مشخص‌شده باید با فرمت JSON نوشته شود. کلیدهای این داکیومنت می‌توانند با یا بدون دابل کوتیشن \"\" مشخص شوند. به جای دابل کوتیشن میتوان از کوتیشن '' نیز استفاده کرد. اعداد نیازی به کوتیشن ندارند. \n",
    "</p>"
   ]
  },
  {
   "cell_type": "markdown",
   "id": "12a8f56c",
   "metadata": {},
   "source": [
    "```\n",
    "dbTest> db.users.insertOne({name: 'mehdi', family: 'abbasi', age: 43})\n",
    "```"
   ]
  },
  {
   "cell_type": "markdown",
   "id": "17b9b6df",
   "metadata": {},
   "source": [
    "```\n",
    "{\n",
    "  acknowledged: true,\n",
    "  insertedId: ObjectId(\"648e02428cadac0e6bbcff9d\")\n",
    "}\n",
    "```"
   ]
  },
  {
   "cell_type": "markdown",
   "id": "6b47de43",
   "metadata": {},
   "source": [
    "```\n",
    "dbTest> db.users.insertOne({name: 'ali', family: 'rezaei'})\n",
    "```"
   ]
  },
  {
   "cell_type": "markdown",
   "id": "b6d22520",
   "metadata": {},
   "source": [
    "```\n",
    "{\n",
    "  acknowledged: true,\n",
    "  insertedId: ObjectId(\"648e03b38cadac0e6bbcff9e\")\n",
    "}\n",
    "```"
   ]
  },
  {
   "cell_type": "markdown",
   "id": "ba7b49d7",
   "metadata": {
    "direction": "rtl"
   },
   "source": [
    "<p style=\"font-family:B Nazanin\">\n",
    "   همانطور که در خروجی مشاهده می‌شود، نتیجه true برگردانده شده‌است و همچنین یک insertedId. تمام داکیومنت‌ها در پایگاه داده MongoDB دارای یک شناسه یا کد منحصربه‌فرد هستند. این شناسه از نوع داده‌ای به نام ObjectId است که به یک داکیومنت نسبت داده می‌شود. می‌توانیم خودمان دستی مقدار آن را مشخص کنیم. اما اگر نکردیم، یک شناسه منحصربه‌فرد اتوماتیک تولید می‌شود. <br>\n",
    "    یکی از ویژگی‌های خاص این نوع پایگاه داده این است که لزومی ندارد که داکیومنت‌هایی که در یک کالکشن ایجاد می‌شوند، تمام ویژگی‌هایشان مشابه باشد. مانند مثال بالا که یکی از داکیومنت‌ها ویژگی age دارد و دیگری ندارد. <br>\n",
    "    برای مشاهده داکیومنت‌های موجود در یک کالکشن از دستور find استفاده می‌کنیم:\n",
    "</p>"
   ]
  },
  {
   "cell_type": "markdown",
   "id": "49393461",
   "metadata": {},
   "source": [
    "```\n",
    "dbTest> db.users.find()\n",
    "```"
   ]
  },
  {
   "cell_type": "markdown",
   "id": "154391e7",
   "metadata": {},
   "source": [
    "```\n",
    "[\n",
    "  {\n",
    "    _id: ObjectId(\"648e02428cadac0e6bbcff9d\"),\n",
    "    name: 'mehdi',\n",
    "    family: 'abbasi',\n",
    "    age: 43\n",
    "  },\n",
    "  {\n",
    "    _id: ObjectId(\"648e03b38cadac0e6bbcff9e\"),\n",
    "    name: 'ali',\n",
    "    family: 'rezaei'\n",
    "  }\n",
    "]\n",
    "```"
   ]
  },
  {
   "cell_type": "markdown",
   "id": "b80297bc",
   "metadata": {
    "direction": "rtl"
   },
   "source": [
    "<p style=\"font-family:B Nazanin\">\n",
    "   خروجی این دستور لیستی از داکیومنت‌های پیداشده است. همانطور که می‌بینید، هر داکیومنت یک فیلد _id دارد. برای این که این فیلد به صورت اتوماتیک مقداردهی نشود، در حین ایجاد داکیومنت جدید باید خودمان به آن مقدار بدهیم.\n",
    "</p>"
   ]
  },
  {
   "cell_type": "markdown",
   "id": "48a698f3",
   "metadata": {},
   "source": [
    "```\n",
    "dbTest> db.users.insertOne({name: 'reza', _id: 1000, family: 'mohammadi'})\n",
    "```"
   ]
  },
  {
   "cell_type": "markdown",
   "id": "bbadd6ba",
   "metadata": {},
   "source": [
    "```\n",
    "{ acknowledged: true, insertedId: 1000 }\n",
    "```"
   ]
  },
  {
   "cell_type": "markdown",
   "id": "ba8afba3",
   "metadata": {},
   "source": [
    "```\n",
    "dbTest> db.users.find()\n",
    "```"
   ]
  },
  {
   "cell_type": "markdown",
   "id": "892065ea",
   "metadata": {},
   "source": [
    "```\n",
    "[\n",
    "  {\n",
    "    _id: ObjectId(\"648e02428cadac0e6bbcff9d\"),\n",
    "    name: 'mehdi',\n",
    "    family: 'abbasi',\n",
    "    age: 43\n",
    "  },\n",
    "  {\n",
    "    _id: ObjectId(\"648e03b38cadac0e6bbcff9e\"),\n",
    "    name: 'ali',\n",
    "    family: 'rezaei'\n",
    "  },\n",
    "  { _id: 1000, name: 'reza', family: 'mohammadi' }\n",
    "]\n",
    "```"
   ]
  },
  {
   "cell_type": "markdown",
   "id": "763afef5",
   "metadata": {
    "direction": "rtl"
   },
   "source": [
    "<p style=\"font-family:B Nazanin\">\n",
    "   در این حالت باید توجه داشته باشیم که آیدی تکراری وارد نکنیم.\n",
    "</p>"
   ]
  },
  {
   "cell_type": "markdown",
   "id": "923b2543",
   "metadata": {},
   "source": [
    "```\n",
    "dbTest> db.users.insertOne({name: 'sara', _id: 1001, family: 'akbari'})\n",
    "```"
   ]
  },
  {
   "cell_type": "markdown",
   "id": "706e4e86",
   "metadata": {},
   "source": [
    "```\n",
    "{ acknowledged: true, insertedId: 1001 }\n",
    "```"
   ]
  },
  {
   "cell_type": "markdown",
   "id": "f6067728",
   "metadata": {},
   "source": [
    "```\n",
    "dbTest> db.users.find()\n",
    "```"
   ]
  },
  {
   "cell_type": "markdown",
   "id": "186c647c",
   "metadata": {},
   "source": [
    "```\n",
    "[\n",
    "  {\n",
    "    _id: ObjectId(\"648e02428cadac0e6bbcff9d\"),\n",
    "    name: 'mehdi',\n",
    "    family: 'abbasi',\n",
    "    age: 43\n",
    "  },\n",
    "  {\n",
    "    _id: ObjectId(\"648e03b38cadac0e6bbcff9e\"),\n",
    "    name: 'ali',\n",
    "    family: 'rezaei'\n",
    "  },\n",
    "  { _id: 1000, name: 'reza', family: 'mohammadi' },\n",
    "  { _id: 1001, name: 'sara', family: 'akbari' }\n",
    "]\n",
    "```"
   ]
  },
  {
   "cell_type": "markdown",
   "id": "24f5ed25",
   "metadata": {
    "direction": "rtl"
   },
   "source": [
    "<p style=\"font-family:B Nazanin\">\n",
    "   انواع داده در پایگاه داده MongoDB به شرح زیر است: <br>\n",
    "    * Null: نوع داده خالی که هیچ مقداری در آن قرار نمی‌گیرد. <br>\n",
    "    * Boolean: نوع داده برای مقادیر درست و نادرست (True/False) <br>\n",
    "    * Number: نوع داده برای اعداد صحیح و اعشاری <br>\n",
    "    * String: نوع داده برای رشته‌ها <br>\n",
    "    * Date: نوع داده برای ذخیره تاریخ و زمان <br>\n",
    "    * Array: آرایه‌ها یا مجموعه‌ای از داده‌ها <br>\n",
    "    * ObjectId: نوع داده برای ذخیره شناسه یکتای هر داکیومنت <br>\n",
    "    * Regular Expressions: عبارات منظم که در جست‌وجوی داده‌ها از آن استفاده می‌شود. <br>\n",
    "    * Embeded Documents <br>\n",
    "    * Binary Data: داده‌هایی از نوع باینری به صورت 0 و 1 مثلا برای ذخیره عکس <br>\n",
    "    * Timestamp: مهر زمانی مثلا برای ذخیره کردن زمان دقیق ایجاد یک داکیومنت <br>\n",
    "    * Code: کدهای برنامه‌نویسی که ذخیره می‌شوند و در موقع مناسب اجرا می‌شوند. <br>\n",
    "    <br>\n",
    "    <b>عملیات درج داکیومنت‌های جدید:</b> برای درج داکیومنت‌های جدید، اگر تعداد یک بود، از تابع insertOne و اگر بیشتر از یکی بود از تابع insertMany استفاده می‌کنیم.\n",
    "</p>"
   ]
  },
  {
   "cell_type": "markdown",
   "id": "9aa9afd4",
   "metadata": {},
   "source": [
    "```\n",
    "dbTest> db.products.insertOne({title: 'CPU', price: 1450000})\n",
    "```"
   ]
  },
  {
   "cell_type": "markdown",
   "id": "2e6ba163",
   "metadata": {},
   "source": [
    "```\n",
    "{\n",
    "  acknowledged: true,\n",
    "  insertedId: ObjectId(\"648e0a7b8cadac0e6bbcff9f\")\n",
    "}\n",
    "```"
   ]
  },
  {
   "cell_type": "markdown",
   "id": "ea37f969",
   "metadata": {},
   "source": [
    "```\n",
    "dbTest> db.products.find()\n",
    "```"
   ]
  },
  {
   "cell_type": "markdown",
   "id": "9a1a2184",
   "metadata": {},
   "source": [
    "```\n",
    "[\n",
    "  {\n",
    "    _id: ObjectId(\"648e0a7b8cadac0e6bbcff9f\"),\n",
    "    title: 'CPU',\n",
    "    price: 1450000\n",
    "  }\n",
    "]\n",
    "```"
   ]
  },
  {
   "cell_type": "markdown",
   "id": "f540c5c0",
   "metadata": {},
   "source": [
    "```\n",
    "dbTest> db.products.insertMany([{title: 'RAM', price: 2300000}, {_id: 3, title: 'HDD', price: 980000}])\n",
    "```"
   ]
  },
  {
   "cell_type": "markdown",
   "id": "8d30fe6f",
   "metadata": {},
   "source": [
    "```\n",
    "{\n",
    "  acknowledged: true,\n",
    "  insertedIds: { '0': ObjectId(\"648e0b328cadac0e6bbcffa0\"), '1': 3 }\n",
    "}\n",
    "```"
   ]
  },
  {
   "cell_type": "markdown",
   "id": "9db474b1",
   "metadata": {},
   "source": [
    "```\n",
    "dbTest> db.products.find()\n",
    "```"
   ]
  },
  {
   "cell_type": "markdown",
   "id": "178a3afc",
   "metadata": {},
   "source": [
    "```\n",
    "[\n",
    "  {\n",
    "    _id: ObjectId(\"648e0a7b8cadac0e6bbcff9f\"),\n",
    "    title: 'CPU',\n",
    "    price: 1450000\n",
    "  },\n",
    "  {\n",
    "    _id: ObjectId(\"648e0b328cadac0e6bbcffa0\"),\n",
    "    title: 'RAM',\n",
    "    price: 2300000\n",
    "  },\n",
    "  { _id: 3, title: 'HDD', price: 980000 }\n",
    "]\n",
    "```"
   ]
  },
  {
   "cell_type": "markdown",
   "id": "861ccbea",
   "metadata": {
    "direction": "rtl"
   },
   "source": [
    "<p style=\"font-family:B Nazanin\">\n",
    "   همانطور که گفتیم می‌توانیم دستورات js (جاوا اسکریپت) را نیز در اینجا اجرا کنیم. مثلا می‌توانیم دستورات insert را درون یک فایل بنویسیم و با دستورات js آن فایل را اجرا کنیم. مثلا در مثال زیر درون فایل مشخص‌شده دو داکیومنت به این کالکشن اضافه می‌شود.\n",
    "</p>"
   ]
  },
  {
   "cell_type": "markdown",
   "id": "9acb1c14",
   "metadata": {},
   "source": [
    "```\n",
    "dbTest> load('E:/Learning/AI Master - Darsman/Semester 2 - Artificial Intelligence Basics/Learn/file1.js')\n",
    "```"
   ]
  },
  {
   "cell_type": "markdown",
   "id": "5df6d5bb",
   "metadata": {},
   "source": [
    "```\n",
    "true\n",
    "```"
   ]
  },
  {
   "cell_type": "markdown",
   "id": "3eda6ab0",
   "metadata": {},
   "source": [
    "```\n",
    "dbTest> db.products.find()\n",
    "```"
   ]
  },
  {
   "cell_type": "markdown",
   "id": "43b1d9e2",
   "metadata": {},
   "source": [
    "```\n",
    "[\n",
    "  {\n",
    "    _id: ObjectId(\"648e0a7b8cadac0e6bbcff9f\"),\n",
    "    title: 'CPU',\n",
    "    price: 1450000\n",
    "  },\n",
    "  {\n",
    "    _id: ObjectId(\"648e0b328cadac0e6bbcffa0\"),\n",
    "    title: 'RAM',\n",
    "    price: 2300000\n",
    "  },\n",
    "  { _id: 3, title: 'HDD', price: 980000 },\n",
    "  { _id: 4, title: 'VGA', price: 4500000 },\n",
    "  { _id: 5, title: 'Mouse', price: 450000 }\n",
    "]\n",
    "```"
   ]
  },
  {
   "cell_type": "markdown",
   "id": "03f2d2df",
   "metadata": {
    "direction": "rtl"
   },
   "source": [
    "<p style=\"font-family:B Nazanin\">\n",
    "    <b>عملیات بارکشی داده‌ها از دیتابیس:</b> برای خواندن اطلاعات از درون دیتابیس از دستورات find و findOne استفاده می‌کنیم. دستور findOne فقط یک داکیومنت که ویژگی‌های مشخص‌شده را داشته باشد، برمی‌گرداند ولی خروجی دستور find لیستی از داکیومنت‌ها با ویژگی‌های مشخص‌شده است. ساده‌ترین روش استفاده از تابع find (یا findOne) بدون هیچ پارامتری، تمام داکیومنت‌های درون یک کالکشن را برمی‌گرداند.\n",
    "</p>"
   ]
  },
  {
   "cell_type": "markdown",
   "id": "10fa7dec",
   "metadata": {},
   "source": [
    "```\n",
    "dbTest> db.users.find()\n",
    "```"
   ]
  },
  {
   "cell_type": "markdown",
   "id": "c12d2dc1",
   "metadata": {},
   "source": [
    "```\n",
    "[\n",
    "  {\n",
    "    _id: ObjectId(\"648e02428cadac0e6bbcff9d\"),\n",
    "    name: 'mehdi',\n",
    "    family: 'abbasi',\n",
    "    age: 43\n",
    "  },\n",
    "  {\n",
    "    _id: ObjectId(\"648e03b38cadac0e6bbcff9e\"),\n",
    "    name: 'ali',\n",
    "    family: 'rezaei'\n",
    "  },\n",
    "  { _id: 1000, name: 'reza', family: 'mohammadi' },\n",
    "  { _id: 1001, name: 'sara', family: 'akbari' }\n",
    "]\n",
    "```"
   ]
  },
  {
   "cell_type": "markdown",
   "id": "f247239c",
   "metadata": {
    "direction": "rtl"
   },
   "source": [
    "<p style=\"font-family:B Nazanin\">\n",
    "   برای محدود کردن نتایج انتخاب داده‌ها می‌توان شرط تعیین کرد. تابع find و findOne پارامترهایی را می‌پذیرد که اولین پارامتر می‌تواند تعیین‌کننده شرط باشد. شرط مشخص‌شده خودش به صورت یک داکیومنت در قالب JSON است. در مثال زیر کاربری را پیدا می‌کنیم که _id آن برابر با 1000 است.\n",
    "</p>"
   ]
  },
  {
   "cell_type": "markdown",
   "id": "e17485ac",
   "metadata": {},
   "source": [
    "```\n",
    "dbTest> db.users.find({_id: 1000})\n",
    "```"
   ]
  },
  {
   "cell_type": "markdown",
   "id": "c688cb32",
   "metadata": {},
   "source": [
    "```\n",
    "[ { _id: 1000, name: 'reza', family: 'mohammadi' } ]\n",
    "```"
   ]
  },
  {
   "cell_type": "markdown",
   "id": "acabeab7",
   "metadata": {
    "direction": "rtl"
   },
   "source": [
    "<p style=\"font-family:B Nazanin\">\n",
    "   تابع findOne از بین هر تعداد داکیومنتی که پیدا بکند، فقط اولین داکیومنت را برمی‌گرداند. \n",
    "</p>"
   ]
  },
  {
   "cell_type": "markdown",
   "id": "07ef147b",
   "metadata": {},
   "source": [
    "```\n",
    "dbTest> db.users.findOne({})\n",
    "```"
   ]
  },
  {
   "cell_type": "markdown",
   "id": "7badf41b",
   "metadata": {},
   "source": [
    "```\n",
    "{\n",
    "  _id: ObjectId(\"648e02428cadac0e6bbcff9d\"),\n",
    "  name: 'mehdi',\n",
    "  family: 'abbasi',\n",
    "  age: 43\n",
    "}\n",
    "```"
   ]
  },
  {
   "cell_type": "markdown",
   "id": "ac617369",
   "metadata": {},
   "source": [
    "```\n",
    "dbTest> db.users.insertOne({_id: 6, name: 'sara', family: 'abbasi'})\n",
    "\n",
    "{ acknowledged: true, insertedId: 6 }\n",
    "```"
   ]
  },
  {
   "cell_type": "markdown",
   "id": "e9a3742d",
   "metadata": {},
   "source": [
    "```\n",
    "dbTest> db.users.find()\n",
    "\n",
    "[\n",
    "  {\n",
    "    _id: ObjectId(\"648e02428cadac0e6bbcff9d\"),\n",
    "    name: 'mehdi',\n",
    "    family: 'abbasi',\n",
    "    age: 43\n",
    "  },\n",
    "  {\n",
    "    _id: ObjectId(\"648e03b38cadac0e6bbcff9e\"),\n",
    "    name: 'ali',\n",
    "    family: 'rezaei'\n",
    "  },\n",
    "  { _id: 1000, name: 'reza', family: 'mohammadi' },\n",
    "  { _id: 1001, name: 'sara', family: 'akbari' },\n",
    "  { _id: 6, name: 'sara', family: 'abbasi' }\n",
    "]\n",
    "```"
   ]
  },
  {
   "cell_type": "markdown",
   "id": "4b8a4f96",
   "metadata": {},
   "source": [
    "```\n",
    "dbTest> db.users.find({name: 'sara'})\n",
    "\n",
    "[\n",
    "  { _id: 1001, name: 'sara', family: 'akbari' },\n",
    "  { _id: 6, name: 'sara', family: 'abbasi' }\n",
    "]\n",
    "\n",
    "\n",
    "dbTest> db.users.findOne({name: 'sara'})\n",
    "\n",
    "{ _id: 1001, name: 'sara', family: 'akbari' }\n",
    "dbTest>\n",
    "```"
   ]
  },
  {
   "cell_type": "markdown",
   "id": "4623207a",
   "metadata": {
    "direction": "rtl"
   },
   "source": [
    "<p style=\"font-family:B Nazanin\">\n",
    "   برای قالب‌بندی خروجی تابع find و findOne از قابلیتی به نام projection استفاده می‌کنیم. پارامتر دوم این توابع این قابلیت را مشخص می‌کند. این پارامتر نیز یک داکیومنت می‌گیرد که کلیدهای آن کلیدهای داکیومنت اصلی است و مقادیر آن صفر یا یک است. صفر یعنی این کلید در خروجی نشان داده نشود و یک یعنی نشان داده شود. مثلا اگر بخواهیم که فقط نام همه کاربران را در خروجی ببینیم داریم: \n",
    "</p>"
   ]
  },
  {
   "cell_type": "markdown",
   "id": "e85fb59b",
   "metadata": {},
   "source": [
    "```\n",
    "dbTest> db.users.find({}, {name: 1})\n",
    "\n",
    "[\n",
    "  { _id: ObjectId(\"648e02428cadac0e6bbcff9d\"), name: 'mehdi' },\n",
    "  { _id: ObjectId(\"648e03b38cadac0e6bbcff9e\"), name: 'ali' },\n",
    "  { _id: 1000, name: 'reza' },\n",
    "  { _id: 1001, name: 'sara' },\n",
    "  { _id: 6, name: 'sara' }\n",
    "]\n",
    "```"
   ]
  },
  {
   "cell_type": "markdown",
   "id": "12083f8e",
   "metadata": {
    "direction": "rtl"
   },
   "source": [
    "<p style=\"font-family:B Nazanin\">\n",
    "    همان طور که می‌بینیم علاوه بر نام، _id نیز نشان داده می‌شود که این مورد پیش‌فرض MongoDB است. اگر نخواهیم _id نشان داده شود باید به طور صریح به آن بگوییم. در مثال زیر نام و فامیل همه کاربران را می‌بینیم:\n",
    "</p>"
   ]
  },
  {
   "cell_type": "markdown",
   "id": "bb878628",
   "metadata": {},
   "source": [
    "```\n",
    "dbTest> db.users.find({}, {_id: 0, name: 1, family: 1})\n",
    "\n",
    "[\n",
    "  { name: 'mehdi', family: 'abbasi' },\n",
    "  { name: 'ali', family: 'rezaei' },\n",
    "  { name: 'reza', family: 'mohammadi' },\n",
    "  { name: 'sara', family: 'akbari' },\n",
    "  { name: 'sara', family: 'abbasi' }\n",
    "]\n",
    "```"
   ]
  },
  {
   "cell_type": "markdown",
   "id": "1648c9de",
   "metadata": {
    "direction": "rtl"
   },
   "source": [
    "<p style=\"font-family:B Nazanin\">\n",
    "    برای مرتب‌سازی نتایج خروجی، روی خروجی تابع find، تابع sort را فراخوانی می‌کنیم. تابع sort نیز به عنوان ورودی یک داکیومنت می‌گیرد که به ترتیب بر اساس کلیدهای داده‌شده در آن، مرتب‌سازی را انجام می‌دهد. مقدار هر کلید اگر 1 بود، مرتب‌سازی صعودی و اگر -1 بود، مرتب‌سازی نزولی انجام می‌دهد. در مثال زیر کاربران ابتدا بر اساس نام به صورت صعودی و سپس بر اساس فامیل به صورت نزولی مرتب می‌شوند.\n",
    "</p>"
   ]
  },
  {
   "cell_type": "markdown",
   "id": "c72ed31a",
   "metadata": {},
   "source": [
    "```\n",
    "dbTest> db.users.find({}, {_id: 0, name: 1, family: 1}).sort({name: 1, family: -1})\n",
    "\n",
    "[\n",
    "  { name: 'ali', family: 'rezaei' },\n",
    "  { name: 'mehdi', family: 'abbasi' },\n",
    "  { name: 'reza', family: 'mohammadi' },\n",
    "  { name: 'sara', family: 'akbari' },\n",
    "  { name: 'sara', family: 'abbasi' }\n",
    "]\n",
    "```"
   ]
  },
  {
   "cell_type": "markdown",
   "id": "428eb850",
   "metadata": {
    "direction": "rtl"
   },
   "source": [
    "<p style=\"font-family:B Nazanin\">\n",
    "    تابع limit برای محدود کردن تعداد نتایج خروجی استفاده می‌شود. مثلا در کد زیر فقط 3 داکیومنت خروجی داده می‌شود.\n",
    "</p>"
   ]
  },
  {
   "cell_type": "markdown",
   "id": "3dde984a",
   "metadata": {},
   "source": [
    "```\n",
    "dbTest> db.users.find({}, {_id: 0, name: 1, family: 1}).limit(3)\n",
    "\n",
    "[\n",
    "  { name: 'mehdi', family: 'abbasi' },\n",
    "  { name: 'ali', family: 'rezaei' },\n",
    "  { name: 'reza', family: 'mohammadi' }\n",
    "]\n",
    "```"
   ]
  },
  {
   "cell_type": "markdown",
   "id": "543ca3bf",
   "metadata": {},
   "source": [
    "```\n",
    "dbTest> db.users.find({}, {_id: 0, name: 1, family: 1}).sort({name: 1, family: -1}).limit(3)\n",
    "\n",
    "[\n",
    "  { name: 'ali', family: 'rezaei' },\n",
    "  { name: 'mehdi', family: 'abbasi' },\n",
    "  { name: 'reza', family: 'mohammadi' }\n",
    "]\n",
    "```"
   ]
  },
  {
   "cell_type": "markdown",
   "id": "87e15992",
   "metadata": {
    "direction": "rtl"
   },
   "source": [
    "<p style=\"font-family:B Nazanin\">\n",
    "    برای نوشتن شرط‌های پیچیده‌تر برای انتخاب داده‌ها، نیاز به عملگرهایی داریم. عملگرها در MongoDB همه با \\$ شروع می‌شوند و به صورت یک داکیومنت نوشته می‌شوند. <br>\n",
    "    <b>عملگرهای مقایسه‌ای:</b> <br>\n",
    "    * eq\\$: عملگر مساوی <br>\n",
    "    * ne\\$: عملگر نامساوی <br>\n",
    "    * lt\\$: عملگر کوچکتر <br>\n",
    "    * lte\\$: عملگر کوچکتر مساوی <br>\n",
    "    * gt\\$: عملگر بزرگتر <br>\n",
    "    * gte\\$: عملگر بزرگتر مساوی <br>\n",
    "    * in\\$: عملگر عضویت <br>\n",
    "    * nin\\$: عملگر عدم عضویت <br>\n",
    "</p>"
   ]
  },
  {
   "cell_type": "markdown",
   "id": "b11d3e6f",
   "metadata": {
    "direction": "rtl"
   },
   "source": [
    "<p style=\"font-family:B Nazanin\">\n",
    "   در مثال زیر کاربرانی را پیدا می‌کنیم که آیدی آن‌ها برابر با 1000 است:\n",
    "</p>"
   ]
  },
  {
   "cell_type": "markdown",
   "id": "20ea8c17",
   "metadata": {},
   "source": [
    "```\n",
    "dbTest> db.users.find({_id: {$eq: 1000}})\n",
    "\n",
    "[ { _id: 1000, name: 'reza', family: 'mohammadi' } ]\n",
    "```"
   ]
  },
  {
   "cell_type": "markdown",
   "id": "0ed366ae",
   "metadata": {
    "direction": "rtl"
   },
   "source": [
    "<p style=\"font-family:B Nazanin\">\n",
    "    کاربرانی که آیدی آن‌ها کمتر از 1200 است:\n",
    "</p>"
   ]
  },
  {
   "cell_type": "markdown",
   "id": "abd3c58d",
   "metadata": {},
   "source": [
    "```\n",
    "dbTest> db.users.find({_id: {$lt: 1200}})\n",
    "\n",
    "[\n",
    "  { _id: 6, name: 'sara', family: 'abbasi' },\n",
    "  { _id: 1000, name: 'reza', family: 'mohammadi' },\n",
    "  { _id: 1001, name: 'sara', family: 'akbari' }\n",
    "]\n",
    "```"
   ]
  },
  {
   "cell_type": "markdown",
   "id": "743d272d",
   "metadata": {
    "direction": "rtl"
   },
   "source": [
    "<p style=\"font-family:B Nazanin\">\n",
    "    کاربرانی که آیدی آن‌ها کوچکتر مساوی 1000 است:\n",
    "</p>"
   ]
  },
  {
   "cell_type": "markdown",
   "id": "90a37833",
   "metadata": {},
   "source": [
    "```\n",
    "dbTest> db.users.find({_id: {$lte: 1000}})\n",
    "\n",
    "[\n",
    "  { _id: 6, name: 'sara', family: 'abbasi' },\n",
    "  { _id: 1000, name: 'reza', family: 'mohammadi' }\n",
    "]\n",
    "```"
   ]
  },
  {
   "cell_type": "markdown",
   "id": "82774d54",
   "metadata": {
    "direction": "rtl"
   },
   "source": [
    "<p style=\"font-family:B Nazanin\">\n",
    "    کاربرانی که آیدی آن‌ها بزرگتر از 500 است:\n",
    "</p>"
   ]
  },
  {
   "cell_type": "markdown",
   "id": "16f69c03",
   "metadata": {},
   "source": [
    "```\n",
    "dbTest> db.users.find({_id: {$gt: 500}})\n",
    "\n",
    "[\n",
    "  { _id: 1000, name: 'reza', family: 'mohammadi' },\n",
    "  { _id: 1001, name: 'sara', family: 'akbari' }\n",
    "]\n",
    "```"
   ]
  },
  {
   "cell_type": "markdown",
   "id": "1fb449e6",
   "metadata": {
    "direction": "rtl"
   },
   "source": [
    "<p style=\"font-family:B Nazanin\">\n",
    "    کاربرانی که آیدی آن‌ها در مجموعه [1000,1300,600,2,1001,25] است:\n",
    "</p>"
   ]
  },
  {
   "cell_type": "markdown",
   "id": "af6bbe54",
   "metadata": {},
   "source": [
    "```\n",
    "dbTest> db.users.find({_id: {$in: [1000,1300,600,2,1001,25]}})\n",
    "\n",
    "[\n",
    "  { _id: 1000, name: 'reza', family: 'mohammadi' },\n",
    "  { _id: 1001, name: 'sara', family: 'akbari' }\n",
    "]\n",
    "```"
   ]
  },
  {
   "cell_type": "markdown",
   "id": "c9b243fc",
   "metadata": {
    "direction": "rtl"
   },
   "source": [
    "<p style=\"font-family:B Nazanin\">\n",
    "    کاربرانی که آیدی آن‌ها در این مجموعه نیست:\n",
    "</p>"
   ]
  },
  {
   "cell_type": "markdown",
   "id": "30aa0951",
   "metadata": {},
   "source": [
    "```\n",
    "dbTest> db.users.find({_id: {$nin: [1000,1300,600,2,1001,25]}})\n",
    "\n",
    "[\n",
    "  { _id: 6, name: 'sara', family: 'abbasi' },\n",
    "  {\n",
    "    _id: ObjectId(\"648e02428cadac0e6bbcff9d\"),\n",
    "    name: 'mehdi',\n",
    "    family: 'abbasi',\n",
    "    age: 43\n",
    "  },\n",
    "  {\n",
    "    _id: ObjectId(\"648e03b38cadac0e6bbcff9e\"),\n",
    "    name: 'ali',\n",
    "    family: 'rezaei'\n",
    "  }\n",
    "]\n",
    "```"
   ]
  },
  {
   "cell_type": "markdown",
   "id": "a72eaaa3",
   "metadata": {
    "direction": "rtl"
   },
   "source": [
    "<p style=\"font-family:B Nazanin\">\n",
    "    <b>عملگرهای منطقی:</b><br>\n",
    "   * and\\$: عملگر AND منطقی<br>\n",
    "   * or\\$: عملگر OR منطقی<br>\n",
    "    * nor\\$: نقیض عملگر OR منطقی <br>\n",
    "    * not\\$: عملگر نقیض\n",
    "</p>"
   ]
  },
  {
   "cell_type": "markdown",
   "id": "9ef69a56",
   "metadata": {
    "direction": "rtl"
   },
   "source": [
    "<p style=\"font-family:B Nazanin\">\n",
    "    کاربرانی که نامشان برابر با sara نیست:\n",
    "</p>"
   ]
  },
  {
   "cell_type": "markdown",
   "id": "d81e35e7",
   "metadata": {},
   "source": [
    "```\n",
    "dbTest> db.users.find({name: {$not: {$eq: 'sara'}}})\n",
    "\n",
    "[\n",
    "  {\n",
    "    _id: ObjectId(\"648e02428cadac0e6bbcff9d\"),\n",
    "    name: 'mehdi',\n",
    "    family: 'abbasi',\n",
    "    age: 43\n",
    "  },\n",
    "  {\n",
    "    _id: ObjectId(\"648e03b38cadac0e6bbcff9e\"),\n",
    "    name: 'ali',\n",
    "    family: 'rezaei'\n",
    "  },\n",
    "  { _id: 1000, name: 'reza', family: 'mohammadi' }\n",
    "]\n",
    "```"
   ]
  },
  {
   "cell_type": "markdown",
   "id": "9c417d5b",
   "metadata": {
    "direction": "rtl"
   },
   "source": [
    "<p style=\"font-family:B Nazanin\">\n",
    "    کاربرانی که نامشان sara و ali و mehdi است و آیدی آن‌ها 6 نیست:\n",
    "</p>"
   ]
  },
  {
   "cell_type": "markdown",
   "id": "e4ddfda5",
   "metadata": {},
   "source": [
    "```\n",
    "dbTest> db.users.find({$and: [{name: {$in: ['sara', 'mehdi', 'ali']}}, {_id: {$ne: 6}}]})\n",
    "\n",
    "[\n",
    "  { _id: 1001, name: 'sara', family: 'akbari' },\n",
    "  {\n",
    "    _id: ObjectId(\"648e02428cadac0e6bbcff9d\"),\n",
    "    name: 'mehdi',\n",
    "    family: 'abbasi',\n",
    "    age: 43\n",
    "  },\n",
    "  {\n",
    "    _id: ObjectId(\"648e03b38cadac0e6bbcff9e\"),\n",
    "    name: 'ali',\n",
    "    family: 'rezaei'\n",
    "  }\n",
    "]\n",
    "```"
   ]
  },
  {
   "cell_type": "markdown",
   "id": "a89f84bd",
   "metadata": {
    "direction": "rtl"
   },
   "source": [
    "<p style=\"font-family:B Nazanin\">\n",
    "   کاربرانی که نامشان sara و ali و mehdi است یا آیدی آن‌ها 6 نیست: \n",
    "</p>"
   ]
  },
  {
   "cell_type": "markdown",
   "id": "083cf48f",
   "metadata": {},
   "source": [
    "```\n",
    "dbTest> db.users.find({$or: [{name: {$in: ['sara', 'mehdi', 'ali']}}, {_id: {$ne: 6}}]})\n",
    "\n",
    "[\n",
    "  {\n",
    "    _id: ObjectId(\"648e02428cadac0e6bbcff9d\"),\n",
    "    name: 'mehdi',\n",
    "    family: 'abbasi',\n",
    "    age: 43\n",
    "  },\n",
    "  {\n",
    "    _id: ObjectId(\"648e03b38cadac0e6bbcff9e\"),\n",
    "    name: 'ali',\n",
    "    family: 'rezaei'\n",
    "  },\n",
    "  { _id: 1000, name: 'reza', family: 'mohammadi' },\n",
    "  { _id: 1001, name: 'sara', family: 'akbari' },\n",
    "  { _id: 6, name: 'sara', family: 'abbasi' }\n",
    "]\n",
    "```"
   ]
  },
  {
   "cell_type": "markdown",
   "id": "f00c3650",
   "metadata": {
    "direction": "rtl"
   },
   "source": [
    "<p style=\"font-family:B Nazanin\">\n",
    "    کاربرانی که نامشان sara و ali و mehdi نیست و آیدی آن‌ها 6 است: (نقیض مثال بالا)\n",
    "</p>"
   ]
  },
  {
   "cell_type": "markdown",
   "id": "2799d03c",
   "metadata": {},
   "source": [
    "```\n",
    "dbTest> db.users.find({$nor: [{name: {$in: ['sara', 'mehdi', 'ali']}}, {_id: {$ne: 6}}]})\n",
    "\n",
    "[]\n",
    "```"
   ]
  },
  {
   "cell_type": "markdown",
   "id": "e81949a9",
   "metadata": {
    "direction": "rtl"
   },
   "source": [
    "<p style=\"font-family:B Nazanin\">\n",
    "    <b>عملگرهای المانی:</b> عملگرهایی که تک تک المان‌های یک لیست را بررسی می‌کنند. <br>\n",
    "    * exists\\$: این عملگر چک می‌کند یک فیلد خاص در یک داکیومنت هست یا خیر. اگر یک داکیومنت دارای یک فیلد خاص بود true و اگر نبود false برمی‌گرداند. <br>\n",
    "    * type\\$: چک می‌کند که نوع داده‌ای یک فیلد، مقدار خاصی باشد و true یا false برمی‌گرداند.\n",
    "</p>"
   ]
  },
  {
   "cell_type": "markdown",
   "id": "7b786236",
   "metadata": {
    "direction": "rtl"
   },
   "source": [
    "<p style=\"font-family:B Nazanin\">\n",
    "    کاربرانی که فیلد age را دارند:\n",
    "</p>"
   ]
  },
  {
   "cell_type": "markdown",
   "id": "27a77245",
   "metadata": {},
   "source": [
    "```\n",
    "dbTest> db.users.find({age: {$exists: true}})\n",
    "\n",
    "[\n",
    "  {\n",
    "    _id: ObjectId(\"648e02428cadac0e6bbcff9d\"),\n",
    "    name: 'mehdi',\n",
    "    family: 'abbasi',\n",
    "    age: 43\n",
    "  }\n",
    "]\n",
    "```"
   ]
  },
  {
   "cell_type": "markdown",
   "id": "510e0f1d",
   "metadata": {
    "direction": "rtl"
   },
   "source": [
    "<p style=\"font-family:B Nazanin\">\n",
    "    کاربرانی که فیلد age را ندارند:\n",
    "</p>"
   ]
  },
  {
   "cell_type": "markdown",
   "id": "c2c1d835",
   "metadata": {},
   "source": [
    "```\n",
    "dbTest> db.users.find({age: {$exists: false}})\n",
    "\n",
    "[\n",
    "  {\n",
    "    _id: ObjectId(\"648e03b38cadac0e6bbcff9e\"),\n",
    "    name: 'ali',\n",
    "    family: 'rezaei'\n",
    "  },\n",
    "  { _id: 1000, name: 'reza', family: 'mohammadi' },\n",
    "  { _id: 1001, name: 'sara', family: 'akbari' },\n",
    "  { _id: 6, name: 'sara', family: 'abbasi' }\n",
    "]\n",
    "```"
   ]
  },
  {
   "cell_type": "markdown",
   "id": "afb0f7e0",
   "metadata": {
    "direction": "rtl"
   },
   "source": [
    "<p style=\"font-family:B Nazanin\">\n",
    "    کاربرانی که id آن‌ها از نوع عددی باشد:\n",
    "</p>"
   ]
  },
  {
   "cell_type": "markdown",
   "id": "2be7dd28",
   "metadata": {},
   "source": [
    "```\n",
    "dbTest> db.users.find({_id: {$type: 'int'}})\n",
    "\n",
    "[\n",
    "  { _id: 6, name: 'sara', family: 'abbasi' },\n",
    "  { _id: 1000, name: 'reza', family: 'mohammadi' },\n",
    "  { _id: 1001, name: 'sara', family: 'akbari' }\n",
    "]\n",
    "```"
   ]
  },
  {
   "cell_type": "markdown",
   "id": "44b14f8e",
   "metadata": {
    "direction": "rtl"
   },
   "source": [
    "<p style=\"font-family:B Nazanin\">\n",
    "    کاربرانی که id آن‌ها از نوع رشته‌ای باشد:\n",
    "</p>"
   ]
  },
  {
   "cell_type": "markdown",
   "id": "7fd46172",
   "metadata": {},
   "source": [
    "```\n",
    "dbTest> db.users.find({_id: {$type: 'string'}})\n",
    "\n",
    "[]\n",
    "```"
   ]
  },
  {
   "cell_type": "markdown",
   "id": "ef893048",
   "metadata": {
    "direction": "rtl"
   },
   "source": [
    "<p style=\"font-family:B Nazanin\">\n",
    "    انواع داده‌ای و رشته متناظر با آن‌ها:<br>\n",
    "    <table>\n",
    "        <tr>\n",
    "            <th>نوع داده‌ای</th>\n",
    "            <th>رشته متناظر</th>\n",
    "            <th>عدد متناظر</th>\n",
    "        </tr>\n",
    "        <tr>\n",
    "            <td>Double</td>\n",
    "            <td>\"double\"</td>\n",
    "            <td>1</td>\n",
    "        </tr>\n",
    "        <tr>\n",
    "            <td>String</td>\n",
    "            <td>\"string\"</td>\n",
    "            <td>2</td>\n",
    "        </tr>\n",
    "        <tr>\n",
    "            <td>Object</td>\n",
    "            <td>\"object\"</td>\n",
    "            <td>3</td>\n",
    "        </tr>\n",
    "        <tr>\n",
    "            <td>Array</td>\n",
    "            <td>\"array\"</td>\n",
    "            <td>4</td>\n",
    "        </tr>\n",
    "        <tr>\n",
    "            <td>Binary Data</td>\n",
    "            <td>\"binData\"</td>\n",
    "            <td>5</td>\n",
    "        </tr>\n",
    "        <tr>\n",
    "            <td>ObjectId</td>\n",
    "            <td>\"objectId\"</td>\n",
    "            <td>7</td>\n",
    "        </tr>\n",
    "        <tr>\n",
    "            <td>Boolean</td>\n",
    "            <td>\"bool\"</td>\n",
    "            <td>8</td>\n",
    "        </tr>\n",
    "        <tr>\n",
    "            <td>Date</td>\n",
    "            <td>\"date\"</td>\n",
    "            <td>9</td>\n",
    "        </tr>\n",
    "        <tr>\n",
    "            <td>Null</td>\n",
    "            <td>\"null\"</td>\n",
    "            <td>10</td>\n",
    "        </tr>\n",
    "        <tr>\n",
    "            <td>RegularExpression</td>\n",
    "            <td>\"regex\"</td>\n",
    "            <td>11</td>\n",
    "        </tr>\n",
    "        <tr>\n",
    "            <td>JavaScript</td>\n",
    "            <td>\"javascript\"</td>\n",
    "            <td>13</td>\n",
    "        </tr>\n",
    "        <tr>\n",
    "            <td>32-bit Integer</td>\n",
    "            <td>\"int\"</td>\n",
    "            <td>16</td>\n",
    "        </tr>\n",
    "        <tr>\n",
    "            <td>TimeStamp</td>\n",
    "            <td>\"timestamp\"</td>\n",
    "            <td>17</td>\n",
    "        </tr>\n",
    "        <tr>\n",
    "            <td>64-bit Integer</td>\n",
    "            <td>\"long\"</td>\n",
    "            <td>18</td>\n",
    "        </tr>\n",
    "        <tr>\n",
    "            <td>Decimal128</td>\n",
    "            <td>\"decimal\"</td>\n",
    "            <td>19</td>\n",
    "        </tr>\n",
    "        <tr>\n",
    "            <td>MinKey</td>\n",
    "            <td>\"minKey\"</td>\n",
    "            <td>-1</td>\n",
    "        </tr>\n",
    "        <tr>\n",
    "            <td>MaxKey</td>\n",
    "            <td>\"maxKey\"</td>\n",
    "            <td>127</td>\n",
    "        </tr>\n",
    "    </table>\n",
    "</p>"
   ]
  },
  {
   "cell_type": "markdown",
   "id": "3cb89f86",
   "metadata": {
    "direction": "rtl"
   },
   "source": [
    "<p style=\"font-family:B Nazanin\">\n",
    "    کاربرانی که id آن‌ها از نوع ObjectId است: (هم می‌توان نوع را به صورت رشته‌ای نوشت و هم مطابق با جدول بالا با استفاده از عدد متناظر)\n",
    "</p>"
   ]
  },
  {
   "cell_type": "markdown",
   "id": "9e309fa9",
   "metadata": {},
   "source": [
    "```\n",
    "dbTest> db.users.find({_id: {$type: 'objectId'}})\n",
    "\n",
    "[\n",
    "  {\n",
    "    _id: ObjectId(\"648e02428cadac0e6bbcff9d\"),\n",
    "    name: 'mehdi',\n",
    "    family: 'abbasi',\n",
    "    age: 43\n",
    "  },\n",
    "  {\n",
    "    _id: ObjectId(\"648e03b38cadac0e6bbcff9e\"),\n",
    "    name: 'ali',\n",
    "    family: 'rezaei'\n",
    "  }\n",
    "]\n",
    "\n",
    "\n",
    "dbTest> db.users.find({_id: {$type: 7}})\n",
    "\n",
    "[\n",
    "  {\n",
    "    _id: ObjectId(\"648e02428cadac0e6bbcff9d\"),\n",
    "    name: 'mehdi',\n",
    "    family: 'abbasi',\n",
    "    age: 43\n",
    "  },\n",
    "  {\n",
    "    _id: ObjectId(\"648e03b38cadac0e6bbcff9e\"),\n",
    "    name: 'ali',\n",
    "    family: 'rezaei'\n",
    "  }\n",
    "]\n",
    "```"
   ]
  },
  {
   "cell_type": "markdown",
   "id": "c2a46861",
   "metadata": {
    "direction": "rtl"
   },
   "source": [
    "<p style=\"font-family:B Nazanin\">\n",
    "    برای حذف کلی یک کالکشن از تابع drop استفاده می‌کنیم.\n",
    "</p>"
   ]
  },
  {
   "cell_type": "markdown",
   "id": "603194f0",
   "metadata": {},
   "source": [
    "```\n",
    "dbTest> db.users.drop()\n",
    "true\n",
    "\n",
    "dbTest> db.products.drop()\n",
    "true\n",
    "\n",
    "dbTest> db.productGroups.drop()\n",
    "true\n",
    "\n",
    "dbTest> show collections\n",
    "[]\n",
    "```"
   ]
  },
  {
   "cell_type": "markdown",
   "id": "9378706f",
   "metadata": {},
   "source": [
    "```\n",
    "dbTest> db.createCollection('products')\n",
    "\n",
    "{ ok: 1 }\n",
    "\n",
    "\n",
    "dbTest> db.products.insertMany([\n",
    "...     {_id: 1, name: \"ASUS\", price: 38000000, spec: {\"ram\": 16, \"cpu\": 2.66}, storage: [1024], color: [\"white\", \"black\"]},\n",
    "...     {_id: 2, name: \"Apple\", price: 93000000, spec: {\"ram\": 8, \"cpu\": 3.66}, storage: [128, 256], color: [\"white\", \"black\", \"blue\"]},\n",
    "...     {_id: 3, name: \"HP\", price: 28000000, spec: {\"ram\": 12, \"cpu\": 3.66}, storage: [16, 64, 128], color: [\"blue\"]},\n",
    "...     {_id: 4, name: \"Dell\", price: 21000000, spec: {\"ram\": 8, \"cpu\": 1.66}, storage: [128, 256, 1024], color: [\"white\", \"yellow\", \"gold\", \"gray\"]},\n",
    "...     {_id: 5, name: \"Acer\", price: 32000000, spec: {\"ram\": 8, \"cpu\": 1.66}, storage: [128, 256, 512], color: [\"white\", \"gold\", \"gray\"]},\n",
    "...     {_id: 6, name: \"Lenovo\", price: 18000000, spec: {\"ram\": 16, \"cpu\": 3.66}, storage: [16, 64, 128], color: [\"black\"]}\n",
    "... ])\n",
    "\n",
    "{\n",
    "  acknowledged: true,\n",
    "  insertedIds: { '0': 1, '1': 2, '2': 3, '3': 4, '4': 5, '5': 6 }\n",
    "}\n",
    "```"
   ]
  },
  {
   "cell_type": "markdown",
   "id": "7d8de1c4",
   "metadata": {
    "direction": "rtl"
   },
   "source": [
    "<p style=\"font-family:B Nazanin\">\n",
    "    <b>عملگرهای آرایه‌ای:</b> عملگرهایی که روی آرایه‌ها کار می‌کنند:<br>\n",
    "    * size\\$: عملگری که تعداد اعضای یک آرایه را محاسبه می‌کند. <br>\n",
    "    * elemMatch\\$: عملگری که وجود یک عنصر را درون یک فیلد از نوع آرایه چک می‌کند. <br>\n",
    "    * all\\$: برای بررسی وجود یک آرایه درون یک آرایه دیگر به کار می‌رود.\n",
    "</p>"
   ]
  },
  {
   "cell_type": "markdown",
   "id": "40439630",
   "metadata": {
    "direction": "rtl"
   },
   "source": [
    "<p style=\"font-family:B Nazanin\">\n",
    "    محصولاتی که دو رنگ دارند:\n",
    "</p>"
   ]
  },
  {
   "cell_type": "markdown",
   "id": "1c13e539",
   "metadata": {},
   "source": [
    "```\n",
    "dbTest> db.products.find({color: {$size: 2}})\n",
    "\n",
    "[\n",
    "  {\n",
    "    _id: 1,\n",
    "    name: 'ASUS',\n",
    "    price: 38000000,\n",
    "    spec: { ram: 16, cpu: 2.66 },\n",
    "    storage: [ 1024 ],\n",
    "    color: [ 'white', 'black' ]\n",
    "  }\n",
    "]\n",
    "```"
   ]
  },
  {
   "cell_type": "markdown",
   "id": "3d50596a",
   "metadata": {
    "direction": "rtl"
   },
   "source": [
    "<p style=\"font-family:B Nazanin\">\n",
    "    محصولاتی که سه رنگ دارند:\n",
    "</p>"
   ]
  },
  {
   "cell_type": "markdown",
   "id": "23d20a65",
   "metadata": {},
   "source": [
    "```\n",
    "dbTest> db.products.find({color: {$size: 3}})\n",
    "\n",
    "[\n",
    "  {\n",
    "    _id: 2,\n",
    "    name: 'Apple',\n",
    "    price: 93000000,\n",
    "    spec: { ram: 8, cpu: 3.66 },\n",
    "    storage: [ 128, 256 ],\n",
    "    color: [ 'white', 'black', 'blue' ]\n",
    "  },\n",
    "  {\n",
    "    _id: 5,\n",
    "    name: 'Acer',\n",
    "    price: 32000000,\n",
    "    spec: { ram: 8, cpu: 1.66 },\n",
    "    storage: [ 128, 256, 512 ],\n",
    "    color: [ 'white', 'gold', 'gray' ]\n",
    "  }\n",
    "]\n",
    "```"
   ]
  },
  {
   "cell_type": "markdown",
   "id": "83a615a5",
   "metadata": {
    "direction": "rtl"
   },
   "source": [
    "<p style=\"font-family:B Nazanin\">\n",
    "    محصولاتی که رنگ مشکی دارند:\n",
    "</p>"
   ]
  },
  {
   "cell_type": "markdown",
   "id": "88088175",
   "metadata": {},
   "source": [
    "```\n",
    "dbTest> db.products.find({color: {$elemMatch: {$eq: 'black'}}})\n",
    "\n",
    "[\n",
    "  {\n",
    "    _id: 1,\n",
    "    name: 'ASUS',\n",
    "    price: 38000000,\n",
    "    spec: { ram: 16, cpu: 2.66 },\n",
    "    storage: [ 1024 ],\n",
    "    color: [ 'white', 'black' ]\n",
    "  },\n",
    "  {\n",
    "    _id: 2,\n",
    "    name: 'Apple',\n",
    "    price: 93000000,\n",
    "    spec: { ram: 8, cpu: 3.66 },\n",
    "    storage: [ 128, 256 ],\n",
    "    color: [ 'white', 'black', 'blue' ]\n",
    "  },\n",
    "  {\n",
    "    _id: 6,\n",
    "    name: 'Lenovo',\n",
    "    price: 18000000,\n",
    "    spec: { ram: 16, cpu: 3.66 },\n",
    "    storage: [ 16, 64, 128 ],\n",
    "    color: [ 'black' ]\n",
    "  }\n",
    "]\n",
    "```"
   ]
  },
  {
   "cell_type": "markdown",
   "id": "fad703fb",
   "metadata": {
    "direction": "rtl"
   },
   "source": [
    "<p style=\"font-family:B Nazanin\">\n",
    "    محصولاتی که هر دو رنگ آبی و مشکی را دارند:\n",
    "</p>"
   ]
  },
  {
   "cell_type": "markdown",
   "id": "fab6568c",
   "metadata": {},
   "source": [
    "```\n",
    "dbTest> db.products.find({color: {$all: ['blue', 'black']}})\n",
    "\n",
    "[\n",
    "  {\n",
    "    _id: 2,\n",
    "    name: 'Apple',\n",
    "    price: 93000000,\n",
    "    spec: { ram: 8, cpu: 3.66 },\n",
    "    storage: [ 128, 256 ],\n",
    "    color: [ 'white', 'black', 'blue' ]\n",
    "  }\n",
    "]\n",
    "```"
   ]
  }
 ],
 "metadata": {
  "kernelspec": {
   "display_name": "Python 3 (ipykernel)",
   "language": "python",
   "name": "python3"
  },
  "language_info": {
   "codemirror_mode": {
    "name": "ipython",
    "version": 3
   },
   "file_extension": ".py",
   "mimetype": "text/x-python",
   "name": "python",
   "nbconvert_exporter": "python",
   "pygments_lexer": "ipython3",
   "version": "3.11.2"
  }
 },
 "nbformat": 4,
 "nbformat_minor": 5
}
