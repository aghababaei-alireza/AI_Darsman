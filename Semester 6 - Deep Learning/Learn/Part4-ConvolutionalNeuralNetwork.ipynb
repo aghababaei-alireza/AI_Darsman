{
 "cells": [
  {
   "cell_type": "markdown",
   "id": "aba94b83",
   "metadata": {},
   "source": [
    "<span dir=\"rtl\" style=\"font-family:B Nazanin\" align=\"right\">\n",
    "    <h1>فصل ششم: یادگیری عمیق</h1>\n",
    "    <h2>بخش چهارم: شبکه‌های عصبی کانولوشن یا Convolutional neural network یا CNN</h2>\n",
    "</span>"
   ]
  }
 ],
 "metadata": {
  "kernelspec": {
   "display_name": "Python 3 (ipykernel)",
   "language": "python",
   "name": "python3"
  },
  "language_info": {
   "codemirror_mode": {
    "name": "ipython",
    "version": 3
   },
   "file_extension": ".py",
   "mimetype": "text/x-python",
   "name": "python",
   "nbconvert_exporter": "python",
   "pygments_lexer": "ipython3",
   "version": "3.11.2"
  }
 },
 "nbformat": 4,
 "nbformat_minor": 5
}
