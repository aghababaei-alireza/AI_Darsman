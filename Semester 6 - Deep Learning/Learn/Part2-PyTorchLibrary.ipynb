{
  "cells": [
    {
      "cell_type": "markdown",
      "metadata": {
        "id": "view-in-github",
        "colab_type": "text"
      },
      "source": [
        "<a href=\"https://colab.research.google.com/github/aghababaei-alireza/AI_Darsman/blob/main/Semester%206%20-%20Deep%20Learning/Learn/Part2-PyTorchLibrary.ipynb\" target=\"_parent\"><img src=\"https://colab.research.google.com/assets/colab-badge.svg\" alt=\"Open In Colab\"/></a>"
      ]
    },
    {
      "cell_type": "markdown",
      "id": "8d281bde",
      "metadata": {
        "direction": "rtl",
        "id": "8d281bde"
      },
      "source": [
        "<span dir=\"rtl\" style=\"font-family:B Nazanin\" align=\"right\">\n",
        "    <h1>فصل ششم: یادگیری عمیق</h1>\n",
        "    <h2>بخش دوم: کتابخانه PyTorch و کاربرد آن در یادگیری عمیق</h2>\n",
        "</span>"
      ]
    },
    {
      "cell_type": "markdown",
      "id": "a1336976",
      "metadata": {
        "direction": "rtl",
        "id": "a1336976"
      },
      "source": [
        "<p style=\"font-family:B Nazanin\" dir=\"rtl\" align=\"right\">\n",
        "     در این فصل می‌خواهیم با کتابخانه قدرتمند PyTorch آشنا شویم که به ما این امکان را می‌دهد تا مدل‌های هوش مصنوعی خود را آموزش دهیم و از آن‌ها استفاده کنیم. یکی از ویژگی‌های بارز PyTorch این است که این امکان را برای ما فراهم می‌کند که کدهای خود را توسط GPU (پردازنده‌های گرافیکی) اجرا کنیم که بسیار بسیار قدرتمندتر از CPUها هستند. ویژگی بسیار محبوب دیگر این کتابخانه این است که اجازه می‌دهد تا مدل خود را در حین اجرا تغییر دهیم و مشکلات آن را بسیار راحت پیدا کرده و برطرف کنیم. <br>\n",
        "    برای نصب این کتابخانه با استفاده از pip، در محیط ترمینال از دستور زیر استفاده می‌کنیم:\n",
        "</p>"
      ]
    },
    {
      "cell_type": "code",
      "execution_count": null,
      "id": "0f5c3344",
      "metadata": {
        "collapsed": true,
        "id": "0f5c3344",
        "outputId": "22057d2d-0253-4120-bc95-88d0f65ca298"
      },
      "outputs": [
        {
          "name": "stdout",
          "output_type": "stream",
          "text": [
            "Requirement already satisfied: torch in c:\\users\\alireza\\appdata\\local\\programs\\python\\python311\\lib\\site-packages (2.4.1)\n",
            "Requirement already satisfied: torchvision in c:\\users\\alireza\\appdata\\local\\programs\\python\\python311\\lib\\site-packages (0.19.1)\n",
            "Requirement already satisfied: torchaudio in c:\\users\\alireza\\appdata\\local\\programs\\python\\python311\\lib\\site-packages (2.4.1)\n",
            "Requirement already satisfied: filelock in c:\\users\\alireza\\appdata\\local\\programs\\python\\python311\\lib\\site-packages (from torch) (3.12.4)\n",
            "Requirement already satisfied: typing-extensions>=4.8.0 in c:\\users\\alireza\\appdata\\local\\programs\\python\\python311\\lib\\site-packages (from torch) (4.10.0)\n",
            "Requirement already satisfied: sympy in c:\\users\\alireza\\appdata\\local\\programs\\python\\python311\\lib\\site-packages (from torch) (1.13.3)\n",
            "Requirement already satisfied: networkx in c:\\users\\alireza\\appdata\\local\\programs\\python\\python311\\lib\\site-packages (from torch) (3.3)\n",
            "Requirement already satisfied: jinja2 in c:\\users\\alireza\\appdata\\local\\programs\\python\\python311\\lib\\site-packages (from torch) (3.1.2)\n",
            "Requirement already satisfied: fsspec in c:\\users\\alireza\\appdata\\local\\programs\\python\\python311\\lib\\site-packages (from torch) (2024.9.0)\n",
            "Requirement already satisfied: numpy in c:\\users\\alireza\\appdata\\local\\programs\\python\\python311\\lib\\site-packages (from torchvision) (1.24.2)\n",
            "Requirement already satisfied: pillow!=8.3.*,>=5.3.0 in c:\\users\\alireza\\appdata\\local\\programs\\python\\python311\\lib\\site-packages (from torchvision) (9.4.0)\n",
            "Requirement already satisfied: MarkupSafe>=2.0 in c:\\users\\alireza\\appdata\\local\\programs\\python\\python311\\lib\\site-packages (from jinja2->torch) (2.1.2)\n",
            "Requirement already satisfied: mpmath<1.4,>=1.1.0 in c:\\users\\alireza\\appdata\\local\\programs\\python\\python311\\lib\\site-packages (from sympy->torch) (1.3.0)\n"
          ]
        },
        {
          "name": "stderr",
          "output_type": "stream",
          "text": [
            "WARNING: Ignoring invalid distribution ~ip (C:\\Users\\Alireza\\AppData\\Local\\Programs\\Python\\Python311\\Lib\\site-packages)\n",
            "WARNING: Ignoring invalid distribution ~ip (C:\\Users\\Alireza\\AppData\\Local\\Programs\\Python\\Python311\\Lib\\site-packages)\n",
            "WARNING: Ignoring invalid distribution ~ip (C:\\Users\\Alireza\\AppData\\Local\\Programs\\Python\\Python311\\Lib\\site-packages)\n"
          ]
        }
      ],
      "source": [
        "!pip3 install torch torchvision torchaudio"
      ]
    },
    {
      "cell_type": "markdown",
      "id": "43cac99d",
      "metadata": {
        "direction": "rtl",
        "id": "43cac99d"
      },
      "source": [
        "<p style=\"font-family:B Nazanin\" dir=\"rtl\">\n",
        "    برای استفاده از این کتابخانه باید ماژول <code>torch</code> را وارد کنیم.\n",
        "</p>"
      ]
    },
    {
      "cell_type": "code",
      "execution_count": null,
      "id": "95f78177",
      "metadata": {
        "id": "95f78177"
      },
      "outputs": [],
      "source": [
        "import torch\n",
        "import numpy as np\n",
        "import matplotlib.pyplot as plt"
      ]
    },
    {
      "cell_type": "markdown",
      "id": "4241a5ca",
      "metadata": {
        "direction": "rtl",
        "id": "4241a5ca"
      },
      "source": [
        "<p style=\"font-family:B Nazanin\" dir=\"rtl\">\n",
        "     یکی از مهم‌ترین قابلیت‌های کتابخانه PyTorch این است که می‌تواند کدها را روی GPU اجرا کند. برای بررسی این مورد که آیا GPU در دسترسی هست و می‌توانیم از آن استفاده کنیم دستور زیر را اجرا می‌کنیم:\n",
        "</p>"
      ]
    },
    {
      "cell_type": "code",
      "execution_count": null,
      "id": "4c341454",
      "metadata": {
        "colab": {
          "base_uri": "https://localhost:8080/"
        },
        "id": "4c341454",
        "outputId": "31f46aaa-2790-4a89-8954-f81ab2184cf4"
      },
      "outputs": [
        {
          "output_type": "execute_result",
          "data": {
            "text/plain": [
              "True"
            ]
          },
          "metadata": {},
          "execution_count": 2
        }
      ],
      "source": [
        "torch.cuda.is_available()"
      ]
    },
    {
      "cell_type": "markdown",
      "source": [
        "<p style=\"font-family:B Nazanin\" dir=\"rtl\">\n",
        "    برای یافتن اطلاعات پردازنده گرافیکی که در حال حاضر فعال است از دستورات زیر در محیط ترمینال استفاده می‌کنیم:\n",
        "</p>"
      ],
      "metadata": {
        "id": "bikR8SXL05XJ"
      },
      "id": "bikR8SXL05XJ"
    },
    {
      "cell_type": "code",
      "source": [
        "!nvidia-smi # برای پردازنده‌های گرافیکی برند NVIDIA"
      ],
      "metadata": {
        "id": "WqGbfLgJ1hPb",
        "outputId": "908077e0-ac82-4814-89ea-c5109287f2e9",
        "colab": {
          "base_uri": "https://localhost:8080/"
        }
      },
      "id": "WqGbfLgJ1hPb",
      "execution_count": null,
      "outputs": [
        {
          "output_type": "stream",
          "name": "stdout",
          "text": [
            "Fri Oct  4 14:02:52 2024       \n",
            "+---------------------------------------------------------------------------------------+\n",
            "| NVIDIA-SMI 535.104.05             Driver Version: 535.104.05   CUDA Version: 12.2     |\n",
            "|-----------------------------------------+----------------------+----------------------+\n",
            "| GPU  Name                 Persistence-M | Bus-Id        Disp.A | Volatile Uncorr. ECC |\n",
            "| Fan  Temp   Perf          Pwr:Usage/Cap |         Memory-Usage | GPU-Util  Compute M. |\n",
            "|                                         |                      |               MIG M. |\n",
            "|=========================================+======================+======================|\n",
            "|   0  Tesla T4                       Off | 00000000:00:04.0 Off |                    0 |\n",
            "| N/A   48C    P8              11W /  70W |      3MiB / 15360MiB |      0%      Default |\n",
            "|                                         |                      |                  N/A |\n",
            "+-----------------------------------------+----------------------+----------------------+\n",
            "                                                                                         \n",
            "+---------------------------------------------------------------------------------------+\n",
            "| Processes:                                                                            |\n",
            "|  GPU   GI   CI        PID   Type   Process name                            GPU Memory |\n",
            "|        ID   ID                                                             Usage      |\n",
            "|=======================================================================================|\n",
            "|  No running processes found                                                           |\n",
            "+---------------------------------------------------------------------------------------+\n"
          ]
        }
      ]
    },
    {
      "cell_type": "markdown",
      "source": [
        "<p style=\"font-family:B Nazanin\" dir=\"rtl\">\n",
        "    <b>انواع داده در PyTorch:</b> در کتابخانه PyTorch نوع داده‌های زیر وجود دارد که مقادیر بر اساس این نوع داده‌ها می‌توانند ذخیره شوند:<br>\n",
        "    * torch.float32 یا torch.float: اعداد اعشاری که 32 بیت فضا مصرف می‌کنند.<br>\n",
        "    * torch.float64 یا torch.double: اعداد اعشاری دقیق‌تر که 64 بیت فضا مصرف می‌کنند.<br>\n",
        "    * torch.float16 یا torch.half: اعداد اعشاری که 16 بیت فضا مصرف می‌کنند.<br>\n",
        "    * torch.int8: اعداد صحیح 8 بیتی (از -128 تا +127)<br>\n",
        "    * torch.int16 یا torch.short: اعداد صحیح 16 بیتی<br>\n",
        "    * torch.int32 یا torch.int: اعداد صحیح 32 بیتی<br>\n",
        "    * torch.int64 یا torch.long: اعداد صحیح 6 بیتی<br>\n",
        "    * torch.uint8: اعداد صحیح بدون علامت 8 بیتی (از صفر تا 255)<br>\n",
        "    * torch.bool: متغیرهای منطقی (درست یا غلط)<br>\n",
        "    * torch.bfloat16: اعداد اعشاری بهبودیافته نوع float با اندازه 32 بیت\n",
        "</p>"
      ],
      "metadata": {
        "id": "KjVnwFlm2xFP"
      },
      "id": "KjVnwFlm2xFP"
    },
    {
      "cell_type": "markdown",
      "source": [
        "<p style=\"font-family:B Nazanin\" dir=\"rtl\">\n",
        "    <b>تنسور:</b><br>\n",
        "    همان طور که می‌دانید مقادیر و داده‌ها می‌توانند در چند بعد ایجاد و ذخیره شوند. <br>\n",
        "    داده‌های تکی یا بدون بعد را داده‌های اسکالر می‌گویند. مانند 25 یا 12.3. <br>\n",
        "    داده‌هایی که در یک بعد ذخیره شوند را بردار می‌گویند. مانند:‌ [1,2,3] <br>\n",
        "    داده‌هایی که در دو بعد ذخیره شوند را ماتریس می‌گویند. مانند: [[1,2,3],[4,5,6]]<br>\n",
        "    داده‌هایی که در ابعاد بزرگتر از دو ایجاد شوند را تنسور (Tensor) می‌گویند.\n",
        "</p>"
      ],
      "metadata": {
        "id": "ORlN3bdW6XJ3"
      },
      "id": "ORlN3bdW6XJ3"
    },
    {
      "cell_type": "markdown",
      "source": [
        "<p style=\"font-family:B Nazanin\" dir=\"rtl\">\n",
        "    تمامی داده‌ها از اسکالر تا داده‌های چندبعدی را می‌تواند در قالب تنسور در کتابخانه PyTorch ایجاد کرد. برای ایجاد داده اسکالر به صورت زیر عمل می‌کنیم:\n",
        "</p>"
      ],
      "metadata": {
        "id": "CHz-ilwd7Zg9"
      },
      "id": "CHz-ilwd7Zg9"
    },
    {
      "cell_type": "code",
      "source": [
        "scaler_data1 = torch.tensor(12)\n",
        "print(scaler_data1)"
      ],
      "metadata": {
        "id": "baa_PzOl7nlF",
        "outputId": "599efec6-ebcd-4696-e6dc-f8a4c541ae8e",
        "colab": {
          "base_uri": "https://localhost:8080/"
        }
      },
      "id": "baa_PzOl7nlF",
      "execution_count": null,
      "outputs": [
        {
          "output_type": "stream",
          "name": "stdout",
          "text": [
            "tensor(12)\n"
          ]
        }
      ]
    },
    {
      "cell_type": "markdown",
      "source": [
        "<p style=\"font-family:B Nazanin\" dir=\"rtl\">\n",
        "    نوع داده‌ای این متغیر را به صورت زیر می‌توانیم ببینیم:\n",
        "</p>"
      ],
      "metadata": {
        "id": "-dVCLyiX7wCg"
      },
      "id": "-dVCLyiX7wCg"
    },
    {
      "cell_type": "code",
      "source": [
        "scaler_data1.dtype"
      ],
      "metadata": {
        "id": "sDp89AtT7vEL",
        "outputId": "83abe804-ed73-46f6-f3d3-d627050f5fd6",
        "colab": {
          "base_uri": "https://localhost:8080/"
        }
      },
      "id": "sDp89AtT7vEL",
      "execution_count": null,
      "outputs": [
        {
          "output_type": "execute_result",
          "data": {
            "text/plain": [
              "torch.int64"
            ]
          },
          "metadata": {},
          "execution_count": 8
        }
      ]
    },
    {
      "cell_type": "markdown",
      "source": [
        "<p style=\"font-family:B Nazanin\" dir=\"rtl\">\n",
        "    ابعاد این متغیر را به صورت زیر می‌توانیم ببینیم:\n",
        "</p>"
      ],
      "metadata": {
        "id": "z0eWsC7g76ki"
      },
      "id": "z0eWsC7g76ki"
    },
    {
      "cell_type": "code",
      "source": [
        "scaler_data1.shape"
      ],
      "metadata": {
        "id": "0uHUWx8V7-3Y",
        "outputId": "9a6bc6df-42f5-4854-8693-3310ef53c261",
        "colab": {
          "base_uri": "https://localhost:8080/"
        }
      },
      "id": "0uHUWx8V7-3Y",
      "execution_count": null,
      "outputs": [
        {
          "output_type": "execute_result",
          "data": {
            "text/plain": [
              "torch.Size([])"
            ]
          },
          "metadata": {},
          "execution_count": 9
        }
      ]
    },
    {
      "cell_type": "code",
      "source": [
        "scaler_data1.size()"
      ],
      "metadata": {
        "id": "NWe9fqXO8AfC",
        "outputId": "1411394e-3711-4e9f-cc4e-32a6edd1b5fe",
        "colab": {
          "base_uri": "https://localhost:8080/"
        }
      },
      "id": "NWe9fqXO8AfC",
      "execution_count": null,
      "outputs": [
        {
          "output_type": "execute_result",
          "data": {
            "text/plain": [
              "torch.Size([])"
            ]
          },
          "metadata": {},
          "execution_count": 11
        }
      ]
    },
    {
      "cell_type": "markdown",
      "source": [
        "<p style=\"font-family:B Nazanin\" dir=\"rtl\">\n",
        "    برای اینکه ببینیم این متغیر روی چه دستگاهی (cpu یا gpu) ایجاد شده است، از دستور زیر استفاده می‌کنیم:\n",
        "</p>"
      ],
      "metadata": {
        "id": "xeJsGSTh8GMJ"
      },
      "id": "xeJsGSTh8GMJ"
    },
    {
      "cell_type": "code",
      "source": [
        "scaler_data1.device"
      ],
      "metadata": {
        "id": "82dUKwaa8SS-",
        "outputId": "d88e87ca-078e-42fd-d387-d701e8a8a1ce",
        "colab": {
          "base_uri": "https://localhost:8080/"
        }
      },
      "id": "82dUKwaa8SS-",
      "execution_count": null,
      "outputs": [
        {
          "output_type": "execute_result",
          "data": {
            "text/plain": [
              "device(type='cpu')"
            ]
          },
          "metadata": {},
          "execution_count": 12
        }
      ]
    },
    {
      "cell_type": "markdown",
      "source": [
        "<p style=\"font-family:B Nazanin\" dir=\"rtl\">\n",
        "    با اینکه استفاده از GPU فعال شده است ولی به صورت پیش‌فرض متغیرها روی CPU ساخته می‌شوند. برای ایجاد متغیر روی GPU در هنگام ساخت متغیر باید این مسئله را مشخص کنیم.\n",
        "</p>"
      ],
      "metadata": {
        "id": "lkudl0CN8Wg-"
      },
      "id": "lkudl0CN8Wg-"
    },
    {
      "cell_type": "code",
      "source": [
        "scaler_data2 = torch.tensor(56.7)\n",
        "print(scaler_data2)\n",
        "print(scaler_data2.dtype)\n",
        "print(scaler_data2.shape)\n",
        "print(scaler_data2.device)"
      ],
      "metadata": {
        "id": "JLzVEoYi8l7N",
        "outputId": "c139cb42-94b2-4946-c51a-4f1fc6c06c6e",
        "colab": {
          "base_uri": "https://localhost:8080/"
        }
      },
      "id": "JLzVEoYi8l7N",
      "execution_count": null,
      "outputs": [
        {
          "output_type": "stream",
          "name": "stdout",
          "text": [
            "tensor(56.7000)\n",
            "torch.float32\n",
            "torch.Size([])\n",
            "cpu\n"
          ]
        }
      ]
    },
    {
      "cell_type": "code",
      "source": [
        "scaler_data3 = torch.tensor(True)\n",
        "print(scaler_data3)\n",
        "print(scaler_data3.dtype)\n",
        "print(scaler_data3.shape)\n",
        "print(scaler_data3.device)"
      ],
      "metadata": {
        "id": "tFMYMTAp9EnX",
        "outputId": "fd263829-9107-491a-c950-8cb1eaccb7a9",
        "colab": {
          "base_uri": "https://localhost:8080/"
        }
      },
      "id": "tFMYMTAp9EnX",
      "execution_count": null,
      "outputs": [
        {
          "output_type": "stream",
          "name": "stdout",
          "text": [
            "tensor(True)\n",
            "torch.bool\n",
            "torch.Size([])\n",
            "cpu\n"
          ]
        }
      ]
    },
    {
      "cell_type": "code",
      "source": [
        "scaler_data4 = torch.tensor(12, dtype=torch.float64)\n",
        "print(scaler_data4)\n",
        "print(scaler_data4.dtype)\n",
        "print(scaler_data4.shape)\n",
        "print(scaler_data4.device)"
      ],
      "metadata": {
        "id": "cc-TixaK9Qa3",
        "outputId": "b91d633d-a3e3-4b79-f96d-6fc4f8abc0d2",
        "colab": {
          "base_uri": "https://localhost:8080/"
        }
      },
      "id": "cc-TixaK9Qa3",
      "execution_count": null,
      "outputs": [
        {
          "output_type": "stream",
          "name": "stdout",
          "text": [
            "tensor(12., dtype=torch.float64)\n",
            "torch.float64\n",
            "torch.Size([])\n",
            "cpu\n"
          ]
        }
      ]
    },
    {
      "cell_type": "markdown",
      "source": [
        "<p style=\"font-family:B Nazanin\" dir=\"rtl\">\n",
        "    برای ایجاد یک متغیر روی GPU باید مقدار پارامتر device را هنگام تعریف متغیر برابر با cuda بگذاریم.\n",
        "</p>"
      ],
      "metadata": {
        "id": "nSiSYUof9lCx"
      },
      "id": "nSiSYUof9lCx"
    },
    {
      "cell_type": "code",
      "source": [
        "scaler_data5 = torch.tensor(12, dtype=torch.float64, device='cuda')\n",
        "print(scaler_data5)\n",
        "print(scaler_data5.dtype)\n",
        "print(scaler_data5.shape)\n",
        "print(scaler_data5.device)"
      ],
      "metadata": {
        "id": "A4uc4rfS907o",
        "outputId": "8be3790c-f8b3-46ab-b37a-df0081f69d3e",
        "colab": {
          "base_uri": "https://localhost:8080/"
        }
      },
      "id": "A4uc4rfS907o",
      "execution_count": null,
      "outputs": [
        {
          "output_type": "stream",
          "name": "stdout",
          "text": [
            "tensor(12., device='cuda:0', dtype=torch.float64)\n",
            "torch.float64\n",
            "torch.Size([])\n",
            "cuda:0\n"
          ]
        }
      ]
    },
    {
      "cell_type": "markdown",
      "source": [
        "<p style=\"font-family:B Nazanin\" dir=\"rtl\">\n",
        "    برای ایجاد بردار در قالب تنسور به صورت زیر عمل می‌کنیم:\n",
        "</p>"
      ],
      "metadata": {
        "id": "SWZospF7-M3H"
      },
      "id": "SWZospF7-M3H"
    },
    {
      "cell_type": "code",
      "source": [
        "vector_data1 = torch.tensor([213,54,5,5,4,343,234])\n",
        "print(vector_data1)\n",
        "print(vector_data1.dtype)\n",
        "print(vector_data1.shape)"
      ],
      "metadata": {
        "id": "MZTHmFip-S6b",
        "outputId": "3eedeb4a-450f-4279-d401-c996462f9bcd",
        "colab": {
          "base_uri": "https://localhost:8080/"
        }
      },
      "id": "MZTHmFip-S6b",
      "execution_count": null,
      "outputs": [
        {
          "output_type": "stream",
          "name": "stdout",
          "text": [
            "tensor([213,  54,   5,   5,   4, 343, 234])\n",
            "torch.int64\n",
            "torch.Size([7])\n"
          ]
        }
      ]
    },
    {
      "cell_type": "markdown",
      "source": [
        "<p style=\"font-family:B Nazanin\" dir=\"rtl\">\n",
        "    اگر حتی یکی از اعداد بردارد به صورت اعشاری باشد، کل بردار به صورت اعشاری ذخیره می‌شود:\n",
        "</p>"
      ],
      "metadata": {
        "id": "y-9ZVs9w_vEj"
      },
      "id": "y-9ZVs9w_vEj"
    },
    {
      "cell_type": "code",
      "source": [
        "vector_data2 = torch.tensor([3,5,6.45,30,41])\n",
        "print(vector_data2)\n",
        "print(vector_data2.dtype)\n",
        "print(vector_data2.shape)"
      ],
      "metadata": {
        "id": "rGRF0pIl_1cl",
        "outputId": "8fe5a959-f252-421c-9637-4038f4fe03a8",
        "colab": {
          "base_uri": "https://localhost:8080/"
        }
      },
      "id": "rGRF0pIl_1cl",
      "execution_count": null,
      "outputs": [
        {
          "output_type": "stream",
          "name": "stdout",
          "text": [
            "tensor([ 3.0000,  5.0000,  6.4500, 30.0000, 41.0000])\n",
            "torch.float32\n",
            "torch.Size([5])\n"
          ]
        }
      ]
    },
    {
      "cell_type": "markdown",
      "source": [
        "<p style=\"font-family:B Nazanin\" dir=\"rtl\">\n",
        "    برای ذخیره کردن ماتریس‌ها به صورت زیر عمل می‌کنیم:\n",
        "</p>"
      ],
      "metadata": {
        "id": "k3a23McQAO2l"
      },
      "id": "k3a23McQAO2l"
    },
    {
      "cell_type": "code",
      "source": [
        "mat_data1 = torch.tensor([\n",
        "    [1,2,3],\n",
        "    [4,5,6],\n",
        "    [7,8,9],\n",
        "    [10,11,12]\n",
        "])\n",
        "print(mat_data1)\n",
        "print(mat_data1.dtype)\n",
        "print(mat_data1.shape)\n",
        "print(mat_data1.size())\n",
        "print(mat_data1.device)"
      ],
      "metadata": {
        "id": "R692J8ryAT-D",
        "outputId": "87963905-b682-4b7c-8131-b40e69de01ee",
        "colab": {
          "base_uri": "https://localhost:8080/"
        }
      },
      "id": "R692J8ryAT-D",
      "execution_count": null,
      "outputs": [
        {
          "output_type": "stream",
          "name": "stdout",
          "text": [
            "tensor([[ 1,  2,  3],\n",
            "        [ 4,  5,  6],\n",
            "        [ 7,  8,  9],\n",
            "        [10, 11, 12]])\n",
            "torch.int64\n",
            "torch.Size([4, 3])\n",
            "torch.Size([4, 3])\n",
            "cpu\n"
          ]
        }
      ]
    },
    {
      "cell_type": "code",
      "source": [
        "print(mat_data1.shape[0])"
      ],
      "metadata": {
        "id": "C4ye-k07AoMK",
        "outputId": "1d356bc2-d79b-49c5-a647-c563cbac6b6f",
        "colab": {
          "base_uri": "https://localhost:8080/"
        }
      },
      "id": "C4ye-k07AoMK",
      "execution_count": null,
      "outputs": [
        {
          "output_type": "stream",
          "name": "stdout",
          "text": [
            "4\n"
          ]
        }
      ]
    },
    {
      "cell_type": "markdown",
      "source": [
        "<p style=\"font-family:B Nazanin\" dir=\"rtl\">\n",
        "    برای تعریف تنسور (داده‌های چندبعدی) به صورت زیر عمل می‌کنیم:\n",
        "</p>"
      ],
      "metadata": {
        "id": "ac7oDmUVA3TA"
      },
      "id": "ac7oDmUVA3TA"
    },
    {
      "cell_type": "code",
      "source": [
        "td_data1 = torch.tensor([\n",
        "    [[1,2,3],\n",
        "    [4,5,6],\n",
        "    [7,8,9],\n",
        "    [10,11,12]],\n",
        "    [[1,2,3],\n",
        "    [4,5,6],\n",
        "    [7,8,9],\n",
        "    [10,11,12]]\n",
        "])\n",
        "print(td_data1)\n",
        "print(td_data1.dtype)\n",
        "print(td_data1.shape)\n",
        "print(td_data1.device)"
      ],
      "metadata": {
        "id": "kpeT6rVUA-6U",
        "outputId": "ab5fb71a-11af-4662-f53d-a42637054a33",
        "colab": {
          "base_uri": "https://localhost:8080/"
        }
      },
      "id": "kpeT6rVUA-6U",
      "execution_count": null,
      "outputs": [
        {
          "output_type": "stream",
          "name": "stdout",
          "text": [
            "tensor([[[ 1,  2,  3],\n",
            "         [ 4,  5,  6],\n",
            "         [ 7,  8,  9],\n",
            "         [10, 11, 12]],\n",
            "\n",
            "        [[ 1,  2,  3],\n",
            "         [ 4,  5,  6],\n",
            "         [ 7,  8,  9],\n",
            "         [10, 11, 12]]])\n",
            "torch.int64\n",
            "torch.Size([2, 4, 3])\n",
            "cpu\n"
          ]
        }
      ]
    },
    {
      "cell_type": "markdown",
      "source": [
        "<p style=\"font-family:B Nazanin\" dir=\"rtl\">\n",
        "    متغیری که روی CPU تعریف شده است را با استفاده از تابع <code>cuda()</code> می‌توان به یک متغیر که روی GPU‌ تعریف شده است، تبدیل کرد.\n",
        "</p>"
      ],
      "metadata": {
        "id": "8oXT1b3LBRTt"
      },
      "id": "8oXT1b3LBRTt"
    },
    {
      "cell_type": "code",
      "source": [
        "td_data1 = td_data1.cuda()\n",
        "print(td_data1.device)"
      ],
      "metadata": {
        "id": "baFZLuE_Bd3C",
        "outputId": "518690c0-7029-42bf-86d8-591e844795ce",
        "colab": {
          "base_uri": "https://localhost:8080/"
        }
      },
      "id": "baFZLuE_Bd3C",
      "execution_count": null,
      "outputs": [
        {
          "output_type": "stream",
          "name": "stdout",
          "text": [
            "cuda:0\n"
          ]
        }
      ]
    },
    {
      "cell_type": "markdown",
      "source": [
        "<p style=\"font-family:B Nazanin\" dir=\"rtl\">\n",
        "    برای تغییر نوع داده یک متغیر به دو روش می‌توان عمل کرد. روش اول استفاده از یک تابع است همنام با نوع داده‌ای که می‌خواهیم به متغیر را به آن تغییر دهیم. مثلا اگر می‌خواهیم یک متغیر صحیح را به اعشاری تبدیل کنیم، از تابع <code>float()</code> استفاده می‌کنیم.\n",
        "</p>"
      ],
      "metadata": {
        "id": "C-ZHjEfRB9ut"
      },
      "id": "C-ZHjEfRB9ut"
    },
    {
      "cell_type": "code",
      "source": [
        "data1 = torch.tensor([12,345,67,72])\n",
        "print(data1.dtype)"
      ],
      "metadata": {
        "id": "xGUyyTuICVbI",
        "outputId": "246cc388-f9a4-4053-98fd-572c55d2df74",
        "colab": {
          "base_uri": "https://localhost:8080/"
        }
      },
      "id": "xGUyyTuICVbI",
      "execution_count": null,
      "outputs": [
        {
          "output_type": "stream",
          "name": "stdout",
          "text": [
            "torch.int64\n"
          ]
        }
      ]
    },
    {
      "cell_type": "code",
      "source": [
        "data1 = data1.float()\n",
        "print(data1.dtype)"
      ],
      "metadata": {
        "id": "_edmA3u-Cfkx",
        "outputId": "3b383057-7b58-488c-d7ab-ac4345ff7142",
        "colab": {
          "base_uri": "https://localhost:8080/"
        }
      },
      "id": "_edmA3u-Cfkx",
      "execution_count": null,
      "outputs": [
        {
          "output_type": "stream",
          "name": "stdout",
          "text": [
            "torch.float32\n"
          ]
        }
      ]
    },
    {
      "cell_type": "markdown",
      "source": [
        "<p style=\"font-family:B Nazanin\" dir=\"rtl\">\n",
        "    روش دوم استفاده از تابع <code>type()</code> است که نوع داده مورد نظر را به عنوان ورودی به آن می‌دهیم:\n",
        "</p>"
      ],
      "metadata": {
        "id": "AlS00gTxCk-l"
      },
      "id": "AlS00gTxCk-l"
    },
    {
      "cell_type": "code",
      "source": [
        "data1 = data1.type(torch.float16)\n",
        "print(data1.dtype)"
      ],
      "metadata": {
        "id": "1nYdJ0CeCu72",
        "outputId": "0fb757f6-5da2-4c23-9020-1feecd55d6bb",
        "colab": {
          "base_uri": "https://localhost:8080/"
        }
      },
      "id": "1nYdJ0CeCu72",
      "execution_count": null,
      "outputs": [
        {
          "output_type": "stream",
          "name": "stdout",
          "text": [
            "torch.float16\n"
          ]
        }
      ]
    },
    {
      "cell_type": "markdown",
      "source": [
        "<p style=\"font-family:B Nazanin\" dir=\"rtl\">\n",
        "    توابع پرکاربردی که در هنگام کار با تنسورها استفاده می‌شود به صورت زیر است:\n",
        "</p>"
      ],
      "metadata": {
        "id": "qiA0g7KbDD-O"
      },
      "id": "qiA0g7KbDD-O"
    },
    {
      "cell_type": "code",
      "source": [
        "data2 = torch.tensor([\n",
        "    [12,345,67,-72,67,24,46,78,21,-12,67,45],\n",
        "    [55,345,32,16,32,-6,17,78,49,-87,25,11]\n",
        "])"
      ],
      "metadata": {
        "id": "kD39-CXCDKMt"
      },
      "id": "kD39-CXCDKMt",
      "execution_count": null,
      "outputs": []
    },
    {
      "cell_type": "code",
      "source": [
        "print(f'Data: {data2}')"
      ],
      "metadata": {
        "id": "nDJ7UtF4DeBG",
        "outputId": "3bea7799-e637-4aa1-91db-a1aa802bbbb4",
        "colab": {
          "base_uri": "https://localhost:8080/"
        }
      },
      "id": "nDJ7UtF4DeBG",
      "execution_count": null,
      "outputs": [
        {
          "output_type": "stream",
          "name": "stdout",
          "text": [
            "Data: tensor([[ 12, 345,  67, -72,  67,  24,  46,  78,  21, -12,  67,  45],\n",
            "        [ 55, 345,  32,  16,  32,  -6,  17,  78,  49, -87,  25,  11]])\n"
          ]
        }
      ]
    },
    {
      "cell_type": "code",
      "source": [
        "print(f'Data Float: {data2.float()}')"
      ],
      "metadata": {
        "id": "D_AWgteSDg8L",
        "outputId": "2fad6c6a-ccac-4929-fa96-8dc3d88305b3",
        "colab": {
          "base_uri": "https://localhost:8080/"
        }
      },
      "id": "D_AWgteSDg8L",
      "execution_count": null,
      "outputs": [
        {
          "output_type": "stream",
          "name": "stdout",
          "text": [
            "Data Float: tensor([[ 12., 345.,  67., -72.,  67.,  24.,  46.,  78.,  21., -12.,  67.,  45.],\n",
            "        [ 55., 345.,  32.,  16.,  32.,  -6.,  17.,  78.,  49., -87.,  25.,  11.]])\n"
          ]
        }
      ]
    },
    {
      "cell_type": "code",
      "source": [
        "print(f'Min: {data2.min()}')"
      ],
      "metadata": {
        "id": "uYtvR4fRDmS-",
        "outputId": "9b78ff2b-625d-4c85-d2d5-238d0daf439e",
        "colab": {
          "base_uri": "https://localhost:8080/"
        }
      },
      "id": "uYtvR4fRDmS-",
      "execution_count": null,
      "outputs": [
        {
          "output_type": "stream",
          "name": "stdout",
          "text": [
            "Min: -87\n"
          ]
        }
      ]
    },
    {
      "cell_type": "code",
      "source": [
        "print(f'Max: {data2.max()}')"
      ],
      "metadata": {
        "id": "7iuus40eDqOi",
        "outputId": "27ef96dc-c1f7-4f09-ecc9-d1b567abdc7d",
        "colab": {
          "base_uri": "https://localhost:8080/"
        }
      },
      "id": "7iuus40eDqOi",
      "execution_count": null,
      "outputs": [
        {
          "output_type": "stream",
          "name": "stdout",
          "text": [
            "Max: 345\n"
          ]
        }
      ]
    },
    {
      "cell_type": "code",
      "source": [
        "print(f'Sum: {data2.sum()}')"
      ],
      "metadata": {
        "id": "GeJMfvNuDsli",
        "outputId": "a4e825b5-4704-4204-9e75-cf613874bea8",
        "colab": {
          "base_uri": "https://localhost:8080/"
        }
      },
      "id": "GeJMfvNuDsli",
      "execution_count": null,
      "outputs": [
        {
          "output_type": "stream",
          "name": "stdout",
          "text": [
            "Sum: 1255\n"
          ]
        }
      ]
    },
    {
      "cell_type": "code",
      "source": [
        "print(f'Mode: {data2.float().mode()}')"
      ],
      "metadata": {
        "id": "XP8u19NUDwdQ",
        "outputId": "00f8314c-fbce-4a36-bd7b-f7a865082c04",
        "colab": {
          "base_uri": "https://localhost:8080/"
        }
      },
      "id": "XP8u19NUDwdQ",
      "execution_count": null,
      "outputs": [
        {
          "output_type": "stream",
          "name": "stdout",
          "text": [
            "Mode: torch.return_types.mode(\n",
            "values=tensor([67., 32.]),\n",
            "indices=tensor([10,  4]))\n"
          ]
        }
      ]
    },
    {
      "cell_type": "code",
      "source": [
        "print(f'Median: {data2.float().median()}')"
      ],
      "metadata": {
        "id": "0KsH6ww1D5hX",
        "outputId": "612c128f-345f-4708-eb15-1112e1cd1bd8",
        "colab": {
          "base_uri": "https://localhost:8080/"
        }
      },
      "id": "0KsH6ww1D5hX",
      "execution_count": null,
      "outputs": [
        {
          "output_type": "stream",
          "name": "stdout",
          "text": [
            "Median: 32.0\n"
          ]
        }
      ]
    },
    {
      "cell_type": "code",
      "source": [
        "print(f'Mean: {data2.float().mean()}')"
      ],
      "metadata": {
        "id": "mQ2pEZ5qD9Kk",
        "outputId": "b5f3eff1-c54e-48b3-c15c-ce1c4e245365",
        "colab": {
          "base_uri": "https://localhost:8080/"
        }
      },
      "id": "mQ2pEZ5qD9Kk",
      "execution_count": null,
      "outputs": [
        {
          "output_type": "stream",
          "name": "stdout",
          "text": [
            "Mean: 52.29166793823242\n"
          ]
        }
      ]
    },
    {
      "cell_type": "code",
      "source": [
        "print(f'Var: {data2.float().var()}')"
      ],
      "metadata": {
        "id": "EsU_CXNaD_XE",
        "outputId": "a8ed870a-be29-4bdf-f18b-ad63214aebb2",
        "colab": {
          "base_uri": "https://localhost:8080/"
        }
      },
      "id": "EsU_CXNaD_XE",
      "execution_count": null,
      "outputs": [
        {
          "output_type": "stream",
          "name": "stdout",
          "text": [
            "Var: 9785.171875\n"
          ]
        }
      ]
    },
    {
      "cell_type": "code",
      "source": [
        "print(f'Std: {data2.float().std()}')"
      ],
      "metadata": {
        "id": "02DexSqKERPw",
        "outputId": "e09e4895-837f-4ecf-fa57-87acc158e982",
        "colab": {
          "base_uri": "https://localhost:8080/"
        }
      },
      "id": "02DexSqKERPw",
      "execution_count": null,
      "outputs": [
        {
          "output_type": "stream",
          "name": "stdout",
          "text": [
            "Std: 98.92002868652344\n"
          ]
        }
      ]
    },
    {
      "cell_type": "code",
      "source": [
        "print(f'Abs: {data2.abs()}')"
      ],
      "metadata": {
        "id": "HQq2xrxkEW9M",
        "outputId": "f05173d8-e544-4494-fec4-8cdf071457d2",
        "colab": {
          "base_uri": "https://localhost:8080/"
        }
      },
      "id": "HQq2xrxkEW9M",
      "execution_count": null,
      "outputs": [
        {
          "output_type": "stream",
          "name": "stdout",
          "text": [
            "Abs: tensor([[ 12, 345,  67,  72,  67,  24,  46,  78,  21,  12,  67,  45],\n",
            "        [ 55, 345,  32,  16,  32,   6,  17,  78,  49,  87,  25,  11]])\n"
          ]
        }
      ]
    },
    {
      "cell_type": "code",
      "source": [
        "print(f'Transpose: {data2.t()}')"
      ],
      "metadata": {
        "id": "JjBMFkmjEaCu",
        "outputId": "fee255d1-d0b2-4f90-c63b-fbf35603b563",
        "colab": {
          "base_uri": "https://localhost:8080/"
        }
      },
      "id": "JjBMFkmjEaCu",
      "execution_count": null,
      "outputs": [
        {
          "output_type": "stream",
          "name": "stdout",
          "text": [
            "Transpose: tensor([[ 12,  55],\n",
            "        [345, 345],\n",
            "        [ 67,  32],\n",
            "        [-72,  16],\n",
            "        [ 67,  32],\n",
            "        [ 24,  -6],\n",
            "        [ 46,  17],\n",
            "        [ 78,  78],\n",
            "        [ 21,  49],\n",
            "        [-12, -87],\n",
            "        [ 67,  25],\n",
            "        [ 45,  11]])\n"
          ]
        }
      ]
    },
    {
      "cell_type": "markdown",
      "source": [
        "<p style=\"font-family:B Nazanin\" dir=\"rtl\">\n",
        "    برای گرد کردن اعداد از توابع زیر می‌توانیم استفاده کنیم:‌<br>\n",
        "    * تابع <code>ceil()</code>: اعداد را به اولین عدد صحیح بزرگتر از خودش گرد می‌کند.<br>\n",
        "    * تابع <code>floor()</code>: اعداد را به اولین عدد کوچکتر از خودش گرد می‌کند. <br>\n",
        "    * تابع <code>fix()</code>: قسمت اعشار عدد را حذف می‌کند و قسمت صحیح را نگه می‌دارد.<br>\n",
        "    * تابع <code>round()</code>: اعداد را به نزدیک‌ترین عدد صحیح گرد می‌کند.\n",
        "</p>"
      ],
      "metadata": {
        "id": "e0M0KckhFA0D"
      },
      "id": "e0M0KckhFA0D"
    },
    {
      "cell_type": "code",
      "source": [
        "data3 = torch.tensor([2.3456, 15.890324, 9., -3.48, 3.48, 17.6210, 100, 99.999])\n",
        "print(f'Data\\t:\\t{data3}')\n",
        "print(f'Ceil\\t:\\t{data3.ceil()}')\n",
        "print(f'Floor\\t:\\t{data3.floor()}')\n",
        "print(f'Fix\\t:\\t{data3.fix()}')\n",
        "print(f'Round\\t:\\t{data3.round()}')"
      ],
      "metadata": {
        "id": "MKDAs6EiEcy-",
        "outputId": "05a9149e-01c3-46b2-eb85-cd2309e87e29",
        "colab": {
          "base_uri": "https://localhost:8080/"
        }
      },
      "id": "MKDAs6EiEcy-",
      "execution_count": null,
      "outputs": [
        {
          "output_type": "stream",
          "name": "stdout",
          "text": [
            "Data\t:\ttensor([  2.3456,  15.8903,   9.0000,  -3.4800,   3.4800,  17.6210, 100.0000,\n",
            "         99.9990])\n",
            "Ceil\t:\ttensor([  3.,  16.,   9.,  -3.,   4.,  18., 100., 100.])\n",
            "Floor\t:\ttensor([  2.,  15.,   9.,  -4.,   3.,  17., 100.,  99.])\n",
            "Fix\t:\ttensor([  2.,  15.,   9.,  -3.,   3.,  17., 100.,  99.])\n",
            "Round\t:\ttensor([  2.,  16.,   9.,  -3.,   3.,  18., 100., 100.])\n"
          ]
        }
      ]
    },
    {
      "cell_type": "markdown",
      "source": [
        "<p style=\"font-family:B Nazanin\" dir=\"rtl\">\n",
        "    توابع <code>argmax()</code> و <code>argmin()</code> اندیس بزرگترین و کوچکترین داده‌های یک تنسور را مشخص می‌کند.\n",
        "</p>"
      ],
      "metadata": {
        "id": "v8oU9t31GbDX"
      },
      "id": "v8oU9t31GbDX"
    },
    {
      "cell_type": "code",
      "source": [
        "data4 = torch.tensor([2, 45, 15, 9., -3, 3, 17, 99, 38, 26])\n",
        "print(f'Data\\t:\\t{data4}')\n",
        "print(f'Argmax\\t:\\t{torch.argmax(data4)}')\n",
        "print(f'Argmin\\t:\\t{torch.argmin(data4)}')"
      ],
      "metadata": {
        "id": "GaxSVCVJGo9V",
        "outputId": "1b6bb588-db0e-40fd-97ca-625766fd9aea",
        "colab": {
          "base_uri": "https://localhost:8080/"
        }
      },
      "id": "GaxSVCVJGo9V",
      "execution_count": null,
      "outputs": [
        {
          "output_type": "stream",
          "name": "stdout",
          "text": [
            "Data\t:\ttensor([ 2., 45., 15.,  9., -3.,  3., 17., 99., 38., 26.])\n",
            "Argmax\t:\t7\n",
            "Argmin\t:\t4\n"
          ]
        }
      ]
    },
    {
      "cell_type": "markdown",
      "source": [
        "<p style=\"font-family:B Nazanin\" dir=\"rtl\">\n",
        "    تابع <coed>topk()</code> با گرفتن پارامتر k، تعداد kتا از بزرگترین داده‌های تنسور را برمی‌گرداند.\n",
        "</p>"
      ],
      "metadata": {
        "id": "b5fPQKPxG4YE"
      },
      "id": "b5fPQKPxG4YE"
    },
    {
      "cell_type": "code",
      "source": [
        "print(f'topk:\\n{torch.topk(data4, 3)}')"
      ],
      "metadata": {
        "id": "jZrUYkWVHObs",
        "outputId": "4b2d5ee7-b9e6-42cd-a211-bd10cd5a1fce",
        "colab": {
          "base_uri": "https://localhost:8080/"
        }
      },
      "id": "jZrUYkWVHObs",
      "execution_count": null,
      "outputs": [
        {
          "output_type": "stream",
          "name": "stdout",
          "text": [
            "topk:\n",
            "torch.return_types.topk(\n",
            "values=tensor([99., 45., 38.]),\n",
            "indices=tensor([7, 1, 8]))\n"
          ]
        }
      ]
    },
    {
      "cell_type": "markdown",
      "source": [
        "<p style=\"font-family:B Nazanin\" dir=\"rtl\">\n",
        "    تابع <code>norm()</code>، نرم یک تنسور را محاسبه می‌کند. در مثال زیر، نرم اقلیدسی محاسبه شده است:\n",
        "</p>"
      ],
      "metadata": {
        "id": "tMj61pR3Hh-A"
      },
      "id": "tMj61pR3Hh-A"
    },
    {
      "cell_type": "code",
      "source": [
        "print(f'Euclidean Norm (L2 Norm): {torch.norm(data4, p=2)}')"
      ],
      "metadata": {
        "id": "PBtSzXERHo_r",
        "outputId": "c0466003-81d5-4ae1-8012-154ead6ddab6",
        "colab": {
          "base_uri": "https://localhost:8080/"
        }
      },
      "id": "PBtSzXERHo_r",
      "execution_count": null,
      "outputs": [
        {
          "output_type": "stream",
          "name": "stdout",
          "text": [
            "Euclidean Norm (L2 Norm): 120.67725372314453\n"
          ]
        }
      ]
    },
    {
      "cell_type": "markdown",
      "source": [
        "<p style=\"font-family:B Nazanin\" dir=\"rtl\">\n",
        "    تابع <code>remainder()</code> باقیمانده تقسیم داده‌های یک تنسور بر یک عدد مشخص را محاسبه می‌کند:\n",
        "</p>"
      ],
      "metadata": {
        "id": "_jKS2cmwH4gD"
      },
      "id": "_jKS2cmwH4gD"
    },
    {
      "cell_type": "code",
      "source": [
        "print(f'Remainder of division by 7: {torch.remainder(data4, 7)}')"
      ],
      "metadata": {
        "id": "EOGQyiCwH2i5",
        "outputId": "99d199c0-3f13-4c9c-a83a-281b018ed9b0",
        "colab": {
          "base_uri": "https://localhost:8080/"
        }
      },
      "id": "EOGQyiCwH2i5",
      "execution_count": null,
      "outputs": [
        {
          "output_type": "stream",
          "name": "stdout",
          "text": [
            "Remainder of division by 7: tensor([2., 3., 1., 2., 4., 3., 3., 1., 3., 5.])\n"
          ]
        }
      ]
    },
    {
      "cell_type": "markdown",
      "source": [
        "<p style=\"font-family:B Nazanin\" dir=\"rtl\">\n",
        "    برای تابعی مانند <code>sum()</code> می‌توان پارامتر دومی را مشخص کرد که به جای محاسبه مجموع همه اعداد تنسور، مجموع اعداد هر یک از ابعاد را مشخص کند.\n",
        "</p>"
      ],
      "metadata": {
        "id": "uB05H7l-IZ7I"
      },
      "id": "uB05H7l-IZ7I"
    },
    {
      "cell_type": "code",
      "source": [
        "data3 = torch.tensor([1,2,3,4,5,8])\n",
        "data4 = torch.tensor([[1,2,3,4,5,8], [10, 20, 30, 40, 50, 80]])\n",
        "\n",
        "print(torch.sum(data3, 0))\n",
        "print(torch.sum(data4, 1))"
      ],
      "metadata": {
        "id": "BpY1allAIrYL",
        "outputId": "2d8391ae-5ea8-4ad3-a047-62e4f179f575",
        "colab": {
          "base_uri": "https://localhost:8080/"
        }
      },
      "id": "BpY1allAIrYL",
      "execution_count": null,
      "outputs": [
        {
          "output_type": "stream",
          "name": "stdout",
          "text": [
            "tensor(23)\n",
            "tensor([ 23, 230])\n"
          ]
        }
      ]
    },
    {
      "cell_type": "markdown",
      "source": [
        "<p style=\"font-family:B Nazanin\" dir=\"rtl\">\n",
        "    تابع <code>cumsum()</code> مجموع تجمعی داده‌های تنسور، تابع <code>prod</code> حاصل‌ضرب داده‌های تنسور، تابع <code>cumprod()</code> حاصل‌ضرب تجمعی داده‌های تنسور و تابع <code>diff</code> اختلاف داده‌های مجاور در تنسور را محاسبه می‌کند.\n",
        "</p>"
      ],
      "metadata": {
        "id": "h5zxOJU7JKuZ"
      },
      "id": "h5zxOJU7JKuZ"
    },
    {
      "cell_type": "code",
      "source": [
        "print(torch.cumsum(data3, 0))\n",
        "print(torch.prod(data3, 0))\n",
        "print(torch.cumprod(data3, 0))\n",
        "print(torch.diff(data3, 0))"
      ],
      "metadata": {
        "id": "E__ert3aJnFz",
        "outputId": "37d69498-8ba7-4906-814d-f6b06e50988b",
        "colab": {
          "base_uri": "https://localhost:8080/"
        }
      },
      "id": "E__ert3aJnFz",
      "execution_count": null,
      "outputs": [
        {
          "output_type": "stream",
          "name": "stdout",
          "text": [
            "tensor([ 1,  3,  6, 10, 15, 23])\n",
            "tensor(960)\n",
            "tensor([  1,   2,   6,  24, 120, 960])\n",
            "tensor([1, 2, 3, 4, 5, 8])\n"
          ]
        }
      ]
    },
    {
      "cell_type": "markdown",
      "source": [
        "<p style=\"font-family:B Nazanin\" dir=\"rtl\">\n",
        "    تابع <code>exp2()</code>، 2 به توان داده‌های تنسور را محاسبه می‌کند و تابع <code>log2()</code>، لگاریتم داده‌های تنسور را مشخص می‌کند.\n",
        "</p>"
      ],
      "metadata": {
        "id": "6iPx1X6gJ2Qp"
      },
      "id": "6iPx1X6gJ2Qp"
    },
    {
      "cell_type": "code",
      "source": [
        "data1 = torch.tensor([1,2,3,4,5,6])\n",
        "data2 = data1.exp2()\n",
        "data3 = data2.log2()\n",
        "\n",
        "print(f'data1:\\t{data1}')\n",
        "print(f'data2:\\t{data2}')\n",
        "print(f'data3:\\t{data3}')"
      ],
      "metadata": {
        "id": "PIbtdx2VKCdM",
        "outputId": "43aa7a9d-e619-4fba-c879-375deab3f0b9",
        "colab": {
          "base_uri": "https://localhost:8080/"
        }
      },
      "id": "PIbtdx2VKCdM",
      "execution_count": null,
      "outputs": [
        {
          "output_type": "stream",
          "name": "stdout",
          "text": [
            "data1:\ttensor([1, 2, 3, 4, 5, 6])\n",
            "data2:\ttensor([ 2.,  4.,  8., 16., 32., 64.])\n",
            "data3:\ttensor([1., 2., 3., 4., 5., 6.])\n"
          ]
        }
      ]
    },
    {
      "cell_type": "markdown",
      "source": [
        "<p style=\"font-family:B Nazanin\" dir=\"rtl\">\n",
        "    توابع <code>square()</code> و <code>sqrt()</code> به ترتیب مجذور و جذر داده‌ّای تنسور را محاسبه می‌کند.\n",
        "</p>"
      ],
      "metadata": {
        "id": "6tAbg0feKdMS"
      },
      "id": "6tAbg0feKdMS"
    },
    {
      "cell_type": "code",
      "source": [
        "data1 = torch.tensor([1,2,3,4,5,6])\n",
        "data2 = data1.square()\n",
        "data3 = data2.sqrt()\n",
        "\n",
        "print(f'data1:\\t{data1}')\n",
        "print(f'data2:\\t{data2}')\n",
        "print(f'data3:\\t{data3}')"
      ],
      "metadata": {
        "id": "rrglSueSKn7v",
        "outputId": "ed51e4a0-f222-44d1-8d3a-df5f27cb26ce",
        "colab": {
          "base_uri": "https://localhost:8080/"
        }
      },
      "id": "rrglSueSKn7v",
      "execution_count": null,
      "outputs": [
        {
          "output_type": "stream",
          "name": "stdout",
          "text": [
            "data1:\ttensor([1, 2, 3, 4, 5, 6])\n",
            "data2:\ttensor([ 1,  4,  9, 16, 25, 36])\n",
            "data3:\ttensor([1., 2., 3., 4., 5., 6.])\n"
          ]
        }
      ]
    },
    {
      "cell_type": "markdown",
      "source": [
        "<p style=\"font-family:B Nazanin\" dir=\"rtl\">\n",
        "    برخی از توابع در این کتابخانه در انتهای نامشان یک کاراکتر _ دارند. این توابع دقیقا مشابه با تابع هم‌نامشان (بدون _) عمل می‌کنند با این تفاوت که در انتها مقدار محاسبه شده را درون خود تنسور می‌ریزند. مثلا تابع <code>ceil</code> اعداد تنسور را رو به بالا گرد می‌کند و یک تنسور جدید خروجی می‌دهد و به تنسور اولیه دست نمی‌زند. اما تابع <code>ceil_()</code> مقادیر جدید را درون همان تنسور اولیه اصلاح می‌کند.\n",
        "</p>"
      ],
      "metadata": {
        "id": "4TV0GztrKu4p"
      },
      "id": "4TV0GztrKu4p"
    },
    {
      "cell_type": "code",
      "source": [
        "data3 = torch.tensor([2.3456, 15.890324, 9., 17.6210, 20.43, 99.999])\n",
        "print(f'Data\\t:\\t{data3}')\n",
        "print(f'Ceil\\t:\\t{data3.ceil_()}')\n",
        "print(f'Data\\t:\\t{data3}')"
      ],
      "metadata": {
        "id": "D55CIgIiLgvQ",
        "outputId": "d7e63885-153a-4838-f66e-bded22f54980",
        "colab": {
          "base_uri": "https://localhost:8080/"
        }
      },
      "id": "D55CIgIiLgvQ",
      "execution_count": null,
      "outputs": [
        {
          "output_type": "stream",
          "name": "stdout",
          "text": [
            "Data\t:\ttensor([ 2.3456, 15.8903,  9.0000, 17.6210, 20.4300, 99.9990])\n",
            "Ceil\t:\ttensor([  3.,  16.,   9.,  18.,  21., 100.])\n",
            "Data\t:\ttensor([  3.,  16.,   9.,  18.,  21., 100.])\n"
          ]
        }
      ]
    },
    {
      "cell_type": "markdown",
      "source": [
        "<p style=\"font-family:B Nazanin\" dir=\"rtl\">\n",
        "    تابع <code>dist()</code> فاصله بین دو بردار را محاسبه می‌کند.\n",
        "</p>"
      ],
      "metadata": {
        "id": "yQp_rouELyR8"
      },
      "id": "yQp_rouELyR8"
    },
    {
      "cell_type": "code",
      "source": [
        "data1 = torch.tensor([2., 15, 9, 17, 20, 99])\n",
        "data2 = torch.tensor([4, 12., 3, 26, 48, 31])\n",
        "torch.dist(data1, data2, p=2) # p=2: Euclidean distance"
      ],
      "metadata": {
        "id": "P-7qH85BL8aW",
        "outputId": "03da7527-ada4-4b9c-f28c-5ca93c9e4bb5",
        "colab": {
          "base_uri": "https://localhost:8080/"
        }
      },
      "id": "P-7qH85BL8aW",
      "execution_count": null,
      "outputs": [
        {
          "output_type": "execute_result",
          "data": {
            "text/plain": [
              "tensor(74.4177)"
            ]
          },
          "metadata": {},
          "execution_count": 71
        }
      ]
    },
    {
      "cell_type": "markdown",
      "source": [
        "<p style=\"font-family:B Nazanin\" dir=\"rtl\">\n",
        "    تابع <code>range()</code> دقیقا مانند تابع range در پایتون عمل می‌کند و بازه‌ای از اعداد را می‌سازد و به تنسور تبدیل می‌کند.\n",
        "</p>"
      ],
      "metadata": {
        "id": "UL_hV1NFMe45"
      },
      "id": "UL_hV1NFMe45"
    },
    {
      "cell_type": "code",
      "source": [
        "vdata = torch.range(1, 20, 2)\n",
        "print(vdata)"
      ],
      "metadata": {
        "id": "iVm59IQGMsXd",
        "outputId": "87ede423-836a-473c-9c91-756790e7bce3",
        "colab": {
          "base_uri": "https://localhost:8080/"
        }
      },
      "id": "iVm59IQGMsXd",
      "execution_count": null,
      "outputs": [
        {
          "output_type": "stream",
          "name": "stdout",
          "text": [
            "tensor([ 1.,  3.,  5.,  7.,  9., 11., 13., 15., 17., 19.])\n"
          ]
        },
        {
          "output_type": "stream",
          "name": "stderr",
          "text": [
            "<ipython-input-72-72a232c17115>:1: UserWarning: torch.range is deprecated and will be removed in a future release because its behavior is inconsistent with Python's range builtin. Instead, use torch.arange, which produces values in [start, end).\n",
            "  vdata = torch.range(1, 20, 2)\n"
          ]
        }
      ]
    },
    {
      "cell_type": "markdown",
      "source": [
        "<p style=\"font-family:B Nazanin\" dir=\"rtl\">\n",
        "    توابع <code>ones()</code> و <code>zeros()</code> و <code>empty()</code> و <code>eye()</code> به ترتیب برای ساختن ماتریس با اعضای یک، ماتریس با اعضای صفر، ماتریس با اعضایی که مقداردهی اولیه نشده و ماتریس همانی استفاده می‌شود.\n",
        "</p>"
      ],
      "metadata": {
        "id": "KPNFxj9aNO2T"
      },
      "id": "KPNFxj9aNO2T"
    },
    {
      "cell_type": "code",
      "source": [
        "shape = (3,5)\n",
        "data_ones = torch.ones(shape)\n",
        "data_zeros = torch.zeros(shape)\n",
        "data_empty = torch.empty(shape)\n",
        "data_eye = torch.eye(5)\n",
        "\n",
        "print(f'Ones:\\n{data_ones}')\n",
        "print(f'Zeros:\\n{data_zeros}')\n",
        "print(f'Empty:\\n{data_empty}')\n",
        "print(f'Eye:\\n{data_eye}')"
      ],
      "metadata": {
        "id": "7pAvKc0yOCZH",
        "outputId": "1d91a678-6933-49d1-d17a-350524ad7dbe",
        "colab": {
          "base_uri": "https://localhost:8080/"
        }
      },
      "id": "7pAvKc0yOCZH",
      "execution_count": null,
      "outputs": [
        {
          "output_type": "stream",
          "name": "stdout",
          "text": [
            "Ones:\n",
            "tensor([[1., 1., 1., 1., 1.],\n",
            "        [1., 1., 1., 1., 1.],\n",
            "        [1., 1., 1., 1., 1.]])\n",
            "Zeros:\n",
            "tensor([[0., 0., 0., 0., 0.],\n",
            "        [0., 0., 0., 0., 0.],\n",
            "        [0., 0., 0., 0., 0.]])\n",
            "Empty:\n",
            "tensor([[2.8183e+20, 6.1972e-04, 1.4585e-19, 7.2708e+31, 7.1430e+31],\n",
            "        [1.5766e-19, 7.0295e+28, 1.6312e+19, 7.0976e+22, 1.8609e+34],\n",
            "        [1.8315e+25, 7.5551e+31, 6.1960e-04, 3.1457e-12, 2.7340e+20]])\n",
            "Eye:\n",
            "tensor([[1., 0., 0., 0., 0.],\n",
            "        [0., 1., 0., 0., 0.],\n",
            "        [0., 0., 1., 0., 0.],\n",
            "        [0., 0., 0., 1., 0.],\n",
            "        [0., 0., 0., 0., 1.]])\n"
          ]
        }
      ]
    },
    {
      "cell_type": "markdown",
      "source": [
        "<p style=\"font-family:B Nazanin\" dir=\"rtl\">\n",
        "    تابع <code>rand()</code> یک تنسور با اعداد تصادفی می‌سازد که اعداد بین صفر تا یک هستند. تابع <code>randn()</code> یک تنسور با اعداد تصادفی که توزیع نرمال دارند می‌سازد. تابع <code>randint()</code> نیز یک تنسور با اعداد صحیح تصادفی در یک بازه مشخص می‌سازد.\n",
        "</p>"
      ],
      "metadata": {
        "id": "nn9jm3EQOgte"
      },
      "id": "nn9jm3EQOgte"
    },
    {
      "cell_type": "code",
      "source": [
        "data_rand1 = torch.rand((2,5))\n",
        "print(data_rand1)"
      ],
      "metadata": {
        "id": "aSMcxekOOvaf",
        "outputId": "26efd08f-f3d5-4f25-b179-e4ac0866f2df",
        "colab": {
          "base_uri": "https://localhost:8080/"
        }
      },
      "id": "aSMcxekOOvaf",
      "execution_count": null,
      "outputs": [
        {
          "output_type": "stream",
          "name": "stdout",
          "text": [
            "tensor([[0.4081, 0.5655, 0.4506, 0.0584, 0.7707],\n",
            "        [0.1064, 0.6604, 0.2750, 0.4928, 0.4923]])\n"
          ]
        }
      ]
    },
    {
      "cell_type": "code",
      "source": [
        "data_rand2 = torch.rand(1000)\n",
        "plt.hist(data_rand2, 100)"
      ],
      "metadata": {
        "id": "T0Dviev8PDJd",
        "outputId": "0988ce3f-adf0-4071-fb63-6eff1e10e688",
        "colab": {
          "base_uri": "https://localhost:8080/",
          "height": 1000
        }
      },
      "id": "T0Dviev8PDJd",
      "execution_count": null,
      "outputs": [
        {
          "output_type": "execute_result",
          "data": {
            "text/plain": [
              "(array([13., 12.,  8., 15.,  8., 14.,  6.,  7., 14.,  7., 11.,  8.,  5.,\n",
              "        11., 12.,  8.,  9.,  7., 15.,  5., 18.,  8.,  8.,  9., 18., 13.,\n",
              "         8., 15., 13., 13., 15., 11.,  6., 10.,  6.,  5., 11.,  6., 15.,\n",
              "         9.,  9., 11., 12., 13.,  7.,  8., 17.,  5., 10., 14.,  9.,  2.,\n",
              "        11., 11.,  6., 10., 10.,  6.,  8., 13.,  6.,  6.,  8.,  7., 13.,\n",
              "        10., 14.,  9., 12.,  9., 10., 10., 11., 15.,  8.,  9., 12., 15.,\n",
              "        11.,  4., 12.,  6.,  7.,  8., 14., 18.,  9., 10.,  4., 12.,  9.,\n",
              "        12.,  7.,  6.,  8.,  9., 13., 12., 11., 10.]),\n",
              " array([1.01447105e-04, 1.00952126e-02, 2.00889781e-02, 3.00827436e-02,\n",
              "        4.00765091e-02, 5.00702746e-02, 6.00640401e-02, 7.00578019e-02,\n",
              "        8.00515711e-02, 9.00453329e-02, 1.00039102e-01, 1.10032864e-01,\n",
              "        1.20026633e-01, 1.30020395e-01, 1.40014157e-01, 1.50007933e-01,\n",
              "        1.60001695e-01, 1.69995457e-01, 1.79989219e-01, 1.89982995e-01,\n",
              "        1.99976757e-01, 2.09970519e-01, 2.19964281e-01, 2.29958057e-01,\n",
              "        2.39951819e-01, 2.49945581e-01, 2.59939343e-01, 2.69933105e-01,\n",
              "        2.79926866e-01, 2.89920628e-01, 2.99914420e-01, 3.09908181e-01,\n",
              "        3.19901943e-01, 3.29895705e-01, 3.39889467e-01, 3.49883229e-01,\n",
              "        3.59876990e-01, 3.69870752e-01, 3.79864544e-01, 3.89858305e-01,\n",
              "        3.99852067e-01, 4.09845829e-01, 4.19839591e-01, 4.29833353e-01,\n",
              "        4.39827114e-01, 4.49820876e-01, 4.59814668e-01, 4.69808429e-01,\n",
              "        4.79802191e-01, 4.89795953e-01, 4.99789715e-01, 5.09783506e-01,\n",
              "        5.19777238e-01, 5.29771030e-01, 5.39764762e-01, 5.49758554e-01,\n",
              "        5.59752285e-01, 5.69746077e-01, 5.79739809e-01, 5.89733601e-01,\n",
              "        5.99727392e-01, 6.09721124e-01, 6.19714916e-01, 6.29708648e-01,\n",
              "        6.39702439e-01, 6.49696171e-01, 6.59689963e-01, 6.69683754e-01,\n",
              "        6.79677486e-01, 6.89671278e-01, 6.99665010e-01, 7.09658802e-01,\n",
              "        7.19652534e-01, 7.29646325e-01, 7.39640057e-01, 7.49633849e-01,\n",
              "        7.59627640e-01, 7.69621372e-01, 7.79615164e-01, 7.89608896e-01,\n",
              "        7.99602687e-01, 8.09596419e-01, 8.19590211e-01, 8.29583943e-01,\n",
              "        8.39577734e-01, 8.49571526e-01, 8.59565258e-01, 8.69559050e-01,\n",
              "        8.79552782e-01, 8.89546573e-01, 8.99540305e-01, 9.09534097e-01,\n",
              "        9.19527888e-01, 9.29521620e-01, 9.39515412e-01, 9.49509144e-01,\n",
              "        9.59502935e-01, 9.69496667e-01, 9.79490459e-01, 9.89484191e-01,\n",
              "        9.99477983e-01]),\n",
              " <BarContainer object of 100 artists>)"
            ]
          },
          "metadata": {},
          "execution_count": 78
        },
        {
          "output_type": "display_data",
          "data": {
            "text/plain": [
              "<Figure size 640x480 with 1 Axes>"
            ],
            "image/png": "[encoded data removed]"
          },
          "metadata": {}
        }
      ]
    },
    {
      "cell_type": "code",
      "source": [
        "data_rand3 = torch.randn(100)\n",
        "print(data_rand3)"
      ],
      "metadata": {
        "id": "AgMCp5OkPanT",
        "outputId": "60966b8f-f301-443f-9422-885e06200623",
        "colab": {
          "base_uri": "https://localhost:8080/"
        }
      },
      "id": "AgMCp5OkPanT",
      "execution_count": null,
      "outputs": [
        {
          "output_type": "stream",
          "name": "stdout",
          "text": [
            "tensor([-0.8983, -0.0312, -2.0338,  0.4070,  0.5947,  1.0142, -0.7297, -1.1987,\n",
            "         0.3591,  1.1901,  0.1697, -0.7105, -1.8266, -2.2333,  0.3247,  0.6451,\n",
            "         0.3730, -0.7942, -0.1730, -0.7379, -0.1594, -0.1379, -1.1123, -0.8680,\n",
            "        -1.3311, -1.1035, -0.1235,  0.9662, -0.9300, -1.3529,  1.8491,  0.2847,\n",
            "         0.6409, -0.0376, -1.2922, -0.8869,  0.8834, -0.2160,  0.7924,  0.5654,\n",
            "        -0.4592,  0.6580, -0.9975, -0.2891,  0.5465,  1.3077,  0.4468,  0.5659,\n",
            "        -0.8442, -0.5672,  0.1233, -0.6788,  1.9339, -0.8766,  0.6033, -0.9545,\n",
            "        -0.6315, -0.3161,  0.4726,  1.1513,  1.3032, -1.1656, -0.1219, -1.1784,\n",
            "        -0.2130,  2.2757,  0.6841, -0.5505,  1.7227,  2.0511, -0.6771,  1.1494,\n",
            "         0.2680, -1.5438,  0.0584, -0.7475,  0.0612,  0.1710, -1.3533, -1.1439,\n",
            "        -0.1099,  0.7114,  1.2616,  0.3221,  1.2310, -0.0203,  0.8379, -0.3470,\n",
            "        -1.1461, -0.9047, -0.3420, -1.5056,  1.4937, -0.5969, -1.2593,  0.2194,\n",
            "         1.8472,  0.5976, -1.4234,  0.8023])\n"
          ]
        }
      ]
    },
    {
      "cell_type": "code",
      "source": [
        "data_rand4 = torch.randn(1000)\n",
        "plt.hist(data_rand4, 100)"
      ],
      "metadata": {
        "id": "HbT9voeNPkx1",
        "outputId": "239033e4-e420-4316-ffc7-4e5a441eba50",
        "colab": {
          "base_uri": "https://localhost:8080/",
          "height": 977
        }
      },
      "id": "HbT9voeNPkx1",
      "execution_count": null,
      "outputs": [
        {
          "output_type": "execute_result",
          "data": {
            "text/plain": [
              "(array([ 1.,  0.,  0.,  1.,  0.,  0.,  0.,  0.,  0.,  0.,  0.,  0.,  1.,\n",
              "         1.,  4.,  2.,  1.,  1.,  0.,  1.,  4.,  2.,  2.,  6.,  8.,  6.,\n",
              "         2.,  6.,  7.,  3.,  8.,  8., 10.,  8., 15., 10., 16., 16., 12.,\n",
              "        13., 21., 12., 24., 30., 21., 23., 26., 30., 28., 31., 19., 23.,\n",
              "        29., 23., 25., 28., 24., 21., 30., 24., 23., 16., 19., 28., 24.,\n",
              "        16., 20., 19.,  7.,  8., 19., 11., 11., 11., 10., 13., 11.,  9.,\n",
              "         8., 11.,  4.,  3.,  3.,  2.,  4.,  0.,  1.,  5.,  2.,  2.,  2.,\n",
              "         3.,  0.,  2.,  3.,  0.,  1.,  1.,  0.,  1.]),\n",
              " array([-3.33315539, -3.27063894, -3.20812225, -3.1456058 , -3.08308911,\n",
              "        -3.02057266, -2.95805621, -2.89553952, -2.83302307, -2.77050638,\n",
              "        -2.70798993, -2.64547348, -2.58295679, -2.52044034, -2.45792365,\n",
              "        -2.3954072 , -2.33289075, -2.27037406, -2.20785761, -2.14534092,\n",
              "        -2.08282447, -2.02030802, -1.95779133, -1.89527488, -1.83275831,\n",
              "        -1.77024174, -1.70772517, -1.6452086 , -1.58269215, -1.52017558,\n",
              "        -1.45765901, -1.39514244, -1.33262587, -1.27010942, -1.20759284,\n",
              "        -1.14507627, -1.0825597 , -1.02004313, -0.95752662, -0.89501011,\n",
              "        -0.83249354, -0.76997697, -0.70746046, -0.64494389, -0.58242738,\n",
              "        -0.51991081, -0.45739427, -0.39487773, -0.33236116, -0.26984462,\n",
              "        -0.20732808, -0.14481154, -0.08229499, -0.01977844,  0.0427381 ,\n",
              "         0.10525465,  0.16777119,  0.23028775,  0.2928043 ,  0.35532084,\n",
              "         0.41783738,  0.48035392,  0.54287046,  0.60538703,  0.66790354,\n",
              "         0.73042011,  0.79293668,  0.85545319,  0.91796976,  0.98048627,\n",
              "         1.04300284,  1.10551941,  1.16803598,  1.23055243,  1.29306901,\n",
              "         1.35558558,  1.41810215,  1.48061872,  1.54313517,  1.60565174,\n",
              "         1.66816831,  1.73068488,  1.79320145,  1.8557179 ,  1.91823447,\n",
              "         1.98075104,  2.04326749,  2.10578418,  2.16830063,  2.23081732,\n",
              "         2.29333377,  2.35585022,  2.41836691,  2.48088336,  2.54340005,\n",
              "         2.6059165 ,  2.66843295,  2.73094964,  2.79346609,  2.85598278,\n",
              "         2.91849923]),\n",
              " <BarContainer object of 100 artists>)"
            ]
          },
          "metadata": {},
          "execution_count": 81
        },
        {
          "output_type": "display_data",
          "data": {
            "text/plain": [
              "<Figure size 640x480 with 1 Axes>"
            ],
            "image/png": "[encoded data removed]"
          },
          "metadata": {}
        }
      ]
    },
    {
      "cell_type": "code",
      "source": [
        "shape = (3,5)\n",
        "data_rand_int1 = torch.randint(1, 10, shape)\n",
        "print(data_rand_int1)"
      ],
      "metadata": {
        "id": "qOJZyr1xPo2m",
        "outputId": "588a30c6-36eb-4bba-9ce1-3586b337abe6",
        "colab": {
          "base_uri": "https://localhost:8080/"
        }
      },
      "id": "qOJZyr1xPo2m",
      "execution_count": null,
      "outputs": [
        {
          "output_type": "stream",
          "name": "stdout",
          "text": [
            "tensor([[3, 5, 1, 4, 1],\n",
            "        [7, 2, 3, 9, 6],\n",
            "        [8, 1, 6, 5, 2]])\n"
          ]
        }
      ]
    },
    {
      "cell_type": "code",
      "source": [
        "data_rand_int2 = torch.randint(1, 10, (1,))\n",
        "print(data_rand_int2)"
      ],
      "metadata": {
        "id": "8NoCJ1EwQL1Y",
        "outputId": "95203af6-4ea2-40b9-af81-14a346ad96bf",
        "colab": {
          "base_uri": "https://localhost:8080/"
        }
      },
      "id": "8NoCJ1EwQL1Y",
      "execution_count": null,
      "outputs": [
        {
          "output_type": "stream",
          "name": "stdout",
          "text": [
            "tensor([9])\n"
          ]
        }
      ]
    },
    {
      "cell_type": "markdown",
      "source": [
        "<p style=\"font-family:B Nazanin\" dir=\"rtl\">\n",
        "    تابع <code>item()</code> برای تنسورهایی که فقط یک عنصر دارند، مقدار آن عنصر را برمی‌گرداند.\n",
        "</p>"
      ],
      "metadata": {
        "id": "s1bFp5N4QbWr"
      },
      "id": "s1bFp5N4QbWr"
    },
    {
      "cell_type": "code",
      "source": [
        "data_rand_int3 = torch.randint(3, 21, (1,)).item()\n",
        "print(data_rand_int3)\n",
        "print(type(data_rand_int3))"
      ],
      "metadata": {
        "id": "YuspM3vbQifB",
        "outputId": "64e75e5b-1d72-4af2-a5e8-b5c94f69f285",
        "colab": {
          "base_uri": "https://localhost:8080/"
        }
      },
      "id": "YuspM3vbQifB",
      "execution_count": null,
      "outputs": [
        {
          "output_type": "stream",
          "name": "stdout",
          "text": [
            "15\n",
            "<class 'int'>\n"
          ]
        }
      ]
    },
    {
      "cell_type": "markdown",
      "source": [
        "<p style=\"font-family:B Nazanin\" dir=\"rtl\">\n",
        "    تابع <code>randperm()</code> تنسوری از اعداد تصادفی غیرتکراری ایجاد می‌کند.\n",
        "</p>"
      ],
      "metadata": {
        "id": "6kN1LCvAQ5VY"
      },
      "id": "6kN1LCvAQ5VY"
    },
    {
      "cell_type": "code",
      "source": [
        "data_rand_perm = torch.randperm(10)\n",
        "print(data_rand_perm)"
      ],
      "metadata": {
        "id": "5jT8FQJPRAgi",
        "outputId": "562e6484-dd5c-4a67-f088-b8d841f03129",
        "colab": {
          "base_uri": "https://localhost:8080/"
        }
      },
      "id": "5jT8FQJPRAgi",
      "execution_count": null,
      "outputs": [
        {
          "output_type": "stream",
          "name": "stdout",
          "text": [
            "tensor([9, 3, 4, 7, 5, 6, 0, 8, 2, 1])\n"
          ]
        }
      ]
    },
    {
      "cell_type": "markdown",
      "source": [
        "<p style=\"font-family:B Nazanin\" dir=\"rtl\">\n",
        "    تابع <code>repeat()</code> یک تنسور می‌گیرد و به تعداد مشخص‌شده آن را تکرار می‌کند.\n",
        "</p>"
      ],
      "metadata": {
        "id": "oesQGRmaRQ_d"
      },
      "id": "oesQGRmaRQ_d"
    },
    {
      "cell_type": "code",
      "source": [
        "vdata = torch.tensor([1,3,5,6])\n",
        "print(vdata)\n",
        "\n",
        "mat_data = vdata.repeat(3)\n",
        "print(mat_data)\n",
        "\n",
        "mat_data = vdata.repeat((3,2))\n",
        "print(mat_data)"
      ],
      "metadata": {
        "id": "2U62Xs_2RY4U",
        "outputId": "e2dbc914-19b4-4868-c05d-c194de2253ad",
        "colab": {
          "base_uri": "https://localhost:8080/"
        }
      },
      "id": "2U62Xs_2RY4U",
      "execution_count": null,
      "outputs": [
        {
          "output_type": "stream",
          "name": "stdout",
          "text": [
            "tensor([1, 3, 5, 6])\n",
            "tensor([1, 3, 5, 6, 1, 3, 5, 6, 1, 3, 5, 6])\n",
            "tensor([[1, 3, 5, 6, 1, 3, 5, 6],\n",
            "        [1, 3, 5, 6, 1, 3, 5, 6],\n",
            "        [1, 3, 5, 6, 1, 3, 5, 6]])\n"
          ]
        }
      ]
    },
    {
      "cell_type": "markdown",
      "source": [
        "<p style=\"font-family:B Nazanin\" dir=\"rtl\">\n",
        "    تابع <cod>zero_()</code> که روی یک تنسور اعمال می‌شود، تمام داده‌های آن تنسور را به صفر تبدیل می‌کند.\n",
        "</p>"
      ],
      "metadata": {
        "id": "rRyXsR7NnaPY"
      },
      "id": "rRyXsR7NnaPY"
    },
    {
      "cell_type": "code",
      "source": [
        "data = torch.randint(1,21,(5,5))\n",
        "data"
      ],
      "metadata": {
        "id": "vlr_fGKGoFu_",
        "outputId": "882d0104-39d2-4720-dc66-a7a8a6742aab",
        "colab": {
          "base_uri": "https://localhost:8080/"
        }
      },
      "id": "vlr_fGKGoFu_",
      "execution_count": null,
      "outputs": [
        {
          "output_type": "execute_result",
          "data": {
            "text/plain": [
              "tensor([[12,  4, 20, 18, 15],\n",
              "        [ 6,  3, 11,  6,  8],\n",
              "        [20, 17,  7, 12,  1],\n",
              "        [ 2,  5, 10, 13, 12],\n",
              "        [13, 17, 13, 16,  1]])"
            ]
          },
          "metadata": {},
          "execution_count": 3
        }
      ]
    },
    {
      "cell_type": "code",
      "source": [
        "data.zero_()\n",
        "data"
      ],
      "metadata": {
        "id": "ftHwYw22oNQJ",
        "outputId": "e55eb7b6-fe75-49f1-f582-77e7b6005f1b",
        "colab": {
          "base_uri": "https://localhost:8080/"
        }
      },
      "id": "ftHwYw22oNQJ",
      "execution_count": null,
      "outputs": [
        {
          "output_type": "execute_result",
          "data": {
            "text/plain": [
              "tensor([[0, 0, 0, 0, 0],\n",
              "        [0, 0, 0, 0, 0],\n",
              "        [0, 0, 0, 0, 0],\n",
              "        [0, 0, 0, 0, 0],\n",
              "        [0, 0, 0, 0, 0]])"
            ]
          },
          "metadata": {},
          "execution_count": 4
        }
      ]
    },
    {
      "cell_type": "markdown",
      "source": [
        "<p style=\"font-family:B Nazanin\" dir=\"rtl\">\n",
        "    تابع <code>fill_(n)</code> یک پارامتر ورودی می‌گیرد و همه داده‌های یک تنسور را با آن عدد جایگزین می‌کند.\n",
        "</p>"
      ],
      "metadata": {
        "id": "K5c8w5U0oamI"
      },
      "id": "K5c8w5U0oamI"
    },
    {
      "cell_type": "code",
      "source": [
        "data.fill_(1)\n",
        "data"
      ],
      "metadata": {
        "id": "TteOCxoXonJJ",
        "outputId": "41d51c52-7224-4f29-a24b-a0790800508f",
        "colab": {
          "base_uri": "https://localhost:8080/"
        }
      },
      "id": "TteOCxoXonJJ",
      "execution_count": null,
      "outputs": [
        {
          "output_type": "execute_result",
          "data": {
            "text/plain": [
              "tensor([[1, 1, 1, 1, 1],\n",
              "        [1, 1, 1, 1, 1],\n",
              "        [1, 1, 1, 1, 1],\n",
              "        [1, 1, 1, 1, 1],\n",
              "        [1, 1, 1, 1, 1]])"
            ]
          },
          "metadata": {},
          "execution_count": 5
        }
      ]
    },
    {
      "cell_type": "markdown",
      "source": [
        "<p style=\"font-family:B Nazanin\" dir=\"rtl\">\n",
        "    تابع <code>eye</code> نیز ماتریس همانی یا یکه می‌سازد.\n",
        "</p>"
      ],
      "metadata": {
        "id": "sIx6T3THowCp"
      },
      "id": "sIx6T3THowCp"
    },
    {
      "cell_type": "code",
      "source": [
        "torch.eye(data.shape[1])"
      ],
      "metadata": {
        "id": "B7wm04MYo2Qa",
        "outputId": "b3c98b64-0176-4ea0-fb2a-bbf7cac05a35",
        "colab": {
          "base_uri": "https://localhost:8080/"
        }
      },
      "id": "B7wm04MYo2Qa",
      "execution_count": null,
      "outputs": [
        {
          "output_type": "execute_result",
          "data": {
            "text/plain": [
              "tensor([[1., 0., 0., 0., 0.],\n",
              "        [0., 1., 0., 0., 0.],\n",
              "        [0., 0., 1., 0., 0.],\n",
              "        [0., 0., 0., 1., 0.],\n",
              "        [0., 0., 0., 0., 1.]])"
            ]
          },
          "metadata": {},
          "execution_count": 6
        }
      ]
    },
    {
      "cell_type": "markdown",
      "source": [
        "<p style=\"font-family:B Nazanin\" dir=\"rtl\">\n",
        "    تابع <code>zeros_like()</code> یک تنسور به عنوان ورودی می‌گیرد و یک تنسور که همه داده‌های آن صفر است و ابعاد آن به اندازه ابعاد تنسور ورودی است، می‌سازد.\n",
        "</p>"
      ],
      "metadata": {
        "id": "54AqTPlqpDQT"
      },
      "id": "54AqTPlqpDQT"
    },
    {
      "cell_type": "code",
      "source": [
        "z = torch.zeros_like(data)\n",
        "z"
      ],
      "metadata": {
        "id": "MFF5Cie_pSU0",
        "outputId": "53a7b49d-0ae8-45af-a968-076953b10788",
        "colab": {
          "base_uri": "https://localhost:8080/"
        }
      },
      "id": "MFF5Cie_pSU0",
      "execution_count": null,
      "outputs": [
        {
          "output_type": "execute_result",
          "data": {
            "text/plain": [
              "tensor([[0, 0, 0, 0, 0],\n",
              "        [0, 0, 0, 0, 0],\n",
              "        [0, 0, 0, 0, 0],\n",
              "        [0, 0, 0, 0, 0],\n",
              "        [0, 0, 0, 0, 0]])"
            ]
          },
          "metadata": {},
          "execution_count": 7
        }
      ]
    },
    {
      "cell_type": "markdown",
      "source": [
        "<p style=\"font-family:B Nazanin\" dir=\"rtl\">\n",
        "    عملیات جمع، تفریق، ضرب و تقسیم را می‌توان روی تنسورها انجام داد که درایه به درایه روی داده‌های تنسورها انجام می‌شود.\n",
        "</p>"
      ],
      "metadata": {
        "id": "mMvA8JL4phZy"
      },
      "id": "mMvA8JL4phZy"
    },
    {
      "cell_type": "code",
      "source": [
        "v1 = torch.randint(1, 21, (8,))\n",
        "v2 = torch.randint(1, 21, (8,))\n",
        "v3 = torch.randint(1, 21, (10,))\n",
        "\n",
        "print(f'Vector1: {v1}')\n",
        "print(f'Vector2: {v2}')\n",
        "print(f'Vector3: {v3}')"
      ],
      "metadata": {
        "id": "zXsE2BS9ptJW",
        "outputId": "d6804018-f282-4420-ab1c-f15535ded2fc",
        "colab": {
          "base_uri": "https://localhost:8080/"
        }
      },
      "id": "zXsE2BS9ptJW",
      "execution_count": null,
      "outputs": [
        {
          "output_type": "stream",
          "name": "stdout",
          "text": [
            "Vector1: tensor([20, 13,  8,  6,  2, 19, 12,  9])\n",
            "Vector2: tensor([ 9, 15, 15,  3,  3,  7,  1, 11])\n",
            "Vector3: tensor([ 1,  1, 14,  1, 16, 10, 20, 10, 15,  5])\n"
          ]
        }
      ]
    },
    {
      "cell_type": "code",
      "source": [
        "print(f'v1 + v2 => {v1+v2}')\n",
        "# print(f'v1 + v3 => {v1+v3}') # Error\n",
        "print(f'v1 - v2 => {v1-v2}')\n",
        "print(f'v1 * v2 => {v1*v2}')\n",
        "print(f'v1 / v2 => {v1/v2}')"
      ],
      "metadata": {
        "id": "SwGBXTKuqAhY",
        "outputId": "a25874f8-17cb-4915-b296-7849f7f5e4ad",
        "colab": {
          "base_uri": "https://localhost:8080/"
        }
      },
      "id": "SwGBXTKuqAhY",
      "execution_count": null,
      "outputs": [
        {
          "output_type": "stream",
          "name": "stdout",
          "text": [
            "v1 + v2 => tensor([29, 28, 23,  9,  5, 26, 13, 20])\n",
            "v1 - v2 => tensor([11, -2, -7,  3, -1, 12, 11, -2])\n",
            "v1 * v2 => tensor([180, 195, 120,  18,   6, 133,  12,  99])\n",
            "v1 / v2 => tensor([ 2.2222,  0.8667,  0.5333,  2.0000,  0.6667,  2.7143, 12.0000,  0.8182])\n"
          ]
        }
      ]
    },
    {
      "cell_type": "code",
      "source": [
        "mat1 = torch.randint(1, 21, (3,4))\n",
        "mat2 = torch.randint(1, 21, (3,4))\n",
        "mat3 = torch.randint(1, 21, (4,7))\n",
        "\n",
        "print(f'Matrix1:\\n{mat1}')\n",
        "print(f'Matrix2:\\n{mat2}')\n",
        "print(f'Matrix3:\\n{mat3}')"
      ],
      "metadata": {
        "id": "LkujxA-iqj7o",
        "outputId": "74aa46b6-563d-4038-a2a7-6dce40a73906",
        "colab": {
          "base_uri": "https://localhost:8080/"
        }
      },
      "id": "LkujxA-iqj7o",
      "execution_count": null,
      "outputs": [
        {
          "output_type": "stream",
          "name": "stdout",
          "text": [
            "Matrix1:\n",
            "tensor([[14, 14,  3, 13],\n",
            "        [14, 18,  9, 16],\n",
            "        [14,  6,  4, 18]])\n",
            "Matrix2:\n",
            "tensor([[18, 19,  1, 13],\n",
            "        [16, 12,  9, 16],\n",
            "        [15,  4,  1, 11]])\n",
            "Matrix3:\n",
            "tensor([[14, 19, 18, 10, 14,  3,  3],\n",
            "        [ 9,  6, 13,  1,  1, 13, 15],\n",
            "        [17, 13, 15, 16, 11, 18,  6],\n",
            "        [ 8, 20,  9, 11,  6, 18,  8]])\n"
          ]
        }
      ]
    },
    {
      "cell_type": "code",
      "source": [
        "print(f'mat1 + mat2 => \\n{mat1+mat2}')\n",
        "print(f'mat1 - mat2 => \\n{mat1-mat2}')\n",
        "print(f'mat1 * mat2 => \\n{mat1*mat2}')\n",
        "print(f'mat1 / mat2 => \\n{mat1/mat2}')"
      ],
      "metadata": {
        "id": "idNEvlziq6PU",
        "outputId": "a66866eb-ea6a-405c-92d8-1195341db0ba",
        "colab": {
          "base_uri": "https://localhost:8080/"
        }
      },
      "id": "idNEvlziq6PU",
      "execution_count": null,
      "outputs": [
        {
          "output_type": "stream",
          "name": "stdout",
          "text": [
            "mat1 + mat2 => \n",
            "tensor([[32, 33,  4, 26],\n",
            "        [30, 30, 18, 32],\n",
            "        [29, 10,  5, 29]])\n",
            "mat1 - mat2 => \n",
            "tensor([[-4, -5,  2,  0],\n",
            "        [-2,  6,  0,  0],\n",
            "        [-1,  2,  3,  7]])\n",
            "mat1 * mat2 => \n",
            "tensor([[252, 266,   3, 169],\n",
            "        [224, 216,  81, 256],\n",
            "        [210,  24,   4, 198]])\n",
            "mat1 / mat2 => \n",
            "tensor([[0.7778, 0.7368, 3.0000, 1.0000],\n",
            "        [0.8750, 1.5000, 1.0000, 1.0000],\n",
            "        [0.9333, 1.5000, 4.0000, 1.6364]])\n"
          ]
        }
      ]
    },
    {
      "cell_type": "markdown",
      "source": [
        "<p style=\"font-family:B Nazanin\" dir=\"rtl\">\n",
        "    دقت کنید که عملیات ضربی که در بالا به آن اشاره شد، ضرب ماتریسی نیست، بلکه ضرب درایه به درایه است. برای انجام ضرب ماتریسی از عملگر @ استفاده می‌کنیم. همچنین برای این کار از تابع <code>matmul</code> نیز می‌توان استفاده کرد.\n",
        "</p>"
      ],
      "metadata": {
        "id": "2V399H8grKbN"
      },
      "id": "2V399H8grKbN"
    },
    {
      "cell_type": "code",
      "source": [
        "print(f'mat1 * mat3 =>\\n{mat1 @ mat3}')"
      ],
      "metadata": {
        "id": "Kji5CBB1rbPP",
        "outputId": "b925a73b-16bc-4717-ec6e-c2cb7d484d98",
        "colab": {
          "base_uri": "https://localhost:8080/"
        }
      },
      "id": "Kji5CBB1rbPP",
      "execution_count": null,
      "outputs": [
        {
          "output_type": "stream",
          "name": "stdout",
          "text": [
            "mat1 * mat3 =>\n",
            "tensor([[477, 649, 596, 345, 321, 512, 374],\n",
            "        [639, 811, 765, 478, 409, 726, 494],\n",
            "        [462, 714, 552, 408, 354, 516, 300]])\n"
          ]
        }
      ]
    },
    {
      "cell_type": "code",
      "source": [
        "print(f'mat1 * mat3 =>\\n{torch.matmul(mat1, mat3)}')"
      ],
      "metadata": {
        "id": "0hkOqCABrmH7",
        "outputId": "6c4b9a47-834b-4f53-e6d6-a84b72f5906b",
        "colab": {
          "base_uri": "https://localhost:8080/"
        }
      },
      "id": "0hkOqCABrmH7",
      "execution_count": null,
      "outputs": [
        {
          "output_type": "stream",
          "name": "stdout",
          "text": [
            "mat1 * mat3 =>\n",
            "tensor([[477, 649, 596, 345, 321, 512, 374],\n",
            "        [639, 811, 765, 478, 409, 726, 494],\n",
            "        [462, 714, 552, 408, 354, 516, 300]])\n"
          ]
        }
      ]
    },
    {
      "cell_type": "markdown",
      "source": [
        "<p style=\"font-family:B Nazanin\" dir=\"rtl\">\n",
        "    برای دسترسی به داده‌های درون یک تنسور از اندیس‌ها استفاده می‌کنیم. می‌دانیم که اندیس‌ها از صفر شروع می‌شوند. همچنین اندیس‌های منفی نیز وجود دارند که از انتهای تنسور شمرده می‌شوند.\n",
        "</p>"
      ],
      "metadata": {
        "id": "eLMnrRuFr8X5"
      },
      "id": "eLMnrRuFr8X5"
    },
    {
      "cell_type": "code",
      "source": [
        "torch.manual_seed(42)\n",
        "vector_data = torch.randint(1, 21, (8,))\n",
        "vector_data"
      ],
      "metadata": {
        "id": "79sv2Yt2sJYg",
        "outputId": "d8a3a432-077d-476e-86be-e7bd17fc0f0b",
        "colab": {
          "base_uri": "https://localhost:8080/"
        }
      },
      "id": "79sv2Yt2sJYg",
      "execution_count": null,
      "outputs": [
        {
          "output_type": "execute_result",
          "data": {
            "text/plain": [
              "tensor([ 3,  8, 17, 15,  7, 16,  1,  5])"
            ]
          },
          "metadata": {},
          "execution_count": 21
        }
      ]
    },
    {
      "cell_type": "code",
      "source": [
        "print(vector_data[0])\n",
        "print(vector_data[2])\n",
        "print(vector_data[-1])"
      ],
      "metadata": {
        "id": "mAsCdRQUsRIe",
        "outputId": "4e1a89d5-d8cf-47fb-845a-7cbeaf528bab",
        "colab": {
          "base_uri": "https://localhost:8080/"
        }
      },
      "id": "mAsCdRQUsRIe",
      "execution_count": null,
      "outputs": [
        {
          "output_type": "stream",
          "name": "stdout",
          "text": [
            "tensor(3)\n",
            "tensor(17)\n",
            "tensor(5)\n"
          ]
        }
      ]
    },
    {
      "cell_type": "code",
      "source": [
        "mat_data = torch.randint(1, 21, (3, 6))\n",
        "mat_data"
      ],
      "metadata": {
        "id": "RGIM5hpXsi8k",
        "outputId": "448ba45d-fec6-4518-bf62-d764d20bd197",
        "colab": {
          "base_uri": "https://localhost:8080/"
        }
      },
      "id": "RGIM5hpXsi8k",
      "execution_count": null,
      "outputs": [
        {
          "output_type": "execute_result",
          "data": {
            "text/plain": [
              "tensor([[ 2, 10,  8, 20, 13,  1],\n",
              "        [16, 10, 14,  5, 20, 17],\n",
              "        [13, 11,  7,  3, 18, 20]])"
            ]
          },
          "metadata": {},
          "execution_count": 24
        }
      ]
    },
    {
      "cell_type": "code",
      "source": [
        "print(mat_data[0, 1])\n",
        "print(mat_data[-1, 1])\n",
        "print(mat_data[-1, -1])\n",
        "print(mat_data[2])"
      ],
      "metadata": {
        "id": "NZYEGeIRsssE",
        "outputId": "fc60fca3-4810-4aac-be60-fc9fc275f868",
        "colab": {
          "base_uri": "https://localhost:8080/"
        }
      },
      "id": "NZYEGeIRsssE",
      "execution_count": null,
      "outputs": [
        {
          "output_type": "stream",
          "name": "stdout",
          "text": [
            "tensor(10)\n",
            "tensor(11)\n",
            "tensor(20)\n",
            "tensor([13, 11,  7,  3, 18, 20])\n"
          ]
        }
      ]
    },
    {
      "cell_type": "markdown",
      "source": [
        "<p style=\"font-family:B Nazanin\" dir=\"rtl\">\n",
        "    مشابه با لیست‌ها در پایتون، عملیات Slicing را روی تنسورها نیز می‌توان انجام داد.\n",
        "</p>"
      ],
      "metadata": {
        "id": "DhCdK1trs78z"
      },
      "id": "DhCdK1trs78z"
    },
    {
      "cell_type": "code",
      "source": [
        "vector_data = torch.randint(1, 21, (10,))\n",
        "vector_data"
      ],
      "metadata": {
        "id": "HLswTx4NtDRB",
        "outputId": "d190a542-dcdb-42b4-a5dc-7dd99e3e0ce0",
        "colab": {
          "base_uri": "https://localhost:8080/"
        }
      },
      "id": "HLswTx4NtDRB",
      "execution_count": null,
      "outputs": [
        {
          "output_type": "execute_result",
          "data": {
            "text/plain": [
              "tensor([ 8,  4,  4, 15, 14, 18, 11, 10, 11, 20])"
            ]
          },
          "metadata": {},
          "execution_count": 27
        }
      ]
    },
    {
      "cell_type": "code",
      "source": [
        "print(vector_data[2:6])\n",
        "print(vector_data[:6])\n",
        "print(vector_data[2:])\n",
        "print(vector_data[:])\n",
        "print(vector_data[:-1])\n",
        "print(vector_data[::2])"
      ],
      "metadata": {
        "id": "fm97E-9_tI08",
        "outputId": "988b6ae2-23d0-4fe2-b111-8683ebeb659c",
        "colab": {
          "base_uri": "https://localhost:8080/"
        }
      },
      "id": "fm97E-9_tI08",
      "execution_count": null,
      "outputs": [
        {
          "output_type": "stream",
          "name": "stdout",
          "text": [
            "tensor([ 4, 15, 14, 18])\n",
            "tensor([ 8,  4,  4, 15, 14, 18])\n",
            "tensor([ 4, 15, 14, 18, 11, 10, 11, 20])\n",
            "tensor([ 8,  4,  4, 15, 14, 18, 11, 10, 11, 20])\n",
            "tensor([ 8,  4,  4, 15, 14, 18, 11, 10, 11])\n",
            "tensor([ 8,  4, 14, 11, 11])\n"
          ]
        }
      ]
    },
    {
      "cell_type": "code",
      "source": [
        "mat_data = torch.randint(1, 21, (7, 8))\n",
        "mat_data"
      ],
      "metadata": {
        "id": "y-4IQUNEtaEk",
        "outputId": "8224e0ac-f770-4fd2-e8e7-cc0348cec5ad",
        "colab": {
          "base_uri": "https://localhost:8080/"
        }
      },
      "id": "y-4IQUNEtaEk",
      "execution_count": null,
      "outputs": [
        {
          "output_type": "execute_result",
          "data": {
            "text/plain": [
              "tensor([[ 7, 20, 16,  5, 19,  9,  7, 11],\n",
              "        [ 1,  1, 11,  2,  4,  1, 12,  2],\n",
              "        [18, 10,  5, 14,  9, 10,  4,  8],\n",
              "        [19, 12, 15, 12, 17,  4,  3, 11],\n",
              "        [10,  9, 16, 14,  8,  8,  6, 10],\n",
              "        [ 2,  6,  2, 20,  2,  5, 11, 14],\n",
              "        [18, 16, 18,  2,  6,  8,  6, 19]])"
            ]
          },
          "metadata": {},
          "execution_count": 29
        }
      ]
    },
    {
      "cell_type": "code",
      "source": [
        "print(mat_data[2:5, 1:3])\n",
        "print(mat_data[:, 1:3])\n",
        "print(mat_data[2:5, :])\n",
        "print(mat_data[:5, 4:])\n",
        "print(mat_data[:, :])"
      ],
      "metadata": {
        "id": "CDtYelciteXJ",
        "outputId": "175c23f2-ec4b-4892-988c-0304903fc462",
        "colab": {
          "base_uri": "https://localhost:8080/"
        }
      },
      "id": "CDtYelciteXJ",
      "execution_count": null,
      "outputs": [
        {
          "output_type": "stream",
          "name": "stdout",
          "text": [
            "tensor([[10,  5],\n",
            "        [12, 15],\n",
            "        [ 9, 16]])\n",
            "tensor([[20, 16],\n",
            "        [ 1, 11],\n",
            "        [10,  5],\n",
            "        [12, 15],\n",
            "        [ 9, 16],\n",
            "        [ 6,  2],\n",
            "        [16, 18]])\n",
            "tensor([[18, 10,  5, 14,  9, 10,  4,  8],\n",
            "        [19, 12, 15, 12, 17,  4,  3, 11],\n",
            "        [10,  9, 16, 14,  8,  8,  6, 10]])\n",
            "tensor([[19,  9,  7, 11],\n",
            "        [ 4,  1, 12,  2],\n",
            "        [ 9, 10,  4,  8],\n",
            "        [17,  4,  3, 11],\n",
            "        [ 8,  8,  6, 10]])\n",
            "tensor([[ 7, 20, 16,  5, 19,  9,  7, 11],\n",
            "        [ 1,  1, 11,  2,  4,  1, 12,  2],\n",
            "        [18, 10,  5, 14,  9, 10,  4,  8],\n",
            "        [19, 12, 15, 12, 17,  4,  3, 11],\n",
            "        [10,  9, 16, 14,  8,  8,  6, 10],\n",
            "        [ 2,  6,  2, 20,  2,  5, 11, 14],\n",
            "        [18, 16, 18,  2,  6,  8,  6, 19]])\n"
          ]
        }
      ]
    },
    {
      "cell_type": "code",
      "source": [
        "ten_data = torch.randint(1, 21, (3, 5, 8))\n",
        "ten_data"
      ],
      "metadata": {
        "id": "yibzZD2ct0LO",
        "outputId": "e7ff86c0-08c1-4850-9a1e-1276cb975943",
        "colab": {
          "base_uri": "https://localhost:8080/"
        }
      },
      "id": "yibzZD2ct0LO",
      "execution_count": null,
      "outputs": [
        {
          "output_type": "execute_result",
          "data": {
            "text/plain": [
              "tensor([[[16, 15, 12,  2, 11, 20,  1, 10],\n",
              "         [12,  9, 20, 17, 18,  7,  1, 20],\n",
              "         [ 6, 13, 20, 12,  8,  9, 17,  1],\n",
              "         [ 7,  9, 17,  9, 11, 17, 20,  1],\n",
              "         [16, 20, 16,  3, 11, 19,  9,  8]],\n",
              "\n",
              "        [[ 3,  3, 17, 19, 13, 18,  7, 14],\n",
              "         [ 1,  4,  7,  1,  4,  8, 14,  9],\n",
              "         [20, 19,  3,  6, 16,  5, 19, 12],\n",
              "         [ 8, 10,  3,  7,  9,  3,  9,  3],\n",
              "         [ 2, 11,  1, 17,  6, 11,  7, 10]],\n",
              "\n",
              "        [[ 3, 15, 13, 11,  3, 14, 14, 12],\n",
              "         [17, 15,  7, 20, 15,  9, 20, 13],\n",
              "         [16, 20, 10, 17, 15, 11,  9,  3],\n",
              "         [15,  1, 12,  1,  8, 11, 19, 19],\n",
              "         [10, 12, 14,  2,  5,  2,  1,  9]]])"
            ]
          },
          "metadata": {},
          "execution_count": 31
        }
      ]
    },
    {
      "cell_type": "code",
      "source": [
        "print(ten_data[1:2, :4, 2:])\n",
        "print(ten_data[2])\n",
        "print(ten_data[...]) # Ellipsis (...) sign: به معنای همه عناصر است\n",
        "print(ten_data[..., 2]) # یعنی همه ابعاد فقط در بعد آخر دومین اندیس آورده شود."
      ],
      "metadata": {
        "id": "vJZecfL9t5kn",
        "outputId": "e1b309fd-df8f-48cc-d0d5-e94c7811276c",
        "colab": {
          "base_uri": "https://localhost:8080/"
        }
      },
      "id": "vJZecfL9t5kn",
      "execution_count": null,
      "outputs": [
        {
          "output_type": "stream",
          "name": "stdout",
          "text": [
            "tensor([[[17, 19, 13, 18,  7, 14],\n",
            "         [ 7,  1,  4,  8, 14,  9],\n",
            "         [ 3,  6, 16,  5, 19, 12],\n",
            "         [ 3,  7,  9,  3,  9,  3]]])\n",
            "tensor([[ 3, 15, 13, 11,  3, 14, 14, 12],\n",
            "        [17, 15,  7, 20, 15,  9, 20, 13],\n",
            "        [16, 20, 10, 17, 15, 11,  9,  3],\n",
            "        [15,  1, 12,  1,  8, 11, 19, 19],\n",
            "        [10, 12, 14,  2,  5,  2,  1,  9]])\n",
            "tensor([[[16, 15, 12,  2, 11, 20,  1, 10],\n",
            "         [12,  9, 20, 17, 18,  7,  1, 20],\n",
            "         [ 6, 13, 20, 12,  8,  9, 17,  1],\n",
            "         [ 7,  9, 17,  9, 11, 17, 20,  1],\n",
            "         [16, 20, 16,  3, 11, 19,  9,  8]],\n",
            "\n",
            "        [[ 3,  3, 17, 19, 13, 18,  7, 14],\n",
            "         [ 1,  4,  7,  1,  4,  8, 14,  9],\n",
            "         [20, 19,  3,  6, 16,  5, 19, 12],\n",
            "         [ 8, 10,  3,  7,  9,  3,  9,  3],\n",
            "         [ 2, 11,  1, 17,  6, 11,  7, 10]],\n",
            "\n",
            "        [[ 3, 15, 13, 11,  3, 14, 14, 12],\n",
            "         [17, 15,  7, 20, 15,  9, 20, 13],\n",
            "         [16, 20, 10, 17, 15, 11,  9,  3],\n",
            "         [15,  1, 12,  1,  8, 11, 19, 19],\n",
            "         [10, 12, 14,  2,  5,  2,  1,  9]]])\n",
            "tensor([[12, 20, 20, 17, 16],\n",
            "        [17,  7,  3,  3,  1],\n",
            "        [13,  7, 10, 12, 14]])\n"
          ]
        }
      ]
    },
    {
      "cell_type": "markdown",
      "source": [
        "<p style=\"font-family:B Nazanin\" dir=\"rtl\">\n",
        "    عملیات تغییر ابعاد یا reshape کردن تنسور\n",
        "</p>"
      ],
      "metadata": {
        "id": "Vniwtnd_QcXz"
      },
      "id": "Vniwtnd_QcXz"
    },
    {
      "cell_type": "code",
      "source": [
        "vector_data = torch.randint(1,21,(30,))\n",
        "print(vector_data)\n",
        "print(vector_data.shape)"
      ],
      "metadata": {
        "id": "vE4c-CSKQyY2",
        "outputId": "1b557d42-50b3-41fe-aa99-9b8ae2a18269",
        "colab": {
          "base_uri": "https://localhost:8080/"
        }
      },
      "id": "vE4c-CSKQyY2",
      "execution_count": null,
      "outputs": [
        {
          "output_type": "stream",
          "name": "stdout",
          "text": [
            "tensor([ 3,  7, 10,  9, 13,  7,  8,  8, 12,  6,  3,  9, 18,  4,  2,  3, 15, 17,\n",
            "         4,  8,  7, 16, 15,  6,  7, 15, 15, 18, 16,  2])\n",
            "torch.Size([30])\n"
          ]
        }
      ]
    },
    {
      "cell_type": "code",
      "source": [
        "vector_data.reshape(2,5,3)"
      ],
      "metadata": {
        "id": "s7Muc58jQ9ab",
        "outputId": "573edbe9-fe43-440b-b41b-2b6cd6ee69ad",
        "colab": {
          "base_uri": "https://localhost:8080/"
        }
      },
      "id": "s7Muc58jQ9ab",
      "execution_count": null,
      "outputs": [
        {
          "output_type": "execute_result",
          "data": {
            "text/plain": [
              "tensor([[[ 3,  7, 10],\n",
              "         [ 9, 13,  7],\n",
              "         [ 8,  8, 12],\n",
              "         [ 6,  3,  9],\n",
              "         [18,  4,  2]],\n",
              "\n",
              "        [[ 3, 15, 17],\n",
              "         [ 4,  8,  7],\n",
              "         [16, 15,  6],\n",
              "         [ 7, 15, 15],\n",
              "         [18, 16,  2]]])"
            ]
          },
          "metadata": {},
          "execution_count": 6
        }
      ]
    },
    {
      "cell_type": "markdown",
      "source": [
        "<p style=\"font-family:B Nazanin\" dir=\"rtl\">\n",
        "    تابع <code>unsqueeze()</code> برای اضافه کردن یک بعد در یک موقعیت خاص استفاده می‌شود. به عنوان مثال تنسور زیر را در نظر بگیرید:\n",
        "</p>"
      ],
      "metadata": {
        "id": "ZNP5BwngRdoX"
      },
      "id": "ZNP5BwngRdoX"
    },
    {
      "cell_type": "code",
      "source": [
        "vector_data1 = torch.randint(1,21,(8,))\n",
        "print(vector_data1.shape)\n",
        "print(vector_data1)"
      ],
      "metadata": {
        "id": "fAIiL_0wR6RM",
        "outputId": "154bc965-fb60-4eda-89d9-8d29c861ef14",
        "colab": {
          "base_uri": "https://localhost:8080/"
        }
      },
      "id": "fAIiL_0wR6RM",
      "execution_count": null,
      "outputs": [
        {
          "output_type": "stream",
          "name": "stdout",
          "text": [
            "torch.Size([8])\n",
            "tensor([18,  4,  6,  2,  7,  3,  7,  9])\n"
          ]
        }
      ]
    },
    {
      "cell_type": "markdown",
      "source": [
        "<p style=\"font-family:B Nazanin\" dir=\"rtl\">\n",
        "    حال می‌خواهیم یک بعد به این تنسور اضافخ کنیم به صورتی که ابعاد نهایی تنسور یک در هشت شود:\n",
        "</p>"
      ],
      "metadata": {
        "id": "tpsUv0nfSH_x"
      },
      "id": "tpsUv0nfSH_x"
    },
    {
      "cell_type": "code",
      "source": [
        "vector_data2 = vector_data1.unsqueeze(0)\n",
        "print(vector_data2.shape)\n",
        "print(vector_data2)"
      ],
      "metadata": {
        "id": "n-M9muqqSWy8",
        "outputId": "ae841a6d-b318-4a60-901e-f84947e9848f",
        "colab": {
          "base_uri": "https://localhost:8080/"
        }
      },
      "id": "n-M9muqqSWy8",
      "execution_count": null,
      "outputs": [
        {
          "output_type": "stream",
          "name": "stdout",
          "text": [
            "torch.Size([1, 8])\n",
            "tensor([[18,  4,  6,  2,  7,  3,  7,  9]])\n"
          ]
        }
      ]
    },
    {
      "cell_type": "markdown",
      "source": [
        "<p style=\"font-family:B Nazanin\" dir=\"rtl\">\n",
        "    اگر می‌خواستیم ابعاد نهایی هشت در یک شود:\n",
        "</p>"
      ],
      "metadata": {
        "id": "jUI3g1HcSgBH"
      },
      "id": "jUI3g1HcSgBH"
    },
    {
      "cell_type": "code",
      "source": [
        "vector_data2 = vector_data1.unsqueeze(1)\n",
        "print(vector_data2.shape)\n",
        "print(vector_data2)"
      ],
      "metadata": {
        "id": "32Ihmr_FSlEY",
        "outputId": "86997ee8-a57e-4dca-988c-176be5052a45",
        "colab": {
          "base_uri": "https://localhost:8080/"
        }
      },
      "id": "32Ihmr_FSlEY",
      "execution_count": null,
      "outputs": [
        {
          "output_type": "stream",
          "name": "stdout",
          "text": [
            "torch.Size([8, 1])\n",
            "tensor([[18],\n",
            "        [ 4],\n",
            "        [ 6],\n",
            "        [ 2],\n",
            "        [ 7],\n",
            "        [ 3],\n",
            "        [ 7],\n",
            "        [ 9]])\n"
          ]
        }
      ]
    },
    {
      "cell_type": "markdown",
      "source": [
        "<p style=\"font-family:B Nazanin\" dir=\"rtl\">\n",
        "    مثال دیگر:\n",
        "</p>"
      ],
      "metadata": {
        "id": "8aqHzCgCSnid"
      },
      "id": "8aqHzCgCSnid"
    },
    {
      "cell_type": "code",
      "source": [
        "mat_data1 = torch.randint(1, 21, (3, 5))\n",
        "print(f'mat_data1.shape: {mat_data1.shape}')\n",
        "print(f'mat_data1: \\n{mat_data1}')\n",
        "print('*'*100)\n",
        "\n",
        "mat_data2 = mat_data1.unsqueeze(0)\n",
        "print(f'mat_data2.shape: {mat_data2.shape}')\n",
        "print(f'mat_data2: \\n{mat_data2}')\n",
        "print('*'*100)\n",
        "\n",
        "mat_data3 = mat_data1.unsqueeze(1)\n",
        "print(f'mat_data3.shape: {mat_data3.shape}')\n",
        "print(f'mat_data3: \\n{mat_data3}')\n",
        "print('*'*100)\n",
        "\n",
        "mat_data4 = mat_data1.unsqueeze(2)\n",
        "print(f'mat_data4.shape: {mat_data4.shape}')\n",
        "print(f'mat_data4: \\n{mat_data4}')\n",
        "print('*'*100)"
      ],
      "metadata": {
        "id": "wDk_FDcoSzgL",
        "outputId": "e5f56a85-fc00-4542-a813-a1e2be1ee0d2",
        "colab": {
          "base_uri": "https://localhost:8080/"
        }
      },
      "id": "wDk_FDcoSzgL",
      "execution_count": null,
      "outputs": [
        {
          "output_type": "stream",
          "name": "stdout",
          "text": [
            "mat_data1.shape: torch.Size([3, 5])\n",
            "mat_data1: \n",
            "tensor([[12, 20, 11,  7, 16],\n",
            "        [16,  6, 12,  4,  6],\n",
            "        [12,  2,  7, 20,  5]])\n",
            "****************************************************************************************************\n",
            "mat_data2.shape: torch.Size([1, 3, 5])\n",
            "mat_data2: \n",
            "tensor([[[12, 20, 11,  7, 16],\n",
            "         [16,  6, 12,  4,  6],\n",
            "         [12,  2,  7, 20,  5]]])\n",
            "****************************************************************************************************\n",
            "mat_data3.shape: torch.Size([3, 1, 5])\n",
            "mat_data3: \n",
            "tensor([[[12, 20, 11,  7, 16]],\n",
            "\n",
            "        [[16,  6, 12,  4,  6]],\n",
            "\n",
            "        [[12,  2,  7, 20,  5]]])\n",
            "****************************************************************************************************\n",
            "mat_data4.shape: torch.Size([3, 5, 1])\n",
            "mat_data4: \n",
            "tensor([[[12],\n",
            "         [20],\n",
            "         [11],\n",
            "         [ 7],\n",
            "         [16]],\n",
            "\n",
            "        [[16],\n",
            "         [ 6],\n",
            "         [12],\n",
            "         [ 4],\n",
            "         [ 6]],\n",
            "\n",
            "        [[12],\n",
            "         [ 2],\n",
            "         [ 7],\n",
            "         [20],\n",
            "         [ 5]]])\n",
            "****************************************************************************************************\n"
          ]
        }
      ]
    },
    {
      "cell_type": "markdown",
      "source": [
        "<p style=\"font-family:B Nazanin\" dir=\"rtl\">\n",
        "    تابع <code>squeeze()</code> می‌توانید ابعادی که طول آن‌ها برابر با یک است را از تنسور حذف کند. این تابع یک ورودی می‌گیرپ که مشخص می‌کند چندمین بعد با طول یک باید حذف شود.\n",
        "</p>"
      ],
      "metadata": {
        "id": "w9uE7yVvT2NK"
      },
      "id": "w9uE7yVvT2NK"
    },
    {
      "cell_type": "code",
      "source": [
        "mat_data1 = torch.randint(1, 21, (1,3,1,1,5))\n",
        "print(f'mat_data1.shape: {mat_data1.shape}')\n",
        "print(f'mat_data1: \\n{mat_data1}')\n",
        "print('*'*100)\n",
        "\n",
        "mat_data2 = mat_data1.squeeze(0)\n",
        "print(f'mat_data2.shape: {mat_data2.shape}')\n",
        "print(f'mat_data2: \\n{mat_data2}')\n",
        "print('*'*100)\n",
        "\n",
        "mat_data3 = mat_data2.squeeze(1)\n",
        "print(f'mat_data3.shape: {mat_data3.shape}')\n",
        "print(f'mat_data3: \\n{mat_data3}')\n",
        "print('*'*100)\n",
        "\n",
        "mat_data4 = mat_data3.squeeze(1)\n",
        "print(f'mat_data4.shape: {mat_data4.shape}')\n",
        "print(f'mat_data4: \\n{mat_data4}')\n",
        "print('*'*100)\n",
        "\n",
        "mat_data5 = mat_data3.reshape(15)\n",
        "print(f'mat_data5.shape: {mat_data5.shape}')\n",
        "print(f'mat_data5: \\n{mat_data5}')\n",
        "print('*'*100)"
      ],
      "metadata": {
        "id": "ueDRPChuT-Zi",
        "outputId": "e1ab4486-47a1-4110-ea50-db46a8ed73f5",
        "colab": {
          "base_uri": "https://localhost:8080/"
        }
      },
      "id": "ueDRPChuT-Zi",
      "execution_count": null,
      "outputs": [
        {
          "output_type": "stream",
          "name": "stdout",
          "text": [
            "mat_data1.shape: torch.Size([1, 3, 1, 1, 5])\n",
            "mat_data1: \n",
            "tensor([[[[[ 5, 13, 17, 16, 13]]],\n",
            "\n",
            "\n",
            "         [[[14, 19, 18,  1,  3]]],\n",
            "\n",
            "\n",
            "         [[[12,  3,  7,  3,  5]]]]])\n",
            "****************************************************************************************************\n",
            "mat_data2.shape: torch.Size([3, 1, 1, 5])\n",
            "mat_data2: \n",
            "tensor([[[[ 5, 13, 17, 16, 13]]],\n",
            "\n",
            "\n",
            "        [[[14, 19, 18,  1,  3]]],\n",
            "\n",
            "\n",
            "        [[[12,  3,  7,  3,  5]]]])\n",
            "****************************************************************************************************\n",
            "mat_data3.shape: torch.Size([3, 1, 5])\n",
            "mat_data3: \n",
            "tensor([[[ 5, 13, 17, 16, 13]],\n",
            "\n",
            "        [[14, 19, 18,  1,  3]],\n",
            "\n",
            "        [[12,  3,  7,  3,  5]]])\n",
            "****************************************************************************************************\n",
            "mat_data4.shape: torch.Size([3, 5])\n",
            "mat_data4: \n",
            "tensor([[ 5, 13, 17, 16, 13],\n",
            "        [14, 19, 18,  1,  3],\n",
            "        [12,  3,  7,  3,  5]])\n",
            "****************************************************************************************************\n",
            "mat_data5.shape: torch.Size([15])\n",
            "mat_data5: \n",
            "tensor([ 5, 13, 17, 16, 13, 14, 19, 18,  1,  3, 12,  3,  7,  3,  5])\n",
            "****************************************************************************************************\n"
          ]
        }
      ]
    },
    {
      "cell_type": "markdown",
      "source": [
        "<p style=\"font-family:B Nazanin\" dir=\"rtl\">\n",
        "    خاصیت Auto Grad در کتابخانه PyTorch: <br>\n",
        "    یکی از توانایی‌های ویژه کتابخانه Pytorch این است که می‌تواند گرادیان (یا مشتق) یک تابع را نسبت به متغیرهای آن تابع به راحتی محاسبه نماید. برای این منظور در هنگام تعریف متغیر‌ها از نوع تنسور، پارامتری به نام requirs_grad تعریف می‌شود. به صورت پیش‌فرض این پارامتر مقدار False دارد. اما اگر مقدار این پارامتر برای یک متغیر برابر با True تعریف شود، به این معنی است که هر تابع یا متغیر دیگری که برحسب این متغیر تعریف شود، می‌توانیم از آن نسبت به این متغیر مشتق بگیریم و گرادیان آن را حساب کنیم. به عنوان مثال در کد زیر متغیر x را به این صورت تعریف می‌کنیم و تابع y را بر حسب آن تعریف می‌نماییم.\n",
        "</p>"
      ],
      "metadata": {
        "id": "2mfh-A89z4i-"
      },
      "id": "2mfh-A89z4i-"
    },
    {
      "cell_type": "markdown",
      "source": [
        "$\n",
        "y = x^2 ⇒ \\frac{dy}{dx} = 2x\n",
        "$"
      ],
      "metadata": {
        "id": "k39rrdu01aoa"
      },
      "id": "k39rrdu01aoa"
    },
    {
      "cell_type": "code",
      "source": [
        "x = torch.tensor(3.5, requires_grad=True)\n",
        "y = x ** 2"
      ],
      "metadata": {
        "id": "_SDTwvNz1F9p"
      },
      "id": "_SDTwvNz1F9p",
      "execution_count": null,
      "outputs": []
    },
    {
      "cell_type": "markdown",
      "source": [
        "<p style=\"font-family:B Nazanin\" dir=\"rtl\">\n",
        "    وقتی متغیر و تابع را به این صورت تعریف کردیم، می‌توانیم با استفاده از تابع <code>backward()</code> گرادیان تابع y را نسبت به تمام متغیرهای مستقلش محاسبه نماییم. در این صورت مقدار گرادیان تابع نسبت به هر متغیر درون ویژگی grad از همان متغیر ذخیره می‌شود. یعنی مثلا در اینجا مشتق تابع y نسبت به x با استفاده از کد <code>x.grad</code> قابل دستیابی است.\n",
        "</p>"
      ],
      "metadata": {
        "id": "9HLuuSCj1o6k"
      },
      "id": "9HLuuSCj1o6k"
    },
    {
      "cell_type": "code",
      "source": [
        "y.backward()\n",
        "\n",
        "print(x.data)\n",
        "print(x.grad)\n",
        "print(x.requires_grad)"
      ],
      "metadata": {
        "id": "7ewg5oH82OEm",
        "outputId": "8d573310-5a05-42fe-be5b-82d686c7a49a",
        "colab": {
          "base_uri": "https://localhost:8080/"
        }
      },
      "id": "7ewg5oH82OEm",
      "execution_count": null,
      "outputs": [
        {
          "output_type": "stream",
          "name": "stdout",
          "text": [
            "tensor(3.5000)\n",
            "tensor(7.)\n",
            "True\n"
          ]
        }
      ]
    },
    {
      "cell_type": "markdown",
      "source": [
        "<p style=\"font-family:B Nazanin\" dir=\"rtl\">\n",
        "    همان طور که دیده می‌شود مقدار x برابر با 3.5 است و مشتق تابع y نسبت به x با جایگذاری عددی برابر با 7 به دست آمده است.<br>\n",
        "    مثال. تابع زیر را در نظر بگیرید:\n",
        "</p>"
      ],
      "metadata": {
        "id": "DBRJRni_2XWf"
      },
      "id": "DBRJRni_2XWf"
    },
    {
      "cell_type": "markdown",
      "source": [
        "$\n",
        "y = ax^2+b ⇒ \\frac{dy}{dx} = 2ax\n",
        "$"
      ],
      "metadata": {
        "id": "qA-9jdoD3K8u"
      },
      "id": "qA-9jdoD3K8u"
    },
    {
      "cell_type": "code",
      "source": [
        "a = torch.tensor(4.)\n",
        "b = torch.tensor(6.)\n",
        "x = torch.tensor(3., requires_grad=True)\n",
        "\n",
        "y = a*x**2 + b\n",
        "y.backward()\n",
        "\n",
        "print(f'a.data: {a.data}')\n",
        "print(f'a.grad: {a.grad}')\n",
        "print(f'a.requires_grad: {a.requires_grad}')\n",
        "print('*'*50)\n",
        "\n",
        "print(f'b.data: {b.data}')\n",
        "print(f'b.grad: {b.grad}')\n",
        "print(f'b.requires_grad: {b.requires_grad}')\n",
        "print('*'*50)\n",
        "\n",
        "print(f'x.data: {x.data}')\n",
        "print(f'x.grad: {x.grad}')\n",
        "print(f'x.requires_grad: {x.requires_grad}')\n",
        "print('*'*50)"
      ],
      "metadata": {
        "id": "qujGccZf3Ebg",
        "outputId": "7de4a8bb-9f2a-4c32-abf5-09730bf7b624",
        "colab": {
          "base_uri": "https://localhost:8080/"
        }
      },
      "id": "qujGccZf3Ebg",
      "execution_count": null,
      "outputs": [
        {
          "output_type": "stream",
          "name": "stdout",
          "text": [
            "a.data: 4.0\n",
            "a.grad: None\n",
            "a.requires_grad: False\n",
            "**************************************************\n",
            "b.data: 6.0\n",
            "b.grad: None\n",
            "b.requires_grad: False\n",
            "**************************************************\n",
            "x.data: 3.0\n",
            "x.grad: 24.0\n",
            "x.requires_grad: True\n",
            "**************************************************\n"
          ]
        }
      ]
    },
    {
      "cell_type": "markdown",
      "source": [
        "<p style=\"font-family:B Nazanin\" dir=\"rtl\">\n",
        "    در مثال‌های شبکه عصبی که فرمول به صورت زیر بود (مقدار w ضرایب و مقدار b بایاس بود)، باید مشتق نسبت به w و b گرفته شود:\n",
        "</p>"
      ],
      "metadata": {
        "id": "mBS7fSCTCqpL"
      },
      "id": "mBS7fSCTCqpL"
    },
    {
      "cell_type": "markdown",
      "source": [
        "$\n",
        "y = wx+b ⇒ \\frac{dy}{dw}=x , \\frac{dy}{db}=1\n",
        "$"
      ],
      "metadata": {
        "id": "tJpcR-N_DBvG"
      },
      "id": "tJpcR-N_DBvG"
    },
    {
      "cell_type": "code",
      "source": [
        "w = torch.tensor(4., requires_grad=True)\n",
        "b = torch.tensor(2., requires_grad=True)\n",
        "x = torch.tensor(3.)\n",
        "\n",
        "y = w*x + b\n",
        "y.backward()\n",
        "\n",
        "print(f'w.grad: {w.grad}')\n",
        "print(f'v.grad: {b.grad}')"
      ],
      "metadata": {
        "id": "MEuWcsF4DLKK",
        "outputId": "2c564967-4f68-4e3f-d021-e44654715dbe",
        "colab": {
          "base_uri": "https://localhost:8080/"
        }
      },
      "id": "MEuWcsF4DLKK",
      "execution_count": null,
      "outputs": [
        {
          "output_type": "stream",
          "name": "stdout",
          "text": [
            "w.grad: 3.0\n",
            "v.grad: 1.0\n"
          ]
        }
      ]
    },
    {
      "cell_type": "markdown",
      "source": [
        "<p style=\"font-family:B Nazanin\" dir=\"rtl\">\n",
        "    از این خاصیت AutoGrad کتابخانه PyTorch می‌توان در محاسبه گرادیان کاهشی استفاده مفیدی کرد. فرض کنید تابع ما $y = x^2$ است. می‌خواهیم با استفاده از گرادیان کاهشی مینیمم آن را محاسبه کنیم:\n",
        "</p>"
      ],
      "metadata": {
        "id": "NTxoH-MAELGW"
      },
      "id": "NTxoH-MAELGW"
    },
    {
      "cell_type": "code",
      "source": [
        "def func(x):\n",
        "    return x**2\n",
        "\n",
        "xList = torch.linspace(-7, 7, 200)\n",
        "yList = func(xList)\n",
        "\n",
        "plt.plot(xList, yList)\n",
        "plt.xlabel('x')\n",
        "plt.ylabel('y')\n",
        "plt.show()"
      ],
      "metadata": {
        "id": "d51mHKgxDxzi",
        "outputId": "aa302c2d-f364-4334-ea39-634de632c623",
        "colab": {
          "base_uri": "https://localhost:8080/",
          "height": 449
        }
      },
      "id": "d51mHKgxDxzi",
      "execution_count": null,
      "outputs": [
        {
          "output_type": "display_data",
          "data": {
            "text/plain": [
              "<Figure size 640x480 with 1 Axes>"
            ],
            "image/png": "[encoded data removed]"
          },
          "metadata": {}
        }
      ]
    },
    {
      "cell_type": "markdown",
      "source": [
        "<p style=\"font-family:B Nazanin\" dir=\"rtl\">\n",
        "    از یک مقدار دلخواه شروع می‌کنیم و با یک نرخ یادگیری و محاسبه گرادیان تابع در هر مرحله تکرار، مرتب مقدار گرادیان را کاهش می‌دهیم. <br>\n",
        "    نکته مهم در استفاده از grad این است که اگر بخواهیم مجددا گرادیان یک متغیر را حساب کنیم، قبل از آن باید مقدار grad را دستی صفر کنیم وگرنه این مقادیر با هم جمع می‌شود.\n",
        "</p>"
      ],
      "metadata": {
        "id": "k0whcpAKGmK1"
      },
      "id": "k0whcpAKGmK1"
    },
    {
      "cell_type": "code",
      "source": [
        "x = torch.tensor(6., requires_grad=True)\n",
        "\n",
        "N = 50      # iterations\n",
        "eta = 0.1   # learning rate\n",
        "xDatas = []\n",
        "\n",
        "for i in range(N):\n",
        "    xDatas.append(x.data.item())\n",
        "    func(x).backward()\n",
        "    x.data -= eta * x.grad\n",
        "    x.grad.zero_()\n",
        "\n",
        "yDatas = [func(torch.tensor(x)).item() for x in xDatas]\n",
        "plt.plot(xList, yList)\n",
        "plt.scatter(xDatas, yDatas, color='red', label='Gradient Descent Points', zorder=2)\n",
        "plt.xlabel('x')\n",
        "plt.ylabel('y')\n",
        "plt.show()"
      ],
      "metadata": {
        "id": "z4KT8hGsFGm8",
        "outputId": "67badb27-eb8e-4fcb-bf68-ecf94d7e7a1b",
        "colab": {
          "base_uri": "https://localhost:8080/",
          "height": 449
        }
      },
      "id": "z4KT8hGsFGm8",
      "execution_count": null,
      "outputs": [
        {
          "output_type": "display_data",
          "data": {
            "text/plain": [
              "<Figure size 640x480 with 1 Axes>"
            ],
            "image/png": "[encoded data removed]"
          },
          "metadata": {}
        }
      ]
    },
    {
      "cell_type": "markdown",
      "source": [
        "<p style=\"font-family:B Nazanin\" dir=\"rtl\">\n",
        "    مثال دیگر:\n",
        "</p>"
      ],
      "metadata": {
        "id": "30Cy7A8pG9Ki"
      },
      "id": "30Cy7A8pG9Ki"
    },
    {
      "cell_type": "markdown",
      "source": [
        "$\n",
        "y = x^4 - 8x^2 - 3x\n",
        "$"
      ],
      "metadata": {
        "id": "CdKwCL7MHPzG"
      },
      "id": "CdKwCL7MHPzG"
    },
    {
      "cell_type": "code",
      "source": [
        "def func2(x):\n",
        "    return x**4 - 8*x**2 - 3*x\n",
        "\n",
        "xList = torch.linspace(-3, 3, 200)\n",
        "yList = func2(xList)\n",
        "\n",
        "plt.plot(xList, yList)\n",
        "plt.xlabel('x')\n",
        "plt.ylabel('y')\n",
        "plt.show()"
      ],
      "metadata": {
        "id": "hAOufehyHPTh",
        "outputId": "0264f097-edab-4972-f619-3de0262304d5",
        "colab": {
          "base_uri": "https://localhost:8080/",
          "height": 455
        }
      },
      "id": "hAOufehyHPTh",
      "execution_count": null,
      "outputs": [
        {
          "output_type": "display_data",
          "data": {
            "text/plain": [
              "<Figure size 640x480 with 1 Axes>"
            ],
            "image/png": "[encoded data removed]"
          },
          "metadata": {}
        }
      ]
    },
    {
      "cell_type": "code",
      "source": [
        "x = torch.tensor(3., requires_grad=True)\n",
        "\n",
        "N = 50      # iterations\n",
        "eta = 0.006 # learning rate\n",
        "xDatas = []\n",
        "\n",
        "for i in range(N):\n",
        "    xDatas.append(x.data.item())\n",
        "    func2(x).backward()\n",
        "    x.data -= eta * x.grad\n",
        "    x.grad.zero_()\n",
        "\n",
        "yDatas = [func2(torch.tensor(x)).item() for x in xDatas]\n",
        "plt.plot(xList, yList)\n",
        "plt.scatter(xDatas, yDatas, color='red', label='Gradient Descent Points', zorder=2)\n",
        "plt.xlabel('x')\n",
        "plt.ylabel('y')\n",
        "plt.show()"
      ],
      "metadata": {
        "id": "El5SoU3zHfct",
        "outputId": "7a6e9eea-478b-445e-c348-3a67c9d7ce9a",
        "colab": {
          "base_uri": "https://localhost:8080/",
          "height": 455
        }
      },
      "id": "El5SoU3zHfct",
      "execution_count": null,
      "outputs": [
        {
          "output_type": "display_data",
          "data": {
            "text/plain": [
              "<Figure size 640x480 with 1 Axes>"
            ],
            "image/png": "[encoded data removed]"
          },
          "metadata": {}
        }
      ]
    },
    {
      "cell_type": "markdown",
      "source": [
        "<p style=\"font-family:B Nazanin\" dir=\"rtl\">\n",
        "    <b>پیاده‌سازی نورون‌ها با استفاده از کتابخانه PyTorch:</b><br>\n",
        "    برای پیاده‌سازی یک شبکه عصبی ابتدا باید کلاسی را تعریف کنیم که بتواند رفتار یک نورون را شبیه‌سازی کند. فیلدهایی که کلاس نورون ذخیره می‌کند، تعداد ورودی‌ها (یا همان تعداد ضرایب) و تابع فعال‌ساز است. کد زیر یک نمونه پیاده‌سازی کلاس نورون است:\n",
        "</p>"
      ],
      "metadata": {
        "id": "wC0GmAjV__SF"
      },
      "id": "wC0GmAjV__SF"
    },
    {
      "cell_type": "markdown",
      "source": [
        "![image.png](data:image/png;base64,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)"
      ],
      "metadata": {
        "id": "Sj40pbA6BRXq"
      },
      "id": "Sj40pbA6BRXq"
    },
    {
      "cell_type": "code",
      "source": [
        "import torch"
      ],
      "metadata": {
        "id": "R58FLuS_AdvW"
      },
      "id": "R58FLuS_AdvW",
      "execution_count": null,
      "outputs": []
    },
    {
      "cell_type": "code",
      "source": [
        "class Neuron:\n",
        "    def __init__(self, n, af='linear'):\n",
        "        self.w = torch.randn(n, requires_grad=True)\n",
        "        self.b = torch.randn(1, requires_grad=True)\n",
        "        self.af = af\n",
        "\n",
        "    def __call__(self, X):\n",
        "        z = self.w @ X + self.b\n",
        "        print(f'w: {self.w}')\n",
        "        print(f'b: {self.b}')\n",
        "        print(f'z: {z.item()}')\n",
        "\n",
        "        match self.af:\n",
        "            case 'linear':\n",
        "                return self.linear(z)\n",
        "            case 'step':\n",
        "                return self.step(z)\n",
        "            case 'relu':\n",
        "                return self.relu(z)\n",
        "            case 'sigmoid':\n",
        "                return self.sigmoid(z)\n",
        "\n",
        "    def linear(self, x):\n",
        "        return x\n",
        "\n",
        "    def step(self, x):\n",
        "        return (x>0).float()\n",
        "\n",
        "    def relu(self, x):\n",
        "        return torch.maximum(x, torch.tensor(0.0))          # Equivalent: torch.reli\n",
        "\n",
        "    def sigmoid(self, x):                                   # Equivalent: torch.sigmoid()\n",
        "        return 1 / (1 + torch.exp(-x))"
      ],
      "metadata": {
        "id": "unC6QbFWAfIk"
      },
      "id": "unC6QbFWAfIk",
      "execution_count": null,
      "outputs": []
    },
    {
      "cell_type": "code",
      "source": [
        "X = torch.tensor([3.0, 2.0, 1.0, 2., 0.])\n",
        "Y = torch.tensor([0.3])\n",
        "\n",
        "print(f'X: {X}')\n",
        "print(f'Y: {Y}')"
      ],
      "metadata": {
        "id": "2RzOsTmVEMqk",
        "outputId": "d99a14fc-0522-42a7-aa06-eb3857733959",
        "colab": {
          "base_uri": "https://localhost:8080/"
        }
      },
      "id": "2RzOsTmVEMqk",
      "execution_count": null,
      "outputs": [
        {
          "output_type": "stream",
          "name": "stdout",
          "text": [
            "X: tensor([3., 2., 1., 2., 0.])\n",
            "Y: tensor([0.3000])\n"
          ]
        }
      ]
    },
    {
      "cell_type": "code",
      "source": [
        "neuron1 = Neuron(5, 'sigmoid')\n",
        "print(neuron1)"
      ],
      "metadata": {
        "id": "it8zb7h8E4gA",
        "outputId": "b7551f71-b922-49fd-e6c2-70e8cdde05e0",
        "colab": {
          "base_uri": "https://localhost:8080/"
        }
      },
      "id": "it8zb7h8E4gA",
      "execution_count": null,
      "outputs": [
        {
          "output_type": "stream",
          "name": "stdout",
          "text": [
            "<__main__.Neuron object at 0x79b48909bf70>\n"
          ]
        }
      ]
    },
    {
      "cell_type": "code",
      "source": [
        "y_pred = neuron1(X)\n",
        "print(f'y_pred: {y_pred.item()}')"
      ],
      "metadata": {
        "id": "3sTFmpRaFaZk",
        "outputId": "3f582eca-268a-450e-83e0-65d4ee755490",
        "colab": {
          "base_uri": "https://localhost:8080/"
        }
      },
      "id": "3sTFmpRaFaZk",
      "execution_count": null,
      "outputs": [
        {
          "output_type": "stream",
          "name": "stdout",
          "text": [
            "w: tensor([-1.0119, -0.8611, -1.7750,  0.4923,  0.8853], requires_grad=True)\n",
            "b: tensor([0.2917], requires_grad=True)\n",
            "z: -5.256350517272949\n",
            "y_pred: 0.005187251605093479\n"
          ]
        }
      ]
    },
    {
      "cell_type": "code",
      "source": [
        "mse_loss = (y_pred - Y)**2\n",
        "mse_loss"
      ],
      "metadata": {
        "id": "vxjOT_kZFu_w",
        "outputId": "f35342c9-292b-4994-c7ff-11cbc1d193b9",
        "colab": {
          "base_uri": "https://localhost:8080/"
        }
      },
      "id": "vxjOT_kZFu_w",
      "execution_count": null,
      "outputs": [
        {
          "output_type": "execute_result",
          "data": {
            "text/plain": [
              "tensor([0.0869], grad_fn=<PowBackward0>)"
            ]
          },
          "metadata": {},
          "execution_count": 16
        }
      ]
    },
    {
      "cell_type": "markdown",
      "source": [
        "<p style=\"font-family:B Nazanin\" dir=\"rtl\">\n",
        "    خود کتابخانه PyTorch کلاس‌های از پیش تعریف‌شده‌ای دارد که رفتار نورون و شبکه‌های عصبی را شبیه‌سازی می‌نماید. برای این کار باید از ماژول nn این کتابخانه استفاده نماییم.\n",
        "</p>"
      ],
      "metadata": {
        "id": "N6jA9IVRKu8s"
      },
      "id": "N6jA9IVRKu8s"
    },
    {
      "cell_type": "code",
      "source": [
        "import pandas as pd\n",
        "import matplotlib.pyplot as plt\n",
        "import torch\n",
        "import torch.nn as nn\n",
        "from sklearn.model_selection import train_test_split"
      ],
      "metadata": {
        "id": "0IvKvS9qLJqn"
      },
      "id": "0IvKvS9qLJqn",
      "execution_count": null,
      "outputs": []
    },
    {
      "cell_type": "markdown",
      "source": [
        "<p style=\"font-family:B Nazanin\" dir=\"rtl\">\n",
        "    به عنوان مثال یک نورون با دو ورودی و یک بایاس را در نظر بگیرید:\n",
        "</p>"
      ],
      "metadata": {
        "id": "MazU6iu9M50-"
      },
      "id": "MazU6iu9M50-"
    },
    {
      "cell_type": "markdown",
      "source": [
        "$\n",
        "y = w_0 + w_1 x_1 + w_2 x_2\n",
        "$"
      ],
      "metadata": {
        "id": "Ir7GXZuoNHEh"
      },
      "id": "Ir7GXZuoNHEh"
    },
    {
      "cell_type": "markdown",
      "source": [
        "![image.png](data:image/png;base64,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)"
      ],
      "metadata": {
        "id": "JCM8wyaQM3cK"
      },
      "id": "JCM8wyaQM3cK"
    },
    {
      "cell_type": "code",
      "source": [
        "# define input data\n",
        "X = torch.tensor([1, -1], dtype=torch.float32)\n",
        "\n",
        "# define a linear layer with bias\n",
        "model = nn.Linear(in_features=2, out_features=1)\n",
        "\n",
        "# display the bias and weights of the layer (random numbers at first)\n",
        "print(f'Bias: {model.bias}')\n",
        "print(f'Weights: {model.weight}')"
      ],
      "metadata": {
        "id": "k-ViV3miNdau",
        "outputId": "73073cbc-f6d7-4730-fa80-51fb589f3923",
        "colab": {
          "base_uri": "https://localhost:8080/"
        }
      },
      "id": "k-ViV3miNdau",
      "execution_count": null,
      "outputs": [
        {
          "output_type": "stream",
          "name": "stdout",
          "text": [
            "Bias: Parameter containing:\n",
            "tensor([0.6513], requires_grad=True)\n",
            "Weights: Parameter containing:\n",
            "tensor([[0.1184, 0.4009]], requires_grad=True)\n"
          ]
        }
      ]
    },
    {
      "cell_type": "code",
      "source": [
        "print(f'Bias: {model.bias.item()}')\n",
        "print(f'Weights: {model.weight.detach().numpy()}')"
      ],
      "metadata": {
        "id": "F_qsBEG0P8ok",
        "outputId": "721cd24c-3380-43b1-fc5d-12c178ccee0c",
        "colab": {
          "base_uri": "https://localhost:8080/"
        }
      },
      "id": "F_qsBEG0P8ok",
      "execution_count": null,
      "outputs": [
        {
          "output_type": "stream",
          "name": "stdout",
          "text": [
            "Bias: 0.6512848138809204\n",
            "Weights: [[0.11844301 0.40091902]]\n"
          ]
        }
      ]
    },
    {
      "cell_type": "code",
      "source": [
        "# compute the predicted output\n",
        "y_pred = model(X)       # y_pred = bias + (1*w_0 + (-1)*w_1)\n",
        "\n",
        "# display the features and predicted output\n",
        "print(f'features: {X.detach().numpy()}')\n",
        "print(f'y_pred: {y_pred.item()}')"
      ],
      "metadata": {
        "id": "ZKlSbIqmQOfE",
        "outputId": "5ba07624-40e4-4735-c7ca-3e741d96ac91",
        "colab": {
          "base_uri": "https://localhost:8080/"
        }
      },
      "id": "ZKlSbIqmQOfE",
      "execution_count": null,
      "outputs": [
        {
          "output_type": "stream",
          "name": "stdout",
          "text": [
            "features: [ 1. -1.]\n",
            "y_pred: 0.3688088059425354\n"
          ]
        }
      ]
    },
    {
      "cell_type": "markdown",
      "source": [
        "<p style=\"font-family:B Nazanin\" dir=\"rtl\">\n",
        "    مثال دیگر. یک شبکه عصبی یک لایه با چهار ویژگی و دو خروجی.\n",
        "</p>"
      ],
      "metadata": {
        "id": "rRsjfRDMS6jx"
      },
      "id": "rRsjfRDMS6jx"
    },
    {
      "cell_type": "markdown",
      "source": [
        "$\n",
        "y_1 = w_{0,1}+w_{1,1}x_1+w_{2,1}x_2+w_{3,1}x_3+w_{4,1}x_4\\\\\n",
        "y_2 = w_{0,2}+w_{1,2}x_1+w_{2,2}x_2+w_{3,2}x_3+w_{4,2}x_4\\\\\n",
        "$"
      ],
      "metadata": {
        "id": "x5zezkLaTFrn"
      },
      "id": "x5zezkLaTFrn"
    },
    {
      "cell_type": "markdown",
      "source": [
        "![image.png](data:image/png;base64,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)"
      ],
      "metadata": {
        "id": "h_LgjIUYS4RB"
      },
      "id": "h_LgjIUYS4RB"
    },
    {
      "cell_type": "markdown",
      "source": [
        "<p style=\"font-family:B Nazanin\" dir=\"rtl\">\n",
        "    در این مثال می‌خواهیم یک دیتاست با 200 رکورد را به مدل بدهیم. پس ماتریس X ما ابعادی برابر با 200*4 خواهد داشت و ابعاد ماتریس y برابر با 200*2 خواهد بود.\n",
        "</p>"
      ],
      "metadata": {
        "id": "uGT3xngLTlYY"
      },
      "id": "uGT3xngLTlYY"
    },
    {
      "cell_type": "code",
      "source": [
        "# input data and actual output\n",
        "X = torch.randn(200, 4)\n",
        "yt = torch.randn(200, 2)\n",
        "\n",
        "# define a linear layer model with bias\n",
        "model = nn.Linear(in_features=4, out_features=2, bias=True)\n",
        "\n",
        "# display the bias and weights\n",
        "print(f'Bias: {model.bias.detach().numpy()}')\n",
        "print(f'Weights: {model.weight.detach().numpy()}')"
      ],
      "metadata": {
        "id": "fmjXHZJdS5BB",
        "outputId": "07acc7e6-23c6-49fb-c933-923bc4fb8a45",
        "colab": {
          "base_uri": "https://localhost:8080/"
        }
      },
      "id": "fmjXHZJdS5BB",
      "execution_count": null,
      "outputs": [
        {
          "output_type": "stream",
          "name": "stdout",
          "text": [
            "Bias: [-0.20503229  0.05755579]\n",
            "Weights: [[ 0.4828397   0.06989032 -0.40776932 -0.23797035]\n",
            " [ 0.32371497 -0.1081059  -0.3894369  -0.00294727]]\n"
          ]
        }
      ]
    },
    {
      "cell_type": "code",
      "source": [
        "# compute the predicted output\n",
        "yp = model(X)\n",
        "\n",
        "# calculate the mse loss\n",
        "loss_fn = nn.MSELoss()\n",
        "mse = loss_fn(yp, yt)\n",
        "print(f'MSE: {mse.item():.3f}')"
      ],
      "metadata": {
        "id": "3CUpBXrCVH3-",
        "outputId": "ef907ec2-0164-4851-eb1c-c0675cf2d112",
        "colab": {
          "base_uri": "https://localhost:8080/"
        }
      },
      "id": "3CUpBXrCVH3-",
      "execution_count": null,
      "outputs": [
        {
          "output_type": "stream",
          "name": "stdout",
          "text": [
            "MSE: 1.404\n"
          ]
        }
      ]
    },
    {
      "cell_type": "markdown",
      "source": [
        "<p style=\"font-family:B Nazanin\" dir=\"rtl\">\n",
        "    همان طور که پیش‌تر توضیح داده شد، با یکبار اجرای این کار نمی‌توان به نتیجه دقیقی رسید. بلکه باید با استفاده از یک الگوریتم بهینه‌سازی این کار را تکرار کرد تا به بهترین مقادیر ممکن برای وزن‌ها و بایاس برسیم. در مثال زیر برای یک مدل با دو ویژگی و یک خروجی این بهینه‌سازی را انجام می‌دهیم:\n",
        "</p>"
      ],
      "metadata": {
        "id": "9ooLKQ7aV8oc"
      },
      "id": "9ooLKQ7aV8oc"
    },
    {
      "cell_type": "markdown",
      "source": [
        "![image.png](data:image/png;base64,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)"
      ],
      "metadata": {
        "id": "poOctaXCWTJ5"
      },
      "id": "poOctaXCWTJ5"
    },
    {
      "cell_type": "code",
      "source": [
        "x = torch.tensor([[1, -1]], dtype=torch.float32)\n",
        "yt = torch.randn(1)\n",
        "\n",
        "model = nn.Linear(in_features=2, out_features=1)\n",
        "loss_fn = nn.MSELoss()\n",
        "\n",
        "optimizer = torch.optim.SGD(model.parameters(), lr=0.1)\n",
        "\n",
        "for epoch in range(10):\n",
        "    yp = model(x)\n",
        "    mse = loss_fn(yp, yt)\n",
        "    print(f'Bias: {model.bias.detach().numpy()}\\tweight: {model.weight.detach().numpy()}\\tMSE: {mse.item():.6f}')\n",
        "    mse.backward()\n",
        "    optimizer.step()\n",
        "    optimizer.zero_grad()"
      ],
      "metadata": {
        "id": "STeDnhubWScE",
        "outputId": "7c3e6df9-260c-4c6d-9e63-db7ea555ef89",
        "colab": {
          "base_uri": "https://localhost:8080/"
        }
      },
      "id": "STeDnhubWScE",
      "execution_count": null,
      "outputs": [
        {
          "output_type": "stream",
          "name": "stdout",
          "text": [
            "Bias: [-0.32899585]\tweight: [[ 0.28342086 -0.11637115]]\tMSE: 0.357177\n",
            "Bias: [-0.44852445]\tweight: [[0.16389228 0.00315743]]\tMSE: 0.057148\n",
            "Bias: [-0.4963359]\tweight: [[0.11608085 0.05096886]]\tMSE: 0.009144\n",
            "Bias: [-0.5154605]\tweight: [[0.09695628 0.07009344]]\tMSE: 0.001463\n",
            "Bias: [-0.52311033]\tweight: [[0.08930645 0.07774326]]\tMSE: 0.000234\n",
            "Bias: [-0.52617025]\tweight: [[0.08624653 0.08080319]]\tMSE: 0.000037\n",
            "Bias: [-0.52739424]\tweight: [[0.08502256 0.08202715]]\tMSE: 0.000006\n",
            "Bias: [-0.5278838]\tweight: [[0.08453297 0.08251674]]\tMSE: 0.000001\n",
            "Bias: [-0.5280797]\tweight: [[0.08433713 0.08271258]]\tMSE: 0.000000\n",
            "Bias: [-0.528158]\tweight: [[0.08425881 0.0827909 ]]\tMSE: 0.000000\n"
          ]
        },
        {
          "output_type": "stream",
          "name": "stderr",
          "text": [
            "/usr/local/lib/python3.10/dist-packages/torch/nn/modules/loss.py:608: UserWarning: Using a target size (torch.Size([1])) that is different to the input size (torch.Size([1, 1])). This will likely lead to incorrect results due to broadcasting. Please ensure they have the same size.\n",
            "  return F.mse_loss(input, target, reduction=self.reduction)\n"
          ]
        }
      ]
    },
    {
      "cell_type": "markdown",
      "source": [
        "<p style=\"font-family:B Nazanin\" dir=\"rtl\">\n",
        "    تابع SGD یک optimizer یا بهینه‌ساز است که پارامترهای مدل و نرخ یادگیری را می‌گیرد و با استفاده از روش گرادیان کاهشی مقادیر وزن‌ها و بایاس را به روز می‌کند. با توجه به اینکه مقدار mse بر حسب وزن‌ها و بایاس حساب می‌شود می‌توانیم با کمک تابع backward از آن مشتق بگیریم. سپس با استفاده از تابع step مربوط به optimizer، به آن می‌گوییم که مقادیر وزن‌ها و بایاس را با کمک مشتق‌ها به‌روز کند و سپس همان‌طور که در قبل توضیح داده شد، مقادیر grad را صفر می‌کنیم (با کمک تابع zero_grad).\n",
        "</p>"
      ],
      "metadata": {
        "id": "vs107eNpYL4A"
      },
      "id": "vs107eNpYL4A"
    },
    {
      "cell_type": "markdown",
      "source": [
        "<p style=\"font-family:B Nazanin\" dir=\"rtl\">\n",
        "    در مثال بعد یک دیتاست داریم که داده‌ها را از آن می‌خوانیم و یک مدل با استفاده از یک نورون می‌سازیم.\n",
        "</p>"
      ],
      "metadata": {
        "id": "2iXivTldT_T0"
      },
      "id": "2iXivTldT_T0"
    },
    {
      "cell_type": "code",
      "source": [
        "from google.colab import drive\n",
        "drive.mount('/content/drive')\n",
        "\n",
        "import pandas as pd\n",
        "import numpy as np\n",
        "import matplotlib.pyplot as plt\n",
        "import torch\n",
        "import torch.nn as nn\n",
        "from sklearn.model_selection import train_test_split"
      ],
      "metadata": {
        "id": "j9D98hvMUPxw",
        "outputId": "2b97513a-dafe-464d-d386-983ba1223a48",
        "colab": {
          "base_uri": "https://localhost:8080/"
        }
      },
      "id": "j9D98hvMUPxw",
      "execution_count": null,
      "outputs": [
        {
          "output_type": "stream",
          "name": "stdout",
          "text": [
            "Drive already mounted at /content/drive; to attempt to forcibly remount, call drive.mount(\"/content/drive\", force_remount=True).\n"
          ]
        }
      ]
    },
    {
      "cell_type": "code",
      "source": [
        "df = pd.read_csv('/content/drive/MyDrive/Darsman AI Course/Deep Learning/neuroun_test_dataset2.csv')\n",
        "df"
      ],
      "metadata": {
        "id": "D1T71-ImW9bf",
        "outputId": "9b391ea2-589c-4e7c-ac49-cd7606073beb",
        "colab": {
          "base_uri": "https://localhost:8080/",
          "height": 423
        }
      },
      "id": "D1T71-ImW9bf",
      "execution_count": null,
      "outputs": [
        {
          "output_type": "execute_result",
          "data": {
            "text/plain": [
              "             x          y\n",
              "0   -10.000000 -13.179738\n",
              "1    -9.899497 -19.747958\n",
              "2    -9.798995 -16.603798\n",
              "3    -9.698492 -10.041765\n",
              "4    -9.597990 -11.657185\n",
              "..         ...        ...\n",
              "195   9.597990  26.137243\n",
              "196   9.698492  31.105184\n",
              "197   9.798995  31.615008\n",
              "198   9.899497  38.564923\n",
              "199  10.000000  34.682640\n",
              "\n",
              "[200 rows x 2 columns]"
            ],
            "text/html": [
              "\n",
              "  <div id=\"df-1de8bbb4-4595-4032-b283-1ff6533e6924\" class=\"colab-df-container\">\n",
              "    <div>\n",
              "<style scoped>\n",
              "    .dataframe tbody tr th:only-of-type {\n",
              "        vertical-align: middle;\n",
              "    }\n",
              "\n",
              "    .dataframe tbody tr th {\n",
              "        vertical-align: top;\n",
              "    }\n",
              "\n",
              "    .dataframe thead th {\n",
              "        text-align: right;\n",
              "    }\n",
              "</style>\n",
              "<table border=\"1\" class=\"dataframe\">\n",
              "  <thead>\n",
              "    <tr style=\"text-align: right;\">\n",
              "      <th></th>\n",
              "      <th>x</th>\n",
              "      <th>y</th>\n",
              "    </tr>\n",
              "  </thead>\n",
              "  <tbody>\n",
              "    <tr>\n",
              "      <th>0</th>\n",
              "      <td>-10.000000</td>\n",
              "      <td>-13.179738</td>\n",
              "    </tr>\n",
              "    <tr>\n",
              "      <th>1</th>\n",
              "      <td>-9.899497</td>\n",
              "      <td>-19.747958</td>\n",
              "    </tr>\n",
              "    <tr>\n",
              "      <th>2</th>\n",
              "      <td>-9.798995</td>\n",
              "      <td>-16.603798</td>\n",
              "    </tr>\n",
              "    <tr>\n",
              "      <th>3</th>\n",
              "      <td>-9.698492</td>\n",
              "      <td>-10.041765</td>\n",
              "    </tr>\n",
              "    <tr>\n",
              "      <th>4</th>\n",
              "      <td>-9.597990</td>\n",
              "      <td>-11.657185</td>\n",
              "    </tr>\n",
              "    <tr>\n",
              "      <th>...</th>\n",
              "      <td>...</td>\n",
              "      <td>...</td>\n",
              "    </tr>\n",
              "    <tr>\n",
              "      <th>195</th>\n",
              "      <td>9.597990</td>\n",
              "      <td>26.137243</td>\n",
              "    </tr>\n",
              "    <tr>\n",
              "      <th>196</th>\n",
              "      <td>9.698492</td>\n",
              "      <td>31.105184</td>\n",
              "    </tr>\n",
              "    <tr>\n",
              "      <th>197</th>\n",
              "      <td>9.798995</td>\n",
              "      <td>31.615008</td>\n",
              "    </tr>\n",
              "    <tr>\n",
              "      <th>198</th>\n",
              "      <td>9.899497</td>\n",
              "      <td>38.564923</td>\n",
              "    </tr>\n",
              "    <tr>\n",
              "      <th>199</th>\n",
              "      <td>10.000000</td>\n",
              "      <td>34.682640</td>\n",
              "    </tr>\n",
              "  </tbody>\n",
              "</table>\n",
              "<p>200 rows × 2 columns</p>\n",
              "</div>\n",
              "    <div class=\"colab-df-buttons\">\n",
              "\n",
              "  <div class=\"colab-df-container\">\n",
              "    <button class=\"colab-df-convert\" onclick=\"convertToInteractive('df-1de8bbb4-4595-4032-b283-1ff6533e6924')\"\n",
              "            title=\"Convert this dataframe to an interactive table.\"\n",
              "            style=\"display:none;\">\n",
              "\n",
              "  <svg xmlns=\"http://www.w3.org/2000/svg\" height=\"24px\" viewBox=\"0 -960 960 960\">\n",
              "    <path d=\"M120-120v-720h720v720H120Zm60-500h600v-160H180v160Zm220 220h160v-160H400v160Zm0 220h160v-160H400v160ZM180-400h160v-160H180v160Zm440 0h160v-160H620v160ZM180-180h160v-160H180v160Zm440 0h160v-160H620v160Z\"/>\n",
              "  </svg>\n",
              "    </button>\n",
              "\n",
              "  <style>\n",
              "    .colab-df-container {\n",
              "      display:flex;\n",
              "      gap: 12px;\n",
              "    }\n",
              "\n",
              "    .colab-df-convert {\n",
              "      background-color: #E8F0FE;\n",
              "      border: none;\n",
              "      border-radius: 50%;\n",
              "      cursor: pointer;\n",
              "      display: none;\n",
              "      fill: #1967D2;\n",
              "      height: 32px;\n",
              "      padding: 0 0 0 0;\n",
              "      width: 32px;\n",
              "    }\n",
              "\n",
              "    .colab-df-convert:hover {\n",
              "      background-color: #E2EBFA;\n",
              "      box-shadow: 0px 1px 2px rgba(60, 64, 67, 0.3), 0px 1px 3px 1px rgba(60, 64, 67, 0.15);\n",
              "      fill: #174EA6;\n",
              "    }\n",
              "\n",
              "    .colab-df-buttons div {\n",
              "      margin-bottom: 4px;\n",
              "    }\n",
              "\n",
              "    [theme=dark] .colab-df-convert {\n",
              "      background-color: #3B4455;\n",
              "      fill: #D2E3FC;\n",
              "    }\n",
              "\n",
              "    [theme=dark] .colab-df-convert:hover {\n",
              "      background-color: #434B5C;\n",
              "      box-shadow: 0px 1px 3px 1px rgba(0, 0, 0, 0.15);\n",
              "      filter: drop-shadow(0px 1px 2px rgba(0, 0, 0, 0.3));\n",
              "      fill: #FFFFFF;\n",
              "    }\n",
              "  </style>\n",
              "\n",
              "    <script>\n",
              "      const buttonEl =\n",
              "        document.querySelector('#df-1de8bbb4-4595-4032-b283-1ff6533e6924 button.colab-df-convert');\n",
              "      buttonEl.style.display =\n",
              "        google.colab.kernel.accessAllowed ? 'block' : 'none';\n",
              "\n",
              "      async function convertToInteractive(key) {\n",
              "        const element = document.querySelector('#df-1de8bbb4-4595-4032-b283-1ff6533e6924');\n",
              "        const dataTable =\n",
              "          await google.colab.kernel.invokeFunction('convertToInteractive',\n",
              "                                                    [key], {});\n",
              "        if (!dataTable) return;\n",
              "\n",
              "        const docLinkHtml = 'Like what you see? Visit the ' +\n",
              "          '<a target=\"_blank\" href=https://colab.research.google.com/notebooks/data_table.ipynb>data table notebook</a>'\n",
              "          + ' to learn more about interactive tables.';\n",
              "        element.innerHTML = '';\n",
              "        dataTable['output_type'] = 'display_data';\n",
              "        await google.colab.output.renderOutput(dataTable, element);\n",
              "        const docLink = document.createElement('div');\n",
              "        docLink.innerHTML = docLinkHtml;\n",
              "        element.appendChild(docLink);\n",
              "      }\n",
              "    </script>\n",
              "  </div>\n",
              "\n",
              "\n",
              "<div id=\"df-b5655449-8cce-45da-a406-7005461445ed\">\n",
              "  <button class=\"colab-df-quickchart\" onclick=\"quickchart('df-b5655449-8cce-45da-a406-7005461445ed')\"\n",
              "            title=\"Suggest charts\"\n",
              "            style=\"display:none;\">\n",
              "\n",
              "<svg xmlns=\"http://www.w3.org/2000/svg\" height=\"24px\"viewBox=\"0 0 24 24\"\n",
              "     width=\"24px\">\n",
              "    <g>\n",
              "        <path d=\"M19 3H5c-1.1 0-2 .9-2 2v14c0 1.1.9 2 2 2h14c1.1 0 2-.9 2-2V5c0-1.1-.9-2-2-2zM9 17H7v-7h2v7zm4 0h-2V7h2v10zm4 0h-2v-4h2v4z\"/>\n",
              "    </g>\n",
              "</svg>\n",
              "  </button>\n",
              "\n",
              "<style>\n",
              "  .colab-df-quickchart {\n",
              "      --bg-color: #E8F0FE;\n",
              "      --fill-color: #1967D2;\n",
              "      --hover-bg-color: #E2EBFA;\n",
              "      --hover-fill-color: #174EA6;\n",
              "      --disabled-fill-color: #AAA;\n",
              "      --disabled-bg-color: #DDD;\n",
              "  }\n",
              "\n",
              "  [theme=dark] .colab-df-quickchart {\n",
              "      --bg-color: #3B4455;\n",
              "      --fill-color: #D2E3FC;\n",
              "      --hover-bg-color: #434B5C;\n",
              "      --hover-fill-color: #FFFFFF;\n",
              "      --disabled-bg-color: #3B4455;\n",
              "      --disabled-fill-color: #666;\n",
              "  }\n",
              "\n",
              "  .colab-df-quickchart {\n",
              "    background-color: var(--bg-color);\n",
              "    border: none;\n",
              "    border-radius: 50%;\n",
              "    cursor: pointer;\n",
              "    display: none;\n",
              "    fill: var(--fill-color);\n",
              "    height: 32px;\n",
              "    padding: 0;\n",
              "    width: 32px;\n",
              "  }\n",
              "\n",
              "  .colab-df-quickchart:hover {\n",
              "    background-color: var(--hover-bg-color);\n",
              "    box-shadow: 0 1px 2px rgba(60, 64, 67, 0.3), 0 1px 3px 1px rgba(60, 64, 67, 0.15);\n",
              "    fill: var(--button-hover-fill-color);\n",
              "  }\n",
              "\n",
              "  .colab-df-quickchart-complete:disabled,\n",
              "  .colab-df-quickchart-complete:disabled:hover {\n",
              "    background-color: var(--disabled-bg-color);\n",
              "    fill: var(--disabled-fill-color);\n",
              "    box-shadow: none;\n",
              "  }\n",
              "\n",
              "  .colab-df-spinner {\n",
              "    border: 2px solid var(--fill-color);\n",
              "    border-color: transparent;\n",
              "    border-bottom-color: var(--fill-color);\n",
              "    animation:\n",
              "      spin 1s steps(1) infinite;\n",
              "  }\n",
              "\n",
              "  @keyframes spin {\n",
              "    0% {\n",
              "      border-color: transparent;\n",
              "      border-bottom-color: var(--fill-color);\n",
              "      border-left-color: var(--fill-color);\n",
              "    }\n",
              "    20% {\n",
              "      border-color: transparent;\n",
              "      border-left-color: var(--fill-color);\n",
              "      border-top-color: var(--fill-color);\n",
              "    }\n",
              "    30% {\n",
              "      border-color: transparent;\n",
              "      border-left-color: var(--fill-color);\n",
              "      border-top-color: var(--fill-color);\n",
              "      border-right-color: var(--fill-color);\n",
              "    }\n",
              "    40% {\n",
              "      border-color: transparent;\n",
              "      border-right-color: var(--fill-color);\n",
              "      border-top-color: var(--fill-color);\n",
              "    }\n",
              "    60% {\n",
              "      border-color: transparent;\n",
              "      border-right-color: var(--fill-color);\n",
              "    }\n",
              "    80% {\n",
              "      border-color: transparent;\n",
              "      border-right-color: var(--fill-color);\n",
              "      border-bottom-color: var(--fill-color);\n",
              "    }\n",
              "    90% {\n",
              "      border-color: transparent;\n",
              "      border-bottom-color: var(--fill-color);\n",
              "    }\n",
              "  }\n",
              "</style>\n",
              "\n",
              "  <script>\n",
              "    async function quickchart(key) {\n",
              "      const quickchartButtonEl =\n",
              "        document.querySelector('#' + key + ' button');\n",
              "      quickchartButtonEl.disabled = true;  // To prevent multiple clicks.\n",
              "      quickchartButtonEl.classList.add('colab-df-spinner');\n",
              "      try {\n",
              "        const charts = await google.colab.kernel.invokeFunction(\n",
              "            'suggestCharts', [key], {});\n",
              "      } catch (error) {\n",
              "        console.error('Error during call to suggestCharts:', error);\n",
              "      }\n",
              "      quickchartButtonEl.classList.remove('colab-df-spinner');\n",
              "      quickchartButtonEl.classList.add('colab-df-quickchart-complete');\n",
              "    }\n",
              "    (() => {\n",
              "      let quickchartButtonEl =\n",
              "        document.querySelector('#df-b5655449-8cce-45da-a406-7005461445ed button');\n",
              "      quickchartButtonEl.style.display =\n",
              "        google.colab.kernel.accessAllowed ? 'block' : 'none';\n",
              "    })();\n",
              "  </script>\n",
              "</div>\n",
              "    </div>\n",
              "  </div>\n"
            ],
            "application/vnd.google.colaboratory.intrinsic+json": {
              "type": "dataframe",
              "variable_name": "df",
              "summary": "{\n  \"name\": \"df\",\n  \"rows\": 200,\n  \"fields\": [\n    {\n      \"column\": \"x\",\n      \"properties\": {\n        \"dtype\": \"number\",\n        \"std\": 5.817003468738807,\n        \"min\": -10.0,\n        \"max\": 10.0,\n        \"num_unique_values\": 200,\n        \"samples\": [\n          -0.4522613065326624,\n          -8.492462311557789,\n          -6.984924623115578\n        ],\n        \"semantic_type\": \"\",\n        \"description\": \"\"\n      }\n    },\n    {\n      \"column\": \"y\",\n      \"properties\": {\n        \"dtype\": \"number\",\n        \"std\": 15.159068595618946,\n        \"min\": -29.73982345102969,\n        \"max\": 38.56492346499642,\n        \"num_unique_values\": 200,\n        \"samples\": [\n          5.402212574628084,\n          -16.562784142023137,\n          -13.687574429304362\n        ],\n        \"semantic_type\": \"\",\n        \"description\": \"\"\n      }\n    }\n  ]\n}"
            }
          },
          "metadata": {},
          "execution_count": 6
        }
      ]
    },
    {
      "cell_type": "code",
      "source": [
        "# Convert to pytorch tensors\n",
        "X = torch.FloatTensor(df['x'].values).unsqueeze(1)\n",
        "Y = torch.FloatTensor(df['y'].values).unsqueeze(1)"
      ],
      "metadata": {
        "id": "TRE1bmKrXjMK"
      },
      "id": "TRE1bmKrXjMK",
      "execution_count": null,
      "outputs": []
    },
    {
      "cell_type": "code",
      "source": [
        "# Standardization\n",
        "X = (X - X.mean()) / X.std()\n",
        "Y = (Y - Y.mean()) / Y.std()"
      ],
      "metadata": {
        "id": "PVdcqv3sXyLH"
      },
      "id": "PVdcqv3sXyLH",
      "execution_count": null,
      "outputs": []
    },
    {
      "cell_type": "code",
      "source": [
        "# Split data\n",
        "X_train, X_test, y_train, y_test = train_test_split(X, Y, test_size=0.2, random_state=42)"
      ],
      "metadata": {
        "id": "_im7ytuSX8OF"
      },
      "id": "_im7ytuSX8OF",
      "execution_count": null,
      "outputs": []
    },
    {
      "cell_type": "code",
      "source": [
        "# Plot training and test data\n",
        "plt.scatter(X_train.numpy(), y_train.numpy(), color='blue', label='Actual Data')\n",
        "plt.scatter(X_test.numpy(), y_test.numpy(), color='red', label='Predicted Data')\n",
        "plt.xlabel('X_test')\n",
        "plt.ylabel('y')\n",
        "plt.title('Train and Test Data')\n",
        "plt.grid(True)\n",
        "plt.legend()\n",
        "plt.show()"
      ],
      "metadata": {
        "id": "WPnBkwRiX_oK",
        "outputId": "4aa76a62-69ba-46ef-8de2-f60e8238ce00",
        "colab": {
          "base_uri": "https://localhost:8080/",
          "height": 472
        }
      },
      "id": "WPnBkwRiX_oK",
      "execution_count": null,
      "outputs": [
        {
          "output_type": "display_data",
          "data": {
            "text/plain": [
              "<Figure size 640x480 with 1 Axes>"
            ],
            "image/png": "[encoded data removed]"
          },
          "metadata": {}
        }
      ]
    },
    {
      "cell_type": "code",
      "source": [
        "torch.manual_seed(42)   # Set random seed\n",
        "eta = 0.03              # Learning rate\n",
        "N = 100                 # Number of epochs\n",
        "\n",
        "model = nn.Linear(1, 1)                                             # Define a simple linear model\n",
        "loss_fn = nn.MSELoss()                                              # Define a simple loss function\n",
        "optimizer = torch.optim.SGD(params=model.parameters(), lr=eta)      # Define a simple optimizer"
      ],
      "metadata": {
        "id": "hlGL_efLZUpY"
      },
      "id": "hlGL_efLZUpY",
      "execution_count": null,
      "outputs": []
    },
    {
      "cell_type": "code",
      "source": [
        "# Train the model and record loss values for each epoch\n",
        "loss_list=[]\n",
        "for epoch in range(N):\n",
        "    y_pred = model(X_train)\n",
        "    loss = loss_fn(y_pred, y_train)\n",
        "    print(f\"Epoch {epoch+1} => Loss: {loss:.6f}\")       # Print current loss\n",
        "    loss_list.append(loss.item())                       # Append current loss to list for plotting\n",
        "    loss.backward()\n",
        "    optimizer.step()\n",
        "    optimizer.zero_grad()"
      ],
      "metadata": {
        "id": "D10y6uVmZruH",
        "outputId": "63b4a3ac-5c58-47f5-99cd-3aacf9329cc1",
        "colab": {
          "base_uri": "https://localhost:8080/"
        }
      },
      "id": "D10y6uVmZruH",
      "execution_count": null,
      "outputs": [
        {
          "output_type": "stream",
          "name": "stdout",
          "text": [
            "Epoch 1 => Loss: 0.824366\n",
            "Epoch 2 => Loss: 0.742256\n",
            "Epoch 3 => Loss: 0.669762\n",
            "Epoch 4 => Loss: 0.605756\n",
            "Epoch 5 => Loss: 0.549246\n",
            "Epoch 6 => Loss: 0.499352\n",
            "Epoch 7 => Loss: 0.455300\n",
            "Epoch 8 => Loss: 0.416406\n",
            "Epoch 9 => Loss: 0.382066\n",
            "Epoch 10 => Loss: 0.351746\n",
            "Epoch 11 => Loss: 0.324975\n",
            "Epoch 12 => Loss: 0.301339\n",
            "Epoch 13 => Loss: 0.280469\n",
            "Epoch 14 => Loss: 0.262043\n",
            "Epoch 15 => Loss: 0.245773\n",
            "Epoch 16 => Loss: 0.231407\n",
            "Epoch 17 => Loss: 0.218723\n",
            "Epoch 18 => Loss: 0.207524\n",
            "Epoch 19 => Loss: 0.197635\n",
            "Epoch 20 => Loss: 0.188904\n",
            "Epoch 21 => Loss: 0.181195\n",
            "Epoch 22 => Loss: 0.174387\n",
            "Epoch 23 => Loss: 0.168376\n",
            "Epoch 24 => Loss: 0.163069\n",
            "Epoch 25 => Loss: 0.158383\n",
            "Epoch 26 => Loss: 0.154245\n",
            "Epoch 27 => Loss: 0.150591\n",
            "Epoch 28 => Loss: 0.147365\n",
            "Epoch 29 => Loss: 0.144516\n",
            "Epoch 30 => Loss: 0.142000\n",
            "Epoch 31 => Loss: 0.139779\n",
            "Epoch 32 => Loss: 0.137818\n",
            "Epoch 33 => Loss: 0.136086\n",
            "Epoch 34 => Loss: 0.134556\n",
            "Epoch 35 => Loss: 0.133206\n",
            "Epoch 36 => Loss: 0.132013\n",
            "Epoch 37 => Loss: 0.130960\n",
            "Epoch 38 => Loss: 0.130031\n",
            "Epoch 39 => Loss: 0.129209\n",
            "Epoch 40 => Loss: 0.128484\n",
            "Epoch 41 => Loss: 0.127844\n",
            "Epoch 42 => Loss: 0.127279\n",
            "Epoch 43 => Loss: 0.126780\n",
            "Epoch 44 => Loss: 0.126339\n",
            "Epoch 45 => Loss: 0.125949\n",
            "Epoch 46 => Loss: 0.125606\n",
            "Epoch 47 => Loss: 0.125302\n",
            "Epoch 48 => Loss: 0.125034\n",
            "Epoch 49 => Loss: 0.124797\n",
            "Epoch 50 => Loss: 0.124588\n",
            "Epoch 51 => Loss: 0.124403\n",
            "Epoch 52 => Loss: 0.124240\n",
            "Epoch 53 => Loss: 0.124096\n",
            "Epoch 54 => Loss: 0.123969\n",
            "Epoch 55 => Loss: 0.123857\n",
            "Epoch 56 => Loss: 0.123758\n",
            "Epoch 57 => Loss: 0.123670\n",
            "Epoch 58 => Loss: 0.123593\n",
            "Epoch 59 => Loss: 0.123525\n",
            "Epoch 60 => Loss: 0.123464\n",
            "Epoch 61 => Loss: 0.123411\n",
            "Epoch 62 => Loss: 0.123364\n",
            "Epoch 63 => Loss: 0.123322\n",
            "Epoch 64 => Loss: 0.123286\n",
            "Epoch 65 => Loss: 0.123253\n",
            "Epoch 66 => Loss: 0.123225\n",
            "Epoch 67 => Loss: 0.123200\n",
            "Epoch 68 => Loss: 0.123177\n",
            "Epoch 69 => Loss: 0.123157\n",
            "Epoch 70 => Loss: 0.123140\n",
            "Epoch 71 => Loss: 0.123125\n",
            "Epoch 72 => Loss: 0.123111\n",
            "Epoch 73 => Loss: 0.123099\n",
            "Epoch 74 => Loss: 0.123089\n",
            "Epoch 75 => Loss: 0.123079\n",
            "Epoch 76 => Loss: 0.123071\n",
            "Epoch 77 => Loss: 0.123064\n",
            "Epoch 78 => Loss: 0.123057\n",
            "Epoch 79 => Loss: 0.123052\n",
            "Epoch 80 => Loss: 0.123047\n",
            "Epoch 81 => Loss: 0.123042\n",
            "Epoch 82 => Loss: 0.123038\n",
            "Epoch 83 => Loss: 0.123035\n",
            "Epoch 84 => Loss: 0.123032\n",
            "Epoch 85 => Loss: 0.123029\n",
            "Epoch 86 => Loss: 0.123027\n",
            "Epoch 87 => Loss: 0.123024\n",
            "Epoch 88 => Loss: 0.123023\n",
            "Epoch 89 => Loss: 0.123021\n",
            "Epoch 90 => Loss: 0.123019\n",
            "Epoch 91 => Loss: 0.123018\n",
            "Epoch 92 => Loss: 0.123017\n",
            "Epoch 93 => Loss: 0.123016\n",
            "Epoch 94 => Loss: 0.123015\n",
            "Epoch 95 => Loss: 0.123014\n",
            "Epoch 96 => Loss: 0.123014\n",
            "Epoch 97 => Loss: 0.123013\n",
            "Epoch 98 => Loss: 0.123013\n",
            "Epoch 99 => Loss: 0.123012\n",
            "Epoch 100 => Loss: 0.123012\n"
          ]
        }
      ]
    },
    {
      "cell_type": "code",
      "source": [
        "# Plot the learning curve\n",
        "plt.plot(range(N), loss_list)\n",
        "plt.xlabel('Epoch')\n",
        "plt.ylabel('Loss')\n",
        "plt.title('Learning Curve on Loss Values')\n",
        "plt.show()"
      ],
      "metadata": {
        "id": "LtAK4Ty_Z73j",
        "outputId": "f395c80d-fc6e-48ac-b2c7-1aa46de53ad0",
        "colab": {
          "base_uri": "https://localhost:8080/",
          "height": 472
        }
      },
      "id": "LtAK4Ty_Z73j",
      "execution_count": null,
      "outputs": [
        {
          "output_type": "display_data",
          "data": {
            "text/plain": [
              "<Figure size 640x480 with 1 Axes>"
            ],
            "image/png": "[encoded data removed]"
          },
          "metadata": {}
        }
      ]
    },
    {
      "cell_type": "code",
      "source": [
        "# Evaluate the model on the test data and compute L1 loss\n",
        "y_predict = model(X_test)\n",
        "l1_loss=nn.functional.l1_loss(y_predict, y_test)\n",
        "print(f\"L1 Loss : {l1_loss:.3f}\")"
      ],
      "metadata": {
        "id": "2q1V8YuZZ98r",
        "outputId": "dafa660f-79f7-4942-8863-2602335e9460",
        "colab": {
          "base_uri": "https://localhost:8080/"
        }
      },
      "id": "2q1V8YuZZ98r",
      "execution_count": null,
      "outputs": [
        {
          "output_type": "stream",
          "name": "stdout",
          "text": [
            "L1 Loss : 0.237\n"
          ]
        }
      ]
    },
    {
      "cell_type": "code",
      "source": [
        "# Plot of training data and model predictions\n",
        "\n",
        "x_sample = torch.linspace(X_train.min(), X_train.max(), 50).unsqueeze(1)\n",
        "yp = model(x_sample)\n",
        "plt.scatter(X_train, y_train, color='blue', label='Training Data')\n",
        "plt.plot(x_sample.detach(), yp.detach(), color='red',linewidth=3, label='Model Prediction')\n",
        "plt.xlabel('X')\n",
        "plt.ylabel('y')\n",
        "plt.title('Regression Line Fit on Training Data')\n",
        "plt.show()"
      ],
      "metadata": {
        "id": "ADWM5etdaGPr",
        "outputId": "8be9e9e8-cec2-4ddd-ee64-826624d2cb05",
        "colab": {
          "base_uri": "https://localhost:8080/",
          "height": 472
        }
      },
      "id": "ADWM5etdaGPr",
      "execution_count": null,
      "outputs": [
        {
          "output_type": "display_data",
          "data": {
            "text/plain": [
              "<Figure size 640x480 with 1 Axes>"
            ],
            "image/png": "[encoded data removed]"
          },
          "metadata": {}
        }
      ]
    },
    {
      "cell_type": "markdown",
      "source": [
        "<p style=\"font-family:B Nazanin\" dir=\"rtl\">\n",
        "    <b>پیاده‌سازی چندین لایه از نورون‌ها با استفاده از PyTorch:</b><br>\n",
        "    در قسمت قبل دیدیم که چگونه می‌توان یک نورون را با استفاده از کتابخانه PyTorch شبیه‌سازی کنیم. اما می‌دانیم که مسائل در واقعیت بسیار پیچیده‌تر از آن هستند که با یک نورون تنها بتوان آن‌ها را حل کرد. همان طور که می‌دانید در مسائل MLP می‌توانیم چندین لایه مخفی نیز داشته باشیم که هر کدام شامل تعداد زیادی نورون هستند. در اینجا مثال‌هایی را می‌بینیم که این شبیه‌سازی لایه‌های مختلف با نورون‌های متعدد را با استفاده از کتابخانه PyTorch انجام می‌دهیم.\n",
        "</p>"
      ],
      "metadata": {
        "id": "0m4zibQ6OwZT"
      },
      "id": "0m4zibQ6OwZT"
    },
    {
      "cell_type": "markdown",
      "source": [
        "<p style=\"font-family:B Nazanin\" dir=\"rtl\">\n",
        "    مثال. در این مثال از یک دیتاست تصادفی استفاده می‌کنیم که شامل 10 رکورد و هر رکورد شامل 3 ویژگی است.\n",
        "</p>"
      ],
      "metadata": {
        "id": "eo3wamswQV1Y"
      },
      "id": "eo3wamswQV1Y"
    },
    {
      "cell_type": "code",
      "source": [
        "import pandas as pd\n",
        "import matplotlib.pyplot as plt\n",
        "import torch\n",
        "import torch.nn as nn"
      ],
      "metadata": {
        "id": "HpVfUeg7QYGA"
      },
      "id": "HpVfUeg7QYGA",
      "execution_count": 1,
      "outputs": []
    },
    {
      "cell_type": "code",
      "source": [
        "x = torch.randint(low=-10, high=10, size=(10,3), dtype=torch.float)\n",
        "print(f'x: \\n{x}')"
      ],
      "metadata": {
        "id": "k9TRFRmJQgfS",
        "outputId": "8066d943-53aa-45c3-f266-644755a40eaf",
        "colab": {
          "base_uri": "https://localhost:8080/"
        }
      },
      "id": "k9TRFRmJQgfS",
      "execution_count": 2,
      "outputs": [
        {
          "output_type": "stream",
          "name": "stdout",
          "text": [
            "x: \n",
            "tensor([[ -9.,  -2.,   3.],\n",
            "        [ -8.,   6.,  -1.],\n",
            "        [  4.,   9.,   6.],\n",
            "        [  8.,   4., -10.],\n",
            "        [  0.,  -1.,   7.],\n",
            "        [  5.,   2.,  -7.],\n",
            "        [ -2.,   7.,  -4.],\n",
            "        [-10.,   6.,  -6.],\n",
            "        [  2.,  -1.,   2.],\n",
            "        [  7.,   1.,  -6.]])\n"
          ]
        }
      ]
    },
    {
      "cell_type": "markdown",
      "source": [
        "<p style=\"font-family:B Nazanin\" dir=\"rtl\">\n",
        "    در این مثال دو لایه مخفی داریم. در لایه اول 7 نورون و در لایه دوم 5 نورون. همچنین می‌خواهیم که لایه خروجی بایاس نداشته باشد. دقت داشته باشید که تعداد خروجی‌های هر لایه حتما باید با ورودی‌های لایه بعد برابر باشد.\n",
        "</p>"
      ],
      "metadata": {
        "id": "l_IZ1Qq0RVza"
      },
      "id": "l_IZ1Qq0RVza"
    },
    {
      "cell_type": "code",
      "source": [
        "model1 = nn.Linear(3, 7)\n",
        "model2 = nn.Linear(7, 5)"
      ],
      "metadata": {
        "id": "BZrBSHK5RghT"
      },
      "id": "BZrBSHK5RghT",
      "execution_count": 5,
      "outputs": []
    },
    {
      "cell_type": "markdown",
      "source": [
        "<p style=\"font-family:B Nazanin\" dir=\"rtl\">\n",
        "    لایه خروجی نیز به صورت زیر است:\n",
        "</p>"
      ],
      "metadata": {
        "id": "MzU62yADTtRV"
      },
      "id": "MzU62yADTtRV"
    },
    {
      "cell_type": "code",
      "source": [
        "model3 = nn.Linear(5,1,bias=False)"
      ],
      "metadata": {
        "id": "OhHlfSQzTz88"
      },
      "id": "OhHlfSQzTz88",
      "execution_count": 7,
      "outputs": []
    },
    {
      "cell_type": "code",
      "source": [
        "mlp = nn.Sequential(model1, model2, model3)\n",
        "print(f'MLP:\\n{mlp}')\n",
        "print(f'bias:\\n{mlp[0].bias}')\n",
        "print(f'weight:\\n{mlp[0].weight}')\n",
        "print(f'bias:\\n{mlp[1].bias}')\n",
        "print(f'weight:\\n{mlp[1].weight}')\n",
        "print(f'bias:\\n{mlp[2].bias}')\n",
        "print(f'weight:\\n{mlp[2].weight}')"
      ],
      "metadata": {
        "id": "mR13fR3aRo54",
        "outputId": "5ef1d6c0-410c-41c0-a06d-7f26934758e0",
        "colab": {
          "base_uri": "https://localhost:8080/"
        }
      },
      "id": "mR13fR3aRo54",
      "execution_count": 8,
      "outputs": [
        {
          "output_type": "stream",
          "name": "stdout",
          "text": [
            "MLP:\n",
            "Sequential(\n",
            "  (0): Linear(in_features=3, out_features=7, bias=True)\n",
            "  (1): Linear(in_features=7, out_features=5, bias=True)\n",
            "  (2): Linear(in_features=5, out_features=1, bias=False)\n",
            ")\n",
            "bias:\n",
            "Parameter containing:\n",
            "tensor([-0.0569, -0.0020,  0.5715, -0.3903, -0.2328, -0.1393, -0.5014],\n",
            "       requires_grad=True)\n",
            "weight:\n",
            "Parameter containing:\n",
            "tensor([[-0.4653,  0.0749,  0.2699],\n",
            "        [ 0.1404,  0.4691, -0.0766],\n",
            "        [ 0.1932, -0.4157,  0.0866],\n",
            "        [-0.3366,  0.2594, -0.0110],\n",
            "        [-0.1892, -0.1404,  0.5429],\n",
            "        [-0.3711, -0.0598,  0.4099],\n",
            "        [ 0.3297,  0.3844,  0.5424]], requires_grad=True)\n",
            "bias:\n",
            "Parameter containing:\n",
            "tensor([ 0.3077, -0.3736, -0.2498, -0.1140, -0.2344], requires_grad=True)\n",
            "weight:\n",
            "Parameter containing:\n",
            "tensor([[-0.1210, -0.1052, -0.1546,  0.3000, -0.3285,  0.3011, -0.0105],\n",
            "        [ 0.1084,  0.0459,  0.1176, -0.2100,  0.0213, -0.3731,  0.3435],\n",
            "        [ 0.1140, -0.2775, -0.2177,  0.2716, -0.2661,  0.1251,  0.0917],\n",
            "        [-0.0405,  0.2233,  0.0729, -0.0728,  0.0055, -0.2464, -0.1605],\n",
            "        [ 0.2005, -0.1379,  0.2384,  0.0809, -0.3520, -0.1864,  0.0436]],\n",
            "       requires_grad=True)\n",
            "bias:\n",
            "None\n",
            "weight:\n",
            "Parameter containing:\n",
            "tensor([[-0.4376, -0.0835,  0.1587,  0.4171, -0.1011]], requires_grad=True)\n"
          ]
        }
      ]
    },
    {
      "cell_type": "markdown",
      "source": [
        "<p style=\"font-family:B Nazanin\" dir=\"rtl\">\n",
        "    در نهایت خروجی به صورت زیر می‌شود:\n",
        "</p>"
      ],
      "metadata": {
        "id": "Jns-SqH0UTO2"
      },
      "id": "Jns-SqH0UTO2"
    },
    {
      "cell_type": "code",
      "source": [
        "output = mlp(x)\n",
        "print(f'Output:\\n{output}')"
      ],
      "metadata": {
        "id": "vr91bOnnUbhh",
        "outputId": "ee71de88-f9c7-46cf-9ceb-810e459d7ee9",
        "colab": {
          "base_uri": "https://localhost:8080/"
        }
      },
      "id": "vr91bOnnUbhh",
      "execution_count": 9,
      "outputs": [
        {
          "output_type": "stream",
          "name": "stdout",
          "text": [
            "Output:\n",
            "tensor([[-0.6074],\n",
            "        [-0.6560],\n",
            "        [-0.3364],\n",
            "        [ 0.5780],\n",
            "        [-0.2875],\n",
            "        [ 0.3729],\n",
            "        [-0.2585],\n",
            "        [-0.5929],\n",
            "        [-0.0079],\n",
            "        [ 0.4768]], grad_fn=<MmBackward0>)\n"
          ]
        }
      ]
    },
    {
      "cell_type": "markdown",
      "source": [
        "<p style=\"font-family:B Nazanin\" dir=\"rtl\">\n",
        "    مثال. در این مثال می‌خواهیم علاوه بر ساخت MLP، این بار با تعریف تابع هزینه و بهینه‌ساز، مقادیر خروجی را محاسبه کرده و با تکرار میزان تابع هزینه را کاهش دهیم.\n",
        "</p>"
      ],
      "metadata": {
        "id": "3pksQI0EUyYf"
      },
      "id": "3pksQI0EUyYf"
    },
    {
      "cell_type": "code",
      "source": [
        "import pandas as pd\n",
        "import matplotlib.pyplot as plt\n",
        "import torch\n",
        "import torch.nn as nn"
      ],
      "metadata": {
        "id": "-XTpT1wXVkrN"
      },
      "id": "-XTpT1wXVkrN",
      "execution_count": 10,
      "outputs": []
    },
    {
      "cell_type": "code",
      "source": [
        "sample_num=40\n",
        "feature_num=3\n",
        "target_num=5\n",
        "eta = 0.02\n",
        "N = 100\n",
        "\n",
        "x = torch.randint(low=-10,high=10,size=(sample_num,feature_num),dtype=torch.float)\n",
        "yt = torch.randn(sample_num, target_num)"
      ],
      "metadata": {
        "id": "kVwFzNgMU-no"
      },
      "id": "kVwFzNgMU-no",
      "execution_count": 11,
      "outputs": []
    },
    {
      "cell_type": "code",
      "source": [
        "model1 = nn.Linear(feature_num, 7)\n",
        "model2 = nn.Linear(7, target_num, bias=False)\n",
        "mlp = nn.Sequential(model1,model2)\n",
        "# print(f\"bias:\\n{mlp[0].bias}\")\n",
        "# print(f\"weight:\\n{mlp[0].weight}\")\n",
        "# print(f\"bias:\\n{mlp[1].bias}\")\n",
        "# print(f\"weight:\\n{mlp[1].weight }\")"
      ],
      "metadata": {
        "id": "LkKKRyVfVoQu"
      },
      "id": "LkKKRyVfVoQu",
      "execution_count": 13,
      "outputs": []
    },
    {
      "cell_type": "code",
      "source": [
        "loss_fn = nn.MSELoss()\n",
        "\n",
        "optimizer = torch.optim.SGD(mlp.parameters(), lr=eta)\n",
        "\n",
        "loss_list=[]\n",
        "for epoch in range(N):\n",
        "    yp = mlp(x)\n",
        "    loss = loss_fn(yp, yt)\n",
        "    loss_list.append(loss.item())\n",
        "    print(f\"Epoch {epoch+1} => Loss: {loss.item():.6f}\")\n",
        "    loss.backward()\n",
        "    optimizer.step()\n",
        "    optimizer.zero_grad()"
      ],
      "metadata": {
        "id": "vjCOmRsBWbvl",
        "outputId": "7009af88-de4f-487b-9fbf-69f977717d83",
        "colab": {
          "base_uri": "https://localhost:8080/"
        }
      },
      "id": "vjCOmRsBWbvl",
      "execution_count": 14,
      "outputs": [
        {
          "output_type": "stream",
          "name": "stdout",
          "text": [
            "Epoch 1 => Loss: 2.482759\n",
            "Epoch 2 => Loss: 1.832391\n",
            "Epoch 3 => Loss: 1.513507\n",
            "Epoch 4 => Loss: 1.332810\n",
            "Epoch 5 => Loss: 1.221313\n",
            "Epoch 6 => Loss: 1.148428\n",
            "Epoch 7 => Loss: 1.098720\n",
            "Epoch 8 => Loss: 1.063682\n",
            "Epoch 9 => Loss: 1.038318\n",
            "Epoch 10 => Loss: 1.019545\n",
            "Epoch 11 => Loss: 1.005383\n",
            "Epoch 12 => Loss: 0.994522\n",
            "Epoch 13 => Loss: 0.986070\n",
            "Epoch 14 => Loss: 0.979406\n",
            "Epoch 15 => Loss: 0.974087\n",
            "Epoch 16 => Loss: 0.969794\n",
            "Epoch 17 => Loss: 0.966292\n",
            "Epoch 18 => Loss: 0.963404\n",
            "Epoch 19 => Loss: 0.960999\n",
            "Epoch 20 => Loss: 0.958975\n",
            "Epoch 21 => Loss: 0.957254\n",
            "Epoch 22 => Loss: 0.955775\n",
            "Epoch 23 => Loss: 0.954491\n",
            "Epoch 24 => Loss: 0.953365\n",
            "Epoch 25 => Loss: 0.952367\n",
            "Epoch 26 => Loss: 0.951473\n",
            "Epoch 27 => Loss: 0.950666\n",
            "Epoch 28 => Loss: 0.949929\n",
            "Epoch 29 => Loss: 0.949250\n",
            "Epoch 30 => Loss: 0.948621\n",
            "Epoch 31 => Loss: 0.948033\n",
            "Epoch 32 => Loss: 0.947480\n",
            "Epoch 33 => Loss: 0.946956\n",
            "Epoch 34 => Loss: 0.946458\n",
            "Epoch 35 => Loss: 0.945981\n",
            "Epoch 36 => Loss: 0.945523\n",
            "Epoch 37 => Loss: 0.945081\n",
            "Epoch 38 => Loss: 0.944654\n",
            "Epoch 39 => Loss: 0.944240\n",
            "Epoch 40 => Loss: 0.943837\n",
            "Epoch 41 => Loss: 0.943445\n",
            "Epoch 42 => Loss: 0.943062\n",
            "Epoch 43 => Loss: 0.942688\n",
            "Epoch 44 => Loss: 0.942321\n",
            "Epoch 45 => Loss: 0.941962\n",
            "Epoch 46 => Loss: 0.941610\n",
            "Epoch 47 => Loss: 0.941264\n",
            "Epoch 48 => Loss: 0.940924\n",
            "Epoch 49 => Loss: 0.940589\n",
            "Epoch 50 => Loss: 0.940260\n",
            "Epoch 51 => Loss: 0.939936\n",
            "Epoch 52 => Loss: 0.939617\n",
            "Epoch 53 => Loss: 0.939302\n",
            "Epoch 54 => Loss: 0.938993\n",
            "Epoch 55 => Loss: 0.938687\n",
            "Epoch 56 => Loss: 0.938385\n",
            "Epoch 57 => Loss: 0.938088\n",
            "Epoch 58 => Loss: 0.937795\n",
            "Epoch 59 => Loss: 0.937505\n",
            "Epoch 60 => Loss: 0.937219\n",
            "Epoch 61 => Loss: 0.936937\n",
            "Epoch 62 => Loss: 0.936658\n",
            "Epoch 63 => Loss: 0.936383\n",
            "Epoch 64 => Loss: 0.936111\n",
            "Epoch 65 => Loss: 0.935842\n",
            "Epoch 66 => Loss: 0.935576\n",
            "Epoch 67 => Loss: 0.935314\n",
            "Epoch 68 => Loss: 0.935055\n",
            "Epoch 69 => Loss: 0.934799\n",
            "Epoch 70 => Loss: 0.934546\n",
            "Epoch 71 => Loss: 0.934295\n",
            "Epoch 72 => Loss: 0.934048\n",
            "Epoch 73 => Loss: 0.933803\n",
            "Epoch 74 => Loss: 0.933561\n",
            "Epoch 75 => Loss: 0.933322\n",
            "Epoch 76 => Loss: 0.933086\n",
            "Epoch 77 => Loss: 0.932852\n",
            "Epoch 78 => Loss: 0.932620\n",
            "Epoch 79 => Loss: 0.932392\n",
            "Epoch 80 => Loss: 0.932165\n",
            "Epoch 81 => Loss: 0.931941\n",
            "Epoch 82 => Loss: 0.931720\n",
            "Epoch 83 => Loss: 0.931501\n",
            "Epoch 84 => Loss: 0.931284\n",
            "Epoch 85 => Loss: 0.931069\n",
            "Epoch 86 => Loss: 0.930857\n",
            "Epoch 87 => Loss: 0.930647\n",
            "Epoch 88 => Loss: 0.930439\n",
            "Epoch 89 => Loss: 0.930233\n",
            "Epoch 90 => Loss: 0.930030\n",
            "Epoch 91 => Loss: 0.929828\n",
            "Epoch 92 => Loss: 0.929629\n",
            "Epoch 93 => Loss: 0.929431\n",
            "Epoch 94 => Loss: 0.929236\n",
            "Epoch 95 => Loss: 0.929042\n",
            "Epoch 96 => Loss: 0.928851\n",
            "Epoch 97 => Loss: 0.928661\n",
            "Epoch 98 => Loss: 0.928473\n",
            "Epoch 99 => Loss: 0.928287\n",
            "Epoch 100 => Loss: 0.928103\n"
          ]
        }
      ]
    },
    {
      "cell_type": "code",
      "source": [
        "plt.plot(range(N), loss_list)\n",
        "plt.xlabel('Epoch')\n",
        "plt.ylabel('Loss')\n",
        "plt.title('Learning Curve on Loss Values')\n",
        "plt.show()"
      ],
      "metadata": {
        "id": "fwBFyshHWjbF",
        "outputId": "ce3f014d-0920-4b43-be1d-1fad253a09d4",
        "colab": {
          "base_uri": "https://localhost:8080/",
          "height": 472
        }
      },
      "id": "fwBFyshHWjbF",
      "execution_count": 15,
      "outputs": [
        {
          "output_type": "display_data",
          "data": {
            "text/plain": [
              "<Figure size 640x480 with 1 Axes>"
            ],
            "image/png": "[encoded data removed]"
          },
          "metadata": {}
        }
      ]
    },
    {
      "cell_type": "markdown",
      "source": [
        "<p style=\"font-family:B Nazanin\" dir=\"rtl\">\n",
        "    مثال. در این مثال می‌خواهیم با استفاده از امکانات پیشرفته زبان پایتون و کلاس‌های پایه‌ای که کتابخانه PyTorch‌ در اختیار ما می‌گذارد، یک کلاس تعریف کنیم که ساخت مدل‌های دو لایه را برای ما به صورت خودکار انجام دهد.<br>\n",
        "    کلاس <code>nn.Module</code> یک کلاس پایه در این کتابخانه است که با استفاده از آن می‌توان یک ساختار درختی از لایه‌های مختلف را در یک شبکه عصبی ایجاد کنیم.<br>\n",
        "    تابع <code>forward</code> تابعی است که زمانی که مدل MLP را فراخوانی می‌کنیم، اجرا می‌شود و در آن می‌توانیم ترتیب اجرای لایه‌ها را مشخص کنیم.\n",
        "</p>"
      ],
      "metadata": {
        "id": "TKtcB05hXWsd"
      },
      "id": "TKtcB05hXWsd"
    },
    {
      "cell_type": "code",
      "source": [
        "import torch\n",
        "import torch.nn as nn"
      ],
      "metadata": {
        "id": "E8l3XYmJXqLJ"
      },
      "id": "E8l3XYmJXqLJ",
      "execution_count": 17,
      "outputs": []
    },
    {
      "cell_type": "code",
      "source": [
        "class TwoLayerModel(nn.Module):\n",
        "    def __init__(self, input_size, hidden_size, output_size):\n",
        "        super(TwoLayerModel, self).__init__()\n",
        "        self.layer1 = nn.Linear(input_size, hidden_size)\n",
        "        self.layer2 = nn.Linear(hidden_size, output_size)\n",
        "\n",
        "    def forward(self, x):\n",
        "        x = torch.relu(self.layer1(x))\n",
        "        x = self.layer2(x)\n",
        "        return x"
      ],
      "metadata": {
        "id": "ugJnfHXpXsy4"
      },
      "id": "ugJnfHXpXsy4",
      "execution_count": 18,
      "outputs": []
    },
    {
      "cell_type": "code",
      "source": [
        "model = TwoLayerModel(input_size=2, hidden_size=5, output_size=3)\n",
        "x1 = torch.tensor([-7., -2.])\n",
        "output1 = model(x1)\n",
        "print(f\"x1:\\n{ x1}\",)\n",
        "print(f\"Output1:\\n{ output1}\",)"
      ],
      "metadata": {
        "id": "RsUDHj6mY-RF",
        "outputId": "2ac2402d-6fc8-44a3-f8e1-eeac216e78c3",
        "colab": {
          "base_uri": "https://localhost:8080/"
        }
      },
      "id": "RsUDHj6mY-RF",
      "execution_count": 19,
      "outputs": [
        {
          "output_type": "stream",
          "name": "stdout",
          "text": [
            "x1:\n",
            "tensor([-7., -2.])\n",
            "Output1:\n",
            "tensor([-0.3070, -0.8165,  1.3638], grad_fn=<ViewBackward0>)\n"
          ]
        }
      ]
    },
    {
      "cell_type": "code",
      "source": [
        "x2 = torch.randint(low=-10,high=10,size=(20,2),dtype=torch.float)\n",
        "output2 = model(x2)\n",
        "print(f\"x2:\\n{ x2}\",)\n",
        "print(f\"Output2:\\n{ output2}\",)"
      ],
      "metadata": {
        "id": "fNQpf0vxZAEN",
        "outputId": "29c7034d-d8cc-43d0-8a96-d79281a48b7f",
        "colab": {
          "base_uri": "https://localhost:8080/"
        }
      },
      "id": "fNQpf0vxZAEN",
      "execution_count": 20,
      "outputs": [
        {
          "output_type": "stream",
          "name": "stdout",
          "text": [
            "x2:\n",
            "tensor([[ -5.,  -1.],\n",
            "        [ -1.,  -6.],\n",
            "        [ -9.,   4.],\n",
            "        [ -4.,   2.],\n",
            "        [  8.,  -1.],\n",
            "        [ -5.,   5.],\n",
            "        [ -6.,   9.],\n",
            "        [ -9., -10.],\n",
            "        [  6.,  -5.],\n",
            "        [ -1.,   1.],\n",
            "        [  9.,  -4.],\n",
            "        [  8.,  -9.],\n",
            "        [ -5.,  -1.],\n",
            "        [ -5.,  -6.],\n",
            "        [  1.,  -3.],\n",
            "        [ -1.,  -1.],\n",
            "        [  0.,  -2.],\n",
            "        [-10.,   2.],\n",
            "        [  9.,   4.],\n",
            "        [ -9.,  -5.]])\n",
            "Output2:\n",
            "tensor([[-0.3062, -0.6030,  0.9390],\n",
            "        [ 0.4240, -1.0893,  0.2293],\n",
            "        [-0.5476, -0.3768,  2.4453],\n",
            "        [-0.3913, -0.2630,  0.9612],\n",
            "        [ 2.5530, -1.8370,  1.1513],\n",
            "        [-0.5116, -0.0432,  1.5019],\n",
            "        [-0.7122,  0.1205,  2.0728],\n",
            "        [-0.0682, -1.6831,  1.1319],\n",
            "        [ 2.2659, -1.7475,  1.0899],\n",
            "        [-0.3001, -0.1803,  0.1018],\n",
            "        [ 3.1221, -2.2116,  1.3963],\n",
            "        [ 3.2335, -2.4961,  1.4505],\n",
            "        [-0.3062, -0.6030,  0.9390],\n",
            "        [-0.1928, -1.0242,  0.5268],\n",
            "        [ 0.6442, -0.9134,  0.3974],\n",
            "        [-0.1271, -0.4231,  0.0885],\n",
            "        [ 0.2585, -0.6682,  0.2429],\n",
            "        [-0.4967, -0.6234,  2.5169],\n",
            "        [ 2.4388, -1.6919,  1.0500],\n",
            "        [-0.2394, -1.2165,  1.6009]], grad_fn=<AddmmBackward0>)\n"
          ]
        }
      ]
    },
    {
      "cell_type": "markdown",
      "source": [
        "<p style=\"font-family:B Nazanin\" dir=\"rtl\">\n",
        "    مثال. در مثال آخر می‌خواهیم تعداد لایه‌ها به صورت پویا قابل تعریف باشد.\n",
        "</p>"
      ],
      "metadata": {
        "id": "4nuD2A6EZ75E"
      },
      "id": "4nuD2A6EZ75E"
    },
    {
      "cell_type": "code",
      "source": [
        "import torch\n",
        "import torch.nn as nn"
      ],
      "metadata": {
        "id": "KWDkjV1kZDAD"
      },
      "id": "KWDkjV1kZDAD",
      "execution_count": 21,
      "outputs": []
    },
    {
      "cell_type": "code",
      "source": [
        "class DynamicLayerModel(nn.Module):\n",
        "    def __init__(self, layer_sizes):\n",
        "        super(DynamicLayerModel, self).__init__()\n",
        "        self.layers = nn.ModuleList()\n",
        "        for i in range(len(layer_sizes) - 1):\n",
        "            self.layers.append(nn.Linear(layer_sizes[i], layer_sizes[i + 1]))\n",
        "\n",
        "\n",
        "    def forward(self, x):\n",
        "        for i, layer in enumerate(self.layers):\n",
        "            x = layer(x) if i == len(self.layers) - 1 else torch.relu(layer(x))\n",
        "        return x"
      ],
      "metadata": {
        "id": "q1FmJFwnaCxJ"
      },
      "id": "q1FmJFwnaCxJ",
      "execution_count": 22,
      "outputs": []
    },
    {
      "cell_type": "code",
      "source": [
        "layer_sizes = [2, 5, 3, 1]                # [input_size, hidden1, hidden2, ..., output_size]\n",
        "model = DynamicLayerModel(layer_sizes)\n",
        "\n",
        "x3 = torch.randint(low=-10,high=10,size=(20,2),dtype=torch.float)\n",
        "output3 = model(x3)\n",
        "print(f\"x2:\\n{ x3}\",)\n",
        "print(f\"Output2:\\n{ output3}\",)"
      ],
      "metadata": {
        "id": "RBmoGJpOaEJC",
        "outputId": "f29d141f-8430-4d1b-ba76-8edbbc04fcb0",
        "colab": {
          "base_uri": "https://localhost:8080/"
        }
      },
      "id": "RBmoGJpOaEJC",
      "execution_count": 23,
      "outputs": [
        {
          "output_type": "stream",
          "name": "stdout",
          "text": [
            "x2:\n",
            "tensor([[  0.,   7.],\n",
            "        [  6.,   4.],\n",
            "        [  1., -10.],\n",
            "        [  1.,   4.],\n",
            "        [  5.,  -2.],\n",
            "        [ -4.,   9.],\n",
            "        [  1.,   6.],\n",
            "        [  8.,   2.],\n",
            "        [  3.,   9.],\n",
            "        [  2.,   5.],\n",
            "        [  2.,   0.],\n",
            "        [  7.,  -6.],\n",
            "        [ -2.,  -7.],\n",
            "        [ -9.,  -2.],\n",
            "        [ -5.,   2.],\n",
            "        [  9.,  -3.],\n",
            "        [ -6.,  -8.],\n",
            "        [ -5.,   4.],\n",
            "        [ -9.,  -8.],\n",
            "        [  7.,   4.]])\n",
            "Output2:\n",
            "tensor([[ 0.8955],\n",
            "        [ 0.4471],\n",
            "        [-0.2775],\n",
            "        [ 0.5919],\n",
            "        [ 0.0356],\n",
            "        [ 1.2984],\n",
            "        [ 0.7619],\n",
            "        [ 0.1822],\n",
            "        [ 0.9199],\n",
            "        [ 0.6284],\n",
            "        [ 0.2017],\n",
            "        [-0.1681],\n",
            "        [-0.0970],\n",
            "        [ 0.6944],\n",
            "        [ 0.7744],\n",
            "        [-0.0864],\n",
            "        [-0.1110],\n",
            "        [ 0.9641],\n",
            "        [-0.0507],\n",
            "        [ 0.4529]], grad_fn=<AddmmBackward0>)\n"
          ]
        }
      ]
    }
  ],
  "metadata": {
    "kernelspec": {
      "display_name": "Python 3",
      "name": "python3"
    },
    "language_info": {
      "codemirror_mode": {
        "name": "ipython",
        "version": 3
      },
      "file_extension": ".py",
      "mimetype": "text/x-python",
      "name": "python",
      "nbconvert_exporter": "python",
      "pygments_lexer": "ipython3",
      "version": "3.11.2"
    },
    "colab": {
      "provenance": [],
      "gpuType": "T4",
      "include_colab_link": true
    },
    "accelerator": "GPU"
  },
  "nbformat": 4,
  "nbformat_minor": 5
}