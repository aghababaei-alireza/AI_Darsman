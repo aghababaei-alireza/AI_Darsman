{
  "cells": [
    {
      "cell_type": "markdown",
      "metadata": {
        "id": "view-in-github",
        "colab_type": "text"
      },
      "source": [
        "<a href=\"https://colab.research.google.com/github/aghababaei-alireza/AI_Darsman/blob/main/Semester%206%20-%20Deep%20Learning/Learn/Part2-PyTorchLibrary.ipynb\" target=\"_parent\"><img src=\"https://colab.research.google.com/assets/colab-badge.svg\" alt=\"Open In Colab\"/></a>"
      ]
    },
    {
      "cell_type": "markdown",
      "id": "8d281bde",
      "metadata": {
        "direction": "rtl",
        "id": "8d281bde"
      },
      "source": [
        "<span dir=\"rtl\" style=\"font-family:B Nazanin\" align=\"right\">\n",
        "    <h1>فصل ششم: یادگیری عمیق</h1>\n",
        "    <h2>بخش دوم: کتابخانه PyTorch و کاربرد آن در یادگیری عمیق</h2>\n",
        "</span>"
      ]
    },
    {
      "cell_type": "markdown",
      "id": "a1336976",
      "metadata": {
        "direction": "rtl",
        "id": "a1336976"
      },
      "source": [
        "<p style=\"font-family:B Nazanin\" dir=\"rtl\" align=\"right\">\n",
        "     در این فصل می‌خواهیم با کتابخانه قدرتمند PyTorch آشنا شویم که به ما این امکان را می‌دهد تا مدل‌های هوش مصنوعی خود را آموزش دهیم و از آن‌ها استفاده کنیم. یکی از ویژگی‌های بارز PyTorch این است که این امکان را برای ما فراهم می‌کند که کدهای خود را توسط GPU (پردازنده‌های گرافیکی) اجرا کنیم که بسیار بسیار قدرتمندتر از CPUها هستند. ویژگی بسیار محبوب دیگر این کتابخانه این است که اجازه می‌دهد تا مدل خود را در حین اجرا تغییر دهیم و مشکلات آن را بسیار راحت پیدا کرده و برطرف کنیم. <br>\n",
        "    برای نصب این کتابخانه با استفاده از pip، در محیط ترمینال از دستور زیر استفاده می‌کنیم:\n",
        "</p>"
      ]
    },
    {
      "cell_type": "code",
      "execution_count": null,
      "id": "0f5c3344",
      "metadata": {
        "collapsed": true,
        "id": "0f5c3344",
        "outputId": "22057d2d-0253-4120-bc95-88d0f65ca298"
      },
      "outputs": [
        {
          "name": "stdout",
          "output_type": "stream",
          "text": [
            "Requirement already satisfied: torch in c:\\users\\alireza\\appdata\\local\\programs\\python\\python311\\lib\\site-packages (2.4.1)\n",
            "Requirement already satisfied: torchvision in c:\\users\\alireza\\appdata\\local\\programs\\python\\python311\\lib\\site-packages (0.19.1)\n",
            "Requirement already satisfied: torchaudio in c:\\users\\alireza\\appdata\\local\\programs\\python\\python311\\lib\\site-packages (2.4.1)\n",
            "Requirement already satisfied: filelock in c:\\users\\alireza\\appdata\\local\\programs\\python\\python311\\lib\\site-packages (from torch) (3.12.4)\n",
            "Requirement already satisfied: typing-extensions>=4.8.0 in c:\\users\\alireza\\appdata\\local\\programs\\python\\python311\\lib\\site-packages (from torch) (4.10.0)\n",
            "Requirement already satisfied: sympy in c:\\users\\alireza\\appdata\\local\\programs\\python\\python311\\lib\\site-packages (from torch) (1.13.3)\n",
            "Requirement already satisfied: networkx in c:\\users\\alireza\\appdata\\local\\programs\\python\\python311\\lib\\site-packages (from torch) (3.3)\n",
            "Requirement already satisfied: jinja2 in c:\\users\\alireza\\appdata\\local\\programs\\python\\python311\\lib\\site-packages (from torch) (3.1.2)\n",
            "Requirement already satisfied: fsspec in c:\\users\\alireza\\appdata\\local\\programs\\python\\python311\\lib\\site-packages (from torch) (2024.9.0)\n",
            "Requirement already satisfied: numpy in c:\\users\\alireza\\appdata\\local\\programs\\python\\python311\\lib\\site-packages (from torchvision) (1.24.2)\n",
            "Requirement already satisfied: pillow!=8.3.*,>=5.3.0 in c:\\users\\alireza\\appdata\\local\\programs\\python\\python311\\lib\\site-packages (from torchvision) (9.4.0)\n",
            "Requirement already satisfied: MarkupSafe>=2.0 in c:\\users\\alireza\\appdata\\local\\programs\\python\\python311\\lib\\site-packages (from jinja2->torch) (2.1.2)\n",
            "Requirement already satisfied: mpmath<1.4,>=1.1.0 in c:\\users\\alireza\\appdata\\local\\programs\\python\\python311\\lib\\site-packages (from sympy->torch) (1.3.0)\n"
          ]
        },
        {
          "name": "stderr",
          "output_type": "stream",
          "text": [
            "WARNING: Ignoring invalid distribution ~ip (C:\\Users\\Alireza\\AppData\\Local\\Programs\\Python\\Python311\\Lib\\site-packages)\n",
            "WARNING: Ignoring invalid distribution ~ip (C:\\Users\\Alireza\\AppData\\Local\\Programs\\Python\\Python311\\Lib\\site-packages)\n",
            "WARNING: Ignoring invalid distribution ~ip (C:\\Users\\Alireza\\AppData\\Local\\Programs\\Python\\Python311\\Lib\\site-packages)\n"
          ]
        }
      ],
      "source": [
        "!pip3 install torch torchvision torchaudio"
      ]
    },
    {
      "cell_type": "markdown",
      "id": "43cac99d",
      "metadata": {
        "direction": "rtl",
        "id": "43cac99d"
      },
      "source": [
        "<p style=\"font-family:B Nazanin\" dir=\"rtl\">\n",
        "    برای استفاده از این کتابخانه باید ماژول <code>torch</code> را وارد کنیم.\n",
        "</p>"
      ]
    },
    {
      "cell_type": "code",
      "execution_count": 2,
      "id": "95f78177",
      "metadata": {
        "id": "95f78177"
      },
      "outputs": [],
      "source": [
        "import torch\n",
        "import numpy as np\n",
        "import matplotlib.pyplot as plt"
      ]
    },
    {
      "cell_type": "markdown",
      "id": "4241a5ca",
      "metadata": {
        "direction": "rtl",
        "id": "4241a5ca"
      },
      "source": [
        "<p style=\"font-family:B Nazanin\" dir=\"rtl\">\n",
        "     یکی از مهم‌ترین قابلیت‌های کتابخانه PyTorch این است که می‌تواند کدها را روی GPU اجرا کند. برای بررسی این مورد که آیا GPU در دسترسی هست و می‌توانیم از آن استفاده کنیم دستور زیر را اجرا می‌کنیم:\n",
        "</p>"
      ]
    },
    {
      "cell_type": "code",
      "execution_count": null,
      "id": "4c341454",
      "metadata": {
        "colab": {
          "base_uri": "https://localhost:8080/"
        },
        "id": "4c341454",
        "outputId": "31f46aaa-2790-4a89-8954-f81ab2184cf4"
      },
      "outputs": [
        {
          "output_type": "execute_result",
          "data": {
            "text/plain": [
              "True"
            ]
          },
          "metadata": {},
          "execution_count": 2
        }
      ],
      "source": [
        "torch.cuda.is_available()"
      ]
    },
    {
      "cell_type": "markdown",
      "source": [
        "<p style=\"font-family:B Nazanin\" dir=\"rtl\">\n",
        "    برای یافتن اطلاعات پردازنده گرافیکی که در حال حاضر فعال است از دستورات زیر در محیط ترمینال استفاده می‌کنیم:\n",
        "</p>"
      ],
      "metadata": {
        "id": "bikR8SXL05XJ"
      },
      "id": "bikR8SXL05XJ"
    },
    {
      "cell_type": "code",
      "source": [
        "!nvidia-smi # برای پردازنده‌های گرافیکی برند NVIDIA"
      ],
      "metadata": {
        "id": "WqGbfLgJ1hPb",
        "outputId": "908077e0-ac82-4814-89ea-c5109287f2e9",
        "colab": {
          "base_uri": "https://localhost:8080/"
        }
      },
      "id": "WqGbfLgJ1hPb",
      "execution_count": null,
      "outputs": [
        {
          "output_type": "stream",
          "name": "stdout",
          "text": [
            "Fri Oct  4 14:02:52 2024       \n",
            "+---------------------------------------------------------------------------------------+\n",
            "| NVIDIA-SMI 535.104.05             Driver Version: 535.104.05   CUDA Version: 12.2     |\n",
            "|-----------------------------------------+----------------------+----------------------+\n",
            "| GPU  Name                 Persistence-M | Bus-Id        Disp.A | Volatile Uncorr. ECC |\n",
            "| Fan  Temp   Perf          Pwr:Usage/Cap |         Memory-Usage | GPU-Util  Compute M. |\n",
            "|                                         |                      |               MIG M. |\n",
            "|=========================================+======================+======================|\n",
            "|   0  Tesla T4                       Off | 00000000:00:04.0 Off |                    0 |\n",
            "| N/A   48C    P8              11W /  70W |      3MiB / 15360MiB |      0%      Default |\n",
            "|                                         |                      |                  N/A |\n",
            "+-----------------------------------------+----------------------+----------------------+\n",
            "                                                                                         \n",
            "+---------------------------------------------------------------------------------------+\n",
            "| Processes:                                                                            |\n",
            "|  GPU   GI   CI        PID   Type   Process name                            GPU Memory |\n",
            "|        ID   ID                                                             Usage      |\n",
            "|=======================================================================================|\n",
            "|  No running processes found                                                           |\n",
            "+---------------------------------------------------------------------------------------+\n"
          ]
        }
      ]
    },
    {
      "cell_type": "markdown",
      "source": [
        "<p style=\"font-family:B Nazanin\" dir=\"rtl\">\n",
        "    <b>انواع داده در PyTorch:</b> در کتابخانه PyTorch نوع داده‌های زیر وجود دارد که مقادیر بر اساس این نوع داده‌ها می‌توانند ذخیره شوند:<br>\n",
        "    * torch.float32 یا torch.float: اعداد اعشاری که 32 بیت فضا مصرف می‌کنند.<br>\n",
        "    * torch.float64 یا torch.double: اعداد اعشاری دقیق‌تر که 64 بیت فضا مصرف می‌کنند.<br>\n",
        "    * torch.float16 یا torch.half: اعداد اعشاری که 16 بیت فضا مصرف می‌کنند.<br>\n",
        "    * torch.int8: اعداد صحیح 8 بیتی (از -128 تا +127)<br>\n",
        "    * torch.int16 یا torch.short: اعداد صحیح 16 بیتی<br>\n",
        "    * torch.int32 یا torch.int: اعداد صحیح 32 بیتی<br>\n",
        "    * torch.int64 یا torch.long: اعداد صحیح 6 بیتی<br>\n",
        "    * torch.uint8: اعداد صحیح بدون علامت 8 بیتی (از صفر تا 255)<br>\n",
        "    * torch.bool: متغیرهای منطقی (درست یا غلط)<br>\n",
        "    * torch.bfloat16: اعداد اعشاری بهبودیافته نوع float با اندازه 32 بیت\n",
        "</p>"
      ],
      "metadata": {
        "id": "KjVnwFlm2xFP"
      },
      "id": "KjVnwFlm2xFP"
    },
    {
      "cell_type": "markdown",
      "source": [
        "<p style=\"font-family:B Nazanin\" dir=\"rtl\">\n",
        "    <b>تنسور:</b><br>\n",
        "    همان طور که می‌دانید مقادیر و داده‌ها می‌توانند در چند بعد ایجاد و ذخیره شوند. <br>\n",
        "    داده‌های تکی یا بدون بعد را داده‌های اسکالر می‌گویند. مانند 25 یا 12.3. <br>\n",
        "    داده‌هایی که در یک بعد ذخیره شوند را بردار می‌گویند. مانند:‌ [1,2,3] <br>\n",
        "    داده‌هایی که در دو بعد ذخیره شوند را ماتریس می‌گویند. مانند: [[1,2,3],[4,5,6]]<br>\n",
        "    داده‌هایی که در ابعاد بزرگتر از دو ایجاد شوند را تنسور (Tensor) می‌گویند.\n",
        "</p>"
      ],
      "metadata": {
        "id": "ORlN3bdW6XJ3"
      },
      "id": "ORlN3bdW6XJ3"
    },
    {
      "cell_type": "markdown",
      "source": [
        "<p style=\"font-family:B Nazanin\" dir=\"rtl\">\n",
        "    تمامی داده‌ها از اسکالر تا داده‌های چندبعدی را می‌تواند در قالب تنسور در کتابخانه PyTorch ایجاد کرد. برای ایجاد داده اسکالر به صورت زیر عمل می‌کنیم:\n",
        "</p>"
      ],
      "metadata": {
        "id": "CHz-ilwd7Zg9"
      },
      "id": "CHz-ilwd7Zg9"
    },
    {
      "cell_type": "code",
      "source": [
        "scaler_data1 = torch.tensor(12)\n",
        "print(scaler_data1)"
      ],
      "metadata": {
        "id": "baa_PzOl7nlF",
        "outputId": "599efec6-ebcd-4696-e6dc-f8a4c541ae8e",
        "colab": {
          "base_uri": "https://localhost:8080/"
        }
      },
      "id": "baa_PzOl7nlF",
      "execution_count": null,
      "outputs": [
        {
          "output_type": "stream",
          "name": "stdout",
          "text": [
            "tensor(12)\n"
          ]
        }
      ]
    },
    {
      "cell_type": "markdown",
      "source": [
        "<p style=\"font-family:B Nazanin\" dir=\"rtl\">\n",
        "    نوع داده‌ای این متغیر را به صورت زیر می‌توانیم ببینیم:\n",
        "</p>"
      ],
      "metadata": {
        "id": "-dVCLyiX7wCg"
      },
      "id": "-dVCLyiX7wCg"
    },
    {
      "cell_type": "code",
      "source": [
        "scaler_data1.dtype"
      ],
      "metadata": {
        "id": "sDp89AtT7vEL",
        "outputId": "83abe804-ed73-46f6-f3d3-d627050f5fd6",
        "colab": {
          "base_uri": "https://localhost:8080/"
        }
      },
      "id": "sDp89AtT7vEL",
      "execution_count": null,
      "outputs": [
        {
          "output_type": "execute_result",
          "data": {
            "text/plain": [
              "torch.int64"
            ]
          },
          "metadata": {},
          "execution_count": 8
        }
      ]
    },
    {
      "cell_type": "markdown",
      "source": [
        "<p style=\"font-family:B Nazanin\" dir=\"rtl\">\n",
        "    ابعاد این متغیر را به صورت زیر می‌توانیم ببینیم:\n",
        "</p>"
      ],
      "metadata": {
        "id": "z0eWsC7g76ki"
      },
      "id": "z0eWsC7g76ki"
    },
    {
      "cell_type": "code",
      "source": [
        "scaler_data1.shape"
      ],
      "metadata": {
        "id": "0uHUWx8V7-3Y",
        "outputId": "9a6bc6df-42f5-4854-8693-3310ef53c261",
        "colab": {
          "base_uri": "https://localhost:8080/"
        }
      },
      "id": "0uHUWx8V7-3Y",
      "execution_count": null,
      "outputs": [
        {
          "output_type": "execute_result",
          "data": {
            "text/plain": [
              "torch.Size([])"
            ]
          },
          "metadata": {},
          "execution_count": 9
        }
      ]
    },
    {
      "cell_type": "code",
      "source": [
        "scaler_data1.size()"
      ],
      "metadata": {
        "id": "NWe9fqXO8AfC",
        "outputId": "1411394e-3711-4e9f-cc4e-32a6edd1b5fe",
        "colab": {
          "base_uri": "https://localhost:8080/"
        }
      },
      "id": "NWe9fqXO8AfC",
      "execution_count": null,
      "outputs": [
        {
          "output_type": "execute_result",
          "data": {
            "text/plain": [
              "torch.Size([])"
            ]
          },
          "metadata": {},
          "execution_count": 11
        }
      ]
    },
    {
      "cell_type": "markdown",
      "source": [
        "<p style=\"font-family:B Nazanin\" dir=\"rtl\">\n",
        "    برای اینکه ببینیم این متغیر روی چه دستگاهی (cpu یا gpu) ایجاد شده است، از دستور زیر استفاده می‌کنیم:\n",
        "</p>"
      ],
      "metadata": {
        "id": "xeJsGSTh8GMJ"
      },
      "id": "xeJsGSTh8GMJ"
    },
    {
      "cell_type": "code",
      "source": [
        "scaler_data1.device"
      ],
      "metadata": {
        "id": "82dUKwaa8SS-",
        "outputId": "d88e87ca-078e-42fd-d387-d701e8a8a1ce",
        "colab": {
          "base_uri": "https://localhost:8080/"
        }
      },
      "id": "82dUKwaa8SS-",
      "execution_count": null,
      "outputs": [
        {
          "output_type": "execute_result",
          "data": {
            "text/plain": [
              "device(type='cpu')"
            ]
          },
          "metadata": {},
          "execution_count": 12
        }
      ]
    },
    {
      "cell_type": "markdown",
      "source": [
        "<p style=\"font-family:B Nazanin\" dir=\"rtl\">\n",
        "    با اینکه استفاده از GPU فعال شده است ولی به صورت پیش‌فرض متغیرها روی CPU ساخته می‌شوند. برای ایجاد متغیر روی GPU در هنگام ساخت متغیر باید این مسئله را مشخص کنیم.\n",
        "</p>"
      ],
      "metadata": {
        "id": "lkudl0CN8Wg-"
      },
      "id": "lkudl0CN8Wg-"
    },
    {
      "cell_type": "code",
      "source": [
        "scaler_data2 = torch.tensor(56.7)\n",
        "print(scaler_data2)\n",
        "print(scaler_data2.dtype)\n",
        "print(scaler_data2.shape)\n",
        "print(scaler_data2.device)"
      ],
      "metadata": {
        "id": "JLzVEoYi8l7N",
        "outputId": "c139cb42-94b2-4946-c51a-4f1fc6c06c6e",
        "colab": {
          "base_uri": "https://localhost:8080/"
        }
      },
      "id": "JLzVEoYi8l7N",
      "execution_count": null,
      "outputs": [
        {
          "output_type": "stream",
          "name": "stdout",
          "text": [
            "tensor(56.7000)\n",
            "torch.float32\n",
            "torch.Size([])\n",
            "cpu\n"
          ]
        }
      ]
    },
    {
      "cell_type": "code",
      "source": [
        "scaler_data3 = torch.tensor(True)\n",
        "print(scaler_data3)\n",
        "print(scaler_data3.dtype)\n",
        "print(scaler_data3.shape)\n",
        "print(scaler_data3.device)"
      ],
      "metadata": {
        "id": "tFMYMTAp9EnX",
        "outputId": "fd263829-9107-491a-c950-8cb1eaccb7a9",
        "colab": {
          "base_uri": "https://localhost:8080/"
        }
      },
      "id": "tFMYMTAp9EnX",
      "execution_count": null,
      "outputs": [
        {
          "output_type": "stream",
          "name": "stdout",
          "text": [
            "tensor(True)\n",
            "torch.bool\n",
            "torch.Size([])\n",
            "cpu\n"
          ]
        }
      ]
    },
    {
      "cell_type": "code",
      "source": [
        "scaler_data4 = torch.tensor(12, dtype=torch.float64)\n",
        "print(scaler_data4)\n",
        "print(scaler_data4.dtype)\n",
        "print(scaler_data4.shape)\n",
        "print(scaler_data4.device)"
      ],
      "metadata": {
        "id": "cc-TixaK9Qa3",
        "outputId": "b91d633d-a3e3-4b79-f96d-6fc4f8abc0d2",
        "colab": {
          "base_uri": "https://localhost:8080/"
        }
      },
      "id": "cc-TixaK9Qa3",
      "execution_count": null,
      "outputs": [
        {
          "output_type": "stream",
          "name": "stdout",
          "text": [
            "tensor(12., dtype=torch.float64)\n",
            "torch.float64\n",
            "torch.Size([])\n",
            "cpu\n"
          ]
        }
      ]
    },
    {
      "cell_type": "markdown",
      "source": [
        "<p style=\"font-family:B Nazanin\" dir=\"rtl\">\n",
        "    برای ایجاد یک متغیر روی GPU باید مقدار پارامتر device را هنگام تعریف متغیر برابر با cuda بگذاریم.\n",
        "</p>"
      ],
      "metadata": {
        "id": "nSiSYUof9lCx"
      },
      "id": "nSiSYUof9lCx"
    },
    {
      "cell_type": "code",
      "source": [
        "scaler_data5 = torch.tensor(12, dtype=torch.float64, device='cuda')\n",
        "print(scaler_data5)\n",
        "print(scaler_data5.dtype)\n",
        "print(scaler_data5.shape)\n",
        "print(scaler_data5.device)"
      ],
      "metadata": {
        "id": "A4uc4rfS907o",
        "outputId": "8be3790c-f8b3-46ab-b37a-df0081f69d3e",
        "colab": {
          "base_uri": "https://localhost:8080/"
        }
      },
      "id": "A4uc4rfS907o",
      "execution_count": null,
      "outputs": [
        {
          "output_type": "stream",
          "name": "stdout",
          "text": [
            "tensor(12., device='cuda:0', dtype=torch.float64)\n",
            "torch.float64\n",
            "torch.Size([])\n",
            "cuda:0\n"
          ]
        }
      ]
    },
    {
      "cell_type": "markdown",
      "source": [
        "<p style=\"font-family:B Nazanin\" dir=\"rtl\">\n",
        "    برای ایجاد بردار در قالب تنسور به صورت زیر عمل می‌کنیم:\n",
        "</p>"
      ],
      "metadata": {
        "id": "SWZospF7-M3H"
      },
      "id": "SWZospF7-M3H"
    },
    {
      "cell_type": "code",
      "source": [
        "vector_data1 = torch.tensor([213,54,5,5,4,343,234])\n",
        "print(vector_data1)\n",
        "print(vector_data1.dtype)\n",
        "print(vector_data1.shape)"
      ],
      "metadata": {
        "id": "MZTHmFip-S6b",
        "outputId": "3eedeb4a-450f-4279-d401-c996462f9bcd",
        "colab": {
          "base_uri": "https://localhost:8080/"
        }
      },
      "id": "MZTHmFip-S6b",
      "execution_count": null,
      "outputs": [
        {
          "output_type": "stream",
          "name": "stdout",
          "text": [
            "tensor([213,  54,   5,   5,   4, 343, 234])\n",
            "torch.int64\n",
            "torch.Size([7])\n"
          ]
        }
      ]
    },
    {
      "cell_type": "markdown",
      "source": [
        "<p style=\"font-family:B Nazanin\" dir=\"rtl\">\n",
        "    اگر حتی یکی از اعداد بردارد به صورت اعشاری باشد، کل بردار به صورت اعشاری ذخیره می‌شود:\n",
        "</p>"
      ],
      "metadata": {
        "id": "y-9ZVs9w_vEj"
      },
      "id": "y-9ZVs9w_vEj"
    },
    {
      "cell_type": "code",
      "source": [
        "vector_data2 = torch.tensor([3,5,6.45,30,41])\n",
        "print(vector_data2)\n",
        "print(vector_data2.dtype)\n",
        "print(vector_data2.shape)"
      ],
      "metadata": {
        "id": "rGRF0pIl_1cl",
        "outputId": "8fe5a959-f252-421c-9637-4038f4fe03a8",
        "colab": {
          "base_uri": "https://localhost:8080/"
        }
      },
      "id": "rGRF0pIl_1cl",
      "execution_count": null,
      "outputs": [
        {
          "output_type": "stream",
          "name": "stdout",
          "text": [
            "tensor([ 3.0000,  5.0000,  6.4500, 30.0000, 41.0000])\n",
            "torch.float32\n",
            "torch.Size([5])\n"
          ]
        }
      ]
    },
    {
      "cell_type": "markdown",
      "source": [
        "<p style=\"font-family:B Nazanin\" dir=\"rtl\">\n",
        "    برای ذخیره کردن ماتریس‌ها به صورت زیر عمل می‌کنیم:\n",
        "</p>"
      ],
      "metadata": {
        "id": "k3a23McQAO2l"
      },
      "id": "k3a23McQAO2l"
    },
    {
      "cell_type": "code",
      "source": [
        "mat_data1 = torch.tensor([\n",
        "    [1,2,3],\n",
        "    [4,5,6],\n",
        "    [7,8,9],\n",
        "    [10,11,12]\n",
        "])\n",
        "print(mat_data1)\n",
        "print(mat_data1.dtype)\n",
        "print(mat_data1.shape)\n",
        "print(mat_data1.size())\n",
        "print(mat_data1.device)"
      ],
      "metadata": {
        "id": "R692J8ryAT-D",
        "outputId": "87963905-b682-4b7c-8131-b40e69de01ee",
        "colab": {
          "base_uri": "https://localhost:8080/"
        }
      },
      "id": "R692J8ryAT-D",
      "execution_count": null,
      "outputs": [
        {
          "output_type": "stream",
          "name": "stdout",
          "text": [
            "tensor([[ 1,  2,  3],\n",
            "        [ 4,  5,  6],\n",
            "        [ 7,  8,  9],\n",
            "        [10, 11, 12]])\n",
            "torch.int64\n",
            "torch.Size([4, 3])\n",
            "torch.Size([4, 3])\n",
            "cpu\n"
          ]
        }
      ]
    },
    {
      "cell_type": "code",
      "source": [
        "print(mat_data1.shape[0])"
      ],
      "metadata": {
        "id": "C4ye-k07AoMK",
        "outputId": "1d356bc2-d79b-49c5-a647-c563cbac6b6f",
        "colab": {
          "base_uri": "https://localhost:8080/"
        }
      },
      "id": "C4ye-k07AoMK",
      "execution_count": null,
      "outputs": [
        {
          "output_type": "stream",
          "name": "stdout",
          "text": [
            "4\n"
          ]
        }
      ]
    },
    {
      "cell_type": "markdown",
      "source": [
        "<p style=\"font-family:B Nazanin\" dir=\"rtl\">\n",
        "    برای تعریف تنسور (داده‌های چندبعدی) به صورت زیر عمل می‌کنیم:\n",
        "</p>"
      ],
      "metadata": {
        "id": "ac7oDmUVA3TA"
      },
      "id": "ac7oDmUVA3TA"
    },
    {
      "cell_type": "code",
      "source": [
        "td_data1 = torch.tensor([\n",
        "    [[1,2,3],\n",
        "    [4,5,6],\n",
        "    [7,8,9],\n",
        "    [10,11,12]],\n",
        "    [[1,2,3],\n",
        "    [4,5,6],\n",
        "    [7,8,9],\n",
        "    [10,11,12]]\n",
        "])\n",
        "print(td_data1)\n",
        "print(td_data1.dtype)\n",
        "print(td_data1.shape)\n",
        "print(td_data1.device)"
      ],
      "metadata": {
        "id": "kpeT6rVUA-6U",
        "outputId": "ab5fb71a-11af-4662-f53d-a42637054a33",
        "colab": {
          "base_uri": "https://localhost:8080/"
        }
      },
      "id": "kpeT6rVUA-6U",
      "execution_count": null,
      "outputs": [
        {
          "output_type": "stream",
          "name": "stdout",
          "text": [
            "tensor([[[ 1,  2,  3],\n",
            "         [ 4,  5,  6],\n",
            "         [ 7,  8,  9],\n",
            "         [10, 11, 12]],\n",
            "\n",
            "        [[ 1,  2,  3],\n",
            "         [ 4,  5,  6],\n",
            "         [ 7,  8,  9],\n",
            "         [10, 11, 12]]])\n",
            "torch.int64\n",
            "torch.Size([2, 4, 3])\n",
            "cpu\n"
          ]
        }
      ]
    },
    {
      "cell_type": "markdown",
      "source": [
        "<p style=\"font-family:B Nazanin\" dir=\"rtl\">\n",
        "    متغیری که روی CPU تعریف شده است را با استفاده از تابع <code>cuda()</code> می‌توان به یک متغیر که روی GPU‌ تعریف شده است، تبدیل کرد.\n",
        "</p>"
      ],
      "metadata": {
        "id": "8oXT1b3LBRTt"
      },
      "id": "8oXT1b3LBRTt"
    },
    {
      "cell_type": "code",
      "source": [
        "td_data1 = td_data1.cuda()\n",
        "print(td_data1.device)"
      ],
      "metadata": {
        "id": "baFZLuE_Bd3C",
        "outputId": "518690c0-7029-42bf-86d8-591e844795ce",
        "colab": {
          "base_uri": "https://localhost:8080/"
        }
      },
      "id": "baFZLuE_Bd3C",
      "execution_count": null,
      "outputs": [
        {
          "output_type": "stream",
          "name": "stdout",
          "text": [
            "cuda:0\n"
          ]
        }
      ]
    },
    {
      "cell_type": "markdown",
      "source": [
        "<p style=\"font-family:B Nazanin\" dir=\"rtl\">\n",
        "    برای تغییر نوع داده یک متغیر به دو روش می‌توان عمل کرد. روش اول استفاده از یک تابع است همنام با نوع داده‌ای که می‌خواهیم به متغیر را به آن تغییر دهیم. مثلا اگر می‌خواهیم یک متغیر صحیح را به اعشاری تبدیل کنیم، از تابع <code>float()</code> استفاده می‌کنیم.\n",
        "</p>"
      ],
      "metadata": {
        "id": "C-ZHjEfRB9ut"
      },
      "id": "C-ZHjEfRB9ut"
    },
    {
      "cell_type": "code",
      "source": [
        "data1 = torch.tensor([12,345,67,72])\n",
        "print(data1.dtype)"
      ],
      "metadata": {
        "id": "xGUyyTuICVbI",
        "outputId": "246cc388-f9a4-4053-98fd-572c55d2df74",
        "colab": {
          "base_uri": "https://localhost:8080/"
        }
      },
      "id": "xGUyyTuICVbI",
      "execution_count": null,
      "outputs": [
        {
          "output_type": "stream",
          "name": "stdout",
          "text": [
            "torch.int64\n"
          ]
        }
      ]
    },
    {
      "cell_type": "code",
      "source": [
        "data1 = data1.float()\n",
        "print(data1.dtype)"
      ],
      "metadata": {
        "id": "_edmA3u-Cfkx",
        "outputId": "3b383057-7b58-488c-d7ab-ac4345ff7142",
        "colab": {
          "base_uri": "https://localhost:8080/"
        }
      },
      "id": "_edmA3u-Cfkx",
      "execution_count": null,
      "outputs": [
        {
          "output_type": "stream",
          "name": "stdout",
          "text": [
            "torch.float32\n"
          ]
        }
      ]
    },
    {
      "cell_type": "markdown",
      "source": [
        "<p style=\"font-family:B Nazanin\" dir=\"rtl\">\n",
        "    روش دوم استفاده از تابع <code>type()</code> است که نوع داده مورد نظر را به عنوان ورودی به آن می‌دهیم:\n",
        "</p>"
      ],
      "metadata": {
        "id": "AlS00gTxCk-l"
      },
      "id": "AlS00gTxCk-l"
    },
    {
      "cell_type": "code",
      "source": [
        "data1 = data1.type(torch.float16)\n",
        "print(data1.dtype)"
      ],
      "metadata": {
        "id": "1nYdJ0CeCu72",
        "outputId": "0fb757f6-5da2-4c23-9020-1feecd55d6bb",
        "colab": {
          "base_uri": "https://localhost:8080/"
        }
      },
      "id": "1nYdJ0CeCu72",
      "execution_count": null,
      "outputs": [
        {
          "output_type": "stream",
          "name": "stdout",
          "text": [
            "torch.float16\n"
          ]
        }
      ]
    },
    {
      "cell_type": "markdown",
      "source": [
        "<p style=\"font-family:B Nazanin\" dir=\"rtl\">\n",
        "    توابع پرکاربردی که در هنگام کار با تنسورها استفاده می‌شود به صورت زیر است:\n",
        "</p>"
      ],
      "metadata": {
        "id": "qiA0g7KbDD-O"
      },
      "id": "qiA0g7KbDD-O"
    },
    {
      "cell_type": "code",
      "source": [
        "data2 = torch.tensor([\n",
        "    [12,345,67,-72,67,24,46,78,21,-12,67,45],\n",
        "    [55,345,32,16,32,-6,17,78,49,-87,25,11]\n",
        "])"
      ],
      "metadata": {
        "id": "kD39-CXCDKMt"
      },
      "id": "kD39-CXCDKMt",
      "execution_count": null,
      "outputs": []
    },
    {
      "cell_type": "code",
      "source": [
        "print(f'Data: {data2}')"
      ],
      "metadata": {
        "id": "nDJ7UtF4DeBG",
        "outputId": "3bea7799-e637-4aa1-91db-a1aa802bbbb4",
        "colab": {
          "base_uri": "https://localhost:8080/"
        }
      },
      "id": "nDJ7UtF4DeBG",
      "execution_count": null,
      "outputs": [
        {
          "output_type": "stream",
          "name": "stdout",
          "text": [
            "Data: tensor([[ 12, 345,  67, -72,  67,  24,  46,  78,  21, -12,  67,  45],\n",
            "        [ 55, 345,  32,  16,  32,  -6,  17,  78,  49, -87,  25,  11]])\n"
          ]
        }
      ]
    },
    {
      "cell_type": "code",
      "source": [
        "print(f'Data Float: {data2.float()}')"
      ],
      "metadata": {
        "id": "D_AWgteSDg8L",
        "outputId": "2fad6c6a-ccac-4929-fa96-8dc3d88305b3",
        "colab": {
          "base_uri": "https://localhost:8080/"
        }
      },
      "id": "D_AWgteSDg8L",
      "execution_count": null,
      "outputs": [
        {
          "output_type": "stream",
          "name": "stdout",
          "text": [
            "Data Float: tensor([[ 12., 345.,  67., -72.,  67.,  24.,  46.,  78.,  21., -12.,  67.,  45.],\n",
            "        [ 55., 345.,  32.,  16.,  32.,  -6.,  17.,  78.,  49., -87.,  25.,  11.]])\n"
          ]
        }
      ]
    },
    {
      "cell_type": "code",
      "source": [
        "print(f'Min: {data2.min()}')"
      ],
      "metadata": {
        "id": "uYtvR4fRDmS-",
        "outputId": "9b78ff2b-625d-4c85-d2d5-238d0daf439e",
        "colab": {
          "base_uri": "https://localhost:8080/"
        }
      },
      "id": "uYtvR4fRDmS-",
      "execution_count": null,
      "outputs": [
        {
          "output_type": "stream",
          "name": "stdout",
          "text": [
            "Min: -87\n"
          ]
        }
      ]
    },
    {
      "cell_type": "code",
      "source": [
        "print(f'Max: {data2.max()}')"
      ],
      "metadata": {
        "id": "7iuus40eDqOi",
        "outputId": "27ef96dc-c1f7-4f09-ecc9-d1b567abdc7d",
        "colab": {
          "base_uri": "https://localhost:8080/"
        }
      },
      "id": "7iuus40eDqOi",
      "execution_count": null,
      "outputs": [
        {
          "output_type": "stream",
          "name": "stdout",
          "text": [
            "Max: 345\n"
          ]
        }
      ]
    },
    {
      "cell_type": "code",
      "source": [
        "print(f'Sum: {data2.sum()}')"
      ],
      "metadata": {
        "id": "GeJMfvNuDsli",
        "outputId": "a4e825b5-4704-4204-9e75-cf613874bea8",
        "colab": {
          "base_uri": "https://localhost:8080/"
        }
      },
      "id": "GeJMfvNuDsli",
      "execution_count": null,
      "outputs": [
        {
          "output_type": "stream",
          "name": "stdout",
          "text": [
            "Sum: 1255\n"
          ]
        }
      ]
    },
    {
      "cell_type": "code",
      "source": [
        "print(f'Mode: {data2.float().mode()}')"
      ],
      "metadata": {
        "id": "XP8u19NUDwdQ",
        "outputId": "00f8314c-fbce-4a36-bd7b-f7a865082c04",
        "colab": {
          "base_uri": "https://localhost:8080/"
        }
      },
      "id": "XP8u19NUDwdQ",
      "execution_count": null,
      "outputs": [
        {
          "output_type": "stream",
          "name": "stdout",
          "text": [
            "Mode: torch.return_types.mode(\n",
            "values=tensor([67., 32.]),\n",
            "indices=tensor([10,  4]))\n"
          ]
        }
      ]
    },
    {
      "cell_type": "code",
      "source": [
        "print(f'Median: {data2.float().median()}')"
      ],
      "metadata": {
        "id": "0KsH6ww1D5hX",
        "outputId": "612c128f-345f-4708-eb15-1112e1cd1bd8",
        "colab": {
          "base_uri": "https://localhost:8080/"
        }
      },
      "id": "0KsH6ww1D5hX",
      "execution_count": null,
      "outputs": [
        {
          "output_type": "stream",
          "name": "stdout",
          "text": [
            "Median: 32.0\n"
          ]
        }
      ]
    },
    {
      "cell_type": "code",
      "source": [
        "print(f'Mean: {data2.float().mean()}')"
      ],
      "metadata": {
        "id": "mQ2pEZ5qD9Kk",
        "outputId": "b5f3eff1-c54e-48b3-c15c-ce1c4e245365",
        "colab": {
          "base_uri": "https://localhost:8080/"
        }
      },
      "id": "mQ2pEZ5qD9Kk",
      "execution_count": null,
      "outputs": [
        {
          "output_type": "stream",
          "name": "stdout",
          "text": [
            "Mean: 52.29166793823242\n"
          ]
        }
      ]
    },
    {
      "cell_type": "code",
      "source": [
        "print(f'Var: {data2.float().var()}')"
      ],
      "metadata": {
        "id": "EsU_CXNaD_XE",
        "outputId": "a8ed870a-be29-4bdf-f18b-ad63214aebb2",
        "colab": {
          "base_uri": "https://localhost:8080/"
        }
      },
      "id": "EsU_CXNaD_XE",
      "execution_count": null,
      "outputs": [
        {
          "output_type": "stream",
          "name": "stdout",
          "text": [
            "Var: 9785.171875\n"
          ]
        }
      ]
    },
    {
      "cell_type": "code",
      "source": [
        "print(f'Std: {data2.float().std()}')"
      ],
      "metadata": {
        "id": "02DexSqKERPw",
        "outputId": "e09e4895-837f-4ecf-fa57-87acc158e982",
        "colab": {
          "base_uri": "https://localhost:8080/"
        }
      },
      "id": "02DexSqKERPw",
      "execution_count": null,
      "outputs": [
        {
          "output_type": "stream",
          "name": "stdout",
          "text": [
            "Std: 98.92002868652344\n"
          ]
        }
      ]
    },
    {
      "cell_type": "code",
      "source": [
        "print(f'Abs: {data2.abs()}')"
      ],
      "metadata": {
        "id": "HQq2xrxkEW9M",
        "outputId": "f05173d8-e544-4494-fec4-8cdf071457d2",
        "colab": {
          "base_uri": "https://localhost:8080/"
        }
      },
      "id": "HQq2xrxkEW9M",
      "execution_count": null,
      "outputs": [
        {
          "output_type": "stream",
          "name": "stdout",
          "text": [
            "Abs: tensor([[ 12, 345,  67,  72,  67,  24,  46,  78,  21,  12,  67,  45],\n",
            "        [ 55, 345,  32,  16,  32,   6,  17,  78,  49,  87,  25,  11]])\n"
          ]
        }
      ]
    },
    {
      "cell_type": "code",
      "source": [
        "print(f'Transpose: {data2.t()}')"
      ],
      "metadata": {
        "id": "JjBMFkmjEaCu",
        "outputId": "fee255d1-d0b2-4f90-c63b-fbf35603b563",
        "colab": {
          "base_uri": "https://localhost:8080/"
        }
      },
      "id": "JjBMFkmjEaCu",
      "execution_count": null,
      "outputs": [
        {
          "output_type": "stream",
          "name": "stdout",
          "text": [
            "Transpose: tensor([[ 12,  55],\n",
            "        [345, 345],\n",
            "        [ 67,  32],\n",
            "        [-72,  16],\n",
            "        [ 67,  32],\n",
            "        [ 24,  -6],\n",
            "        [ 46,  17],\n",
            "        [ 78,  78],\n",
            "        [ 21,  49],\n",
            "        [-12, -87],\n",
            "        [ 67,  25],\n",
            "        [ 45,  11]])\n"
          ]
        }
      ]
    },
    {
      "cell_type": "markdown",
      "source": [
        "<p style=\"font-family:B Nazanin\" dir=\"rtl\">\n",
        "    برای گرد کردن اعداد از توابع زیر می‌توانیم استفاده کنیم:‌<br>\n",
        "    * تابع <code>ceil()</code>: اعداد را به اولین عدد صحیح بزرگتر از خودش گرد می‌کند.<br>\n",
        "    * تابع <code>floor()</code>: اعداد را به اولین عدد کوچکتر از خودش گرد می‌کند. <br>\n",
        "    * تابع <code>fix()</code>: قسمت اعشار عدد را حذف می‌کند و قسمت صحیح را نگه می‌دارد.<br>\n",
        "    * تابع <code>round()</code>: اعداد را به نزدیک‌ترین عدد صحیح گرد می‌کند.\n",
        "</p>"
      ],
      "metadata": {
        "id": "e0M0KckhFA0D"
      },
      "id": "e0M0KckhFA0D"
    },
    {
      "cell_type": "code",
      "source": [
        "data3 = torch.tensor([2.3456, 15.890324, 9., -3.48, 3.48, 17.6210, 100, 99.999])\n",
        "print(f'Data\\t:\\t{data3}')\n",
        "print(f'Ceil\\t:\\t{data3.ceil()}')\n",
        "print(f'Floor\\t:\\t{data3.floor()}')\n",
        "print(f'Fix\\t:\\t{data3.fix()}')\n",
        "print(f'Round\\t:\\t{data3.round()}')"
      ],
      "metadata": {
        "id": "MKDAs6EiEcy-",
        "outputId": "05a9149e-01c3-46b2-eb85-cd2309e87e29",
        "colab": {
          "base_uri": "https://localhost:8080/"
        }
      },
      "id": "MKDAs6EiEcy-",
      "execution_count": null,
      "outputs": [
        {
          "output_type": "stream",
          "name": "stdout",
          "text": [
            "Data\t:\ttensor([  2.3456,  15.8903,   9.0000,  -3.4800,   3.4800,  17.6210, 100.0000,\n",
            "         99.9990])\n",
            "Ceil\t:\ttensor([  3.,  16.,   9.,  -3.,   4.,  18., 100., 100.])\n",
            "Floor\t:\ttensor([  2.,  15.,   9.,  -4.,   3.,  17., 100.,  99.])\n",
            "Fix\t:\ttensor([  2.,  15.,   9.,  -3.,   3.,  17., 100.,  99.])\n",
            "Round\t:\ttensor([  2.,  16.,   9.,  -3.,   3.,  18., 100., 100.])\n"
          ]
        }
      ]
    },
    {
      "cell_type": "markdown",
      "source": [
        "<p style=\"font-family:B Nazanin\" dir=\"rtl\">\n",
        "    توابع <code>argmax()</code> و <code>argmin()</code> اندیس بزرگترین و کوچکترین داده‌های یک تنسور را مشخص می‌کند.\n",
        "</p>"
      ],
      "metadata": {
        "id": "v8oU9t31GbDX"
      },
      "id": "v8oU9t31GbDX"
    },
    {
      "cell_type": "code",
      "source": [
        "data4 = torch.tensor([2, 45, 15, 9., -3, 3, 17, 99, 38, 26])\n",
        "print(f'Data\\t:\\t{data4}')\n",
        "print(f'Argmax\\t:\\t{torch.argmax(data4)}')\n",
        "print(f'Argmin\\t:\\t{torch.argmin(data4)}')"
      ],
      "metadata": {
        "id": "GaxSVCVJGo9V",
        "outputId": "1b6bb588-db0e-40fd-97ca-625766fd9aea",
        "colab": {
          "base_uri": "https://localhost:8080/"
        }
      },
      "id": "GaxSVCVJGo9V",
      "execution_count": null,
      "outputs": [
        {
          "output_type": "stream",
          "name": "stdout",
          "text": [
            "Data\t:\ttensor([ 2., 45., 15.,  9., -3.,  3., 17., 99., 38., 26.])\n",
            "Argmax\t:\t7\n",
            "Argmin\t:\t4\n"
          ]
        }
      ]
    },
    {
      "cell_type": "markdown",
      "source": [
        "<p style=\"font-family:B Nazanin\" dir=\"rtl\">\n",
        "    تابع <coed>topk()</code> با گرفتن پارامتر k، تعداد kتا از بزرگترین داده‌های تنسور را برمی‌گرداند.\n",
        "</p>"
      ],
      "metadata": {
        "id": "b5fPQKPxG4YE"
      },
      "id": "b5fPQKPxG4YE"
    },
    {
      "cell_type": "code",
      "source": [
        "print(f'topk:\\n{torch.topk(data4, 3)}')"
      ],
      "metadata": {
        "id": "jZrUYkWVHObs",
        "outputId": "4b2d5ee7-b9e6-42cd-a211-bd10cd5a1fce",
        "colab": {
          "base_uri": "https://localhost:8080/"
        }
      },
      "id": "jZrUYkWVHObs",
      "execution_count": null,
      "outputs": [
        {
          "output_type": "stream",
          "name": "stdout",
          "text": [
            "topk:\n",
            "torch.return_types.topk(\n",
            "values=tensor([99., 45., 38.]),\n",
            "indices=tensor([7, 1, 8]))\n"
          ]
        }
      ]
    },
    {
      "cell_type": "markdown",
      "source": [
        "<p style=\"font-family:B Nazanin\" dir=\"rtl\">\n",
        "    تابع <code>norm()</code>، نرم یک تنسور را محاسبه می‌کند. در مثال زیر، نرم اقلیدسی محاسبه شده است:\n",
        "</p>"
      ],
      "metadata": {
        "id": "tMj61pR3Hh-A"
      },
      "id": "tMj61pR3Hh-A"
    },
    {
      "cell_type": "code",
      "source": [
        "print(f'Euclidean Norm (L2 Norm): {torch.norm(data4, p=2)}')"
      ],
      "metadata": {
        "id": "PBtSzXERHo_r",
        "outputId": "c0466003-81d5-4ae1-8012-154ead6ddab6",
        "colab": {
          "base_uri": "https://localhost:8080/"
        }
      },
      "id": "PBtSzXERHo_r",
      "execution_count": null,
      "outputs": [
        {
          "output_type": "stream",
          "name": "stdout",
          "text": [
            "Euclidean Norm (L2 Norm): 120.67725372314453\n"
          ]
        }
      ]
    },
    {
      "cell_type": "markdown",
      "source": [
        "<p style=\"font-family:B Nazanin\" dir=\"rtl\">\n",
        "    تابع <code>remainder()</code> باقیمانده تقسیم داده‌های یک تنسور بر یک عدد مشخص را محاسبه می‌کند:\n",
        "</p>"
      ],
      "metadata": {
        "id": "_jKS2cmwH4gD"
      },
      "id": "_jKS2cmwH4gD"
    },
    {
      "cell_type": "code",
      "source": [
        "print(f'Remainder of division by 7: {torch.remainder(data4, 7)}')"
      ],
      "metadata": {
        "id": "EOGQyiCwH2i5",
        "outputId": "99d199c0-3f13-4c9c-a83a-281b018ed9b0",
        "colab": {
          "base_uri": "https://localhost:8080/"
        }
      },
      "id": "EOGQyiCwH2i5",
      "execution_count": null,
      "outputs": [
        {
          "output_type": "stream",
          "name": "stdout",
          "text": [
            "Remainder of division by 7: tensor([2., 3., 1., 2., 4., 3., 3., 1., 3., 5.])\n"
          ]
        }
      ]
    },
    {
      "cell_type": "markdown",
      "source": [
        "<p style=\"font-family:B Nazanin\" dir=\"rtl\">\n",
        "    برای تابعی مانند <code>sum()</code> می‌توان پارامتر دومی را مشخص کرد که به جای محاسبه مجموع همه اعداد تنسور، مجموع اعداد هر یک از ابعاد را مشخص کند.\n",
        "</p>"
      ],
      "metadata": {
        "id": "uB05H7l-IZ7I"
      },
      "id": "uB05H7l-IZ7I"
    },
    {
      "cell_type": "code",
      "source": [
        "data3 = torch.tensor([1,2,3,4,5,8])\n",
        "data4 = torch.tensor([[1,2,3,4,5,8], [10, 20, 30, 40, 50, 80]])\n",
        "\n",
        "print(torch.sum(data3, 0))\n",
        "print(torch.sum(data4, 1))"
      ],
      "metadata": {
        "id": "BpY1allAIrYL",
        "outputId": "2d8391ae-5ea8-4ad3-a047-62e4f179f575",
        "colab": {
          "base_uri": "https://localhost:8080/"
        }
      },
      "id": "BpY1allAIrYL",
      "execution_count": null,
      "outputs": [
        {
          "output_type": "stream",
          "name": "stdout",
          "text": [
            "tensor(23)\n",
            "tensor([ 23, 230])\n"
          ]
        }
      ]
    },
    {
      "cell_type": "markdown",
      "source": [
        "<p style=\"font-family:B Nazanin\" dir=\"rtl\">\n",
        "    تابع <code>cumsum()</code> مجموع تجمعی داده‌های تنسور، تابع <code>prod</code> حاصل‌ضرب داده‌های تنسور، تابع <code>cumprod()</code> حاصل‌ضرب تجمعی داده‌های تنسور و تابع <code>diff</code> اختلاف داده‌های مجاور در تنسور را محاسبه می‌کند.\n",
        "</p>"
      ],
      "metadata": {
        "id": "h5zxOJU7JKuZ"
      },
      "id": "h5zxOJU7JKuZ"
    },
    {
      "cell_type": "code",
      "source": [
        "print(torch.cumsum(data3, 0))\n",
        "print(torch.prod(data3, 0))\n",
        "print(torch.cumprod(data3, 0))\n",
        "print(torch.diff(data3, 0))"
      ],
      "metadata": {
        "id": "E__ert3aJnFz",
        "outputId": "37d69498-8ba7-4906-814d-f6b06e50988b",
        "colab": {
          "base_uri": "https://localhost:8080/"
        }
      },
      "id": "E__ert3aJnFz",
      "execution_count": null,
      "outputs": [
        {
          "output_type": "stream",
          "name": "stdout",
          "text": [
            "tensor([ 1,  3,  6, 10, 15, 23])\n",
            "tensor(960)\n",
            "tensor([  1,   2,   6,  24, 120, 960])\n",
            "tensor([1, 2, 3, 4, 5, 8])\n"
          ]
        }
      ]
    },
    {
      "cell_type": "markdown",
      "source": [
        "<p style=\"font-family:B Nazanin\" dir=\"rtl\">\n",
        "    تابع <code>exp2()</code>، 2 به توان داده‌های تنسور را محاسبه می‌کند و تابع <code>log2()</code>، لگاریتم داده‌های تنسور را مشخص می‌کند.\n",
        "</p>"
      ],
      "metadata": {
        "id": "6iPx1X6gJ2Qp"
      },
      "id": "6iPx1X6gJ2Qp"
    },
    {
      "cell_type": "code",
      "source": [
        "data1 = torch.tensor([1,2,3,4,5,6])\n",
        "data2 = data1.exp2()\n",
        "data3 = data2.log2()\n",
        "\n",
        "print(f'data1:\\t{data1}')\n",
        "print(f'data2:\\t{data2}')\n",
        "print(f'data3:\\t{data3}')"
      ],
      "metadata": {
        "id": "PIbtdx2VKCdM",
        "outputId": "43aa7a9d-e619-4fba-c879-375deab3f0b9",
        "colab": {
          "base_uri": "https://localhost:8080/"
        }
      },
      "id": "PIbtdx2VKCdM",
      "execution_count": null,
      "outputs": [
        {
          "output_type": "stream",
          "name": "stdout",
          "text": [
            "data1:\ttensor([1, 2, 3, 4, 5, 6])\n",
            "data2:\ttensor([ 2.,  4.,  8., 16., 32., 64.])\n",
            "data3:\ttensor([1., 2., 3., 4., 5., 6.])\n"
          ]
        }
      ]
    },
    {
      "cell_type": "markdown",
      "source": [
        "<p style=\"font-family:B Nazanin\" dir=\"rtl\">\n",
        "    توابع <code>square()</code> و <code>sqrt()</code> به ترتیب مجذور و جذر داده‌ّای تنسور را محاسبه می‌کند.\n",
        "</p>"
      ],
      "metadata": {
        "id": "6tAbg0feKdMS"
      },
      "id": "6tAbg0feKdMS"
    },
    {
      "cell_type": "code",
      "source": [
        "data1 = torch.tensor([1,2,3,4,5,6])\n",
        "data2 = data1.square()\n",
        "data3 = data2.sqrt()\n",
        "\n",
        "print(f'data1:\\t{data1}')\n",
        "print(f'data2:\\t{data2}')\n",
        "print(f'data3:\\t{data3}')"
      ],
      "metadata": {
        "id": "rrglSueSKn7v",
        "outputId": "ed51e4a0-f222-44d1-8d3a-df5f27cb26ce",
        "colab": {
          "base_uri": "https://localhost:8080/"
        }
      },
      "id": "rrglSueSKn7v",
      "execution_count": null,
      "outputs": [
        {
          "output_type": "stream",
          "name": "stdout",
          "text": [
            "data1:\ttensor([1, 2, 3, 4, 5, 6])\n",
            "data2:\ttensor([ 1,  4,  9, 16, 25, 36])\n",
            "data3:\ttensor([1., 2., 3., 4., 5., 6.])\n"
          ]
        }
      ]
    },
    {
      "cell_type": "markdown",
      "source": [
        "<p style=\"font-family:B Nazanin\" dir=\"rtl\">\n",
        "    برخی از توابع در این کتابخانه در انتهای نامشان یک کاراکتر _ دارند. این توابع دقیقا مشابه با تابع هم‌نامشان (بدون _) عمل می‌کنند با این تفاوت که در انتها مقدار محاسبه شده را درون خود تنسور می‌ریزند. مثلا تابع <code>ceil</code> اعداد تنسور را رو به بالا گرد می‌کند و یک تنسور جدید خروجی می‌دهد و به تنسور اولیه دست نمی‌زند. اما تابع <code>ceil_()</code> مقادیر جدید را درون همان تنسور اولیه اصلاح می‌کند.\n",
        "</p>"
      ],
      "metadata": {
        "id": "4TV0GztrKu4p"
      },
      "id": "4TV0GztrKu4p"
    },
    {
      "cell_type": "code",
      "source": [
        "data3 = torch.tensor([2.3456, 15.890324, 9., 17.6210, 20.43, 99.999])\n",
        "print(f'Data\\t:\\t{data3}')\n",
        "print(f'Ceil\\t:\\t{data3.ceil_()}')\n",
        "print(f'Data\\t:\\t{data3}')"
      ],
      "metadata": {
        "id": "D55CIgIiLgvQ",
        "outputId": "d7e63885-153a-4838-f66e-bded22f54980",
        "colab": {
          "base_uri": "https://localhost:8080/"
        }
      },
      "id": "D55CIgIiLgvQ",
      "execution_count": null,
      "outputs": [
        {
          "output_type": "stream",
          "name": "stdout",
          "text": [
            "Data\t:\ttensor([ 2.3456, 15.8903,  9.0000, 17.6210, 20.4300, 99.9990])\n",
            "Ceil\t:\ttensor([  3.,  16.,   9.,  18.,  21., 100.])\n",
            "Data\t:\ttensor([  3.,  16.,   9.,  18.,  21., 100.])\n"
          ]
        }
      ]
    },
    {
      "cell_type": "markdown",
      "source": [
        "<p style=\"font-family:B Nazanin\" dir=\"rtl\">\n",
        "    تابع <code>dist()</code> فاصله بین دو بردار را محاسبه می‌کند.\n",
        "</p>"
      ],
      "metadata": {
        "id": "yQp_rouELyR8"
      },
      "id": "yQp_rouELyR8"
    },
    {
      "cell_type": "code",
      "source": [
        "data1 = torch.tensor([2., 15, 9, 17, 20, 99])\n",
        "data2 = torch.tensor([4, 12., 3, 26, 48, 31])\n",
        "torch.dist(data1, data2, p=2) # p=2: Euclidean distance"
      ],
      "metadata": {
        "id": "P-7qH85BL8aW",
        "outputId": "03da7527-ada4-4b9c-f28c-5ca93c9e4bb5",
        "colab": {
          "base_uri": "https://localhost:8080/"
        }
      },
      "id": "P-7qH85BL8aW",
      "execution_count": null,
      "outputs": [
        {
          "output_type": "execute_result",
          "data": {
            "text/plain": [
              "tensor(74.4177)"
            ]
          },
          "metadata": {},
          "execution_count": 71
        }
      ]
    },
    {
      "cell_type": "markdown",
      "source": [
        "<p style=\"font-family:B Nazanin\" dir=\"rtl\">\n",
        "    تابع <code>range()</code> دقیقا مانند تابع range در پایتون عمل می‌کند و بازه‌ای از اعداد را می‌سازد و به تنسور تبدیل می‌کند.\n",
        "</p>"
      ],
      "metadata": {
        "id": "UL_hV1NFMe45"
      },
      "id": "UL_hV1NFMe45"
    },
    {
      "cell_type": "code",
      "source": [
        "vdata = torch.range(1, 20, 2)\n",
        "print(vdata)"
      ],
      "metadata": {
        "id": "iVm59IQGMsXd",
        "outputId": "87ede423-836a-473c-9c91-756790e7bce3",
        "colab": {
          "base_uri": "https://localhost:8080/"
        }
      },
      "id": "iVm59IQGMsXd",
      "execution_count": null,
      "outputs": [
        {
          "output_type": "stream",
          "name": "stdout",
          "text": [
            "tensor([ 1.,  3.,  5.,  7.,  9., 11., 13., 15., 17., 19.])\n"
          ]
        },
        {
          "output_type": "stream",
          "name": "stderr",
          "text": [
            "<ipython-input-72-72a232c17115>:1: UserWarning: torch.range is deprecated and will be removed in a future release because its behavior is inconsistent with Python's range builtin. Instead, use torch.arange, which produces values in [start, end).\n",
            "  vdata = torch.range(1, 20, 2)\n"
          ]
        }
      ]
    },
    {
      "cell_type": "markdown",
      "source": [
        "<p style=\"font-family:B Nazanin\" dir=\"rtl\">\n",
        "    توابع <code>ones()</code> و <code>zeros()</code> و <code>empty()</code> و <code>eye()</code> به ترتیب برای ساختن ماتریس با اعضای یک، ماتریس با اعضای صفر، ماتریس با اعضایی که مقداردهی اولیه نشده و ماتریس همانی استفاده می‌شود.\n",
        "</p>"
      ],
      "metadata": {
        "id": "KPNFxj9aNO2T"
      },
      "id": "KPNFxj9aNO2T"
    },
    {
      "cell_type": "code",
      "source": [
        "shape = (3,5)\n",
        "data_ones = torch.ones(shape)\n",
        "data_zeros = torch.zeros(shape)\n",
        "data_empty = torch.empty(shape)\n",
        "data_eye = torch.eye(5)\n",
        "\n",
        "print(f'Ones:\\n{data_ones}')\n",
        "print(f'Zeros:\\n{data_zeros}')\n",
        "print(f'Empty:\\n{data_empty}')\n",
        "print(f'Eye:\\n{data_eye}')"
      ],
      "metadata": {
        "id": "7pAvKc0yOCZH",
        "outputId": "1d91a678-6933-49d1-d17a-350524ad7dbe",
        "colab": {
          "base_uri": "https://localhost:8080/"
        }
      },
      "id": "7pAvKc0yOCZH",
      "execution_count": null,
      "outputs": [
        {
          "output_type": "stream",
          "name": "stdout",
          "text": [
            "Ones:\n",
            "tensor([[1., 1., 1., 1., 1.],\n",
            "        [1., 1., 1., 1., 1.],\n",
            "        [1., 1., 1., 1., 1.]])\n",
            "Zeros:\n",
            "tensor([[0., 0., 0., 0., 0.],\n",
            "        [0., 0., 0., 0., 0.],\n",
            "        [0., 0., 0., 0., 0.]])\n",
            "Empty:\n",
            "tensor([[2.8183e+20, 6.1972e-04, 1.4585e-19, 7.2708e+31, 7.1430e+31],\n",
            "        [1.5766e-19, 7.0295e+28, 1.6312e+19, 7.0976e+22, 1.8609e+34],\n",
            "        [1.8315e+25, 7.5551e+31, 6.1960e-04, 3.1457e-12, 2.7340e+20]])\n",
            "Eye:\n",
            "tensor([[1., 0., 0., 0., 0.],\n",
            "        [0., 1., 0., 0., 0.],\n",
            "        [0., 0., 1., 0., 0.],\n",
            "        [0., 0., 0., 1., 0.],\n",
            "        [0., 0., 0., 0., 1.]])\n"
          ]
        }
      ]
    },
    {
      "cell_type": "markdown",
      "source": [
        "<p style=\"font-family:B Nazanin\" dir=\"rtl\">\n",
        "    تابع <code>rand()</code> یک تنسور با اعداد تصادفی می‌سازد که اعداد بین صفر تا یک هستند. تابع <code>randn()</code> یک تنسور با اعداد تصادفی که توزیع نرمال دارند می‌سازد. تابع <code>randint()</code> نیز یک تنسور با اعداد صحیح تصادفی در یک بازه مشخص می‌سازد.\n",
        "</p>"
      ],
      "metadata": {
        "id": "nn9jm3EQOgte"
      },
      "id": "nn9jm3EQOgte"
    },
    {
      "cell_type": "code",
      "source": [
        "data_rand1 = torch.rand((2,5))\n",
        "print(data_rand1)"
      ],
      "metadata": {
        "id": "aSMcxekOOvaf",
        "outputId": "26efd08f-f3d5-4f25-b179-e4ac0866f2df",
        "colab": {
          "base_uri": "https://localhost:8080/"
        }
      },
      "id": "aSMcxekOOvaf",
      "execution_count": null,
      "outputs": [
        {
          "output_type": "stream",
          "name": "stdout",
          "text": [
            "tensor([[0.4081, 0.5655, 0.4506, 0.0584, 0.7707],\n",
            "        [0.1064, 0.6604, 0.2750, 0.4928, 0.4923]])\n"
          ]
        }
      ]
    },
    {
      "cell_type": "code",
      "source": [
        "data_rand2 = torch.rand(1000)\n",
        "plt.hist(data_rand2, 100)"
      ],
      "metadata": {
        "id": "T0Dviev8PDJd",
        "outputId": "0988ce3f-adf0-4071-fb63-6eff1e10e688",
        "colab": {
          "base_uri": "https://localhost:8080/",
          "height": 1000
        }
      },
      "id": "T0Dviev8PDJd",
      "execution_count": null,
      "outputs": [
        {
          "output_type": "execute_result",
          "data": {
            "text/plain": [
              "(array([13., 12.,  8., 15.,  8., 14.,  6.,  7., 14.,  7., 11.,  8.,  5.,\n",
              "        11., 12.,  8.,  9.,  7., 15.,  5., 18.,  8.,  8.,  9., 18., 13.,\n",
              "         8., 15., 13., 13., 15., 11.,  6., 10.,  6.,  5., 11.,  6., 15.,\n",
              "         9.,  9., 11., 12., 13.,  7.,  8., 17.,  5., 10., 14.,  9.,  2.,\n",
              "        11., 11.,  6., 10., 10.,  6.,  8., 13.,  6.,  6.,  8.,  7., 13.,\n",
              "        10., 14.,  9., 12.,  9., 10., 10., 11., 15.,  8.,  9., 12., 15.,\n",
              "        11.,  4., 12.,  6.,  7.,  8., 14., 18.,  9., 10.,  4., 12.,  9.,\n",
              "        12.,  7.,  6.,  8.,  9., 13., 12., 11., 10.]),\n",
              " array([1.01447105e-04, 1.00952126e-02, 2.00889781e-02, 3.00827436e-02,\n",
              "        4.00765091e-02, 5.00702746e-02, 6.00640401e-02, 7.00578019e-02,\n",
              "        8.00515711e-02, 9.00453329e-02, 1.00039102e-01, 1.10032864e-01,\n",
              "        1.20026633e-01, 1.30020395e-01, 1.40014157e-01, 1.50007933e-01,\n",
              "        1.60001695e-01, 1.69995457e-01, 1.79989219e-01, 1.89982995e-01,\n",
              "        1.99976757e-01, 2.09970519e-01, 2.19964281e-01, 2.29958057e-01,\n",
              "        2.39951819e-01, 2.49945581e-01, 2.59939343e-01, 2.69933105e-01,\n",
              "        2.79926866e-01, 2.89920628e-01, 2.99914420e-01, 3.09908181e-01,\n",
              "        3.19901943e-01, 3.29895705e-01, 3.39889467e-01, 3.49883229e-01,\n",
              "        3.59876990e-01, 3.69870752e-01, 3.79864544e-01, 3.89858305e-01,\n",
              "        3.99852067e-01, 4.09845829e-01, 4.19839591e-01, 4.29833353e-01,\n",
              "        4.39827114e-01, 4.49820876e-01, 4.59814668e-01, 4.69808429e-01,\n",
              "        4.79802191e-01, 4.89795953e-01, 4.99789715e-01, 5.09783506e-01,\n",
              "        5.19777238e-01, 5.29771030e-01, 5.39764762e-01, 5.49758554e-01,\n",
              "        5.59752285e-01, 5.69746077e-01, 5.79739809e-01, 5.89733601e-01,\n",
              "        5.99727392e-01, 6.09721124e-01, 6.19714916e-01, 6.29708648e-01,\n",
              "        6.39702439e-01, 6.49696171e-01, 6.59689963e-01, 6.69683754e-01,\n",
              "        6.79677486e-01, 6.89671278e-01, 6.99665010e-01, 7.09658802e-01,\n",
              "        7.19652534e-01, 7.29646325e-01, 7.39640057e-01, 7.49633849e-01,\n",
              "        7.59627640e-01, 7.69621372e-01, 7.79615164e-01, 7.89608896e-01,\n",
              "        7.99602687e-01, 8.09596419e-01, 8.19590211e-01, 8.29583943e-01,\n",
              "        8.39577734e-01, 8.49571526e-01, 8.59565258e-01, 8.69559050e-01,\n",
              "        8.79552782e-01, 8.89546573e-01, 8.99540305e-01, 9.09534097e-01,\n",
              "        9.19527888e-01, 9.29521620e-01, 9.39515412e-01, 9.49509144e-01,\n",
              "        9.59502935e-01, 9.69496667e-01, 9.79490459e-01, 9.89484191e-01,\n",
              "        9.99477983e-01]),\n",
              " <BarContainer object of 100 artists>)"
            ]
          },
          "metadata": {},
          "execution_count": 78
        },
        {
          "output_type": "display_data",
          "data": {
            "text/plain": [
              "<Figure size 640x480 with 1 Axes>"
            ],
            "image/png": "[encoded data removed]"
          },
          "metadata": {}
        }
      ]
    },
    {
      "cell_type": "code",
      "source": [
        "data_rand3 = torch.randn(100)\n",
        "print(data_rand3)"
      ],
      "metadata": {
        "id": "AgMCp5OkPanT",
        "outputId": "60966b8f-f301-443f-9422-885e06200623",
        "colab": {
          "base_uri": "https://localhost:8080/"
        }
      },
      "id": "AgMCp5OkPanT",
      "execution_count": null,
      "outputs": [
        {
          "output_type": "stream",
          "name": "stdout",
          "text": [
            "tensor([-0.8983, -0.0312, -2.0338,  0.4070,  0.5947,  1.0142, -0.7297, -1.1987,\n",
            "         0.3591,  1.1901,  0.1697, -0.7105, -1.8266, -2.2333,  0.3247,  0.6451,\n",
            "         0.3730, -0.7942, -0.1730, -0.7379, -0.1594, -0.1379, -1.1123, -0.8680,\n",
            "        -1.3311, -1.1035, -0.1235,  0.9662, -0.9300, -1.3529,  1.8491,  0.2847,\n",
            "         0.6409, -0.0376, -1.2922, -0.8869,  0.8834, -0.2160,  0.7924,  0.5654,\n",
            "        -0.4592,  0.6580, -0.9975, -0.2891,  0.5465,  1.3077,  0.4468,  0.5659,\n",
            "        -0.8442, -0.5672,  0.1233, -0.6788,  1.9339, -0.8766,  0.6033, -0.9545,\n",
            "        -0.6315, -0.3161,  0.4726,  1.1513,  1.3032, -1.1656, -0.1219, -1.1784,\n",
            "        -0.2130,  2.2757,  0.6841, -0.5505,  1.7227,  2.0511, -0.6771,  1.1494,\n",
            "         0.2680, -1.5438,  0.0584, -0.7475,  0.0612,  0.1710, -1.3533, -1.1439,\n",
            "        -0.1099,  0.7114,  1.2616,  0.3221,  1.2310, -0.0203,  0.8379, -0.3470,\n",
            "        -1.1461, -0.9047, -0.3420, -1.5056,  1.4937, -0.5969, -1.2593,  0.2194,\n",
            "         1.8472,  0.5976, -1.4234,  0.8023])\n"
          ]
        }
      ]
    },
    {
      "cell_type": "code",
      "source": [
        "data_rand4 = torch.randn(1000)\n",
        "plt.hist(data_rand4, 100)"
      ],
      "metadata": {
        "id": "HbT9voeNPkx1",
        "outputId": "239033e4-e420-4316-ffc7-4e5a441eba50",
        "colab": {
          "base_uri": "https://localhost:8080/",
          "height": 977
        }
      },
      "id": "HbT9voeNPkx1",
      "execution_count": null,
      "outputs": [
        {
          "output_type": "execute_result",
          "data": {
            "text/plain": [
              "(array([ 1.,  0.,  0.,  1.,  0.,  0.,  0.,  0.,  0.,  0.,  0.,  0.,  1.,\n",
              "         1.,  4.,  2.,  1.,  1.,  0.,  1.,  4.,  2.,  2.,  6.,  8.,  6.,\n",
              "         2.,  6.,  7.,  3.,  8.,  8., 10.,  8., 15., 10., 16., 16., 12.,\n",
              "        13., 21., 12., 24., 30., 21., 23., 26., 30., 28., 31., 19., 23.,\n",
              "        29., 23., 25., 28., 24., 21., 30., 24., 23., 16., 19., 28., 24.,\n",
              "        16., 20., 19.,  7.,  8., 19., 11., 11., 11., 10., 13., 11.,  9.,\n",
              "         8., 11.,  4.,  3.,  3.,  2.,  4.,  0.,  1.,  5.,  2.,  2.,  2.,\n",
              "         3.,  0.,  2.,  3.,  0.,  1.,  1.,  0.,  1.]),\n",
              " array([-3.33315539, -3.27063894, -3.20812225, -3.1456058 , -3.08308911,\n",
              "        -3.02057266, -2.95805621, -2.89553952, -2.83302307, -2.77050638,\n",
              "        -2.70798993, -2.64547348, -2.58295679, -2.52044034, -2.45792365,\n",
              "        -2.3954072 , -2.33289075, -2.27037406, -2.20785761, -2.14534092,\n",
              "        -2.08282447, -2.02030802, -1.95779133, -1.89527488, -1.83275831,\n",
              "        -1.77024174, -1.70772517, -1.6452086 , -1.58269215, -1.52017558,\n",
              "        -1.45765901, -1.39514244, -1.33262587, -1.27010942, -1.20759284,\n",
              "        -1.14507627, -1.0825597 , -1.02004313, -0.95752662, -0.89501011,\n",
              "        -0.83249354, -0.76997697, -0.70746046, -0.64494389, -0.58242738,\n",
              "        -0.51991081, -0.45739427, -0.39487773, -0.33236116, -0.26984462,\n",
              "        -0.20732808, -0.14481154, -0.08229499, -0.01977844,  0.0427381 ,\n",
              "         0.10525465,  0.16777119,  0.23028775,  0.2928043 ,  0.35532084,\n",
              "         0.41783738,  0.48035392,  0.54287046,  0.60538703,  0.66790354,\n",
              "         0.73042011,  0.79293668,  0.85545319,  0.91796976,  0.98048627,\n",
              "         1.04300284,  1.10551941,  1.16803598,  1.23055243,  1.29306901,\n",
              "         1.35558558,  1.41810215,  1.48061872,  1.54313517,  1.60565174,\n",
              "         1.66816831,  1.73068488,  1.79320145,  1.8557179 ,  1.91823447,\n",
              "         1.98075104,  2.04326749,  2.10578418,  2.16830063,  2.23081732,\n",
              "         2.29333377,  2.35585022,  2.41836691,  2.48088336,  2.54340005,\n",
              "         2.6059165 ,  2.66843295,  2.73094964,  2.79346609,  2.85598278,\n",
              "         2.91849923]),\n",
              " <BarContainer object of 100 artists>)"
            ]
          },
          "metadata": {},
          "execution_count": 81
        },
        {
          "output_type": "display_data",
          "data": {
            "text/plain": [
              "<Figure size 640x480 with 1 Axes>"
            ],
            "image/png": "[encoded data removed]"
          },
          "metadata": {}
        }
      ]
    },
    {
      "cell_type": "code",
      "source": [
        "shape = (3,5)\n",
        "data_rand_int1 = torch.randint(1, 10, shape)\n",
        "print(data_rand_int1)"
      ],
      "metadata": {
        "id": "qOJZyr1xPo2m",
        "outputId": "588a30c6-36eb-4bba-9ce1-3586b337abe6",
        "colab": {
          "base_uri": "https://localhost:8080/"
        }
      },
      "id": "qOJZyr1xPo2m",
      "execution_count": null,
      "outputs": [
        {
          "output_type": "stream",
          "name": "stdout",
          "text": [
            "tensor([[3, 5, 1, 4, 1],\n",
            "        [7, 2, 3, 9, 6],\n",
            "        [8, 1, 6, 5, 2]])\n"
          ]
        }
      ]
    },
    {
      "cell_type": "code",
      "source": [
        "data_rand_int2 = torch.randint(1, 10, (1,))\n",
        "print(data_rand_int2)"
      ],
      "metadata": {
        "id": "8NoCJ1EwQL1Y",
        "outputId": "95203af6-4ea2-40b9-af81-14a346ad96bf",
        "colab": {
          "base_uri": "https://localhost:8080/"
        }
      },
      "id": "8NoCJ1EwQL1Y",
      "execution_count": null,
      "outputs": [
        {
          "output_type": "stream",
          "name": "stdout",
          "text": [
            "tensor([9])\n"
          ]
        }
      ]
    },
    {
      "cell_type": "markdown",
      "source": [
        "<p style=\"font-family:B Nazanin\" dir=\"rtl\">\n",
        "    تابع <code>item()</code> برای تنسورهایی که فقط یک عنصر دارند، مقدار آن عنصر را برمی‌گرداند.\n",
        "</p>"
      ],
      "metadata": {
        "id": "s1bFp5N4QbWr"
      },
      "id": "s1bFp5N4QbWr"
    },
    {
      "cell_type": "code",
      "source": [
        "data_rand_int3 = torch.randint(3, 21, (1,)).item()\n",
        "print(data_rand_int3)\n",
        "print(type(data_rand_int3))"
      ],
      "metadata": {
        "id": "YuspM3vbQifB",
        "outputId": "64e75e5b-1d72-4af2-a5e8-b5c94f69f285",
        "colab": {
          "base_uri": "https://localhost:8080/"
        }
      },
      "id": "YuspM3vbQifB",
      "execution_count": null,
      "outputs": [
        {
          "output_type": "stream",
          "name": "stdout",
          "text": [
            "15\n",
            "<class 'int'>\n"
          ]
        }
      ]
    },
    {
      "cell_type": "markdown",
      "source": [
        "<p style=\"font-family:B Nazanin\" dir=\"rtl\">\n",
        "    تابع <code>randperm()</code> تنسوری از اعداد تصادفی غیرتکراری ایجاد می‌کند.\n",
        "</p>"
      ],
      "metadata": {
        "id": "6kN1LCvAQ5VY"
      },
      "id": "6kN1LCvAQ5VY"
    },
    {
      "cell_type": "code",
      "source": [
        "data_rand_perm = torch.randperm(10)\n",
        "print(data_rand_perm)"
      ],
      "metadata": {
        "id": "5jT8FQJPRAgi",
        "outputId": "562e6484-dd5c-4a67-f088-b8d841f03129",
        "colab": {
          "base_uri": "https://localhost:8080/"
        }
      },
      "id": "5jT8FQJPRAgi",
      "execution_count": null,
      "outputs": [
        {
          "output_type": "stream",
          "name": "stdout",
          "text": [
            "tensor([9, 3, 4, 7, 5, 6, 0, 8, 2, 1])\n"
          ]
        }
      ]
    },
    {
      "cell_type": "markdown",
      "source": [
        "<p style=\"font-family:B Nazanin\" dir=\"rtl\">\n",
        "    تابع <code>repeat()</code> یک تنسور می‌گیرد و به تعداد مشخص‌شده آن را تکرار می‌کند.\n",
        "</p>"
      ],
      "metadata": {
        "id": "oesQGRmaRQ_d"
      },
      "id": "oesQGRmaRQ_d"
    },
    {
      "cell_type": "code",
      "source": [
        "vdata = torch.tensor([1,3,5,6])\n",
        "print(vdata)\n",
        "\n",
        "mat_data = vdata.repeat(3)\n",
        "print(mat_data)\n",
        "\n",
        "mat_data = vdata.repeat((3,2))\n",
        "print(mat_data)"
      ],
      "metadata": {
        "id": "2U62Xs_2RY4U",
        "outputId": "e2dbc914-19b4-4868-c05d-c194de2253ad",
        "colab": {
          "base_uri": "https://localhost:8080/"
        }
      },
      "id": "2U62Xs_2RY4U",
      "execution_count": null,
      "outputs": [
        {
          "output_type": "stream",
          "name": "stdout",
          "text": [
            "tensor([1, 3, 5, 6])\n",
            "tensor([1, 3, 5, 6, 1, 3, 5, 6, 1, 3, 5, 6])\n",
            "tensor([[1, 3, 5, 6, 1, 3, 5, 6],\n",
            "        [1, 3, 5, 6, 1, 3, 5, 6],\n",
            "        [1, 3, 5, 6, 1, 3, 5, 6]])\n"
          ]
        }
      ]
    },
    {
      "cell_type": "markdown",
      "source": [
        "<p style=\"font-family:B Nazanin\" dir=\"rtl\">\n",
        "    تابع <cod>zero_()</code> که روی یک تنسور اعمال می‌شود، تمام داده‌های آن تنسور را به صفر تبدیل می‌کند.\n",
        "</p>"
      ],
      "metadata": {
        "id": "rRyXsR7NnaPY"
      },
      "id": "rRyXsR7NnaPY"
    },
    {
      "cell_type": "code",
      "source": [
        "data = torch.randint(1,21,(5,5))\n",
        "data"
      ],
      "metadata": {
        "id": "vlr_fGKGoFu_",
        "outputId": "882d0104-39d2-4720-dc66-a7a8a6742aab",
        "colab": {
          "base_uri": "https://localhost:8080/"
        }
      },
      "id": "vlr_fGKGoFu_",
      "execution_count": null,
      "outputs": [
        {
          "output_type": "execute_result",
          "data": {
            "text/plain": [
              "tensor([[12,  4, 20, 18, 15],\n",
              "        [ 6,  3, 11,  6,  8],\n",
              "        [20, 17,  7, 12,  1],\n",
              "        [ 2,  5, 10, 13, 12],\n",
              "        [13, 17, 13, 16,  1]])"
            ]
          },
          "metadata": {},
          "execution_count": 3
        }
      ]
    },
    {
      "cell_type": "code",
      "source": [
        "data.zero_()\n",
        "data"
      ],
      "metadata": {
        "id": "ftHwYw22oNQJ",
        "outputId": "e55eb7b6-fe75-49f1-f582-77e7b6005f1b",
        "colab": {
          "base_uri": "https://localhost:8080/"
        }
      },
      "id": "ftHwYw22oNQJ",
      "execution_count": null,
      "outputs": [
        {
          "output_type": "execute_result",
          "data": {
            "text/plain": [
              "tensor([[0, 0, 0, 0, 0],\n",
              "        [0, 0, 0, 0, 0],\n",
              "        [0, 0, 0, 0, 0],\n",
              "        [0, 0, 0, 0, 0],\n",
              "        [0, 0, 0, 0, 0]])"
            ]
          },
          "metadata": {},
          "execution_count": 4
        }
      ]
    },
    {
      "cell_type": "markdown",
      "source": [
        "<p style=\"font-family:B Nazanin\" dir=\"rtl\">\n",
        "    تابع <code>fill_(n)</code> یک پارامتر ورودی می‌گیرد و همه داده‌های یک تنسور را با آن عدد جایگزین می‌کند.\n",
        "</p>"
      ],
      "metadata": {
        "id": "K5c8w5U0oamI"
      },
      "id": "K5c8w5U0oamI"
    },
    {
      "cell_type": "code",
      "source": [
        "data.fill_(1)\n",
        "data"
      ],
      "metadata": {
        "id": "TteOCxoXonJJ",
        "outputId": "41d51c52-7224-4f29-a24b-a0790800508f",
        "colab": {
          "base_uri": "https://localhost:8080/"
        }
      },
      "id": "TteOCxoXonJJ",
      "execution_count": null,
      "outputs": [
        {
          "output_type": "execute_result",
          "data": {
            "text/plain": [
              "tensor([[1, 1, 1, 1, 1],\n",
              "        [1, 1, 1, 1, 1],\n",
              "        [1, 1, 1, 1, 1],\n",
              "        [1, 1, 1, 1, 1],\n",
              "        [1, 1, 1, 1, 1]])"
            ]
          },
          "metadata": {},
          "execution_count": 5
        }
      ]
    },
    {
      "cell_type": "markdown",
      "source": [
        "<p style=\"font-family:B Nazanin\" dir=\"rtl\">\n",
        "    تابع <code>eye</code> نیز ماتریس همانی یا یکه می‌سازد.\n",
        "</p>"
      ],
      "metadata": {
        "id": "sIx6T3THowCp"
      },
      "id": "sIx6T3THowCp"
    },
    {
      "cell_type": "code",
      "source": [
        "torch.eye(data.shape[1])"
      ],
      "metadata": {
        "id": "B7wm04MYo2Qa",
        "outputId": "b3c98b64-0176-4ea0-fb2a-bbf7cac05a35",
        "colab": {
          "base_uri": "https://localhost:8080/"
        }
      },
      "id": "B7wm04MYo2Qa",
      "execution_count": null,
      "outputs": [
        {
          "output_type": "execute_result",
          "data": {
            "text/plain": [
              "tensor([[1., 0., 0., 0., 0.],\n",
              "        [0., 1., 0., 0., 0.],\n",
              "        [0., 0., 1., 0., 0.],\n",
              "        [0., 0., 0., 1., 0.],\n",
              "        [0., 0., 0., 0., 1.]])"
            ]
          },
          "metadata": {},
          "execution_count": 6
        }
      ]
    },
    {
      "cell_type": "markdown",
      "source": [
        "<p style=\"font-family:B Nazanin\" dir=\"rtl\">\n",
        "    تابع <code>zeros_like()</code> یک تنسور به عنوان ورودی می‌گیرد و یک تنسور که همه داده‌های آن صفر است و ابعاد آن به اندازه ابعاد تنسور ورودی است، می‌سازد.\n",
        "</p>"
      ],
      "metadata": {
        "id": "54AqTPlqpDQT"
      },
      "id": "54AqTPlqpDQT"
    },
    {
      "cell_type": "code",
      "source": [
        "z = torch.zeros_like(data)\n",
        "z"
      ],
      "metadata": {
        "id": "MFF5Cie_pSU0",
        "outputId": "53a7b49d-0ae8-45af-a968-076953b10788",
        "colab": {
          "base_uri": "https://localhost:8080/"
        }
      },
      "id": "MFF5Cie_pSU0",
      "execution_count": null,
      "outputs": [
        {
          "output_type": "execute_result",
          "data": {
            "text/plain": [
              "tensor([[0, 0, 0, 0, 0],\n",
              "        [0, 0, 0, 0, 0],\n",
              "        [0, 0, 0, 0, 0],\n",
              "        [0, 0, 0, 0, 0],\n",
              "        [0, 0, 0, 0, 0]])"
            ]
          },
          "metadata": {},
          "execution_count": 7
        }
      ]
    },
    {
      "cell_type": "markdown",
      "source": [
        "<p style=\"font-family:B Nazanin\" dir=\"rtl\">\n",
        "    عملیات جمع، تفریق، ضرب و تقسیم را می‌توان روی تنسورها انجام داد که درایه به درایه روی داده‌های تنسورها انجام می‌شود.\n",
        "</p>"
      ],
      "metadata": {
        "id": "mMvA8JL4phZy"
      },
      "id": "mMvA8JL4phZy"
    },
    {
      "cell_type": "code",
      "source": [
        "v1 = torch.randint(1, 21, (8,))\n",
        "v2 = torch.randint(1, 21, (8,))\n",
        "v3 = torch.randint(1, 21, (10,))\n",
        "\n",
        "print(f'Vector1: {v1}')\n",
        "print(f'Vector2: {v2}')\n",
        "print(f'Vector3: {v3}')"
      ],
      "metadata": {
        "id": "zXsE2BS9ptJW",
        "outputId": "d6804018-f282-4420-ab1c-f15535ded2fc",
        "colab": {
          "base_uri": "https://localhost:8080/"
        }
      },
      "id": "zXsE2BS9ptJW",
      "execution_count": null,
      "outputs": [
        {
          "output_type": "stream",
          "name": "stdout",
          "text": [
            "Vector1: tensor([20, 13,  8,  6,  2, 19, 12,  9])\n",
            "Vector2: tensor([ 9, 15, 15,  3,  3,  7,  1, 11])\n",
            "Vector3: tensor([ 1,  1, 14,  1, 16, 10, 20, 10, 15,  5])\n"
          ]
        }
      ]
    },
    {
      "cell_type": "code",
      "source": [
        "print(f'v1 + v2 => {v1+v2}')\n",
        "# print(f'v1 + v3 => {v1+v3}') # Error\n",
        "print(f'v1 - v2 => {v1-v2}')\n",
        "print(f'v1 * v2 => {v1*v2}')\n",
        "print(f'v1 / v2 => {v1/v2}')"
      ],
      "metadata": {
        "id": "SwGBXTKuqAhY",
        "outputId": "a25874f8-17cb-4915-b296-7849f7f5e4ad",
        "colab": {
          "base_uri": "https://localhost:8080/"
        }
      },
      "id": "SwGBXTKuqAhY",
      "execution_count": null,
      "outputs": [
        {
          "output_type": "stream",
          "name": "stdout",
          "text": [
            "v1 + v2 => tensor([29, 28, 23,  9,  5, 26, 13, 20])\n",
            "v1 - v2 => tensor([11, -2, -7,  3, -1, 12, 11, -2])\n",
            "v1 * v2 => tensor([180, 195, 120,  18,   6, 133,  12,  99])\n",
            "v1 / v2 => tensor([ 2.2222,  0.8667,  0.5333,  2.0000,  0.6667,  2.7143, 12.0000,  0.8182])\n"
          ]
        }
      ]
    },
    {
      "cell_type": "code",
      "source": [
        "mat1 = torch.randint(1, 21, (3,4))\n",
        "mat2 = torch.randint(1, 21, (3,4))\n",
        "mat3 = torch.randint(1, 21, (4,7))\n",
        "\n",
        "print(f'Matrix1:\\n{mat1}')\n",
        "print(f'Matrix2:\\n{mat2}')\n",
        "print(f'Matrix3:\\n{mat3}')"
      ],
      "metadata": {
        "id": "LkujxA-iqj7o",
        "outputId": "74aa46b6-563d-4038-a2a7-6dce40a73906",
        "colab": {
          "base_uri": "https://localhost:8080/"
        }
      },
      "id": "LkujxA-iqj7o",
      "execution_count": null,
      "outputs": [
        {
          "output_type": "stream",
          "name": "stdout",
          "text": [
            "Matrix1:\n",
            "tensor([[14, 14,  3, 13],\n",
            "        [14, 18,  9, 16],\n",
            "        [14,  6,  4, 18]])\n",
            "Matrix2:\n",
            "tensor([[18, 19,  1, 13],\n",
            "        [16, 12,  9, 16],\n",
            "        [15,  4,  1, 11]])\n",
            "Matrix3:\n",
            "tensor([[14, 19, 18, 10, 14,  3,  3],\n",
            "        [ 9,  6, 13,  1,  1, 13, 15],\n",
            "        [17, 13, 15, 16, 11, 18,  6],\n",
            "        [ 8, 20,  9, 11,  6, 18,  8]])\n"
          ]
        }
      ]
    },
    {
      "cell_type": "code",
      "source": [
        "print(f'mat1 + mat2 => \\n{mat1+mat2}')\n",
        "print(f'mat1 - mat2 => \\n{mat1-mat2}')\n",
        "print(f'mat1 * mat2 => \\n{mat1*mat2}')\n",
        "print(f'mat1 / mat2 => \\n{mat1/mat2}')"
      ],
      "metadata": {
        "id": "idNEvlziq6PU",
        "outputId": "a66866eb-ea6a-405c-92d8-1195341db0ba",
        "colab": {
          "base_uri": "https://localhost:8080/"
        }
      },
      "id": "idNEvlziq6PU",
      "execution_count": null,
      "outputs": [
        {
          "output_type": "stream",
          "name": "stdout",
          "text": [
            "mat1 + mat2 => \n",
            "tensor([[32, 33,  4, 26],\n",
            "        [30, 30, 18, 32],\n",
            "        [29, 10,  5, 29]])\n",
            "mat1 - mat2 => \n",
            "tensor([[-4, -5,  2,  0],\n",
            "        [-2,  6,  0,  0],\n",
            "        [-1,  2,  3,  7]])\n",
            "mat1 * mat2 => \n",
            "tensor([[252, 266,   3, 169],\n",
            "        [224, 216,  81, 256],\n",
            "        [210,  24,   4, 198]])\n",
            "mat1 / mat2 => \n",
            "tensor([[0.7778, 0.7368, 3.0000, 1.0000],\n",
            "        [0.8750, 1.5000, 1.0000, 1.0000],\n",
            "        [0.9333, 1.5000, 4.0000, 1.6364]])\n"
          ]
        }
      ]
    },
    {
      "cell_type": "markdown",
      "source": [
        "<p style=\"font-family:B Nazanin\" dir=\"rtl\">\n",
        "    دقت کنید که عملیات ضربی که در بالا به آن اشاره شد، ضرب ماتریسی نیست، بلکه ضرب درایه به درایه است. برای انجام ضرب ماتریسی از عملگر @ استفاده می‌کنیم. همچنین برای این کار از تابع <code>matmul</code> نیز می‌توان استفاده کرد.\n",
        "</p>"
      ],
      "metadata": {
        "id": "2V399H8grKbN"
      },
      "id": "2V399H8grKbN"
    },
    {
      "cell_type": "code",
      "source": [
        "print(f'mat1 * mat3 =>\\n{mat1 @ mat3}')"
      ],
      "metadata": {
        "id": "Kji5CBB1rbPP",
        "outputId": "b925a73b-16bc-4717-ec6e-c2cb7d484d98",
        "colab": {
          "base_uri": "https://localhost:8080/"
        }
      },
      "id": "Kji5CBB1rbPP",
      "execution_count": null,
      "outputs": [
        {
          "output_type": "stream",
          "name": "stdout",
          "text": [
            "mat1 * mat3 =>\n",
            "tensor([[477, 649, 596, 345, 321, 512, 374],\n",
            "        [639, 811, 765, 478, 409, 726, 494],\n",
            "        [462, 714, 552, 408, 354, 516, 300]])\n"
          ]
        }
      ]
    },
    {
      "cell_type": "code",
      "source": [
        "print(f'mat1 * mat3 =>\\n{torch.matmul(mat1, mat3)}')"
      ],
      "metadata": {
        "id": "0hkOqCABrmH7",
        "outputId": "6c4b9a47-834b-4f53-e6d6-a84b72f5906b",
        "colab": {
          "base_uri": "https://localhost:8080/"
        }
      },
      "id": "0hkOqCABrmH7",
      "execution_count": null,
      "outputs": [
        {
          "output_type": "stream",
          "name": "stdout",
          "text": [
            "mat1 * mat3 =>\n",
            "tensor([[477, 649, 596, 345, 321, 512, 374],\n",
            "        [639, 811, 765, 478, 409, 726, 494],\n",
            "        [462, 714, 552, 408, 354, 516, 300]])\n"
          ]
        }
      ]
    },
    {
      "cell_type": "markdown",
      "source": [
        "<p style=\"font-family:B Nazanin\" dir=\"rtl\">\n",
        "    برای دسترسی به داده‌های درون یک تنسور از اندیس‌ها استفاده می‌کنیم. می‌دانیم که اندیس‌ها از صفر شروع می‌شوند. همچنین اندیس‌های منفی نیز وجود دارند که از انتهای تنسور شمرده می‌شوند.\n",
        "</p>"
      ],
      "metadata": {
        "id": "eLMnrRuFr8X5"
      },
      "id": "eLMnrRuFr8X5"
    },
    {
      "cell_type": "code",
      "source": [
        "torch.manual_seed(42)\n",
        "vector_data = torch.randint(1, 21, (8,))\n",
        "vector_data"
      ],
      "metadata": {
        "id": "79sv2Yt2sJYg",
        "outputId": "d8a3a432-077d-476e-86be-e7bd17fc0f0b",
        "colab": {
          "base_uri": "https://localhost:8080/"
        }
      },
      "id": "79sv2Yt2sJYg",
      "execution_count": null,
      "outputs": [
        {
          "output_type": "execute_result",
          "data": {
            "text/plain": [
              "tensor([ 3,  8, 17, 15,  7, 16,  1,  5])"
            ]
          },
          "metadata": {},
          "execution_count": 21
        }
      ]
    },
    {
      "cell_type": "code",
      "source": [
        "print(vector_data[0])\n",
        "print(vector_data[2])\n",
        "print(vector_data[-1])"
      ],
      "metadata": {
        "id": "mAsCdRQUsRIe",
        "outputId": "4e1a89d5-d8cf-47fb-845a-7cbeaf528bab",
        "colab": {
          "base_uri": "https://localhost:8080/"
        }
      },
      "id": "mAsCdRQUsRIe",
      "execution_count": null,
      "outputs": [
        {
          "output_type": "stream",
          "name": "stdout",
          "text": [
            "tensor(3)\n",
            "tensor(17)\n",
            "tensor(5)\n"
          ]
        }
      ]
    },
    {
      "cell_type": "code",
      "source": [
        "mat_data = torch.randint(1, 21, (3, 6))\n",
        "mat_data"
      ],
      "metadata": {
        "id": "RGIM5hpXsi8k",
        "outputId": "448ba45d-fec6-4518-bf62-d764d20bd197",
        "colab": {
          "base_uri": "https://localhost:8080/"
        }
      },
      "id": "RGIM5hpXsi8k",
      "execution_count": null,
      "outputs": [
        {
          "output_type": "execute_result",
          "data": {
            "text/plain": [
              "tensor([[ 2, 10,  8, 20, 13,  1],\n",
              "        [16, 10, 14,  5, 20, 17],\n",
              "        [13, 11,  7,  3, 18, 20]])"
            ]
          },
          "metadata": {},
          "execution_count": 24
        }
      ]
    },
    {
      "cell_type": "code",
      "source": [
        "print(mat_data[0, 1])\n",
        "print(mat_data[-1, 1])\n",
        "print(mat_data[-1, -1])\n",
        "print(mat_data[2])"
      ],
      "metadata": {
        "id": "NZYEGeIRsssE",
        "outputId": "fc60fca3-4810-4aac-be60-fc9fc275f868",
        "colab": {
          "base_uri": "https://localhost:8080/"
        }
      },
      "id": "NZYEGeIRsssE",
      "execution_count": null,
      "outputs": [
        {
          "output_type": "stream",
          "name": "stdout",
          "text": [
            "tensor(10)\n",
            "tensor(11)\n",
            "tensor(20)\n",
            "tensor([13, 11,  7,  3, 18, 20])\n"
          ]
        }
      ]
    },
    {
      "cell_type": "markdown",
      "source": [
        "<p style=\"font-family:B Nazanin\" dir=\"rtl\">\n",
        "    مشابه با لیست‌ها در پایتون، عملیات Slicing را روی تنسورها نیز می‌توان انجام داد.\n",
        "</p>"
      ],
      "metadata": {
        "id": "DhCdK1trs78z"
      },
      "id": "DhCdK1trs78z"
    },
    {
      "cell_type": "code",
      "source": [
        "vector_data = torch.randint(1, 21, (10,))\n",
        "vector_data"
      ],
      "metadata": {
        "id": "HLswTx4NtDRB",
        "outputId": "d190a542-dcdb-42b4-a5dc-7dd99e3e0ce0",
        "colab": {
          "base_uri": "https://localhost:8080/"
        }
      },
      "id": "HLswTx4NtDRB",
      "execution_count": null,
      "outputs": [
        {
          "output_type": "execute_result",
          "data": {
            "text/plain": [
              "tensor([ 8,  4,  4, 15, 14, 18, 11, 10, 11, 20])"
            ]
          },
          "metadata": {},
          "execution_count": 27
        }
      ]
    },
    {
      "cell_type": "code",
      "source": [
        "print(vector_data[2:6])\n",
        "print(vector_data[:6])\n",
        "print(vector_data[2:])\n",
        "print(vector_data[:])\n",
        "print(vector_data[:-1])\n",
        "print(vector_data[::2])"
      ],
      "metadata": {
        "id": "fm97E-9_tI08",
        "outputId": "988b6ae2-23d0-4fe2-b111-8683ebeb659c",
        "colab": {
          "base_uri": "https://localhost:8080/"
        }
      },
      "id": "fm97E-9_tI08",
      "execution_count": null,
      "outputs": [
        {
          "output_type": "stream",
          "name": "stdout",
          "text": [
            "tensor([ 4, 15, 14, 18])\n",
            "tensor([ 8,  4,  4, 15, 14, 18])\n",
            "tensor([ 4, 15, 14, 18, 11, 10, 11, 20])\n",
            "tensor([ 8,  4,  4, 15, 14, 18, 11, 10, 11, 20])\n",
            "tensor([ 8,  4,  4, 15, 14, 18, 11, 10, 11])\n",
            "tensor([ 8,  4, 14, 11, 11])\n"
          ]
        }
      ]
    },
    {
      "cell_type": "code",
      "source": [
        "mat_data = torch.randint(1, 21, (7, 8))\n",
        "mat_data"
      ],
      "metadata": {
        "id": "y-4IQUNEtaEk",
        "outputId": "8224e0ac-f770-4fd2-e8e7-cc0348cec5ad",
        "colab": {
          "base_uri": "https://localhost:8080/"
        }
      },
      "id": "y-4IQUNEtaEk",
      "execution_count": null,
      "outputs": [
        {
          "output_type": "execute_result",
          "data": {
            "text/plain": [
              "tensor([[ 7, 20, 16,  5, 19,  9,  7, 11],\n",
              "        [ 1,  1, 11,  2,  4,  1, 12,  2],\n",
              "        [18, 10,  5, 14,  9, 10,  4,  8],\n",
              "        [19, 12, 15, 12, 17,  4,  3, 11],\n",
              "        [10,  9, 16, 14,  8,  8,  6, 10],\n",
              "        [ 2,  6,  2, 20,  2,  5, 11, 14],\n",
              "        [18, 16, 18,  2,  6,  8,  6, 19]])"
            ]
          },
          "metadata": {},
          "execution_count": 29
        }
      ]
    },
    {
      "cell_type": "code",
      "source": [
        "print(mat_data[2:5, 1:3])\n",
        "print(mat_data[:, 1:3])\n",
        "print(mat_data[2:5, :])\n",
        "print(mat_data[:5, 4:])\n",
        "print(mat_data[:, :])"
      ],
      "metadata": {
        "id": "CDtYelciteXJ",
        "outputId": "175c23f2-ec4b-4892-988c-0304903fc462",
        "colab": {
          "base_uri": "https://localhost:8080/"
        }
      },
      "id": "CDtYelciteXJ",
      "execution_count": null,
      "outputs": [
        {
          "output_type": "stream",
          "name": "stdout",
          "text": [
            "tensor([[10,  5],\n",
            "        [12, 15],\n",
            "        [ 9, 16]])\n",
            "tensor([[20, 16],\n",
            "        [ 1, 11],\n",
            "        [10,  5],\n",
            "        [12, 15],\n",
            "        [ 9, 16],\n",
            "        [ 6,  2],\n",
            "        [16, 18]])\n",
            "tensor([[18, 10,  5, 14,  9, 10,  4,  8],\n",
            "        [19, 12, 15, 12, 17,  4,  3, 11],\n",
            "        [10,  9, 16, 14,  8,  8,  6, 10]])\n",
            "tensor([[19,  9,  7, 11],\n",
            "        [ 4,  1, 12,  2],\n",
            "        [ 9, 10,  4,  8],\n",
            "        [17,  4,  3, 11],\n",
            "        [ 8,  8,  6, 10]])\n",
            "tensor([[ 7, 20, 16,  5, 19,  9,  7, 11],\n",
            "        [ 1,  1, 11,  2,  4,  1, 12,  2],\n",
            "        [18, 10,  5, 14,  9, 10,  4,  8],\n",
            "        [19, 12, 15, 12, 17,  4,  3, 11],\n",
            "        [10,  9, 16, 14,  8,  8,  6, 10],\n",
            "        [ 2,  6,  2, 20,  2,  5, 11, 14],\n",
            "        [18, 16, 18,  2,  6,  8,  6, 19]])\n"
          ]
        }
      ]
    },
    {
      "cell_type": "code",
      "source": [
        "ten_data = torch.randint(1, 21, (3, 5, 8))\n",
        "ten_data"
      ],
      "metadata": {
        "id": "yibzZD2ct0LO",
        "outputId": "e7ff86c0-08c1-4850-9a1e-1276cb975943",
        "colab": {
          "base_uri": "https://localhost:8080/"
        }
      },
      "id": "yibzZD2ct0LO",
      "execution_count": null,
      "outputs": [
        {
          "output_type": "execute_result",
          "data": {
            "text/plain": [
              "tensor([[[16, 15, 12,  2, 11, 20,  1, 10],\n",
              "         [12,  9, 20, 17, 18,  7,  1, 20],\n",
              "         [ 6, 13, 20, 12,  8,  9, 17,  1],\n",
              "         [ 7,  9, 17,  9, 11, 17, 20,  1],\n",
              "         [16, 20, 16,  3, 11, 19,  9,  8]],\n",
              "\n",
              "        [[ 3,  3, 17, 19, 13, 18,  7, 14],\n",
              "         [ 1,  4,  7,  1,  4,  8, 14,  9],\n",
              "         [20, 19,  3,  6, 16,  5, 19, 12],\n",
              "         [ 8, 10,  3,  7,  9,  3,  9,  3],\n",
              "         [ 2, 11,  1, 17,  6, 11,  7, 10]],\n",
              "\n",
              "        [[ 3, 15, 13, 11,  3, 14, 14, 12],\n",
              "         [17, 15,  7, 20, 15,  9, 20, 13],\n",
              "         [16, 20, 10, 17, 15, 11,  9,  3],\n",
              "         [15,  1, 12,  1,  8, 11, 19, 19],\n",
              "         [10, 12, 14,  2,  5,  2,  1,  9]]])"
            ]
          },
          "metadata": {},
          "execution_count": 31
        }
      ]
    },
    {
      "cell_type": "code",
      "source": [
        "print(ten_data[1:2, :4, 2:])\n",
        "print(ten_data[2])\n",
        "print(ten_data[...]) # Ellipsis (...) sign: به معنای همه عناصر است\n",
        "print(ten_data[..., 2]) # یعنی همه ابعاد فقط در بعد آخر دومین اندیس آورده شود."
      ],
      "metadata": {
        "id": "vJZecfL9t5kn",
        "outputId": "e1b309fd-df8f-48cc-d0d5-e94c7811276c",
        "colab": {
          "base_uri": "https://localhost:8080/"
        }
      },
      "id": "vJZecfL9t5kn",
      "execution_count": null,
      "outputs": [
        {
          "output_type": "stream",
          "name": "stdout",
          "text": [
            "tensor([[[17, 19, 13, 18,  7, 14],\n",
            "         [ 7,  1,  4,  8, 14,  9],\n",
            "         [ 3,  6, 16,  5, 19, 12],\n",
            "         [ 3,  7,  9,  3,  9,  3]]])\n",
            "tensor([[ 3, 15, 13, 11,  3, 14, 14, 12],\n",
            "        [17, 15,  7, 20, 15,  9, 20, 13],\n",
            "        [16, 20, 10, 17, 15, 11,  9,  3],\n",
            "        [15,  1, 12,  1,  8, 11, 19, 19],\n",
            "        [10, 12, 14,  2,  5,  2,  1,  9]])\n",
            "tensor([[[16, 15, 12,  2, 11, 20,  1, 10],\n",
            "         [12,  9, 20, 17, 18,  7,  1, 20],\n",
            "         [ 6, 13, 20, 12,  8,  9, 17,  1],\n",
            "         [ 7,  9, 17,  9, 11, 17, 20,  1],\n",
            "         [16, 20, 16,  3, 11, 19,  9,  8]],\n",
            "\n",
            "        [[ 3,  3, 17, 19, 13, 18,  7, 14],\n",
            "         [ 1,  4,  7,  1,  4,  8, 14,  9],\n",
            "         [20, 19,  3,  6, 16,  5, 19, 12],\n",
            "         [ 8, 10,  3,  7,  9,  3,  9,  3],\n",
            "         [ 2, 11,  1, 17,  6, 11,  7, 10]],\n",
            "\n",
            "        [[ 3, 15, 13, 11,  3, 14, 14, 12],\n",
            "         [17, 15,  7, 20, 15,  9, 20, 13],\n",
            "         [16, 20, 10, 17, 15, 11,  9,  3],\n",
            "         [15,  1, 12,  1,  8, 11, 19, 19],\n",
            "         [10, 12, 14,  2,  5,  2,  1,  9]]])\n",
            "tensor([[12, 20, 20, 17, 16],\n",
            "        [17,  7,  3,  3,  1],\n",
            "        [13,  7, 10, 12, 14]])\n"
          ]
        }
      ]
    },
    {
      "cell_type": "markdown",
      "source": [
        "<p style=\"font-family:B Nazanin\" dir=\"rtl\">\n",
        "    عملیات تغییر ابعاد یا reshape کردن تنسور\n",
        "</p>"
      ],
      "metadata": {
        "id": "Vniwtnd_QcXz"
      },
      "id": "Vniwtnd_QcXz"
    },
    {
      "cell_type": "code",
      "source": [
        "vector_data = torch.randint(1,21,(30,))\n",
        "print(vector_data)\n",
        "print(vector_data.shape)"
      ],
      "metadata": {
        "id": "vE4c-CSKQyY2",
        "outputId": "1b557d42-50b3-41fe-aa99-9b8ae2a18269",
        "colab": {
          "base_uri": "https://localhost:8080/"
        }
      },
      "id": "vE4c-CSKQyY2",
      "execution_count": null,
      "outputs": [
        {
          "output_type": "stream",
          "name": "stdout",
          "text": [
            "tensor([ 3,  7, 10,  9, 13,  7,  8,  8, 12,  6,  3,  9, 18,  4,  2,  3, 15, 17,\n",
            "         4,  8,  7, 16, 15,  6,  7, 15, 15, 18, 16,  2])\n",
            "torch.Size([30])\n"
          ]
        }
      ]
    },
    {
      "cell_type": "code",
      "source": [
        "vector_data.reshape(2,5,3)"
      ],
      "metadata": {
        "id": "s7Muc58jQ9ab",
        "outputId": "573edbe9-fe43-440b-b41b-2b6cd6ee69ad",
        "colab": {
          "base_uri": "https://localhost:8080/"
        }
      },
      "id": "s7Muc58jQ9ab",
      "execution_count": null,
      "outputs": [
        {
          "output_type": "execute_result",
          "data": {
            "text/plain": [
              "tensor([[[ 3,  7, 10],\n",
              "         [ 9, 13,  7],\n",
              "         [ 8,  8, 12],\n",
              "         [ 6,  3,  9],\n",
              "         [18,  4,  2]],\n",
              "\n",
              "        [[ 3, 15, 17],\n",
              "         [ 4,  8,  7],\n",
              "         [16, 15,  6],\n",
              "         [ 7, 15, 15],\n",
              "         [18, 16,  2]]])"
            ]
          },
          "metadata": {},
          "execution_count": 6
        }
      ]
    },
    {
      "cell_type": "markdown",
      "source": [
        "<p style=\"font-family:B Nazanin\" dir=\"rtl\">\n",
        "    تابع <code>unsqueeze()</code> برای اضافه کردن یک بعد در یک موقعیت خاص استفاده می‌شود. به عنوان مثال تنسور زیر را در نظر بگیرید:\n",
        "</p>"
      ],
      "metadata": {
        "id": "ZNP5BwngRdoX"
      },
      "id": "ZNP5BwngRdoX"
    },
    {
      "cell_type": "code",
      "source": [
        "vector_data1 = torch.randint(1,21,(8,))\n",
        "print(vector_data1.shape)\n",
        "print(vector_data1)"
      ],
      "metadata": {
        "id": "fAIiL_0wR6RM",
        "outputId": "154bc965-fb60-4eda-89d9-8d29c861ef14",
        "colab": {
          "base_uri": "https://localhost:8080/"
        }
      },
      "id": "fAIiL_0wR6RM",
      "execution_count": null,
      "outputs": [
        {
          "output_type": "stream",
          "name": "stdout",
          "text": [
            "torch.Size([8])\n",
            "tensor([18,  4,  6,  2,  7,  3,  7,  9])\n"
          ]
        }
      ]
    },
    {
      "cell_type": "markdown",
      "source": [
        "<p style=\"font-family:B Nazanin\" dir=\"rtl\">\n",
        "    حال می‌خواهیم یک بعد به این تنسور اضافخ کنیم به صورتی که ابعاد نهایی تنسور یک در هشت شود:\n",
        "</p>"
      ],
      "metadata": {
        "id": "tpsUv0nfSH_x"
      },
      "id": "tpsUv0nfSH_x"
    },
    {
      "cell_type": "code",
      "source": [
        "vector_data2 = vector_data1.unsqueeze(0)\n",
        "print(vector_data2.shape)\n",
        "print(vector_data2)"
      ],
      "metadata": {
        "id": "n-M9muqqSWy8",
        "outputId": "ae841a6d-b318-4a60-901e-f84947e9848f",
        "colab": {
          "base_uri": "https://localhost:8080/"
        }
      },
      "id": "n-M9muqqSWy8",
      "execution_count": null,
      "outputs": [
        {
          "output_type": "stream",
          "name": "stdout",
          "text": [
            "torch.Size([1, 8])\n",
            "tensor([[18,  4,  6,  2,  7,  3,  7,  9]])\n"
          ]
        }
      ]
    },
    {
      "cell_type": "markdown",
      "source": [
        "<p style=\"font-family:B Nazanin\" dir=\"rtl\">\n",
        "    اگر می‌خواستیم ابعاد نهایی هشت در یک شود:\n",
        "</p>"
      ],
      "metadata": {
        "id": "jUI3g1HcSgBH"
      },
      "id": "jUI3g1HcSgBH"
    },
    {
      "cell_type": "code",
      "source": [
        "vector_data2 = vector_data1.unsqueeze(1)\n",
        "print(vector_data2.shape)\n",
        "print(vector_data2)"
      ],
      "metadata": {
        "id": "32Ihmr_FSlEY",
        "outputId": "86997ee8-a57e-4dca-988c-176be5052a45",
        "colab": {
          "base_uri": "https://localhost:8080/"
        }
      },
      "id": "32Ihmr_FSlEY",
      "execution_count": null,
      "outputs": [
        {
          "output_type": "stream",
          "name": "stdout",
          "text": [
            "torch.Size([8, 1])\n",
            "tensor([[18],\n",
            "        [ 4],\n",
            "        [ 6],\n",
            "        [ 2],\n",
            "        [ 7],\n",
            "        [ 3],\n",
            "        [ 7],\n",
            "        [ 9]])\n"
          ]
        }
      ]
    },
    {
      "cell_type": "markdown",
      "source": [
        "<p style=\"font-family:B Nazanin\" dir=\"rtl\">\n",
        "    مثال دیگر:\n",
        "</p>"
      ],
      "metadata": {
        "id": "8aqHzCgCSnid"
      },
      "id": "8aqHzCgCSnid"
    },
    {
      "cell_type": "code",
      "source": [
        "mat_data1 = torch.randint(1, 21, (3, 5))\n",
        "print(f'mat_data1.shape: {mat_data1.shape}')\n",
        "print(f'mat_data1: \\n{mat_data1}')\n",
        "print('*'*100)\n",
        "\n",
        "mat_data2 = mat_data1.unsqueeze(0)\n",
        "print(f'mat_data2.shape: {mat_data2.shape}')\n",
        "print(f'mat_data2: \\n{mat_data2}')\n",
        "print('*'*100)\n",
        "\n",
        "mat_data3 = mat_data1.unsqueeze(1)\n",
        "print(f'mat_data3.shape: {mat_data3.shape}')\n",
        "print(f'mat_data3: \\n{mat_data3}')\n",
        "print('*'*100)\n",
        "\n",
        "mat_data4 = mat_data1.unsqueeze(2)\n",
        "print(f'mat_data4.shape: {mat_data4.shape}')\n",
        "print(f'mat_data4: \\n{mat_data4}')\n",
        "print('*'*100)"
      ],
      "metadata": {
        "id": "wDk_FDcoSzgL",
        "outputId": "e5f56a85-fc00-4542-a813-a1e2be1ee0d2",
        "colab": {
          "base_uri": "https://localhost:8080/"
        }
      },
      "id": "wDk_FDcoSzgL",
      "execution_count": null,
      "outputs": [
        {
          "output_type": "stream",
          "name": "stdout",
          "text": [
            "mat_data1.shape: torch.Size([3, 5])\n",
            "mat_data1: \n",
            "tensor([[12, 20, 11,  7, 16],\n",
            "        [16,  6, 12,  4,  6],\n",
            "        [12,  2,  7, 20,  5]])\n",
            "****************************************************************************************************\n",
            "mat_data2.shape: torch.Size([1, 3, 5])\n",
            "mat_data2: \n",
            "tensor([[[12, 20, 11,  7, 16],\n",
            "         [16,  6, 12,  4,  6],\n",
            "         [12,  2,  7, 20,  5]]])\n",
            "****************************************************************************************************\n",
            "mat_data3.shape: torch.Size([3, 1, 5])\n",
            "mat_data3: \n",
            "tensor([[[12, 20, 11,  7, 16]],\n",
            "\n",
            "        [[16,  6, 12,  4,  6]],\n",
            "\n",
            "        [[12,  2,  7, 20,  5]]])\n",
            "****************************************************************************************************\n",
            "mat_data4.shape: torch.Size([3, 5, 1])\n",
            "mat_data4: \n",
            "tensor([[[12],\n",
            "         [20],\n",
            "         [11],\n",
            "         [ 7],\n",
            "         [16]],\n",
            "\n",
            "        [[16],\n",
            "         [ 6],\n",
            "         [12],\n",
            "         [ 4],\n",
            "         [ 6]],\n",
            "\n",
            "        [[12],\n",
            "         [ 2],\n",
            "         [ 7],\n",
            "         [20],\n",
            "         [ 5]]])\n",
            "****************************************************************************************************\n"
          ]
        }
      ]
    },
    {
      "cell_type": "markdown",
      "source": [
        "<p style=\"font-family:B Nazanin\" dir=\"rtl\">\n",
        "    تابع <code>squeeze()</code> می‌توانید ابعادی که طول آن‌ها برابر با یک است را از تنسور حذف کند. این تابع یک ورودی می‌گیرپ که مشخص می‌کند چندمین بعد با طول یک باید حذف شود.\n",
        "</p>"
      ],
      "metadata": {
        "id": "w9uE7yVvT2NK"
      },
      "id": "w9uE7yVvT2NK"
    },
    {
      "cell_type": "code",
      "source": [
        "mat_data1 = torch.randint(1, 21, (1,3,1,1,5))\n",
        "print(f'mat_data1.shape: {mat_data1.shape}')\n",
        "print(f'mat_data1: \\n{mat_data1}')\n",
        "print('*'*100)\n",
        "\n",
        "mat_data2 = mat_data1.squeeze(0)\n",
        "print(f'mat_data2.shape: {mat_data2.shape}')\n",
        "print(f'mat_data2: \\n{mat_data2}')\n",
        "print('*'*100)\n",
        "\n",
        "mat_data3 = mat_data2.squeeze(1)\n",
        "print(f'mat_data3.shape: {mat_data3.shape}')\n",
        "print(f'mat_data3: \\n{mat_data3}')\n",
        "print('*'*100)\n",
        "\n",
        "mat_data4 = mat_data3.squeeze(1)\n",
        "print(f'mat_data4.shape: {mat_data4.shape}')\n",
        "print(f'mat_data4: \\n{mat_data4}')\n",
        "print('*'*100)\n",
        "\n",
        "mat_data5 = mat_data3.reshape(15)\n",
        "print(f'mat_data5.shape: {mat_data5.shape}')\n",
        "print(f'mat_data5: \\n{mat_data5}')\n",
        "print('*'*100)"
      ],
      "metadata": {
        "id": "ueDRPChuT-Zi",
        "outputId": "e1ab4486-47a1-4110-ea50-db46a8ed73f5",
        "colab": {
          "base_uri": "https://localhost:8080/"
        }
      },
      "id": "ueDRPChuT-Zi",
      "execution_count": null,
      "outputs": [
        {
          "output_type": "stream",
          "name": "stdout",
          "text": [
            "mat_data1.shape: torch.Size([1, 3, 1, 1, 5])\n",
            "mat_data1: \n",
            "tensor([[[[[ 5, 13, 17, 16, 13]]],\n",
            "\n",
            "\n",
            "         [[[14, 19, 18,  1,  3]]],\n",
            "\n",
            "\n",
            "         [[[12,  3,  7,  3,  5]]]]])\n",
            "****************************************************************************************************\n",
            "mat_data2.shape: torch.Size([3, 1, 1, 5])\n",
            "mat_data2: \n",
            "tensor([[[[ 5, 13, 17, 16, 13]]],\n",
            "\n",
            "\n",
            "        [[[14, 19, 18,  1,  3]]],\n",
            "\n",
            "\n",
            "        [[[12,  3,  7,  3,  5]]]])\n",
            "****************************************************************************************************\n",
            "mat_data3.shape: torch.Size([3, 1, 5])\n",
            "mat_data3: \n",
            "tensor([[[ 5, 13, 17, 16, 13]],\n",
            "\n",
            "        [[14, 19, 18,  1,  3]],\n",
            "\n",
            "        [[12,  3,  7,  3,  5]]])\n",
            "****************************************************************************************************\n",
            "mat_data4.shape: torch.Size([3, 5])\n",
            "mat_data4: \n",
            "tensor([[ 5, 13, 17, 16, 13],\n",
            "        [14, 19, 18,  1,  3],\n",
            "        [12,  3,  7,  3,  5]])\n",
            "****************************************************************************************************\n",
            "mat_data5.shape: torch.Size([15])\n",
            "mat_data5: \n",
            "tensor([ 5, 13, 17, 16, 13, 14, 19, 18,  1,  3, 12,  3,  7,  3,  5])\n",
            "****************************************************************************************************\n"
          ]
        }
      ]
    },
    {
      "cell_type": "markdown",
      "source": [
        "<p style=\"font-family:B Nazanin\" dir=\"rtl\">\n",
        "    خاصیت Auto Grad در کتابخانه PyTorch: <br>\n",
        "    یکی از توانایی‌های ویژه کتابخانه Pytorch این است که می‌تواند گرادیان (یا مشتق) یک تابع را نسبت به متغیرهای آن تابع به راحتی محاسبه نماید. برای این منظور در هنگام تعریف متغیر‌ها از نوع تنسور، پارامتری به نام requirs_grad تعریف می‌شود. به صورت پیش‌فرض این پارامتر مقدار False دارد. اما اگر مقدار این پارامتر برای یک متغیر برابر با True تعریف شود، به این معنی است که هر تابع یا متغیر دیگری که برحسب این متغیر تعریف شود، می‌توانیم از آن نسبت به این متغیر مشتق بگیریم و گرادیان آن را حساب کنیم. به عنوان مثال در کد زیر متغیر x را به این صورت تعریف می‌کنیم و تابع y را بر حسب آن تعریف می‌نماییم.\n",
        "</p>"
      ],
      "metadata": {
        "id": "2mfh-A89z4i-"
      },
      "id": "2mfh-A89z4i-"
    },
    {
      "cell_type": "markdown",
      "source": [
        "$\n",
        "y = x^2 ⇒ \\frac{dy}{dx} = 2x\n",
        "$"
      ],
      "metadata": {
        "id": "k39rrdu01aoa"
      },
      "id": "k39rrdu01aoa"
    },
    {
      "cell_type": "code",
      "source": [
        "x = torch.tensor(3.5, requires_grad=True)\n",
        "y = x ** 2"
      ],
      "metadata": {
        "id": "_SDTwvNz1F9p"
      },
      "id": "_SDTwvNz1F9p",
      "execution_count": 2,
      "outputs": []
    },
    {
      "cell_type": "markdown",
      "source": [
        "<p style=\"font-family:B Nazanin\" dir=\"rtl\">\n",
        "    وقتی متغیر و تابع را به این صورت تعریف کردیم، می‌توانیم با استفاده از تابع <code>backward()</code> گرادیان تابع y را نسبت به تمام متغیرهای مستقلش محاسبه نماییم. در این صورت مقدار گرادیان تابع نسبت به هر متغیر درون ویژگی grad از همان متغیر ذخیره می‌شود. یعنی مثلا در اینجا مشتق تابع y نسبت به x با استفاده از کد <code>x.grad</code> قابل دستیابی است.\n",
        "</p>"
      ],
      "metadata": {
        "id": "9HLuuSCj1o6k"
      },
      "id": "9HLuuSCj1o6k"
    },
    {
      "cell_type": "code",
      "source": [
        "y.backward()\n",
        "\n",
        "print(x.data)\n",
        "print(x.grad)\n",
        "print(x.requires_grad)"
      ],
      "metadata": {
        "id": "7ewg5oH82OEm",
        "outputId": "8d573310-5a05-42fe-be5b-82d686c7a49a",
        "colab": {
          "base_uri": "https://localhost:8080/"
        }
      },
      "id": "7ewg5oH82OEm",
      "execution_count": 3,
      "outputs": [
        {
          "output_type": "stream",
          "name": "stdout",
          "text": [
            "tensor(3.5000)\n",
            "tensor(7.)\n",
            "True\n"
          ]
        }
      ]
    },
    {
      "cell_type": "markdown",
      "source": [
        "<p style=\"font-family:B Nazanin\" dir=\"rtl\">\n",
        "    همان طور که دیده می‌شود مقدار x برابر با 3.5 است و مشتق تابع y نسبت به x با جایگذاری عددی برابر با 7 به دست آمده است.<br>\n",
        "    مثال. تابع زیر را در نظر بگیرید:\n",
        "</p>"
      ],
      "metadata": {
        "id": "DBRJRni_2XWf"
      },
      "id": "DBRJRni_2XWf"
    },
    {
      "cell_type": "markdown",
      "source": [
        "$\n",
        "y = ax^2+b ⇒ \\frac{dy}{dx} = 2ax\n",
        "$"
      ],
      "metadata": {
        "id": "qA-9jdoD3K8u"
      },
      "id": "qA-9jdoD3K8u"
    },
    {
      "cell_type": "code",
      "source": [
        "a = torch.tensor(4.)\n",
        "b = torch.tensor(6.)\n",
        "x = torch.tensor(3., requires_grad=True)\n",
        "\n",
        "y = a*x**2 + b\n",
        "y.backward()\n",
        "\n",
        "print(f'a.data: {a.data}')\n",
        "print(f'a.grad: {a.grad}')\n",
        "print(f'a.requires_grad: {a.requires_grad}')\n",
        "print('*'*50)\n",
        "\n",
        "print(f'b.data: {b.data}')\n",
        "print(f'b.grad: {b.grad}')\n",
        "print(f'b.requires_grad: {b.requires_grad}')\n",
        "print('*'*50)\n",
        "\n",
        "print(f'x.data: {x.data}')\n",
        "print(f'x.grad: {x.grad}')\n",
        "print(f'x.requires_grad: {x.requires_grad}')\n",
        "print('*'*50)"
      ],
      "metadata": {
        "id": "qujGccZf3Ebg",
        "outputId": "7de4a8bb-9f2a-4c32-abf5-09730bf7b624",
        "colab": {
          "base_uri": "https://localhost:8080/"
        }
      },
      "id": "qujGccZf3Ebg",
      "execution_count": 5,
      "outputs": [
        {
          "output_type": "stream",
          "name": "stdout",
          "text": [
            "a.data: 4.0\n",
            "a.grad: None\n",
            "a.requires_grad: False\n",
            "**************************************************\n",
            "b.data: 6.0\n",
            "b.grad: None\n",
            "b.requires_grad: False\n",
            "**************************************************\n",
            "x.data: 3.0\n",
            "x.grad: 24.0\n",
            "x.requires_grad: True\n",
            "**************************************************\n"
          ]
        }
      ]
    },
    {
      "cell_type": "markdown",
      "source": [
        "<p style=\"font-family:B Nazanin\" dir=\"rtl\">\n",
        "    در مثال‌های شبکه عصبی که فرمول به صورت زیر بود (مقدار w ضرایب و مقدار b بایاس بود)، باید مشتق نسبت به w و b گرفته شود:\n",
        "</p>"
      ],
      "metadata": {
        "id": "mBS7fSCTCqpL"
      },
      "id": "mBS7fSCTCqpL"
    },
    {
      "cell_type": "markdown",
      "source": [
        "$\n",
        "y = wx+b ⇒ \\frac{dy}{dw}=x , \\frac{dy}{db}=1\n",
        "$"
      ],
      "metadata": {
        "id": "tJpcR-N_DBvG"
      },
      "id": "tJpcR-N_DBvG"
    },
    {
      "cell_type": "code",
      "source": [
        "w = torch.tensor(4., requires_grad=True)\n",
        "b = torch.tensor(2., requires_grad=True)\n",
        "x = torch.tensor(3.)\n",
        "\n",
        "y = w*x + b\n",
        "y.backward()\n",
        "\n",
        "print(f'w.grad: {w.grad}')\n",
        "print(f'v.grad: {b.grad}')"
      ],
      "metadata": {
        "id": "MEuWcsF4DLKK",
        "outputId": "2c564967-4f68-4e3f-d021-e44654715dbe",
        "colab": {
          "base_uri": "https://localhost:8080/"
        }
      },
      "id": "MEuWcsF4DLKK",
      "execution_count": 3,
      "outputs": [
        {
          "output_type": "stream",
          "name": "stdout",
          "text": [
            "w.grad: 3.0\n",
            "v.grad: 1.0\n"
          ]
        }
      ]
    },
    {
      "cell_type": "markdown",
      "source": [
        "<p style=\"font-family:B Nazanin\" dir=\"rtl\">\n",
        "    از این خاصیت AutoGrad کتابخانه PyTorch می‌توان در محاسبه گرادیان کاهشی استفاده مفیدی کرد. فرض کنید تابع ما $y = x^2$ است. می‌خواهیم با استفاده از گرادیان کاهشی مینیمم آن را محاسبه کنیم:\n",
        "</p>"
      ],
      "metadata": {
        "id": "NTxoH-MAELGW"
      },
      "id": "NTxoH-MAELGW"
    },
    {
      "cell_type": "code",
      "source": [
        "def func(x):\n",
        "    return x**2\n",
        "\n",
        "xList = torch.linspace(-7, 7, 200)\n",
        "yList = func(xList)\n",
        "\n",
        "plt.plot(xList, yList)\n",
        "plt.xlabel('x')\n",
        "plt.ylabel('y')\n",
        "plt.show()"
      ],
      "metadata": {
        "id": "d51mHKgxDxzi",
        "outputId": "aa302c2d-f364-4334-ea39-634de632c623",
        "colab": {
          "base_uri": "https://localhost:8080/",
          "height": 449
        }
      },
      "id": "d51mHKgxDxzi",
      "execution_count": 5,
      "outputs": [
        {
          "output_type": "display_data",
          "data": {
            "text/plain": [
              "<Figure size 640x480 with 1 Axes>"
            ],
            "image/png": "[encoded data removed]"
          },
          "metadata": {}
        }
      ]
    },
    {
      "cell_type": "markdown",
      "source": [
        "<p style=\"font-family:B Nazanin\" dir=\"rtl\">\n",
        "    از یک مقدار دلخواه شروع می‌کنیم و با یک نرخ یادگیری و محاسبه گرادیان تابع در هر مرحله تکرار، مرتب مقدار گرادیان را کاهش می‌دهیم. <br>\n",
        "    نکته مهم در استفاده از grad این است که اگر بخواهیم مجددا گرادیان یک متغیر را حساب کنیم، قبل از آن باید مقدار grad را دستی صفر کنیم وگرنه این مقادیر با هم جمع می‌شود.\n",
        "</p>"
      ],
      "metadata": {
        "id": "k0whcpAKGmK1"
      },
      "id": "k0whcpAKGmK1"
    },
    {
      "cell_type": "code",
      "source": [
        "x = torch.tensor(6., requires_grad=True)\n",
        "\n",
        "N = 50      # iterations\n",
        "eta = 0.1   # learning rate\n",
        "xDatas = []\n",
        "\n",
        "for i in range(N):\n",
        "    xDatas.append(x.data.item())\n",
        "    func(x).backward()\n",
        "    x.data -= eta * x.grad\n",
        "    x.grad.zero_()\n",
        "\n",
        "yDatas = [func(torch.tensor(x)).item() for x in xDatas]\n",
        "plt.plot(xList, yList)\n",
        "plt.scatter(xDatas, yDatas, color='red', label='Gradient Descent Points', zorder=2)\n",
        "plt.xlabel('x')\n",
        "plt.ylabel('y')\n",
        "plt.show()"
      ],
      "metadata": {
        "id": "z4KT8hGsFGm8",
        "outputId": "67badb27-eb8e-4fcb-bf68-ecf94d7e7a1b",
        "colab": {
          "base_uri": "https://localhost:8080/",
          "height": 449
        }
      },
      "id": "z4KT8hGsFGm8",
      "execution_count": 7,
      "outputs": [
        {
          "output_type": "display_data",
          "data": {
            "text/plain": [
              "<Figure size 640x480 with 1 Axes>"
            ],
            "image/png": "[encoded data removed]"
          },
          "metadata": {}
        }
      ]
    },
    {
      "cell_type": "markdown",
      "source": [
        "<p style=\"font-family:B Nazanin\" dir=\"rtl\">\n",
        "    مثال دیگر:\n",
        "</p>"
      ],
      "metadata": {
        "id": "30Cy7A8pG9Ki"
      },
      "id": "30Cy7A8pG9Ki"
    },
    {
      "cell_type": "markdown",
      "source": [
        "$\n",
        "y = x^4 - 8x^2 - 3x\n",
        "$"
      ],
      "metadata": {
        "id": "CdKwCL7MHPzG"
      },
      "id": "CdKwCL7MHPzG"
    },
    {
      "cell_type": "code",
      "source": [
        "def func2(x):\n",
        "    return x**4 - 8*x**2 - 3*x\n",
        "\n",
        "xList = torch.linspace(-3, 3, 200)\n",
        "yList = func2(xList)\n",
        "\n",
        "plt.plot(xList, yList)\n",
        "plt.xlabel('x')\n",
        "plt.ylabel('y')\n",
        "plt.show()"
      ],
      "metadata": {
        "id": "hAOufehyHPTh",
        "outputId": "0264f097-edab-4972-f619-3de0262304d5",
        "colab": {
          "base_uri": "https://localhost:8080/",
          "height": 455
        }
      },
      "id": "hAOufehyHPTh",
      "execution_count": 9,
      "outputs": [
        {
          "output_type": "display_data",
          "data": {
            "text/plain": [
              "<Figure size 640x480 with 1 Axes>"
            ],
            "image/png": "[encoded data removed]"
          },
          "metadata": {}
        }
      ]
    },
    {
      "cell_type": "code",
      "source": [
        "x = torch.tensor(3., requires_grad=True)\n",
        "\n",
        "N = 50      # iterations\n",
        "eta = 0.006 # learning rate\n",
        "xDatas = []\n",
        "\n",
        "for i in range(N):\n",
        "    xDatas.append(x.data.item())\n",
        "    func2(x).backward()\n",
        "    x.data -= eta * x.grad\n",
        "    x.grad.zero_()\n",
        "\n",
        "yDatas = [func2(torch.tensor(x)).item() for x in xDatas]\n",
        "plt.plot(xList, yList)\n",
        "plt.scatter(xDatas, yDatas, color='red', label='Gradient Descent Points', zorder=2)\n",
        "plt.xlabel('x')\n",
        "plt.ylabel('y')\n",
        "plt.show()"
      ],
      "metadata": {
        "id": "El5SoU3zHfct",
        "outputId": "7a6e9eea-478b-445e-c348-3a67c9d7ce9a",
        "colab": {
          "base_uri": "https://localhost:8080/",
          "height": 455
        }
      },
      "id": "El5SoU3zHfct",
      "execution_count": 10,
      "outputs": [
        {
          "output_type": "display_data",
          "data": {
            "text/plain": [
              "<Figure size 640x480 with 1 Axes>"
            ],
            "image/png": "[encoded data removed]"
          },
          "metadata": {}
        }
      ]
    }
  ],
  "metadata": {
    "kernelspec": {
      "display_name": "Python 3",
      "name": "python3"
    },
    "language_info": {
      "codemirror_mode": {
        "name": "ipython",
        "version": 3
      },
      "file_extension": ".py",
      "mimetype": "text/x-python",
      "name": "python",
      "nbconvert_exporter": "python",
      "pygments_lexer": "ipython3",
      "version": "3.11.2"
    },
    "colab": {
      "provenance": [],
      "gpuType": "T4",
      "include_colab_link": true
    },
    "accelerator": "GPU"
  },
  "nbformat": 4,
  "nbformat_minor": 5
}