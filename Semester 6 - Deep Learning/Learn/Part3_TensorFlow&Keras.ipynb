{
  "nbformat": 4,
  "nbformat_minor": 0,
  "metadata": {
    "colab": {
      "provenance": [],
      "authorship_tag": "ABX9TyPcgW4rVxRMGatvLqTn+qBr",
      "include_colab_link": true
    },
    "kernelspec": {
      "name": "python3",
      "display_name": "Python 3"
    },
    "language_info": {
      "name": "python"
    }
  },
  "cells": [
    {
      "cell_type": "markdown",
      "metadata": {
        "id": "view-in-github",
        "colab_type": "text"
      },
      "source": [
        "<a href=\"https://colab.research.google.com/github/aghababaei-alireza/AI_Darsman/blob/main/Semester%206%20-%20Deep%20Learning/Learn/Part3_TensorFlow%26Keras.ipynb\" target=\"_parent\"><img src=\"https://colab.research.google.com/assets/colab-badge.svg\" alt=\"Open In Colab\"/></a>"
      ]
    },
    {
      "cell_type": "markdown",
      "source": [
        "<span dir=\"rtl\" style=\"font-family:B Nazanin\" align=\"right\">\n",
        "    <h1>فصل ششم: یادگیری عمیق</h1>\n",
        "    <h2>بخش سوم: یادگیری عمیق با TensorFlow و Keras</h2>\n",
        "</span>"
      ],
      "metadata": {
        "id": "ZSxDvgFXC61F"
      }
    },
    {
      "cell_type": "markdown",
      "source": [
        "<p style=\"font-family:B Nazanin\" dir=\"rtl\">\n",
        "    در ابن بخش با دو کتابخانه TensorFlow و Keras آشنا می‌شویم که در مباحث یادگیری عمیق بسیار می‌توانند کاربردی و مفید باشند. <br>\n",
        "    کتابخانه TensorFlow یک کتابخانه یا پلتفرم است که توسط گوگل برای انجام محاسبات عددی ساخته شده است. اما در گذر زمان و با شرایطی که برای هوش مصنوعی به وجود آمده‌است، تغییراتی در این کتابخانه ایجاد شده و اکنون بیشتر برای کاربردهای یادگیری عمیق استفاده می‌شود. این کتابخانه به صورت متن‌باز (Open Source) است. یکی از مزیت‌های این کتابخانه این است که می‌تواند هم روی CPU، هم روی GPU و هم روی TPU (واحدهای پردازشی تنسوری) کار کند. یکی دیگر از مزایای بزرگ این کتابخانه، مقیاس‌پذیری بالای آن است. یعنی هم برای پروژه‌ها کوچک و هم برای پروژه‌های بسیار بزرگ کاربرد دارد. کار کردن با کتابخانه TensorFlow با استفاده از رابط Keras بسیار ساده است و خیلی راحت می‌توان بدون کدنویسی‌های پیچیده، مدل‌های زیادی را ساخت و آموزش داد و از آن‌ها استفاده کرد. ضمنا پشتیبانی بسیار خوبی دارد و اخیرا نمونه کدها و پروژه‌های بسیار زیادی با استفاده از این کتابخانه نوشته شده که از آن‌ها می‌توان در ساخت پروژه‌های خود کمک گرفت. با توجه به محبوبیت زیاد این کتابخانه، کتابخانه‌های زیادی بر پایه آن ساخته شده است، مانند TensorFlow Light که برای اجرای پروژه‌ها روی موبایل یا Embedded Systemها استفاده می‌شود یا TensorFlowJS که ما می‌توانیم با استفاده از آن مدل‌ها را مستقیما روی مرورگرها اجرا کنیم. <br>\n",
        "    کتابخانه TensorFlow نیز با استفاده از تنسورها کار می‌کند. در این کتابخانه تعدادی گره (Node) تشکیل می‌شود که توسط تعدادی یال به یکدیگر متصل شده‌اند. در واقع TensorFlow‌یک گراف محاسباتی دارد که در آن هر گره یا نود یک عملیات ریاضی است. یال‌های این گراف نیز همان تنسورها یا داده‌های ما هستند که از یک گره به گره دیگر می‌روند. <br>\n",
        "    Keras یک رابط سطح بالا است که به عنوان یکی از بخش‌های کتابخانه TensorFlow طراحی شده است. چون استفاده از خود TensorFlow به تنهایی سخت و پیچیده بود، ابزار Keras طراحی شد تا با استفاده از آن بتوانیم ساده‌تر و سریع‌تر مدل‌های یادگیری عمیق را پیاده‌سازی کنیم.\n",
        "</p>"
      ],
      "metadata": {
        "id": "J0tApnm2C83w"
      }
    }
  ]
}