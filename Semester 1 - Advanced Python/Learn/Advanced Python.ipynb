{
 "cells": [
  {
   "cell_type": "markdown",
   "id": "d6ecdc34-489a-4bc5-9f90-31f34b17db9c",
   "metadata": {
    "direction": "rtl",
    "tags": []
   },
   "source": [
    "<span style = 'font-family:B Nazanin' dir = 'rtl' align = 'right'>\n",
    "\n",
    "  # مدیریت ماژول‌ها و پکیج‌های پایتون با استفاده از PIP\n",
    "\n",
    "   ```pip``` یکی از ابزارها پایتون است که می‌تواند مدیریت ماژول‌های مورد استفاده در پایتون را برعهده بگیرد. برای نصب این ابزار و استفاده از آن در پایتون لازم است که فایل  [get-pip.py](https://bootstrap.pypa.io/get-pip.py) را دانلود کنید. سپس در محیط cmd آن را با دستور ```python``` اجرا نمایید. \n",
    "    \n",
    "تمامی دستورات مربوط به `pip` درون محیط ترمینال اجرا می‌شود.\n",
    "\n",
    "</span>"
   ]
  },
  {
   "cell_type": "code",
   "execution_count": 1,
   "id": "c5bdcf23",
   "metadata": {},
   "outputs": [
    {
     "name": "stdout",
     "output_type": "stream",
     "text": [
      "Microsoft Windows [Version 10.0.19045.2604]\n",
      "(c) Microsoft Corporation. All rights reserved.\n",
      "\n",
      "E:\\Learning\\AI Master - Darsman\\Semester 1 - Advanced Python\\Learn>cd data\n",
      "\n",
      "E:\\Learning\\AI Master - Darsman\\Semester 1 - Advanced Python\\Learn\\data>python get-pip.py\n"
     ]
    },
    {
     "name": "stderr",
     "output_type": "stream",
     "text": [
      "WARNING: Retrying (Retry(total=4, connect=None, read=None, redirect=None, status=None)) after connection broken by 'ProxyError('Cannot connect to proxy.', TimeoutError('_ssl.c:975: The handshake operation timed out'))': /simple/pip/\r\n"
     ]
    },
    {
     "name": "stdout",
     "output_type": "stream",
     "text": [
      "Collecting pip\n",
      "  Using cached pip-23.0.1-py3-none-any.whl (2.1 MB)\n",
      "Installing collected packages: pip\n",
      "  Attempting uninstall: pip\n",
      "    Found existing installation: pip 23.0.1\n",
      "    Uninstalling pip-23.0.1:\n",
      "      Successfully uninstalled pip-23.0.1\n",
      "Successfully installed pip-23.0.1\n",
      "\n",
      "E:\\Learning\\AI Master - Darsman\\Semester 1 - Advanced Python\\Learn\\data>"
     ]
    }
   ],
   "source": [
    "%%cmd\n",
    "cd data\n",
    "python get-pip.py"
   ]
  },
  {
   "cell_type": "markdown",
   "id": "23846d1a",
   "metadata": {
    "direction": "rtl"
   },
   "source": [
    "<span style = 'font-family:B Nazanin' dir = 'rtl' align = 'right'>\n",
    "\n",
    "برای مشاهده ورژن نصب‌شده از `pip` دستور زیر را اجرا می‌کنیم: \n",
    "\n",
    "</span>"
   ]
  },
  {
   "cell_type": "code",
   "execution_count": 2,
   "id": "2f41f1f0",
   "metadata": {},
   "outputs": [
    {
     "name": "stdout",
     "output_type": "stream",
     "text": [
      "Microsoft Windows [Version 10.0.19045.2604]\n",
      "(c) Microsoft Corporation. All rights reserved.\n",
      "\n",
      "E:\\Learning\\AI Master - Darsman\\Semester 1 - Advanced Python\\Learn>pip --version\n",
      "pip 23.0.1 from C:\\Users\\Alireza\\AppData\\Local\\Programs\\Python\\Python311\\Lib\\site-packages\\pip (python 3.11)\n",
      "\n",
      "E:\\Learning\\AI Master - Darsman\\Semester 1 - Advanced Python\\Learn>"
     ]
    }
   ],
   "source": [
    "%%cmd\n",
    "pip --version"
   ]
  },
  {
   "cell_type": "markdown",
   "id": "b6081940",
   "metadata": {
    "direction": "rtl"
   },
   "source": [
    "<span style = 'font-family:B Nazanin' dir = 'rtl' align = 'right'>\n",
    "\n",
    "برای مشاهده تمام دستورات `pip` و همچنین راهنمای آن از دستور زیر استفاده می‌کنیم:\n",
    "    \n",
    "</span>"
   ]
  },
  {
   "cell_type": "code",
   "execution_count": 3,
   "id": "736bf117",
   "metadata": {
    "scrolled": false
   },
   "outputs": [
    {
     "name": "stdout",
     "output_type": "stream",
     "text": [
      "Microsoft Windows [Version 10.0.19045.2604]\n",
      "(c) Microsoft Corporation. All rights reserved.\n",
      "\n",
      "E:\\Learning\\AI Master - Darsman\\Semester 1 - Advanced Python\\Learn>pip help\n",
      "\n",
      "Usage:   \n",
      "  pip <command> [options]\n",
      "\n",
      "Commands:\n",
      "  install                     Install packages.\n",
      "  download                    Download packages.\n",
      "  uninstall                   Uninstall packages.\n",
      "  freeze                      Output installed packages in requirements format.\n",
      "  inspect                     Inspect the python environment.\n",
      "  list                        List installed packages.\n",
      "  show                        Show information about installed packages.\n",
      "  check                       Verify installed packages have compatible dependencies.\n",
      "  config                      Manage local and global configuration.\n",
      "  search                      Search PyPI for packages.\n",
      "  cache                       Inspect and manage pip's wheel cache.\n",
      "  index                       Inspect information available from package indexes.\n",
      "  wheel                       Build wheels from your requirements.\n",
      "  hash                        Compute hashes of package archives.\n",
      "  completion                  A helper command used for command completion.\n",
      "  debug                       Show information useful for debugging.\n",
      "  help                        Show help for commands.\n",
      "\n",
      "General Options:\n",
      "  -h, --help                  Show help.\n",
      "  --debug                     Let unhandled exceptions propagate outside the\n",
      "                              main subroutine, instead of logging them to\n",
      "                              stderr.\n",
      "  --isolated                  Run pip in an isolated mode, ignoring\n",
      "                              environment variables and user configuration.\n",
      "  --require-virtualenv        Allow pip to only run in a virtual environment;\n",
      "                              exit with an error otherwise.\n",
      "  --python <python>           Run pip with the specified Python interpreter.\n",
      "  -v, --verbose               Give more output. Option is additive, and can be\n",
      "                              used up to 3 times.\n",
      "  -V, --version               Show version and exit.\n",
      "  -q, --quiet                 Give less output. Option is additive, and can be\n",
      "                              used up to 3 times (corresponding to WARNING,\n",
      "                              ERROR, and CRITICAL logging levels).\n",
      "  --log <path>                Path to a verbose appending log.\n",
      "  --no-input                  Disable prompting for input.\n",
      "  --proxy <proxy>             Specify a proxy in the form\n",
      "                              scheme://[user:passwd@]proxy.server:port.\n",
      "  --retries <retries>         Maximum number of retries each connection should\n",
      "                              attempt (default 5 times).\n",
      "  --timeout <sec>             Set the socket timeout (default 15 seconds).\n",
      "  --exists-action <action>    Default action when a path already exists:\n",
      "                              (s)witch, (i)gnore, (w)ipe, (b)ackup, (a)bort.\n",
      "  --trusted-host <hostname>   Mark this host or host:port pair as trusted,\n",
      "                              even though it does not have valid or any HTTPS.\n",
      "  --cert <path>               Path to PEM-encoded CA certificate bundle. If\n",
      "                              provided, overrides the default. See 'SSL\n",
      "                              Certificate Verification' in pip documentation\n",
      "                              for more information.\n",
      "  --client-cert <path>        Path to SSL client certificate, a single file\n",
      "                              containing the private key and the certificate\n",
      "                              in PEM format.\n",
      "  --cache-dir <dir>           Store the cache data in <dir>.\n",
      "  --no-cache-dir              Disable the cache.\n",
      "  --disable-pip-version-check\n",
      "                              Don't periodically check PyPI to determine\n",
      "                              whether a new version of pip is available for\n",
      "                              download. Implied with --no-index.\n",
      "  --no-color                  Suppress colored output.\n",
      "  --no-python-version-warning\n",
      "                              Silence deprecation warnings for upcoming\n",
      "                              unsupported Pythons.\n",
      "  --use-feature <feature>     Enable new functionality, that may be backward\n",
      "                              incompatible.\n",
      "  --use-deprecated <feature>  Enable deprecated functionality, that will be\n",
      "                              removed in the future.\n",
      "\n",
      "E:\\Learning\\AI Master - Darsman\\Semester 1 - Advanced Python\\Learn>"
     ]
    }
   ],
   "source": [
    "%%cmd\n",
    "pip help"
   ]
  },
  {
   "cell_type": "markdown",
   "id": "2d071e18",
   "metadata": {
    "direction": "rtl"
   },
   "source": [
    "<span style = 'font-family:B Nazanin' dir = 'rtl' align = 'right'>\n",
    "\n",
    "   برای مشاهده لیست پکیج‌های نصب‌شده تاکنون از دستور `pip list` استفاده می‌کنیم. با اجرای این دستور نام تمام پکیج‌ها به همراه ورژن آن‌ها نمایش داده می‌شود. \n",
    "\n",
    "</span>"
   ]
  },
  {
   "cell_type": "code",
   "execution_count": 4,
   "id": "b23d6815",
   "metadata": {
    "scrolled": true
   },
   "outputs": [
    {
     "name": "stdout",
     "output_type": "stream",
     "text": [
      "Microsoft Windows [Version 10.0.19045.2604]\n",
      "(c) Microsoft Corporation. All rights reserved.\n",
      "\n",
      "E:\\Learning\\AI Master - Darsman\\Semester 1 - Advanced Python\\Learn>pip list\n",
      "Package                  Version\n",
      "------------------------ ---------\n",
      "aiofiles                 22.1.0\n",
      "aiosqlite                0.18.0\n",
      "anyio                    3.6.2\n",
      "appdirs                  1.4.4\n",
      "argon2-cffi              21.3.0\n",
      "argon2-cffi-bindings     21.2.0\n",
      "arrow                    1.2.3\n",
      "asttokens                2.2.1\n",
      "attrs                    22.2.0\n",
      "Babel                    2.12.1\n",
      "backcall                 0.2.0\n",
      "beautifulsoup4           4.11.2\n",
      "bleach                   6.0.0\n",
      "certifi                  2022.12.7\n",
      "cffi                     1.15.1\n",
      "charset-normalizer       3.1.0\n",
      "colorama                 0.4.6\n",
      "comm                     0.1.2\n",
      "contourpy                1.0.7\n",
      "cycler                   0.11.0\n",
      "debugpy                  1.6.6\n",
      "decorator                5.1.1\n",
      "defusedxml               0.7.1\n",
      "executing                1.2.0\n",
      "fastjsonschema           2.16.3\n",
      "fonttools                4.39.2\n",
      "fqdn                     1.5.1\n",
      "idna                     3.4\n",
      "importlib-metadata       6.1.0\n",
      "ipykernel                6.21.3\n",
      "ipython                  8.11.0\n",
      "ipython-genutils         0.2.0\n",
      "isoduration              20.11.0\n",
      "jedi                     0.18.2\n",
      "Jinja2                   3.1.2\n",
      "json5                    0.9.11\n",
      "jsonpointer              2.3\n",
      "jsonschema               4.17.3\n",
      "jupyter_client           8.0.3\n",
      "jupyter_core             5.3.0\n",
      "jupyter-events           0.6.3\n",
      "jupyter_server           2.5.0\n",
      "jupyter_server_fileid    0.8.0\n",
      "jupyter_server_terminals 0.4.4\n",
      "jupyter_server_ydoc      0.6.1\n",
      "jupyter-ydoc             0.2.3\n",
      "jupyterlab               3.6.1\n",
      "jupyterlab-pygments      0.2.2\n",
      "jupyterlab_server        2.20.0\n",
      "kiwisolver               1.4.4\n",
      "MarkupSafe               2.1.2\n",
      "matplotlib               3.7.1\n",
      "matplotlib-inline        0.1.6\n",
      "mistune                  2.0.5\n",
      "mysql-connector-python   8.0.32\n",
      "nbclassic                0.5.3\n",
      "nbclient                 0.7.2\n",
      "nbconvert                7.2.10\n",
      "nbformat                 5.7.3\n",
      "nest-asyncio             1.5.6\n",
      "notebook                 6.5.3\n",
      "notebook_shim            0.2.2\n",
      "numpy                    1.24.2\n",
      "packaging                23.0\n",
      "pandas                   1.5.3\n",
      "pandocfilters            1.5.0\n",
      "parso                    0.8.3\n",
      "pickleshare              0.7.5\n",
      "Pillow                   9.4.0\n",
      "pip                      23.0.1\n",
      "platformdirs             3.1.1\n",
      "prometheus-client        0.16.0\n",
      "prompt-toolkit           3.0.38\n",
      "protobuf                 3.20.3\n",
      "psutil                   5.9.4\n",
      "pure-eval                0.2.2\n",
      "pycparser                2.21\n",
      "pyee                     8.2.2\n",
      "Pygments                 2.14.0\n",
      "pyparsing                3.0.9\n",
      "pyppeteer                1.0.2\n",
      "PyQt5                    5.15.9\n",
      "PyQt5-Qt5                5.15.2\n",
      "PyQt5-sip                12.11.1\n",
      "PyQtWebEngine            5.15.6\n",
      "PyQtWebEngine-Qt5        5.15.2\n",
      "pyrsistent               0.19.3\n",
      "python-dateutil          2.8.2\n",
      "python-json-logger       2.0.7\n",
      "pytz                     2022.7.1\n",
      "pywin32                  305\n",
      "pywinpty                 2.0.10\n",
      "PyYAML                   6.0\n",
      "pyzmq                    25.0.2\n",
      "requests                 2.28.2\n",
      "rfc3339-validator        0.1.4\n",
      "rfc3986-validator        0.1.1\n",
      "Send2Trash               1.8.0\n",
      "setuptools               65.5.0\n",
      "six                      1.16.0\n",
      "sniffio                  1.3.0\n",
      "soupsieve                2.4\n",
      "stack-data               0.6.2\n",
      "terminado                0.17.1\n",
      "tinycss2                 1.2.1\n",
      "tornado                  6.2\n",
      "tqdm                     4.65.0\n",
      "traitlets                5.9.0\n",
      "uri-template             1.2.0\n",
      "urllib3                  1.26.15\n",
      "wcwidth                  0.2.6\n",
      "webcolors                1.12\n",
      "webencodings             0.5.1\n",
      "websocket-client         1.5.1\n",
      "websockets               10.4\n",
      "wheel                    0.40.0\n",
      "y-py                     0.5.9\n",
      "ypy-websocket            0.8.2\n",
      "zipp                     3.15.0\n",
      "\n",
      "E:\\Learning\\AI Master - Darsman\\Semester 1 - Advanced Python\\Learn>"
     ]
    }
   ],
   "source": [
    "%%cmd\n",
    "pip list"
   ]
  },
  {
   "cell_type": "markdown",
   "id": "3c79b822",
   "metadata": {
    "direction": "rtl"
   },
   "source": [
    "<span style = 'font-family:B Nazanin' dir = 'rtl' align = 'right'>\n",
    "\n",
    "   دستور `pip freeze` نیز همانند دستور قبل لیست پکیج‌های نصب‌شده را به ما می‌دهد با این تفاوت که خروجی این دستور را می‌توانیم در یک فایل به صورت زیر ذخیره کنیم: \n",
    "\n",
    "</span>"
   ]
  },
  {
   "cell_type": "code",
   "execution_count": 6,
   "id": "3bd91cfd",
   "metadata": {
    "scrolled": false
   },
   "outputs": [
    {
     "name": "stdout",
     "output_type": "stream",
     "text": [
      "Microsoft Windows [Version 10.0.19045.2604]\n",
      "(c) Microsoft Corporation. All rights reserved.\n",
      "\n",
      "E:\\Learning\\AI Master - Darsman\\Semester 1 - Advanced Python\\Learn>pip freeze > requirements.txt\n",
      "\n",
      "E:\\Learning\\AI Master - Darsman\\Semester 1 - Advanced Python\\Learn>"
     ]
    }
   ],
   "source": [
    "%%cmd\n",
    "pip freeze > requirements.txt"
   ]
  },
  {
   "cell_type": "markdown",
   "id": "43b69e2a",
   "metadata": {
    "direction": "rtl"
   },
   "source": [
    "<span style = 'font-family:B Nazanin' dir = 'rtl' align = 'right'>\n",
    "\n",
    "   و سپس در یک سیستم دیگر با دستور زیر تمام پکیج‌های مورد نیاز را نصب کنیم: \n",
    "\n",
    "</span>"
   ]
  },
  {
   "cell_type": "code",
   "execution_count": 8,
   "id": "187c0c98",
   "metadata": {},
   "outputs": [
    {
     "name": "stdout",
     "output_type": "stream",
     "text": [
      "Microsoft Windows [Version 10.0.19045.2604]\n",
      "(c) Microsoft Corporation. All rights reserved.\n",
      "\n",
      "E:\\Learning\\AI Master - Darsman\\Semester 1 - Advanced Python\\Learn>pip freeze -r requirements.txt\n",
      "aiofiles==22.1.0\n",
      "aiosqlite==0.18.0\n",
      "anyio==3.6.2\n",
      "appdirs==1.4.4\n",
      "argon2-cffi==21.3.0\n",
      "argon2-cffi-bindings==21.2.0\n",
      "arrow==1.2.3\n",
      "asttokens==2.2.1\n",
      "attrs==22.2.0\n",
      "Babel==2.12.1\n",
      "backcall==0.2.0\n",
      "beautifulsoup4==4.11.2\n",
      "bleach==6.0.0\n",
      "certifi==2022.12.7\n",
      "cffi==1.15.1\n",
      "charset-normalizer==3.1.0\n",
      "colorama==0.4.6\n",
      "comm==0.1.2\n",
      "contourpy==1.0.7\n",
      "cycler==0.11.0\n",
      "debugpy==1.6.6\n",
      "decorator==5.1.1\n",
      "defusedxml==0.7.1\n",
      "executing==1.2.0\n",
      "fastjsonschema==2.16.3\n",
      "fonttools==4.39.2\n",
      "fqdn==1.5.1\n",
      "idna==3.4\n",
      "importlib-metadata==6.1.0\n",
      "ipykernel==6.21.3\n",
      "ipython==8.11.0\n",
      "ipython-genutils==0.2.0\n",
      "isoduration==20.11.0\n",
      "jedi==0.18.2\n",
      "Jinja2==3.1.2\n",
      "json5==0.9.11\n",
      "jsonpointer==2.3\n",
      "jsonschema==4.17.3\n",
      "jupyter-events==0.6.3\n",
      "jupyter-ydoc==0.2.3\n",
      "jupyter_client==8.0.3\n",
      "jupyter_core==5.3.0\n",
      "jupyter_server==2.5.0\n",
      "jupyter_server_fileid==0.8.0\n",
      "jupyter_server_terminals==0.4.4\n",
      "jupyter_server_ydoc==0.6.1\n",
      "jupyterlab==3.6.1\n",
      "jupyterlab-pygments==0.2.2\n",
      "jupyterlab_server==2.20.0\n",
      "kiwisolver==1.4.4\n",
      "MarkupSafe==2.1.2\n",
      "matplotlib==3.7.1\n",
      "matplotlib-inline==0.1.6\n",
      "mistune==2.0.5\n",
      "mysql-connector-python==8.0.32\n",
      "nbclassic==0.5.3\n",
      "nbclient==0.7.2\n",
      "nbconvert==7.2.10\n",
      "nbformat==5.7.3\n",
      "nest-asyncio==1.5.6\n",
      "notebook==6.5.3\n",
      "notebook_shim==0.2.2\n",
      "numpy==1.24.2\n",
      "packaging==23.0\n",
      "pandas==1.5.3\n",
      "pandocfilters==1.5.0\n",
      "parso==0.8.3\n",
      "pickleshare==0.7.5\n",
      "Pillow==9.4.0\n",
      "platformdirs==3.1.1\n",
      "prometheus-client==0.16.0\n",
      "prompt-toolkit==3.0.38\n",
      "protobuf==3.20.3\n",
      "psutil==5.9.4\n",
      "pure-eval==0.2.2\n",
      "pycparser==2.21\n",
      "pyee==8.2.2\n",
      "Pygments==2.14.0\n",
      "pyparsing==3.0.9\n",
      "pyppeteer==1.0.2\n",
      "PyQt5==5.15.9\n",
      "PyQt5-Qt5==5.15.2\n",
      "PyQt5-sip==12.11.1\n",
      "PyQtWebEngine==5.15.6\n",
      "PyQtWebEngine-Qt5==5.15.2\n",
      "pyrsistent==0.19.3\n",
      "python-dateutil==2.8.2\n",
      "python-json-logger==2.0.7\n",
      "pytz==2022.7.1\n",
      "pywin32==305\n",
      "pywinpty==2.0.10\n",
      "PyYAML==6.0\n",
      "pyzmq==25.0.2\n",
      "requests==2.28.2\n",
      "rfc3339-validator==0.1.4\n",
      "rfc3986-validator==0.1.1\n",
      "Send2Trash==1.8.0\n",
      "six==1.16.0\n",
      "sniffio==1.3.0\n",
      "soupsieve==2.4\n",
      "stack-data==0.6.2\n",
      "terminado==0.17.1\n",
      "tinycss2==1.2.1\n",
      "tornado==6.2\n",
      "tqdm==4.65.0\n",
      "traitlets==5.9.0\n",
      "uri-template==1.2.0\n",
      "urllib3==1.26.15\n",
      "wcwidth==0.2.6\n",
      "webcolors==1.12\n",
      "webencodings==0.5.1\n",
      "websocket-client==1.5.1\n",
      "websockets==10.4\n",
      "y-py==0.5.9\n",
      "ypy-websocket==0.8.2\n",
      "zipp==3.15.0\n",
      "## The following requirements were added by pip freeze:\n",
      "\n",
      "E:\\Learning\\AI Master - Darsman\\Semester 1 - Advanced Python\\Learn>"
     ]
    }
   ],
   "source": [
    "%%cmd\n",
    "pip freeze -r requirements.txt"
   ]
  },
  {
   "cell_type": "markdown",
   "id": "02d2b126",
   "metadata": {
    "direction": "rtl"
   },
   "source": [
    "<span style = 'font-family:B Nazanin' dir = 'rtl' align = 'right'>\n",
    "\n",
    "   با استفاده از دستور `pip show` اطلاعات یک پکیج را می‌توانیم مشاهده کنیم: \n",
    "\n",
    "</span>"
   ]
  },
  {
   "cell_type": "code",
   "execution_count": 9,
   "id": "d7706e06",
   "metadata": {},
   "outputs": [
    {
     "name": "stdout",
     "output_type": "stream",
     "text": [
      "Microsoft Windows [Version 10.0.19045.2604]\n",
      "(c) Microsoft Corporation. All rights reserved.\n",
      "\n",
      "E:\\Learning\\AI Master - Darsman\\Semester 1 - Advanced Python\\Learn>pip show numpy\n",
      "Name: numpy\n",
      "Version: 1.24.2\n",
      "Summary: Fundamental package for array computing in Python\n",
      "Home-page: https://www.numpy.org\n",
      "Author: Travis E. Oliphant et al.\n",
      "Author-email: \n",
      "License: BSD-3-Clause\n",
      "Location: C:\\Users\\Alireza\\AppData\\Local\\Programs\\Python\\Python311\\Lib\\site-packages\n",
      "Requires: \n",
      "Required-by: contourpy, matplotlib, pandas\n",
      "\n",
      "E:\\Learning\\AI Master - Darsman\\Semester 1 - Advanced Python\\Learn>"
     ]
    }
   ],
   "source": [
    "%%cmd\n",
    "pip show numpy"
   ]
  },
  {
   "cell_type": "markdown",
   "id": "0481f147",
   "metadata": {
    "direction": "rtl"
   },
   "source": [
    "<span style = 'font-family:B Nazanin' dir = 'rtl' align = 'right'>\n",
    "\n",
    "   برای نصب پکیج‌های جدید از دستور `pip install` استفاده می‌کنیم: \n",
    "\n",
    "</span>"
   ]
  },
  {
   "cell_type": "code",
   "execution_count": 17,
   "id": "3560de09",
   "metadata": {},
   "outputs": [
    {
     "name": "stdout",
     "output_type": "stream",
     "text": [
      "Microsoft Windows [Version 10.0.19045.2604]\n",
      "(c) Microsoft Corporation. All rights reserved.\n",
      "\n",
      "E:\\Learning\\AI Master - Darsman\\Semester 1 - Advanced Python\\Learn>pip install camelcase\n",
      "Collecting camelcase\n",
      "  Using cached camelcase-0.2-py3-none-any.whl\n",
      "Installing collected packages: camelcase\n",
      "Successfully installed camelcase-0.2\n",
      "\n",
      "E:\\Learning\\AI Master - Darsman\\Semester 1 - Advanced Python\\Learn>"
     ]
    }
   ],
   "source": [
    "%%cmd\n",
    "pip install camelcase"
   ]
  },
  {
   "cell_type": "markdown",
   "id": "d053897f",
   "metadata": {
    "direction": "rtl"
   },
   "source": [
    "<span style = 'font-family:B Nazanin' dir = 'rtl' align = 'right'>\n",
    "\n",
    "   برای به‌روزرسانی پیکیج‌های نصب شده از آپشن `upgrade--` استفاده می‌کنیم. مثلا برای پکیج `numpy`: \n",
    "\n",
    "</span>"
   ]
  },
  {
   "cell_type": "code",
   "execution_count": 13,
   "id": "2809c2cd",
   "metadata": {
    "scrolled": true
   },
   "outputs": [
    {
     "name": "stdout",
     "output_type": "stream",
     "text": [
      "Microsoft Windows [Version 10.0.19045.2604]\n",
      "(c) Microsoft Corporation. All rights reserved.\n",
      "\n",
      "E:\\Learning\\AI Master - Darsman\\Semester 1 - Advanced Python\\Learn>pip install --upgrade camelcase\n",
      "Requirement already satisfied: camelcase in c:\\users\\alireza\\appdata\\local\\programs\\python\\python311\\lib\\site-packages (0.2)\n",
      "\n",
      "E:\\Learning\\AI Master - Darsman\\Semester 1 - Advanced Python\\Learn>"
     ]
    }
   ],
   "source": [
    "%%cmd\n",
    "pip install --upgrade camelcase"
   ]
  },
  {
   "cell_type": "markdown",
   "id": "8f077eb3",
   "metadata": {
    "direction": "rtl"
   },
   "source": [
    "<span style = 'font-family:B Nazanin' dir = 'rtl' align = 'right'>\n",
    "\n",
    "   برای حذف یکی از پکیج‌های نصب‌شده از دستور `pip uninstall` استفاده می‌کنیم: \n",
    "\n",
    "</span>"
   ]
  },
  {
   "cell_type": "code",
   "execution_count": 18,
   "id": "dde637d9",
   "metadata": {},
   "outputs": [
    {
     "name": "stdout",
     "output_type": "stream",
     "text": [
      "Microsoft Windows [Version 10.0.19045.2604]\n",
      "(c) Microsoft Corporation. All rights reserved.\n",
      "\n",
      "E:\\Learning\\AI Master - Darsman\\Semester 1 - Advanced Python\\Learn>pip uninstall camelcase -y\n",
      "Found existing installation: camelcase 0.2\n",
      "Uninstalling camelcase-0.2:\n",
      "  Successfully uninstalled camelcase-0.2\n",
      "\n",
      "E:\\Learning\\AI Master - Darsman\\Semester 1 - Advanced Python\\Learn>"
     ]
    }
   ],
   "source": [
    "%%cmd\n",
    "pip uninstall camelcase -y"
   ]
  },
  {
   "cell_type": "markdown",
   "id": "950d7818",
   "metadata": {
    "direction": "rtl"
   },
   "source": [
    "<span style = 'font-family:B Nazanin' dir = 'rtl' align = 'right'>\n",
    "\n",
    "    \n",
    "\n",
    "</span>"
   ]
  }
 ],
 "metadata": {
  "celltoolbar": "Edit Metadata",
  "kernelspec": {
   "display_name": "Python 3 (ipykernel)",
   "language": "python",
   "name": "python3"
  },
  "language_info": {
   "codemirror_mode": {
    "name": "ipython",
    "version": 3
   },
   "file_extension": ".py",
   "mimetype": "text/x-python",
   "name": "python",
   "nbconvert_exporter": "python",
   "pygments_lexer": "ipython3",
   "version": "3.11.2"
  }
 },
 "nbformat": 4,
 "nbformat_minor": 5
}
