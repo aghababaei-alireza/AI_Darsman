{
 "cells": [
  {
   "cell_type": "markdown",
   "id": "ff18b983",
   "metadata": {
    "direction": "rtl"
   },
   "source": [
    "<span dir=\"rtl\" style=\"font-family:B Nazanin\" align=\"right\">\n",
    "    <h1>فصل چهارم: آمار و احتمالات</h1>\n",
    "    <h2>بخش هفتم: آزمون فرضیه</h2>\n",
    "</span>"
   ]
  },
  {
   "cell_type": "markdown",
   "id": "bed4c90e",
   "metadata": {
    "direction": "rtl"
   },
   "source": [
    "<p style=\"font-family:B Nazanin\">\n",
    "   تا اینجا یاد گرفتیم که از درون جامعه مورد بررسی نمونه‌هایی را جدا کنیم و آن نمونه‌ها را بررسی کنیم و برای آن نمونه‌ها آماره‌هایی را محاسبه کنیم و سپس نتایج به‌دست آمده را به کل جامعه تعمیم دهیم. این تعمیم‌دادن یک فرضیه است که فرض می‌کنیم نتیجه به‌دست آمده برای نمونه می‌تواند برای کل جامعه نیز معتبر باشد. در این بخش می‌خواهیم بررسی کنیم که آیا این فرض صحیح است یا خیر. <br>\n",
    "    به عنوان مثال فرض کنید که برای درمان یک بیماری خاص، دارویی ساخته شده است و قرار است میزان اثرگذاری این دارو بررسی شود. دو دسته هزارتایی از بیماران در دسته‌های A و B تحت این آزمایش قرار می‌گیرند. به دسته A داروی مورد نظر داده می‌شود و به دسته B هیچ دارویی داده نمی‌شود. فرض کنید از دسته A، تعداد 800 نفر درمان می‌شوند و از دسته B، تعداد 650 نفر. آیا می‌توان گفت که داروی A اثر گذار است و تعداد 150 نفر را بیشتر درمان کرده‌است؟ در این مرحله خیر. نکته اول اینجاست که برای بررسی درستی یک فرضیه (در اینجا اثربخشی دارو) باید شرایط نمونه‌ها یکسان باشد و تحت این شرایط یکسان نمونه‌ها مورد آزمایش قرار گیرند تا صحت فرضیه مشخص شود. به عنوان مثال در اینجا اثر روانی مصرف دارو در دسته A ممکن است به بهبود بیماران کمک کرده باشد. برای یکسان کردن این شرایط مثلا می‌توان یک داروی بی‌اثر در این بیماری را به بیماران دسته B داد تا آن‌ها نیز فکر کنند دارو مصرف می‌کنند. <br>\n",
    "    <b>فرضیه صفر (Null Hypothesis یا $H_0$):</b> این فرضیه بیان می‌کند که نتیجه به‌دست آمده کاملا شانسی و اتفاقی بوده و هیچ رابطه معناداری بین پارامترهای مورد آزمایش وجود ندارد. <br>\n",
    "    <b>فرضیه جانشین یا فرضیه یک (Alternative Hypothesis یا $H_1$):</b> این فرضیه دقیقا برعکس فرضیه صفر است و بیان می‌کند یک رابطه معنادار بین پارامترهای مورد آزمایش وجود دارد. <br>\n",
    "    بنابراین ما معمولا سعی داریم که فرضیه صفر را رد کرده و فرضیه جانشین را اثبات کنیم. برای مثال یک کارخانه محصولی را تولید می‌کند و ادعا می‌کند که وزن محصولش از 1000 گرم بیشتر است. یعنی فرضیه صفر به این صورت است: $H_0: \\mu \\ge 1000$. اما ما یک نمونه 50 تایی از محصولات این کارخانه را بررسی می‌کنیم و می‌فهمیم که میانگین وزن این محصولات مثلا 995 گرم است. بنابراین فرضیه جانشین می‌شود: $H_1: \\mu \\lt 1000$. <br>\n",
    "    <b>مقدار انتظاری یا مقدار مورد انتظار:</b> مقداری است که انتظار داریم در اثر انجام یک آزمایش به دست آوریم. مثلا یک تاس را در نظر بگیرید. اعدادی که در اثر تاس ریختن حاصل می‌شود، اعداد یک تا شش است که هر کدام $\\frac{1}{6}$ احتمال دارند. پس انتظار داریم اگر شش بار تاس را بیندازیم، در حالت ایده‌آل هر بار یکی از اعداد یک تا شش بیاید که میانگین اعداد به دست آمده می‌شود: $(1+2+3+4+5+6)/6=3.5$. پس مقدار مورد انتظار ما به عنوان میانگین اعداد به‌دست آمده در شش بار پرتاب تاس 3.5 است. اما ممکن است در شش بار پرتاب مثلا اعداد 1 و 1 و 2 و 3 و 1 و 1 بیاید که میانگینش 1.5 است. <br>\n",
    "    <b>تفاوت‌های معنادار:</b> اگر تفاوت بین نتایج چند آزمایش بسیار زیاد بود، به آن تفاوت معنادار می‌گوییم. مثلا در مثال قبل انتظار داشتیم که میانگین اعداد پرتاب شش تاس 3.5 بشود ولی عدد 1.5 را به دست آوردیم که تفاوت زیادی دارد و به آن تفاوت معنادار می‌گوییم. یا به عنوان مثالی دیگر دارویی را روی یک گروه بیمار 1000 نفره تست کردیم و 800 نفر بهبود یافته‌اند و از یک گروه 1000 نفره دیگر که روی آن‌ها دارو تست نشده‌است، 200 نفر بهبود یافته‌اند. بنابراین نتیجه آزمایش این دارو در این دو گروه دارای تفاوت معنادار است. <br>\n",
    "    <b>سطح معناداری:</b> حداقل مقداری است که اگر آماره آزمون بیشتر یا کمتر از آن مقدار باشد، تصمیم می‌گیریم که نتایج به‌دست آمده معنادار هستند یا نیستند. (معمولا این مقدار 0.05 یا 0.01 انتخاب می‌شود). با نماد $\\alpha$ نشان داده می‌شود. <br>\n",
    "    <b>P-Value:</b> نشان‌دهنده احتمال تصادفی بودن تفاوت‌ها یا اثرات مشاهده‌شده است. <br>\n",
    "    بر اساس سطح معناداری و P-Value می‌توانیم تعیین کنیم که فرضیه صفر قابل قبول است یا خیر. <br>\n",
    "    * اگر $p-value \\lt \\alpha$: احتمال شانسی بودن نتایج کم است. پس فرضیه صفر رد می‌شود. <br>\n",
    "    * اگر $p-value \\ge \\alpha$: احتمال شانسی بودن نتایج زیاد است. بنابراین فرضیه صفر رد نمی‌شود. می‌توانیم فرضیه صفر را قبول کنیم یا آزمون دیگری را طراحی کنیم و مجددا بررسی کنیم. <br>\n",
    "    در ادامه تعدادی از آزمون‌های فرضیه پرکاربرد را بیان می‌کنیم. برای انجام یک آزمون فرضیه مراحل زیر را باید انجام بدهیم: در مرحله اول باید $H_0$ و $H_1$ را تعیین کنیم. فرضیه صفر همان فرض اولیه مسئله است و فرضیه جانشین برعکس آن است. سپس تلاش می‌کنیم تا فرضیه جانشین را اثبات کنیم تا فرضیه صفر رد شود. مثلا در فرضیه صفر می‌گوییم که میانگین داده‌های ما کمتر از یک مقدار خاص است و باید فرضیه جانشین (یعنی میانگین از آن مقدار خاص بیشتر است) را اثبات کنیم یا برعکس، در فرضیه صفر می‌گوییم که میانگین داده‌های ما بیشتر از یک مقدار خاص است و باید فرضیه جانشین (یعنی میانگین از آن مقدار خاص کمتر است) را اثبات کنیم. به این حالت آزمون یک‌طرفه یا One-Tail Testing می‌گوییم.  \n",
    "</p>"
   ]
  },
  {
   "cell_type": "markdown",
   "id": "767204d5",
   "metadata": {},
   "source": [
    "$\n",
    "H_0: \\quad \\mu \\le \\mu_0 ,\\quad H_1: \\quad \\mu \\gt \\mu_0 \\quad \\rightarrow \\quad Right-Tail \\\\\n",
    "H_0: \\quad \\mu \\ge \\mu_0 ,\\quad H_1: \\quad \\mu \\lt \\mu_0 \\quad \\rightarrow \\quad Left-Tail\n",
    "$"
   ]
  },
  {
   "cell_type": "markdown",
   "id": "e82a85f7",
   "metadata": {
    "direction": "rtl"
   },
   "source": [
    "<p style=\"font-family:B Nazanin\">\n",
    "   در بعضی از حالات فرضیه صفر به این صورت است که مثلا میانگین داده‌ها برابر با یک مقدار مشخص است و باید فرضیه جانشین (یعنی میانگین داده‌ها با آن مقدار مشخص برابر نیست) را اثبات کنیم. که به آن آزمون دوطرفه یا Two Tail Testing می‌گوییم.\n",
    "</p>"
   ]
  },
  {
   "cell_type": "markdown",
   "id": "0d67de53",
   "metadata": {},
   "source": [
    "$\n",
    "H_0: \\quad \\mu = \\mu_0 \\, H_1: \\quad \\mu \\ne \\mu_0 \\quad \\rightarrow \\quad Two-Tail\n",
    "$"
   ]
  },
  {
   "cell_type": "markdown",
   "id": "12c80f0e",
   "metadata": {
    "direction": "rtl"
   },
   "source": [
    "<p style=\"font-family:B Nazanin\">\n",
    "     در مرحله دوم باید آماره آزمون را مشخص کنیم. در مرحله سوم باید سطح معناداری آزمون یا همان $\\alpha$ را معین کنیم. معمولا در آزمون‌ها مقدار $\\alpha$ برابر با 0.05 یا اگر بخواهیم سخت‌گیرانه‌تر عمل کنیم، برابر با 0.01 در نظر گرفته می‌شود. در مرحله بعد باید داده‌ها را جمع‌آوری کرده و آماره مورد نظر و مقدار p-value را محاسبه نماییم. سپس با توجه به مقدار p-value و $\\alpha$ تصمیم‌گیری انجام می‌شود. <br>\n",
    "    آزمون‌های فرضیه به دو دسته تقسیم می‌شوند: <br>\n",
    "    * <b>آزمون‌های فرضیه یک جامعه (Hypothesis Testing for One Population):</b> اگر آزمون‌ها روی یک جامعه انجام شود، به آن آزمون‌های یک جامعه می‌گوییم. مثلا یک جامعه داریم و نمونه‌های مختلفی از آن را مورد آزمایش قرار می‌دهیم. مانند: <br>\n",
    "    &nbsp;&nbsp;&nbsp; -- آزمون تک نمونه‌ای Z <br>\n",
    "    &nbsp;&nbsp;&nbsp; -- آزمون تک نمونه‌ای T <br>\n",
    "    * <b>آزمون‌های فرضیه دو جامعه (Hypothesis Testing for Two Population):</b> اگر آزمون‌ها را روی دو جامعه مختلف انجام دهیم، به آن آزمون‌های دو جامعه می‌گوییم. مثلا آزمون را روی نمونه‌هایی از جامعه اول و نمونه‌هایی از جامعه دوم انجام دهیم. مانند: <br>\n",
    "    &nbsp;&nbsp;&nbsp; -- آزمون Z برای مقایسه میانگین دو جامعه <br>\n",
    "    &nbsp;&nbsp;&nbsp; -- آزمون T مستقل برای مقایسه میانگین دو جامعه <br>\n",
    "    &nbsp;&nbsp;&nbsp; -- آزمون T وابسته برای مقایسه میانگین دو جامعه وابسته\n",
    "</p>"
   ]
  },
  {
   "cell_type": "markdown",
   "id": "32f84b5f",
   "metadata": {
    "direction": "rtl"
   },
   "source": [
    "<p style=\"font-family:B Nazanin\">\n",
    "     آزمون Z زمانی انجام می‌شود که هم میانگین و هم انحراف استاندارد جامعه را داشته باشیم. اما زمانی از آزمون T استفاده می‌کنیم که انحراف استاندارد جامعه را نداشته باشیم. <br>\n",
    "    اگر حجم داده‌ها زیاد باشد، بهتر است از آزمون Z استفاده کنیم اما اگر حجم داده‌ها کم باشد، بهتر است از آزمون T استفاده کنیم. <br>\n",
    "    برای آزمون Z: \n",
    "</p>"
   ]
  },
  {
   "cell_type": "markdown",
   "id": "22ad53b5",
   "metadata": {},
   "source": [
    "$$\n",
    "z = \\frac{M-\\mu}{\\sigma_m}, \\quad M = \\bar{x}, \\quad \\sigma_m = \\frac{\\sigma}{\\sqrt{n}} \\quad \\Rightarrow \\quad z = \\frac{\\bar{x}-\\mu}{\\frac{\\sigma}{\\sqrt{n}}}\n",
    "$$"
   ]
  },
  {
   "cell_type": "markdown",
   "id": "78254bf8",
   "metadata": {
    "direction": "rtl"
   },
   "source": [
    "<p style=\"font-family:B Nazanin\">\n",
    "     برای آزمون T:\n",
    "</p>"
   ]
  },
  {
   "cell_type": "markdown",
   "id": "5a6f128e",
   "metadata": {},
   "source": [
    "$$\n",
    "t = \\frac{\\bar{x}-\\mu}{\\frac{s}{\\sqrt{n}}}\n",
    "$$"
   ]
  },
  {
   "cell_type": "markdown",
   "id": "13d29efc",
   "metadata": {
    "direction": "rtl"
   },
   "source": [
    "<p style=\"font-family:B Nazanin\">\n",
    "     در نهایت پس از محاسبه مقدار z یا t، باید مقدار p-value را محاسبه کنیم و با $\\alpha$ مقایسه کنیم. اگر کوچکتر بود، $H_0$ رد می‌شود وگرنه $H_0$ را نمی‌توان رد کرد.\n",
    "</p>"
   ]
  },
  {
   "cell_type": "markdown",
   "id": "2d060e26",
   "metadata": {
    "direction": "rtl"
   },
   "source": [
    "<p style=\"font-family:B Nazanin\">\n",
    "     مثال. فرض کنید یک کارخانه تولید رب ادعا می‌کند میانگین وزن قوطی‌های رب تولیدی در این کارخانه حداقل 1000 گرم است در حالی که می‌دانیم انحراف استاندارد وزن این قوطی‌ها 50 گرم می‌باشد. فرض کنید یک نمونه 20تایی از این قوطی‌ها را تست کرده‌ایم و فهمیده‌ایم که میانگین وزن آن‌ها 990 گرم است. می‌خواهیم بررسی کنیم که آیا می‌توان فرضیه صفر را رد کرد یا خیر. چون میانگین و انحراف استاندارد جامعه را داریم، می‌توانیم از z-test استفاده کنیم. ضمنا فرض می‌کنیم در این تست سطح معناداری یا همان $\\alpha$ برابر با 0.05 است.\n",
    "</p>"
   ]
  },
  {
   "cell_type": "markdown",
   "id": "c766856e",
   "metadata": {},
   "source": [
    "$\n",
    "\\mu_0 = 1000, \\quad n = 20, \\quad \\bar{x} = 990, \\quad \\sigma = 50, \\quad \\alpha = 0.05\n",
    "$"
   ]
  },
  {
   "cell_type": "markdown",
   "id": "036fa038",
   "metadata": {
    "direction": "rtl"
   },
   "source": [
    "<p style=\"font-family:B Nazanin\">\n",
    "     در این‌جا فرضیه صفر به این صورت است که میانگین داده‌های جامعه بزرگتر از 1000 است. یعنی نتایج به دست آمده از نمونه انتخاب‌شده شانسی است و فرضیه جایگزین می‌گوید که میانگین داده‌های کل جامعه کمتر از 1000 است. \n",
    "</p>"
   ]
  },
  {
   "cell_type": "markdown",
   "id": "d029fc84",
   "metadata": {},
   "source": [
    "$\n",
    "H_0: \\quad \\mu \\ge 1000\\\\\n",
    "H_1: \\quad \\mu \\lt 1000\n",
    "$"
   ]
  },
  {
   "cell_type": "markdown",
   "id": "3792f159",
   "metadata": {
    "direction": "rtl"
   },
   "source": [
    "<p style=\"font-family:B Nazanin\">\n",
    "     با توجه به اینکه فقط یک جامعه داریم، آزمون ما جزء آزمون‌های یک جامعه است و با توجه به نوع فرضیه صفر و جایگزین، آزمون ما، آزمون یک طرفه z-test است. \n",
    "</p>"
   ]
  },
  {
   "cell_type": "markdown",
   "id": "a9b4de5e",
   "metadata": {},
   "source": [
    "$\n",
    "z=\\frac{\\bar{x}-\\mu}{\\frac{\\sigma}{\\sqrt{n}}} = \\frac{990-1000}{\\frac{50}{\\sqrt{20}}} = -0.893\n",
    "$"
   ]
  },
  {
   "cell_type": "markdown",
   "id": "ef5ae7d8",
   "metadata": {
    "direction": "rtl"
   },
   "source": [
    "<p style=\"font-family:B Nazanin\">\n",
    "     در اینجا به دو صورت می‌توانیم مقایسه را انجام دهیم. راه اول این است که با استفاده از جدول استاندارد z-score مقدار احتمال متناظر با $z = -0.893$ را محاسبه کنیم که همان p-value می‌شود که احتمال شانسی بودن نتایج است. با بررسی جدول z-score مقدار $p-value = 0.1855$ خواهد بود. با توجه به اینکه مقدار p-value از $\\alpha$ بیشتر است، پس نتیجه می‌گیریم که احتمال شانسی بودن نتایج بیشتر است و بنابراین فرضیه صفر را نمی‌توانیم رد کنیم. <br>\n",
    "    راه دوم این است که برای $\\alpha = 0.05$ با استفاده از جدول z-score، مقدار z متناظر را پیدا کنیم. یعنی فرض کنیم مقدار $\\alpha$ برابر با احتمالی است که می‌خواهیم z-score متناظر با آن را پیدا کنیم که برابر با $z = -1.645$ می‌شود. با توجه به اینکه z به دست آمده در مسئله از z متناظر با مقدار $\\alpha$ بیشتر است، نتیجه می‌گیریم که احتمال شانسی بودن نتایج بیشتر است و فرضیه صفر رد نمی‌شود.  \n",
    "</p>"
   ]
  },
  {
   "cell_type": "markdown",
   "id": "cc73ac98",
   "metadata": {
    "direction": "rtl"
   },
   "source": [
    "<p style=\"font-family:B Nazanin\">\n",
    "     حال اگر همین میانگین را با تعداد اعضای نمونه 100 عدد به دست می‌آوردیم، داشتیم:\n",
    "</p>"
   ]
  },
  {
   "cell_type": "markdown",
   "id": "4811b4cd",
   "metadata": {},
   "source": [
    "$\n",
    "z = \\frac{990-1000}{\\frac{50}{\\sqrt{100}}} = -0.2 \\quad \\rightarrow \\quad p-value = 0.4207 \\quad \\rightarrow \\quad p-value < \\alpha \\quad \\rightarrow \\quad H_0\\; rejected\n",
    "$"
   ]
  },
  {
   "cell_type": "markdown",
   "id": "78aaf7c1",
   "metadata": {
    "direction": "rtl"
   },
   "source": [
    "<p style=\"font-family:B Nazanin\">\n",
    "     چون مقدار p-value از $\\alpha$ کمتر شد، پس احتمال شانسی بودن نتایج کم است. پس فرض صفر رد شده و فرضیه جایگزین اثبات می‌شود. \n",
    "</p>"
   ]
  },
  {
   "cell_type": "code",
   "execution_count": 1,
   "id": "7a4e7634",
   "metadata": {},
   "outputs": [],
   "source": [
    "from scipy.stats import norm"
   ]
  },
  {
   "cell_type": "code",
   "execution_count": 2,
   "id": "2d95fe75",
   "metadata": {},
   "outputs": [],
   "source": [
    "def calc_p_value(pop_mean, pop_std, sample_mean, sample_size, alpha):\n",
    "    z_test = (sample_mean - pop_mean) / (pop_std / (sample_size**0.5))\n",
    "    p_value = 1 - norm.cdf(abs(z_test))\n",
    "    return p_value"
   ]
  },
  {
   "cell_type": "code",
   "execution_count": 3,
   "id": "ccb0b15a",
   "metadata": {},
   "outputs": [
    {
     "name": "stdout",
     "output_type": "stream",
     "text": [
      "H0 is not rejected\n"
     ]
    }
   ],
   "source": [
    "pop_mean = 1000\n",
    "sample_mean = 990\n",
    "pop_std = 50\n",
    "sample_size = 20\n",
    "alpha = 0.05\n",
    "\n",
    "p_value = calc_p_value(pop_mean, pop_std, sample_mean, sample_size, alpha)\n",
    "if p_value < alpha:\n",
    "    print(\"H0 rejected\")\n",
    "else:\n",
    "    print(\"H0 is not rejected\")"
   ]
  },
  {
   "cell_type": "code",
   "execution_count": 4,
   "id": "7824ad00",
   "metadata": {},
   "outputs": [
    {
     "name": "stdout",
     "output_type": "stream",
     "text": [
      "H0 rejected\n"
     ]
    }
   ],
   "source": [
    "sample_size = 100\n",
    "p_value = calc_p_value(pop_mean, pop_std, sample_mean, sample_size, alpha)\n",
    "if p_value < alpha:\n",
    "    print(\"H0 rejected\")\n",
    "else:\n",
    "    print(\"H0 is not rejected\")"
   ]
  },
  {
   "cell_type": "markdown",
   "id": "4ee5b57f",
   "metadata": {
    "direction": "rtl"
   },
   "source": [
    "<p style=\"font-family:B Nazanin\">\n",
    "     مثال دیگر. کارخانه‌ای ادعا می‌کند که از هر ده هزار محصولی که تولید می‌کند، حداکثر 80 محصول خراب است و انحراف استاندارد نیز برابر با 5 است. فرض کنیم 40 نمونه از این دسته محصولات را تست کرده‌ایم و به طور میانگین 81 محصول خراب بوده است. بررسی کنید که آیا ادعای کارخانه رد می‌شود یا خیر.\n",
    "</p>"
   ]
  },
  {
   "cell_type": "markdown",
   "id": "40814c6c",
   "metadata": {},
   "source": [
    "$\n",
    "\\mu_0 = 80, \\quad \\sigma = 5, \\quad n = 40, \\quad \\bar{x} = 81, \\quad \\alpha = 0.05 \\\\\n",
    "H_0: \\quad \\mu \\le 80\\\\\n",
    "H_1: \\quad \\mu \\gt 80\n",
    "$"
   ]
  },
  {
   "cell_type": "code",
   "execution_count": 5,
   "id": "a23d9b09",
   "metadata": {},
   "outputs": [
    {
     "name": "stdout",
     "output_type": "stream",
     "text": [
      "p_value: 0.1029516053660342\n",
      "H0 is not rejected\n"
     ]
    }
   ],
   "source": [
    "pop_mean = 80\n",
    "sample_mean = 81\n",
    "pop_std = 5\n",
    "sample_size = 40\n",
    "alpha = 0.05\n",
    "\n",
    "p_value = calc_p_value(pop_mean, pop_std, sample_mean, sample_size, alpha)\n",
    "print(f\"p_value: {p_value}\")\n",
    "if p_value < alpha:\n",
    "    print(\"H0 rejected\")\n",
    "else:\n",
    "    print(\"H0 is not rejected\")"
   ]
  },
  {
   "cell_type": "markdown",
   "id": "1dc002aa",
   "metadata": {
    "direction": "rtl"
   },
   "source": [
    "<p style=\"font-family:B Nazanin\">\n",
    "     اگر میانگین خرابی نمونه‌ها 82 باشد:\n",
    "</p>"
   ]
  },
  {
   "cell_type": "code",
   "execution_count": 6,
   "id": "7b0db533",
   "metadata": {},
   "outputs": [
    {
     "name": "stdout",
     "output_type": "stream",
     "text": [
      "p_value: 0.005706018193000872\n",
      "H0 rejected\n"
     ]
    }
   ],
   "source": [
    "pop_mean = 80\n",
    "sample_mean = 82\n",
    "pop_std = 5\n",
    "sample_size = 40\n",
    "alpha = 0.05\n",
    "\n",
    "p_value = calc_p_value(pop_mean, pop_std, sample_mean, sample_size, alpha)\n",
    "print(f\"p_value: {p_value}\")\n",
    "if p_value < alpha:\n",
    "    print(\"H0 rejected\")\n",
    "else:\n",
    "    print(\"H0 is not rejected\")"
   ]
  },
  {
   "cell_type": "markdown",
   "id": "9a8e5139",
   "metadata": {
    "direction": "rtl"
   },
   "source": [
    "<p style=\"font-family:B Nazanin\">\n",
    "     برای انجام آزمون T میتوانیم از توابع آماده استفاده کنیم. در ماژول scipy.stats توابعی برای این کار وجود دارد. این توابع به صورت زیر هستند: <br>\n",
    "    * تابع ttest_1samp که برای آزمون T روی یک نمونه استفاده می‌شود. این تابع دو پارامتر ورودی می‌گیرد: یکی sample_data و دیگری میانگین جامعه و دو خروجی برمی‌گرداند: یکی مقدار t_test و دیگری مقدار p_value.\n",
    "</p>"
   ]
  },
  {
   "cell_type": "markdown",
   "id": "869d295b",
   "metadata": {},
   "source": [
    "```t_test, p_value = stats.ttest_1samp(sample_data, pop_mean)```"
   ]
  },
  {
   "cell_type": "code",
   "execution_count": 7,
   "id": "49e0719a",
   "metadata": {},
   "outputs": [],
   "source": [
    "import numpy as np\n",
    "from scipy import stats "
   ]
  },
  {
   "cell_type": "code",
   "execution_count": 8,
   "id": "77da1461",
   "metadata": {},
   "outputs": [],
   "source": [
    "scores = np.array([78,82,75,90,88])\n",
    "population_mean = 70\n",
    "t_test, p_value = stats.ttest_1samp(scores, population_mean)"
   ]
  },
  {
   "cell_type": "code",
   "execution_count": 9,
   "id": "ad9a7ece",
   "metadata": {},
   "outputs": [
    {
     "name": "stdout",
     "output_type": "stream",
     "text": [
      "t_test = 4.4109\n",
      "p_value = 0.0116\n",
      "difference in the mean => H0 rejected\n"
     ]
    }
   ],
   "source": [
    "print(f\"t_test = {t_test:.4f}\")\n",
    "print(f\"p_value = {p_value:.4f}\")\n",
    "\n",
    "alpha = 0.05\n",
    "if p_value < alpha:\n",
    "    print(f\"difference in the mean => H0 rejected\")\n",
    "else:\n",
    "    print(\"no difference in the mean\")"
   ]
  },
  {
   "cell_type": "markdown",
   "id": "366af880",
   "metadata": {
    "direction": "rtl"
   },
   "source": [
    "<p style=\"font-family:B Nazanin\">\n",
    "     مثالی از آزمون Z برای دو نمونه: در این آزمون فرمول محاسبه z به صورت زیر خواهد بود:\n",
    "</p>"
   ]
  },
  {
   "cell_type": "markdown",
   "id": "0451bcfa",
   "metadata": {},
   "source": [
    "$$\n",
    "z = \\frac{\\bar{x_1} - \\bar{x_2}}{\\sqrt{\\frac{\\sigma_1^2}{n_1}+\\frac{\\sigma_2^2}{n_2}}}\n",
    "$$"
   ]
  },
  {
   "cell_type": "markdown",
   "id": "898e3d83",
   "metadata": {
    "direction": "rtl"
   },
   "source": [
    "<p style=\"font-family:B Nazanin\">\n",
    "     در این مثال فرض کنید نمرات یک سری دانش‌آموز در نمونه A قرار دارند. برای این دانش‌آموزان کلاس‌های تقویتی برگزار شده و سپس نمرات آن‌ها در نمونه B جمع‌آوری شده است. اکنون می‌خواهیم ببینیم این کلاس‌ها روی نمرات دانش‌آموزان تاثیری داشته یا خیر.\n",
    "</p>"
   ]
  },
  {
   "cell_type": "code",
   "execution_count": 10,
   "id": "22933acf",
   "metadata": {},
   "outputs": [
    {
     "name": "stdout",
     "output_type": "stream",
     "text": [
      "std_A: 2.701851217221259\n",
      "std_B: 3.974921382870358\n",
      "z_test: 2.6984\n",
      "p_value: 0.0070\n",
      "difference in the mean => H0 rejected\n"
     ]
    }
   ],
   "source": [
    "import numpy as np\n",
    "from scipy.stats import norm\n",
    "\n",
    "scores_A = np.array([85,90,88,92,87])\n",
    "scores_B = np.array([78,85,80,88,82])\n",
    "\n",
    "mean_A, mean_B = np.mean(scores_A), np.mean(scores_B)\n",
    "std_A, std_B = np.std(scores_A, ddof=1), np.std(scores_B, ddof=1)\n",
    "n_A, n_B = len(scores_A), len(scores_B)\n",
    "\n",
    "z_test = (mean_A - mean_B) / np.sqrt((std_A**2 / n_A)+(std_B**2 / n_B))\n",
    "p_value = 2 * (1 - norm.cdf(abs(z_test)))\n",
    "\n",
    "print(f\"std_A: {std_A}\")\n",
    "print(f\"std_B: {std_B}\")\n",
    "print(f\"z_test: {z_test:.4f}\")\n",
    "print(f\"p_value: {p_value:.4f}\")\n",
    "\n",
    "alpha = 0.05\n",
    "if p_value < alpha:\n",
    "    print(f\"difference in the mean => H0 rejected\")\n",
    "else:\n",
    "    print(\"no difference in the mean\")"
   ]
  },
  {
   "cell_type": "markdown",
   "id": "b37bc68e",
   "metadata": {
    "direction": "rtl"
   },
   "source": [
    "<p style=\"font-family:B Nazanin\">\n",
    "     مثال بالا به صورت دو طرفه بررسی شده‌است چون می‌خواهیم ببینیم میانگین با مقدار قبلی برابر است یا نه. یعنی فرض صفر این است که میانگین دو جامعه یکسان است و فرض جایگزین این است که میانگین متفاوت می‌شود. همانطور که دیدیم فرض صفر رد شده و میانگین متفاوت است.\n",
    "</p>"
   ]
  },
  {
   "cell_type": "markdown",
   "id": "e46d81ea",
   "metadata": {
    "direction": "rtl"
   },
   "source": [
    "<p style=\"font-family:B Nazanin\">\n",
    "     * تابع ttest_ind که برای آزمون T روی دو نمونه مستقل استفاده می‌شود.<br>\n",
    "     * تابع ttest_rel که برای آزمون T روی دو نمونه وابسته به هم استفاده می‌شود. <br>\n",
    "    مثال از آزمون T روی دو نمونه مستقل:\n",
    "</p>"
   ]
  },
  {
   "cell_type": "code",
   "execution_count": 11,
   "id": "adaa65bb",
   "metadata": {},
   "outputs": [
    {
     "name": "stdout",
     "output_type": "stream",
     "text": [
      "mean_a: 29.6395\t\tstd_a: 10.7667\n",
      "mean_b: 32.8336\t\tstd_b: 10.3613\n",
      "t_test: -1.1511\n",
      "p_value: 0.2544\n",
      "no difference in the mean\n"
     ]
    }
   ],
   "source": [
    "import numpy as np\n",
    "from scipy import stats\n",
    "\n",
    "group_a = np.random.normal(loc=30, scale=10, size=30)\n",
    "group_b = np.random.normal(loc=35, scale=10, size=30)\n",
    "\n",
    "mean_a = np.mean(group_a)\n",
    "std_a = np.std(group_a)\n",
    "print(f\"mean_a: {mean_a:.4f}\\t\\tstd_a: {std_a:.4f}\")\n",
    "\n",
    "mean_b = np.mean(group_b)\n",
    "std_b = np.std(group_b)\n",
    "print(f\"mean_b: {mean_b:.4f}\\t\\tstd_b: {std_b:.4f}\")\n",
    "\n",
    "t_test, p_value = stats.ttest_ind(group_a, group_b, equal_var=True)\n",
    "print(f\"t_test: {t_test:.4f}\")\n",
    "print(f\"p_value: {p_value:.4f}\")\n",
    "\n",
    "alpha = 0.05\n",
    "if p_value < alpha:\n",
    "    print(f\"difference in the mean => H0 rejected\")\n",
    "else:\n",
    "    print(\"no difference in the mean\")"
   ]
  },
  {
   "cell_type": "markdown",
   "id": "faf9ca6e",
   "metadata": {
    "direction": "rtl"
   },
   "source": [
    "<p style=\"font-family:B Nazanin\">\n",
    "     مثال از آزمون T روی دو نمونه وابسته:\n",
    "</p>"
   ]
  },
  {
   "cell_type": "code",
   "execution_count": 12,
   "id": "513f2655",
   "metadata": {},
   "outputs": [
    {
     "name": "stdout",
     "output_type": "stream",
     "text": [
      "       Height      Weight\n",
      "0  172.483571  102.099889\n",
      "1  169.308678  100.188018\n",
      "2  173.238443  104.668952\n",
      "3  177.615149  100.829249\n",
      "4  168.829233   96.122786\n",
      "5  168.829315   99.610727\n",
      "6  177.896064  103.699145\n",
      "7  173.837174  105.245046\n",
      "8  167.652628   97.867505\n",
      "9  172.712800   99.390769\n"
     ]
    }
   ],
   "source": [
    "import numpy as np\n",
    "import pandas as pd\n",
    "\n",
    "np.random.seed(42)\n",
    "heights = np.random.normal(loc=170, scale=5, size=10)\n",
    "weights = heights * 0.6 + np.random.normal(loc=0, scale=3, size=10)\n",
    "data = pd.DataFrame({'Height': heights, 'Weight': weights})\n",
    "print(data)"
   ]
  },
  {
   "cell_type": "code",
   "execution_count": 14,
   "id": "5fe7006c",
   "metadata": {},
   "outputs": [
    {
     "name": "stdout",
     "output_type": "stream",
     "text": [
      "t_test: -4.8020\n",
      "p_value: 0.0086\n",
      "difference in the mean => H0 rejected\n"
     ]
    }
   ],
   "source": [
    "import numpy as np\n",
    "from scipy import stats\n",
    "\n",
    "before = np.array([25,30,35,28,33])\n",
    "after = np.array([30,32,37,31,35])\n",
    "t_test, p_value = stats.ttest_rel(before, after)\n",
    "\n",
    "print(f\"t_test: {t_test:.4f}\")\n",
    "print(f\"p_value: {p_value:.4f}\")\n",
    "\n",
    "alpha = 0.05\n",
    "if p_value < alpha:\n",
    "    print(f\"difference in the mean => H0 rejected\")\n",
    "else:\n",
    "    print(\"no difference in the mean\")"
   ]
  },
  {
   "cell_type": "markdown",
   "id": "b2eb593d",
   "metadata": {
    "direction": "rtl"
   },
   "source": [
    "<p style=\"font-family:B Nazanin\">\n",
    "     آزمون ANOVA برای انجام آزمون روی بیش از دو نمونه مستقل انجام می‌شود. برای این آزمون از تابع f_oneway در ماژول scipy.stats استفاده می‌کنیم.\n",
    "</p>"
   ]
  },
  {
   "cell_type": "code",
   "execution_count": 15,
   "id": "661d71af",
   "metadata": {},
   "outputs": [
    {
     "name": "stdout",
     "output_type": "stream",
     "text": [
      "f_statistic: 3.1410\n",
      "p_value: 0.0800\n",
      "no difference in the mean\n"
     ]
    }
   ],
   "source": [
    "import numpy as np\n",
    "from scipy.stats import f_oneway\n",
    "\n",
    "group_a_scores = [75, 82, 88, 78, 92]\n",
    "group_b_scores = [68, 75, 79, 80, 82]\n",
    "group_b_scores = [90, 85, 88, 92, 95]\n",
    "f_statistic, p_value = f_oneway(group_a_scores, group_b_scores, group_b_scores)\n",
    "\n",
    "print(f\"f_statistic: {f_statistic:.4f}\")\n",
    "print(f\"p_value: {p_value:.4f}\")\n",
    "\n",
    "alpha = 0.05\n",
    "if p_value < alpha:\n",
    "    print(f\"difference in the mean => H0 rejected\")\n",
    "else:\n",
    "    print(\"no difference in the mean\")"
   ]
  },
  {
   "cell_type": "markdown",
   "id": "76b3b79a",
   "metadata": {
    "direction": "rtl"
   },
   "source": [
    "<p style=\"font-family:B Nazanin\">\n",
    "     آزمون U یا Manwhitneyu برای مقایسه میانگین دو گروه مستقل که داده‌های ترتیبی دارند استفاده می‌شود.\n",
    "</p>"
   ]
  },
  {
   "cell_type": "code",
   "execution_count": 16,
   "id": "20625471",
   "metadata": {},
   "outputs": [
    {
     "name": "stdout",
     "output_type": "stream",
     "text": [
      "u_test: 24.0000\n",
      "p_value: 0.0159\n",
      "The probability distribution is different\n"
     ]
    }
   ],
   "source": [
    "from scipy.stats import mannwhitneyu\n",
    "\n",
    "group_1 = [12, 15, 14, 18, 16]\n",
    "group_2 = [8, 10, 11, 13, 9]\n",
    "statistic, p_value = mannwhitneyu(group_1, group_2)\n",
    "\n",
    "print(f\"u_test: {statistic:.4f}\")\n",
    "print(f\"p_value: {p_value:.4f}\")\n",
    "\n",
    "alpha = 0.05\n",
    "if p_value < alpha:\n",
    "    print(\"The probability distribution is different\")\n",
    "else:\n",
    "    print(\"The probability distribution is not different\")"
   ]
  }
 ],
 "metadata": {
  "direction": "ltr",
  "kernelspec": {
   "display_name": "Python 3 (ipykernel)",
   "language": "python",
   "name": "python3"
  },
  "language_info": {
   "codemirror_mode": {
    "name": "ipython",
    "version": 3
   },
   "file_extension": ".py",
   "mimetype": "text/x-python",
   "name": "python",
   "nbconvert_exporter": "python",
   "pygments_lexer": "ipython3",
   "version": "3.11.2"
  }
 },
 "nbformat": 4,
 "nbformat_minor": 5
}
