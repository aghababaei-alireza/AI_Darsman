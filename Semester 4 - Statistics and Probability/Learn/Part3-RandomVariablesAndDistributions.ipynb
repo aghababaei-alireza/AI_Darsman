{
 "cells": [
  {
   "cell_type": "markdown",
   "id": "5a7766df",
   "metadata": {
    "direction": "rtl"
   },
   "source": [
    "<span dir=\"rtl\" style=\"font-family:B Nazanin\" align=\"right\">\n",
    "    <h1>فصل چهارم: آمار و احتمالات</h1>\n",
    "    <h2>بخش سوم: متغیرهای تصادفی و توزیع‌های احتمال در علم داده</h2>\n",
    "</span>"
   ]
  },
  {
   "cell_type": "markdown",
   "id": "5c1b9afe",
   "metadata": {
    "direction": "rtl"
   },
   "source": [
    "<p style = \"font-family:B Nazanin;\">\n",
    "    در این فصل تعدادی از قوانین و اصول آماری (اصل شمارش) که در آینده برای محاسبه احتمالات و شمارش پدیده‌های آماری و ... استفاده می‌شود، بیان خواهد شد. <br>\n",
    "    <b>اصول شمارش:</b> <br>\n",
    "    اصولی هستند که برای شمارش حالت‌های اتفاق افتادن یک پدیده استفاده می‌شوند. شامل اصل ضرب، اصل جمع، ترکیب و جایگشت. <br>\n",
    "    <b>اصل ضرب:</b> <br>\n",
    "    اگر در انتخاب حالت‌ها اجباری وجود داشته باشد، یعنی حتما از یک سری حالت باید انتخاب صورت بگیرد و از یک سری دیگر هم باید انتخاب صورت بگیرد، پس تعداد حالت‌های انتخاب مورد اول باید در تعداد حالت‌های مورد دوم ضرب شود. مثلا فرض کنید که از شهر 1 می‌خواهیم به شهر 3 برویم و در این میان باید حتما از شهر 2 نیز بگذریم. اگر تعداد مسیرهایی که شهر 1 را به شهر 2 میرساند 3 حالت باشد (A, B, C) و تعداد مسیرهایی که شهر 2 را به شهر 3 میرساند 2 حالت باشد (D, E): \n",
    "</p>"
   ]
  },
  {
   "cell_type": "markdown",
   "id": "b50fa58f",
   "metadata": {},
   "source": [
    "$\\begin{matrix}\n",
    "&\\xrightarrow{A}&\\\\\n",
    "\\boxed{1}&\\xrightarrow{B}&\\boxed{2}&\\begin{matrix}\n",
    "\\xrightarrow{D}\\\\\n",
    "\\xrightarrow{E}\n",
    "\\end{matrix}\\\\\n",
    "&\\xrightarrow{C}&\\\\\n",
    "\\end{matrix}\n",
    "\\boxed{3}$"
   ]
  },
  {
   "cell_type": "markdown",
   "id": "7318604d",
   "metadata": {
    "direction": "rtl"
   },
   "source": [
    "<p style = \"font-family:B Nazanin;\">\n",
    "     در این حالت، تعداد حالت‌هایی که از شهر 1 به شهر 3 برویم و از شهر 2 نیز حتما عبور کنیم، از اصل ضرب به دست می‌آید و برابر است با $3\\times2=6$. این حالت‌ها عبارتند از:\n",
    "</p>"
   ]
  },
  {
   "cell_type": "markdown",
   "id": "801246fd",
   "metadata": {},
   "source": [
    "$(A,D), (A, E), (B, D), (B, E), (C, D), (C, E)$"
   ]
  },
  {
   "cell_type": "markdown",
   "id": "87adf0f4",
   "metadata": {
    "direction": "rtl"
   },
   "source": [
    "<p style = \"font-family:B Nazanin;\">\n",
    "     به عنوان مثالی دیگر اگر در یک رستوران 5 نوع غذا و 3 نوع نوشیدنی وجود داشته باشد، اگر بخواهیم حتما هم غذا و هم نوشیدنی انتخاب کنیم، تعداد کل حالت‌های سفارش برابر است با $5\\times3=15$. <br>\n",
    "    مثال دیگر. با ارقام 5 و 4 و 3 و 9 و 7 می‌خواهیم اعداد سه رقمی بدون تکرار ارقام بنویسیم. برای نوشتن این عدد باید 3 رقم برای جایگاه‌های صدگان، دهگان و یکان انتخاب کنیم. برای انتخاب رقم صدگان 5 حالت انتخاب داریم (چون از بین این 5 رقم باید انتخاب کنیم). برای رقم دهگان، چون نمی‌خواهیم ارقام تکراری باشند و یک رقم را در جایگاه صدگان استفاده کردیم، پس 4 رقم باقی می‌ماند که می‌توانیم استفاده کنیم. پس 4 حالت داریم و برای جایگاه یکان، چون قبلا دو رقم استفاده شده‌است، پس 3 حالت انتخاب باقی می‌ماند. پس در کل برای نوشتن یک عدد سه رقمی (بر اساس اصل ضرب)، $5\\times4\\times3=60$ حالت انتخاب داریم. یعنی با این رقم‌های گفته‌شده 60 عدد سه رقمی بدون تکرار ارقام می‌توان نوشت. <br>\n",
    "    در مثال قبل اگر محدودیت تکراری نبودن ارقام را نداشتیم، در همه جایگاه‌های صدگان، دهگان و یکان می‌توانستیم 5 رقم استفاده کنیم، پس تعداد کل حالات $5\\times5\\times5=125$ عدد می‌توانستیم بنویسیم. <br>\n",
    "    <br>\n",
    "    <b>اصل جمع:</b> زمانی استفاده می‌شود که حق انتخاب بین چند حالت ممکن داشته باشیم و بین چند حالت مختلف بتوانیم یکی را انتخاب کنیم. در این صورت تعداد کل حالات انتخاب برابر است با جمع تعداد حالت انتخاب هر یک از موارد ممکن. <br>\n",
    "    به عنوان مثال اگر در یک کافه 5 مدل بستنی و 3 مدل قهوه وجود داشته باشد و ما بخواهیم فقط یک مورد را انتخاب کنیم، چون حق انتخاب داریم پس در کل می‌توانیم به $5 + 3 = 8$ حالت مختلف سفارش دهیم. <br>\n",
    "    مثال دیگر. تعداد مسیرهای بین چهار شهر مختلف به صورت زیر است. سه مسیر بین شهر 1 و 2. یک مسیر بین شهر 2 و 4. دو مسیر بین شهر 1 و 3. پنج مسیر بین شهر 3 و 4. می‌خواهیم از شهر 1 به شهر 4 برویم. \n",
    "</p>"
   ]
  },
  {
   "cell_type": "markdown",
   "id": "c0a500c2",
   "metadata": {},
   "source": [
    "$\n",
    "\\begin{matrix}\n",
    "&\\xrightarrow{A}\\\\\n",
    "\\boxed{1}&\\xrightarrow{B}&\\boxed{2}\\\\\n",
    "&\\xrightarrow{C}\n",
    "\\end{matrix}\n",
    "\\hspace{1cm}\n",
    "\\begin{matrix}\n",
    "\\boxed{2}&\\xrightarrow{D}&\\boxed{4}\\\\\n",
    "\\end{matrix}\\\\\n",
    "\\begin{matrix}\n",
    "&\\xrightarrow{E}\\\\\n",
    "\\boxed{1}&&\\boxed{3}\\\\\n",
    "&\\xrightarrow{F}\n",
    "\\end{matrix}\n",
    "\\hspace{1cm}\n",
    "\\begin{matrix}\n",
    "&\\xrightarrow{G}\\\\\n",
    "&\\xrightarrow{H}\\\\\n",
    "\\boxed{3}&\\xrightarrow{I}&\\boxed{4}\\\\\n",
    "&\\xrightarrow{J}\\\\\n",
    "&\\xrightarrow{K}\n",
    "\\end{matrix}\n",
    "$"
   ]
  },
  {
   "cell_type": "markdown",
   "id": "ab6d1490",
   "metadata": {
    "direction": "rtl"
   },
   "source": [
    "<p style = \"font-family:B Nazanin;\">\n",
    "     از دو مسیر می‌توانیم برویم. از شهر 1 به شهر 2 و سپس به شهر 4 یا از شهر 1 به شهر 3 و سپس به شهر 4. اگر بخواهیم از مسیر بالا برویم (1 به 2 به 4) طبق اصل ضرب $3\\times1=3$ حالت انتخاب داریم و اگر بخواهیم از مسیر پایین (1 به 3 به 4) طبق اصل ضرب $2\\times5=10$ حالت انتخاب داریم و چون بین این دو مسیر حق انتخاب داریم، طبق اصل جمع $3 + 10 = 13$ حالت انتخاب برای رفتن از شهر 1 به شهر 4 داریم. <br>\n",
    "    <br>\n",
    "    <b>اصل ترکیب:</b> به تعداد راه‌هایی که می‌توان از یک مجموعه بدون در نظر گرفتن ترتیب، تعدادی از عناصرش را انتخاب کنیم تا یک زیر مجموعه بسازیم، ترکیب می‌گویند. مثلا مجموعه {a, b, c, d} را در نظر بگیرید. تمام زیرمجموعه‌های دو عضوی از این مجموعه برابرند با: {a,b} و {a, c} و {a, d} و {b, c} و {b, d} و {c, d}. برای محاسبه تعداد کل حالات انتخاب در این اصل از فرمول زیر استفاده می‌کنیم. بنابراین اگر بخواهیم از یک مجموعه n عضوی، زیرمجموعه k عضوی انتخاب کنیم، تعداد کل حالات برابر است با:\n",
    "</p>"
   ]
  },
  {
   "cell_type": "markdown",
   "id": "edc31faf",
   "metadata": {},
   "source": [
    "$$\n",
    "C(n, k) = \\left(\\begin{array}{c}n\\\\k\\end{array}\\right) = \\frac{n!}{(n-k)!k!}\n",
    "$$"
   ]
  },
  {
   "cell_type": "markdown",
   "id": "8d36c9cd",
   "metadata": {
    "direction": "rtl"
   },
   "source": [
    "<p style = \"font-family:B Nazanin;\">\n",
    "     به عنوان مثال تعداد حالت‌های انتخاب 3 مهره از بین 6 مهره برابر است با:\n",
    "</p>"
   ]
  },
  {
   "cell_type": "markdown",
   "id": "e01f5d22",
   "metadata": {},
   "source": [
    "$$\n",
    "C(6, 3) = \\frac{6!}{3!\\times3!} = 20\n",
    "$$"
   ]
  },
  {
   "cell_type": "markdown",
   "id": "c594011a",
   "metadata": {
    "direction": "rtl"
   },
   "source": [
    "<p style = \"font-family:B Nazanin;\">\n",
    "     مثال دیگر. از میان 4 مرد و 5 زن می‌خواهیم یک هیئت 3 نفره تشکیل دهیم. تعداد کل حالات ممکن برابر است با:\n",
    "</p>"
   ]
  },
  {
   "cell_type": "markdown",
   "id": "ad16c85b",
   "metadata": {},
   "source": [
    "$$\n",
    "\\left(\\begin{array}{c}9\\\\3\\end{array}\\right) = \\frac{9!}{6!\\times3!} = 84\n",
    "$$"
   ]
  },
  {
   "cell_type": "markdown",
   "id": "102844be",
   "metadata": {
    "direction": "rtl"
   },
   "source": [
    "<p style = \"font-family:B Nazanin;\">\n",
    "     مثال دیگر. از میان 10 مرد و 7 زن می‌خواهیم 5 نفر انتخاب کنیم که شامل 3 مرد و 2 زن باشد. پس باید از بین 10 مرد، 3 نفر و از بین 7 زن، 2 نفر را انتخاب کنیم. همچنین چون باید هم مرد و هم زن انتخاب کنیم و بین این دو حالت and وجود دارد، پس با استفاده از اصل ضرب تعداد کل حالات برابر است با حاصل‌ضرب این دو عدد. \n",
    "</p>"
   ]
  },
  {
   "cell_type": "markdown",
   "id": "955094be",
   "metadata": {},
   "source": [
    "$$\n",
    "\\left(\\begin{array}{c}10\\\\3\\end{array}\\right) \\times \\left(\\begin{array}{c}7\\\\2\\end{array}\\right) = \\frac{10!}{7! \\times 3!} \\times \\frac{7!}{5! \\times 2!} = 120 \\times 21 = 2520\n",
    "$$"
   ]
  },
  {
   "cell_type": "markdown",
   "id": "f6e4c5e2",
   "metadata": {
    "direction": "rtl"
   },
   "source": [
    "<p style = \"font-family:B Nazanin;\">\n",
    "    <b>اصل جایگشت:</b> تعداد راه‌هایی که می‌توانیم از یک مجموعه شامل عناصر مختلف، با در نظر گرفتن ترتیب انتخاب آن عناصر، یک زیرمجموعه بسازیم. اگر بخواهیم از میان یک مجموعه n عضوی، k عضو را به‌ترتیب انتخاب کنیم، تعداد کل حالات ممکن برابر است با: \n",
    "</p>"
   ]
  },
  {
   "cell_type": "markdown",
   "id": "b65c0856",
   "metadata": {},
   "source": [
    "$$\n",
    "P(n, k) = \\frac{n!}{(n-k)!}\n",
    "$$"
   ]
  },
  {
   "cell_type": "markdown",
   "id": "596adbf9",
   "metadata": {
    "direction": "rtl"
   },
   "source": [
    "<p style = \"font-family:B Nazanin;\">\n",
    "     به عنوان مثال، می‌خواهیم تعداد جایگشت‌های سه حرف a و b و c را پیدا کنیم. یعنی این سه حرف را به چه ترتیب‌هایی می‌توان کنار هم نوشت. همان طور که مشخص است می‌توان گفت که این سه حرف را به 6 صورت مختلف abc و acb و bac و bca و cab و cba کنار هم نوشت. با استفاده از فرمول نیز می‌توان گفت که می‌خواهیم از میان 3 حرف، 3 حرف را به ترتیب انتخاب کنیم:\n",
    "</p>"
   ]
  },
  {
   "cell_type": "markdown",
   "id": "82ae0394",
   "metadata": {},
   "source": [
    "$$\n",
    "P(3, 3) = \\frac{3!}{(3-3)!} = \\frac{3\\times2\\times1}{1} = 6\n",
    "$$"
   ]
  },
  {
   "cell_type": "markdown",
   "id": "95352fe4",
   "metadata": {
    "direction": "rtl"
   },
   "source": [
    "<p style = \"font-family:B Nazanin;\">\n",
    "     مثال دیگر. تعداد کلمات 7 حرفی که با استفاده از 7 حرف a, b, c, d, e, f, g بدون تکرار حروف می‌توان نوشت. برای حل این مثال هم می‌توان از اصل ضرب استفاده کرد به این صورت که برای حرف اول 7 حالت انتخاب داریم. چون تکرار نباید داشته باشیم، برای حرف دوم 6 حالت، حرف سوم 5 حالت و به همین ترتیب برای حرف هفتم 1 حالت انتخاب و تعداد کل کلمات ممکن برابر است با $7\\times6\\times5\\times4\\times3\\times2\\times1=7!$. هم می‌توان از اصل جایگشت استفاده کرد. به این صورت که می‌خواهیم از بین 7 حرف، 7 حرف را انتخاب کنیم و ترتیب نیز مهم است چون جایگاه حروف در کلمه مهم است و جایگاه هر حرف که عوض شود، کل کلمه عوض می‌شود. \n",
    "</p>"
   ]
  },
  {
   "cell_type": "markdown",
   "id": "51182b30",
   "metadata": {},
   "source": [
    "$$\n",
    "P(7, 7) = \\frac{7!}{(7-7)!} = 7!\n",
    "$$"
   ]
  },
  {
   "cell_type": "markdown",
   "id": "ed7914ea",
   "metadata": {
    "direction": "rtl"
   },
   "source": [
    "<p style = \"font-family:B Nazanin;\">\n",
    "     مثال دیگر. انتخاب رتبه‌های اول و دوم و سوم از بین 7 نفر. یعنی جایگشت 3 نفر از 7 نفر:\n",
    "</p>"
   ]
  },
  {
   "cell_type": "markdown",
   "id": "d5bc0d8a",
   "metadata": {},
   "source": [
    "$$\n",
    "P(7, 3) = \\frac{7!}{(7-3)!} = \\frac{7!}{4!} = 7\\times6\\times5 = 210\n",
    "$$"
   ]
  },
  {
   "cell_type": "markdown",
   "id": "9ec8bea8",
   "metadata": {
    "direction": "rtl"
   },
   "source": [
    "<p style = \"font-family:B Nazanin;\">\n",
    "    <b>مفاهیم اولیه احتمال:</b><br>\n",
    "    <b>فضای نمونه‌ای (S):</b> مجموعه تمام حالت‌هایی است که در یک آزمایش تصادفی اتفاق می‌افتد. مثلا وقتی یک نفر در یک آزمون شرکت می‌کند، فضای نمونه‌ای برابر است با قبول شدن یا رد شدن. یا وقتی دو تیم A و B با هم مسابقه می‌دهند، فضای نمونه‌ای می‌شود: برنده شدن A، برنده شدن B و مساوی شدن. چند مثال: <br>\n",
    "    فضای نمونه‌ای پرتاب یک سکه: شیر یا خط. S = {H, T} <br>\n",
    "    فضای نمونه‌ای پرتاب یک تاس: اعداد 1 تا 6. S = {1, 2, 3, 4, 5, 6} <br>\n",
    "    فضای نمونه‌ای داشتن سه فرزند: (G: دختر B: پسر) S = {GGG, GGB, GBG, GBB, BGG, BGB, BBG, BBB} یعنی n(S) = 8<br>\n",
    "    فضای نمونه‌ای پرتاب دو سکه: S = {HH, HT, TH, TT}<br>\n",
    "    فضای نمونه‌ای پرتاب یک سکه و یک تاس: S = {1H, 1T, 2H, 2T, 3H, 3T, 4H, 4T, 5H, 5T, 6H, 6T} <br>\n",
    "    فضای نمونه‌ای پرتاب دو تاس در صورتی که حاصل جمع دو عدد بیشتر از 9 باشد: S = {(4,6), (6,4), (5,5), (5,6), (6,5), (6,6)}<br>\n",
    "    <br>\n",
    "    <b>پیشامد (رویداد):</b> هر زیرمجموعه از فضای نمونه‌ای را پیشامد (رویداد) می‌گویند. <br>\n",
    "    مثال 1. اگر یک سکه را دو بار پرتاب کنیم: فضای نمونه‌ای S = {HH, HT, TT, TH} <br>\n",
    "    پیشامد اینکه اصلا شیر ظاهر نشود: A = {TT} <br>\n",
    "    پیشامد اینکه در پرتاب دوم خط ظاهر شود: B = {TT, HT} <br>\n",
    "    <br>\n",
    "    مثال 2. در یک خانواده سه نفره: S = {GGG, GGB, GBG, GBB, BGG, BGB, BBG, BBB}<br>\n",
    "    پیشامد اینکه فرزند اول پسر باشد: A = {BGG, BGB, BBG, BBB} <br>\n",
    "    پیشامد اینکه هر سه فرزند با یک جنسیت باشند: B = {GGG, BBB} <br>\n",
    "    پیشامد اینکه دو فرزند پشت سر هم با یک جنسیت باشند: C = {GGG, GGB, GBB, BBB, BGG, BBG} <br>\n",
    "    پیشامد اینکه هر سه فرزند پسر نباشند: D = {GGG, GGB, GBG, GBB, BGG, BGB, BBG} <br>\n",
    "    <br>\n",
    "    <b>احتمال:</b> شانس وقوع یک پیشامد را احتمال آن پیشامد می‌گویند. احتمال همیشه عددی بین صفر و یک است که برابر است با نسبت تعداد اعضای آن پیشامد تقسیم بر تعداد کل اعضای فضای نمونه. یا به عبارتی دیگر نسبت تعداد حالات مطلوب به تعداد کل حالات ممکن. پس اگر S فضای نمونه‌ای و A یک پیشامد باشد، احتمال وقوع پیشامد A برابر است با $$P(A) = \\frac{n(A)}{n(S)}$$ چند مثال: <br>\n",
    "    مثال 1. در پرتاب یک تاس: $S = \\{1, 2, 3, 4, 5, 6\\}\\rightarrow n(S) = 6$<br>\n",
    "    احتمال اینکه عدد 5 بیاید. \n",
    "</p>"
   ]
  },
  {
   "cell_type": "markdown",
   "id": "60a7390c",
   "metadata": {},
   "source": [
    "$$\n",
    "A = \\{5\\} \\rightarrow n(A) = 1 \\rightarrow P(A) = \\frac{n(A)}{n(S)} = \\frac{1}{6}\n",
    "$$"
   ]
  },
  {
   "cell_type": "markdown",
   "id": "1f478501",
   "metadata": {
    "direction": "rtl"
   },
   "source": [
    "<p style = \"font-family:B Nazanin;\">\n",
    "     احتمال اینکه عدد زوج باشد: \n",
    "</p>"
   ]
  },
  {
   "cell_type": "markdown",
   "id": "25f2d82d",
   "metadata": {},
   "source": [
    "$$\n",
    "B = \\{2, 4, 6\\} \\rightarrow n(B) = 3 \\rightarrow P(B) = \\frac{3}{6} = \\frac{1}{2}\n",
    "$$"
   ]
  },
  {
   "cell_type": "markdown",
   "id": "16345f47",
   "metadata": {
    "direction": "rtl"
   },
   "source": [
    "<p style = \"font-family:B Nazanin;\">\n",
    "     احتمال اینکه عدد اول باشد:\n",
    "</p>"
   ]
  },
  {
   "cell_type": "markdown",
   "id": "a99c9772",
   "metadata": {},
   "source": [
    "$$\n",
    "C = \\{2, 3, 5\\} \\rightarrow n(C) = 3 \\rightarrow P(C) = \\frac{3}{6} = \\frac{1}{2}\n",
    "$$"
   ]
  },
  {
   "cell_type": "markdown",
   "id": "02d52704",
   "metadata": {
    "direction": "rtl"
   },
   "source": [
    "<p style = \"font-family:B Nazanin;\">\n",
    "     مثال 2. برای یک خانواده سه نفری: $S = \\{GGG, GGB, GBG, GBB, BGG, BGB, BBG, BBB\\} \\rightarrow n(S) = 8$ <br>\n",
    "    احتمال اینکه هر سه فرزند از یک جنسیت باشند: \n",
    "</p>"
   ]
  },
  {
   "cell_type": "markdown",
   "id": "3eb8bd3d",
   "metadata": {},
   "source": [
    "$$\n",
    "A = \\{GGG, BBB\\} \\rightarrow n(A) = 2 \\rightarrow P(A) = \\frac{2}{8} = \\frac{1}{4} = 25\\%\n",
    "$$"
   ]
  },
  {
   "cell_type": "markdown",
   "id": "03a222c1",
   "metadata": {
    "direction": "rtl"
   },
   "source": [
    "<p style = \"font-family:B Nazanin;\">\n",
    "     احتمال اینکه فقط یکی از فرزندان پسر باشد:\n",
    "</p>"
   ]
  },
  {
   "cell_type": "markdown",
   "id": "25eafd3a",
   "metadata": {},
   "source": [
    "$$\n",
    "B = \\{GGB, GBG, BGG\\} \\rightarrow n(B) = 3 \\rightarrow P(B) = \\frac{3}{8}\n",
    "$$"
   ]
  },
  {
   "cell_type": "markdown",
   "id": "6ea73918",
   "metadata": {
    "direction": "rtl"
   },
   "source": [
    "<p style = \"font-family:B Nazanin;\">\n",
    "     احتمال اینکه حداقل یکی از فرزندان دختر باشد:\n",
    "</p>"
   ]
  },
  {
   "cell_type": "markdown",
   "id": "aaefb77a",
   "metadata": {},
   "source": [
    "$$\n",
    "D = \\{GGG, GGB, GBG, GBB, BGG, BGB, BBG\\} \\rightarrow n(D) = 7 \\rightarrow P(D) = \\frac{7}{8}\n",
    "$$"
   ]
  },
  {
   "cell_type": "markdown",
   "id": "20a17e3e",
   "metadata": {
    "direction": "rtl"
   },
   "source": [
    "<p style = \"font-family:B Nazanin;\">\n",
    "     مثال 3. در پرتاب دو تاس: $n(S) = 36$ <br>\n",
    "    احتمال اینکه مجموع دو عدد بیشتر از 8 باشد: \n",
    "</p>"
   ]
  },
  {
   "cell_type": "markdown",
   "id": "42e27ad5",
   "metadata": {},
   "source": [
    "$$\n",
    "A = \\{(4,5), (5,4), (5,5), (4,6), (6,4), (5,6), (6,5), (6,6)\\} \\rightarrow n(A) = 8 \\rightarrow P(A) = \\frac{8}{36} = \\frac{2}{9}\n",
    "$$"
   ]
  },
  {
   "cell_type": "markdown",
   "id": "84d34839",
   "metadata": {
    "direction": "rtl"
   },
   "source": [
    "<p style = \"font-family:B Nazanin;\">\n",
    "     احتمال اینکه ضرب دو عدد 10 باشد:\n",
    "</p>"
   ]
  },
  {
   "cell_type": "markdown",
   "id": "20598fbc",
   "metadata": {},
   "source": [
    "$$\n",
    "B = \\{(2,5), (5,2)\\} \\rightarrow n(B) = 2 \\rightarrow P(B) = \\frac{2}{36}\n",
    "$$"
   ]
  },
  {
   "cell_type": "markdown",
   "id": "3256d176",
   "metadata": {
    "direction": "rtl"
   },
   "source": [
    "<p style = \"font-family:B Nazanin;\">\n",
    "     احتمال اینکه دو عدد برابر باشند:\n",
    "</p>"
   ]
  },
  {
   "cell_type": "markdown",
   "id": "b2252095",
   "metadata": {},
   "source": [
    "$$\n",
    "C = \\{(1,1), (2,2), (3,3), (4,4), (5,5), (6,6)\\} \\rightarrow n(C) = 6 \\rightarrow P(C) = \\frac{6}{36} = \\frac{1}{6}\n",
    "$$"
   ]
  },
  {
   "cell_type": "markdown",
   "id": "1e9b07e9",
   "metadata": {
    "direction": "rtl"
   },
   "source": [
    "<p style = \"font-family:B Nazanin;\">\n",
    "    <b>احتمال شرطی:</b> احتمال شرطی به احتمال وقوع یک پیشامد به شرط وقوع یک پیشامد دیگر می‌گویند. یعنی احتمال A به شرط B یا $P(A|B)$ یعنی احتمال وقوع پیشامد A در حالی که می‌دانیم پیشامد B رخ داده‌است. در این حالت فرمول محاسبه احتمال به این صورت تغییر می‌کند که احتمال برابر است با تعداد حالاتی که هر دو پیشامد A و B همزمان رخ دهند (اشتراک پیشامد A و B) تقسیم بر تعداد حالات پیشامد B.\n",
    "</p>"
   ]
  },
  {
   "cell_type": "markdown",
   "id": "5e1e6c8c",
   "metadata": {},
   "source": [
    "$$\n",
    "P(A|B) = \\frac{n(A\\cap B)}{n(B)} = \\frac{P(A \\cap B)}{P(B)}\n",
    "$$"
   ]
  },
  {
   "cell_type": "markdown",
   "id": "56f3ee9a",
   "metadata": {
    "direction": "rtl"
   },
   "source": [
    "<p style = \"font-family:B Nazanin;\">\n",
    "     به عنوان مثال اگر بگوییم یک مشتری یک روز از ماه را به مغازه‌ای می‌آید. احتمال اینکه این مشتری به مغازه بیاید $\\frac{1}{30}$ است چون ماه 30 روز دارد. اما اگر بدانیم در طول ماه مغازه 10 روز تعطیل است، احتمال آمدن این مشتری به مغازه $\\frac{1}{20}$ می‌شود. چند مثال: <br>\n",
    "    مثال 1. در پرتاب دو تاس می‌دانیم حاصل جمع دو عدد 8 است. احتمال اینکه هر دو عدد زوج باشد چقدر است؟ <br>\n",
    "    روش اول)\n",
    "</p>"
   ]
  },
  {
   "cell_type": "markdown",
   "id": "b263490a",
   "metadata": {},
   "source": [
    "$$\n",
    "S = \\{(4,4), (3,5), (5,3), (2,6), (6,2)\\} , A = \\{(4,4), (6,2), (2,6)\\} \\rightarrow P(A) = \\frac{3}{5}\n",
    "$$"
   ]
  },
  {
   "cell_type": "markdown",
   "id": "df8aa3ed",
   "metadata": {
    "direction": "rtl"
   },
   "source": [
    "<p style = \"font-family:B Nazanin;\">\n",
    "     روش دوم) فضای نمونه $n(S) = 36$ و پیشامد A پیشامد این است که هر دو عدد زوج باشد و پیشامد B پیشامد این است که حاصل جمع دو عدد 8 باشد , $A \\cap B$ پیشامد این است که هم مجموع دو عدد 8 باشد و هم هر دو عدد زوج باشد:\n",
    "</p>"
   ]
  },
  {
   "cell_type": "markdown",
   "id": "c25660c3",
   "metadata": {},
   "source": [
    "$$\n",
    "A = \\{(2,2), (2,4), (2,6), (4,2), (4,4), (4,6), (6,2), (6,4), (6,6)\\} \\rightarrow n(A) = 9 \\\\\n",
    "B = \\{(3,5), (5,3), (4,4), (2,6), (6,2)\\} \\rightarrow n(B) = 5 \\\\\n",
    "A \\cap B = \\{(4,4), (6,2), (2,6)\\} \\rightarrow n(A \\cap B) = 3 \\\\\n",
    "P(A|B) = \\frac{n(A\\cap B)}{n(B)} = \\frac{3}{5}\n",
    "$$"
   ]
  },
  {
   "cell_type": "markdown",
   "id": "23730dc1",
   "metadata": {
    "direction": "rtl"
   },
   "source": [
    "<p style = \"font-family:B Nazanin;\">\n",
    "     مثال 2. در یک خانواده دو فرزندی، اگر بدانیم هر دو فرزند پسر نیستند، احتمال اینکه یکی پسر و یکی دختر باشند چند است؟\n",
    "</p>"
   ]
  },
  {
   "cell_type": "markdown",
   "id": "fd85c61e",
   "metadata": {},
   "source": [
    "$$\n",
    "B = \\{GG, GB, BG\\} , A = \\{BG, GB\\} \\rightarrow n(B) = 3 , n(A \\cap B) = 2 \\rightarrow P(A|B) = \\frac{2}{3}\n",
    "$$"
   ]
  },
  {
   "cell_type": "markdown",
   "id": "3eb889f7",
   "metadata": {
    "direction": "rtl"
   },
   "source": [
    "<p style = \"font-family:B Nazanin;\">\n",
    "     مثال 3. کیسه‌ای دارای دو مهره سیاه و سه مهره سفید است. از آن دو مهره خارج می‌کنیم. اگر بدانیم دو مهره همرنگ هستند، احتمال اینکه هر دو مهره سفید باشند چقدر است؟ در اینجا کل حالات ممکن که دو مهره همرنگ باشند برابر است با اینکه یا دو مهره سفید باشند یعنی ترکیب 2 از 3 یعنی $\\left(\\begin{array}{c}3\\\\2\\end{array}\\right)$ یا دو مهره سیاه باشند یعنی ترکیب 2 از 2 یا $\\left(\\begin{array}{c}2\\\\2\\end{array}\\right)$ و تعداد حالات مطلوب برابر است با اینکه هر دو مهره سفید باشند یعنی ترکیب 2 از 3 یا $\\left(\\begin{array}{c}3\\\\2\\end{array}\\right)$.\n",
    "</p>"
   ]
  },
  {
   "cell_type": "markdown",
   "id": "8c9ab805",
   "metadata": {},
   "source": [
    "$$\n",
    "P(A|B) = \\frac{\\left(\\begin{array}{c}3\\\\2\\end{array}\\right)}{\\left(\\begin{array}{c}3\\\\2\\end{array}\\right) + \\left(\\begin{array}{c}2\\\\2\\end{array}\\right)} = \\frac{3}{3+1} = \\frac{3}{4}\n",
    "$$"
   ]
  },
  {
   "cell_type": "markdown",
   "id": "8aef59fe",
   "metadata": {
    "direction": "rtl"
   },
   "source": [
    "<p style = \"font-family:B Nazanin;\">\n",
    "    <b>پیشامدهای سازگار و ناسازگار:</b> اگر اشتراک دو پیشامد A و B، تهی باشد ($A \\cap B = \\emptyset$) به آن دو پیشامد، ناسازگار می‌گویند؛ یعنی امکان ندارد این دو پیشامد با هم و همزمان اتفاق بیفتد. مثلا در یک خانواده سه فرزندی، پیشامد اینکه فرزند اول پسر باشد و پیشامد اینکه هر سه فرزند دختر باشند، ناسازگار است. <br>\n",
    "    مثال 1. در یک خانواده سه فرزندی، پیشامد A این است که فرزند اول و دوم متفاوت باشند. پیشامد B این است که حداقل دو فرزند دختر باشند و پیشامد C این است که سه فرزند دختر باشند. \n",
    "</p>"
   ]
  },
  {
   "cell_type": "markdown",
   "id": "b747e611",
   "metadata": {},
   "source": [
    "$$\n",
    "A = \\{BGG, BGB, GBG, GBB\\},\\quad\n",
    "B = \\{GGG, GGB, GBG, BGG\\},\\quad \n",
    "C = \\{GGG\\} \\\\\n",
    "\\rightarrow\n",
    "A \\cap B = \\{BGG, GBG\\} \\neq \\emptyset, \\quad\n",
    "A \\cap C = \\emptyset, \\quad\n",
    "B \\cap C = \\{GGG\\} \\neq \\emptyset\n",
    "$$"
   ]
  },
  {
   "cell_type": "markdown",
   "id": "4f65f835",
   "metadata": {
    "direction": "rtl"
   },
   "source": [
    "<p style = \"font-family:B Nazanin;\">\n",
    "    بنابراین پیشامدهای A و B سازگار، پیشامدهای A و C ناسازگار و پیشامدهای B و C سازگارند. <br>\n",
    "    <br>\n",
    "    <b>پیشامدهای مستقل و وابسته:</b> اگر بودن یا نبودن یک پیشامد در یک پیشامد دیگر تاثیر بگذارد، به آن دو پیشامد وابسته می‌گویند. یعنی اتفاق افتادن یک پیشامد تحت تاثیر اتفاق افتادن یک پیشامد دیگر است. اما اگر پیشامدها ربطی به هم نداشتند و روی هم اثری نمی‌گذاشتند، به آن‌ها مستقل می‌گویند. مثلا در تولد فرزندان یک خانواده، پسر یا دختر بودن فرزند اول، روی پسر یا دختر بودن فرزند دوم تاثیری ندارد. پس این دو پیشامد مستقل هستند. برای بررسی مستقل یا وابسته بودن دو پیشامد می‌توانیم از فرمول زیر استفاده کنیم. دو پیشامد زمانی نسبت به هم مستقل هستند که احتمال اشتراک آن دو پیشامد با حاصل‌ضرب احتمال آن دو پیشامد برابر باشد. \n",
    "</p>"
   ]
  },
  {
   "cell_type": "markdown",
   "id": "920d13b8",
   "metadata": {},
   "source": [
    "$$\n",
    "P(A \\cap B) = P(A) \\times P(B) \\quad\\therefore\\quad Independent\n",
    "$$"
   ]
  },
  {
   "cell_type": "markdown",
   "id": "1e25fa31",
   "metadata": {
    "direction": "rtl"
   },
   "source": [
    "<p style = \"font-family:B Nazanin;\">\n",
    "    مثال 1. در پرتاب دو تاس، پیشامد A مشاهده عدد 3 در تاس اول و پیشامد B مجموع 7 برای دو تاس است. با توجه به محاسبات زیر دو پیشامد مستقل هستند.\n",
    "</p>"
   ]
  },
  {
   "cell_type": "markdown",
   "id": "a1864d29",
   "metadata": {},
   "source": [
    "$\n",
    "n(S) = 36\\\\\n",
    "A = \\{(3,1), (3,2), (3,3), (3,4), (3,5), (3,6)\\} \\quad \\rightarrow n(A) = 6 \\quad \\rightarrow P(A) = \\frac{1}{6}\\\\\n",
    "B = \\{(3,4), (4,3), (5,2), (2,5), (6,1), (1,6)\\} \\quad \\rightarrow n(B) = 6 \\quad \\rightarrow P(B) = \\frac{1}{6}\\\\\n",
    "A \\cap B = \\{(3,4)\\} \\quad \\rightarrow n(A\\cap B) = 1 \\quad \\rightarrow P(A\\cap B) = \\frac{1}{36} \\\\\n",
    "P(A\\cap B) = P(A) \\times P(B)\n",
    "$"
   ]
  },
  {
   "cell_type": "markdown",
   "id": "475182ae",
   "metadata": {
    "direction": "rtl"
   },
   "source": [
    "<p style = \"font-family:B Nazanin;\">\n",
    "    مثال 2. یک سکه را سه بار پرتاب می‌کنیم. پیشامد A مشاهده خط در پرتاب دوم و پیشامد B مشاهده فقط دو بار شیر در پرتاب‌های متوالی است. با توجه به محاسبات زیر، دو پیشامد وابسته هستند.\n",
    "</p>"
   ]
  },
  {
   "cell_type": "markdown",
   "id": "3d2e6c9f",
   "metadata": {},
   "source": [
    "$\n",
    "n(S) = 8\\\\\n",
    "A = \\{TTT, TTH, HTH, HTT\\} \\quad \\rightarrow n(A) = 4 \\quad \\rightarrow P(A) = \\frac{1}{2}\\\\\n",
    "B = \\{HHT, THH, HTH\\} \\quad \\rightarrow n(B) = 3 \\quad \\rightarrow P(B) = \\frac{3}{8}\\\\\n",
    "A \\cap B = \\{HTH\\} \\quad \\rightarrow n(A\\cap B) = 1 \\quad \\rightarrow P(A\\cap B) = \\frac{1}{8} \\\\\n",
    "P(A\\cap B) \\neq P(A) \\times P(B)\n",
    "$"
   ]
  },
  {
   "cell_type": "markdown",
   "id": "88bcdace",
   "metadata": {
    "direction": "rtl"
   },
   "source": [
    "<p style = \"font-family:B Nazanin;\">\n",
    "    معمولا کار با فضاهای نمونه‌ای سخت است. چون هر کدام حالات زیادی دارند که باید با آن‌ها کار کنیم. اما اگر بتوانیم این فضای نمونه‌ای را به اعداد تبدیل کنیم تا روی آن‌ها محاسبات انجام دهیم، کار بسیار ساده‌تر می‌شود. <br>\n",
    "    <b>متغیر تصادفی:</b> تابعی است که یک فضای نمونه‌ای را به مجموعه‌ای از اعداد حقیقی نگاشت می‌دهد (اعضای فضای نمونه‌ای را به مجموعه اعداد حقیقی نسبت می‌دهد). یعنی $X: S \\rightarrow R$. متغیر تصادفی کمک می‌کند که فضاهای نمونه‌ای به فضاهای عددی تبدیل شوند. مثال: فضای نمونه‌ای پرتاب دو سکه به صورت زیر است: \n",
    "</p>"
   ]
  },
  {
   "cell_type": "markdown",
   "id": "0387f1ff",
   "metadata": {},
   "source": [
    "$\n",
    "S = \\{HH, HT, TH, TT\\}\n",
    "$"
   ]
  },
  {
   "cell_type": "markdown",
   "id": "bdec3533",
   "metadata": {
    "direction": "rtl"
   },
   "source": [
    "<p style = \"font-family:B Nazanin;\">\n",
    "    فرض کنید می‌خواهیم پیشامد رخ دادن دو شیر را بررسی کنیم. ما می‌توانیم در هر عضو غضای نمونه‌ای تعداد شیرها (H) را بشماریم و می‌بینیم که یک فضای نمونه‌ای پیدا کردیم که شامل اعداد 0 و 1 و 2 است. $S = \\{0, 1, 2\\}$. <br>\n",
    "    اگر فرض کنیم که X یا متغیر تصادفی، تابعی است که تعداد شیرها را می‌شمارد:\n",
    "</p>"
   ]
  },
  {
   "cell_type": "markdown",
   "id": "6fb425ef",
   "metadata": {},
   "source": [
    "$\n",
    "X(HH) = 2\\\\\n",
    "X(TH) = 1\\\\\n",
    "X(HT) = 1\\\\\n",
    "X(TT) = 0\n",
    "$"
   ]
  },
  {
   "cell_type": "markdown",
   "id": "2d64befa",
   "metadata": {
    "direction": "rtl"
   },
   "source": [
    "<p style = \"font-family:B Nazanin;\">\n",
    "    از این به بعد محاسباتمان را می‌توانیم روی این متغیر تصادفی انجام دهیم که بسیار ساده‌تر است نسبت به فضای نمونه‌ای اصلی. <br>\n",
    "    <b>متغیر تصادفی گسسته (Discrete Random Variable):</b> اگر مقادیر متغیر تصادفی گسسته باشد، یه به عبارت دیگر این اعداد متناهی یا نامتناهی شمارش‌پذیر باشد، به آن متغیر تصادفی گسسته می‌گویند. <br>\n",
    "    <b>متغیر تصادفی پیوسته (Continous Random Variable):</b> اگر مقادیر متغیر تصادفی پیوسته (مجموعه نامتناهی) باشد، به آن متغیر تصادفی پیوسته گویند. <br>\n",
    "    <br>\n",
    "    مثال 1. اگر چهار سکه را با هم پرتاب کنیم، پیشامد رخ دادن خط را بررسی کرده و مقادیر ممکن برای متغیر تصادفی را مشخص کنید.\n",
    "</p>"
   ]
  },
  {
   "cell_type": "markdown",
   "id": "69b98707",
   "metadata": {},
   "source": [
    "$\n",
    "S = \\{HHHH,\\\\\n",
    "    THHH, HTHH, HHTH, HHHT,\\\\\n",
    "    TTHH, THTH, THHT, HTHT, HTTH, HHTT,\\\\\n",
    "    TTTH, TTHT, THTT, HTTT,\\\\\n",
    "    TTTT\\}\\\\\n",
    "X: S \\rightarrow \\{0, 1, 2, 3, 4\\}\n",
    "$"
   ]
  },
  {
   "cell_type": "markdown",
   "id": "8e304278",
   "metadata": {
    "direction": "rtl"
   },
   "source": [
    "<p style = \"font-family:B Nazanin;\">\n",
    "    مثال 2. در یک خانواده چهار فرزندی، اگر تعداد پسران را به عنوان متغیر تصادفی در نظر بگیریم، مقادیر ممکن برای این متغیر تصادفی را بنویسید. <br>\n",
    "</p>"
   ]
  },
  {
   "cell_type": "markdown",
   "id": "960c9e88",
   "metadata": {},
   "source": [
    "$\n",
    "X: S \\rightarrow \\{0, 1, 2, 3\\}\n",
    "$"
   ]
  },
  {
   "cell_type": "markdown",
   "id": "c8bbd56c",
   "metadata": {
    "direction": "rtl"
   },
   "source": [
    "<p style = \"font-family:B Nazanin;\">\n",
    "    هر دو مثال بالا ارز نوع متغیر تصادفی گسسته هستند. <br>\n",
    "    <br>\n",
    "    <b>تابع احتمال f(X) یا P(X):</b> اگر تابعی وجود داشته باشد که مشخص کنید که متغیر تصادفی چه مقادیری را اختیار می‌کند و هر کدام چه احتمالی دارد، به آن تابع تابع احتمال می‌گویند. به عنوان مثال در مثال پرتاب چهار سکه: \n",
    "</p>"
   ]
  },
  {
   "cell_type": "markdown",
   "id": "a5fb6ef2",
   "metadata": {},
   "source": [
    "$\n",
    "P(X = 0) = \\frac{1}{16}\n",
    "$"
   ]
  },
  {
   "cell_type": "markdown",
   "id": "6af49aff",
   "metadata": {
    "direction": "rtl"
   },
   "source": [
    "<p style = \"font-family:B Nazanin;\">\n",
    "    تابع احتمال دو شرط اساسی دارد: اول اینکه مقدار تابع به ازای هر کدام از مقادیر ممکن، بین صفر و یک است. دوم اینکه مجموع مقادیر تابع به ازای همه اعداد ممکن برابر یک است.\n",
    "</p>"
   ]
  },
  {
   "cell_type": "markdown",
   "id": "6b688e3e",
   "metadata": {},
   "source": [
    "$\n",
    "\\left\\{\n",
    "\\begin{array}{l}\n",
    "0 \\le P(X) \\le 1 \\\\\n",
    "Discrete: \\sum\\limits_X^{}{P(X)} = 1 \\\\\n",
    "Continous: \\int\\limits_X^{}P(X)dX = 1\n",
    "\\end{array}\n",
    "\\right.\n",
    "$"
   ]
  },
  {
   "cell_type": "markdown",
   "id": "81887603",
   "metadata": {
    "direction": "rtl"
   },
   "source": [
    "<p style = \"font-family:B Nazanin;\">\n",
    "    به تابع احتمال در حالت گسسته،‌تابع جرم احتمال (Probability Mass Function) و در حالت پیوسته، تابع چگالی احتمال (Probability Density Function) می‌گویند. تابع احتمال گسسته یا همان تابع جرم احتمال را به صورت جدولی نیز می‌توان نشان داد چون تعداد مقادیر آن محدود است. علاوه بر آن این تابع را به صورت تابع چندضابطه‌ای نیز نشان می‌دهند. <br>\n",
    "    مثال. اگر سه سکه را پرتاب کنیم، پیشامد رخ دادن شیر را بررسی کرده و تابع احتمال، امید ریاضی و واریانس را به‌دست آورید.\n",
    "</p>"
   ]
  },
  {
   "cell_type": "markdown",
   "id": "43493d26",
   "metadata": {},
   "source": [
    "$\n",
    "S = \\{HHH, THH, HTH, HHT, TTH, THT, HTT, TTT\\} \\rightarrow X = \\{0, 1, 2, 3\\}\\\\\n",
    "P(X = x) = \\left\\{\n",
    "\\begin{array}{l}\n",
    "\\frac{1}{8} \\quad x = 0, 3\\\\\n",
    "\\frac{3}{8} \\quad x = 1, 2\n",
    "\\end{array}\n",
    "\\right.\\\\\n",
    "$\n",
    "یا به صورت جدولی \n",
    "<table border=\"1\">\n",
    "    <tr>\n",
    "        <th>x</th>\n",
    "        <th>0</th>\n",
    "        <th>1</th>\n",
    "        <th>2</th>\n",
    "        <th>3</th>\n",
    "    </tr>\n",
    "    <tr>\n",
    "        <td>P(X=x)</td>\n",
    "        <td>1/8</td>\n",
    "        <td>3/8</td>\n",
    "        <td>3/8</td>\n",
    "        <td>1/8</td>\n",
    "    </tr>\n",
    "</table>"
   ]
  },
  {
   "cell_type": "markdown",
   "id": "c5b543ad",
   "metadata": {
    "direction": "rtl"
   },
   "source": [
    "<p style = \"font-family:B Nazanin;\">\n",
    "    <b>امید ریاضی (Expected Value):</b> همان میانگین یا مقدار مورد انتظار است. به عبارت دیگر با توجه به اینکه متغیر تصادفی ما چه مقادیری دارد و هر کدام چه احتمالی دارند، مقدار محتمل این پیشامد چقدر است که طریقه محاسبه آن همان طریقه محاسبه میانگین وزن‌دار است که مقادیر ما همان مقادیر متغیر تصادفی و وزن‌ها همان احتمالات آن‌هاست. به امید ریاضی، گشتاور مرتبه اول نیز می‌گویند. \n",
    "</p>"
   ]
  },
  {
   "cell_type": "markdown",
   "id": "afe26486",
   "metadata": {},
   "source": [
    "$$\n",
    "E(x) = \\sum{xP(x)}\n",
    "$$"
   ]
  },
  {
   "cell_type": "markdown",
   "id": "702afcb4",
   "metadata": {
    "direction": "rtl"
   },
   "source": [
    "<p style = \"font-family:B Nazanin;\">\n",
    "    در مثال پرتاب سه سکه و پیشامد رخ دادن شیر، داریم:\n",
    "</p>"
   ]
  },
  {
   "cell_type": "markdown",
   "id": "f83ee828",
   "metadata": {},
   "source": [
    "<table border=\"1\">\n",
    "    <tr>\n",
    "        <th>x</th>\n",
    "        <th>0</th>\n",
    "        <th>1</th>\n",
    "        <th>2</th>\n",
    "        <th>3</th>\n",
    "    </tr>\n",
    "    <tr>\n",
    "        <td>P(x)</td>\n",
    "        <td>1/8</td>\n",
    "        <td>3/8</td>\n",
    "        <td>3/8</td>\n",
    "        <td>1/8</td>\n",
    "    </tr>\n",
    "    <tr>\n",
    "        <td>xP(x)</td>\n",
    "        <td>0</td>\n",
    "        <td>3/8</td>\n",
    "        <td>6/8</td>\n",
    "        <td>3/8</td>\n",
    "    </tr>\n",
    "</table>\n",
    "\n",
    "$\n",
    "E(x) = 0 + \\frac{3}{8} + \\frac{6}{8} + \\frac{3}{8} = \\frac{12}{8} = 1.5\n",
    "$"
   ]
  },
  {
   "cell_type": "markdown",
   "id": "6220666f",
   "metadata": {
    "direction": "rtl"
   },
   "source": [
    "<p style = \"font-family:B Nazanin;\">\n",
    "    یعنی امید ریاضی یا مقدار مورد انتظار برای آمدن شیر در پرتاب سه سکه، 1.5 بار است. اما 1.5 بار شیر آمدن به نظر منطقی نمی‌آید. اما این به این معنی است که اگر ما بارها و بارها سه سکه را پرتاب کنیم و هر بار تعداد شیر آمدن را بنویسیم و در نهایت میانگین بگیریم، این میانگین برابر با 1.5 خواهد بود. <br>\n",
    "    چند فرمول:\n",
    "</p>"
   ]
  },
  {
   "cell_type": "markdown",
   "id": "c92a4d9e",
   "metadata": {},
   "source": [
    "$$\n",
    "E(x) = \\sum{xP(x)}\\\\\n",
    "E(g(x)) = \\sum{g(x)P(x)} \\rightarrow E(x^2) = \\sum{x^2 P(x)} \\\\\n",
    "E(ax+b) = aE(x)+b\n",
    "$$"
   ]
  },
  {
   "cell_type": "markdown",
   "id": "ef761af3",
   "metadata": {
    "direction": "rtl"
   },
   "source": [
    "<p style = \"font-family:B Nazanin;\">\n",
    "    <b>واریانس (Variance):</b> معیار پراکندگی است یا همان متوسط مجذور انحراف از میانگین. \n",
    "</p>"
   ]
  },
  {
   "cell_type": "markdown",
   "id": "7f942f1a",
   "metadata": {},
   "source": [
    "$$\n",
    "\\sigma^2 = Var(x) = \\frac{\\sum{(x_i-\\mu)^2}}{N} = E(x^2)-(E(x))^2\n",
    "$$"
   ]
  },
  {
   "cell_type": "markdown",
   "id": "995b9d3c",
   "metadata": {
    "direction": "rtl"
   },
   "source": [
    "<p style = \"font-family:B Nazanin;\">\n",
    "    <b>انحراف استاندارد (Standard Deviation):</b> یا انحراف معیار که همان جذر واریانس است. انحراف معیار وابسته به واحد اندازه‌گیری است و واحد آن همان واحد امید ریاضی یا میانگین است. مزیت انحراف معیار نسبت به واریانس این است که واحد واریانس توان دوم واحد میانگین است و نمی‌توان با آن مقایسه کرد. پس جذر آن را محاسبه می‌کنیم و انحراف معیار را حساب می‌کنیم تا واحد آن با داده‌های اصلی و میانگین یکسان شود و بتوان با آن‌ها مقایسه کرد.\n",
    "</p>"
   ]
  },
  {
   "cell_type": "markdown",
   "id": "370c8af5",
   "metadata": {},
   "source": [
    "$$\n",
    "\\sigma = \\sqrt{Var(x)} = \\sqrt{\\frac{\\sum{(x_i-\\mu)^2}}{N}}\n",
    "$$"
   ]
  },
  {
   "cell_type": "markdown",
   "id": "bdb8019a",
   "metadata": {
    "direction": "rtl"
   },
   "source": [
    "<p style = \"font-family:B Nazanin;\">\n",
    "    <b>ضریب تغییرات (Coefficient of Variation):</b> مشکل اصلی انحراف معیار نیز این است که وابسته به واحد اندازه‌گیری داده‌های اصلی است. برای این که این وابستگی از بین برود، کمیت جدیدی تعریف شده‌است. ضریب تغییرات برابر است با نسبت انحراف معیار به میانگین داده‌ها. این کمیت بدون واحد است و واحد اندازه‌گیری داده‌های اصلی هرچه باشد، این کمیت تغییری نمی‌کند.\n",
    "</p>"
   ]
  },
  {
   "cell_type": "markdown",
   "id": "d11ed895",
   "metadata": {},
   "source": [
    "$$\n",
    "C.V = \\frac{Standard\\,Deviation}{Mean\\,(Expected\\,Value)} = \\frac{\\sigma}{\\mu}\n",
    "$$"
   ]
  },
  {
   "cell_type": "markdown",
   "id": "3d550e06",
   "metadata": {
    "direction": "rtl"
   },
   "source": [
    "<p style = \"font-family:B Nazanin;\">\n",
    "        مثال. تعداد فروش یک کالای خاص و احتمال فروش آن در فروشگاهی به صورت جدول زیر است. امید ریاضی و واریانس آن را به دست آورید.\n",
    "</p>"
   ]
  },
  {
   "cell_type": "markdown",
   "id": "90034f8c",
   "metadata": {},
   "source": [
    "<table>\n",
    "    <tr>\n",
    "        <th>$x$</th>\n",
    "        <th>2</th>\n",
    "        <th>3</th>\n",
    "        <th>4</th>\n",
    "        <th>5</th>\n",
    "        <th>6</th>\n",
    "        <th>7</th>\n",
    "        <th>8</th>\n",
    "        <th>sum</th>\n",
    "    </tr>\n",
    "    <tr>\n",
    "        <td>p(x)</td>\n",
    "        <td>0.11</td>\n",
    "        <td>0.26</td>\n",
    "        <td>0.21</td>\n",
    "        <td>0.12</td>\n",
    "        <td>20</td>\n",
    "        <td>0.06</td>\n",
    "        <td>0.04</td>\n",
    "        <td>1</td>\n",
    "    </tr>\n",
    "    <tr>\n",
    "        <td>$x$p(x)</td>\n",
    "        <td>0.22</td>\n",
    "        <td>0.78</td>\n",
    "        <td>0.84</td>\n",
    "        <td>0.60</td>\n",
    "        <td>1.2</td>\n",
    "        <td>0.42</td>\n",
    "        <td>0.32</td>\n",
    "        <td>4.38</td>\n",
    "    </tr>\n",
    "    <tr>\n",
    "        <td>$x^2$p(x)</td>\n",
    "        <td>0.44</td>\n",
    "        <td>2.34</td>\n",
    "        <td>3.36</td>\n",
    "        <td>3</td>\n",
    "        <td>7.2</td>\n",
    "        <td>2.94</td>\n",
    "        <td>2.56</td>\n",
    "        <td>21.84</td>\n",
    "    </tr>\n",
    "</table>"
   ]
  },
  {
   "cell_type": "markdown",
   "id": "6e7a8015",
   "metadata": {},
   "source": [
    "$\n",
    "E(x) = \\sum{x.P(x)} = 0.22 + 0.78 + 0.84 + 0.60 + 1.2 + 0.42 + 0.32 \\rightarrow \\boxed{E(x) = 4.38} \\\\\n",
    "Var(x) = E(x^2) - (E(x))^2 = \\left(\\sum{x^2\\cdot P(x)}\\right) - \\left(\\sum{x\\cdot P(x)}\\right)^2 = 21.84 - 4.38^2 \\rightarrow \\boxed{\\sigma^2 = 2.65}\\\\\n",
    "\\sigma = \\sqrt{2.65} \\rightarrow \\boxed{\\sigma = 1.63}\\\\\n",
    "C.V = \\frac{\\sigma}{E(x)} = 1.63 \\div 4.38 \\rightarrow \\boxed{C.V = 0.37}\n",
    "$"
   ]
  },
  {
   "cell_type": "markdown",
   "id": "e47df94b",
   "metadata": {
    "direction": "rtl"
   },
   "source": [
    "<p style = \"font-family:B Nazanin;\">\n",
    "    مثال. در پرتاب دو تاس که متغیر تصادفی حاصل جمع دو عدد باشد، تابع احتمال و امید ریاضی را نشان دهید. <br>\n",
    "    فضای نمونه‌ای پرتاب دو تاس به صورت زیر است: (به صورت جدولی نشان داده شده‌است)\n",
    "</p>"
   ]
  },
  {
   "cell_type": "markdown",
   "id": "72047437",
   "metadata": {},
   "source": [
    "<table>\n",
    "    <tr>\n",
    "        <th></th>\n",
    "        <th>1</th>\n",
    "        <th>2</th>\n",
    "        <th>3</th>\n",
    "        <th>4</th>\n",
    "        <th>5</th>\n",
    "        <th>6</th>\n",
    "    </tr>\n",
    "    <tr>\n",
    "        <th>1</th>\n",
    "        <td>2</td>\n",
    "        <td>3</td>\n",
    "        <td>4</td>\n",
    "        <td>5</td>\n",
    "        <td>6</td>\n",
    "        <td>7</td>\n",
    "    </tr>\n",
    "    <tr>\n",
    "        <th>2</th>\n",
    "        <td>3</td>\n",
    "        <td>4</td>\n",
    "        <td>5</td>\n",
    "        <td>6</td>\n",
    "        <td>7</td>\n",
    "        <td>8</td>\n",
    "    </tr>\n",
    "    <tr>\n",
    "        <th>3</th>\n",
    "        <td>4</td>\n",
    "        <td>5</td>\n",
    "        <td>6</td>\n",
    "        <td>7</td>\n",
    "        <td>8</td>\n",
    "        <td>9</td>\n",
    "    </tr>\n",
    "    <tr>\n",
    "        <th>4</th>\n",
    "        <td>5</td>\n",
    "        <td>6</td>\n",
    "        <td>7</td>\n",
    "        <td>8</td>\n",
    "        <td>9</td>\n",
    "        <td>10</td>\n",
    "    </tr>\n",
    "    <tr>\n",
    "        <th>5</th>\n",
    "        <td>6</td>\n",
    "        <td>7</td>\n",
    "        <td>8</td>\n",
    "        <td>9</td>\n",
    "        <td>10</td>\n",
    "        <td>11</td>\n",
    "    </tr>\n",
    "    <tr>\n",
    "        <th>6</th>\n",
    "        <td>7</td>\n",
    "        <td>8</td>\n",
    "        <td>9</td>\n",
    "        <td>10</td>\n",
    "        <td>11</td>\n",
    "        <td>12</td>\n",
    "    </tr>\n",
    "</table>"
   ]
  },
  {
   "cell_type": "markdown",
   "id": "c3f7c433",
   "metadata": {
    "direction": "rtl"
   },
   "source": [
    "<p style = \"font-family:B Nazanin;\">\n",
    "    جدول توزیع فراوانی احتمال:\n",
    "</p>"
   ]
  },
  {
   "cell_type": "markdown",
   "id": "b80bdfac",
   "metadata": {},
   "source": [
    "<table>\n",
    "    <tr>\n",
    "        <th>مجموع دو عدد (X)</th>\n",
    "        <th>میزان فراوانی</th>\n",
    "        <th>احتمال (P(X))</th>\n",
    "    </tr>\n",
    "    <tr>\n",
    "        <td>2</td>\n",
    "        <td>1</td>\n",
    "        <td>1/36</td>\n",
    "    </tr>\n",
    "    <tr>\n",
    "        <td>3</td>\n",
    "        <td>2</td>\n",
    "        <td>2/36</td>\n",
    "    </tr>\n",
    "    <tr>\n",
    "        <td>4</td>\n",
    "        <td>3</td>\n",
    "        <td>3/36</td>\n",
    "    </tr>\n",
    "    <tr>\n",
    "        <td>5</td>\n",
    "        <td>4</td>\n",
    "        <td>4/36</td>\n",
    "    </tr>\n",
    "    <tr>\n",
    "        <td>6</td>\n",
    "        <td>5</td>\n",
    "        <td>5/36</td>\n",
    "    </tr>\n",
    "    <tr>\n",
    "        <td>7</td>\n",
    "        <td>6</td>\n",
    "        <td>6/36</td>\n",
    "    </tr>\n",
    "    <tr>\n",
    "        <td>8</td>\n",
    "        <td>5</td>\n",
    "        <td>5/36</td>\n",
    "    </tr>\n",
    "    <tr>\n",
    "        <td>9</td>\n",
    "        <td>4</td>\n",
    "        <td>4/36</td>\n",
    "    </tr>\n",
    "    <tr>\n",
    "        <td>10</td>\n",
    "        <td>3</td>\n",
    "        <td>3/36</td>\n",
    "    </tr>\n",
    "    <tr>\n",
    "        <td>11</td>\n",
    "        <td>2</td>\n",
    "        <td>2/36</td>\n",
    "    </tr>\n",
    "    <tr>\n",
    "        <td>12</td>\n",
    "        <td>1</td>\n",
    "        <td>1/36</td>\n",
    "    </tr>\n",
    "</table>"
   ]
  },
  {
   "cell_type": "markdown",
   "id": "ae7b79ed",
   "metadata": {
    "direction": "rtl"
   },
   "source": [
    "<p style = \"font-family:B Nazanin;\">\n",
    "   نمودار توزیع فراوانی احتمال \n",
    "</p>"
   ]
  },
  {
   "attachments": {
    "image.png": {
     "image/png": "[encoded data removed]"
    }
   },
   "cell_type": "markdown",
   "id": "a3de44bb",
   "metadata": {},
   "source": [
    "![image.png](attachment:image.png)"
   ]
  },
  {
   "cell_type": "markdown",
   "id": "83356270",
   "metadata": {},
   "source": [
    "$\n",
    "E(x) = \\sum{xP(x)} = 2\\times\\frac{1}{36} + 3\\times\\frac{2}{36} + \\dots + 12\\times\\frac{1}{36} = 7\n",
    "$"
   ]
  },
  {
   "cell_type": "markdown",
   "id": "114ba5bd",
   "metadata": {
    "direction": "rtl"
   },
   "source": [
    "<p style = \"font-family:B Nazanin;\">\n",
    "    در حالت کلی پیدا کردن تابع احتمال، یعنی تابعی که بتواند برای همه حالات ممکن احتمال را محاسبه کند، دشوار است. به همین دلیل از بین توابع مختلف، یک سری توابع به عنوان توابع احتمالی معروف شدند که اگر مسئله مورد نظر ما شرایط خاصی داشته باشد، می‌توان گفت که تابع توزیع احتمال آن یکی از این توابع است. پس توزیع‌های احتمال، یک سری فرمول‌های از قبل به‌دست آمده برای یک شرایط خاص هستند. <br>\n",
    "    <br>\n",
    "    <b>توزیع‌های احتمال گسسته (Discrete Probability Distribution):</b> <br>\n",
    "    توابع و فرمول‌های زیر به عنوان توزیع‌های احتمال گسسته معروف شده‌اند:<br>\n",
    "    <b>* توزیع احتمال برنولی (Bernoulli Probability Distribution):</b> <br>\n",
    "    $X\\sim B(1,p)$: اگر آزمایشی فقط دو حالت موفقیت و شکست داشت که احتمال موفقیت $p$ و احتمال شکست $q = 1 - p$ بود، به توزیع احتمال آن، توزیع احتمال برنولی می‌گویند. در این حالت، موفقیت را با $x = 1$ و شکست را با $x = 0$ نشان می‌دهیم. تابع توزیع احتمال برای این آزمایش‌های دو حالته به صورت دوضابطه‌ای زیر خواهد بود:\n",
    "</p>"
   ]
  },
  {
   "cell_type": "markdown",
   "id": "c7ddce31",
   "metadata": {},
   "source": [
    "$\n",
    "P(X = x) = \\left\\{\n",
    "\\begin{array}{l}\n",
    "p \\quad x = 1\\\\\n",
    "1-p \\quad x = 0\n",
    "\\end{array}\n",
    "\\right.\n",
    "$"
   ]
  },
  {
   "cell_type": "markdown",
   "id": "b2ec6244",
   "metadata": {
    "direction": "rtl"
   },
   "source": [
    "<p style = \"font-family:B Nazanin;\">\n",
    "    با توجه به اینکه این تابع یک تابع دوضابطه‌ای است و مقدار x فقط صفر و یک خواهد بود، برای این که کار با این تابع راحت باشد، برنولی این تابع را به فرم زیر نوشت که به توزیع برنولی معروف شد:\n",
    "</p>"
   ]
  },
  {
   "cell_type": "markdown",
   "id": "4d5d7380",
   "metadata": {},
   "source": [
    "$\n",
    "\\boxed{P(X = x) = p^x (1-p)^{1-x} \\qquad x = 0,1}\n",
    "$"
   ]
  },
  {
   "cell_type": "markdown",
   "id": "edd832a9",
   "metadata": {
    "direction": "rtl"
   },
   "source": [
    "<p style = \"font-family:B Nazanin;\">\n",
    "    مقدار امید ریاضی و واریانس برای این توزیع به صورت زیر خواهد بود:\n",
    "</p>"
   ]
  },
  {
   "cell_type": "markdown",
   "id": "649246df",
   "metadata": {},
   "source": [
    "$\n",
    "\\boxed{E(x) = p} \\qquad , \\qquad \\boxed{Var(x) = pq = p(1-p)}\n",
    "$"
   ]
  },
  {
   "cell_type": "markdown",
   "id": "d03f9fc3",
   "metadata": {
    "direction": "rtl"
   },
   "source": [
    "<p style = \"font-family:B Nazanin;\">\n",
    "    مثال. فرض کنید یک سکه داریم که به طور متوسط در 30درصد از مواقع شیر می‌آید. تابع توزیع احتمال برنولی این سکه را محاسبه نمایید. \n",
    "</p>"
   ]
  },
  {
   "cell_type": "markdown",
   "id": "9c849fb3",
   "metadata": {},
   "source": [
    "$\n",
    "p = 0.3 \\quad \\rightarrow \\quad q = 1 - p = 1-0.3=0.7\\\\\n",
    "X \\sim B(1,0.3) \\quad \\Rightarrow \\quad P(X=x)=p^x (1-p)^{1-x} \\quad \\Rightarrow \\quad P(X=x)=0.3^x\\times0.7^{1-x}\n",
    "$"
   ]
  },
  {
   "cell_type": "markdown",
   "id": "5daf6631",
   "metadata": {
    "direction": "rtl"
   },
   "source": [
    "<p style = \"font-family:B Nazanin;\">\n",
    "    مثال. در یک سیستم اتوماتیک تشخیص ایمیل‌های معمولی و اسپم، احتمال اینکه ایمیل وارد صندوق ایمیل شما شود و اسپم نباشد، 0.9 است. اولا احتمال اسپم بودن یک ایمیل چقدر است؟ دوما تابع توزیع احتمال برنولی را برای این سیستم بنویسید.\n",
    "</p>"
   ]
  },
  {
   "cell_type": "markdown",
   "id": "31ee62e3",
   "metadata": {},
   "source": [
    "$\n",
    "p = 0.9 \\quad \\rightarrow \\quad q = 1 - p = 1-0.9=0.1\\\\\n",
    "X \\sim B(1,0.9) \\quad \\Rightarrow \\quad P(X=x)=0.9^x\\times0.1^{1-x}\n",
    "$"
   ]
  },
  {
   "cell_type": "markdown",
   "id": "2b67c038",
   "metadata": {
    "direction": "rtl"
   },
   "source": [
    "<p style = \"font-family:B Nazanin;\">\n",
    "    <b>* توزیع احتمال دوجمله‌ای (Binomial Probability Distribution):</b><br>\n",
    "    $X \\sim B(n,p)$: اگر آزمایش برنولی را n بار به صورت مستقل انجام دهیم و در همه دفعات احتمال موفقیت یکسان و برابر $p$ باشد، به تابع توزیع احتمال آن، توزیع احتمال دو جمله‌ای می‌گویند و تابع آن به صورت زیر است: (در این حالت، متغیر تصادفی X، مقادیر 0، 1 تا n را می‌تواند داشته باشد. یعنی صفر بار موفقیت، یک بار موفقیت و ... و n بار موفقیت):\n",
    "</p>"
   ]
  },
  {
   "cell_type": "markdown",
   "id": "525aff10",
   "metadata": {},
   "source": [
    "$\n",
    "\\boxed{P(X=x)=\\left(\\begin{array}{c}n\\\\x\\end{array}\\right)p^x(1-p)^{n-x} \\qquad x = 0,1,2,\\dots,n} \\\\\n",
    "\\boxed{E(x)=np} \\qquad , \\qquad \\boxed{Var(x)=npq}\n",
    "$"
   ]
  },
  {
   "cell_type": "markdown",
   "id": "c1be6a0a",
   "metadata": {
    "direction": "rtl"
   },
   "source": [
    "<p style = \"font-family:B Nazanin;\">\n",
    "    مثال. بذر یک گیاه به احتمال 80 درصد جوانه می‌زند. 7 بذر کاشته‌ایم. الف) تابع احتمال تعداد جوانه‌ها را بنویسید. ب) احتمال اینکه 4 بذر جوانه بزند چقدر است؟ ج) احتمال اینکه بیش از 5 بذر جوانه بزند چقدر است؟\n",
    "</p>"
   ]
  },
  {
   "cell_type": "markdown",
   "id": "27664808",
   "metadata": {},
   "source": [
    "$\n",
    "a.\\quad p = 0.8 \\quad n = 7 \\Rightarrow X \\sim B(7,0.8) \\Rightarrow P(X=x)=\\left(\\begin{array}{c}7\\\\x\\end{array}\\right)0.8^x\\times0.2^{7-x}\\\\\n",
    "b.\\quad P(X=4)=\\left(\\begin{array}{c}7\\\\4\\end{array}\\right)0.8^4\\times0.2^3 = \\frac{7\\times6\\times5\\times4!}{3!\\times4!}0.8^4\\times0.2^3 = 0.115\\\\\n",
    "c.\\quad P(X>5) = P(X=6)+P(X=7) = \\left(\\begin{array}{c}7\\\\6\\end{array}\\right)0.8^6\\times0.2 + \\left(\\begin{array}{c}7\\\\7\\end{array}\\right)0.8^7\\times0.2^0 = 0.577\n",
    "$"
   ]
  },
  {
   "cell_type": "markdown",
   "id": "472f7740",
   "metadata": {
    "direction": "rtl"
   },
   "source": [
    "<p style = \"font-family:B Nazanin;\">\n",
    "    مثال. فوتبالیستی 12 پنالتی می‌زند و احتمال گل کردن هر پنالتی او 75درصد است. الف) تابع احتمال تعداد پنالتی‌های موفق این فوتبالیست را بنویسید. ب) احتمال اینکه حداقل 10 پنالتی را گل کند، چقدر است؟ ج) مشخص کنید به طور متوسط چه تعداد از پنالتی‌های این فوتبالیست گل می‌شود؟\n",
    "</p>"
   ]
  },
  {
   "cell_type": "markdown",
   "id": "d5ea9284",
   "metadata": {},
   "source": [
    "$\n",
    "a.\\quad p=0.75 \\quad n = 12 \\Rightarrow X \\sim B(12, 0.75) \\Rightarrow P(X=x)=\\left(\\begin{array}{c}12\\\\x\\end{array}\\right)0.75^x\\times0.25^{12-x}\\\\\n",
    "b.\\quad P(X\\ge10)=P(10)+P(11)+P(12)=\\left(\\begin{array}{c}12\\\\10\\end{array}\\right)0.75^{10}\\times0.25^2+\\left(\\begin{array}{c}12\\\\11\\end{array}\\right)0.75^{11}\\times0.25+\\left(\\begin{array}{c}12\\\\12\\end{array}\\right)0.75^{12}\\times0.25^0=0.391\\\\\n",
    "c.\\quad E(x) = np = 12 * 0.75 = 9\n",
    "$"
   ]
  },
  {
   "cell_type": "markdown",
   "id": "189ff37c",
   "metadata": {
    "direction": "rtl"
   },
   "source": [
    "<p style = \"font-family:B Nazanin;\">\n",
    "    <b>* توزیع احتمال هندسی (Geometric Probability Distribution):</b><br>\n",
    "    $X\\sim G(p)$: اگر بخواهیم تعداد آزمایش لازم تا رسیدن به موفقیت را حساب کنیم، توزیع احتمال این آژمایش به صورت توزیع احتمال هندسی است. نکته مهم در این آزمایش این است که حداقل باید یک آزمایش انجام بدهیم. یعنی متغیر تصادفی (که تعداد آزمایش است) حداقل برابر با یک است. بنابراین احتمال اینکه در nامین آزمایش به موفقیت برسیم برابر است با:\n",
    "</p>"
   ]
  },
  {
   "cell_type": "markdown",
   "id": "708bcef3",
   "metadata": {},
   "source": [
    "$\n",
    "\\boxed{P(X=n) = p(1-p)^{n-1}}\\\\\n",
    "\\boxed{E(x)=\\frac{1}{p}} \\quad , \\quad \\boxed{Var(x) = \\frac{1-p}{p^2}}\n",
    "$"
   ]
  },
  {
   "cell_type": "markdown",
   "id": "c419d7d1",
   "metadata": {
    "direction": "rtl"
   },
   "source": [
    "<p style = \"font-family:B Nazanin;\">\n",
    "    مثال. در یک شرکت نرم‌افزاری متوسط تعداد دفعات اصلاح برنامه‌های نوشته‌شده توسط برنامه‌نویسان در ماه 2 بار است. احتمال اینکه یک برنامه در هر ماه بدون نیاز به اصلاح عمل کند (موفقیت)، برابر با 0.2 است. الف) تابع توزیع احتمال برای تعداد دفعات اصلاح برنامه‌ها در هر ماه را به‌دست آورید. ب) احتماال اینکه برنامه‌ای پس از 3 ماه برای اولین بار نیاز به صالاح داشته باشد چقدر است؟\n",
    "</p>"
   ]
  },
  {
   "cell_type": "markdown",
   "id": "64a45c42",
   "metadata": {},
   "source": [
    "$\n",
    "P(X=n)=p(1-p)^{n-1} \\rightarrow P(X=n)=0.2\\times0.8^{n-1}\\\\\n",
    "P(X=3)=0.2\\times0.8^2=0.128\n",
    "$"
   ]
  },
  {
   "cell_type": "markdown",
   "id": "e4615d1b",
   "metadata": {
    "direction": "rtl"
   },
   "source": [
    "<p style = \"font-family:B Nazanin;\">\n",
    "    مثال. در یک شرکت تولید قطعات الکترونیکی، احتمال اینکه یک محصول بدون عیب تولید شود، 95درصد است. الف) تابع توزیع احتمال برای تعداد محصولات با عیب تا زمانی که اولین بار یک محصول درست تولید شود را به‌دست آورید. ب) احتمال اینکه پس از تولید 5 محصول، یک محصول بدون عیب تولید شود چقدر است؟\n",
    "</p>"
   ]
  },
  {
   "cell_type": "markdown",
   "id": "abc04ed0",
   "metadata": {},
   "source": [
    "$\n",
    "P(X=n)=0.95\\times0.05^{n-1}\\\\\n",
    "P(X=5)=0.95\\times0.05^4=0.0000059\n",
    "$"
   ]
  },
  {
   "cell_type": "markdown",
   "id": "29b1a931",
   "metadata": {
    "direction": "rtl"
   },
   "source": [
    "<p style = \"font-family:B Nazanin;\">\n",
    "    مثال. یک مدل فیوز برق در 5 درصد اوقات درست عمل نمی‌کند. احتمال اینکه فیوز پس از 100 بار استفاده خراب شود، چقدر است؟\n",
    "</p>"
   ]
  },
  {
   "cell_type": "markdown",
   "id": "a71e667c",
   "metadata": {},
   "source": [
    "$\n",
    "P(X=n)=0.05\\times0.95^{n-1} \\rightarrow P(X=100)=0.05\\times0.95^99=0.00031\n",
    "$"
   ]
  },
  {
   "cell_type": "markdown",
   "id": "9c160c0e",
   "metadata": {
    "direction": "rtl"
   },
   "source": [
    "<p style = \"font-family:B Nazanin;\">\n",
    "    <b>* توزیع احتمال پواسن (Poisson Probability Distribution):</b><br>\n",
    "    $X\\sim P(\\lambda)$: اگر یک حادثه به تعداد مشخصی در فاصله زمانی یا مکانی ثابتی رخ دهد، توزیع حاصل از نوع پواسن است. اگر در یک فاصله زمانی یا مکانی، به طور متوسط $\\lambda$ بار یک حادثه اتفاق بیفتد، تابع توزیع احتمال وقوع آن حادثه به صورت زیر است:\n",
    "</p>"
   ]
  },
  {
   "cell_type": "markdown",
   "id": "4df40248",
   "metadata": {},
   "source": [
    "$\n",
    "\\boxed{P(X=x)=\\frac{e^{-\\lambda}\\lambda^x}{x!} \\qquad x = 0,1,2,\\dots}\\\\\n",
    "\\boxed{E(x)=\\lambda} \\quad , \\quad \\boxed{Var(x)=\\lambda}\n",
    "$"
   ]
  },
  {
   "cell_type": "markdown",
   "id": "f79f6fb1",
   "metadata": {
    "direction": "rtl"
   },
   "source": [
    "<p style = \"font-family:B Nazanin;\">\n",
    "    مثال. در جاده ملایر به اراک، به طور متوسط در هر شبانه‌روز 2.3 تصادف رخ می‌دهد. الف) تابع احتمال تعداد تصادف در یک شبانه‌روز را مشخص نمایید. ب) احتمال اینکه در یک شبانه‌روز خاص اصلا تصادفی رخ ندهد، چقدر است؟ ج) احتمال اینکه در یک شبانه‌روز خاص بیش از 3 تصادف رخ دهد، چقدر است؟\n",
    "</p>"
   ]
  },
  {
   "cell_type": "markdown",
   "id": "c862d50f",
   "metadata": {},
   "source": [
    "$\n",
    "a.\\quad \\lambda = 2.3 \\rightarrow P(X=x)=\\frac{e^{-2.3}\\times2.3^x}{x!}\\\\\n",
    "b.\\quad P(X=0)=\\frac{e^{-2.3}\\times 1}{1}=e^{-2.3}=0.1\\\\\n",
    "c.\\quad P(X>3) = 1 - P(X\\le3) = 1-(P(X=0)+P(X=1)+P(X=2)+P(X=3))\n",
    "$"
   ]
  },
  {
   "cell_type": "markdown",
   "id": "1c0cf18b",
   "metadata": {
    "direction": "rtl"
   },
   "source": [
    "<p style = \"font-family:B Nazanin;\">\n",
    "    مثال. در یک کارخانه تولید خودرو، احتمال اینکه خودرو به علت نقص فنی در قسمت کنترل کیفیت بازگشت داده شود، یک درصد است. احتمال آنکه در بین 300 دستگاه تولیدی، 5 دستگاه بازگشت داده شود، چقدر است؟<br>\n",
    "    در توزیع پواسن، $\\lambda$ بیانگر تعداد است نه احتمال. پس به طور متوسط تعداد خودروهای بازگشت داده‌شده در بین 300 دستگاه برابر است با یک درصد 300 دستگاه.\n",
    "</p>"
   ]
  },
  {
   "cell_type": "markdown",
   "id": "95030e6f",
   "metadata": {},
   "source": [
    "$\n",
    "\\lambda = 0.01 \\times 300 = 3 \\rightarrow P(X=x)=\\frac{e^{-3}\\times 3^x}{x!}\\\\\n",
    "P(X=5) = \\frac{e^{-3}\\times 3^5}{5!}=0.102\n",
    "$"
   ]
  },
  {
   "cell_type": "markdown",
   "id": "32faab72",
   "metadata": {
    "direction": "rtl"
   },
   "source": [
    "<p style = \"font-family:B Nazanin;\">\n",
    "    <b>* توزیع احتمال یکنواخت (Uniform Probability Distribution):</b><br>\n",
    "    $X\\sim U\\{a,b\\}$: اگر احتمال برای تمام مقادیر متغیر تصادفی یکسان و برابر باشد، توزیع احتمال از نوع یکنواخت است.\n",
    "</p>"
   ]
  },
  {
   "cell_type": "markdown",
   "id": "361fe5be",
   "metadata": {},
   "source": [
    "$\n",
    "\\boxed{P(X=x)=\\frac{1}{n} \\quad n=b-a+1 \\quad x=0,1,2,\\dots,n}\\\\\n",
    "\\boxed{E(x)=\\frac{a+b}{2}} \\quad , \\quad \\boxed{Var(x)=\\frac{n^2-1}{12}}\n",
    "$"
   ]
  },
  {
   "cell_type": "markdown",
   "id": "bca46813",
   "metadata": {
    "direction": "rtl"
   },
   "source": [
    "<p style = \"font-family:B Nazanin;\">\n",
    "    مثال. می‌خواهیم به یازده دانش‌آموز یک کلاس به صورت تصادفی نمره‌ای با مقدارهای صحیح از 10 تا 20 بدهیم به این ترتیب که این نمرات به صورت یکنواخت بینشان توزیع شود. الف) در این حالت، تابع توزیع احتمال یکنواخت را مشخص کنید. ب) احتمال اینکه نمره دانش‌آموزی 18 شود چقدر است؟ ج) احتمال اینکه نمره دانش‌آموزی کمتر از 13 باشد چقدر است؟\n",
    "</p>"
   ]
  },
  {
   "cell_type": "markdown",
   "id": "228a1e14",
   "metadata": {},
   "source": [
    "$\n",
    "a = 10,\\quad b = 20 \\quad \\rightarrow \\quad n = 20 - 10 + 1 = 11\\\\\n",
    "P(X=x)=\\frac{1}{n} \\rightarrow P(X=x)=\\frac{1}{11}\\\\\n",
    "P(X=18) = \\frac{1}{11}\\\\\n",
    "P(X<13)=P(10)+P(11)+P(12)=\\frac{1}{11}+\\frac{1}{11}+\\frac{1}{11}=\\frac{3}{11}\n",
    "$"
   ]
  },
  {
   "cell_type": "markdown",
   "id": "9913aa22",
   "metadata": {
    "direction": "rtl"
   },
   "source": [
    "<p style = \"font-family:B Nazanin;\">\n",
    "    در اینجا مثال‌های قبلی را با استفاده از کدنویسی حل می‌کنیم. برای کار با توابع توزیع احتمال از کتابخانه scipy و ماژول stats در این کتابخانه استفاده می‌کنیم.<br>\n",
    "    مثال. فرض کنید یک سکه داریم که که به طور متوسط در 30٪ مواقع شیر می‌آید.<br>\n",
    "    در ماژول stats می‌توانیم از کلاس برنولی (bernoulli) استفاده کنیم که با تابع pmf آن میزان احتمال موفقیت و شکست را محاسبه می‌کنیم. این تابع دو پارامتر می‌گیرد. پارامتر اول اگر 1 باشد، یعنی احتمال موفقیت و اگر 0 باشد یعنی احتمال شکست را محاسبه می‌کنیم. پارامتر دوم نیز میزان احتمال موفقیت را تعیین می‌کند.\n",
    "</p>"
   ]
  },
  {
   "cell_type": "code",
   "execution_count": 2,
   "id": "fbb1b937",
   "metadata": {},
   "outputs": [
    {
     "name": "stdout",
     "output_type": "stream",
     "text": [
      "0.3\n",
      "0.7000000000000002\n"
     ]
    }
   ],
   "source": [
    "import scipy.stats as stats\n",
    "p = 0.3\n",
    "prob_success = stats.bernoulli.pmf(1, p)\n",
    "print(prob_success)\n",
    "\n",
    "prob_failure = stats.bernoulli.pmf(0, p)\n",
    "print(prob_failure)"
   ]
  },
  {
   "cell_type": "markdown",
   "id": "f2eb864e",
   "metadata": {
    "direction": "rtl"
   },
   "source": [
    "<p style = \"font-family:B Nazanin;\">\n",
    "    در یک سیستم اتوماتیک تشخیص ایمیل‌های معمولی و اسپم، احتمال اینکه ایمیل وارد صندوق ایمیل شما شود و اسپم نباشد، 0.9 است.\n",
    "</p>"
   ]
  },
  {
   "cell_type": "code",
   "execution_count": 3,
   "id": "140655e0",
   "metadata": {},
   "outputs": [
    {
     "name": "stdout",
     "output_type": "stream",
     "text": [
      "0.9\n",
      "0.10000000000000003\n"
     ]
    }
   ],
   "source": [
    "import scipy.stats as stats\n",
    "p = 0.9\n",
    "prob_success = stats.bernoulli.pmf(1, p)\n",
    "print(prob_success)\n",
    "\n",
    "prob_failure = stats.bernoulli.pmf(0, p)\n",
    "print(prob_failure)"
   ]
  },
  {
   "cell_type": "markdown",
   "id": "f85abe07",
   "metadata": {
    "direction": "rtl"
   },
   "source": [
    "<p style = \"font-family:B Nazanin;\">\n",
    "     برای تابع توزیع دوجمله‌ای از کلاس binom استفاده می‌کنیم. تابع pmf این کلاس سه پارامتر می‌گیرد. اولین پارامتر تعداد آزمایش‌هایی است که می‌خواهیم موفق باشد. پارامتر دوم تعداد کل آزمایش‌هاست و پارامتر سوم احتمال موفقیت هر آزمایش است. <br>\n",
    "    مثال. بذر یک گیاه به احتمال 80 درصد جوانه می‌زند. 7 بذر کاشته‌ایم. احتمال اینکه 4 بذر جوانه بزند چقدر است؟\n",
    "</p>"
   ]
  },
  {
   "cell_type": "code",
   "execution_count": 6,
   "id": "0d27076d",
   "metadata": {},
   "outputs": [
    {
     "name": "stdout",
     "output_type": "stream",
     "text": [
      "P(X=4) = 0.1147\n"
     ]
    }
   ],
   "source": [
    "import scipy.stats as stats\n",
    "\n",
    "n = 7\n",
    "p = 0.8\n",
    "\n",
    "x = 4\n",
    "prob = stats.binom.pmf(x, n, p)\n",
    "print(f\"P(X={x}) = {prob:.4f}\")"
   ]
  },
  {
   "cell_type": "markdown",
   "id": "09010560",
   "metadata": {
    "direction": "rtl"
   },
   "source": [
    "<p style = \"font-family:B Nazanin;\">\n",
    "    احتمال اینکه بیش از 5 بذر جوانه بدهد، چقدر است؟\n",
    "</p>"
   ]
  },
  {
   "cell_type": "code",
   "execution_count": 9,
   "id": "5b55dbd5",
   "metadata": {},
   "outputs": [
    {
     "name": "stdout",
     "output_type": "stream",
     "text": [
      "P(X=6) = 0.3670\n",
      "P(X=7) = 0.2097\n",
      "---------------\n",
      "P(X>5) = 0.5767\n"
     ]
    }
   ],
   "source": [
    "import scipy.stats as stats\n",
    "\n",
    "n = 7\n",
    "p = 0.8\n",
    "x_values = [6, 7]\n",
    "sum_prob = 0\n",
    "\n",
    "for x in x_values:\n",
    "    prob = stats.binom.pmf(x, n, p)\n",
    "    print(f\"P(X={x}) = {prob:.4f}\")\n",
    "    sum_prob += prob\n",
    "\n",
    "print(\"---------------\")\n",
    "print(f\"P(X>5) = {sum_prob:.4f}\")"
   ]
  },
  {
   "cell_type": "markdown",
   "id": "abcb802c",
   "metadata": {
    "direction": "rtl"
   },
   "source": [
    "<p style = \"font-family:B Nazanin;\">\n",
    "    مثال. فوتبالیستی 12 پنالتی می‌زند و احتمال گل کردن هر پنالتی او 75درصد است.احتمال اینکه حداقل 10 پنالتی را گل کند، چقدر است؟\n",
    "</p>"
   ]
  },
  {
   "cell_type": "code",
   "execution_count": 11,
   "id": "2d3245ab",
   "metadata": {},
   "outputs": [
    {
     "name": "stdout",
     "output_type": "stream",
     "text": [
      "P(X>=10) = 0.3907\n"
     ]
    }
   ],
   "source": [
    "import scipy.stats as stats\n",
    "\n",
    "n = 12\n",
    "p = 0.75\n",
    "x_values = [10, 11, 12]\n",
    "sum_prob = 0\n",
    "\n",
    "for x in x_values:\n",
    "    prob = stats.binom.pmf(x, n, p)\n",
    "    sum_prob += prob\n",
    "\n",
    "print(f\"P(X>=10) = {sum_prob:.4f}\")"
   ]
  },
  {
   "cell_type": "markdown",
   "id": "f93d88b1",
   "metadata": {
    "direction": "rtl"
   },
   "source": [
    "<p style = \"font-family:B Nazanin;\">\n",
    "    مشخص کنید به طور متوسط چه تعداد از پنالتی‌های این فوتبالیست گل می‌شود؟\n",
    "</p>"
   ]
  },
  {
   "cell_type": "code",
   "execution_count": 13,
   "id": "adfe34db",
   "metadata": {},
   "outputs": [
    {
     "name": "stdout",
     "output_type": "stream",
     "text": [
      "E(x) = 9.00\n",
      "Var(x) = 2.25\n",
      "S.D = 1.50\n",
      "C.V = 16.67%\n"
     ]
    }
   ],
   "source": [
    "import scipy.stats as stats\n",
    "import math\n",
    "\n",
    "n = 12\n",
    "p = 0.75\n",
    "\n",
    "expected_value = stats.binom.mean(n, p)\n",
    "print(f\"E(x) = {expected_value:.2f}\")\n",
    "\n",
    "variance = stats.binom.var(n, p)\n",
    "print(f\"Var(x) = {variance:.2f}\")\n",
    "\n",
    "std_dev = math.sqrt(variance)\n",
    "print(f\"S.D = {std_dev:.2f}\")\n",
    "\n",
    "cv = (std_dev / expected_value) * 100\n",
    "print(f\"C.V = {cv:.2f}%\")"
   ]
  },
  {
   "cell_type": "markdown",
   "id": "3f300d1b",
   "metadata": {
    "direction": "rtl"
   },
   "source": [
    "<p style = \"font-family:B Nazanin;\">\n",
    "    مثال. در یک شرکت نرم‌افزاری متوسط تعداد دفعات اصلاح برنامه‌های نوشته‌شده توسط برنامه‌نویسان در ماه 2 بار است. احتمال اینکه یک برنامه در هر ماه بدون نیاز به اصلاح عمل کند (موفقیت)، برابر با 0.2 است. احتماال اینکه برنامه‌ای پس از 3 ماه برای اولین بار نیاز به صالاح داشته باشد چقدر است؟\n",
    "</p>"
   ]
  },
  {
   "cell_type": "code",
   "execution_count": 15,
   "id": "af672cd0",
   "metadata": {},
   "outputs": [
    {
     "name": "stdout",
     "output_type": "stream",
     "text": [
      "P(X=3) = 0.1280\n"
     ]
    }
   ],
   "source": [
    "import scipy.stats as stats\n",
    "\n",
    "p = 0.2\n",
    "x = 3\n",
    "\n",
    "prob = stats.geom.pmf(x, p)\n",
    "print(f\"P(X={x}) = {prob:.4f}\")"
   ]
  },
  {
   "cell_type": "markdown",
   "id": "de81eec2",
   "metadata": {
    "direction": "rtl"
   },
   "source": [
    "<p style = \"font-family:B Nazanin;\">\n",
    "     مثال. در یک شرکت تولید قطعات الکترونیکی، احتمال اینکه یک محصول بدون عیب تولید شود، 95درصد است. احتمال اینکه پس از تولید 5 محصول، یک محصول بدون عیب تولید شود چقدر است؟\n",
    "</p>"
   ]
  },
  {
   "cell_type": "code",
   "execution_count": 16,
   "id": "4fbd02b5",
   "metadata": {},
   "outputs": [
    {
     "name": "stdout",
     "output_type": "stream",
     "text": [
      "P(X=5) = 0.0000059\n"
     ]
    }
   ],
   "source": [
    "import scipy.stats as stats\n",
    "\n",
    "p = 0.95\n",
    "x = 5\n",
    "\n",
    "prob = stats.geom.pmf(x, p)\n",
    "print(f\"P(X={x}) = {prob:.7f}\")"
   ]
  },
  {
   "cell_type": "markdown",
   "id": "95cea8b9",
   "metadata": {
    "direction": "rtl"
   },
   "source": [
    "<p style = \"font-family:B Nazanin;\">\n",
    "    مثال. در جاده ملایر به اراک، به طور متوسط در هر شبانه‌روز 2.3 تصادف رخ می‌دهد. احتمال اینکه در یک شبانه‌روز خاص اصلا تصادفی رخ ندهد، چقدر است؟\n",
    "</p>"
   ]
  },
  {
   "cell_type": "code",
   "execution_count": 17,
   "id": "d0ee5da7",
   "metadata": {},
   "outputs": [
    {
     "name": "stdout",
     "output_type": "stream",
     "text": [
      "0.10025884372280375\n"
     ]
    }
   ],
   "source": [
    "import scipy.stats as stats\n",
    "\n",
    "lambda_ = 2.3\n",
    "x = 0\n",
    "\n",
    "prob = stats.poisson.pmf(x, mu=lambda_)\n",
    "print(prob)"
   ]
  },
  {
   "cell_type": "markdown",
   "id": "2a7ea689",
   "metadata": {
    "direction": "rtl"
   },
   "source": [
    "<p style = \"font-family:B Nazanin;\">\n",
    "    احتمال اینکه در یک شبانه‌روز خاص بیش از 3 تصادف رخ دهد، چقدر است؟\n",
    "</p>"
   ]
  },
  {
   "cell_type": "code",
   "execution_count": 20,
   "id": "faad8a74",
   "metadata": {},
   "outputs": [
    {
     "name": "stdout",
     "output_type": "stream",
     "text": [
      "0.200652948805373\n"
     ]
    }
   ],
   "source": [
    "import scipy.stats as stats\n",
    "\n",
    "lambda_ = 2.3\n",
    "x_values = [0, 1, 2, 3]\n",
    "\n",
    "sum_prob = 0\n",
    "for x in x_values:\n",
    "    sum_prob += stats.poisson.pmf(x, mu=lambda_)\n",
    "    \n",
    "res = 1 - sum_prob\n",
    "print(res)"
   ]
  },
  {
   "cell_type": "markdown",
   "id": "613b1ec5",
   "metadata": {
    "direction": "rtl"
   },
   "source": [
    "<p style = \"font-family:B Nazanin;\">\n",
    "   مثال. می‌خواهیم به یازده دانش‌آموز یک کلاس به صورت تصادفی نمره‌ای با مقدارهای صحیح از 10 تا 20 بدهیم به این ترتیب که این نمرات به صورت یکنواخت بینشان توزیع شود. احتمال اینکه نمره دانش‌آموزی 18 شود چقدر است؟ احتمال اینکه نمره دانش‌آموزی کمتر از 13 باشد چقدر است؟ \n",
    "</p>"
   ]
  },
  {
   "cell_type": "code",
   "execution_count": 22,
   "id": "954f8bfb",
   "metadata": {},
   "outputs": [
    {
     "name": "stdout",
     "output_type": "stream",
     "text": [
      "[10 11 12 13 14 15 16 17 18 19 20]\n",
      "[0.09090909 0.09090909 0.09090909 0.09090909 0.09090909 0.09090909\n",
      " 0.09090909 0.09090909 0.09090909 0.09090909 0.09090909]\n"
     ]
    }
   ],
   "source": [
    "import numpy as np\n",
    "from scipy.stats import randint\n",
    "import matplotlib.pyplot as plt\n",
    "\n",
    "a, b = 10, 20\n",
    "x_values = np.r_[a: b+1]   # x_values = np.linspace(a, b+1, 11)\n",
    "uniform_pmf = randint.pmf(x_values, a, b+1)\n",
    "\n",
    "print(x_values)\n",
    "print(uniform_pmf)"
   ]
  },
  {
   "cell_type": "code",
   "execution_count": 28,
   "id": "61c5d8f5",
   "metadata": {},
   "outputs": [
    {
     "name": "stdout",
     "output_type": "stream",
     "text": [
      "P(X=18) = 0.09091\n"
     ]
    }
   ],
   "source": [
    "x = 18\n",
    "index = np.where(x_values==x)[0][0]\n",
    "print(f\"P(X={x}) = {uniform_pmf[index]:.5f}\")"
   ]
  },
  {
   "cell_type": "code",
   "execution_count": 29,
   "id": "2838ac52",
   "metadata": {},
   "outputs": [
    {
     "name": "stdout",
     "output_type": "stream",
     "text": [
      "P(X<13) = 0.27273\n"
     ]
    }
   ],
   "source": [
    "sum_prob = 0\n",
    "for x in range(a, 13):\n",
    "    index = np.where(x_values==x)[0][0]\n",
    "    sum_prob += uniform_pmf[index]\n",
    "    \n",
    "print(f\"P(X<13) = {sum_prob:.5f}\")"
   ]
  },
  {
   "cell_type": "code",
   "execution_count": 30,
   "id": "4a695263",
   "metadata": {},
   "outputs": [
    {
     "data": {
      "image/png": "[encoded data removed]",
      "text/plain": [
       "<Figure size 640x480 with 1 Axes>"
      ]
     },
     "metadata": {},
     "output_type": "display_data"
    }
   ],
   "source": [
    "plt.plot(x_values, uniform_pmf, 'bo', ms = 10)\n",
    "plt.vlines(x_values, 0, uniform_pmf, colors='r', lw=1, alpha=0.2)\n",
    "plt.xlabel('X_Values')\n",
    "plt.ylabel('Probability')\n",
    "plt.show()"
   ]
  },
  {
   "cell_type": "markdown",
   "id": "c6b7558a",
   "metadata": {
    "direction": "rtl"
   },
   "source": [
    "<p style = \"font-family:B Nazanin;\">\n",
    "    <b>توزیع‌های احتمال پیوسته (Continuous Probability Distribution):</b> <br>\n",
    "    متغیر تصادفی پیوسته متغیری است که تمام مقادیر یک بازه یا اجتماعی از چند بازه را شامل شود. (به صورت پیوسته تغییر می‌کند و مقادیر قابل شمارش ندارد). <br>\n",
    "    تابع چگالی احتمال (یا همان تابع توزیع احتمال پیوسته) تابعی است که مشخص می‌کند توزیع احتمال در هر بازه‌ای از متغیر تصادفی چگونه است. پس اگر توانستیم تابعی به شکل $f(x)$ بنویسیم که با کمک آن احتمال بازه‌های مختلف متغیر تصادفی را پیدا کنیم، به آن تابع، تابع چگالی احتمال می‌گویند. <br>\n",
    "    به این نکته دقت داشته باشید که تابع چگالی احتمال، دقیقا خود احتمال را نشان نمی‌دهپ و فقط نحوه توزیع را نشان می‌دهد.<br>\n",
    "    نکته مهم دیگر این است که در حالت پیوسته، محاسبه احتمال برای یک نقطه خاص معنا ندارد. به عبارت دیگر احتمال وقوع فقط و فقط یک نقطه (یا یک مقدار خاص) از متغیر تصادفی صفر است. یعنی $P(X = c) = 0$. بنابراین در حالت پیوسته مقدار احتمال در یک بازه محاسبه می‌شود و نه در یک نقطه.<br>\n",
    "    مقدار تابع چگالی احتمال همیشه مثبت است ولی لزومی ندارد که کوچکتر از یک باشد: $0 \\le f(x)$ <br>\n",
    "    مقدار احتمال همیشه بین صفر و یک است: $0 \\le P(x) \\le 1$ <br>\n",
    "    برای محاسبه احتمال در یک بازه باید از تابع چگالی احتمال در آن بازه انتگرال بگیریم:\n",
    "</p>"
   ]
  },
  {
   "cell_type": "markdown",
   "id": "b612ae72",
   "metadata": {},
   "source": [
    "$$\n",
    "P(a \\le x \\le b) = \\int_a^b f(x) dx\n",
    "$$"
   ]
  },
  {
   "cell_type": "markdown",
   "id": "5ac3d05f",
   "metadata": {},
   "source": [
    "$$\n",
    "P(X = c) = 0\n",
    "$$"
   ]
  },
  {
   "cell_type": "markdown",
   "id": "0fcce17a",
   "metadata": {
    "direction": "rtl"
   },
   "source": [
    "<p style = \"font-family:B Nazanin;\">\n",
    "    <b>تابع توزیع تجمعی (Cumulative Distribution Function یا CDF):</b> به مجموع تمام احتمالات تا یک نقطه خاص گویند. یعنی احتمال در بازه منفی بی‌نهایت تا آن نقطه خاص.\n",
    "</p>"
   ]
  },
  {
   "cell_type": "markdown",
   "id": "3be80196",
   "metadata": {},
   "source": [
    "$$\n",
    "F(x) = P(X \\le x) = \\int_{-\\infty}^x f(X) dX\n",
    "$$"
   ]
  },
  {
   "cell_type": "markdown",
   "id": "e19e46ba",
   "metadata": {},
   "source": [
    "$$\n",
    "F(x) = \\left\\{\n",
    "\\begin{array}{ll}\n",
    "0&x \\lt a\\\\\n",
    "\\int_a^x f(x)dx&a\\le x \\lt b\\\\\n",
    "1&x\\ge b\n",
    "\\end{array}\\right.\n",
    "$$"
   ]
  },
  {
   "cell_type": "markdown",
   "id": "626d14fa",
   "metadata": {
    "direction": "rtl"
   },
   "source": [
    "<p style = \"font-family:B Nazanin;\">\n",
    "    <b>امید ریاضی (Expected Value):</b>\n",
    "</p>"
   ]
  },
  {
   "cell_type": "markdown",
   "id": "a019bb77",
   "metadata": {},
   "source": [
    "$$\n",
    "\\mu_x = E(x) = \\int x.f(x)dx\n",
    "$$"
   ]
  },
  {
   "cell_type": "markdown",
   "id": "a279f435",
   "metadata": {
    "direction": "rtl"
   },
   "source": [
    "<p style = \"font-family:B Nazanin;\">\n",
    "    <b>میانه در حالت پیوسته (Continuous Median):</b> در حالت پیوسته، میانه به نقطه‌ای می‌گویند که مجموع احتمالات از منفی بی‌نهایت تا آن نقطه برابر با 0.5 و مجموع احتمالات از آن نقطه تا مثبت بی‌نهایت هم 0.5 باشد.\n",
    "</p>"
   ]
  },
  {
   "cell_type": "markdown",
   "id": "aed78482",
   "metadata": {},
   "source": [
    "$$\n",
    "P(X\\le m) = P(X \\ge m) = \\int_{-\\infty}^m f(x)dx = \\int_m^{+\\infty} f(x)dx = 0.5\n",
    "$$"
   ]
  },
  {
   "cell_type": "markdown",
   "id": "5b21aa49",
   "metadata": {
    "direction": "rtl"
   },
   "source": [
    "<p style = \"font-family:B Nazanin;\">\n",
    "    مثال. فرض کنید تابع چگالی احتمال سالم بودن یک باتری موبایل بر حسب تعداد ماه‌های کارکرد به صورت $f(x) = 0.1 - 0.005x$ باشد. الف) احتمال اینکه این باتری تا 10 ماه سالم بماند چقدر است؟\n",
    "</p>"
   ]
  },
  {
   "cell_type": "markdown",
   "id": "0adb0ffd",
   "metadata": {},
   "source": [
    "$\n",
    "P(X\\le 10) = \\int_0^{10} f(x)dx = \\int_0^{10} (0.1 - 0.005x)dx = \\left(0.1x - 0.0025x^2\\right)\\Bigr|_0^{10} = 0.75\n",
    "$"
   ]
  },
  {
   "cell_type": "markdown",
   "id": "851ad5b9",
   "metadata": {
    "direction": "rtl"
   },
   "source": [
    "<p style = \"font-family:B Nazanin;\">\n",
    "    ب) تابع توزیع تحجمعی را مشخص کنید.\n",
    "</p>"
   ]
  },
  {
   "cell_type": "markdown",
   "id": "e243ce83",
   "metadata": {},
   "source": [
    "$\n",
    "F(x) = P(X \\le x) = \\int_{-\\infty}^x f(X)dX  \\Rightarrow \n",
    "F(x) = \\left\\{\n",
    "\\begin{array}{ll}\n",
    "0&x \\lt a\\\\\n",
    "0.1x - 0.0025x^2&a\\le x \\lt b\\\\\n",
    "1&x\\ge b\n",
    "\\end{array}\\right.\n",
    "$"
   ]
  },
  {
   "cell_type": "markdown",
   "id": "a04c530d",
   "metadata": {
    "direction": "rtl"
   },
   "source": [
    "<p style = \"font-family:B Nazanin;\">\n",
    "    ج)‌امید ریاضی را برای آن محاسبه کنید.\n",
    "</p>"
   ]
  },
  {
   "cell_type": "markdown",
   "id": "fa80cf6a",
   "metadata": {},
   "source": [
    "$\n",
    "E(x) = \\int_x^{20} x.f(x)dx = \\int_0^{20} x(0.1-0.005x)dx = \\left(0.05x^2 - \\frac{0.005}{3}x^3\\right)\\Biggr|_0^{20} = 6.67\n",
    "$"
   ]
  },
  {
   "cell_type": "markdown",
   "id": "897be241",
   "metadata": {
    "direction": "rtl"
   },
   "source": [
    "<p style = \"font-family:B Nazanin;\">\n",
    "    د) میانه را برای آن حساب کنید.\n",
    "</p>"
   ]
  },
  {
   "cell_type": "markdown",
   "id": "ae1d7532",
   "metadata": {},
   "source": [
    "$\n",
    "\\int_{-\\infty}^m f(x)dx = \\int_m^{+\\infty}f(x)dx = 0.5 \\Rightarrow \\\\\n",
    "\\int_0^m(0.1-0.005x)dx = 0.5 \\Rightarrow \\\\\n",
    "0.1x-0.0025x^2\\Bigr|_0^m = 0.5 \\Rightarrow \\\\\n",
    "0.1m-0.0025m^2 = 0.5 \\Rightarrow 0.0025m^2-0.1m+0.5 = 0 \\Rightarrow m^2-40m+200=0 \\Rightarrow m = 5.86\n",
    "$"
   ]
  },
  {
   "cell_type": "markdown",
   "id": "d01ed4f6",
   "metadata": {
    "direction": "rtl"
   },
   "source": [
    "<p style = \"font-family:B Nazanin;\">\n",
    "    در ادامه توابع توزیع احتمال پیوسته معروف در دنیای ریاضی را بیان می‌کنیم. <br>\n",
    "    <b> توزیع احتمال یکنواخت پیوسته (Uniform Distribution):</b><br>\n",
    "    $X\\sim U(a,b)$: اگر احتمال در بازه a تا b برای تک تک مقادیر یکسان باشد،‌به آن توزیع احتمال یکنواخت می‌گویند.\n",
    "</p>"
   ]
  },
  {
   "cell_type": "markdown",
   "id": "5af24969",
   "metadata": {},
   "source": [
    "$$\n",
    "f(x) = \\left\\{\n",
    "\\begin{array}{ll}\n",
    "\\frac{1}{b-a}&a \\le x \\le b\\\\\n",
    "0&otherwise\n",
    "\\end{array}\n",
    "\\right.\n",
    "$$"
   ]
  },
  {
   "cell_type": "markdown",
   "id": "0d97505a",
   "metadata": {},
   "source": [
    "$$\n",
    "P(c \\le x \\le d) = \\int_c^d f(x)dx = \\int_c^d \\frac{1}{b-a}dx = \\frac{d-c}{b-a}\n",
    "$$"
   ]
  },
  {
   "cell_type": "markdown",
   "id": "dde72766",
   "metadata": {},
   "source": [
    "$$\n",
    "E(x) = \\frac{a+b}{2}\n",
    "$$"
   ]
  },
  {
   "cell_type": "markdown",
   "id": "4db08fe2",
   "metadata": {},
   "source": [
    "$$\n",
    "Var(x) = \\frac{(b-a)^2}{12}\n",
    "$$"
   ]
  },
  {
   "cell_type": "markdown",
   "id": "315350b3",
   "metadata": {
    "direction": "rtl"
   },
   "source": [
    "<p style = \"font-family:B Nazanin;\">\n",
    "    نکته) از توزیع یکنواخت می‌توان برای تولید اعداد تصادفی در بازه صفر تا یک (و همه بازه‌ها) استفاده کرد. <br>\n",
    "    مثال. اگر در یک توزیع یکنواخت پیوسته، امید ریاضی برابر 40 و واریانس برابر 12 باشد، الف) تابع توزیع را مشخص کنید. ب) احتمال اینکه x بزرگتر از 40 باشد را به دست آورید.\n",
    "</p>"
   ]
  },
  {
   "cell_type": "markdown",
   "id": "9fede275",
   "metadata": {},
   "source": [
    "$\n",
    "E(x) = 40 \\Rightarrow \\frac{a+b}{2} = 40 \\Rightarrow a + b = 80\\\\\n",
    "Var(x) = 12 \\Rightarrow \\frac{(b-a)^2}{12} = 12 \\Rightarrow b - a = 12 \\\\\n",
    "\\left\\{\n",
    "\\begin{array}{l}\n",
    "a + b = 80\\\\\n",
    "b - a = 12\\\\\n",
    "\\hline\n",
    "\\end{array}\n",
    "\\right.\\\\\n",
    "2b = 92 \\Rightarrow b = 46 \\rightarrow a = 34 \\Rightarrow f(x) = \\frac{1}{b-a} \\Rightarrow \\boxed{f(x) = \\frac{1}{12}}\n",
    "$"
   ]
  },
  {
   "cell_type": "markdown",
   "id": "159ae5a0",
   "metadata": {},
   "source": [
    "$\n",
    "P(x \\ge 40) = \\int_{40}^{46} \\frac{1}{12} = \\frac{x}{12}\\Bigr|_{40}^{46} = \\frac{46-40}{12}=\\frac{1}{2}\n",
    "$"
   ]
  },
  {
   "cell_type": "markdown",
   "id": "43ae8a35",
   "metadata": {
    "direction": "rtl"
   },
   "source": [
    "<p style = \"font-family:B Nazanin;\">\n",
    "    مثال. اگر در یک توزیع یکنواخت پیوسته، $a = 2$ و $b = 8$ باشد، به کمک برنامه‌نویسی عملیات زیر را انجام دهید. الف) امید ریاضی و واریانس را محاسبه نمایید. ب) احتمال $P(3 \\lt X \\lt 5)$ و $P(X \\lt 6)$ و $P(3 \\lt X)$ را محاسبه نمایید. ج) نمودار توزیع احتمال یکنواخت را رسم کنید.\n",
    "</p>"
   ]
  },
  {
   "cell_type": "code",
   "execution_count": 32,
   "id": "df560b75",
   "metadata": {},
   "outputs": [
    {
     "name": "stdout",
     "output_type": "stream",
     "text": [
      "E(x) = 5.0\n",
      "Var(x) = 3.0\n"
     ]
    }
   ],
   "source": [
    "import numpy as np\n",
    "import matplotlib.pyplot as plt\n",
    "\n",
    "def uniform_probability_density(x, a, b):\n",
    "    if x < a or x > b:\n",
    "        return 0\n",
    "    return 1 / (b - a)\n",
    "\n",
    "a = 2\n",
    "b = 8\n",
    "\n",
    "mean = (a + b) / 2\n",
    "variance = ((b - a) ** 2) / 12\n",
    "\n",
    "print(f'E(x) = {mean}')\n",
    "print(f'Var(x) = {variance}')"
   ]
  },
  {
   "cell_type": "code",
   "execution_count": 35,
   "id": "e1fd0952",
   "metadata": {},
   "outputs": [
    {
     "name": "stdout",
     "output_type": "stream",
     "text": [
      "P(3 < x < 5) = 0.3333333333333333\n"
     ]
    }
   ],
   "source": [
    "# P(3 < x < 5)\n",
    "\n",
    "c = 3\n",
    "d = 5\n",
    "probability = (d - c) / (b - a)\n",
    "print(f'P({c} < x < {d}) = {probability}')"
   ]
  },
  {
   "cell_type": "code",
   "execution_count": 36,
   "id": "bd310d64",
   "metadata": {},
   "outputs": [
    {
     "name": "stdout",
     "output_type": "stream",
     "text": [
      "P(2 < x < 6) = 0.6666666666666666\n"
     ]
    }
   ],
   "source": [
    "# P(x < 6)\n",
    "\n",
    "c = a\n",
    "d = 6\n",
    "probability = (d - c) / (b - a)\n",
    "print(f'P({c} < x < {d}) = {probability}')"
   ]
  },
  {
   "cell_type": "code",
   "execution_count": 37,
   "id": "946a45d4",
   "metadata": {},
   "outputs": [
    {
     "name": "stdout",
     "output_type": "stream",
     "text": [
      "P(3 < x < 8) = 0.8333333333333334\n"
     ]
    }
   ],
   "source": [
    "# P(x > 3)\n",
    "\n",
    "c = 3\n",
    "d = b\n",
    "probability = (d - c) / (b - a)\n",
    "print(f'P({c} < x < {d}) = {probability}')"
   ]
  },
  {
   "cell_type": "code",
   "execution_count": 39,
   "id": "17919c2f",
   "metadata": {},
   "outputs": [
    {
     "data": {
      "image/png": "[encoded data removed]",
      "text/plain": [
       "<Figure size 640x480 with 1 Axes>"
      ]
     },
     "metadata": {},
     "output_type": "display_data"
    }
   ],
   "source": [
    "x_values = np.linspace(a-1, b+1, 1000)\n",
    "prob_values = [uniform_probability_density(x, a, b) for x in x_values]\n",
    "plt.plot(x_values, prob_values)\n",
    "plt.xlabel('X')\n",
    "plt.ylabel('Y')\n",
    "plt.title(f'Uniform Probability Distribution[{a}, {b}]')\n",
    "plt.show()"
   ]
  },
  {
   "cell_type": "markdown",
   "id": "8af612c1",
   "metadata": {
    "direction": "rtl"
   },
   "source": [
    "<p style = \"font-family:B Nazanin;\">\n",
    "    ساخت عدد تصادفی با توزیع یکنواخت با کمک Numpy:\n",
    "</p>"
   ]
  },
  {
   "cell_type": "code",
   "execution_count": 40,
   "id": "b52efa9a",
   "metadata": {},
   "outputs": [],
   "source": [
    "import numpy as np"
   ]
  },
  {
   "cell_type": "code",
   "execution_count": 44,
   "id": "0741e796",
   "metadata": {},
   "outputs": [
    {
     "name": "stdout",
     "output_type": "stream",
     "text": [
      "[[0.92114022 0.319677   0.37544514]\n",
      " [0.51500639 0.92546246 0.51296804]\n",
      " [0.76629062 0.95822784 0.30641536]\n",
      " [0.38059113 0.79323697 0.32028598]\n",
      " [0.81007908 0.64497168 0.75180134]]\n"
     ]
    }
   ],
   "source": [
    "# 5x3 random array, each number between 0.1 and 0.99\n",
    "randNumbers = np.random.uniform(low=0.1, high=0.99, size=(5,3))\n",
    "print(randNumbers)"
   ]
  },
  {
   "cell_type": "code",
   "execution_count": 46,
   "id": "48114984",
   "metadata": {},
   "outputs": [
    {
     "name": "stdout",
     "output_type": "stream",
     "text": [
      "[15.48309175 14.11912092 16.79915866 11.16883616 11.70268792]\n"
     ]
    }
   ],
   "source": [
    "# 5 random numbers, each number between 10 and 20\n",
    "randNumbers = np.random.uniform(10, 20, 5)\n",
    "print(randNumbers)"
   ]
  },
  {
   "cell_type": "code",
   "execution_count": 43,
   "id": "7dfa90e8",
   "metadata": {},
   "outputs": [
    {
     "name": "stdout",
     "output_type": "stream",
     "text": [
      "[0.49971922 0.03191757 0.65862621 0.63340478 0.45034843]\n"
     ]
    }
   ],
   "source": [
    "# random numbers between 0 and 1\n",
    "randNumbers = np.random.uniform(size=5)\n",
    "print(randNumbers)"
   ]
  },
  {
   "cell_type": "markdown",
   "id": "62c4f04b",
   "metadata": {
    "direction": "rtl"
   },
   "source": [
    "<p style = \"font-family:B Nazanin;\">\n",
    "    تولید عدد تصادفی در numpy از الگوریتمی استفاده می‌کند که به طور کامل تصادفی نیست و یک روال مشخص دارد. اما دلیل اینکه می‌تواند از عدد تصادفی تولید کند این است که در شروع الگوریتم از یک مقدار اولیه استفاده می‌کند و با استفاده از آن در طی الگوریتم به یک عدد نهایی می‌رسد. حال اگر این مقدار اولیه در هر بار تولید عدد متفاوت باشد، عدد تصادفی تولید شده نیز متفاوت (و در نتیجه تصادفی) خواهد بود. به این مقدار seed گفته می‌شود. اگر مقدار seed را روی یک مقدار مشخص تنظیم کنیم و چند بار پیاپی عدد تصادفی تولید کنیم، می‌بینیم که اعداد تولید شده تصادفی هستند ولی همه با هم برابرند. \n",
    "</p>"
   ]
  },
  {
   "cell_type": "code",
   "execution_count": 49,
   "id": "4caa2ea4",
   "metadata": {},
   "outputs": [
    {
     "name": "stdout",
     "output_type": "stream",
     "text": [
      "[0.5488135  0.71518937 0.60276338 0.54488318 0.4236548 ]\n",
      "[0.5488135  0.71518937 0.60276338 0.54488318 0.4236548 ]\n",
      "[0.5488135  0.71518937 0.60276338 0.54488318 0.4236548 ]\n"
     ]
    }
   ],
   "source": [
    "np.random.seed(0)\n",
    "randNumbers = np.random.uniform(0.0, 1.0, 5)\n",
    "print(randNumbers)\n",
    "\n",
    "np.random.seed(0)\n",
    "randNumbers = np.random.uniform(0.0, 1.0, 5)\n",
    "print(randNumbers)\n",
    "\n",
    "np.random.seed(0)\n",
    "randNumbers = np.random.uniform(0.0, 1.0, 5)\n",
    "print(randNumbers)"
   ]
  },
  {
   "cell_type": "markdown",
   "id": "9f9752bb",
   "metadata": {
    "direction": "rtl"
   },
   "source": [
    "<p style = \"font-family:B Nazanin;\">\n",
    "    <b>توزیع احتمال نرمال یا گاوسی (Normal or Gaussian Distribution):</b><br>\n",
    "    $X\\sim N(1, p)$: اگر توزیع احتمال نسبت به مقدار میانگین متقارن باشد، به صورتی که در مقدار میانگین بیشترین احتمال را داشته باشیم و هر چه از میانگین فاصله می‌گیریم، احتمال کمتر شود، به آن توزیع احتمال نرمال گفته می‌شود. شکل تابع توزیع احتمال آن به شکل زنگوله است که به همین دلیل به آن توزیع زنگوله‌ای نیز می‌گویند.<br>\n",
    "    در توزیع احتمال نرمال متوجه شده‌اند که در فاصله یک برابر انحراف معیار از مقدار میانگین (یعنی $\\mu \\pm \\sigma$) تقریبا 68.2٪ از احتمال قرار می‌گیرد و در فاصله دو برابر انحراف معیار (یعنی $\\mu \\pm 2\\sigma$) تقریبا 95٪ احتمال وجود دارد و در فاصله سه برابر انحراف معیار (یعنی $\\mu \\pm 3\\sigma$) 99.8٪ از احتمال وجود دارد.\n",
    "</p>"
   ]
  },
  {
   "cell_type": "markdown",
   "id": "a772a469",
   "metadata": {},
   "source": [
    "$$\n",
    "f(x) = \\frac{1}{\\sigma \\sqrt{2\\pi}} e^{-\\frac{(x-\\mu)^2}{2\\sigma^2}} \\qquad x \\in R\n",
    "$$"
   ]
  },
  {
   "cell_type": "markdown",
   "id": "5daf53f0",
   "metadata": {
    "direction": "rtl"
   },
   "source": [
    "<p style = \"font-family:B Nazanin;\">\n",
    "     نکته. اگر در این توزیع، میانگین صفر و انحراف معیار یک باشد، به آن توزیع نرمال استاندارد می‌گویند. <br>\n",
    "    مثال. در یک کارخانه تولید پنیر، شش مورد از محصولات را وزن کرده‌ایم و نتیجه به این شکل است: 989 و 1012 و 1006 و 998 و 1003 و 1022. اگر انحراف معیار را 20 گرم در نظر بگیریم، احتمال اینکه وزن بسته‌ها کمتر از 1000 گرم باشد چقدر است؟ (به کمک برنامه‌نویسی)\n",
    "</p>"
   ]
  },
  {
   "cell_type": "code",
   "execution_count": 1,
   "id": "215b51d0",
   "metadata": {},
   "outputs": [
    {
     "name": "stdout",
     "output_type": "stream",
     "text": [
      "mean = 1005.0\n",
      "variance = 108.0\n",
      "std_deviation = 10.392304845413264\n"
     ]
    }
   ],
   "source": [
    "import numpy as np\n",
    "import scipy.stats as stats\n",
    "import math\n",
    "\n",
    "weights = [989, 1012, 1006, 998, 1003, 1022]\n",
    "mean = np.mean(weights)\n",
    "variance = np.var(weights)\n",
    "std_deviation = math.sqrt(variance)\n",
    "\n",
    "print(f'mean = {mean}')\n",
    "print(f'variance = {variance}')\n",
    "print(f'std_deviation = {std_deviation}')"
   ]
  },
  {
   "cell_type": "code",
   "execution_count": 3,
   "id": "52db8b9b",
   "metadata": {},
   "outputs": [
    {
     "name": "stdout",
     "output_type": "stream",
     "text": [
      "P(X<1000) = 0.3152\n"
     ]
    }
   ],
   "source": [
    "# P(X < 1000)\n",
    "\n",
    "dw = 1000\n",
    "prob = stats.norm.cdf(dw, loc=mean, scale=std_deviation)\n",
    "print(f'P(X<{dw}) = {prob:.4f}')"
   ]
  },
  {
   "cell_type": "code",
   "execution_count": 4,
   "id": "ce8369d5",
   "metadata": {},
   "outputs": [
    {
     "name": "stdout",
     "output_type": "stream",
     "text": [
      "P(998<X<1015) = 0.5817\n"
     ]
    }
   ],
   "source": [
    "# P(998 < X < 1015)\n",
    "\n",
    "lower_bound = 998\n",
    "upper_bound = 1015\n",
    "prob_upper_bound = stats.norm.cdf(upper_bound, loc=mean, scale=std_deviation)\n",
    "prob_lower_bound = stats.norm.cdf(lower_bound, loc=mean, scale=std_deviation)\n",
    "prob = prob_upper_bound - prob_lower_bound\n",
    "print(f'P({lower_bound}<X<{upper_bound}) = {prob:.4f}')"
   ]
  },
  {
   "cell_type": "markdown",
   "id": "b09c324e",
   "metadata": {
    "direction": "rtl"
   },
   "source": [
    "<p style = \"font-family:B Nazanin;\">\n",
    "    <b>توزیع احتمال نمایی (Exponential Distribution):</b><br>\n",
    "    $X\\sim Exp(\\lambda)$: این توزیع ارتباط مستقیم با توزیع پواسن دارد. معمولا از این توزیع برای تخمین مدت زمان لازم تا وقوع یک رخداد استفاده می‌کنند. اگر $m$ فاصله زمانی بین دو رویداد و $\\lambda$ نرخ تعدادی آن رویداد باشد:\n",
    "</p>"
   ]
  },
  {
   "cell_type": "markdown",
   "id": "5573ec02",
   "metadata": {},
   "source": [
    "$$\n",
    "f(x) = \\lambda e^{-\\lambda.x} \\qquad x \\ge 0, \\quad \\lambda > 0, \\quad \\lambda = \\frac{1}{m}\n",
    "$$"
   ]
  },
  {
   "cell_type": "markdown",
   "id": "be0e2363",
   "metadata": {},
   "source": [
    "$$\n",
    "CDF = F(x) = 1-e^{-\\lambda.x}\n",
    "$$"
   ]
  },
  {
   "cell_type": "markdown",
   "id": "7f21865f",
   "metadata": {},
   "source": [
    "$$\n",
    "E(x) = \\frac{1}{\\lambda} = m\n",
    "$$"
   ]
  },
  {
   "cell_type": "markdown",
   "id": "3213dab8",
   "metadata": {},
   "source": [
    "$$\n",
    "Var(x) = \\frac{1}{\\lambda^2}\n",
    "$$"
   ]
  },
  {
   "cell_type": "markdown",
   "id": "9e2f4db1",
   "metadata": {
    "direction": "rtl"
   },
   "source": [
    "<p style = \"font-family:B Nazanin;\">\n",
    "     مثال. فرض کنید سرور یک سایت به طور متوسط در هر 15 ثانیه از یک کاربر درخواست دریافت کند. الف) احتمال اینکه بیش از یک دقیقه بین دو درخواست فاصله بیفتد چقدر است؟\n",
    "</p>"
   ]
  },
  {
   "cell_type": "markdown",
   "id": "c5bb686e",
   "metadata": {},
   "source": [
    "$\n",
    "\\lambda = \\frac{1}{m} = \\frac{1}{15 sec \\times \\frac{1 min}{60 sec}} = 4 \\frac{request}{min} \\Rightarrow \\\\\n",
    "P(x > 1) = 1 - P(x < 1) = 1 - F(x = 1) = 1 - \\left(1 - e^{-4\\times 1}\\right) = e^{-4} = 0.0183\n",
    "$"
   ]
  },
  {
   "cell_type": "code",
   "execution_count": 5,
   "id": "e330e039",
   "metadata": {},
   "outputs": [
    {
     "name": "stdout",
     "output_type": "stream",
     "text": [
      "Probability:  0.01831563888873422\n"
     ]
    }
   ],
   "source": [
    "from scipy.stats import expon\n",
    "\n",
    "# in this function: (scale = m)\n",
    "prob = expon.cdf(x = 1, scale=0.25)\n",
    "print('Probability: ', 1-prob)"
   ]
  },
  {
   "cell_type": "markdown",
   "id": "1c2160cd",
   "metadata": {
    "direction": "rtl"
   },
   "source": [
    "<p style = \"font-family:B Nazanin;\">\n",
    "     مثال. بررسی‌ها نشان می‌دهد که هر کاربر به طور متوسط 5 دقیقه داخل یک وبسایت باقی می‌ماند. الف) احتمال اینکه یک کاربر بیشتر از 10 دقیقه در سایت بماند چقدر است؟\n",
    "</p>"
   ]
  },
  {
   "cell_type": "markdown",
   "id": "d869c542",
   "metadata": {},
   "source": [
    "$\n",
    "m = E(x) = 5 min \\Rightarrow \\lambda = \\frac{1}{m} = 0.2 \\Rightarrow \\\\\n",
    "P(x > 10) = 1 - P(x < 10) = 1 - F(x = 10) = 1 - \\left(1 - e^{-0.2\\times 10}\\right) = e^{-2} = 0.1353\n",
    "$"
   ]
  },
  {
   "cell_type": "code",
   "execution_count": 6,
   "id": "cbb51d8e",
   "metadata": {},
   "outputs": [
    {
     "name": "stdout",
     "output_type": "stream",
     "text": [
      "Probability:  0.1353352832366127\n"
     ]
    }
   ],
   "source": [
    "from scipy.stats import expon\n",
    "\n",
    "prob = expon.cdf(x = 10, scale=5)\n",
    "print('Probability: ', 1-prob)"
   ]
  },
  {
   "cell_type": "markdown",
   "id": "27c30bab",
   "metadata": {
    "direction": "rtl"
   },
   "source": [
    "<p style = \"font-family:B Nazanin;\">\n",
    "     مثال. فرض کنید در هر ساعت 30 مشتری به یک فروشگاه آنلاین وارد می‌شوند و زمان بین ورود به صورت نمایی توزیع شده‌اند. الف) به طور متوسط بین دو ورود متوالی چند دقیقه می‌گذرد؟\n",
    "</p>"
   ]
  },
  {
   "cell_type": "markdown",
   "id": "68f4544d",
   "metadata": {},
   "source": [
    "$\n",
    "m = \\frac{1}{30}\\, hour = 2 min\n",
    "$"
   ]
  },
  {
   "cell_type": "markdown",
   "id": "bcb339af",
   "metadata": {
    "direction": "rtl"
   },
   "source": [
    "<p style = \"font-family:B Nazanin;\">\n",
    "     ب) از زمانی که فروشگاه باز می‌شود، به طور متوسط چقدر طول می‌کشد تا سه مشتری وارد شود؟\n",
    "</p>"
   ]
  },
  {
   "cell_type": "markdown",
   "id": "74445877",
   "metadata": {},
   "source": [
    "$\n",
    "2 \\times 3 = 6 min\n",
    "$"
   ]
  },
  {
   "cell_type": "markdown",
   "id": "cc78650d",
   "metadata": {
    "direction": "rtl"
   },
   "source": [
    "<p style = \"font-family:B Nazanin;\">\n",
    "     ج) پس از ورود مشتری، این احتمال را پیدا کنید که کمتر از یک دقیقه طول بکشد تا مشتری بعدی برسد.\n",
    "</p>"
   ]
  },
  {
   "cell_type": "markdown",
   "id": "69fd3326",
   "metadata": {},
   "source": [
    "$\n",
    "\\lambda = \\frac{1}{m} = \\frac{1}{2} = 0.5\\,\\frac{customer}{min} \\Rightarrow \\\\\n",
    "P(x < 1) = F(x = 1) = 1 - e^{-0.5 \\times 1} = 1 - e^{-0.5} = 1 - 0.6066 = 0.3934\n",
    "$"
   ]
  },
  {
   "cell_type": "code",
   "execution_count": 7,
   "id": "ba84146d",
   "metadata": {},
   "outputs": [
    {
     "name": "stdout",
     "output_type": "stream",
     "text": [
      "Probability:  0.3934693402873666\n"
     ]
    }
   ],
   "source": [
    "from scipy.stats import expon\n",
    "\n",
    "prob = expon.cdf(x = 1, scale=2)\n",
    "print('Probability: ', prob)"
   ]
  },
  {
   "cell_type": "markdown",
   "id": "b848f96d",
   "metadata": {
    "direction": "rtl"
   },
   "source": [
    "<p style = \"font-family:B Nazanin;\">\n",
    "     د) پس از ورود مشتری، این احتمال را پیدا کنید که بیش از 5 دقیقه طول بکشد تا مشتری بعدی برسد.\n",
    "</p>"
   ]
  },
  {
   "cell_type": "markdown",
   "id": "cabb6771",
   "metadata": {},
   "source": [
    "$\n",
    "P(x > 5) = 1 - P(x < 5) = 1 - F(x = 5) = 1 - \\left(1 - e^{-0.5\\times5}\\right) = e^{-2.5} = 0.082\n",
    "$"
   ]
  },
  {
   "cell_type": "code",
   "execution_count": 8,
   "id": "9c8e0c7a",
   "metadata": {},
   "outputs": [
    {
     "name": "stdout",
     "output_type": "stream",
     "text": [
      "Probability:  0.08208499862389884\n"
     ]
    }
   ],
   "source": [
    "from scipy.stats import expon\n",
    "\n",
    "prob = expon.cdf(x = 5, scale=2)\n",
    "print('Probability: ', 1-prob)"
   ]
  },
  {
   "cell_type": "markdown",
   "id": "db427753",
   "metadata": {
    "direction": "rtl"
   },
   "source": [
    "<p style = \"font-family:B Nazanin;\">\n",
    "     مثال. به طور متوسط در هر 2 متر از یک پارچه 6 متری، یک زدگی وجود دارد. اگر $X$ نشان‌دهنده طولی از پارچه باشد که دارای زدگی نیست، احتمال اینکه پارچه زدگی نداشته باشد چقدر است؟\n",
    "</p>"
   ]
  },
  {
   "cell_type": "markdown",
   "id": "9c91715f",
   "metadata": {},
   "source": [
    "$\n",
    "m = 2 \\Rightarrow \\lambda = \\frac{1}{2} = 0.5 \\Rightarrow \\\\\n",
    "P(x > 6) = 1 - P(x < 6) = 1 - F(x = 6) = 1 - \\left(1 - e^{-0.5\\times6}\\right) = e^{-3} = 0.0498\n",
    "$"
   ]
  },
  {
   "cell_type": "code",
   "execution_count": 9,
   "id": "f8cd408f",
   "metadata": {},
   "outputs": [
    {
     "name": "stdout",
     "output_type": "stream",
     "text": [
      "Probability:  0.04978706836786395\n"
     ]
    }
   ],
   "source": [
    "from scipy.stats import expon\n",
    "\n",
    "prob = expon.cdf(x = 6, scale=2)\n",
    "print('Probability: ', 1-prob)"
   ]
  }
 ],
 "metadata": {
  "direction": "ltr",
  "kernelspec": {
   "display_name": "Python 3 (ipykernel)",
   "language": "python",
   "name": "python3"
  },
  "language_info": {
   "codemirror_mode": {
    "name": "ipython",
    "version": 3
   },
   "file_extension": ".py",
   "mimetype": "text/x-python",
   "name": "python",
   "nbconvert_exporter": "python",
   "pygments_lexer": "ipython3",
   "version": "3.11.2"
  }
 },
 "nbformat": 4,
 "nbformat_minor": 5
}
