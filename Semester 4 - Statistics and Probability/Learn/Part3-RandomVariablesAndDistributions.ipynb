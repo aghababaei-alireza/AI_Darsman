{
 "cells": [
  {
   "cell_type": "markdown",
   "id": "5a7766df",
   "metadata": {
    "direction": "rtl"
   },
   "source": [
    "<span dir=\"rtl\" style=\"font-family:B Nazanin\" align=\"right\">\n",
    "    <h1>فصل چهارم: آمار و احتمالات</h1>\n",
    "    <h2>بخش سوم: متغیرهای تصادفی و توزیع‌های احتمال در علم داده</h2>\n",
    "</span>"
   ]
  },
  {
   "cell_type": "markdown",
   "id": "5c1b9afe",
   "metadata": {
    "direction": "rtl"
   },
   "source": [
    "<p style = \"font-family:B Nazanin;\">\n",
    "    در این فصل تعدادی از قوانین و اصول آماری (اصل شمارش) که در آینده برای محاسبه احتمالات و شمارش پدیده‌های آماری و ... استفاده می‌شود، بیان خواهد شد. <br>\n",
    "    <b>اصول شمارش:</b> <br>\n",
    "    اصولی هستند که برای شمارش حالت‌های اتفاق افتادن یک پدیده استفاده می‌شوند. شامل اصل ضرب، اصل جمع، ترکیب و جایگشت. <br>\n",
    "    <b>اصل ضرب:</b> <br>\n",
    "    اگر در انتخاب حالت‌ها اجباری وجود داشته باشد، یعنی حتما از یک سری حالت باید انتخاب صورت بگیرد و از یک سری دیگر هم باید انتخاب صورت بگیرد، پس تعداد حالت‌های انتخاب مورد اول باید در تعداد حالت‌های مورد دوم ضرب شود. مثلا فرض کنید که از شهر 1 می‌خواهیم به شهر 3 برویم و در این میان باید حتما از شهر 2 نیز بگذریم. اگر تعداد مسیرهایی که شهر 1 را به شهر 2 میرساند 3 حالت باشد (A, B, C) و تعداد مسیرهایی که شهر 2 را به شهر 3 میرساند 2 حالت باشد (D, E): \n",
    "</p>"
   ]
  },
  {
   "cell_type": "markdown",
   "id": "b50fa58f",
   "metadata": {},
   "source": [
    "$\\begin{matrix}\n",
    "&\\xrightarrow{A}&\\\\\n",
    "\\boxed{1}&\\xrightarrow{B}&\\boxed{2}&\\begin{matrix}\n",
    "\\xrightarrow{D}\\\\\n",
    "\\xrightarrow{E}\n",
    "\\end{matrix}\\\\\n",
    "&\\xrightarrow{C}&\\\\\n",
    "\\end{matrix}\n",
    "\\boxed{3}$"
   ]
  },
  {
   "cell_type": "markdown",
   "id": "7318604d",
   "metadata": {
    "direction": "rtl"
   },
   "source": [
    "<p style = \"font-family:B Nazanin;\">\n",
    "     در این حالت، تعداد حالت‌هایی که از شهر 1 به شهر 3 برویم و از شهر 2 نیز حتما عبور کنیم، از اصل ضرب به دست می‌آید و برابر است با $3\\times2=6$. این حالت‌ها عبارتند از:\n",
    "</p>"
   ]
  },
  {
   "cell_type": "markdown",
   "id": "801246fd",
   "metadata": {},
   "source": [
    "$(A,D), (A, E), (B, D), (B, E), (C, D), (C, E)$"
   ]
  },
  {
   "cell_type": "markdown",
   "id": "87adf0f4",
   "metadata": {
    "direction": "rtl"
   },
   "source": [
    "<p style = \"font-family:B Nazanin;\">\n",
    "     به عنوان مثالی دیگر اگر در یک رستوران 5 نوع غذا و 3 نوع نوشیدنی وجود داشته باشد، اگر بخواهیم حتما هم غذا و هم نوشیدنی انتخاب کنیم، تعداد کل حالت‌های سفارش برابر است با $5\\times3=15$. <br>\n",
    "    مثال دیگر. با ارقام 5 و 4 و 3 و 9 و 7 می‌خواهیم اعداد سه رقمی بدون تکرار ارقام بنویسیم. برای نوشتن این عدد باید 3 رقم برای جایگاه‌های صدگان، دهگان و یکان انتخاب کنیم. برای انتخاب رقم صدگان 5 حالت انتخاب داریم (چون از بین این 5 رقم باید انتخاب کنیم). برای رقم دهگان، چون نمی‌خواهیم ارقام تکراری باشند و یک رقم را در جایگاه صدگان استفاده کردیم، پس 4 رقم باقی می‌ماند که می‌توانیم استفاده کنیم. پس 4 حالت داریم و برای جایگاه یکان، چون قبلا دو رقم استفاده شده‌است، پس 3 حالت انتخاب باقی می‌ماند. پس در کل برای نوشتن یک عدد سه رقمی (بر اساس اصل ضرب)، $5\\times4\\times3=60$ حالت انتخاب داریم. یعنی با این رقم‌های گفته‌شده 60 عدد سه رقمی بدون تکرار ارقام می‌توان نوشت. <br>\n",
    "    در مثال قبل اگر محدودیت تکراری نبودن ارقام را نداشتیم، در همه جایگاه‌های صدگان، دهگان و یکان می‌توانستیم 5 رقم استفاده کنیم، پس تعداد کل حالات $5\\times5\\times5=125$ عدد می‌توانستیم بنویسیم. <br>\n",
    "    <br>\n",
    "    <b>اصل جمع:</b> زمانی استفاده می‌شود که حق انتخاب بین چند حالت ممکن داشته باشیم و بین چند حالت مختلف بتوانیم یکی را انتخاب کنیم. در این صورت تعداد کل حالات انتخاب برابر است با جمع تعداد حالت انتخاب هر یک از موارد ممکن. <br>\n",
    "    به عنوان مثال اگر در یک کافه 5 مدل بستنی و 3 مدل قهوه وجود داشته باشد و ما بخواهیم فقط یک مورد را انتخاب کنیم، چون حق انتخاب داریم پس در کل می‌توانیم به $5 + 3 = 8$ حالت مختلف سفارش دهیم. <br>\n",
    "    مثال دیگر. تعداد مسیرهای بین چهار شهر مختلف به صورت زیر است. سه مسیر بین شهر 1 و 2. یک مسیر بین شهر 2 و 4. دو مسیر بین شهر 1 و 3. پنج مسیر بین شهر 3 و 4. می‌خواهیم از شهر 1 به شهر 4 برویم. \n",
    "</p>"
   ]
  },
  {
   "cell_type": "markdown",
   "id": "c0a500c2",
   "metadata": {},
   "source": [
    "$\n",
    "\\begin{matrix}\n",
    "&\\xrightarrow{A}\\\\\n",
    "\\boxed{1}&\\xrightarrow{B}&\\boxed{2}\\\\\n",
    "&\\xrightarrow{C}\n",
    "\\end{matrix}\n",
    "\\hspace{1cm}\n",
    "\\begin{matrix}\n",
    "\\boxed{2}&\\xrightarrow{D}&\\boxed{4}\\\\\n",
    "\\end{matrix}\\\\\n",
    "\\begin{matrix}\n",
    "&\\xrightarrow{E}\\\\\n",
    "\\boxed{1}&&\\boxed{3}\\\\\n",
    "&\\xrightarrow{F}\n",
    "\\end{matrix}\n",
    "\\hspace{1cm}\n",
    "\\begin{matrix}\n",
    "&\\xrightarrow{G}\\\\\n",
    "&\\xrightarrow{H}\\\\\n",
    "\\boxed{3}&\\xrightarrow{I}&\\boxed{4}\\\\\n",
    "&\\xrightarrow{J}\\\\\n",
    "&\\xrightarrow{K}\n",
    "\\end{matrix}\n",
    "$"
   ]
  },
  {
   "cell_type": "markdown",
   "id": "ab6d1490",
   "metadata": {
    "direction": "rtl"
   },
   "source": [
    "<p style = \"font-family:B Nazanin;\">\n",
    "     از دو مسیر می‌توانیم برویم. از شهر 1 به شهر 2 و سپس به شهر 4 یا از شهر 1 به شهر 3 و سپس به شهر 4. اگر بخواهیم از مسیر بالا برویم (1 به 2 به 4) طبق اصل ضرب $3\\times1=3$ حالت انتخاب داریم و اگر بخواهیم از مسیر پایین (1 به 3 به 4) طبق اصل ضرب $2\\times5=10$ حالت انتخاب داریم و چون بین این دو مسیر حق انتخاب داریم، طبق اصل جمع $3 + 10 = 13$ حالت انتخاب برای رفتن از شهر 1 به شهر 4 داریم. <br>\n",
    "    <br>\n",
    "    <b>اصل ترکیب:</b> به تعداد راه‌هایی که می‌توان از یک مجموعه بدون در نظر گرفتن ترتیب، تعدادی از عناصرش را انتخاب کنیم تا یک زیر مجموعه بسازیم، ترکیب می‌گویند. مثلا مجموعه {a, b, c, d} را در نظر بگیرید. تمام زیرمجموعه‌های دو عضوی از این مجموعه برابرند با: {a,b} و {a, c} و {a, d} و {b, c} و {b, d} و {c, d}. برای محاسبه تعداد کل حالات انتخاب در این اصل از فرمول زیر استفاده می‌کنیم. بنابراین اگر بخواهیم از یک مجموعه n عضوی، زیرمجموعه k عضوی انتخاب کنیم، تعداد کل حالات برابر است با:\n",
    "</p>"
   ]
  },
  {
   "cell_type": "markdown",
   "id": "edc31faf",
   "metadata": {},
   "source": [
    "$$\n",
    "C(n, k) = \\left(\\begin{array}{c}n\\\\k\\end{array}\\right) = \\frac{n!}{(n-k)!k!}\n",
    "$$"
   ]
  },
  {
   "cell_type": "markdown",
   "id": "8d36c9cd",
   "metadata": {
    "direction": "rtl"
   },
   "source": [
    "<p style = \"font-family:B Nazanin;\">\n",
    "     به عنوان مثال تعداد حالت‌های انتخاب 3 مهره از بین 6 مهره برابر است با:\n",
    "</p>"
   ]
  },
  {
   "cell_type": "markdown",
   "id": "e01f5d22",
   "metadata": {},
   "source": [
    "$$\n",
    "C(6, 3) = \\frac{6!}{3!\\times3!} = 20\n",
    "$$"
   ]
  },
  {
   "cell_type": "markdown",
   "id": "c594011a",
   "metadata": {
    "direction": "rtl"
   },
   "source": [
    "<p style = \"font-family:B Nazanin;\">\n",
    "     مثال دیگر. از میان 4 مرد و 5 زن می‌خواهیم یک هیئت 3 نفره تشکیل دهیم. تعداد کل حالات ممکن برابر است با:\n",
    "</p>"
   ]
  },
  {
   "cell_type": "markdown",
   "id": "ad16c85b",
   "metadata": {},
   "source": [
    "$$\n",
    "\\left(\\begin{array}{c}9\\\\3\\end{array}\\right) = \\frac{9!}{6!\\times3!} = 84\n",
    "$$"
   ]
  },
  {
   "cell_type": "markdown",
   "id": "102844be",
   "metadata": {
    "direction": "rtl"
   },
   "source": [
    "<p style = \"font-family:B Nazanin;\">\n",
    "     مثال دیگر. از میان 10 مرد و 7 زن می‌خواهیم 5 نفر انتخاب کنیم که شامل 3 مرد و 2 زن باشد. پس باید از بین 10 مرد، 3 نفر و از بین 7 زن، 2 نفر را انتخاب کنیم. همچنین چون باید هم مرد و هم زن انتخاب کنیم و بین این دو حالت and وجود دارد، پس با استفاده از اصل ضرب تعداد کل حالات برابر است با حاصل‌ضرب این دو عدد. \n",
    "</p>"
   ]
  },
  {
   "cell_type": "markdown",
   "id": "955094be",
   "metadata": {},
   "source": [
    "$$\n",
    "\\left(\\begin{array}{c}10\\\\3\\end{array}\\right) \\times \\left(\\begin{array}{c}7\\\\2\\end{array}\\right) = \\frac{10!}{7! \\times 3!} \\times \\frac{7!}{5! \\times 2!} = 120 \\times 21 = 2520\n",
    "$$"
   ]
  },
  {
   "cell_type": "markdown",
   "id": "f6e4c5e2",
   "metadata": {
    "direction": "rtl"
   },
   "source": [
    "<p style = \"font-family:B Nazanin;\">\n",
    "    <b>اصل جایگشت:</b> تعداد راه‌هایی که می‌توانیم از یک مجموعه شامل عناصر مختلف، با در نظر گرفتن ترتیب انتخاب آن عناصر، یک زیرمجموعه بسازیم. اگر بخواهیم از میان یک مجموعه n عضوی، k عضو را به‌ترتیب انتخاب کنیم، تعداد کل حالات ممکن برابر است با: \n",
    "</p>"
   ]
  },
  {
   "cell_type": "markdown",
   "id": "b65c0856",
   "metadata": {},
   "source": [
    "$$\n",
    "P(n, k) = \\frac{n!}{(n-k)!}\n",
    "$$"
   ]
  },
  {
   "cell_type": "markdown",
   "id": "596adbf9",
   "metadata": {
    "direction": "rtl"
   },
   "source": [
    "<p style = \"font-family:B Nazanin;\">\n",
    "     به عنوان مثال، می‌خواهیم تعداد جایگشت‌های سه حرف a و b و c را پیدا کنیم. یعنی این سه حرف را به چه ترتیب‌هایی می‌توان کنار هم نوشت. همان طور که مشخص است می‌توان گفت که این سه حرف را به 6 صورت مختلف abc و acb و bac و bca و cab و cba کنار هم نوشت. با استفاده از فرمول نیز می‌توان گفت که می‌خواهیم از میان 3 حرف، 3 حرف را به ترتیب انتخاب کنیم:\n",
    "</p>"
   ]
  },
  {
   "cell_type": "markdown",
   "id": "82ae0394",
   "metadata": {},
   "source": [
    "$$\n",
    "P(3, 3) = \\frac{3!}{(3-3)!} = \\frac{3\\times2\\times1}{1} = 6\n",
    "$$"
   ]
  },
  {
   "cell_type": "markdown",
   "id": "95352fe4",
   "metadata": {
    "direction": "rtl"
   },
   "source": [
    "<p style = \"font-family:B Nazanin;\">\n",
    "     مثال دیگر. تعداد کلمات 7 حرفی که با استفاده از 7 حرف a, b, c, d, e, f, g بدون تکرار حروف می‌توان نوشت. برای حل این مثال هم می‌توان از اصل ضرب استفاده کرد به این صورت که برای حرف اول 7 حالت انتخاب داریم. چون تکرار نباید داشته باشیم، برای حرف دوم 6 حالت، حرف سوم 5 حالت و به همین ترتیب برای حرف هفتم 1 حالت انتخاب و تعداد کل کلمات ممکن برابر است با $7\\times6\\times5\\times4\\times3\\times2\\times1=7!$. هم می‌توان از اصل جایگشت استفاده کرد. به این صورت که می‌خواهیم از بین 7 حرف، 7 حرف را انتخاب کنیم و ترتیب نیز مهم است چون جایگاه حروف در کلمه مهم است و جایگاه هر حرف که عوض شود، کل کلمه عوض می‌شود. \n",
    "</p>"
   ]
  },
  {
   "cell_type": "markdown",
   "id": "51182b30",
   "metadata": {},
   "source": [
    "$$\n",
    "P(7, 7) = \\frac{7!}{(7-7)!} = 7!\n",
    "$$"
   ]
  },
  {
   "cell_type": "markdown",
   "id": "ed7914ea",
   "metadata": {
    "direction": "rtl"
   },
   "source": [
    "<p style = \"font-family:B Nazanin;\">\n",
    "     مثال دیگر. انتخاب رتبه‌های اول و دوم و سوم از بین 7 نفر. یعنی جایگشت 3 نفر از 7 نفر:\n",
    "</p>"
   ]
  },
  {
   "cell_type": "markdown",
   "id": "d5bc0d8a",
   "metadata": {},
   "source": [
    "$$\n",
    "P(7, 3) = \\frac{7!}{(7-3)!} = \\frac{7!}{4!} = 7\\times6\\times5 = 210\n",
    "$$"
   ]
  },
  {
   "cell_type": "markdown",
   "id": "9ec8bea8",
   "metadata": {
    "direction": "rtl"
   },
   "source": [
    "<p style = \"font-family:B Nazanin;\">\n",
    "    <b>مفاهیم اولیه احتمال:</b><br>\n",
    "    <b>فضای نمونه‌ای (S):</b> مجموعه تمام حالت‌هایی است که در یک آزمایش تصادفی اتفاق می‌افتد. مثلا وقتی یک نفر در یک آزمون شرکت می‌کند، فضای نمونه‌ای برابر است با قبول شدن یا رد شدن. یا وقتی دو تیم A و B با هم مسابقه می‌دهند، فضای نمونه‌ای می‌شود: برنده شدن A، برنده شدن B و مساوی شدن. چند مثال: <br>\n",
    "    فضای نمونه‌ای پرتاب یک سکه: شیر یا خط. S = {H, T} <br>\n",
    "    فضای نمونه‌ای پرتاب یک تاس: اعداد 1 تا 6. S = {1, 2, 3, 4, 5, 6} <br>\n",
    "    فضای نمونه‌ای داشتن سه فرزند: (G: دختر B: پسر) S = {GGG, GGB, GBG, GBB, BGG, BGB, BBG, BBB} یعنی n(S) = 8<br>\n",
    "    فضای نمونه‌ای پرتاب دو سکه: S = {HH, HT, TH, TT}<br>\n",
    "    فضای نمونه‌ای پرتاب یک سکه و یک تاس: S = {1H, 1T, 2H, 2T, 3H, 3T, 4H, 4T, 5H, 5T, 6H, 6T} <br>\n",
    "    فضای نمونه‌ای پرتاب دو تاس در صورتی که حاصل جمع دو عدد بیشتر از 9 باشد: S = {(4,6), (6,4), (5,5), (5,6), (6,5), (6,6)}<br>\n",
    "    <br>\n",
    "    <b>پیشامد (رویداد):</b> هر زیرمجموعه از فضای نمونه‌ای را پیشامد (رویداد) می‌گویند. <br>\n",
    "    مثال 1. اگر یک سکه را دو بار پرتاب کنیم: فضای نمونه‌ای S = {HH, HT, TT, TH} <br>\n",
    "    پیشامد اینکه اصلا شیر ظاهر نشود: A = {TT} <br>\n",
    "    پیشامد اینکه در پرتاب دوم خط ظاهر شود: B = {TT, HT} <br>\n",
    "    <br>\n",
    "    مثال 2. در یک خانواده سه نفره: S = {GGG, GGB, GBG, GBB, BGG, BGB, BBG, BBB}<br>\n",
    "    پیشامد اینکه فرزند اول پسر باشد: A = {BGG, BGB, BBG, BBB} <br>\n",
    "    پیشامد اینکه هر سه فرزند با یک جنسیت باشند: B = {GGG, BBB} <br>\n",
    "    پیشامد اینکه دو فرزند پشت سر هم با یک جنسیت باشند: C = {GGG, GGB, GBB, BBB, BGG, BBG} <br>\n",
    "    پیشامد اینکه هر سه فرزند پسر نباشند: D = {GGG, GGB, GBG, GBB, BGG, BGB, BBG} <br>\n",
    "    <br>\n",
    "    <b>احتمال:</b> شانس وقوع یک پیشامد را احتمال آن پیشامد می‌گویند. احتمال همیشه عددی بین صفر و یک است که برابر است با نسبت تعداد اعضای آن پیشامد تقسیم بر تعداد کل اعضای فضای نمونه. یا به عبارتی دیگر نسبت تعداد حالات مطلوب به تعداد کل حالات ممکن. پس اگر S فضای نمونه‌ای و A یک پیشامد باشد، احتمال وقوع پیشامد A برابر است با $$P(A) = \\frac{n(A)}{n(S)}$$ چند مثال: <br>\n",
    "    مثال 1. در پرتاب یک تاس: $S = \\{1, 2, 3, 4, 5, 6\\}\\rightarrow n(S) = 6$<br>\n",
    "    احتمال اینکه عدد 5 بیاید. \n",
    "</p>"
   ]
  },
  {
   "cell_type": "markdown",
   "id": "60a7390c",
   "metadata": {},
   "source": [
    "$$\n",
    "A = \\{5\\} \\rightarrow n(A) = 1 \\rightarrow P(A) = \\frac{n(A)}{n(S)} = \\frac{1}{6}\n",
    "$$"
   ]
  },
  {
   "cell_type": "markdown",
   "id": "1f478501",
   "metadata": {
    "direction": "rtl"
   },
   "source": [
    "<p style = \"font-family:B Nazanin;\">\n",
    "     احتمال اینکه عدد زوج باشد: \n",
    "</p>"
   ]
  },
  {
   "cell_type": "markdown",
   "id": "25f2d82d",
   "metadata": {},
   "source": [
    "$$\n",
    "B = \\{2, 4, 6\\} \\rightarrow n(B) = 3 \\rightarrow P(B) = \\frac{3}{6} = \\frac{1}{2}\n",
    "$$"
   ]
  },
  {
   "cell_type": "markdown",
   "id": "16345f47",
   "metadata": {
    "direction": "rtl"
   },
   "source": [
    "<p style = \"font-family:B Nazanin;\">\n",
    "     احتمال اینکه عدد اول باشد:\n",
    "</p>"
   ]
  },
  {
   "cell_type": "markdown",
   "id": "a99c9772",
   "metadata": {},
   "source": [
    "$$\n",
    "C = \\{2, 3, 5\\} \\rightarrow n(C) = 3 \\rightarrow P(C) = \\frac{3}{6} = \\frac{1}{2}\n",
    "$$"
   ]
  },
  {
   "cell_type": "markdown",
   "id": "02d52704",
   "metadata": {
    "direction": "rtl"
   },
   "source": [
    "<p style = \"font-family:B Nazanin;\">\n",
    "     مثال 2. برای یک خانواده سه نفری: $S = \\{GGG, GGB, GBG, GBB, BGG, BGB, BBG, BBB\\} \\rightarrow n(S) = 8$ <br>\n",
    "    احتمال اینکه هر سه فرزند از یک جنسیت باشند: \n",
    "</p>"
   ]
  },
  {
   "cell_type": "markdown",
   "id": "3eb8bd3d",
   "metadata": {},
   "source": [
    "$$\n",
    "A = \\{GGG, BBB\\} \\rightarrow n(A) = 2 \\rightarrow P(A) = \\frac{2}{8} = \\frac{1}{4} = 25\\%\n",
    "$$"
   ]
  },
  {
   "cell_type": "markdown",
   "id": "03a222c1",
   "metadata": {
    "direction": "rtl"
   },
   "source": [
    "<p style = \"font-family:B Nazanin;\">\n",
    "     احتمال اینکه فقط یکی از فرزندان پسر باشد:\n",
    "</p>"
   ]
  },
  {
   "cell_type": "markdown",
   "id": "25eafd3a",
   "metadata": {},
   "source": [
    "$$\n",
    "B = \\{GGB, GBG, BGG\\} \\rightarrow n(B) = 3 \\rightarrow P(B) = \\frac{3}{8}\n",
    "$$"
   ]
  },
  {
   "cell_type": "markdown",
   "id": "6ea73918",
   "metadata": {
    "direction": "rtl"
   },
   "source": [
    "<p style = \"font-family:B Nazanin;\">\n",
    "     احتمال اینکه حداقل یکی از فرزندان دختر باشد:\n",
    "</p>"
   ]
  },
  {
   "cell_type": "markdown",
   "id": "aaefb77a",
   "metadata": {},
   "source": [
    "$$\n",
    "D = \\{GGG, GGB, GBG, GBB, BGG, BGB, BBG\\} \\rightarrow n(D) = 7 \\rightarrow P(D) = \\frac{7}{8}\n",
    "$$"
   ]
  },
  {
   "cell_type": "markdown",
   "id": "20a17e3e",
   "metadata": {
    "direction": "rtl"
   },
   "source": [
    "<p style = \"font-family:B Nazanin;\">\n",
    "     مثال 3. در پرتاب دو تاس: $n(S) = 36$ <br>\n",
    "    احتمال اینکه مجموع دو عدد بیشتر از 8 باشد: \n",
    "</p>"
   ]
  },
  {
   "cell_type": "markdown",
   "id": "42e27ad5",
   "metadata": {},
   "source": [
    "$$\n",
    "A = \\{(4,5), (5,4), (5,5), (4,6), (6,4), (5,6), (6,5), (6,6)\\} \\rightarrow n(A) = 8 \\rightarrow P(A) = \\frac{8}{36} = \\frac{2}{9}\n",
    "$$"
   ]
  },
  {
   "cell_type": "markdown",
   "id": "84d34839",
   "metadata": {
    "direction": "rtl"
   },
   "source": [
    "<p style = \"font-family:B Nazanin;\">\n",
    "     احتمال اینکه ضرب دو عدد 10 باشد:\n",
    "</p>"
   ]
  },
  {
   "cell_type": "markdown",
   "id": "20598fbc",
   "metadata": {},
   "source": [
    "$$\n",
    "B = \\{(2,5), (5,2)\\} \\rightarrow n(B) = 2 \\rightarrow P(B) = \\frac{2}{36}\n",
    "$$"
   ]
  },
  {
   "cell_type": "markdown",
   "id": "3256d176",
   "metadata": {
    "direction": "rtl"
   },
   "source": [
    "<p style = \"font-family:B Nazanin;\">\n",
    "     احتمال اینکه دو عدد برابر باشند:\n",
    "</p>"
   ]
  },
  {
   "cell_type": "markdown",
   "id": "b2252095",
   "metadata": {},
   "source": [
    "$$\n",
    "C = \\{(1,1), (2,2), (3,3), (4,4), (5,5), (6,6)\\} \\rightarrow n(C) = 6 \\rightarrow P(C) = \\frac{6}{36} = \\frac{1}{6}\n",
    "$$"
   ]
  },
  {
   "cell_type": "markdown",
   "id": "1e9b07e9",
   "metadata": {
    "direction": "rtl"
   },
   "source": [
    "<p style = \"font-family:B Nazanin;\">\n",
    "    <b>احتمال شرطی:</b> احتمال شرطی به احتمال وقوع یک پیشامد به شرط وقوع یک پیشامد دیگر می‌گویند. یعنی احتمال A به شرط B یا $P(A|B)$ یعنی احتمال وقوع پیشامد A در حالی که می‌دانیم پیشامد B رخ داده‌است. در این حالت فرمول محاسبه احتمال به این صورت تغییر می‌کند که احتمال برابر است با تعداد حالاتی که هر دو پیشامد A و B همزمان رخ دهند (اشتراک پیشامد A و B) تقسیم بر تعداد حالات پیشامد B.\n",
    "</p>"
   ]
  },
  {
   "cell_type": "markdown",
   "id": "5e1e6c8c",
   "metadata": {},
   "source": [
    "$$\n",
    "P(A|B) = \\frac{n(A\\cap B)}{n(B)} = \\frac{P(A \\cap B)}{P(B)}\n",
    "$$"
   ]
  },
  {
   "cell_type": "markdown",
   "id": "56f3ee9a",
   "metadata": {
    "direction": "rtl"
   },
   "source": [
    "<p style = \"font-family:B Nazanin;\">\n",
    "     به عنوان مثال اگر بگوییم یک مشتری یک روز از ماه را به مغازه‌ای می‌آید. احتمال اینکه این مشتری به مغازه بیاید $\\frac{1}{30}$ است چون ماه 30 روز دارد. اما اگر بدانیم در طول ماه مغازه 10 روز تعطیل است، احتمال آمدن این مشتری به مغازه $\\frac{1}{20}$ می‌شود. چند مثال: <br>\n",
    "    مثال 1. در پرتاب دو تاس می‌دانیم حاصل جمع دو عدد 8 است. احتمال اینکه هر دو عدد زوج باشد چقدر است؟ <br>\n",
    "    روش اول)\n",
    "</p>"
   ]
  },
  {
   "cell_type": "markdown",
   "id": "b263490a",
   "metadata": {},
   "source": [
    "$$\n",
    "S = \\{(4,4), (3,5), (5,3), (2,6), (6,2)\\} , A = \\{(4,4), (6,2), (2,6)\\} \\rightarrow P(A) = \\frac{3}{5}\n",
    "$$"
   ]
  },
  {
   "cell_type": "markdown",
   "id": "df8aa3ed",
   "metadata": {
    "direction": "rtl"
   },
   "source": [
    "<p style = \"font-family:B Nazanin;\">\n",
    "     روش دوم) فضای نمونه $n(S) = 36$ و پیشامد A پیشامد این است که هر دو عدد زوج باشد و پیشامد B پیشامد این است که حاصل جمع دو عدد 8 باشد , $A \\cap B$ پیشامد این است که هم مجموع دو عدد 8 باشد و هم هر دو عدد زوج باشد:\n",
    "</p>"
   ]
  },
  {
   "cell_type": "markdown",
   "id": "c25660c3",
   "metadata": {},
   "source": [
    "$$\n",
    "A = \\{(2,2), (2,4), (2,6), (4,2), (4,4), (4,6), (6,2), (6,4), (6,6)\\} \\rightarrow n(A) = 9 \\\\\n",
    "B = \\{(3,5), (5,3), (4,4), (2,6), (6,2)\\} \\rightarrow n(B) = 5 \\\\\n",
    "A \\cap B = \\{(4,4), (6,2), (2,6)\\} \\rightarrow n(A \\cap B) = 3 \\\\\n",
    "P(A|B) = \\frac{n(A\\cap B)}{n(B)} = \\frac{3}{5}\n",
    "$$"
   ]
  },
  {
   "cell_type": "markdown",
   "id": "23730dc1",
   "metadata": {
    "direction": "rtl"
   },
   "source": [
    "<p style = \"font-family:B Nazanin;\">\n",
    "     مثال 2. در یک خانواده دو فرزندی، اگر بدانیم هر دو فرزند پسر نیستند، احتمال اینکه یکی پسر و یکی دختر باشند چند است؟\n",
    "</p>"
   ]
  },
  {
   "cell_type": "markdown",
   "id": "fd85c61e",
   "metadata": {},
   "source": [
    "$$\n",
    "B = \\{GG, GB, BG\\} , A = \\{BG, GB\\} \\rightarrow n(B) = 3 , n(A \\cap B) = 2 \\rightarrow P(A|B) = \\frac{2}{3}\n",
    "$$"
   ]
  },
  {
   "cell_type": "markdown",
   "id": "3eb889f7",
   "metadata": {
    "direction": "rtl"
   },
   "source": [
    "<p style = \"font-family:B Nazanin;\">\n",
    "     مثال 3. کیسه‌ای دارای دو مهره سیاه و سه مهره سفید است. از آن دو مهره خارج می‌کنیم. اگر بدانیم دو مهره همرنگ هستند، احتمال اینکه هر دو مهره سفید باشند چقدر است؟ در اینجا کل حالات ممکن که دو مهره همرنگ باشند برابر است با اینکه یا دو مهره سفید باشند یعنی ترکیب 2 از 3 یعنی $\\left(\\begin{array}{c}3\\\\2\\end{array}\\right)$ یا دو مهره سیاه باشند یعنی ترکیب 2 از 2 یا $\\left(\\begin{array}{c}2\\\\2\\end{array}\\right)$ و تعداد حالات مطلوب برابر است با اینکه هر دو مهره سفید باشند یعنی ترکیب 2 از 3 یا $\\left(\\begin{array}{c}3\\\\2\\end{array}\\right)$.\n",
    "</p>"
   ]
  },
  {
   "cell_type": "markdown",
   "id": "8c9ab805",
   "metadata": {},
   "source": [
    "$$\n",
    "P(A|B) = \\frac{\\left(\\begin{array}{c}3\\\\2\\end{array}\\right)}{\\left(\\begin{array}{c}3\\\\2\\end{array}\\right) + \\left(\\begin{array}{c}2\\\\2\\end{array}\\right)} = \\frac{3}{3+1} = \\frac{3}{4}\n",
    "$$"
   ]
  },
  {
   "cell_type": "markdown",
   "id": "8aef59fe",
   "metadata": {
    "direction": "rtl"
   },
   "source": [
    "<p style = \"font-family:B Nazanin;\">\n",
    "    <b>پیشامدهای سازگار و ناسازگار:</b> اگر اشتراک دو پیشامد A و B، تهی باشد ($A \\cap B = \\emptyset$) به آن دو پیشامد، ناسازگار می‌گویند؛ یعنی امکان ندارد این دو پیشامد با هم و همزمان اتفاق بیفتد. مثلا در یک خانواده سه فرزندی، پیشامد اینکه فرزند اول پسر باشد و پیشامد اینکه هر سه فرزند دختر باشند، ناسازگار است. <br>\n",
    "    مثال 1. در یک خانواده سه فرزندی، پیشامد A این است که فرزند اول و دوم متفاوت باشند. پیشامد B این است که حداقل دو فرزند دختر باشند و پیشامد C این است که سه فرزند دختر باشند. \n",
    "</p>"
   ]
  },
  {
   "cell_type": "markdown",
   "id": "b747e611",
   "metadata": {},
   "source": [
    "$$\n",
    "A = \\{BGG, BGB, GBG, GBB\\},\\quad\n",
    "B = \\{GGG, GGB, GBG, BGG\\},\\quad \n",
    "C = \\{GGG\\} \\\\\n",
    "\\rightarrow\n",
    "A \\cap B = \\{BGG, GBG\\} \\neq \\emptyset, \\quad\n",
    "A \\cap C = \\emptyset, \\quad\n",
    "B \\cap C = \\{GGG\\} \\neq \\emptyset\n",
    "$$"
   ]
  },
  {
   "cell_type": "markdown",
   "id": "4f65f835",
   "metadata": {
    "direction": "rtl"
   },
   "source": [
    "<p style = \"font-family:B Nazanin;\">\n",
    "    بنابراین پیشامدهای A و B سازگار، پیشامدهای A و C ناسازگار و پیشامدهای B و C سازگارند. <br>\n",
    "    <br>\n",
    "    <b>پیشامدهای مستقل و وابسته:</b> اگر بودن یا نبودن یک پیشامد در یک پیشامد دیگر تاثیر بگذارد، به آن دو پیشامد وابسته می‌گویند. یعنی اتفاق افتادن یک پیشامد تحت تاثیر اتفاق افتادن یک پیشامد دیگر است. اما اگر پیشامدها ربطی به هم نداشتند و روی هم اثری نمی‌گذاشتند، به آن‌ها مستقل می‌گویند. مثلا در تولد فرزندان یک خانواده، پسر یا دختر بودن فرزند اول، روی پسر یا دختر بودن فرزند دوم تاثیری ندارد. پس این دو پیشامد مستقل هستند. برای بررسی مستقل یا وابسته بودن دو پیشامد می‌توانیم از فرمول زیر استفاده کنیم. دو پیشامد زمانی نسبت به هم مستقل هستند که احتمال اشتراک آن دو پیشامد با حاصل‌ضرب احتمال آن دو پیشامد برابر باشد. \n",
    "</p>"
   ]
  },
  {
   "cell_type": "markdown",
   "id": "920d13b8",
   "metadata": {},
   "source": [
    "$$\n",
    "P(A \\cap B) = P(A) \\times P(B) \\quad\\therefore\\quad Independent\n",
    "$$"
   ]
  },
  {
   "cell_type": "markdown",
   "id": "1e25fa31",
   "metadata": {
    "direction": "rtl"
   },
   "source": [
    "<p style = \"font-family:B Nazanin;\">\n",
    "    مثال 1. در پرتاب دو تاس، پیشامد A مشاهده عدد 3 در تاس اول و پیشامد B مجموع 7 برای دو تاس است. با توجه به محاسبات زیر دو پیشامد مستقل هستند.\n",
    "</p>"
   ]
  },
  {
   "cell_type": "markdown",
   "id": "a1864d29",
   "metadata": {},
   "source": [
    "$\n",
    "n(S) = 36\\\\\n",
    "A = \\{(3,1), (3,2), (3,3), (3,4), (3,5), (3,6)\\} \\quad \\rightarrow n(A) = 6 \\quad \\rightarrow P(A) = \\frac{1}{6}\\\\\n",
    "B = \\{(3,4), (4,3), (5,2), (2,5), (6,1), (1,6)\\} \\quad \\rightarrow n(B) = 6 \\quad \\rightarrow P(B) = \\frac{1}{6}\\\\\n",
    "A \\cap B = \\{(3,4)\\} \\quad \\rightarrow n(A\\cap B) = 1 \\quad \\rightarrow P(A\\cap B) = \\frac{1}{36} \\\\\n",
    "P(A\\cap B) = P(A) \\times P(B)\n",
    "$"
   ]
  },
  {
   "cell_type": "markdown",
   "id": "475182ae",
   "metadata": {
    "direction": "rtl"
   },
   "source": [
    "<p style = \"font-family:B Nazanin;\">\n",
    "    مثال 2. یک سکه را سه بار پرتاب می‌کنیم. پیشامد A مشاهده خط در پرتاب دوم و پیشامد B مشاهده فقط دو بار شیر در پرتاب‌های متوالی است. با توجه به محاسبات زیر، دو پیشامد وابسته هستند.\n",
    "</p>"
   ]
  },
  {
   "cell_type": "markdown",
   "id": "3d2e6c9f",
   "metadata": {},
   "source": [
    "$\n",
    "n(S) = 8\\\\\n",
    "A = \\{TTT, TTH, HTH, HTT\\} \\quad \\rightarrow n(A) = 4 \\quad \\rightarrow P(A) = \\frac{1}{2}\\\\\n",
    "B = \\{HHT, THH, HTH\\} \\quad \\rightarrow n(B) = 3 \\quad \\rightarrow P(B) = \\frac{3}{8}\\\\\n",
    "A \\cap B = \\{HTH\\} \\quad \\rightarrow n(A\\cap B) = 1 \\quad \\rightarrow P(A\\cap B) = \\frac{1}{8} \\\\\n",
    "P(A\\cap B) \\neq P(A) \\times P(B)\n",
    "$"
   ]
  },
  {
   "cell_type": "markdown",
   "id": "88bcdace",
   "metadata": {
    "direction": "rtl"
   },
   "source": [
    "<p style = \"font-family:B Nazanin;\">\n",
    "    معمولا کار با فضاهای نمونه‌ای سخت است. چون هر کدام حالات زیادی دارند که باید با آن‌ها کار کنیم. اما اگر بتوانیم این فضای نمونه‌ای را به اعداد تبدیل کنیم تا روی آن‌ها محاسبات انجام دهیم، کار بسیار ساده‌تر می‌شود. <br>\n",
    "    <b>متغیر تصادفی:</b> تابعی است که یک فضای نمونه‌ای را به مجموعه‌ای از اعداد حقیقی نگاشت می‌دهد (اعضای فضای نمونه‌ای را به مجموعه اعداد حقیقی نسبت می‌دهد). یعنی $X: S \\rightarrow R$. متغیر تصادفی کمک می‌کند که فضاهای نمونه‌ای به فضاهای عددی تبدیل شوند. مثال: فضای نمونه‌ای پرتاب دو سکه به صورت زیر است: \n",
    "</p>"
   ]
  },
  {
   "cell_type": "markdown",
   "id": "0387f1ff",
   "metadata": {},
   "source": [
    "$\n",
    "S = \\{HH, HT, TH, TT\\}\n",
    "$"
   ]
  },
  {
   "cell_type": "markdown",
   "id": "bdec3533",
   "metadata": {
    "direction": "rtl"
   },
   "source": [
    "<p style = \"font-family:B Nazanin;\">\n",
    "    فرض کنید می‌خواهیم پیشامد رخ دادن دو شیر را بررسی کنیم. ما می‌توانیم در هر عضو غضای نمونه‌ای تعداد شیرها (H) را بشماریم و می‌بینیم که یک فضای نمونه‌ای پیدا کردیم که شامل اعداد 0 و 1 و 2 است. $S = \\{0, 1, 2\\}$. <br>\n",
    "    اگر فرض کنیم که X یا متغیر تصادفی، تابعی است که تعداد شیرها را می‌شمارد:\n",
    "</p>"
   ]
  },
  {
   "cell_type": "markdown",
   "id": "6fb425ef",
   "metadata": {},
   "source": [
    "$\n",
    "X(HH) = 2\\\\\n",
    "X(TH) = 1\\\\\n",
    "X(HT) = 1\\\\\n",
    "X(TT) = 0\n",
    "$"
   ]
  },
  {
   "cell_type": "markdown",
   "id": "2d64befa",
   "metadata": {
    "direction": "rtl"
   },
   "source": [
    "<p style = \"font-family:B Nazanin;\">\n",
    "    از این به بعد محاسباتمان را می‌توانیم روی این متغیر تصادفی انجام دهیم که بسیار ساده‌تر است نسبت به فضای نمونه‌ای اصلی. <br>\n",
    "    <b>متغیر تصادفی گسسته (Discrete Random Variable):</b> اگر مقادیر متغیر تصادفی گسسته باشد، یه به عبارت دیگر این اعداد متناهی یا نامتناهی شمارش‌پذیر باشد، به آن متغیر تصادفی گسسته می‌گویند. <br>\n",
    "    <b>متغیر تصادفی پیوسته (Continous Random Variable):</b> اگر مقادیر متغیر تصادفی پیوسته (مجموعه نامتناهی) باشد، به آن متغیر تصادفی پیوسته گویند. <br>\n",
    "    <br>\n",
    "    مثال 1. اگر چهار سکه را با هم پرتاب کنیم، پیشامد رخ دادن خط را بررسی کرده و مقادیر ممکن برای متغیر تصادفی را مشخص کنید.\n",
    "</p>"
   ]
  },
  {
   "cell_type": "markdown",
   "id": "69b98707",
   "metadata": {},
   "source": [
    "$\n",
    "S = \\{HHHH,\\\\\n",
    "    THHH, HTHH, HHTH, HHHT,\\\\\n",
    "    TTHH, THTH, THHT, HTHT, HTTH, HHTT,\\\\\n",
    "    TTTH, TTHT, THTT, HTTT,\\\\\n",
    "    TTTT\\}\\\\\n",
    "X: S \\rightarrow \\{0, 1, 2, 3, 4\\}\n",
    "$"
   ]
  },
  {
   "cell_type": "markdown",
   "id": "8e304278",
   "metadata": {
    "direction": "rtl"
   },
   "source": [
    "<p style = \"font-family:B Nazanin;\">\n",
    "    مثال 2. در یک خانواده چهار فرزندی، اگر تعداد پسران را به عنوان متغیر تصادفی در نظر بگیریم، مقادیر ممکن برای این متغیر تصادفی را بنویسید. <br>\n",
    "</p>"
   ]
  },
  {
   "cell_type": "markdown",
   "id": "960c9e88",
   "metadata": {},
   "source": [
    "$\n",
    "X: S \\rightarrow \\{0, 1, 2, 3\\}\n",
    "$"
   ]
  },
  {
   "cell_type": "markdown",
   "id": "c8bbd56c",
   "metadata": {
    "direction": "rtl"
   },
   "source": [
    "<p style = \"font-family:B Nazanin;\">\n",
    "    هر دو مثال بالا ارز نوع متغیر تصادفی گسسته هستند. <br>\n",
    "    <br>\n",
    "    <b>تابع احتمال f(X) یا P(X):</b> اگر تابعی وجود داشته باشد که مشخص کنید که متغیر تصادفی چه مقادیری را اختیار می‌کند و هر کدام چه احتمالی دارد، به آن تابع تابع احتمال می‌گویند. به عنوان مثال در مثال پرتاب چهار سکه: \n",
    "</p>"
   ]
  },
  {
   "cell_type": "markdown",
   "id": "a5fb6ef2",
   "metadata": {},
   "source": [
    "$\n",
    "P(X = 0) = \\frac{1}{16}\n",
    "$"
   ]
  },
  {
   "cell_type": "markdown",
   "id": "6af49aff",
   "metadata": {
    "direction": "rtl"
   },
   "source": [
    "<p style = \"font-family:B Nazanin;\">\n",
    "    تابع احتمال دو شرط اساسی دارد: اول اینکه مقدار تابع به ازای هر کدام از مقادیر ممکن، بین صفر و یک است. دوم اینکه مجموع مقادیر تابع به ازای همه اعداد ممکن برابر یک است.\n",
    "</p>"
   ]
  },
  {
   "cell_type": "markdown",
   "id": "6b688e3e",
   "metadata": {},
   "source": [
    "$\n",
    "\\left\\{\n",
    "\\begin{array}\n",
    "0 \\le P(X) \\le 1 \\\\\n",
    "Discrete: \\sum\\limits_X^{}{P(X)} = 1 \\\\\n",
    "Continous: \\int\\limits_X^{}P(X)dX = 1\n",
    "\\end{array}\n",
    "\\right.\n",
    "$"
   ]
  },
  {
   "cell_type": "markdown",
   "id": "81887603",
   "metadata": {
    "direction": "rtl"
   },
   "source": [
    "<p style = \"font-family:B Nazanin;\">\n",
    "    به تابع احتمال در حالت گسسته،‌تابع جرم احتمال (Probability Mass Function) و در حالت پیوسته، تابع چگالی احتمال (Probability Density Function) می‌گویند. تابع احتمال گسسته یا همان تابع جرم احتمال را به صورت جدولی نیز می‌توان نشان داد چون تعداد مقادیر آن محدود است. علاوه بر آن این تابع را به صورت تابع چندضابطه‌ای نیز نشان می‌دهند. <br>\n",
    "    مثال. اگر سه سکه را پرتاب کنیم، پیشامد رخ دادن شیر را بررسی کرده و تابع احتمال، امید ریاضی و واریانس را به‌دست آورید.\n",
    "</p>"
   ]
  },
  {
   "cell_type": "markdown",
   "id": "43493d26",
   "metadata": {},
   "source": [
    "$\n",
    "S = \\{HHH, THH, HTH, HHT, TTH, THT, HTT, TTT\\} \\rightarrow X = \\{0, 1, 2, 3\\}\\\\\n",
    "P(X = x) = \\left\\{\n",
    "\\begin{array}{l}\n",
    "\\frac{1}{8} \\quad x = 0, 3\\\\\n",
    "\\frac{3}{8} \\quad x = 1, 2\n",
    "\\end{array}\n",
    "\\right.\\\\\n",
    "$\n",
    "یا به صورت جدولی \n",
    "<table border=\"1\">\n",
    "    <tr>\n",
    "        <th>x</th>\n",
    "        <th>0</th>\n",
    "        <th>1</th>\n",
    "        <th>2</th>\n",
    "        <th>3</th>\n",
    "    </tr>\n",
    "    <tr>\n",
    "        <td>P(X=x)</td>\n",
    "        <td>1/8</td>\n",
    "        <td>3/8</td>\n",
    "        <td>3/8</td>\n",
    "        <td>1/8</td>\n",
    "    </tr>\n",
    "</table>"
   ]
  },
  {
   "cell_type": "markdown",
   "id": "c5b543ad",
   "metadata": {
    "direction": "rtl"
   },
   "source": [
    "<p style = \"font-family:B Nazanin;\">\n",
    "    <b>امید ریاضی (Expected Value):</b> همان میانگین یا مقدار مورد انتظار است. به عبارت دیگر با توجه به اینکه متغیر تصادفی ما چه مقادیری دارد و هر کدام چه احتمالی دارند، مقدار محتمل این پیشامد چقدر است که طریقه محاسبه آن همان طریقه محاسبه میانگین وزن‌دار است که مقادیر ما همان مقادیر متغیر تصادفی و وزن‌ها همان احتمالات آن‌هاست. به امید ریاضی، گشتاور مرتبه اول نیز می‌گویند. \n",
    "</p>"
   ]
  },
  {
   "cell_type": "markdown",
   "id": "afe26486",
   "metadata": {},
   "source": [
    "$$\n",
    "E(x) = \\sum{xP(x)}\n",
    "$$"
   ]
  },
  {
   "cell_type": "markdown",
   "id": "702afcb4",
   "metadata": {
    "direction": "rtl"
   },
   "source": [
    "<p style = \"font-family:B Nazanin;\">\n",
    "    در مثال پرتاب سه سکه و پیشامد رخ دادن شیر، داریم:\n",
    "</p>"
   ]
  },
  {
   "cell_type": "markdown",
   "id": "f83ee828",
   "metadata": {},
   "source": [
    "<table border=\"1\">\n",
    "    <tr>\n",
    "        <th>x</th>\n",
    "        <th>0</th>\n",
    "        <th>1</th>\n",
    "        <th>2</th>\n",
    "        <th>3</th>\n",
    "    </tr>\n",
    "    <tr>\n",
    "        <td>P(x)</td>\n",
    "        <td>1/8</td>\n",
    "        <td>3/8</td>\n",
    "        <td>3/8</td>\n",
    "        <td>1/8</td>\n",
    "    </tr>\n",
    "    <tr>\n",
    "        <td>xP(x)</td>\n",
    "        <td>0</td>\n",
    "        <td>3/8</td>\n",
    "        <td>6/8</td>\n",
    "        <td>3/8</td>\n",
    "    </tr>\n",
    "</table>\n",
    "\n",
    "$\n",
    "E(x) = 0 + \\frac{3}{8} + \\frac{6}{8} + \\frac{3}{8} = \\frac{12}{8} = 1.5\n",
    "$"
   ]
  },
  {
   "cell_type": "markdown",
   "id": "6220666f",
   "metadata": {
    "direction": "rtl"
   },
   "source": [
    "<p style = \"font-family:B Nazanin;\">\n",
    "    یعنی امید ریاضی یا مقدار مورد انتظار برای آمدن شیر در پرتاب سه سکه، 1.5 بار است. اما 1.5 بار شیر آمدن به نظر منطقی نمی‌آید. اما این به این معنی است که اگر ما بارها و بارها سه سکه را پرتاب کنیم و هر بار تعداد شیر آمدن را بنویسیم و در نهایت میانگین بگیریم، این میانگین برابر با 1.5 خواهد بود. <br>\n",
    "    چند فرمول:\n",
    "</p>"
   ]
  },
  {
   "cell_type": "markdown",
   "id": "c92a4d9e",
   "metadata": {},
   "source": [
    "$$\n",
    "E(x) = \\sum{xP(x)}\\\\\n",
    "E(g(x)) = \\sum{g(x)P(x)} \\rightarrow E(x^2) = \\sum{x^2 P(x)} \\\\\n",
    "E(ax+b) = aE(x)+b\n",
    "$$"
   ]
  },
  {
   "cell_type": "markdown",
   "id": "ef761af3",
   "metadata": {
    "direction": "rtl"
   },
   "source": [
    "<p style = \"font-family:B Nazanin;\">\n",
    "    <b>واریانس (Variance):</b> معیار پراکندگی است یا همان متوسط مجذور انحراف از میانگین. \n",
    "</p>"
   ]
  },
  {
   "cell_type": "markdown",
   "id": "7f942f1a",
   "metadata": {},
   "source": [
    "$$\n",
    "\\sigma^2 = Var(x) = \\frac{\\sum{(x_i-\\mu)^2}}{N} = E(x^2)-(E(x))^2\n",
    "$$"
   ]
  },
  {
   "cell_type": "markdown",
   "id": "995b9d3c",
   "metadata": {
    "direction": "rtl"
   },
   "source": [
    "<p style = \"font-family:B Nazanin;\">\n",
    "    <b>انحراف استاندارد (Standard Deviation):</b> یا انحراف معیار که همان جذر واریانس است. انحراف معیار وابسته به واحد اندازه‌گیری است و واحد آن همان واحد امید ریاضی یا میانگین است. مزیت انحراف معیار نسبت به واریانس این است که واحد واریانس توان دوم واحد میانگین است و نمی‌توان با آن مقایسه کرد. پس جذر آن را محاسبه می‌کنیم و انحراف معیار را حساب می‌کنیم تا واحد آن با داده‌های اصلی و میانگین یکسان شود و بتوان با آن‌ها مقایسه کرد.\n",
    "</p>"
   ]
  },
  {
   "cell_type": "markdown",
   "id": "370c8af5",
   "metadata": {},
   "source": [
    "$$\n",
    "\\sigma = \\sqrt{Var(x)} = \\sqrt{\\frac{\\sum{(x_i-\\mu)^2}}{N}}\n",
    "$$"
   ]
  },
  {
   "cell_type": "markdown",
   "id": "bdb8019a",
   "metadata": {
    "direction": "rtl"
   },
   "source": [
    "<p style = \"font-family:B Nazanin;\">\n",
    "    <b>ضریب تغییرات (Coefficient of Variation):</b> مشکل اصلی انحراف معیار نیز این است که وابسته به واحد اندازه‌گیری داده‌های اصلی است. برای این که این وابستگی از بین برود، کمیت جدیدی تعریف شده‌است. ضریب تغییرات برابر است با نسبت انحراف معیار به میانگین داده‌ها. این کمیت بدون واحد است و واحد اندازه‌گیری داده‌های اصلی هرچه باشد، این کمیت تغییری نمی‌کند.\n",
    "</p>"
   ]
  },
  {
   "cell_type": "markdown",
   "id": "d11ed895",
   "metadata": {},
   "source": [
    "$$\n",
    "C.V = \\frac{Standard\\,Deviation}{Mean\\,(Expected\\,Value)} = \\frac{\\sigma}{\\mu}\n",
    "$$"
   ]
  },
  {
   "cell_type": "markdown",
   "id": "3d550e06",
   "metadata": {
    "direction": "rtl"
   },
   "source": [
    "<p style = \"font-family:B Nazanin;\">\n",
    "        مثال. تعداد فروش یک کالای خاص و احتمال فروش آن در فروشگاهی به صورت جدول زیر است. امید ریاضی و واریانس آن را به دست آورید.\n",
    "</p>"
   ]
  },
  {
   "cell_type": "markdown",
   "id": "90034f8c",
   "metadata": {},
   "source": [
    "<table>\n",
    "    <tr>\n",
    "        <th>$x$</th>\n",
    "        <th>2</th>\n",
    "        <th>3</th>\n",
    "        <th>4</th>\n",
    "        <th>5</th>\n",
    "        <th>6</th>\n",
    "        <th>7</th>\n",
    "        <th>8</th>\n",
    "        <th>sum</th>\n",
    "    </tr>\n",
    "    <tr>\n",
    "        <td>p(x)</td>\n",
    "        <td>0.11</td>\n",
    "        <td>0.26</td>\n",
    "        <td>0.21</td>\n",
    "        <td>0.12</td>\n",
    "        <td>20</td>\n",
    "        <td>0.06</td>\n",
    "        <td>0.04</td>\n",
    "        <td>1</td>\n",
    "    </tr>\n",
    "    <tr>\n",
    "        <td>$x$p(x)</td>\n",
    "        <td>0.22</td>\n",
    "        <td>0.78</td>\n",
    "        <td>0.84</td>\n",
    "        <td>0.60</td>\n",
    "        <td>1.2</td>\n",
    "        <td>0.42</td>\n",
    "        <td>0.32</td>\n",
    "        <td>4.38</td>\n",
    "    </tr>\n",
    "    <tr>\n",
    "        <td>$x^2$p(x)</td>\n",
    "        <td>0.44</td>\n",
    "        <td>2.34</td>\n",
    "        <td>3.36</td>\n",
    "        <td>3</td>\n",
    "        <td>7.2</td>\n",
    "        <td>2.94</td>\n",
    "        <td>2.56</td>\n",
    "        <td>21.84</td>\n",
    "    </tr>\n",
    "</table>"
   ]
  },
  {
   "cell_type": "markdown",
   "id": "6e7a8015",
   "metadata": {},
   "source": [
    "$\n",
    "E(x) = \\sum{x.P(x)} = 0.22 + 0.78 + 0.84 + 0.60 + 1.2 + 0.42 + 0.32 \\rightarrow \\boxed{E(x) = 4.38} \\\\\n",
    "Var(x) = E(x^2) - (E(x))^2 = \\left(\\sum{x^2\\cdot P(x)}\\right) - \\left(\\sum{x\\cdot P(x)}\\right)^2 = 21.84 - 4.38^2 \\rightarrow \\boxed{\\sigma^2 = 2.65}\\\\\n",
    "\\sigma = \\sqrt{2.65} \\rightarrow \\boxed{\\sigma = 1.63}\\\\\n",
    "C.V = \\frac{\\sigma}{E(x)} = 1.63 \\div 4.38 \\rightarrow \\boxed{C.V = 0.37}\n",
    "$"
   ]
  },
  {
   "cell_type": "markdown",
   "id": "e47df94b",
   "metadata": {
    "direction": "rtl"
   },
   "source": [
    "<p style = \"font-family:B Nazanin;\">\n",
    "    مثال. در پرتاب دو تاس که متغیر تصادفی حاصل جمع دو عدد باشد، تابع احتمال و امید ریاضی را نشان دهید. <br>\n",
    "    فضای نمونه‌ای پرتاب دو تاس به صورت زیر است: (به صورت جدولی نشان داده شده‌است)\n",
    "</p>"
   ]
  },
  {
   "cell_type": "markdown",
   "id": "72047437",
   "metadata": {},
   "source": [
    "<table>\n",
    "    <tr>\n",
    "        <th></th>\n",
    "        <th>1</th>\n",
    "        <th>2</th>\n",
    "        <th>3</th>\n",
    "        <th>4</th>\n",
    "        <th>5</th>\n",
    "        <th>6</th>\n",
    "    </tr>\n",
    "    <tr>\n",
    "        <th>1</th>\n",
    "        <td>2</td>\n",
    "        <td>3</td>\n",
    "        <td>4</td>\n",
    "        <td>5</td>\n",
    "        <td>6</td>\n",
    "        <td>7</td>\n",
    "    </tr>\n",
    "    <tr>\n",
    "        <th>2</th>\n",
    "        <td>3</td>\n",
    "        <td>4</td>\n",
    "        <td>5</td>\n",
    "        <td>6</td>\n",
    "        <td>7</td>\n",
    "        <td>8</td>\n",
    "    </tr>\n",
    "    <tr>\n",
    "        <th>3</th>\n",
    "        <td>4</td>\n",
    "        <td>5</td>\n",
    "        <td>6</td>\n",
    "        <td>7</td>\n",
    "        <td>8</td>\n",
    "        <td>9</td>\n",
    "    </tr>\n",
    "    <tr>\n",
    "        <th>4</th>\n",
    "        <td>5</td>\n",
    "        <td>6</td>\n",
    "        <td>7</td>\n",
    "        <td>8</td>\n",
    "        <td>9</td>\n",
    "        <td>10</td>\n",
    "    </tr>\n",
    "    <tr>\n",
    "        <th>5</th>\n",
    "        <td>6</td>\n",
    "        <td>7</td>\n",
    "        <td>8</td>\n",
    "        <td>9</td>\n",
    "        <td>10</td>\n",
    "        <td>11</td>\n",
    "    </tr>\n",
    "    <tr>\n",
    "        <th>6</th>\n",
    "        <td>7</td>\n",
    "        <td>8</td>\n",
    "        <td>9</td>\n",
    "        <td>10</td>\n",
    "        <td>11</td>\n",
    "        <td>12</td>\n",
    "    </tr>\n",
    "</table>"
   ]
  },
  {
   "cell_type": "markdown",
   "id": "c3f7c433",
   "metadata": {
    "direction": "rtl"
   },
   "source": [
    "<p style = \"font-family:B Nazanin;\">\n",
    "    جدول توزیع فراوانی احتمال:\n",
    "</p>"
   ]
  },
  {
   "cell_type": "markdown",
   "id": "b80bdfac",
   "metadata": {},
   "source": [
    "<table>\n",
    "    <tr>\n",
    "        <th>مجموع دو عدد (X)</th>\n",
    "        <th>میزان فراوانی</th>\n",
    "        <th>احتمال (P(X))</th>\n",
    "    </tr>\n",
    "    <tr>\n",
    "        <td>2</td>\n",
    "        <td>1</td>\n",
    "        <td>1/36</td>\n",
    "    </tr>\n",
    "    <tr>\n",
    "        <td>3</td>\n",
    "        <td>2</td>\n",
    "        <td>2/36</td>\n",
    "    </tr>\n",
    "    <tr>\n",
    "        <td>4</td>\n",
    "        <td>3</td>\n",
    "        <td>3/36</td>\n",
    "    </tr>\n",
    "    <tr>\n",
    "        <td>5</td>\n",
    "        <td>4</td>\n",
    "        <td>4/36</td>\n",
    "    </tr>\n",
    "    <tr>\n",
    "        <td>6</td>\n",
    "        <td>5</td>\n",
    "        <td>5/36</td>\n",
    "    </tr>\n",
    "    <tr>\n",
    "        <td>7</td>\n",
    "        <td>6</td>\n",
    "        <td>6/36</td>\n",
    "    </tr>\n",
    "    <tr>\n",
    "        <td>8</td>\n",
    "        <td>5</td>\n",
    "        <td>5/36</td>\n",
    "    </tr>\n",
    "    <tr>\n",
    "        <td>9</td>\n",
    "        <td>4</td>\n",
    "        <td>4/36</td>\n",
    "    </tr>\n",
    "    <tr>\n",
    "        <td>10</td>\n",
    "        <td>3</td>\n",
    "        <td>3/36</td>\n",
    "    </tr>\n",
    "    <tr>\n",
    "        <td>11</td>\n",
    "        <td>2</td>\n",
    "        <td>2/36</td>\n",
    "    </tr>\n",
    "    <tr>\n",
    "        <td>12</td>\n",
    "        <td>1</td>\n",
    "        <td>1/36</td>\n",
    "    </tr>\n",
    "</table>"
   ]
  },
  {
   "cell_type": "markdown",
   "id": "ae7b79ed",
   "metadata": {
    "direction": "rtl"
   },
   "source": [
    "<p style = \"font-family:B Nazanin;\">\n",
    "   نمودار توزیع فراوانی احتمال \n",
    "</p>"
   ]
  },
  {
   "attachments": {
    "image.png": {
     "image/png": "[encoded data removed]"
    }
   },
   "cell_type": "markdown",
   "id": "a3de44bb",
   "metadata": {},
   "source": [
    "![image.png](attachment:image.png)"
   ]
  },
  {
   "cell_type": "markdown",
   "id": "83356270",
   "metadata": {},
   "source": [
    "$\n",
    "E(x) = \\sum{xP(x)} = 2\\times\\frac{1}{36} + 3\\times\\frac{2}{36} + \\dots + 12\\times\\frac{1}{36} = 7\n",
    "$"
   ]
  }
 ],
 "metadata": {
  "direction": "ltr",
  "kernelspec": {
   "display_name": "Python 3 (ipykernel)",
   "language": "python",
   "name": "python3"
  },
  "language_info": {
   "codemirror_mode": {
    "name": "ipython",
    "version": 3
   },
   "file_extension": ".py",
   "mimetype": "text/x-python",
   "name": "python",
   "nbconvert_exporter": "python",
   "pygments_lexer": "ipython3",
   "version": "3.11.2"
  }
 },
 "nbformat": 4,
 "nbformat_minor": 5
}
