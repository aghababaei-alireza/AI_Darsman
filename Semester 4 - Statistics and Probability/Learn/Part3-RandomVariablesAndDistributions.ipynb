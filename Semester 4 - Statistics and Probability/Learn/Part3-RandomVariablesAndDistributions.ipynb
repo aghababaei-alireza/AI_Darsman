{
 "cells": [
  {
   "cell_type": "markdown",
   "id": "5a7766df",
   "metadata": {
    "direction": "rtl"
   },
   "source": [
    "<span dir=\"rtl\" style=\"font-family:B Nazanin\" align=\"right\">\n",
    "    <h1>فصل چهارم: آمار و احتمالات</h1>\n",
    "    <h2>بخش سوم: متغیرهای تصادفی و توزیع‌های احتمال در علم داده</h2>\n",
    "</span>"
   ]
  },
  {
   "cell_type": "markdown",
   "id": "5c1b9afe",
   "metadata": {
    "direction": "rtl"
   },
   "source": [
    "<p style = \"font-family:B Nazanin;\">\n",
    "    در این فصل تعدادی از قوانین و اصول آماری (اصل شمارش) که در آینده برای محاسبه احتمالات و شمارش پدیده‌های آماری و ... استفاده می‌شود، بیان خواهد شد. <br>\n",
    "    <b>اصول شمارش:</b> <br>\n",
    "    اصولی هستند که برای شمارش حالت‌های اتفاق افتادن یک پدیده استفاده می‌شوند. شامل اصل ضرب، اصل جمع، ترکیب و جایگشت. <br>\n",
    "    <b>اصل ضرب:</b> <br>\n",
    "    اگر در انتخاب حالت‌ها اجباری وجود داشته باشد، یعنی حتما از یک سری حالت باید انتخاب صورت بگیرد و از یک سری دیگر هم باید انتخاب صورت بگیرد، پس تعداد حالت‌های انتخاب مورد اول باید در تعداد حالت‌های مورد دوم ضرب شود. مثلا فرض کنید که از شهر 1 می‌خواهیم به شهر 3 برویم و در این میان باید حتما از شهر 2 نیز بگذریم. اگر تعداد مسیرهایی که شهر 1 را به شهر 2 میرساند 3 حالت باشد (A, B, C) و تعداد مسیرهایی که شهر 2 را به شهر 3 میرساند 2 حالت باشد (D, E): \n",
    "</p>"
   ]
  },
  {
   "cell_type": "markdown",
   "id": "b50fa58f",
   "metadata": {},
   "source": [
    "$\\begin{matrix}\n",
    "&\\xrightarrow{A}&\\\\\n",
    "\\boxed{1}&\\xrightarrow{B}&\\boxed{2}&\\begin{matrix}\n",
    "\\xrightarrow{D}\\\\\n",
    "\\xrightarrow{E}\n",
    "\\end{matrix}\\\\\n",
    "&\\xrightarrow{C}&\\\\\n",
    "\\end{matrix}\n",
    "\\boxed{3}$"
   ]
  },
  {
   "cell_type": "markdown",
   "id": "7318604d",
   "metadata": {
    "direction": "rtl"
   },
   "source": [
    "<p style = \"font-family:B Nazanin;\">\n",
    "     در این حالت، تعداد حالت‌هایی که از شهر 1 به شهر 3 برویم و از شهر 2 نیز حتما عبور کنیم، از اصل ضرب به دست می‌آید و برابر است با $3\\times2=6$. این حالت‌ها عبارتند از:\n",
    "</p>"
   ]
  },
  {
   "cell_type": "markdown",
   "id": "801246fd",
   "metadata": {},
   "source": [
    "$(A,D), (A, E), (B, D), (B, E), (C, D), (C, E)$"
   ]
  },
  {
   "cell_type": "markdown",
   "id": "87adf0f4",
   "metadata": {
    "direction": "rtl"
   },
   "source": [
    "<p style = \"font-family:B Nazanin;\">\n",
    "     به عنوان مثالی دیگر اگر در یک رستوران 5 نوع غذا و 3 نوع نوشیدنی وجود داشته باشد، اگر بخواهیم حتما هم غذا و هم نوشیدنی انتخاب کنیم، تعداد کل حالت‌های سفارش برابر است با $5\\times3=15$. <br>\n",
    "    مثال دیگر. با ارقام 5 و 4 و 3 و 9 و 7 می‌خواهیم اعداد سه رقمی بدون تکرار ارقام بنویسیم. برای نوشتن این عدد باید 3 رقم برای جایگاه‌های صدگان، دهگان و یکان انتخاب کنیم. برای انتخاب رقم صدگان 5 حالت انتخاب داریم (چون از بین این 5 رقم باید انتخاب کنیم). برای رقم دهگان، چون نمی‌خواهیم ارقام تکراری باشند و یک رقم را در جایگاه صدگان استفاده کردیم، پس 4 رقم باقی می‌ماند که می‌توانیم استفاده کنیم. پس 4 حالت داریم و برای جایگاه یکان، چون قبلا دو رقم استفاده شده‌است، پس 3 حالت انتخاب باقی می‌ماند. پس در کل برای نوشتن یک عدد سه رقمی (بر اساس اصل ضرب)، $5\\times4\\times3=60$ حالت انتخاب داریم. یعنی با این رقم‌های گفته‌شده 60 عدد سه رقمی بدون تکرار ارقام می‌توان نوشت. <br>\n",
    "    در مثال قبل اگر محدودیت تکراری نبودن ارقام را نداشتیم، در همه جایگاه‌های صدگان، دهگان و یکان می‌توانستیم 5 رقم استفاده کنیم، پس تعداد کل حالات $5\\times5\\times5=125$ عدد می‌توانستیم بنویسیم. <br>\n",
    "    <br>\n",
    "    <b>اصل جمع:</b> زمانی استفاده می‌شود که حق انتخاب بین چند حالت ممکن داشته باشیم و بین چند حالت مختلف بتوانیم یکی را انتخاب کنیم. در این صورت تعداد کل حالات انتخاب برابر است با جمع تعداد حالت انتخاب هر یک از موارد ممکن. <br>\n",
    "    به عنوان مثال اگر در یک کافه 5 مدل بستنی و 3 مدل قهوه وجود داشته باشد و ما بخواهیم فقط یک مورد را انتخاب کنیم، چون حق انتخاب داریم پس در کل می‌توانیم به $5 + 3 = 8$ حالت مختلف سفارش دهیم. <br>\n",
    "    مثال دیگر. تعداد مسیرهای بین چهار شهر مختلف به صورت زیر است. سه مسیر بین شهر 1 و 2. یک مسیر بین شهر 2 و 4. دو مسیر بین شهر 1 و 3. پنج مسیر بین شهر 3 و 4. می‌خواهیم از شهر 1 به شهر 4 برویم. \n",
    "</p>"
   ]
  },
  {
   "cell_type": "markdown",
   "id": "c0a500c2",
   "metadata": {},
   "source": [
    "$\n",
    "\\begin{matrix}\n",
    "&\\xrightarrow{A}\\\\\n",
    "\\boxed{1}&\\xrightarrow{B}&\\boxed{2}\\\\\n",
    "&\\xrightarrow{C}\n",
    "\\end{matrix}\n",
    "\\hspace{1cm}\n",
    "\\begin{matrix}\n",
    "\\boxed{2}&\\xrightarrow{D}&\\boxed{4}\\\\\n",
    "\\end{matrix}\\\\\n",
    "\\begin{matrix}\n",
    "&\\xrightarrow{E}\\\\\n",
    "\\boxed{1}&&\\boxed{3}\\\\\n",
    "&\\xrightarrow{F}\n",
    "\\end{matrix}\n",
    "\\hspace{1cm}\n",
    "\\begin{matrix}\n",
    "&\\xrightarrow{G}\\\\\n",
    "&\\xrightarrow{H}\\\\\n",
    "\\boxed{3}&\\xrightarrow{I}&\\boxed{4}\\\\\n",
    "&\\xrightarrow{J}\\\\\n",
    "&\\xrightarrow{K}\n",
    "\\end{matrix}\n",
    "$"
   ]
  },
  {
   "cell_type": "markdown",
   "id": "ab6d1490",
   "metadata": {
    "direction": "rtl"
   },
   "source": [
    "<p style = \"font-family:B Nazanin;\">\n",
    "     از دو مسیر می‌توانیم برویم. از شهر 1 به شهر 2 و سپس به شهر 4 یا از شهر 1 به شهر 3 و سپس به شهر 4. اگر بخواهیم از مسیر بالا برویم (1 به 2 به 4) طبق اصل ضرب $3\\times1=3$ حالت انتخاب داریم و اگر بخواهیم از مسیر پایین (1 به 3 به 4) طبق اصل ضرب $2\\times5=10$ حالت انتخاب داریم و چون بین این دو مسیر حق انتخاب داریم، طبق اصل جمع $3 + 10 = 13$ حالت انتخاب برای رفتن از شهر 1 به شهر 4 داریم. <br>\n",
    "    <br>\n",
    "    <b>اصل ترکیب:</b> به تعداد راه‌هایی که می‌توان از یک مجموعه بدون در نظر گرفتن ترتیب، تعدادی از عناصرش را انتخاب کنیم تا یک زیر مجموعه بسازیم، ترکیب می‌گویند. مثلا مجموعه {a, b, c, d} را در نظر بگیرید. تمام زیرمجموعه‌های دو عضوی از این مجموعه برابرند با: {a,b} و {a, c} و {a, d} و {b, c} و {b, d} و {c, d}. برای محاسبه تعداد کل حالات انتخاب در این اصل از فرمول زیر استفاده می‌کنیم. بنابراین اگر بخواهیم از یک مجموعه n عضوی، زیرمجموعه k عضوی انتخاب کنیم، تعداد کل حالات برابر است با:\n",
    "</p>"
   ]
  },
  {
   "cell_type": "markdown",
   "id": "edc31faf",
   "metadata": {},
   "source": [
    "$$\n",
    "C(n, k) = \\left(\\begin{array}{c}n\\\\k\\end{array}\\right) = \\frac{n!}{(n-k)!k!}\n",
    "$$"
   ]
  },
  {
   "cell_type": "markdown",
   "id": "8d36c9cd",
   "metadata": {
    "direction": "rtl"
   },
   "source": [
    "<p style = \"font-family:B Nazanin;\">\n",
    "     به عنوان مثال تعداد حالت‌های انتخاب 3 مهره از بین 6 مهره برابر است با:\n",
    "</p>"
   ]
  },
  {
   "cell_type": "markdown",
   "id": "e01f5d22",
   "metadata": {},
   "source": [
    "$$\n",
    "C(6, 3) = \\frac{6!}{3!\\times3!} = 20\n",
    "$$"
   ]
  },
  {
   "cell_type": "markdown",
   "id": "c594011a",
   "metadata": {
    "direction": "rtl"
   },
   "source": [
    "<p style = \"font-family:B Nazanin;\">\n",
    "     مثال دیگر. از میان 4 مرد و 5 زن می‌خواهیم یک هیئت 3 نفره تشکیل دهیم. تعداد کل حالات ممکن برابر است با:\n",
    "</p>"
   ]
  },
  {
   "cell_type": "markdown",
   "id": "ad16c85b",
   "metadata": {},
   "source": [
    "$$\n",
    "\\left(\\begin{array}{c}9\\\\3\\end{array}\\right) = \\frac{9!}{6!\\times3!} = 84\n",
    "$$"
   ]
  },
  {
   "cell_type": "markdown",
   "id": "102844be",
   "metadata": {
    "direction": "rtl"
   },
   "source": [
    "<p style = \"font-family:B Nazanin;\">\n",
    "     مثال دیگر. از میان 10 مرد و 7 زن می‌خواهیم 5 نفر انتخاب کنیم که شامل 3 مرد و 2 زن باشد. پس باید از بین 10 مرد، 3 نفر و از بین 7 زن، 2 نفر را انتخاب کنیم. همچنین چون باید هم مرد و هم زن انتخاب کنیم و بین این دو حالت and وجود دارد، پس با استفاده از اصل ضرب تعداد کل حالات برابر است با حاصل‌ضرب این دو عدد. \n",
    "</p>"
   ]
  },
  {
   "cell_type": "markdown",
   "id": "955094be",
   "metadata": {},
   "source": [
    "$$\n",
    "\\left(\\begin{array}{c}10\\\\3\\end{array}\\right) \\times \\left(\\begin{array}{c}7\\\\2\\end{array}\\right) = \\frac{10!}{7! \\times 3!} \\times \\frac{7!}{5! \\times 2!} = 120 \\times 21 = 2520\n",
    "$$"
   ]
  },
  {
   "cell_type": "markdown",
   "id": "f6e4c5e2",
   "metadata": {
    "direction": "rtl"
   },
   "source": [
    "<p style = \"font-family:B Nazanin;\">\n",
    "    <b>اصل جایگشت:</b> تعداد راه‌هایی که می‌توانیم از یک مجموعه شامل عناصر مختلف، با در نظر گرفتن ترتیب انتخاب آن عناصر، یک زیرمجموعه بسازیم. اگر بخواهیم از میان یک مجموعه n عضوی، k عضو را به‌ترتیب انتخاب کنیم، تعداد کل حالات ممکن برابر است با: \n",
    "</p>"
   ]
  },
  {
   "cell_type": "markdown",
   "id": "b65c0856",
   "metadata": {},
   "source": [
    "$$\n",
    "P(n, k) = \\frac{n!}{(n-k)!}\n",
    "$$"
   ]
  },
  {
   "cell_type": "markdown",
   "id": "596adbf9",
   "metadata": {
    "direction": "rtl"
   },
   "source": [
    "<p style = \"font-family:B Nazanin;\">\n",
    "     به عنوان مثال، می‌خواهیم تعداد جایگشت‌های سه حرف a و b و c را پیدا کنیم. یعنی این سه حرف را به چه ترتیب‌هایی می‌توان کنار هم نوشت. همان طور که مشخص است می‌توان گفت که این سه حرف را به 6 صورت مختلف abc و acb و bac و bca و cab و cba کنار هم نوشت. با استفاده از فرمول نیز می‌توان گفت که می‌خواهیم از میان 3 حرف، 3 حرف را به ترتیب انتخاب کنیم:\n",
    "</p>"
   ]
  },
  {
   "cell_type": "markdown",
   "id": "82ae0394",
   "metadata": {},
   "source": [
    "$$\n",
    "P(3, 3) = \\frac{3!}{(3-3)!} = \\frac{3\\times2\\times1}{1} = 6\n",
    "$$"
   ]
  },
  {
   "cell_type": "markdown",
   "id": "95352fe4",
   "metadata": {
    "direction": "rtl"
   },
   "source": [
    "<p style = \"font-family:B Nazanin;\">\n",
    "     مثال دیگر. تعداد کلمات 7 حرفی که با استفاده از 7 حرف a, b, c, d, e, f, g بدون تکرار حروف می‌توان نوشت. برای حل این مثال هم می‌توان از اصل ضرب استفاده کرد به این صورت که برای حرف اول 7 حالت انتخاب داریم. چون تکرار نباید داشته باشیم، برای حرف دوم 6 حالت، حرف سوم 5 حالت و به همین ترتیب برای حرف هفتم 1 حالت انتخاب و تعداد کل کلمات ممکن برابر است با $7\\times6\\times5\\times4\\times3\\times2\\times1=7!$. هم می‌توان از اصل جایگشت استفاده کرد. به این صورت که می‌خواهیم از بین 7 حرف، 7 حرف را انتخاب کنیم و ترتیب نیز مهم است چون جایگاه حروف در کلمه مهم است و جایگاه هر حرف که عوض شود، کل کلمه عوض می‌شود. \n",
    "</p>"
   ]
  },
  {
   "cell_type": "markdown",
   "id": "51182b30",
   "metadata": {},
   "source": [
    "$$\n",
    "P(7, 7) = \\frac{7!}{(7-7)!} = 7!\n",
    "$$"
   ]
  },
  {
   "cell_type": "markdown",
   "id": "ed7914ea",
   "metadata": {
    "direction": "rtl"
   },
   "source": [
    "<p style = \"font-family:B Nazanin;\">\n",
    "     مثال دیگر. انتخاب رتبه‌های اول و دوم و سوم از بین 7 نفر. یعنی جایگشت 3 نفر از 7 نفر:\n",
    "</p>"
   ]
  },
  {
   "cell_type": "markdown",
   "id": "d5bc0d8a",
   "metadata": {},
   "source": [
    "$$\n",
    "P(7, 3) = \\frac{7!}{(7-3)!} = \\frac{7!}{4!} = 7\\times6\\times5 = 210\n",
    "$$"
   ]
  },
  {
   "cell_type": "markdown",
   "id": "9ec8bea8",
   "metadata": {
    "direction": "rtl"
   },
   "source": [
    "<p style = \"font-family:B Nazanin;\">\n",
    "    <b>مفاهیم اولیه احتمال:</b><br>\n",
    "    <b>فضای نمونه‌ای (S):</b> مجموعه تمام حالت‌هایی است که در یک آزمایش تصادفی اتفاق می‌افتد. مثلا وقتی یک نفر در یک آزمون شرکت می‌کند، فضای نمونه‌ای برابر است با قبول شدن یا رد شدن. یا وقتی دو تیم A و B با هم مسابقه می‌دهند، فضای نمونه‌ای می‌شود: برنده شدن A، برنده شدن B و مساوی شدن. چند مثال: <br>\n",
    "    فضای نمونه‌ای پرتاب یک سکه: شیر یا خط. S = {H, T} <br>\n",
    "    فضای نمونه‌ای پرتاب یک تاس: اعداد 1 تا 6. S = {1, 2, 3, 4, 5, 6} <br>\n",
    "    فضای نمونه‌ای داشتن سه فرزند: (G: دختر B: پسر) S = {GGG, GGB, GBG, GBB, BGG, BGB, BBG, BBB} یعنی n(S) = 8<br>\n",
    "    فضای نمونه‌ای پرتاب دو سکه: S = {HH, HT, TH, TT}<br>\n",
    "    فضای نمونه‌ای پرتاب یک سکه و یک تاس: S = {1H, 1T, 2H, 2T, 3H, 3T, 4H, 4T, 5H, 5T, 6H, 6T} <br>\n",
    "    فضای نمونه‌ای پرتاب دو تاس در صورتی که حاصل جمع دو عدد بیشتر از 9 باشد: S = {(4,6), (6,4), (5,5), (5,6), (6,5), (6,6)}<br>\n",
    "    <br>\n",
    "    <b>پیشامد (رویداد):</b> هر زیرمجموعه از فضای نمونه‌ای را پیشامد (رویداد) می‌گویند. <br>\n",
    "    مثال 1. اگر یک سکه را دو بار پرتاب کنیم: فضای نمونه‌ای S = {HH, HT, TT, TH} <br>\n",
    "    پیشامد اینکه اصلا شیر ظاهر نشود: A = {TT} <br>\n",
    "    پیشامد اینکه در پرتاب دوم خط ظاهر شود: B = {TT, HT} <br>\n",
    "    <br>\n",
    "    مثال 2. در یک خانواده سه نفره: S = {GGG, GGB, GBG, GBB, BGG, BGB, BBG, BBB}<br>\n",
    "    پیشامد اینکه فرزند اول پسر باشد: A = {BGG, BGB, BBG, BBB} <br>\n",
    "    پیشامد اینکه هر سه فرزند با یک جنسیت باشند: B = {GGG, BBB} <br>\n",
    "    پیشامد اینکه دو فرزند پشت سر هم با یک جنسیت باشند: C = {GGG, GGB, GBB, BBB, BGG, BBG} <br>\n",
    "    پیشامد اینکه هر سه فرزند پسر نباشند: D = {GGG, GGB, GBG, GBB, BGG, BGB, BBG} <br>\n",
    "    <br>\n",
    "    <b>احتمال:</b> شانس وقوع یک پیشامد را احتمال آن پیشامد می‌گویند. احتمال همیشه عددی بین صفر و یک است که برابر است با نسبت تعداد اعضای آن پیشامد تقسیم بر تعداد کل اعضای فضای نمونه. یا به عبارتی دیگر نسبت تعداد حالات مطلوب به تعداد کل حالات ممکن. پس اگر S فضای نمونه‌ای و A یک پیشامد باشد، احتمال وقوع پیشامد A برابر است با $$P(A) = \\frac{n(A)}{n(S)}$$ چند مثال: <br>\n",
    "    مثال 1. در پرتاب یک تاس: $S = \\{1, 2, 3, 4, 5, 6\\}\\rightarrow n(S) = 6$<br>\n",
    "    احتمال اینکه عدد 5 بیاید. \n",
    "</p>"
   ]
  },
  {
   "cell_type": "markdown",
   "id": "60a7390c",
   "metadata": {},
   "source": [
    "$$\n",
    "A = \\{5\\} \\rightarrow n(A) = 1 \\rightarrow P(A) = \\frac{n(A)}{n(S)} = \\frac{1}{6}\n",
    "$$"
   ]
  },
  {
   "cell_type": "markdown",
   "id": "1f478501",
   "metadata": {
    "direction": "rtl"
   },
   "source": [
    "<p style = \"font-family:B Nazanin;\">\n",
    "     احتمال اینکه عدد زوج باشد: \n",
    "</p>"
   ]
  },
  {
   "cell_type": "markdown",
   "id": "25f2d82d",
   "metadata": {},
   "source": [
    "$$\n",
    "B = \\{2, 4, 6\\} \\rightarrow n(B) = 3 \\rightarrow P(B) = \\frac{3}{6} = \\frac{1}{2}\n",
    "$$"
   ]
  },
  {
   "cell_type": "markdown",
   "id": "16345f47",
   "metadata": {
    "direction": "rtl"
   },
   "source": [
    "<p style = \"font-family:B Nazanin;\">\n",
    "     احتمال اینکه عدد اول باشد:\n",
    "</p>"
   ]
  },
  {
   "cell_type": "markdown",
   "id": "a99c9772",
   "metadata": {},
   "source": [
    "$$\n",
    "C = \\{2, 3, 5\\} \\rightarrow n(C) = 3 \\rightarrow P(C) = \\frac{3}{6} = \\frac{1}{2}\n",
    "$$"
   ]
  },
  {
   "cell_type": "markdown",
   "id": "02d52704",
   "metadata": {
    "direction": "rtl"
   },
   "source": [
    "<p style = \"font-family:B Nazanin;\">\n",
    "     مثال 2. برای یک خانواده سه نفری: $S = \\{GGG, GGB, GBG, GBB, BGG, BGB, BBG, BBB\\} \\rightarrow n(S) = 8$ <br>\n",
    "    احتمال اینکه هر سه فرزند از یک جنسیت باشند: \n",
    "</p>"
   ]
  },
  {
   "cell_type": "markdown",
   "id": "3eb8bd3d",
   "metadata": {},
   "source": [
    "$$\n",
    "A = \\{GGG, BBB\\} \\rightarrow n(A) = 2 \\rightarrow P(A) = \\frac{2}{8} = \\frac{1}{4} = 25\\%\n",
    "$$"
   ]
  },
  {
   "cell_type": "markdown",
   "id": "03a222c1",
   "metadata": {
    "direction": "rtl"
   },
   "source": [
    "<p style = \"font-family:B Nazanin;\">\n",
    "     احتمال اینکه فقط یکی از فرزندان پسر باشد:\n",
    "</p>"
   ]
  },
  {
   "cell_type": "markdown",
   "id": "25eafd3a",
   "metadata": {},
   "source": [
    "$$\n",
    "B = \\{GGB, GBG, BGG\\} \\rightarrow n(B) = 3 \\rightarrow P(B) = \\frac{3}{8}\n",
    "$$"
   ]
  },
  {
   "cell_type": "markdown",
   "id": "6ea73918",
   "metadata": {
    "direction": "rtl"
   },
   "source": [
    "<p style = \"font-family:B Nazanin;\">\n",
    "     احتمال اینکه حداقل یکی از فرزندان دختر باشد:\n",
    "</p>"
   ]
  },
  {
   "cell_type": "markdown",
   "id": "aaefb77a",
   "metadata": {},
   "source": [
    "$$\n",
    "D = \\{GGG, GGB, GBG, GBB, BGG, BGB, BBG\\} \\rightarrow n(D) = 7 \\rightarrow P(D) = \\frac{7}{8}\n",
    "$$"
   ]
  },
  {
   "cell_type": "markdown",
   "id": "20a17e3e",
   "metadata": {
    "direction": "rtl"
   },
   "source": [
    "<p style = \"font-family:B Nazanin;\">\n",
    "     مثال 3. در پرتاب دو تاس: $n(S) = 36$ <br>\n",
    "    احتمال اینکه مجموع دو عدد بیشتر از 8 باشد: \n",
    "</p>"
   ]
  },
  {
   "cell_type": "markdown",
   "id": "42e27ad5",
   "metadata": {},
   "source": [
    "$$\n",
    "A = \\{(4,5), (5,4), (5,5), (4,6), (6,4), (5,6), (6,5), (6,6)\\} \\rightarrow n(A) = 8 \\rightarrow P(A) = \\frac{8}{36} = \\frac{2}{9}\n",
    "$$"
   ]
  },
  {
   "cell_type": "markdown",
   "id": "84d34839",
   "metadata": {
    "direction": "rtl"
   },
   "source": [
    "<p style = \"font-family:B Nazanin;\">\n",
    "     احتمال اینکه ضرب دو عدد 10 باشد:\n",
    "</p>"
   ]
  },
  {
   "cell_type": "markdown",
   "id": "20598fbc",
   "metadata": {},
   "source": [
    "$$\n",
    "B = \\{(2,5), (5,2)\\} \\rightarrow n(B) = 2 \\rightarrow P(B) = \\frac{2}{36}\n",
    "$$"
   ]
  },
  {
   "cell_type": "markdown",
   "id": "3256d176",
   "metadata": {
    "direction": "rtl"
   },
   "source": [
    "<p style = \"font-family:B Nazanin;\">\n",
    "     احتمال اینکه دو عدد برابر باشند:\n",
    "</p>"
   ]
  },
  {
   "cell_type": "markdown",
   "id": "b2252095",
   "metadata": {},
   "source": [
    "$$\n",
    "C = \\{(1,1), (2,2), (3,3), (4,4), (5,5), (6,6)\\} \\rightarrow n(C) = 6 \\rightarrow P(C) = \\frac{6}{36} = \\frac{1}{6}\n",
    "$$"
   ]
  },
  {
   "cell_type": "markdown",
   "id": "1e9b07e9",
   "metadata": {
    "direction": "rtl"
   },
   "source": [
    "<p style = \"font-family:B Nazanin;\">\n",
    "    <b>احتمال شرطی:</b> احتمال شرطی به احتمال وقوع یک پیشامد به شرط وقوع یک پیشامد دیگر می‌گویند. یعنی احتمال A به شرط B یا $P(A|B)$ یعنی احتمال وقوع پیشامد A در حالی که می‌دانیم پیشامد B رخ داده‌است. در این حالت فرمول محاسبه احتمال به این صورت تغییر می‌کند که احتمال برابر است با تعداد حالاتی که هر دو پیشامد A و B همزمان رخ دهند (اشتراک پیشامد A و B) تقسیم بر تعداد حالات پیشامد B.\n",
    "</p>"
   ]
  },
  {
   "cell_type": "markdown",
   "id": "5e1e6c8c",
   "metadata": {},
   "source": [
    "$$\n",
    "P(A|B) = \\frac{n(A\\cap B)}{n(B)} = \\frac{P(A \\cap B)}{P(B)}\n",
    "$$"
   ]
  },
  {
   "cell_type": "markdown",
   "id": "56f3ee9a",
   "metadata": {
    "direction": "rtl"
   },
   "source": [
    "<p style = \"font-family:B Nazanin;\">\n",
    "     به عنوان مثال اگر بگوییم یک مشتری یک روز از ماه را به مغازه‌ای می‌آید. احتمال اینکه این مشتری به مغازه بیاید $\\frac{1}{30}$ است چون ماه 30 روز دارد. اما اگر بدانیم در طول ماه مغازه 10 روز تعطیل است، احتمال آمدن این مشتری به مغازه $\\frac{1}{20}$ می‌شود. چند مثال: <br>\n",
    "    مثال 1. در پرتاب دو تاس می‌دانیم حاصل جمع دو عدد 8 است. احتمال اینکه هر دو عدد زوج باشد چقدر است؟ <br>\n",
    "    روش اول)\n",
    "</p>"
   ]
  },
  {
   "cell_type": "markdown",
   "id": "b263490a",
   "metadata": {},
   "source": [
    "$$\n",
    "S = \\{(4,4), (3,5), (5,3), (2,6), (6,2)\\} , A = \\{(4,4), (6,2), (2,6)\\} \\rightarrow P(A) = \\frac{3}{5}\n",
    "$$"
   ]
  },
  {
   "cell_type": "markdown",
   "id": "df8aa3ed",
   "metadata": {
    "direction": "rtl"
   },
   "source": [
    "<p style = \"font-family:B Nazanin;\">\n",
    "     روش دوم) فضای نمونه $n(S) = 36$ و پیشامد A پیشامد این است که هر دو عدد زوج باشد و پیشامد B پیشامد این است که حاصل جمع دو عدد 8 باشد , $A \\cap B$ پیشامد این است که هم مجموع دو عدد 8 باشد و هم هر دو عدد زوج باشد:\n",
    "</p>"
   ]
  },
  {
   "cell_type": "markdown",
   "id": "c25660c3",
   "metadata": {},
   "source": [
    "$$\n",
    "A = \\{(2,2), (2,4), (2,6), (4,2), (4,4), (4,6), (6,2), (6,4), (6,6)\\} \\rightarrow n(A) = 9 \\\\\n",
    "B = \\{(3,5), (5,3), (4,4), (2,6), (6,2)\\} \\rightarrow n(B) = 5 \\\\\n",
    "A \\cap B = \\{(4,4), (6,2), (2,6)\\} \\rightarrow n(A \\cap B) = 3 \\\\\n",
    "P(A|B) = \\frac{n(A\\cap B)}{n(B)} = \\frac{3}{5}\n",
    "$$"
   ]
  },
  {
   "cell_type": "markdown",
   "id": "23730dc1",
   "metadata": {
    "direction": "rtl"
   },
   "source": [
    "<p style = \"font-family:B Nazanin;\">\n",
    "     مثال 2. در یک خانواده دو فرزندی، اگر بدانیم هر دو فرزند پسر نیستند، احتمال اینکه یکی پسر و یکی دختر باشند چند است؟\n",
    "</p>"
   ]
  },
  {
   "cell_type": "markdown",
   "id": "fd85c61e",
   "metadata": {},
   "source": [
    "$$\n",
    "B = \\{GG, GB, BG\\} , A = \\{BG, GB\\} \\rightarrow n(B) = 3 , n(A \\cap B) = 2 \\rightarrow P(A|B) = \\frac{2}{3}\n",
    "$$"
   ]
  },
  {
   "cell_type": "markdown",
   "id": "3eb889f7",
   "metadata": {
    "direction": "rtl"
   },
   "source": [
    "<p style = \"font-family:B Nazanin;\">\n",
    "     مثال 3. کیسه‌ای دارای دو مهره سیاه و سه مهره سفید است. از آن دو مهره خارج می‌کنیم. اگر بدانیم دو مهره همرنگ هستند، احتمال اینکه هر دو مهره سفید باشند چقدر است؟ در اینجا کل حالات ممکن که دو مهره همرنگ باشند برابر است با اینکه یا دو مهره سفید باشند یعنی ترکیب 2 از 3 یعنی $\\left(\\begin{array}{c}3\\\\2\\end{array}\\right)$ یا دو مهره سیاه باشند یعنی ترکیب 2 از 2 یا $\\left(\\begin{array}{c}2\\\\2\\end{array}\\right)$ و تعداد حالات مطلوب برابر است با اینکه هر دو مهره سفید باشند یعنی ترکیب 2 از 3 یا $\\left(\\begin{array}{c}3\\\\2\\end{array}\\right)$.\n",
    "</p>"
   ]
  },
  {
   "cell_type": "markdown",
   "id": "8c9ab805",
   "metadata": {},
   "source": [
    "$$\n",
    "P(A|B) = \\frac{\\left(\\begin{array}{c}3\\\\2\\end{array}\\right)}{\\left(\\begin{array}{c}3\\\\2\\end{array}\\right) + \\left(\\begin{array}{c}2\\\\2\\end{array}\\right)} = \\frac{3}{3+1} = \\frac{3}{4}\n",
    "$$"
   ]
  },
  {
   "cell_type": "markdown",
   "id": "8aef59fe",
   "metadata": {
    "direction": "rtl"
   },
   "source": [
    "<p style = \"font-family:B Nazanin;\">\n",
    "    <b>پیشامدهای سازگار و ناسازگار:</b> اگر اشتراک دو پیشامد A و B، تهی باشد ($A \\cap B = \\emptyset$) به آن دو پیشامد، ناسازگار می‌گویند؛ یعنی امکان ندارد این دو پیشامد با هم و همزمان اتفاق بیفتد. مثلا در یک خانواده سه فرزندی، پیشامد اینکه فرزند اول پسر باشد و پیشامد اینکه هر سه فرزند دختر باشند، ناسازگار است. <br>\n",
    "    مثال 1. در یک خانواده سه فرزندی، پیشامد A این است که فرزند اول و دوم متفاوت باشند. پیشامد B این است که حداقل دو فرزند دختر باشند و پیشامد C این است که سه فرزند دختر باشند. \n",
    "</p>"
   ]
  },
  {
   "cell_type": "markdown",
   "id": "b747e611",
   "metadata": {},
   "source": [
    "$$\n",
    "A = \\{BGG, BGB, GBG, GBB\\},\\quad\n",
    "B = \\{GGG, GGB, GBG, BGG\\},\\quad \n",
    "C = \\{GGG\\} \\\\\n",
    "\\rightarrow\n",
    "A \\cap B = \\{BGG, GBG\\} \\neq \\emptyset, \\quad\n",
    "A \\cap C = \\emptyset, \\quad\n",
    "B \\cap C = \\{GGG\\} \\neq \\emptyset\n",
    "$$"
   ]
  },
  {
   "cell_type": "markdown",
   "id": "4f65f835",
   "metadata": {
    "direction": "rtl"
   },
   "source": [
    "<p style = \"font-family:B Nazanin;\">\n",
    "    بنابراین پیشامدهای A و B سازگار، پیشامدهای A و C ناسازگار و پیشامدهای B و C سازگارند. <br>\n",
    "    <br>\n",
    "    <b>پیشامدهای مستقل و وابسته:</b> اگر بودن یا نبودن یک پیشامد در یک پیشامد دیگر تاثیر بگذارد، به آن دو پیشامد وابسته می‌گویند. یعنی اتفاق افتادن یک پیشامد تحت تاثیر اتفاق افتادن یک پیشامد دیگر است. اما اگر پیشامدها ربطی به هم نداشتند و روی هم اثری نمی‌گذاشتند، به آن‌ها مستقل می‌گویند. مثلا در تولد فرزندان یک خانواده، پسر یا دختر بودن فرزند اول، روی پسر یا دختر بودن فرزند دوم تاثیری ندارد. پس این دو پیشامد مستقل هستند. برای بررسی مستقل یا وابسته بودن دو پیشامد می‌توانیم از فرمول زیر استفاده کنیم. دو پیشامد زمانی نسبت به هم مستقل هستند که احتمال اشتراک آن دو پیشامد با حاصل‌ضرب احتمال آن دو پیشامد برابر باشد. \n",
    "</p>"
   ]
  },
  {
   "cell_type": "markdown",
   "id": "920d13b8",
   "metadata": {},
   "source": [
    "$$\n",
    "P(A \\cap B) = P(A) \\times P(B) \\quad\\therefore\\quad Independent\n",
    "$$"
   ]
  },
  {
   "cell_type": "markdown",
   "id": "1e25fa31",
   "metadata": {
    "direction": "rtl"
   },
   "source": [
    "<p style = \"font-family:B Nazanin;\">\n",
    "    مثال 1. در پرتاب دو تاس، پیشامد A مشاهده عدد 3 در تاس اول و پیشامد B مجموع 7 برای دو تاس است. با توجه به محاسبات زیر دو پیشامد مستقل هستند.\n",
    "</p>"
   ]
  },
  {
   "cell_type": "markdown",
   "id": "a1864d29",
   "metadata": {},
   "source": [
    "$\n",
    "n(S) = 36\\\\\n",
    "A = \\{(3,1), (3,2), (3,3), (3,4), (3,5), (3,6)\\} \\quad \\rightarrow n(A) = 6 \\quad \\rightarrow P(A) = \\frac{1}{6}\\\\\n",
    "B = \\{(3,4), (4,3), (5,2), (2,5), (6,1), (1,6)\\} \\quad \\rightarrow n(B) = 6 \\quad \\rightarrow P(B) = \\frac{1}{6}\\\\\n",
    "A \\cap B = \\{(3,4)\\} \\quad \\rightarrow n(A\\cap B) = 1 \\quad \\rightarrow P(A\\cap B) = \\frac{1}{36} \\\\\n",
    "P(A\\cap B) = P(A) \\times P(B)\n",
    "$"
   ]
  },
  {
   "cell_type": "markdown",
   "id": "475182ae",
   "metadata": {
    "direction": "rtl"
   },
   "source": [
    "<p style = \"font-family:B Nazanin;\">\n",
    "    مثال 2. یک سکه را سه بار پرتاب می‌کنیم. پیشامد A مشاهده خط در پرتاب دوم و پیشامد B مشاهده فقط دو بار شیر در پرتاب‌های متوالی است. با توجه به محاسبات زیر، دو پیشامد وابسته هستند.\n",
    "</p>"
   ]
  },
  {
   "cell_type": "markdown",
   "id": "3d2e6c9f",
   "metadata": {},
   "source": [
    "$\n",
    "n(S) = 8\\\\\n",
    "A = \\{TTT, TTH, HTH, HTT\\} \\quad \\rightarrow n(A) = 4 \\quad \\rightarrow P(A) = \\frac{1}{2}\\\\\n",
    "B = \\{HHT, THH, HTH\\} \\quad \\rightarrow n(B) = 3 \\quad \\rightarrow P(B) = \\frac{3}{8}\\\\\n",
    "A \\cap B = \\{HTH\\} \\quad \\rightarrow n(A\\cap B) = 1 \\quad \\rightarrow P(A\\cap B) = \\frac{1}{8} \\\\\n",
    "P(A\\cap B) \\neq P(A) \\times P(B)\n",
    "$"
   ]
  }
 ],
 "metadata": {
  "direction": "ltr",
  "kernelspec": {
   "display_name": "Python 3 (ipykernel)",
   "language": "python",
   "name": "python3"
  },
  "language_info": {
   "codemirror_mode": {
    "name": "ipython",
    "version": 3
   },
   "file_extension": ".py",
   "mimetype": "text/x-python",
   "name": "python",
   "nbconvert_exporter": "python",
   "pygments_lexer": "ipython3",
   "version": "3.11.2"
  }
 },
 "nbformat": 4,
 "nbformat_minor": 5
}
